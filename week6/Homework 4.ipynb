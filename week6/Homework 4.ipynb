{
 "cells": [
  {
   "cell_type": "markdown",
   "metadata": {},
   "source": [
    "# Homework 4 (Due Tuesday, May 10th at 7pm PST)"
   ]
  },
  {
   "cell_type": "markdown",
   "metadata": {},
   "source": [
    "## Build A Classification Model w/ BBC News / BBC Sport (7pts)\n",
    "\n",
    "Build a classification model using the **BBC News or BBC Sport articles dataset** that is able to predict on a hold-out set the sentiment of the reviews with at minimum 92% accuracy (do not round). You can pick ONE of the topics to be your positive class, and label everything else to be negative.\n",
    "\n",
    "You may incorporate as many samples as you wish. However, **the class balance in your training and test set must be 50/50**.\n",
    "\n",
    "You will likely need to include some preprocessing techniques that we have learned about so far in this course.\n",
    "\n",
    "If you are unable to achieve 92% accuracy, then please show in this notebook at least **3 different models**:\n",
    "* one count vectorizer model\n",
    "* one model that uses `word2vec`\n",
    "* one sequential / transformer-based / deep-learning with embeddings model\n",
    "\n",
    "Focus on:\n",
    "* feature preprocessing steps (what we've learned earlier in this course)\n",
    "* proper implementation of the models\n",
    "* using the right metrics to evaluate your model performance\n",
    "\n",
    "**Make sure to cite your sources if you use other people's code or ideas.**"
   ]
  },
  {
   "cell_type": "markdown",
   "metadata": {},
   "source": [
    "## Perform Topic Modelling (3 pts)\n",
    "\n",
    "Perform topic modelling on the `news_categories.csv` dataset. This dataset is from [News Category Dataset, Akash Gupta](https://www.kaggle.com/datasets/akash14/news-category-dataset). You may use the link to find what each `SECTION` integer maps to in terms of a human-readable category."
   ]
  },
  {
   "cell_type": "markdown",
   "metadata": {},
   "source": [
    "### Random Seeds"
   ]
  },
  {
   "cell_type": "markdown",
   "metadata": {},
   "source": [
    "Make sure to set the random seeds in your notebook so I can run your results and get the same exact output:\n",
    "\n",
    "```python\n",
    "from numpy.random import seed\n",
    "seed(42)\n",
    "\n",
    "from tensorflow import set_random_seed\n",
    "set_random_seed(32)\n",
    "```"
   ]
  }
 ],
 "metadata": {
  "kernelspec": {
   "display_name": "Python 3",
   "language": "python",
   "name": "python3"
  },
  "language_info": {
   "codemirror_mode": {
    "name": "ipython",
    "version": 3
   },
   "file_extension": ".py",
   "mimetype": "text/x-python",
   "name": "python",
   "nbconvert_exporter": "python",
   "pygments_lexer": "ipython3",
   "version": "3.8.5"
  },
  "toc": {
   "base_numbering": 1,
   "nav_menu": {},
   "number_sections": true,
   "sideBar": true,
   "skip_h1_title": false,
   "title_cell": "Table of Contents",
   "title_sidebar": "Contents",
   "toc_cell": false,
   "toc_position": {},
   "toc_section_display": true,
   "toc_window_display": false
  }
 },
 "nbformat": 4,
 "nbformat_minor": 4
}
