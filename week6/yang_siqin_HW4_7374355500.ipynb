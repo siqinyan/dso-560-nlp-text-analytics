{
 "cells": [
  {
   "cell_type": "markdown",
   "metadata": {},
   "source": [
    "# Homework 4 (Due Tuesday, May 10th at 7pm PST)"
   ]
  },
  {
   "cell_type": "markdown",
   "metadata": {},
   "source": [
    "> This homework is co-completed by **Siqin Yang** (7374355500), **Ningxi Wang** (3605565772) and **Yi Gao** (5948798200) :)"
   ]
  },
  {
   "cell_type": "code",
   "execution_count": 3,
   "metadata": {
    "ExecuteTime": {
     "end_time": "2022-05-13T01:36:10.852864Z",
     "start_time": "2022-05-13T01:36:10.831013Z"
    }
   },
   "outputs": [],
   "source": [
    "import warnings\n",
    "warnings.filterwarnings(\"ignore\", category=FutureWarning)"
   ]
  },
  {
   "cell_type": "code",
   "execution_count": 4,
   "metadata": {
    "ExecuteTime": {
     "end_time": "2022-05-13T01:36:12.265929Z",
     "start_time": "2022-05-13T01:36:12.037628Z"
    }
   },
   "outputs": [],
   "source": [
    "%matplotlib inline\n",
    "import re\n",
    "import numpy as np\n",
    "import pandas as pd\n",
    "from typing import Dict, List\n",
    "from matplotlib import pyplot as plt\n",
    "\n",
    "import spacy\n",
    "from textacy.preprocessing.replace import urls, hashtags, numbers, emails, emojis, currency_symbols\n",
    "from textacy.preprocessing.remove import punctuation\n",
    "from keras.preprocessing.text import Tokenizer\n",
    "from keras.preprocessing.sequence import pad_sequences\n",
    "from tensorflow.keras.utils import to_categorical\n",
    "from sklearn.preprocessing import LabelEncoder\n",
    "from sklearn.model_selection import train_test_split\n",
    "from keras.models import Sequential\n",
    "from keras.layers import Dense, Flatten, Embedding, Masking\n",
    "from keras import optimizers\n",
    "from keras.callbacks import EarlyStopping\n",
    "from keras.layers.recurrent import LSTM\n",
    "\n",
    "from sklearn.decomposition import NMF\n",
    "from sklearn.feature_extraction.text import TfidfVectorizer"
   ]
  },
  {
   "cell_type": "markdown",
   "metadata": {
    "heading_collapsed": true
   },
   "source": [
    "## Build A Classification Model w/ BBC News / BBC Sport (7pts)"
   ]
  },
  {
   "cell_type": "markdown",
   "metadata": {
    "hidden": true
   },
   "source": [
    "Build a classification model using the **BBC News or BBC Sport articles dataset** that is able to predict on a hold-out set the sentiment of the reviews with at minimum 92% accuracy (do not round). You can pick ONE of the topics to be your positive class, and label everything else to be negative.\n",
    "\n",
    "You may incorporate as many samples as you wish. However, **the class balance in your training and test set must be 50/50**.\n",
    "\n",
    "You will likely need to include some preprocessing techniques that we have learned about so far in this course.\n",
    "\n",
    "If you are unable to achieve 92% accuracy, then please show in this notebook at least **3 different models**:\n",
    "* one count vectorizer model\n",
    "* one model that uses `word2vec`\n",
    "* one sequential / transformer-based / deep-learning with embeddings model\n",
    "\n",
    "Focus on:\n",
    "* feature preprocessing steps (what we've learned earlier in this course)\n",
    "* proper implementation of the models\n",
    "* using the right metrics to evaluate your model performance\n",
    "\n",
    "**Make sure to cite your sources if you use other people's code or ideas.**"
   ]
  },
  {
   "cell_type": "code",
   "execution_count": 25,
   "metadata": {
    "ExecuteTime": {
     "end_time": "2022-05-12T18:52:28.472716Z",
     "start_time": "2022-05-12T18:52:28.409157Z"
    },
    "hidden": true
   },
   "outputs": [
    {
     "data": {
      "text/html": [
       "<div>\n",
       "<style scoped>\n",
       "    .dataframe tbody tr th:only-of-type {\n",
       "        vertical-align: middle;\n",
       "    }\n",
       "\n",
       "    .dataframe tbody tr th {\n",
       "        vertical-align: top;\n",
       "    }\n",
       "\n",
       "    .dataframe thead th {\n",
       "        text-align: right;\n",
       "    }\n",
       "</style>\n",
       "<table border=\"1\" class=\"dataframe\">\n",
       "  <thead>\n",
       "    <tr style=\"text-align: right;\">\n",
       "      <th></th>\n",
       "      <th>category</th>\n",
       "      <th>text</th>\n",
       "    </tr>\n",
       "  </thead>\n",
       "  <tbody>\n",
       "    <tr>\n",
       "      <th>0</th>\n",
       "      <td>tech</td>\n",
       "      <td>tv future in the hands of viewers with home th...</td>\n",
       "    </tr>\n",
       "    <tr>\n",
       "      <th>1</th>\n",
       "      <td>business</td>\n",
       "      <td>worldcom boss  left books alone  former worldc...</td>\n",
       "    </tr>\n",
       "    <tr>\n",
       "      <th>2</th>\n",
       "      <td>sport</td>\n",
       "      <td>tigers wary of farrell  gamble  leicester say ...</td>\n",
       "    </tr>\n",
       "    <tr>\n",
       "      <th>3</th>\n",
       "      <td>sport</td>\n",
       "      <td>yeading face newcastle in fa cup premiership s...</td>\n",
       "    </tr>\n",
       "    <tr>\n",
       "      <th>4</th>\n",
       "      <td>entertainment</td>\n",
       "      <td>ocean s twelve raids box office ocean s twelve...</td>\n",
       "    </tr>\n",
       "  </tbody>\n",
       "</table>\n",
       "</div>"
      ],
      "text/plain": [
       "        category                                               text\n",
       "0           tech  tv future in the hands of viewers with home th...\n",
       "1       business  worldcom boss  left books alone  former worldc...\n",
       "2          sport  tigers wary of farrell  gamble  leicester say ...\n",
       "3          sport  yeading face newcastle in fa cup premiership s...\n",
       "4  entertainment  ocean s twelve raids box office ocean s twelve..."
      ]
     },
     "execution_count": 25,
     "metadata": {},
     "output_type": "execute_result"
    }
   ],
   "source": [
    "data_orig = pd.read_csv('../datasets/bbc-text.csv')\n",
    "data_orig.head()"
   ]
  },
  {
   "cell_type": "code",
   "execution_count": 26,
   "metadata": {
    "ExecuteTime": {
     "end_time": "2022-05-12T18:52:31.615651Z",
     "start_time": "2022-05-12T18:52:31.601579Z"
    },
    "hidden": true
   },
   "outputs": [
    {
     "data": {
      "text/plain": [
       "(2225, 2)"
      ]
     },
     "execution_count": 26,
     "metadata": {},
     "output_type": "execute_result"
    }
   ],
   "source": [
    "data_orig.shape"
   ]
  },
  {
   "cell_type": "markdown",
   "metadata": {
    "hidden": true
   },
   "source": [
    "### data preprocess"
   ]
  },
  {
   "cell_type": "markdown",
   "metadata": {
    "hidden": true
   },
   "source": [
    "#### encode labels"
   ]
  },
  {
   "cell_type": "code",
   "execution_count": 27,
   "metadata": {
    "ExecuteTime": {
     "end_time": "2022-05-12T18:52:35.266145Z",
     "start_time": "2022-05-12T18:52:35.260040Z"
    },
    "hidden": true
   },
   "outputs": [
    {
     "data": {
      "text/plain": [
       "array([[0., 0., 0., 0., 1.],\n",
       "       [1., 0., 0., 0., 0.],\n",
       "       [0., 0., 0., 1., 0.],\n",
       "       ...,\n",
       "       [0., 1., 0., 0., 0.],\n",
       "       [0., 0., 1., 0., 0.],\n",
       "       [0., 0., 0., 1., 0.]], dtype=float32)"
      ]
     },
     "execution_count": 27,
     "metadata": {},
     "output_type": "execute_result"
    }
   ],
   "source": [
    "encoder = LabelEncoder()\n",
    "labels = to_categorical(encoder.fit_transform(data_orig['category']))\n",
    "labels"
   ]
  },
  {
   "cell_type": "code",
   "execution_count": 28,
   "metadata": {
    "ExecuteTime": {
     "end_time": "2022-05-12T18:52:37.859424Z",
     "start_time": "2022-05-12T18:52:37.854465Z"
    },
    "hidden": true
   },
   "outputs": [
    {
     "data": {
      "text/plain": [
       "array([510., 386., 417., 511., 401.], dtype=float32)"
      ]
     },
     "execution_count": 28,
     "metadata": {},
     "output_type": "execute_result"
    }
   ],
   "source": [
    "sum(labels)"
   ]
  },
  {
   "cell_type": "markdown",
   "metadata": {
    "hidden": true
   },
   "source": [
    "to get maxmimum sampling w.r.t. 50/50 balance, we choose the first topic"
   ]
  },
  {
   "cell_type": "code",
   "execution_count": 29,
   "metadata": {
    "ExecuteTime": {
     "end_time": "2022-05-12T18:52:52.814014Z",
     "start_time": "2022-05-12T18:52:52.803991Z"
    },
    "hidden": true
   },
   "outputs": [
    {
     "data": {
      "text/plain": [
       "array([0., 0., 1., ..., 0., 0., 1.], dtype=float32)"
      ]
     },
     "execution_count": 29,
     "metadata": {},
     "output_type": "execute_result"
    }
   ],
   "source": [
    "labels = labels.T[3]\n",
    "labels"
   ]
  },
  {
   "cell_type": "code",
   "execution_count": 30,
   "metadata": {
    "ExecuteTime": {
     "end_time": "2022-05-12T18:52:53.627648Z",
     "start_time": "2022-05-12T18:52:53.622796Z"
    },
    "hidden": true
   },
   "outputs": [
    {
     "data": {
      "text/plain": [
       "0.22966292134831462"
      ]
     },
     "execution_count": 30,
     "metadata": {},
     "output_type": "execute_result"
    }
   ],
   "source": [
    "sum(labels) / len(labels)"
   ]
  },
  {
   "cell_type": "code",
   "execution_count": 32,
   "metadata": {
    "ExecuteTime": {
     "end_time": "2022-05-12T18:53:03.866656Z",
     "start_time": "2022-05-12T18:53:03.857950Z"
    },
    "hidden": true
   },
   "outputs": [
    {
     "data": {
      "text/html": [
       "<div>\n",
       "<style scoped>\n",
       "    .dataframe tbody tr th:only-of-type {\n",
       "        vertical-align: middle;\n",
       "    }\n",
       "\n",
       "    .dataframe tbody tr th {\n",
       "        vertical-align: top;\n",
       "    }\n",
       "\n",
       "    .dataframe thead th {\n",
       "        text-align: right;\n",
       "    }\n",
       "</style>\n",
       "<table border=\"1\" class=\"dataframe\">\n",
       "  <thead>\n",
       "    <tr style=\"text-align: right;\">\n",
       "      <th></th>\n",
       "      <th>category</th>\n",
       "      <th>text</th>\n",
       "      <th>label</th>\n",
       "    </tr>\n",
       "  </thead>\n",
       "  <tbody>\n",
       "    <tr>\n",
       "      <th>0</th>\n",
       "      <td>tech</td>\n",
       "      <td>tv future in the hands of viewers with home th...</td>\n",
       "      <td>0.0</td>\n",
       "    </tr>\n",
       "    <tr>\n",
       "      <th>1</th>\n",
       "      <td>business</td>\n",
       "      <td>worldcom boss  left books alone  former worldc...</td>\n",
       "      <td>0.0</td>\n",
       "    </tr>\n",
       "    <tr>\n",
       "      <th>2</th>\n",
       "      <td>sport</td>\n",
       "      <td>tigers wary of farrell  gamble  leicester say ...</td>\n",
       "      <td>1.0</td>\n",
       "    </tr>\n",
       "    <tr>\n",
       "      <th>3</th>\n",
       "      <td>sport</td>\n",
       "      <td>yeading face newcastle in fa cup premiership s...</td>\n",
       "      <td>1.0</td>\n",
       "    </tr>\n",
       "    <tr>\n",
       "      <th>4</th>\n",
       "      <td>entertainment</td>\n",
       "      <td>ocean s twelve raids box office ocean s twelve...</td>\n",
       "      <td>0.0</td>\n",
       "    </tr>\n",
       "    <tr>\n",
       "      <th>...</th>\n",
       "      <td>...</td>\n",
       "      <td>...</td>\n",
       "      <td>...</td>\n",
       "    </tr>\n",
       "    <tr>\n",
       "      <th>2220</th>\n",
       "      <td>business</td>\n",
       "      <td>cars pull down us retail figures us retail sal...</td>\n",
       "      <td>0.0</td>\n",
       "    </tr>\n",
       "    <tr>\n",
       "      <th>2221</th>\n",
       "      <td>politics</td>\n",
       "      <td>kilroy unveils immigration policy ex-chatshow ...</td>\n",
       "      <td>0.0</td>\n",
       "    </tr>\n",
       "    <tr>\n",
       "      <th>2222</th>\n",
       "      <td>entertainment</td>\n",
       "      <td>rem announce new glasgow concert us band rem h...</td>\n",
       "      <td>0.0</td>\n",
       "    </tr>\n",
       "    <tr>\n",
       "      <th>2223</th>\n",
       "      <td>politics</td>\n",
       "      <td>how political squabbles snowball it s become c...</td>\n",
       "      <td>0.0</td>\n",
       "    </tr>\n",
       "    <tr>\n",
       "      <th>2224</th>\n",
       "      <td>sport</td>\n",
       "      <td>souness delight at euro progress boss graeme s...</td>\n",
       "      <td>1.0</td>\n",
       "    </tr>\n",
       "  </tbody>\n",
       "</table>\n",
       "<p>2225 rows × 3 columns</p>\n",
       "</div>"
      ],
      "text/plain": [
       "           category                                               text  label\n",
       "0              tech  tv future in the hands of viewers with home th...    0.0\n",
       "1          business  worldcom boss  left books alone  former worldc...    0.0\n",
       "2             sport  tigers wary of farrell  gamble  leicester say ...    1.0\n",
       "3             sport  yeading face newcastle in fa cup premiership s...    1.0\n",
       "4     entertainment  ocean s twelve raids box office ocean s twelve...    0.0\n",
       "...             ...                                                ...    ...\n",
       "2220       business  cars pull down us retail figures us retail sal...    0.0\n",
       "2221       politics  kilroy unveils immigration policy ex-chatshow ...    0.0\n",
       "2222  entertainment  rem announce new glasgow concert us band rem h...    0.0\n",
       "2223       politics  how political squabbles snowball it s become c...    0.0\n",
       "2224          sport  souness delight at euro progress boss graeme s...    1.0\n",
       "\n",
       "[2225 rows x 3 columns]"
      ]
     },
     "execution_count": 32,
     "metadata": {},
     "output_type": "execute_result"
    }
   ],
   "source": [
    "data_orig['label'] = labels\n",
    "data_orig"
   ]
  },
  {
   "cell_type": "markdown",
   "metadata": {
    "hidden": true
   },
   "source": [
    "#### sampling"
   ]
  },
  {
   "cell_type": "code",
   "execution_count": 36,
   "metadata": {
    "ExecuteTime": {
     "end_time": "2022-05-12T18:54:54.624252Z",
     "start_time": "2022-05-12T18:54:54.610005Z"
    },
    "hidden": true
   },
   "outputs": [
    {
     "data": {
      "text/html": [
       "<div>\n",
       "<style scoped>\n",
       "    .dataframe tbody tr th:only-of-type {\n",
       "        vertical-align: middle;\n",
       "    }\n",
       "\n",
       "    .dataframe tbody tr th {\n",
       "        vertical-align: top;\n",
       "    }\n",
       "\n",
       "    .dataframe thead th {\n",
       "        text-align: right;\n",
       "    }\n",
       "</style>\n",
       "<table border=\"1\" class=\"dataframe\">\n",
       "  <thead>\n",
       "    <tr style=\"text-align: right;\">\n",
       "      <th></th>\n",
       "      <th>category</th>\n",
       "      <th>text</th>\n",
       "      <th>label</th>\n",
       "    </tr>\n",
       "  </thead>\n",
       "  <tbody>\n",
       "    <tr>\n",
       "      <th>370</th>\n",
       "      <td>tech</td>\n",
       "      <td>text messages aid disaster recovery text messa...</td>\n",
       "      <td>0.0</td>\n",
       "    </tr>\n",
       "    <tr>\n",
       "      <th>972</th>\n",
       "      <td>tech</td>\n",
       "      <td>seamen sail into biometric future the luxury c...</td>\n",
       "      <td>0.0</td>\n",
       "    </tr>\n",
       "    <tr>\n",
       "      <th>2186</th>\n",
       "      <td>business</td>\n",
       "      <td>battered dollar hits another low the dollar ha...</td>\n",
       "      <td>0.0</td>\n",
       "    </tr>\n",
       "    <tr>\n",
       "      <th>412</th>\n",
       "      <td>politics</td>\n",
       "      <td>blair labour s longest-serving pm tony blair h...</td>\n",
       "      <td>0.0</td>\n",
       "    </tr>\n",
       "    <tr>\n",
       "      <th>937</th>\n",
       "      <td>tech</td>\n",
       "      <td>the force is strong in battlefront the warm re...</td>\n",
       "      <td>0.0</td>\n",
       "    </tr>\n",
       "    <tr>\n",
       "      <th>...</th>\n",
       "      <td>...</td>\n",
       "      <td>...</td>\n",
       "      <td>...</td>\n",
       "    </tr>\n",
       "    <tr>\n",
       "      <th>334</th>\n",
       "      <td>sport</td>\n",
       "      <td>melzer shocks agassi second seed andre agassi ...</td>\n",
       "      <td>1.0</td>\n",
       "    </tr>\n",
       "    <tr>\n",
       "      <th>2091</th>\n",
       "      <td>sport</td>\n",
       "      <td>collins named uk athletics chief uk athletics ...</td>\n",
       "      <td>1.0</td>\n",
       "    </tr>\n",
       "    <tr>\n",
       "      <th>1739</th>\n",
       "      <td>sport</td>\n",
       "      <td>collins to compete in birmingham world and com...</td>\n",
       "      <td>1.0</td>\n",
       "    </tr>\n",
       "    <tr>\n",
       "      <th>1831</th>\n",
       "      <td>sport</td>\n",
       "      <td>agassi fear for melbourne andre agassi s invol...</td>\n",
       "      <td>1.0</td>\n",
       "    </tr>\n",
       "    <tr>\n",
       "      <th>1946</th>\n",
       "      <td>sport</td>\n",
       "      <td>wada will appeal against ruling the world anti...</td>\n",
       "      <td>1.0</td>\n",
       "    </tr>\n",
       "  </tbody>\n",
       "</table>\n",
       "<p>1022 rows × 3 columns</p>\n",
       "</div>"
      ],
      "text/plain": [
       "      category                                               text  label\n",
       "370       tech  text messages aid disaster recovery text messa...    0.0\n",
       "972       tech  seamen sail into biometric future the luxury c...    0.0\n",
       "2186  business  battered dollar hits another low the dollar ha...    0.0\n",
       "412   politics  blair labour s longest-serving pm tony blair h...    0.0\n",
       "937       tech  the force is strong in battlefront the warm re...    0.0\n",
       "...        ...                                                ...    ...\n",
       "334      sport  melzer shocks agassi second seed andre agassi ...    1.0\n",
       "2091     sport  collins named uk athletics chief uk athletics ...    1.0\n",
       "1739     sport  collins to compete in birmingham world and com...    1.0\n",
       "1831     sport  agassi fear for melbourne andre agassi s invol...    1.0\n",
       "1946     sport  wada will appeal against ruling the world anti...    1.0\n",
       "\n",
       "[1022 rows x 3 columns]"
      ]
     },
     "execution_count": 36,
     "metadata": {},
     "output_type": "execute_result"
    }
   ],
   "source": [
    "data = data_orig.groupby(['label'], group_keys=False).apply(lambda x: x.sample(n=int(sum(labels)), \n",
    "                                                                               random_state=41))\n",
    "data"
   ]
  },
  {
   "cell_type": "code",
   "execution_count": 37,
   "metadata": {
    "ExecuteTime": {
     "end_time": "2022-05-12T18:54:55.147385Z",
     "start_time": "2022-05-12T18:54:55.141674Z"
    },
    "hidden": true
   },
   "outputs": [
    {
     "data": {
      "text/plain": [
       "0.5"
      ]
     },
     "execution_count": 37,
     "metadata": {},
     "output_type": "execute_result"
    }
   ],
   "source": [
    "sum(data['label']) / len(data['label'])"
   ]
  },
  {
   "cell_type": "markdown",
   "metadata": {
    "hidden": true
   },
   "source": [
    "#### text preprocess"
   ]
  },
  {
   "cell_type": "markdown",
   "metadata": {
    "hidden": true
   },
   "source": [
    "##### RegEx cleaning"
   ]
  },
  {
   "cell_type": "code",
   "execution_count": 38,
   "metadata": {
    "ExecuteTime": {
     "end_time": "2022-05-12T18:54:56.123140Z",
     "start_time": "2022-05-12T18:54:56.119842Z"
    },
    "hidden": true
   },
   "outputs": [],
   "source": [
    "data['text_orig'] = data['text']"
   ]
  },
  {
   "cell_type": "code",
   "execution_count": 39,
   "metadata": {
    "ExecuteTime": {
     "end_time": "2022-05-12T18:54:58.769515Z",
     "start_time": "2022-05-12T18:54:57.303557Z"
    },
    "hidden": true
   },
   "outputs": [],
   "source": [
    "data['text'] = data['text'].\\\n",
    "                apply(urls).\\\n",
    "                apply(hashtags).\\\n",
    "                apply(numbers).\\\n",
    "                apply(currency_symbols).\\\n",
    "                apply(emojis).\\\n",
    "                apply(emails)"
   ]
  },
  {
   "cell_type": "code",
   "execution_count": 40,
   "metadata": {
    "ExecuteTime": {
     "end_time": "2022-05-12T18:55:12.126403Z",
     "start_time": "2022-05-12T18:55:11.744233Z"
    },
    "hidden": true
   },
   "outputs": [],
   "source": [
    "data['text'] = data['text'].apply(punctuation)"
   ]
  },
  {
   "cell_type": "code",
   "execution_count": 41,
   "metadata": {
    "ExecuteTime": {
     "end_time": "2022-05-12T18:55:37.039077Z",
     "start_time": "2022-05-12T18:55:37.030652Z"
    },
    "hidden": true
   },
   "outputs": [
    {
     "data": {
      "text/plain": [
       "370     text messages aid disaster recovery text messa...\n",
       "972     seamen sail into biometric future the luxury c...\n",
       "2186    battered dollar hits another low the dollar ha...\n",
       "412     blair labour s longest serving pm tony blair h...\n",
       "937     the force is strong in battlefront the warm re...\n",
       "                              ...                        \n",
       "334     melzer shocks agassi second seed andre agassi ...\n",
       "2091    collins named uk athletics chief uk athletics ...\n",
       "1739    collins to compete in birmingham world and com...\n",
       "1831    agassi fear for melbourne andre agassi s invol...\n",
       "1946    wada will appeal against ruling the world anti...\n",
       "Name: text, Length: 1022, dtype: object"
      ]
     },
     "execution_count": 41,
     "metadata": {},
     "output_type": "execute_result"
    }
   ],
   "source": [
    "data['text']"
   ]
  },
  {
   "cell_type": "code",
   "execution_count": 44,
   "metadata": {
    "ExecuteTime": {
     "end_time": "2022-05-12T18:56:57.952643Z",
     "start_time": "2022-05-12T18:56:57.938049Z"
    },
    "hidden": true
   },
   "outputs": [],
   "source": [
    "data['text'] = data['text'].str.replace(\"  \", \" \", regex=True)\n",
    "data['text'] = data['text'].str.replace(\"EMOJI\", \"\", regex=True)"
   ]
  },
  {
   "cell_type": "markdown",
   "metadata": {
    "hidden": true
   },
   "source": [
    "##### remove stopwords"
   ]
  },
  {
   "cell_type": "code",
   "execution_count": 45,
   "metadata": {
    "ExecuteTime": {
     "end_time": "2022-05-12T18:58:08.479448Z",
     "start_time": "2022-05-12T18:58:08.472980Z"
    },
    "hidden": true
   },
   "outputs": [],
   "source": [
    "docs = data['text']\n",
    "labels = data['label']"
   ]
  },
  {
   "cell_type": "code",
   "execution_count": 46,
   "metadata": {
    "ExecuteTime": {
     "end_time": "2022-05-12T18:59:10.476270Z",
     "start_time": "2022-05-12T18:58:39.218938Z"
    },
    "hidden": true
   },
   "outputs": [
    {
     "name": "stderr",
     "output_type": "stream",
     "text": [
      "/Users/antheayang/opt/anaconda3/lib/python3.7/site-packages/spacy/pipeline/lemmatizer.py:211: UserWarning: [W108] The rule-based lemmatizer did not find POS annotation for one or more tokens. Check that your pipeline includes components that assign token.pos, typically 'tagger'+'attribute_ruler' or 'morphologizer'.\n",
      "  warnings.warn(Warnings.W108)\n"
     ]
    }
   ],
   "source": [
    "nlp = spacy.load('en_core_web_sm', disable=[\"ner\", \"tagger\"])\n",
    "# words_set = set(nlp.vocab.strings)\n",
    "docs_cleaned = list(\n",
    "    map(lambda doc: \" \".join([token.text for token in nlp(doc) if not token.is_stop]), docs))"
   ]
  },
  {
   "cell_type": "code",
   "execution_count": 48,
   "metadata": {
    "ExecuteTime": {
     "end_time": "2022-05-12T18:59:34.534844Z",
     "start_time": "2022-05-12T18:59:34.477763Z"
    },
    "hidden": true
   },
   "outputs": [],
   "source": [
    "docs_cleaned = [re.sub(' +', ' ', i) for i in docs_cleaned]"
   ]
  },
  {
   "cell_type": "code",
   "execution_count": 49,
   "metadata": {
    "ExecuteTime": {
     "end_time": "2022-05-12T18:59:36.461589Z",
     "start_time": "2022-05-12T18:59:36.385075Z"
    },
    "hidden": true
   },
   "outputs": [],
   "source": [
    "docs_cleaned = [re.sub(r'^(.+?)\\1+', r'\\1', i) for i in docs_cleaned]"
   ]
  },
  {
   "cell_type": "code",
   "execution_count": null,
   "metadata": {
    "hidden": true
   },
   "outputs": [],
   "source": []
  },
  {
   "cell_type": "markdown",
   "metadata": {
    "hidden": true
   },
   "source": [
    "#### tokenization"
   ]
  },
  {
   "cell_type": "code",
   "execution_count": 50,
   "metadata": {
    "ExecuteTime": {
     "end_time": "2022-05-12T19:00:40.003770Z",
     "start_time": "2022-05-12T19:00:39.852930Z"
    },
    "hidden": true
   },
   "outputs": [],
   "source": [
    "tokenizer = Tokenizer(num_words=5000, oov_token=\"UNKNOWN_TOKEN\")\n",
    "tokenizer.fit_on_texts(docs_cleaned)"
   ]
  },
  {
   "cell_type": "code",
   "execution_count": 51,
   "metadata": {
    "ExecuteTime": {
     "end_time": "2022-05-12T19:00:55.403460Z",
     "start_time": "2022-05-12T19:00:55.329949Z"
    },
    "hidden": true
   },
   "outputs": [],
   "source": [
    "def integer_encode_documents(docs, tokenizer):\n",
    "    return tokenizer.texts_to_sequences(docs)\n",
    "\n",
    "# integer encode the documents\n",
    "docs_encoded = integer_encode_documents(docs_cleaned, tokenizer)"
   ]
  },
  {
   "cell_type": "code",
   "execution_count": null,
   "metadata": {
    "hidden": true
   },
   "outputs": [],
   "source": []
  },
  {
   "cell_type": "code",
   "execution_count": 53,
   "metadata": {
    "ExecuteTime": {
     "end_time": "2022-05-12T19:01:58.683821Z",
     "start_time": "2022-05-12T19:01:58.517086Z"
    },
    "hidden": true
   },
   "outputs": [
    {
     "data": {
      "text/plain": [
       "<AxesSubplot:>"
      ]
     },
     "execution_count": 53,
     "metadata": {},
     "output_type": "execute_result"
    },
    {
     "data": {
      "image/png": "[encoded data removed]",
      "text/plain": [
       "<Figure size 432x288 with 1 Axes>"
      ]
     },
     "metadata": {
      "needs_background": "light"
     },
     "output_type": "display_data"
    }
   ],
   "source": [
    "pd.Series(docs_cleaned).str.len().hist()"
   ]
  },
  {
   "cell_type": "code",
   "execution_count": 52,
   "metadata": {
    "ExecuteTime": {
     "end_time": "2022-05-12T19:01:22.574375Z",
     "start_time": "2022-05-12T19:01:22.564051Z"
    },
    "hidden": true
   },
   "outputs": [
    {
     "data": {
      "text/plain": [
       "count     1022.000000\n",
       "mean      1409.400196\n",
       "std        916.524142\n",
       "min        442.000000\n",
       "25%        899.250000\n",
       "50%       1204.000000\n",
       "75%       1711.750000\n",
       "max      14985.000000\n",
       "dtype: float64"
      ]
     },
     "execution_count": 52,
     "metadata": {},
     "output_type": "execute_result"
    }
   ],
   "source": [
    "pd.Series(docs_cleaned).str.len().describe()"
   ]
  },
  {
   "cell_type": "markdown",
   "metadata": {
    "hidden": true
   },
   "source": [
    "since 75% of the reviews are less than 1711 words, set `MAX_SEQUENCE_LENGTH` as 1700"
   ]
  },
  {
   "cell_type": "code",
   "execution_count": 54,
   "metadata": {
    "ExecuteTime": {
     "end_time": "2022-05-12T19:02:24.245168Z",
     "start_time": "2022-05-12T19:02:24.241800Z"
    },
    "hidden": true
   },
   "outputs": [],
   "source": [
    "MAX_SEQUENCE_LENGTH = 1700"
   ]
  },
  {
   "cell_type": "code",
   "execution_count": 55,
   "metadata": {
    "ExecuteTime": {
     "end_time": "2022-05-12T19:02:24.946873Z",
     "start_time": "2022-05-12T19:02:24.926086Z"
    },
    "hidden": true
   },
   "outputs": [
    {
     "data": {
      "text/plain": [
       "array([[1014,  882,  717, ...,    0,    0,    0],\n",
       "       [   1,    1,    1, ...,    0,    0,    0],\n",
       "       [   1,  432, 1183, ...,    0,    0,    0],\n",
       "       ...,\n",
       "       [1008,  651,  617, ...,    0,    0,    0],\n",
       "       [1060,  864, 1592, ...,    0,    0,    0],\n",
       "       [   1,  634, 1208, ...,    0,    0,    0]], dtype=int32)"
      ]
     },
     "execution_count": 55,
     "metadata": {},
     "output_type": "execute_result"
    }
   ],
   "source": [
    "docs_padded = pad_sequences(docs_encoded, maxlen=MAX_SEQUENCE_LENGTH, padding='post')\n",
    "docs_padded"
   ]
  },
  {
   "cell_type": "code",
   "execution_count": 56,
   "metadata": {
    "ExecuteTime": {
     "end_time": "2022-05-12T19:02:36.989812Z",
     "start_time": "2022-05-12T19:02:36.984931Z"
    },
    "hidden": true
   },
   "outputs": [
    {
     "name": "stdout",
     "output_type": "stream",
     "text": [
      "Vocab size is 25248 unique tokens.\n"
     ]
    }
   ],
   "source": [
    "vocab_size = int(len(tokenizer.word_index) * 1.3)\n",
    "print(f\"Vocab size is {vocab_size} unique tokens.\")"
   ]
  },
  {
   "cell_type": "code",
   "execution_count": 71,
   "metadata": {
    "ExecuteTime": {
     "end_time": "2022-05-12T19:05:27.561649Z",
     "start_time": "2022-05-12T19:05:27.546740Z"
    },
    "hidden": true
   },
   "outputs": [
    {
     "data": {
      "text/html": [
       "<div>\n",
       "<style scoped>\n",
       "    .dataframe tbody tr th:only-of-type {\n",
       "        vertical-align: middle;\n",
       "    }\n",
       "\n",
       "    .dataframe tbody tr th {\n",
       "        vertical-align: top;\n",
       "    }\n",
       "\n",
       "    .dataframe thead th {\n",
       "        text-align: right;\n",
       "    }\n",
       "</style>\n",
       "<table border=\"1\" class=\"dataframe\">\n",
       "  <thead>\n",
       "    <tr style=\"text-align: right;\">\n",
       "      <th></th>\n",
       "      <th>0</th>\n",
       "      <th>1</th>\n",
       "      <th>2</th>\n",
       "      <th>3</th>\n",
       "      <th>4</th>\n",
       "      <th>5</th>\n",
       "      <th>6</th>\n",
       "      <th>7</th>\n",
       "      <th>8</th>\n",
       "      <th>9</th>\n",
       "      <th>...</th>\n",
       "      <th>1690</th>\n",
       "      <th>1691</th>\n",
       "      <th>1692</th>\n",
       "      <th>1693</th>\n",
       "      <th>1694</th>\n",
       "      <th>1695</th>\n",
       "      <th>1696</th>\n",
       "      <th>1697</th>\n",
       "      <th>1698</th>\n",
       "      <th>1699</th>\n",
       "    </tr>\n",
       "  </thead>\n",
       "  <tbody>\n",
       "    <tr>\n",
       "      <th>0</th>\n",
       "      <td>1014</td>\n",
       "      <td>882</td>\n",
       "      <td>717</td>\n",
       "      <td>1714</td>\n",
       "      <td>1440</td>\n",
       "      <td>1014</td>\n",
       "      <td>3730</td>\n",
       "      <td>118</td>\n",
       "      <td>1</td>\n",
       "      <td>4098</td>\n",
       "      <td>...</td>\n",
       "      <td>0</td>\n",
       "      <td>0</td>\n",
       "      <td>0</td>\n",
       "      <td>0</td>\n",
       "      <td>0</td>\n",
       "      <td>0</td>\n",
       "      <td>0</td>\n",
       "      <td>0</td>\n",
       "      <td>0</td>\n",
       "      <td>0</td>\n",
       "    </tr>\n",
       "    <tr>\n",
       "      <th>1</th>\n",
       "      <td>1</td>\n",
       "      <td>1</td>\n",
       "      <td>1</td>\n",
       "      <td>166</td>\n",
       "      <td>4939</td>\n",
       "      <td>1</td>\n",
       "      <td>1</td>\n",
       "      <td>3197</td>\n",
       "      <td>1</td>\n",
       "      <td>319</td>\n",
       "      <td>...</td>\n",
       "      <td>0</td>\n",
       "      <td>0</td>\n",
       "      <td>0</td>\n",
       "      <td>0</td>\n",
       "      <td>0</td>\n",
       "      <td>0</td>\n",
       "      <td>0</td>\n",
       "      <td>0</td>\n",
       "      <td>0</td>\n",
       "      <td>0</td>\n",
       "    </tr>\n",
       "    <tr>\n",
       "      <th>2</th>\n",
       "      <td>1</td>\n",
       "      <td>432</td>\n",
       "      <td>1183</td>\n",
       "      <td>460</td>\n",
       "      <td>432</td>\n",
       "      <td>1389</td>\n",
       "      <td>9</td>\n",
       "      <td>67</td>\n",
       "      <td>460</td>\n",
       "      <td>928</td>\n",
       "      <td>...</td>\n",
       "      <td>0</td>\n",
       "      <td>0</td>\n",
       "      <td>0</td>\n",
       "      <td>0</td>\n",
       "      <td>0</td>\n",
       "      <td>0</td>\n",
       "      <td>0</td>\n",
       "      <td>0</td>\n",
       "      <td>0</td>\n",
       "      <td>0</td>\n",
       "    </tr>\n",
       "    <tr>\n",
       "      <th>3</th>\n",
       "      <td>115</td>\n",
       "      <td>65</td>\n",
       "      <td>3</td>\n",
       "      <td>4111</td>\n",
       "      <td>2401</td>\n",
       "      <td>3200</td>\n",
       "      <td>466</td>\n",
       "      <td>115</td>\n",
       "      <td>65</td>\n",
       "      <td>75</td>\n",
       "      <td>...</td>\n",
       "      <td>0</td>\n",
       "      <td>0</td>\n",
       "      <td>0</td>\n",
       "      <td>0</td>\n",
       "      <td>0</td>\n",
       "      <td>0</td>\n",
       "      <td>0</td>\n",
       "      <td>0</td>\n",
       "      <td>0</td>\n",
       "      <td>0</td>\n",
       "    </tr>\n",
       "    <tr>\n",
       "      <th>4</th>\n",
       "      <td>687</td>\n",
       "      <td>261</td>\n",
       "      <td>4485</td>\n",
       "      <td>3203</td>\n",
       "      <td>4115</td>\n",
       "      <td>4952</td>\n",
       "      <td>200</td>\n",
       "      <td>3000</td>\n",
       "      <td>4485</td>\n",
       "      <td>1</td>\n",
       "      <td>...</td>\n",
       "      <td>0</td>\n",
       "      <td>0</td>\n",
       "      <td>0</td>\n",
       "      <td>0</td>\n",
       "      <td>0</td>\n",
       "      <td>0</td>\n",
       "      <td>0</td>\n",
       "      <td>0</td>\n",
       "      <td>0</td>\n",
       "      <td>0</td>\n",
       "    </tr>\n",
       "    <tr>\n",
       "      <th>...</th>\n",
       "      <td>...</td>\n",
       "      <td>...</td>\n",
       "      <td>...</td>\n",
       "      <td>...</td>\n",
       "      <td>...</td>\n",
       "      <td>...</td>\n",
       "      <td>...</td>\n",
       "      <td>...</td>\n",
       "      <td>...</td>\n",
       "      <td>...</td>\n",
       "      <td>...</td>\n",
       "      <td>...</td>\n",
       "      <td>...</td>\n",
       "      <td>...</td>\n",
       "      <td>...</td>\n",
       "      <td>...</td>\n",
       "      <td>...</td>\n",
       "      <td>...</td>\n",
       "      <td>...</td>\n",
       "      <td>...</td>\n",
       "      <td>...</td>\n",
       "    </tr>\n",
       "    <tr>\n",
       "      <th>1017</th>\n",
       "      <td>2643</td>\n",
       "      <td>4006</td>\n",
       "      <td>1060</td>\n",
       "      <td>25</td>\n",
       "      <td>357</td>\n",
       "      <td>1964</td>\n",
       "      <td>1060</td>\n",
       "      <td>917</td>\n",
       "      <td>1</td>\n",
       "      <td>350</td>\n",
       "      <td>...</td>\n",
       "      <td>0</td>\n",
       "      <td>0</td>\n",
       "      <td>0</td>\n",
       "      <td>0</td>\n",
       "      <td>0</td>\n",
       "      <td>0</td>\n",
       "      <td>0</td>\n",
       "      <td>0</td>\n",
       "      <td>0</td>\n",
       "      <td>0</td>\n",
       "    </tr>\n",
       "    <tr>\n",
       "      <th>1018</th>\n",
       "      <td>1008</td>\n",
       "      <td>681</td>\n",
       "      <td>27</td>\n",
       "      <td>478</td>\n",
       "      <td>170</td>\n",
       "      <td>27</td>\n",
       "      <td>478</td>\n",
       "      <td>814</td>\n",
       "      <td>364</td>\n",
       "      <td>9</td>\n",
       "      <td>...</td>\n",
       "      <td>0</td>\n",
       "      <td>0</td>\n",
       "      <td>0</td>\n",
       "      <td>0</td>\n",
       "      <td>0</td>\n",
       "      <td>0</td>\n",
       "      <td>0</td>\n",
       "      <td>0</td>\n",
       "      <td>0</td>\n",
       "      <td>0</td>\n",
       "    </tr>\n",
       "    <tr>\n",
       "      <th>1019</th>\n",
       "      <td>1008</td>\n",
       "      <td>651</td>\n",
       "      <td>617</td>\n",
       "      <td>13</td>\n",
       "      <td>4884</td>\n",
       "      <td>1042</td>\n",
       "      <td>5</td>\n",
       "      <td>125</td>\n",
       "      <td>1406</td>\n",
       "      <td>1008</td>\n",
       "      <td>...</td>\n",
       "      <td>0</td>\n",
       "      <td>0</td>\n",
       "      <td>0</td>\n",
       "      <td>0</td>\n",
       "      <td>0</td>\n",
       "      <td>0</td>\n",
       "      <td>0</td>\n",
       "      <td>0</td>\n",
       "      <td>0</td>\n",
       "      <td>0</td>\n",
       "    </tr>\n",
       "    <tr>\n",
       "      <th>1020</th>\n",
       "      <td>1060</td>\n",
       "      <td>864</td>\n",
       "      <td>1592</td>\n",
       "      <td>1964</td>\n",
       "      <td>1060</td>\n",
       "      <td>3</td>\n",
       "      <td>4156</td>\n",
       "      <td>256</td>\n",
       "      <td>53</td>\n",
       "      <td>683</td>\n",
       "      <td>...</td>\n",
       "      <td>0</td>\n",
       "      <td>0</td>\n",
       "      <td>0</td>\n",
       "      <td>0</td>\n",
       "      <td>0</td>\n",
       "      <td>0</td>\n",
       "      <td>0</td>\n",
       "      <td>0</td>\n",
       "      <td>0</td>\n",
       "      <td>0</td>\n",
       "    </tr>\n",
       "    <tr>\n",
       "      <th>1021</th>\n",
       "      <td>1</td>\n",
       "      <td>634</td>\n",
       "      <td>1208</td>\n",
       "      <td>13</td>\n",
       "      <td>293</td>\n",
       "      <td>638</td>\n",
       "      <td>1075</td>\n",
       "      <td>1</td>\n",
       "      <td>634</td>\n",
       "      <td>1</td>\n",
       "      <td>...</td>\n",
       "      <td>0</td>\n",
       "      <td>0</td>\n",
       "      <td>0</td>\n",
       "      <td>0</td>\n",
       "      <td>0</td>\n",
       "      <td>0</td>\n",
       "      <td>0</td>\n",
       "      <td>0</td>\n",
       "      <td>0</td>\n",
       "      <td>0</td>\n",
       "    </tr>\n",
       "  </tbody>\n",
       "</table>\n",
       "<p>1022 rows × 1700 columns</p>\n",
       "</div>"
      ],
      "text/plain": [
       "      0     1     2     3     4     5     6     7     8     9     ...  1690  \\\n",
       "0     1014   882   717  1714  1440  1014  3730   118     1  4098  ...     0   \n",
       "1        1     1     1   166  4939     1     1  3197     1   319  ...     0   \n",
       "2        1   432  1183   460   432  1389     9    67   460   928  ...     0   \n",
       "3      115    65     3  4111  2401  3200   466   115    65    75  ...     0   \n",
       "4      687   261  4485  3203  4115  4952   200  3000  4485     1  ...     0   \n",
       "...    ...   ...   ...   ...   ...   ...   ...   ...   ...   ...  ...   ...   \n",
       "1017  2643  4006  1060    25   357  1964  1060   917     1   350  ...     0   \n",
       "1018  1008   681    27   478   170    27   478   814   364     9  ...     0   \n",
       "1019  1008   651   617    13  4884  1042     5   125  1406  1008  ...     0   \n",
       "1020  1060   864  1592  1964  1060     3  4156   256    53   683  ...     0   \n",
       "1021     1   634  1208    13   293   638  1075     1   634     1  ...     0   \n",
       "\n",
       "      1691  1692  1693  1694  1695  1696  1697  1698  1699  \n",
       "0        0     0     0     0     0     0     0     0     0  \n",
       "1        0     0     0     0     0     0     0     0     0  \n",
       "2        0     0     0     0     0     0     0     0     0  \n",
       "3        0     0     0     0     0     0     0     0     0  \n",
       "4        0     0     0     0     0     0     0     0     0  \n",
       "...    ...   ...   ...   ...   ...   ...   ...   ...   ...  \n",
       "1017     0     0     0     0     0     0     0     0     0  \n",
       "1018     0     0     0     0     0     0     0     0     0  \n",
       "1019     0     0     0     0     0     0     0     0     0  \n",
       "1020     0     0     0     0     0     0     0     0     0  \n",
       "1021     0     0     0     0     0     0     0     0     0  \n",
       "\n",
       "[1022 rows x 1700 columns]"
      ]
     },
     "execution_count": 71,
     "metadata": {},
     "output_type": "execute_result"
    }
   ],
   "source": [
    "data_docs = pd.DataFrame(docs_padded)\n",
    "data_docs"
   ]
  },
  {
   "cell_type": "code",
   "execution_count": 72,
   "metadata": {
    "ExecuteTime": {
     "end_time": "2022-05-12T19:05:27.952690Z",
     "start_time": "2022-05-12T19:05:27.942282Z"
    },
    "hidden": true
   },
   "outputs": [],
   "source": [
    "data_docs = pd.concat([data_docs.reset_index(drop=True),\n",
    "                       data[['text', 'label']].reset_index(drop=True)], \n",
    "                      axis=1, ignore_index=True)"
   ]
  },
  {
   "cell_type": "code",
   "execution_count": 73,
   "metadata": {
    "ExecuteTime": {
     "end_time": "2022-05-12T19:05:28.433097Z",
     "start_time": "2022-05-12T19:05:28.419931Z"
    },
    "hidden": true
   },
   "outputs": [
    {
     "data": {
      "text/html": [
       "<div>\n",
       "<style scoped>\n",
       "    .dataframe tbody tr th:only-of-type {\n",
       "        vertical-align: middle;\n",
       "    }\n",
       "\n",
       "    .dataframe tbody tr th {\n",
       "        vertical-align: top;\n",
       "    }\n",
       "\n",
       "    .dataframe thead th {\n",
       "        text-align: right;\n",
       "    }\n",
       "</style>\n",
       "<table border=\"1\" class=\"dataframe\">\n",
       "  <thead>\n",
       "    <tr style=\"text-align: right;\">\n",
       "      <th></th>\n",
       "      <th>0</th>\n",
       "      <th>1</th>\n",
       "      <th>2</th>\n",
       "      <th>3</th>\n",
       "      <th>4</th>\n",
       "      <th>5</th>\n",
       "      <th>6</th>\n",
       "      <th>7</th>\n",
       "      <th>8</th>\n",
       "      <th>9</th>\n",
       "      <th>...</th>\n",
       "      <th>1692</th>\n",
       "      <th>1693</th>\n",
       "      <th>1694</th>\n",
       "      <th>1695</th>\n",
       "      <th>1696</th>\n",
       "      <th>1697</th>\n",
       "      <th>1698</th>\n",
       "      <th>1699</th>\n",
       "      <th>text</th>\n",
       "      <th>label</th>\n",
       "    </tr>\n",
       "  </thead>\n",
       "  <tbody>\n",
       "    <tr>\n",
       "      <th>0</th>\n",
       "      <td>1014</td>\n",
       "      <td>882</td>\n",
       "      <td>717</td>\n",
       "      <td>1714</td>\n",
       "      <td>1440</td>\n",
       "      <td>1014</td>\n",
       "      <td>3730</td>\n",
       "      <td>118</td>\n",
       "      <td>1</td>\n",
       "      <td>4098</td>\n",
       "      <td>...</td>\n",
       "      <td>0</td>\n",
       "      <td>0</td>\n",
       "      <td>0</td>\n",
       "      <td>0</td>\n",
       "      <td>0</td>\n",
       "      <td>0</td>\n",
       "      <td>0</td>\n",
       "      <td>0</td>\n",
       "      <td>text messages aid disaster recovery text messa...</td>\n",
       "      <td>0.0</td>\n",
       "    </tr>\n",
       "    <tr>\n",
       "      <th>1</th>\n",
       "      <td>1</td>\n",
       "      <td>1</td>\n",
       "      <td>1</td>\n",
       "      <td>166</td>\n",
       "      <td>4939</td>\n",
       "      <td>1</td>\n",
       "      <td>1</td>\n",
       "      <td>3197</td>\n",
       "      <td>1</td>\n",
       "      <td>319</td>\n",
       "      <td>...</td>\n",
       "      <td>0</td>\n",
       "      <td>0</td>\n",
       "      <td>0</td>\n",
       "      <td>0</td>\n",
       "      <td>0</td>\n",
       "      <td>0</td>\n",
       "      <td>0</td>\n",
       "      <td>0</td>\n",
       "      <td>seamen sail into biometric future the luxury c...</td>\n",
       "      <td>0.0</td>\n",
       "    </tr>\n",
       "    <tr>\n",
       "      <th>2</th>\n",
       "      <td>1</td>\n",
       "      <td>432</td>\n",
       "      <td>1183</td>\n",
       "      <td>460</td>\n",
       "      <td>432</td>\n",
       "      <td>1389</td>\n",
       "      <td>9</td>\n",
       "      <td>67</td>\n",
       "      <td>460</td>\n",
       "      <td>928</td>\n",
       "      <td>...</td>\n",
       "      <td>0</td>\n",
       "      <td>0</td>\n",
       "      <td>0</td>\n",
       "      <td>0</td>\n",
       "      <td>0</td>\n",
       "      <td>0</td>\n",
       "      <td>0</td>\n",
       "      <td>0</td>\n",
       "      <td>battered dollar hits another low the dollar ha...</td>\n",
       "      <td>0.0</td>\n",
       "    </tr>\n",
       "    <tr>\n",
       "      <th>3</th>\n",
       "      <td>115</td>\n",
       "      <td>65</td>\n",
       "      <td>3</td>\n",
       "      <td>4111</td>\n",
       "      <td>2401</td>\n",
       "      <td>3200</td>\n",
       "      <td>466</td>\n",
       "      <td>115</td>\n",
       "      <td>65</td>\n",
       "      <td>75</td>\n",
       "      <td>...</td>\n",
       "      <td>0</td>\n",
       "      <td>0</td>\n",
       "      <td>0</td>\n",
       "      <td>0</td>\n",
       "      <td>0</td>\n",
       "      <td>0</td>\n",
       "      <td>0</td>\n",
       "      <td>0</td>\n",
       "      <td>blair labour s longest serving pm tony blair h...</td>\n",
       "      <td>0.0</td>\n",
       "    </tr>\n",
       "    <tr>\n",
       "      <th>4</th>\n",
       "      <td>687</td>\n",
       "      <td>261</td>\n",
       "      <td>4485</td>\n",
       "      <td>3203</td>\n",
       "      <td>4115</td>\n",
       "      <td>4952</td>\n",
       "      <td>200</td>\n",
       "      <td>3000</td>\n",
       "      <td>4485</td>\n",
       "      <td>1</td>\n",
       "      <td>...</td>\n",
       "      <td>0</td>\n",
       "      <td>0</td>\n",
       "      <td>0</td>\n",
       "      <td>0</td>\n",
       "      <td>0</td>\n",
       "      <td>0</td>\n",
       "      <td>0</td>\n",
       "      <td>0</td>\n",
       "      <td>the force is strong in battlefront the warm re...</td>\n",
       "      <td>0.0</td>\n",
       "    </tr>\n",
       "  </tbody>\n",
       "</table>\n",
       "<p>5 rows × 1702 columns</p>\n",
       "</div>"
      ],
      "text/plain": [
       "      0    1     2     3     4     5     6     7     8     9  ...  1692  1693  \\\n",
       "0  1014  882   717  1714  1440  1014  3730   118     1  4098  ...     0     0   \n",
       "1     1    1     1   166  4939     1     1  3197     1   319  ...     0     0   \n",
       "2     1  432  1183   460   432  1389     9    67   460   928  ...     0     0   \n",
       "3   115   65     3  4111  2401  3200   466   115    65    75  ...     0     0   \n",
       "4   687  261  4485  3203  4115  4952   200  3000  4485     1  ...     0     0   \n",
       "\n",
       "   1694  1695  1696  1697  1698  1699  \\\n",
       "0     0     0     0     0     0     0   \n",
       "1     0     0     0     0     0     0   \n",
       "2     0     0     0     0     0     0   \n",
       "3     0     0     0     0     0     0   \n",
       "4     0     0     0     0     0     0   \n",
       "\n",
       "                                                text  label  \n",
       "0  text messages aid disaster recovery text messa...    0.0  \n",
       "1  seamen sail into biometric future the luxury c...    0.0  \n",
       "2  battered dollar hits another low the dollar ha...    0.0  \n",
       "3  blair labour s longest serving pm tony blair h...    0.0  \n",
       "4  the force is strong in battlefront the warm re...    0.0  \n",
       "\n",
       "[5 rows x 1702 columns]"
      ]
     },
     "execution_count": 73,
     "metadata": {},
     "output_type": "execute_result"
    }
   ],
   "source": [
    "mp = {data_docs.columns[-1]: 'label',\n",
    "     data_docs.columns[-2]: 'text'}\n",
    "data_docs.rename(columns=mp, errors=\"raise\", inplace=True)\n",
    "data_docs.head()"
   ]
  },
  {
   "cell_type": "code",
   "execution_count": null,
   "metadata": {
    "hidden": true
   },
   "outputs": [],
   "source": []
  },
  {
   "cell_type": "markdown",
   "metadata": {
    "hidden": true
   },
   "source": [
    "### modeling"
   ]
  },
  {
   "cell_type": "code",
   "execution_count": 78,
   "metadata": {
    "ExecuteTime": {
     "end_time": "2022-05-12T19:13:41.249398Z",
     "start_time": "2022-05-12T19:13:41.210912Z"
    },
    "hidden": true
   },
   "outputs": [
    {
     "data": {
      "text/plain": [
       "((817, 1700), (205, 1700))"
      ]
     },
     "execution_count": 78,
     "metadata": {},
     "output_type": "execute_result"
    }
   ],
   "source": [
    "X_train, X_test, y_train, y_test = train_test_split(docs_padded, labels, test_size=0.2, \n",
    "                                                    stratify=labels, random_state=41)\n",
    "X_train.shape, X_test.shape"
   ]
  },
  {
   "cell_type": "code",
   "execution_count": 80,
   "metadata": {
    "ExecuteTime": {
     "end_time": "2022-05-12T19:14:00.213697Z",
     "start_time": "2022-05-12T19:14:00.209508Z"
    },
    "hidden": true
   },
   "outputs": [
    {
     "data": {
      "text/plain": [
       "(0.5006119951040392, 0.4975609756097561)"
      ]
     },
     "execution_count": 80,
     "metadata": {},
     "output_type": "execute_result"
    }
   ],
   "source": [
    "y_train.sum()/len(y_train), y_test.sum()/len(y_test)"
   ]
  },
  {
   "cell_type": "markdown",
   "metadata": {
    "hidden": true
   },
   "source": [
    "#### pre-trained embedding"
   ]
  },
  {
   "cell_type": "markdown",
   "metadata": {
    "hidden": true
   },
   "source": [
    "Reference: `Using_RNNs_and_LSTMs`\n",
    "\n",
    "https://colab.research.google.com/drive/1G6bxy1OlHPeVo6zAs8TxvN5du9PHhZQf?usp=sharing"
   ]
  },
  {
   "cell_type": "code",
   "execution_count": 81,
   "metadata": {
    "ExecuteTime": {
     "end_time": "2022-05-12T19:14:50.844008Z",
     "start_time": "2022-05-12T19:14:43.452739Z"
    },
    "hidden": true
   },
   "outputs": [
    {
     "name": "stdout",
     "output_type": "stream",
     "text": [
      "Loaded 400000 word vectors.\n"
     ]
    }
   ],
   "source": [
    "def load_glove_vectors() -> Dict:\n",
    "    embeddings_index = {}\n",
    "    with open('../datasets/glove.6B.100d.txt') as f:\n",
    "        for line in f:\n",
    "            values = line.split()\n",
    "            word = values[0]\n",
    "            coefs = np.asarray(values[1:], dtype='float32')\n",
    "            embeddings_index[word] = coefs\n",
    "    print('Loaded %s word vectors.' % len(embeddings_index))\n",
    "    return embeddings_index\n",
    "\n",
    "embeddings_index = load_glove_vectors()"
   ]
  },
  {
   "cell_type": "code",
   "execution_count": 82,
   "metadata": {
    "ExecuteTime": {
     "end_time": "2022-05-12T19:25:03.550208Z",
     "start_time": "2022-05-12T19:25:03.480917Z"
    },
    "hidden": true
   },
   "outputs": [],
   "source": [
    "# create a weight matrix for words in training docs\n",
    "embedding_matrix = np.zeros((vocab_size, 100))\n",
    "for word, i in tokenizer.word_index.items():\n",
    "    embedding_vector = embeddings_index.get(word)\n",
    "    if embedding_vector is not None: # check that it is an actual word that we have embeddings for\n",
    "        embedding_matrix[i] = embedding_vector"
   ]
  },
  {
   "cell_type": "markdown",
   "metadata": {
    "hidden": true
   },
   "source": [
    "#### LSTM"
   ]
  },
  {
   "cell_type": "markdown",
   "metadata": {
    "hidden": true
   },
   "source": [
    "as the text is rather lengthy, choose the LSTM model"
   ]
  },
  {
   "cell_type": "markdown",
   "metadata": {
    "hidden": true
   },
   "source": [
    "Reference: `Using_RNNs_and_LSTMs`\n",
    "\n",
    "https://colab.research.google.com/drive/1G6bxy1OlHPeVo6zAs8TxvN5du9PHhZQf?usp=sharing"
   ]
  },
  {
   "cell_type": "code",
   "execution_count": 83,
   "metadata": {
    "ExecuteTime": {
     "end_time": "2022-05-12T19:25:12.421076Z",
     "start_time": "2022-05-12T19:25:12.414485Z"
    },
    "hidden": true
   },
   "outputs": [],
   "source": [
    "def make_lstm_classification_model(plot=False):\n",
    "    model = Sequential()\n",
    "    model.add(Embedding(vocab_size, 100, \n",
    "                        weights=[embedding_matrix], \n",
    "                        input_length=MAX_SEQUENCE_LENGTH, \n",
    "                        trainable=False))\n",
    "    model.add(Masking(mask_value=0.0)) # masking layer, masks any words that don't have an embedding as 0s.\n",
    "    model.add(LSTM(units=32, input_shape=(1, MAX_SEQUENCE_LENGTH)))\n",
    "    model.add(Dense(16))\n",
    "    model.add(Dense(1, activation='sigmoid'))\n",
    "    \n",
    "    # Compile the model\n",
    "    model.compile(\n",
    "            optimizer='adam', loss='binary_crossentropy', metrics=['acc'])\n",
    "    # summarize the model\n",
    "    model.summary()\n",
    "    \n",
    "    if plot:\n",
    "        plot_model(model, to_file='model.png', show_shapes=True)\n",
    "    return model"
   ]
  },
  {
   "cell_type": "code",
   "execution_count": 87,
   "metadata": {
    "ExecuteTime": {
     "end_time": "2022-05-12T19:27:26.276414Z",
     "start_time": "2022-05-12T19:27:25.914124Z"
    },
    "hidden": true
   },
   "outputs": [
    {
     "name": "stdout",
     "output_type": "stream",
     "text": [
      "Model: \"sequential_2\"\n",
      "_________________________________________________________________\n",
      "Layer (type)                 Output Shape              Param #   \n",
      "=================================================================\n",
      "embedding_2 (Embedding)      (None, 1700, 100)         2524800   \n",
      "_________________________________________________________________\n",
      "masking_2 (Masking)          (None, 1700, 100)         0         \n",
      "_________________________________________________________________\n",
      "lstm_2 (LSTM)                (None, 32)                17024     \n",
      "_________________________________________________________________\n",
      "dense_3 (Dense)              (None, 16)                528       \n",
      "_________________________________________________________________\n",
      "dense_4 (Dense)              (None, 1)                 17        \n",
      "=================================================================\n",
      "Total params: 2,542,369\n",
      "Trainable params: 17,569\n",
      "Non-trainable params: 2,524,800\n",
      "_________________________________________________________________\n"
     ]
    },
    {
     "data": {
      "text/plain": [
       "<keras.engine.sequential.Sequential at 0x7f91d5c88490>"
      ]
     },
     "execution_count": 87,
     "metadata": {},
     "output_type": "execute_result"
    }
   ],
   "source": [
    "model = make_lstm_classification_model()\n",
    "model"
   ]
  },
  {
   "cell_type": "markdown",
   "metadata": {
    "hidden": true
   },
   "source": [
    "##### training"
   ]
  },
  {
   "cell_type": "code",
   "execution_count": 88,
   "metadata": {
    "ExecuteTime": {
     "end_time": "2022-05-12T19:38:53.466399Z",
     "start_time": "2022-05-12T19:27:45.955513Z"
    },
    "hidden": true,
    "scrolled": true
   },
   "outputs": [
    {
     "name": "stdout",
     "output_type": "stream",
     "text": [
      "Train on 735 samples, validate on 82 samples\n",
      "Epoch 1/50\n",
      "735/735 [==============================] - 51s 69ms/step - loss: 0.6804 - acc: 0.5959 - val_loss: 0.5625 - val_acc: 0.7805\n",
      "Epoch 2/50\n",
      "735/735 [==============================] - 51s 69ms/step - loss: 0.4651 - acc: 0.8503 - val_loss: 0.3282 - val_acc: 0.9268\n",
      "Epoch 3/50\n",
      "735/735 [==============================] - 51s 69ms/step - loss: 0.1932 - acc: 0.9442 - val_loss: 0.0772 - val_acc: 0.9878\n",
      "Epoch 4/50\n",
      "735/735 [==============================] - 51s 69ms/step - loss: 0.0626 - acc: 0.9823 - val_loss: 0.1130 - val_acc: 0.9756\n",
      "Epoch 5/50\n",
      "735/735 [==============================] - 56s 76ms/step - loss: 0.1237 - acc: 0.9714 - val_loss: 0.0980 - val_acc: 0.9756\n",
      "Epoch 6/50\n",
      "735/735 [==============================] - 60s 82ms/step - loss: 0.0692 - acc: 0.9823 - val_loss: 0.0624 - val_acc: 0.9878\n",
      "Epoch 7/50\n",
      "735/735 [==============================] - 51s 70ms/step - loss: 0.0445 - acc: 0.9932 - val_loss: 0.0839 - val_acc: 0.9756\n",
      "Epoch 8/50\n",
      "735/735 [==============================] - 54s 73ms/step - loss: 0.0878 - acc: 0.9769 - val_loss: 0.2638 - val_acc: 0.9390\n",
      "Epoch 9/50\n",
      "735/735 [==============================] - 54s 74ms/step - loss: 0.3536 - acc: 0.8884 - val_loss: 0.1856 - val_acc: 0.9146\n",
      "Epoch 10/50\n",
      "735/735 [==============================] - 56s 77ms/step - loss: 0.1859 - acc: 0.9320 - val_loss: 0.1741 - val_acc: 0.9268\n",
      "Epoch 11/50\n",
      "735/735 [==============================] - 53s 72ms/step - loss: 0.1111 - acc: 0.9660 - val_loss: 0.0865 - val_acc: 0.9756\n",
      "Epoch 12/50\n",
      "735/735 [==============================] - 39s 54ms/step - loss: 0.0501 - acc: 0.9878 - val_loss: 0.0835 - val_acc: 0.9756\n",
      "Epoch 13/50\n",
      "735/735 [==============================] - 39s 53ms/step - loss: 0.0351 - acc: 0.9905 - val_loss: 0.0964 - val_acc: 0.9756\n",
      "Epoch 00013: early stopping\n"
     ]
    }
   ],
   "source": [
    "# fit the model\n",
    "es = EarlyStopping(monitor='val_loss', mode='min', patience=7, verbose=1)\n",
    "log = model.fit(X_train, y_train, batch_size=64, \n",
    "                validation_split=0.1, epochs=50, verbose=1, \n",
    "                        callbacks=[es],\n",
    "                 )"
   ]
  },
  {
   "cell_type": "code",
   "execution_count": 89,
   "metadata": {
    "ExecuteTime": {
     "end_time": "2022-05-12T19:39:27.096290Z",
     "start_time": "2022-05-12T19:39:05.923462Z"
    },
    "hidden": true
   },
   "outputs": [
    {
     "name": "stdout",
     "output_type": "stream",
     "text": [
      "817/817 [==============================] - 21s 26ms/step\n",
      "TRAIN Accuracy: 99.020809\n"
     ]
    }
   ],
   "source": [
    "# evaluate the model\n",
    "loss_tr, acc_tr = model.evaluate(X_train, y_train, verbose=1)\n",
    "print('TRAIN Accuracy: %f' % (acc_tr*100))"
   ]
  },
  {
   "cell_type": "code",
   "execution_count": 91,
   "metadata": {
    "ExecuteTime": {
     "end_time": "2022-05-12T19:40:06.245980Z",
     "start_time": "2022-05-12T19:40:06.115392Z"
    },
    "hidden": true
   },
   "outputs": [
    {
     "data": {
      "text/plain": [
       "<matplotlib.legend.Legend at 0x7f91d6592550>"
      ]
     },
     "execution_count": 91,
     "metadata": {},
     "output_type": "execute_result"
    },
    {
     "data": {
      "image/png": "[encoded data removed]",
      "text/plain": [
       "<Figure size 432x288 with 1 Axes>"
      ]
     },
     "metadata": {
      "needs_background": "light"
     },
     "output_type": "display_data"
    }
   ],
   "source": [
    "plt.plot(log.history['acc'])\n",
    "plt.plot(log.history['val_acc'])\n",
    "plt.title('model accuracy')\n",
    "plt.ylabel('accuracy')\n",
    "plt.xlabel('epoch')\n",
    "plt.legend(['train', 'val'], loc='upper left')"
   ]
  },
  {
   "cell_type": "code",
   "execution_count": null,
   "metadata": {
    "hidden": true
   },
   "outputs": [],
   "source": []
  },
  {
   "cell_type": "markdown",
   "metadata": {
    "hidden": true
   },
   "source": [
    "##### testing"
   ]
  },
  {
   "cell_type": "code",
   "execution_count": 93,
   "metadata": {
    "ExecuteTime": {
     "end_time": "2022-05-12T19:40:27.768683Z",
     "start_time": "2022-05-12T19:40:22.246109Z"
    },
    "hidden": true
   },
   "outputs": [
    {
     "name": "stdout",
     "output_type": "stream",
     "text": [
      "205/205 [==============================] - 6s 27ms/step\n",
      "Accuracy: 98.536587\n"
     ]
    }
   ],
   "source": [
    "loss_tt, acc_tt = model.evaluate(X_test, y_test, verbose=1)\n",
    "print('Accuracy: %f' % (acc_tt*100))"
   ]
  },
  {
   "cell_type": "code",
   "execution_count": null,
   "metadata": {
    "hidden": true
   },
   "outputs": [],
   "source": []
  },
  {
   "cell_type": "code",
   "execution_count": null,
   "metadata": {
    "hidden": true
   },
   "outputs": [],
   "source": []
  },
  {
   "cell_type": "markdown",
   "metadata": {},
   "source": [
    "## Perform Topic Modelling (3 pts)\n",
    "\n",
    "Perform topic modelling on the `news_categories.csv` dataset. This dataset is from [News Category Dataset, Akash Gupta](https://www.kaggle.com/datasets/akash14/news-category-dataset). You may use the link to find what each `SECTION` integer maps to in terms of a human-readable category.\n",
    "\n",
    "**Deliverables**:\n",
    "\n",
    "    - show the most likely n-grams for a certain topic\n",
    "    - show the top documents for each topic\n",
    "    - explain/summarize what the subject each topic is likely to be"
   ]
  },
  {
   "cell_type": "markdown",
   "metadata": {},
   "source": [
    "### Random Seeds"
   ]
  },
  {
   "cell_type": "markdown",
   "metadata": {},
   "source": [
    "Make sure to set the random seeds in your notebook so I can run your results and get the same exact output:"
   ]
  },
  {
   "cell_type": "code",
   "execution_count": 5,
   "metadata": {
    "ExecuteTime": {
     "end_time": "2022-05-13T01:36:24.834430Z",
     "start_time": "2022-05-13T01:36:24.780286Z"
    }
   },
   "outputs": [],
   "source": [
    "from numpy.random import seed\n",
    "seed(42)\n",
    "\n",
    "from tensorflow import set_random_seed\n",
    "set_random_seed(32)"
   ]
  },
  {
   "cell_type": "code",
   "execution_count": 6,
   "metadata": {
    "ExecuteTime": {
     "end_time": "2022-05-13T01:36:28.343264Z",
     "start_time": "2022-05-13T01:36:28.192850Z"
    }
   },
   "outputs": [
    {
     "data": {
      "text/html": [
       "<div>\n",
       "<style scoped>\n",
       "    .dataframe tbody tr th:only-of-type {\n",
       "        vertical-align: middle;\n",
       "    }\n",
       "\n",
       "    .dataframe tbody tr th {\n",
       "        vertical-align: top;\n",
       "    }\n",
       "\n",
       "    .dataframe thead th {\n",
       "        text-align: right;\n",
       "    }\n",
       "</style>\n",
       "<table border=\"1\" class=\"dataframe\">\n",
       "  <thead>\n",
       "    <tr style=\"text-align: right;\">\n",
       "      <th></th>\n",
       "      <th>STORY</th>\n",
       "      <th>SECTION</th>\n",
       "    </tr>\n",
       "  </thead>\n",
       "  <tbody>\n",
       "    <tr>\n",
       "      <th>0</th>\n",
       "      <td>But the most painful was the huge reversal in ...</td>\n",
       "      <td>3</td>\n",
       "    </tr>\n",
       "    <tr>\n",
       "      <th>1</th>\n",
       "      <td>How formidable is the opposition alliance amon...</td>\n",
       "      <td>0</td>\n",
       "    </tr>\n",
       "    <tr>\n",
       "      <th>2</th>\n",
       "      <td>Most Asian currencies were trading lower today...</td>\n",
       "      <td>3</td>\n",
       "    </tr>\n",
       "    <tr>\n",
       "      <th>3</th>\n",
       "      <td>If you want to answer any question, click on ‘...</td>\n",
       "      <td>1</td>\n",
       "    </tr>\n",
       "    <tr>\n",
       "      <th>4</th>\n",
       "      <td>In global markets, gold prices edged up today ...</td>\n",
       "      <td>3</td>\n",
       "    </tr>\n",
       "  </tbody>\n",
       "</table>\n",
       "</div>"
      ],
      "text/plain": [
       "                                               STORY  SECTION\n",
       "0  But the most painful was the huge reversal in ...        3\n",
       "1  How formidable is the opposition alliance amon...        0\n",
       "2  Most Asian currencies were trading lower today...        3\n",
       "3  If you want to answer any question, click on ‘...        1\n",
       "4  In global markets, gold prices edged up today ...        3"
      ]
     },
     "execution_count": 6,
     "metadata": {},
     "output_type": "execute_result"
    }
   ],
   "source": [
    "data_news = pd.read_csv('../datasets/news_categories.csv',\n",
    "                        encoding='cp1252'\n",
    "#                         encoding = 'unicode_escape'\n",
    "                       )\n",
    "data_news.drop_duplicates('STORY', inplace=True)\n",
    "data_news.head()"
   ]
  },
  {
   "cell_type": "markdown",
   "metadata": {},
   "source": [
    "### Non-Negative Matrix Factorization"
   ]
  },
  {
   "cell_type": "markdown",
   "metadata": {},
   "source": [
    "ref: `Topic Modelling`\n",
    "https://colab.research.google.com/drive/1tnH3a_DtbpMlXUr_X09ezOL2c4ekoNfx#scrollTo=m5KWA9b0FShn"
   ]
  },
  {
   "cell_type": "markdown",
   "metadata": {},
   "source": [
    "#### Vectorize The Corpus"
   ]
  },
  {
   "cell_type": "code",
   "execution_count": 7,
   "metadata": {
    "ExecuteTime": {
     "end_time": "2022-05-13T01:36:37.899334Z",
     "start_time": "2022-05-13T01:36:36.984386Z"
    }
   },
   "outputs": [
    {
     "name": "stdout",
     "output_type": "stream",
     "text": [
      "News TF-IDF: (7548, 5867)\n"
     ]
    },
    {
     "data": {
      "text/html": [
       "<div>\n",
       "<style scoped>\n",
       "    .dataframe tbody tr th:only-of-type {\n",
       "        vertical-align: middle;\n",
       "    }\n",
       "\n",
       "    .dataframe tbody tr th {\n",
       "        vertical-align: top;\n",
       "    }\n",
       "\n",
       "    .dataframe thead th {\n",
       "        text-align: right;\n",
       "    }\n",
       "</style>\n",
       "<table border=\"1\" class=\"dataframe\">\n",
       "  <thead>\n",
       "    <tr style=\"text-align: right;\">\n",
       "      <th></th>\n",
       "      <th>000 10 000</th>\n",
       "      <th>000 3gb 32gb</th>\n",
       "      <th>000 6gb 128gb</th>\n",
       "      <th>000 annually 20</th>\n",
       "      <th>000 barrels day</th>\n",
       "      <th>000 base 4gb</th>\n",
       "      <th>000 base variant</th>\n",
       "      <th>000 bringing price</th>\n",
       "      <th>000 buying 81</th>\n",
       "      <th>000 crore disinvestment</th>\n",
       "      <th>...</th>\n",
       "      <th>yuan 30 000</th>\n",
       "      <th>yuan 35 000</th>\n",
       "      <th>yuan 35 500</th>\n",
       "      <th>yuvan shankar raja</th>\n",
       "      <th>z5 pro gt</th>\n",
       "      <th>zaidi short story</th>\n",
       "      <th>zenfone max m1</th>\n",
       "      <th>zenfone max m2</th>\n",
       "      <th>zenfone max pro</th>\n",
       "      <th>zuckerberg said know</th>\n",
       "    </tr>\n",
       "  </thead>\n",
       "  <tbody>\n",
       "    <tr>\n",
       "      <th>0</th>\n",
       "      <td>0.0</td>\n",
       "      <td>0.0</td>\n",
       "      <td>0.0</td>\n",
       "      <td>0.0</td>\n",
       "      <td>0.0</td>\n",
       "      <td>0.0</td>\n",
       "      <td>0.0</td>\n",
       "      <td>0.0</td>\n",
       "      <td>0.0</td>\n",
       "      <td>0.0</td>\n",
       "      <td>...</td>\n",
       "      <td>0.0</td>\n",
       "      <td>0.0</td>\n",
       "      <td>0.0</td>\n",
       "      <td>0.0</td>\n",
       "      <td>0.0</td>\n",
       "      <td>0.0</td>\n",
       "      <td>0.0</td>\n",
       "      <td>0.0</td>\n",
       "      <td>0.0</td>\n",
       "      <td>0.0</td>\n",
       "    </tr>\n",
       "    <tr>\n",
       "      <th>1</th>\n",
       "      <td>0.0</td>\n",
       "      <td>0.0</td>\n",
       "      <td>0.0</td>\n",
       "      <td>0.0</td>\n",
       "      <td>0.0</td>\n",
       "      <td>0.0</td>\n",
       "      <td>0.0</td>\n",
       "      <td>0.0</td>\n",
       "      <td>0.0</td>\n",
       "      <td>0.0</td>\n",
       "      <td>...</td>\n",
       "      <td>0.0</td>\n",
       "      <td>0.0</td>\n",
       "      <td>0.0</td>\n",
       "      <td>0.0</td>\n",
       "      <td>0.0</td>\n",
       "      <td>0.0</td>\n",
       "      <td>0.0</td>\n",
       "      <td>0.0</td>\n",
       "      <td>0.0</td>\n",
       "      <td>0.0</td>\n",
       "    </tr>\n",
       "    <tr>\n",
       "      <th>2</th>\n",
       "      <td>0.0</td>\n",
       "      <td>0.0</td>\n",
       "      <td>0.0</td>\n",
       "      <td>0.0</td>\n",
       "      <td>0.0</td>\n",
       "      <td>0.0</td>\n",
       "      <td>0.0</td>\n",
       "      <td>0.0</td>\n",
       "      <td>0.0</td>\n",
       "      <td>0.0</td>\n",
       "      <td>...</td>\n",
       "      <td>0.0</td>\n",
       "      <td>0.0</td>\n",
       "      <td>0.0</td>\n",
       "      <td>0.0</td>\n",
       "      <td>0.0</td>\n",
       "      <td>0.0</td>\n",
       "      <td>0.0</td>\n",
       "      <td>0.0</td>\n",
       "      <td>0.0</td>\n",
       "      <td>0.0</td>\n",
       "    </tr>\n",
       "    <tr>\n",
       "      <th>3</th>\n",
       "      <td>0.0</td>\n",
       "      <td>0.0</td>\n",
       "      <td>0.0</td>\n",
       "      <td>0.0</td>\n",
       "      <td>0.0</td>\n",
       "      <td>0.0</td>\n",
       "      <td>0.0</td>\n",
       "      <td>0.0</td>\n",
       "      <td>0.0</td>\n",
       "      <td>0.0</td>\n",
       "      <td>...</td>\n",
       "      <td>0.0</td>\n",
       "      <td>0.0</td>\n",
       "      <td>0.0</td>\n",
       "      <td>0.0</td>\n",
       "      <td>0.0</td>\n",
       "      <td>0.0</td>\n",
       "      <td>0.0</td>\n",
       "      <td>0.0</td>\n",
       "      <td>0.0</td>\n",
       "      <td>0.0</td>\n",
       "    </tr>\n",
       "    <tr>\n",
       "      <th>4</th>\n",
       "      <td>0.0</td>\n",
       "      <td>0.0</td>\n",
       "      <td>0.0</td>\n",
       "      <td>0.0</td>\n",
       "      <td>0.0</td>\n",
       "      <td>0.0</td>\n",
       "      <td>0.0</td>\n",
       "      <td>0.0</td>\n",
       "      <td>0.0</td>\n",
       "      <td>0.0</td>\n",
       "      <td>...</td>\n",
       "      <td>0.0</td>\n",
       "      <td>0.0</td>\n",
       "      <td>0.0</td>\n",
       "      <td>0.0</td>\n",
       "      <td>0.0</td>\n",
       "      <td>0.0</td>\n",
       "      <td>0.0</td>\n",
       "      <td>0.0</td>\n",
       "      <td>0.0</td>\n",
       "      <td>0.0</td>\n",
       "    </tr>\n",
       "  </tbody>\n",
       "</table>\n",
       "<p>5 rows × 5867 columns</p>\n",
       "</div>"
      ],
      "text/plain": [
       "   000 10 000  000 3gb 32gb  000 6gb 128gb  000 annually 20  000 barrels day  \\\n",
       "0         0.0           0.0            0.0              0.0              0.0   \n",
       "1         0.0           0.0            0.0              0.0              0.0   \n",
       "2         0.0           0.0            0.0              0.0              0.0   \n",
       "3         0.0           0.0            0.0              0.0              0.0   \n",
       "4         0.0           0.0            0.0              0.0              0.0   \n",
       "\n",
       "   000 base 4gb  000 base variant  000 bringing price  000 buying 81  \\\n",
       "0           0.0               0.0                 0.0            0.0   \n",
       "1           0.0               0.0                 0.0            0.0   \n",
       "2           0.0               0.0                 0.0            0.0   \n",
       "3           0.0               0.0                 0.0            0.0   \n",
       "4           0.0               0.0                 0.0            0.0   \n",
       "\n",
       "   000 crore disinvestment  ...  yuan 30 000  yuan 35 000  yuan 35 500  \\\n",
       "0                      0.0  ...          0.0          0.0          0.0   \n",
       "1                      0.0  ...          0.0          0.0          0.0   \n",
       "2                      0.0  ...          0.0          0.0          0.0   \n",
       "3                      0.0  ...          0.0          0.0          0.0   \n",
       "4                      0.0  ...          0.0          0.0          0.0   \n",
       "\n",
       "   yuvan shankar raja  z5 pro gt  zaidi short story  zenfone max m1  \\\n",
       "0                 0.0        0.0                0.0             0.0   \n",
       "1                 0.0        0.0                0.0             0.0   \n",
       "2                 0.0        0.0                0.0             0.0   \n",
       "3                 0.0        0.0                0.0             0.0   \n",
       "4                 0.0        0.0                0.0             0.0   \n",
       "\n",
       "   zenfone max m2  zenfone max pro  zuckerberg said know  \n",
       "0             0.0              0.0                   0.0  \n",
       "1             0.0              0.0                   0.0  \n",
       "2             0.0              0.0                   0.0  \n",
       "3             0.0              0.0                   0.0  \n",
       "4             0.0              0.0                   0.0  \n",
       "\n",
       "[5 rows x 5867 columns]"
      ]
     },
     "execution_count": 7,
     "metadata": {},
     "output_type": "execute_result"
    }
   ],
   "source": [
    "vectorizer = TfidfVectorizer(ngram_range=(3,3), min_df=3,\n",
    "                            max_df=0.4, stop_words=\"english\")\n",
    "\n",
    "X_news = vectorizer.fit_transform(data_news['STORY'])\n",
    "news_terms = vectorizer.get_feature_names_out()\n",
    "news_tf_idf = pd.DataFrame(X_news.toarray(), columns=news_terms)\n",
    "print(f\"News TF-IDF: {news_tf_idf.shape}\")\n",
    "news_tf_idf.head(5)"
   ]
  },
  {
   "cell_type": "markdown",
   "metadata": {},
   "source": [
    "#### Fit NMF Model"
   ]
  },
  {
   "cell_type": "code",
   "execution_count": 8,
   "metadata": {
    "ExecuteTime": {
     "end_time": "2022-05-13T01:36:45.448957Z",
     "start_time": "2022-05-13T01:36:45.318294Z"
    }
   },
   "outputs": [
    {
     "name": "stdout",
     "output_type": "stream",
     "text": [
      "Original shape of X news is (7548, 5867)\n",
      "Decomposed W news matrix is (7548, 4)\n",
      "Decomposed H news matrix is (4, 5867)\n"
     ]
    }
   ],
   "source": [
    "nmf = NMF(n_components=len(set(data_news['SECTION'])))\n",
    "W_news = nmf.fit_transform(X_news)\n",
    "H_news = nmf.components_\n",
    "print(f\"Original shape of X news is {X_news.shape}\")\n",
    "print(f\"Decomposed W news matrix is {W_news.shape}\")\n",
    "print(f\"Decomposed H news matrix is {H_news.shape}\")"
   ]
  },
  {
   "cell_type": "markdown",
   "metadata": {},
   "source": [
    "#### Report Results For Each Topic"
   ]
  },
  {
   "cell_type": "code",
   "execution_count": 9,
   "metadata": {
    "ExecuteTime": {
     "end_time": "2022-05-13T01:36:49.513196Z",
     "start_time": "2022-05-13T01:36:49.502046Z"
    }
   },
   "outputs": [],
   "source": [
    "def get_top_tf_idf_tokens_for_topic(H: np.array, feature_names: List[str], num_top_tokens: int = 5):\n",
    "    \"\"\"\n",
    "    Uses the H matrix (K components x M original features) to identify for each\n",
    "    topic the most frequent tokens.\n",
    "    \"\"\"\n",
    "    for topic, vector in enumerate(H):\n",
    "        print(f\"TOPIC {topic}\\n\")\n",
    "        total = vector.sum()\n",
    "        top_scores = vector.argsort()[::-1][:num_top_tokens] # positions of sorted order\n",
    "        token_names = list(map(lambda idx: feature_names[idx], top_scores))\n",
    "        strengths = list(map(lambda idx: vector[idx] / total, top_scores))\n",
    "\n",
    "        for strength, token_name in zip(strengths, token_names):\n",
    "            print(f\"\\b{token_name} ({round(strength * 100, 1)}%)\\n\")\n",
    "        print(f\"=\" * 50)"
   ]
  },
  {
   "cell_type": "code",
   "execution_count": 10,
   "metadata": {
    "ExecuteTime": {
     "end_time": "2022-05-13T01:36:50.702923Z",
     "start_time": "2022-05-13T01:36:50.684037Z"
    },
    "scrolled": false
   },
   "outputs": [
    {
     "name": "stdout",
     "output_type": "stream",
     "text": [
      "News Topics:\n",
      "\n",
      "\n",
      "TOPIC 0\n",
      "\n",
      "\bstory published wire (11.5%)\n",
      "\n",
      "\bfeed modifications text (11.5%)\n",
      "\n",
      "\bwire agency feed (11.5%)\n",
      "\n",
      "\bpublished wire agency (11.5%)\n",
      "\n",
      "\bagency feed modifications (11.5%)\n",
      "\n",
      "\btext headline changed (11.5%)\n",
      "\n",
      "\bmodifications text headline (11.5%)\n",
      "\n",
      "\bsaid story published (1.4%)\n",
      "\n",
      "\badded story published (0.9%)\n",
      "\n",
      "\bahead general election (0.2%)\n",
      "\n",
      "==================================================\n",
      "TOPIC 1\n",
      "\n",
      "\bprime minister narendra (12.6%)\n",
      "\n",
      "\bminister narendra modi (12.6%)\n",
      "\n",
      "\bnarendra modi government (0.8%)\n",
      "\n",
      "\bnational democratic alliance (0.8%)\n",
      "\n",
      "\bcongress president rahul (0.8%)\n",
      "\n",
      "\bpresident rahul gandhi (0.8%)\n",
      "\n",
      "\bmodel code conduct (0.7%)\n",
      "\n",
      "\bnarendra modi led (0.6%)\n",
      "\n",
      "\bnew delhi election (0.6%)\n",
      "\n",
      "\bdelhi election commission (0.6%)\n",
      "\n",
      "==================================================\n",
      "TOPIC 2\n",
      "\n",
      "\bmint india wire (37.9%)\n",
      "\n",
      "\bindia wire appleapple (2.0%)\n",
      "\n",
      "\bartificial intelligence ai (1.6%)\n",
      "\n",
      "\bindia wire data (1.5%)\n",
      "\n",
      "\bmate 20 pro (1.2%)\n",
      "\n",
      "\bindia wire asus (1.1%)\n",
      "\n",
      "\bstep right direction (1.0%)\n",
      "\n",
      "\bindia wire google (0.9%)\n",
      "\n",
      "\b6t priceoneplus 6t (0.8%)\n",
      "\n",
      "\bindia wire oneplus (0.8%)\n",
      "\n",
      "==================================================\n",
      "TOPIC 3\n",
      "\n",
      "\bbharatiya janata party (6.1%)\n",
      "\n",
      "\bjanata party bjp (5.1%)\n",
      "\n",
      "\blok sabha elections (5.1%)\n",
      "\n",
      "\bruling bharatiya janata (1.0%)\n",
      "\n",
      "\blok sabha polls (0.9%)\n",
      "\n",
      "\blok sabha seats (0.9%)\n",
      "\n",
      "\bpresident rahul gandhi (0.8%)\n",
      "\n",
      "\bongoing lok sabha (0.8%)\n",
      "\n",
      "\bjanata dal secular (0.8%)\n",
      "\n",
      "\bcongress president rahul (0.8%)\n",
      "\n",
      "==================================================\n"
     ]
    }
   ],
   "source": [
    "print(f\"News Topics:\\n\\n\")\n",
    "get_top_tf_idf_tokens_for_topic(H_news, news_tf_idf.columns.tolist(), 10)"
   ]
  },
  {
   "cell_type": "markdown",
   "metadata": {},
   "source": [
    "#### Get the Top Documents For Each Topic"
   ]
  },
  {
   "cell_type": "code",
   "execution_count": 11,
   "metadata": {
    "ExecuteTime": {
     "end_time": "2022-05-13T01:36:55.513722Z",
     "start_time": "2022-05-13T01:36:55.501568Z"
    }
   },
   "outputs": [],
   "source": [
    "def get_top_documents_for_each_topic(W: np.array, documents: List[str], num_docs: int = 5):\n",
    "    \"\"\"\n",
    "    Uses the W matrix (N docs x K components/topics) to identify for each\n",
    "    topic the most top documents.\n",
    "    \"\"\"\n",
    "    sorted_docs = W.argsort(axis=0)[::-1]\n",
    "    top_docs = sorted_docs[:num_docs].T\n",
    "    per_document_totals = W.sum(axis=1)\n",
    "    for topic, top_documents_for_topic in enumerate(top_docs):\n",
    "        print(f\"Topic {topic}\")\n",
    "        for doc in top_documents_for_topic:\n",
    "            score = W[doc][topic]\n",
    "            percent_about_topic = round(score / per_document_totals[doc] * 100, 1)\n",
    "            print(f\"{percent_about_topic}%\", documents[doc])\n",
    "            print('---------------')\n",
    "        print(\"=\" * 50)"
   ]
  },
  {
   "cell_type": "code",
   "execution_count": 12,
   "metadata": {
    "ExecuteTime": {
     "end_time": "2022-05-13T01:36:56.204335Z",
     "start_time": "2022-05-13T01:36:56.175826Z"
    },
    "scrolled": true
   },
   "outputs": [
    {
     "name": "stdout",
     "output_type": "stream",
     "text": [
      "Topic 0\n",
      "100.0% Inventory levels and oil investments are the two main factors guiding OPEC's action, Falih said, adding that oil industry estimates show that $11 trillion of investments will be needed over the coming two decades to meet demand growth.\n",
      "\n",
      "\n",
      "\"Our goal is to bring global inventory levels down to more normal levels - and even more importantly, to proactively protect against a glut,\" he said.\n",
      "\n",
      "\n",
      "\"Another important metric is the state of oil investments ... we are not seeing an investment trend that will get us even closer to the required figures.\"\n",
      "\n",
      "\n",
      "This story has been published from a wire agency feed without modifications to the text. Only the headline has been changed\n",
      "---------------\n",
      "100.0% “If there is a continuity at the center, foreign inflows might surpass our assumption and the RBI may not have to do huge OMOs,\" ICICI’s Singh said. “In that case, things can change drastically.\"\n",
      "\n",
      "\n",
      "This story has been published from a wire agency feed without modifications to the text. Only the headline has been changed.\n",
      "---------------\n",
      "100.0% The challenge is most acute for sports car manufacturers, Michael Pfadenhauer, head of acoustics at Porsche, told the company's in-house Christophorus magazine.\n",
      "\n",
      "\n",
      "\"There is no e-sound. It has to be invented. The sound transports the emotions of a vehicle. It gives you feedback about the potency and capability of the car,\" he said.\n",
      "\n",
      "\n",
      "\"At low speeds and revs it needs to enable comfortable driving. At higher speeds in sports mode, a more intense acoustic feedback is needed to make customers experience the potential of the vehicle,\" Pfadenhauer told the magazine.\n",
      "\n",
      "\n",
      "This story has been published from a wire agency feed without modifications to the text. Only the headline has been changed.\n",
      "---------------\n",
      "100.0% We’ll find out for sure on Tuesday, but Wedbush Securities analyst Michael Pachter believes the major game publishers aren’t quite ready to sacrifice profit margins to try something new. Like movie studios, game makers will likely view subscription revenue as cannibalistic to their main business of selling games, he says. Publishers typically offer up older games or lower-profile releases through the current crop of streaming products. As the tepid response to those services show, gamers want access to the newest, hottest titles. “Everyone wants to be the Netflix of games, but I’m utterly confident it won’t work,\" Pachter says.\n",
      "\n",
      "\n",
      "However, he hastens to add that new cloud gaming services could expand the market, rather than steal share from existing options. “There are a couple billion people out there with internet access and only 250 million consoles,\" Pachter says. “This could at least double the industry.\"\n",
      "\n",
      "\n",
      "This story has been published from a wire agency feed without modifications to the text. Only the headline has been changed.\n",
      "---------------\n",
      "100.0% Nuro has raised more than $1 billion from investors, including Greylock Partners and Gaorong Capital, which had participated in its Series A funding round.\n",
      "\n",
      "\n",
      "This story has been published from a wire agency feed without modifications to the text. Only the headline has been changed.\n",
      "---------------\n",
      "100.0% \"Other nations can make the argument that if the British are confident of mitigation against national security threats then they can also reassure their publics and the US administration that they are acting in a prudent manner to allow their telecommunications service providers to use Chinese components,\" an unnamed source told the newspaper.\n",
      "\n",
      "\n",
      "And New Zealand is in talks to minimise the security risks posed by using Huawei equipment in 5G infrastructure instead of excluding it entirely.\n",
      "\n",
      "\n",
      "Prime Minister Jacinda Ardern said Tuesday that New Zealand's security bureau was discussing Huawei security concerns with Spark, the domestic telecoms carrier that had been barred from using the Chinese firm's equipment last year.\n",
      "\n",
      "\n",
      "She also added that the company had \"never\" been ruled out from potentially participating in the country's 5G rollout.\n",
      "\n",
      "\n",
      "This story has been published from a wire agency feed without modifications to the text. Only the headline has been changed.\n",
      "---------------\n",
      "100.0% MSCI and Hang Seng Indexes Co. Ltd., which included DYF in its Composite LargeCap & MidCap Index in February, can remove stocks from benchmarks because of a trading suspension, according to rules on the two firms’ websites. Representatives for Hang Seng didn’t reply to a request seeking comment, while MSCI didn’t comment on DYF.\n",
      "\n",
      "\n",
      "This story has been published from a wire agency feed without modifications to the text. Only the headline has been changed.\n",
      "---------------\n",
      "100.0% This story has been published from a wire agency feed without modifications to the text. Only the headline has been changed\n",
      "---------------\n",
      "100.0% On Friday,the Supreme Court refused to suspend the political funding through electoral bonds but, did introduce conditions to bring transparency in the process.\n",
      "\n",
      "\n",
      "This story has been published from a wire agency feed without modifications to the text. Only the headline has been changed.\n",
      "---------------\n",
      "100.0% (This story has been published from a wire agency feed without modifications to the text. Only the headline has been changed)\n",
      "\n",
      "\n",
      "Facebookfake newsFacebook India DirectorRaisina Dialogue 2019Facebook fake newsfake news whatsappAnkhi Das\n",
      "---------------\n",
      "==================================================\n",
      "Topic 1\n",
      "100.0% A day after Prime Minister Narendra Modi refuted the Congress' claim on six surgical strikes, Gandhi said \"The Army, Air Force or Navy are not personal properties of Narendra Modi. When he says that surgical strikes during UPA were done in video games then he is not insulting Congress but the Army.\"\n",
      "---------------\n",
      "100.0% The government’s stake sale in Axis Bank Ltd., inflows into the Bharat 22 ETF and Vodafone Plc’s investment in its India unit helped bring in the dollars.\n",
      "\n",
      "\n",
      "Traders have also been positioning for a bankruptcy court verdict due by March 8 on ArcelorMittal’s bid for the indebted Essar Steel. ArcelorMittal is expected to buy the steelmaker for $5.9 billion, which will lead to a huge forex inflow\n",
      "\n",
      "\n",
      "Prime Minister Narendra Modi’s re-election prospects have received a boost after he was seen as being as decisive in the response to the Kashmir terror attacks\n",
      "\n",
      "\n",
      "Further rupee gains maybe limited in the near term due to USD/INR support at 200-DMA, currently at 70.58, and an additional support at 69.230, the Jan. 7 low\n",
      "---------------\n",
      "100.0% 1. The Yeti: If you have spent a long time walking around in the Himalayas, as Prime Minister Narendra Modi has, you are certain to have heard of the Yeti. If you happened to wander a bit further than you should, you would have come across, or at least heard whispered, the Mi-Go—the Tibetan word for the Yeti. Unfortunately, there’s no Hindi or Sanskrit name for it. But the Indian Army now definitely knows it’s a “beast\". The trouble is no one knows what it looks like. The only thing abominable about the Yeti is, of course, its cussed refusal to be seen. A bit like Indian members of Parliament in the 46 weeks when it isn’t election season. Tell your voters you’ve seen the Yeti.\n",
      "\n",
      "\n",
      "2. Dynasty: The long-running American prime time television serial, that is. There’s a reason it was long-running and prime time. It was more entertaining than anything else on telly, or real life—and certainly elections. It ran for eight years from 1981 to 1989—arguably, a tiny bit shorter than most political families in government. But then there was a reunion in 1991. And then they started showing it all over again in a new ‘reboot’ series in 2017—how shameless can you get?\n",
      "\n",
      "\n",
      "3. Curses: There’s no need to get all offensive with curses. Hone those cursing skills and just find better uses: curse your enemy (political) camp so it vanishes. You don’t have to bother with refusing to sign development project papers for villages that didn’t vote for you. Just curse those villages so their polling booths disappear. And since most village polling booths are government schools, you’d have fulfilled your de-development pledge anyway. See? No school!\n",
      "\n",
      "\n",
      "4. Bed tea: Promise the voters (only those who vote for you, naturally) bed tea once a week. So once every week you return to your constituency with a steaming kettle of tea, visit every home at dawn and pour them a hot mug. This will help you keep in touch with the constituent. Sit with them for a spot of charcha. Try not to say Ah Taj everytime you pour a cup, because that can get some suspicious kind of people mistaking you to be an admirer of the mausoleum of love. And that certainly wouldn’t be anybody’s cup of tea.\n",
      "---------------\n",
      "100.0% NIC has been offering Data Centre and Cloud services to the government. Currently, it has four national data centres and 30 mini data centres across the country. Cloud services are presently offered from all four national data centres as well as some mini data centres. Over 1,000 e-governance applications of the government including Digital India Initiatives are hosted at these locations.\n",
      "\n",
      "\n",
      "Digital India campaign was launched by Prime Minister Narendra Modi in July 2015 to ensure that government services are made available to citizens electronically through improved online infrastructure and by increasing Internet connectivity or by making the country digitally empowered in the field of technology.\n",
      "---------------\n",
      "100.0% Since single-player mobile games were rendered monotonous at some point, players did not get aggressively hooked on to them as compared to the adrenaline-pumping, multi-player online games.\n",
      "\n",
      "\n",
      "Three out of four Indian gamers play mobile games at least twice a day, for an average of over 60 minutes, each day\n",
      "\n",
      "\n",
      "In a quest to experiment with newer career opportunities, young adults are also exploring gaming at a professional level today\n",
      "\n",
      "\n",
      "New Delhi: \"Ye PUBG wala hai kya?\" Prime Minister Narendra Modi asked a mother who raised concerns about her son being too involved into online games during the \"Pariksha pe Charcha 2.0\" event here on Tuesday.\n",
      "\n",
      "\n",
      "The ground reality is that online, multi-player games have taken over the millenials big time in India, sending the earlier individual mobile games like Candy Crush and Temple Run almost into oblivion.\n",
      "---------------\n",
      "67.6% Bond investors in Japan are turned off by the tumble in the rupee, which has dropped 6.1 percent in the past year against the yen, the worst performer among Asian currencies. Projections show the Indian currency’s fall will continue until the end of 2021. Prime Minister Narendra Modi announced an expansionary budget earlier this month in his final attempt to woo voters as investors are concerned his re-election bid may fall after at least three pre-poll surveys indicated that his Bharatiya Janata Party won’t get a majority later in the year.\n",
      "---------------\n",
      "100.0% Elections 2019 is rapidly morphing into a showdown between Prime Minister Narendra Modi and the rest—the closest that a democratic framework like India’s can fashion in terms of a presidential contest. (Mint)\n",
      "\n",
      "\n",
      "Narendra Modi's response to the India-Pakistan conflict over the past month is threatening to reorder the narrative of the election campaign\n",
      "\n",
      "\n",
      "With the Election Commission of India (EC) announcing the dates for Elections 2019 on Sunday, the die is now cast. It will be tempting to try and seek parallels from the past to etch the trends for the upcoming electoral showdown, but that would be a mistake as every election, whether national or state, has its unique narrative.\n",
      "\n",
      "\n",
      "The obvious question then is what will it be for this election. A good hazard will be that this is rapidly morphing into a showdown between Prime Minister Narendra Modi and the rest; the closest that a democratic framework like India’s can fashion in terms of a presidential contest.\n",
      "---------------\n",
      "100.0% PM Modi on his first international speech\"When I reached America, I met Sushma Swaraj and she asked me about the speech\n",
      "\n",
      "\n",
      "PM Modi likes team games\"I liked playing team games instead of individual games as they develop you in a different way, on a personal level\n",
      "\n",
      "\n",
      " So I used to be at the pond and used to go for swimming and this is probably how I toned my body,\" says Prime Minister Narendra Modi\n",
      "\n",
      "\n",
      " This doesn't mean I don't have affection for my mother, but I have made this nation as my family and I want to work for its betterment,\" says Prime Minister Narendra Modi\n",
      "\n",
      "\n",
      "I admire you not as a PM but as a human being: Akshay tells PM Modi\"You are a lovely person who has seen a lot in life\n",
      "\n",
      "\n",
      "PM Modi on his unique way of wearing the watch\"This is because I don't want to insult anyone by checking the time in front of them,\" says Prime Minister Narendra Modi\n",
      "\n",
      "\n",
      "PM Modi on his fashion statement which includes the crisply ironed kurtas, shoes and well-trimmed beard\"This is a false image of my clothing\n",
      "\n",
      "\n",
      " Then I realised that full-sleeved kurtas took me longer to wash and took more space in my bag so that is why I started wearing half sleeved kurtas,\" Prime Minister Narendra Modi\n",
      "---------------\n",
      "99.7% A man watches Prime Minister Narendra Modi addressing to the nation, on TV screens inside a showroom in Mumbai. (Reuters )\n",
      "\n",
      "\n",
      "The Commission has directed a committee of officers to examine the matter immediately in the light of the model code of conduct\n",
      "\n",
      "\n",
      "New Delhi: Election Commission said it had directed a committee of officers to examine Prime Minister Narendra Modi's announcement of an anti-satellite test on Wednesday, after opposition leaders complained the move was aimed at scoring political points.\n",
      "---------------\n",
      "86.6% Prime Minister Narendra Modi after releasing the BJP's 2019 election manifesto in New Delhi (Reuters)\n",
      "\n",
      "\n",
      "The NDA will go beyond the BJP’s Sankalp Patra, deliver more than promised: Prime Minister Narendra Modi\n",
      "\n",
      "\n",
      "Mumbai: Prime Minister Narendra Modi on Tuesday told voters in Maharashtra that the Bharatiya Janata Party-led National Democratic Alliance would not restrict its governance to what had been promised in the BJP’s Sankalp Patra, but would go beyond it.\n",
      "---------------\n",
      "==================================================\n",
      "Topic 2\n",
      "100.0% Xiaomi’s Mi Home is affordable internet camera for users who want to keep an eye on their house while they are away. It has a built in microphone, motion sensor that can detect intruders. It can rotate 360 degrees sideways and tilt up and down by 45 degrees to cover every nook and corner of the room.\n",
      "\n",
      "\n",
      "Fujifilm’s new mirrorless XT3 camera offers bigger buttons and dials, runs on a faster quad-core processor, has a touch-enabled LCD screen and uses an advanced sensor that has backside illumination to capture more light. It can record 4K videos at 60fps.\n",
      "\n",
      "\n",
      "Inspired by the Arctic fox and its tendency to change colour with seasons, this smart bag by a Bengaluru-based start-up is made of a heat-sensing fabric. When exposed to sunlight or heat, the fabric automatically changes its colour. It has a built-in USB port to charge devices.\n",
      "\n",
      "\n",
      "Users can fill it with beverages and its built-in temperature sensors and microprocessor-controlled heating system can heat the drink anytime they want. It has a capacity of 355ml.\n",
      "\n",
      "\n",
      "mint-india-wire christmas daychristmas giftschristmas gift ideasgadgetsapple ipadamazon fire stickheadphonescamerassamsung galaxy watchfossil watcheschristmas giting ideas\n",
      "---------------\n",
      "100.0% However, he acknowledges that blockchain has many deficiencies related to security. Yet, he says, “blockchain is a technology to embrace in the near future. It will help innovative cross-border payment solutions built on block chain technology. It will be a game changer for India. However, it is at a nascent stage and needs to evolve to harness its potentiality to the full\".\n",
      "\n",
      "\n",
      "mint-india-wire Aarzoo Searchblockchain-based search engineblockchainblockchain technologyVinod Sujan\n",
      "---------------\n",
      "100.0% Besides allowing users to get digital copies of documents issued by various agencies, DigiLocker provides the option to keep these safe on the cloud (1TB storage per user) in PDF, Jpeg and PNG formats.\n",
      "\n",
      "\n",
      "However, to upload a document successfully on DigiLocker, users are required to provide storage access permission to the app first, advises Nayak.\n",
      "\n",
      "\n",
      "Upcoming features, he adds, will include a new feedback system that will let users report issues with screenshots, and a DigiLocker ID that will allow users to get documents issued directly to their account.\n",
      "\n",
      "\n",
      "mint-india-wire digilockerdigilocker appdigilocker benefitsaadhaardriving licencepan cardsoft copiespersonal id proofdigilocker airportdigilocker cbsedigilocker uidigital india\n",
      "---------------\n",
      "100.0% Taclim VR shoes are also worth watching out for. They have built-in nine-axis sensors to create varying walking sensations based on the environment. So, walking in a virtual world over sand, grassland or rock will be a totally different experience. Similarly, when a user kicks a person wearing an armour he will feel the pain of hitting a hard object. Developed by Japan-based Cerevo Inc., the shoes can cost between $1,000 and $1,500.\n",
      "\n",
      "\n",
      "mint-india-wire Immersive gaming experiencevirtual worldTeslasuitTaclim VR shoesPlexus VR glovesVirtual reality\n",
      "---------------\n",
      "100.0% WhatsApp is rumoured to incorporate a fingerprint lock mechanism within the app to address privacy concerns. Photo: AFP\n",
      "\n",
      "\n",
      "WhatsApp new features: A search option for WhatsApp Stickers, Dark Mode and a fingerprint scanner are in the works for the popular chat app in 2019\n",
      "\n",
      "\n",
      "mint-india-wire WhatsAppWhatsApp Dark ModeWhatsApp new featuresWhatsApp updatesWhatsApp fingerprint lockWhatsApp installWhatsApp 2019 featuresWhatsApp 2019 updatesWhatsApp PiP mode\n",
      "---------------\n",
      "100.0% For a wholly immersive VR experience, there is the Teslasuit, a full body suit with haptic feedback system\n",
      "\n",
      "\n",
      "To interact with objects in the virtual world, there are hand-held controllers, which are often not very intuitive to use when it comes to simulating the touch experience in the virtual world\n",
      "\n",
      "\n",
      "mint-india-wire Immersive gaming experiencevirtual worldTeslasuitTaclim VR shoesPlexus VR glovesVirtual reality\n",
      "---------------\n",
      "100.0% Technically, plastic substrates are less prone to damage than glass, but can bend up to only a certain point.\n",
      "\n",
      "\n",
      "With foldable screens, makers can accommodate bigger screens in a form factor that would fit into a pocket\n",
      "\n",
      "\n",
      "mint-india-wire foldable phonesfoldable smartphonesSamsung foldable phoneAppleGoogleApple iPhonetechnologygadgets\n",
      "---------------\n",
      "100.0% The lack of any obvious white spaces is also evident in the startup world. Growing a business is getting more expensive and funding rounds are trending upwards. In 2008, less than 4% of series C rounds were over $50 million. By 2017, close to 20% of all series C rounds were above that number. Almost a third of all series D rounds in 2017 were above $50 million, up from just 4% in 2008. Startup founders are also skewing older, signalling that experience and specialization are needed to solve the harder problems (Chart 2).\n",
      "\n",
      "\n",
      "The rise of mega-large funds, of which the Vision Fund is the most visible example, is another indication that investors have fewer ideas on which to place their bets. In a marketplace with limited ideas, the few startups that achieve scale can command inflated valuations.\n",
      "\n",
      "\n",
      "The futurist Roy Amara stated that human tendency is to overestimate the effect of a technology in the short run and underestimate the effect in the long run. The first industrial revolution gave us steam engines and railroads. The second industrial revolution was built on the commercialisation of electricity and the internal combustion engine. In both those case, it took almost 50-60 years for their effects to work through the system.\n",
      "\n",
      "\n",
      "Perhaps something similar is at play. We are in the lull phase before the next wave. History suggests that a series of incremental innovations ultimately lead to major advances. With A.I, big data and automation, we are perhaps building the plumbing for tomorrow’s innovation. Extrapolating from today’s technology perhaps limits our comprehension of what could be possible.\n",
      "\n",
      "\n",
      "But in the interim, we have to be content with the little things. As one commentator put it memorably, “SF [San Francisco] tech culture is focused on solving one problem: What is my mother no longer doing for me?\".\n",
      "\n",
      "\n",
      "The past two decades have seen tech firms burst on the economic landscape, turning ‘innovative’ ideas into businesses. With new-age?tech?such?as?AI?and?ML?at?their disposal, they have garnered skyrocketing valuations as well.\n",
      "\n",
      "\n",
      "The ‘innovation’ achieved in recent years appears diminutive, compared with the giant leaps enterprises took some 200 years ago that fundamentally changed the way we live, travel, communicate and eat today.\n",
      "\n",
      "\n",
      "We are probably in the lull phase before the next wave. History shows that a series of incremental innovations ultimately lead to major advances. Perhaps something similar is at play in the world of tech and innovation.\n",
      "\n",
      "\n",
      "long-reads mint-india-wire Big technologystartupsPeter Thielartificial intelligenceStanley Kubrick2001: A Space OdysseyAutomated assistantsSiriAlexaUberSwiggySoftbankAI\n",
      "---------------\n",
      "100.0% He claims the AI engine performs at 90%-plus accuracy and is supplemented by doctor intervention, thus offering the best possible diagnosis and care. More than 45 leading hospitals with 100-plus doctors are on the mfine network, consulting across 12 specialties.\n",
      "\n",
      "\n",
      "mint-india-wire health startupscloud clinicsAI and health careStasis LabsDinesh SeemakurtyMichael Maylahnmfinepatientsremote patient monitoring systemhigh quality health carePatient safetyMachine learningPatient Care\n",
      "---------------\n",
      "100.0% In ‘Hitman 2’, you can walk into a level dressed as a tourist and walk out dressed as a waiter, mechanic or a guard.\n",
      "\n",
      "\n",
      "mint-india-wire Hitman 2Hitman 2 game reviewHitmanSilent Assassinps4 xboxps4 pro xboxGamingTechnology\n",
      "\n",
      "\n",
      "Have you ever watched a spy thriller and wondered why the actor didn’t do things a certain way? If that’s the case, then Hitman 2 is the game that lets you live out that fantasy. To be fair, every Hitman game allows you to do that, but this one adds another impressive dimension to a franchise that is already hard to beat when it comes to stealth-based games.\n",
      "---------------\n",
      "==================================================\n",
      "Topic 3\n",
      "100.0% Unsurprisingly, we find that leaders of the Bharatiya Janata Party (BJP) have focused on the welfare achievements of their government. Across the board, BJP leaders highlight the work done in bringing liquefied petroleum gas (LPG) connections, electricity and better constructed households to rural areas. They also highlight the progress made on economic growth and tax reforms.\n",
      "\n",
      "\n",
      "We find that some of these claims are true but others are either exaggerated or lack context. The government has improved rural infrastructure but this has not necessarily led to improvement in important outcomes. For instance, while there are more LPG connections than before, external survey data reveals that actual LPG usage remains low. Similarly, more households are now on the grid but many still do not get quality access to electricity.\n",
      "---------------\n",
      "100.0% There are some who blame the local Congress MP and MLA for not passing on the ‘benefits’ launched by Modi\n",
      "\n",
      "\n",
      "BENGALURU: About 630km out of Bengaluru in the parched Karnataka village of Rawoor, a tanker spraying water to bring down dust before a political gathering makes a hash of the job, splashing water around, muddying attendees’ pristine white shirts and sending them scurrying.\n",
      "\n",
      "\n",
      "People gathered for the Bharatiya Janata Party’s (BJP’s) roadshow in the 40 degree heat curse and rush to clean the stains before their leader arrives to campaign in the area. Oblivious to the commotion, some youngsters are busy playing cricket.\n",
      "---------------\n",
      "100.0% Bengaluru: After several delays and fights within, the Bharatiya Janata Party (BJP) on Saturday announced K Surendran, one of the several Kerala general secretaries, as their candidate in the Pathanamthitta constituency, where the Sabarimala temple is located.\n",
      "---------------\n",
      "100.0% At Wardha in Vidarbha, one of the epicentres of agrarian distress in Maharashtra where Modi held his first election rally in Maharashtra on 1 April, Gandhi reiterated the promises made to the farmers in the party manifesto, including a the establishment of a separate agriculture budget if the Congress came to power.\n",
      "\n",
      "\n",
      "The Congress president also accused Modi of “insulting\" Bharatiya Janata Party (BJP) veteran L.K. Advani. “In Hindu ethos, the guru is the most important person. Who is Modiji’s guru? Advani. But Modi does not even offer his respects to Advani. Modi has thrown Advani from the stage. Unko joote maarke bhaga diya,\" Gandhi said, in Vidarbha’s Chandrapur, in reference to the BJP not nominating Advani and another veteran, Murli Manohar Joshi for the Lok Sabha elections.\n",
      "\n",
      "\n",
      "The most colourful component of Gandhi’s Maharashtra outing was the one in Pune where he held an interaction with “change-makers\" at the Magarpatta city.\n",
      "\n",
      "\n",
      "There were many interesting exchanges between well-known Marathi actor Subodh Bhave and popular radio jockey Malishka Mendonsa who interacted with the Congress president.\n",
      "---------------\n",
      "100.0% BJP has promised to take Ayushman Bharat to the next level continuing with it’s mantra of “health for all”\n",
      "\n",
      "\n",
      "Congress has promised that the total government expenditure on healthcare will be doubled to 3% of GDP by 2023-24\n",
      "\n",
      "\n",
      "New Delhi: Two of the major Indian political parties i.e. Congress and Bharatiya Janata Party (BJP) have floated their agendas for healthcare for upcoming Lok Sabha elections. While the saffron party cashing in on its most ambitious insurance-based health scheme Ayushman Bharat-Pradhan Mantri Jan Arogya Yojana (AB-PMJAY) rolled out last year, the Congress has instead contested the insurance model and promised to double up the health budget coupled with free healthcare services.\n",
      "\n",
      "\n",
      "BJP that released its election manifesto called as Sankalp Patra on Monday has promised to take AB-PMJAY to the next level continuing with it’s mantra of “health for all\". The insurance scheme provides an annual health cover of ?5 lakh per family for secondary and tertiary care hospitalization. Another part of the AB is health and wellness centres. “We will target provisioning of telemedicine and diagnostic laboratory facilities at these health and wellness centres by 2022 to ensure quality primary medical care to the poor at his doorstep,\" the manifesto said.\n",
      "---------------\n",
      "100.0% The list of names announced also met with protests within the party. The list includes all sitting MPs like Shashi Tharoor except one, senior leader KV Thomas. As expected, senior leaders such as Oommen Chandy, KC Venugopal and Mullappally Ramachandran were not in the list. The surprise axing of Thomas, sitting MP from Ernakulam, has left him red-faced and protesting.\n",
      "\n",
      "\n",
      "Thomas, a five-time MP who is closely connected to the Catholic Church, strongly reacted against his replacement by Ernakulam MLA Hibi Eden. \"This is shocking. I was not even given a hint. It is not my fault that I turned 72,\" he told reporters. He remained silent when asked whether he would defect to the Bharatiya Janata Party in protest, and later said no one had contacted him from the BJP.\n",
      "---------------\n",
      "100.0% For well over 50 years, the key issue in Assam has been illegal immigration—and it will come to the fore in elections this year\n",
      "\n",
      "\n",
      "Mint decodes the electoral puzzle of the state considered the Bharatiya Janata Party’s gateway to the North-East\n",
      "---------------\n",
      "100.0% This narrative was, with the benefit of hindsight, seeded in the audacious win for the Bharatiya Janata Party (BJP) fashioned by Modi in 2014. It had ended the era of coalitions with the BJP, first time in 30 years, managing a majority on its own. The Modi stamp on the victory was not one off; we would see this pattern playing out again and again in every state election as the BJP expanded its national electoral footprint, at the expense of the Congress, to unprecedented proportions, with the exception of the defeats in Delhi, Bihar, Madhya Pradesh, Chhattisgarh and Rajasthan.\n",
      "\n",
      "\n",
      "Effectively, Modi has, over the last five years, emerged as the anchor of the BJP, which in turn has evolved into the principal pole of Indian politics. The flip side of this is that if Modi is weakened, so is the BJP, particularly with respect to the Lok Sabha elections.\n",
      "\n",
      "\n",
      "It would ideally have avoided a presidential contest as it is aware that at present it does not have the leadership to challenge Modi. At the same time, its best bet has been to try and discredit Modi, which only reinforces the contours of a presidential contest.\n",
      "---------------\n",
      "100.0% India is likely to witness an election campaign that is vicious, acerbic and represents the deep divisions clearly visible in society\n",
      "\n",
      "\n",
      "With the formal announcement of Lok Sabha Elections 2019, the countdown to the national elections has truly begun. It is increasingly becoming clear that the coming election will be one of the most keenly contested, will witness a high-decibel campaign and be one of the shrillest in terms of rhetoric, attack and counterattack. One has already seen trends of this in the last few months. But, in what ways is Elections 2019 similar to the polls of the past, and from what perspective is it different?\n",
      "\n",
      "\n",
      "In the five years since the 2014 Lok Sabha elections, there has been an intense competition among different political parties. The Bharatiya Janata Party (BJP) was able to capitalize on its Lok Sabha victory and cash in on the goodwill for a few years. As it was coming close to completing its term, visible anti-incumbency stepped in, and the defeat in the Hindi heartland states at the end of last year appeared to have seen the political journey reach a \"full circle\". The Pulwama attack and the subsequent developments have added a new dimension to the ensuing electoral contest. In this context, a few issues merit attention.\n",
      "---------------\n",
      "100.0% Gowda had led discussions among the other hopefuls for the seat but was finally asked to take up the responsibility with barely any time left to prepare.\n",
      "\n",
      "\n",
      "Gowda will now take on union minister and former Karnataka CM, D.V.Sadananda Gowda of the Bharatiya Janata Party (BJP) in the Vokkaliga dominated seat.\n",
      "\n",
      "\n",
      "Gowda had unsuccessfully contested the 2009 Lok Sabha elections from Bengaluru South against BJP's Ananth Kumar.\n",
      "\n",
      "\n",
      "The Congress will now contest 21 out of the 28 seats in the state while the JD(S) will contest seven. Though both parties wanted a higher seat share, the dearth of candidates forcing last minute decisions that could hand the advantage to the BJP.\n",
      "---------------\n",
      "==================================================\n"
     ]
    }
   ],
   "source": [
    "get_top_documents_for_each_topic(W_news, data_news['STORY'].tolist(), num_docs=10)"
   ]
  },
  {
   "cell_type": "markdown",
   "metadata": {},
   "source": [
    "- Q: Explain/summarize what the subject each topic is likely to be.\n",
    "\n",
    "- A:\n",
    "\n",
    "    - Topic 0 is likely to be business. Although it can not be seen from the extracted token, we can clearly find from the top documents that topic is business since there are many words mentioned like investment, profit, stock and etc.\n",
    "\n",
    "    - The category of topic 1 is likely to be politics. We can easily infer it from the top tokens, election, government, democratic alliance, modi and so on.\n",
    "\n",
    "    - Topic 2 is likely to be technology. Apple, mate, asus, google are both technology companies. Also, words like artificial intelligence, wire data are mentioned.\n",
    "\n",
    "    - The category of topic 3 is also likely to be politics since we can see party, election, poll, president from its top tokens."
   ]
  },
  {
   "cell_type": "code",
   "execution_count": null,
   "metadata": {},
   "outputs": [],
   "source": []
  },
  {
   "cell_type": "code",
   "execution_count": null,
   "metadata": {},
   "outputs": [],
   "source": []
  }
 ],
 "metadata": {
  "kernelspec": {
   "display_name": "Python 3 (ipykernel)",
   "language": "python",
   "name": "python3"
  },
  "language_info": {
   "codemirror_mode": {
    "name": "ipython",
    "version": 3
   },
   "file_extension": ".py",
   "mimetype": "text/x-python",
   "name": "python",
   "nbconvert_exporter": "python",
   "pygments_lexer": "ipython3",
   "version": "3.7.11"
  },
  "toc": {
   "base_numbering": 1,
   "nav_menu": {},
   "number_sections": true,
   "sideBar": true,
   "skip_h1_title": false,
   "title_cell": "Table of Contents",
   "title_sidebar": "Contents",
   "toc_cell": false,
   "toc_position": {
    "height": "calc(100% - 180px)",
    "left": "10px",
    "top": "150px",
    "width": "273.796875px"
   },
   "toc_section_display": true,
   "toc_window_display": true
  },
  "varInspector": {
   "cols": {
    "lenName": 16,
    "lenType": 16,
    "lenVar": 40
   },
   "kernels_config": {
    "python": {
     "delete_cmd_postfix": "",
     "delete_cmd_prefix": "del ",
     "library": "var_list.py",
     "varRefreshCmd": "print(var_dic_list())"
    },
    "r": {
     "delete_cmd_postfix": ") ",
     "delete_cmd_prefix": "rm(",
     "library": "var_list.r",
     "varRefreshCmd": "cat(var_dic_list()) "
    }
   },
   "types_to_exclude": [
    "module",
    "function",
    "builtin_function_or_method",
    "instance",
    "_Feature"
   ],
   "window_display": false
  }
 },
 "nbformat": 4,
 "nbformat_minor": 4
}
