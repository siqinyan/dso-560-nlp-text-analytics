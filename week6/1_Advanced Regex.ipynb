{
 "cells": [
  {
   "cell_type": "markdown",
   "metadata": {},
   "source": [
    "## Lookbehind and Lookaheads\n",
    "\n",
    "In many cases, you want to match for some specific text, but make sure that it is **either right before** another pattern, or **right after** another pattern. For instance, we can use it to match multi-line dialogue:\n",
    "\n",
    "### Task: Get all of Yu Chen's Dialogue"
   ]
  },
  {
   "cell_type": "code",
   "execution_count": 1,
   "metadata": {
    "ExecuteTime": {
     "end_time": "2022-04-20T01:42:13.522938Z",
     "start_time": "2022-04-20T01:42:13.512633Z"
    }
   },
   "outputs": [],
   "source": [
    "dialogue = '''\n",
    "YUCHEN: You can reach me at ychen220@marshall.usc.edu.\n",
    "If you cannot find me there; you can try my other email.\n",
    "You can also call my assistant Todd.\n",
    "MIKE: Sounds good. Well then,\n",
    "it's been a pleasure.\n",
    "YUCHEN: Nice.\n",
    "MIKE: Good talk.\n",
    "JIMMY: Yeah, it's been a great experience all around.\n",
    "YUCHEN: Okay, good bye.\n",
    "'''\n",
    "\n",
    "import re"
   ]
  },
  {
   "cell_type": "markdown",
   "metadata": {},
   "source": [
    "My first attempt will involve what we have already learned. The `[\\w ;@\\.,]+` says we want to match any alphanumeric character (`\\w`), and white space (` `), and semicolon, @, period, or comma: (`;@\\.,` ) at least one or more times."
   ]
  },
  {
   "cell_type": "code",
   "execution_count": 2,
   "metadata": {
    "ExecuteTime": {
     "end_time": "2022-04-20T01:43:02.393942Z",
     "start_time": "2022-04-20T01:43:02.369522Z"
    }
   },
   "outputs": [
    {
     "data": {
      "text/plain": [
       "['You can reach me at ychen220@marshall.usc.edu.', 'Nice.', 'Okay, good bye.']"
      ]
     },
     "execution_count": 2,
     "metadata": {},
     "output_type": "execute_result"
    }
   ],
   "source": [
    "re.findall(r'YUCHEN: ([A-Za-z0-9 ;@\\.,]+)', dialogue)"
   ]
  },
  {
   "cell_type": "markdown",
   "metadata": {},
   "source": [
    "<div class=\"alert-warning\">\n",
    "Notice that right now, this regular expression capture almost all of my dialogue, but not everything. \n",
    "    </div>"
   ]
  },
  {
   "cell_type": "markdown",
   "metadata": {},
   "source": [
    "Notice that right now, this regular expression capture almost all of my dialogue, but not everything. It misses the `If you cannot find me there, you can try my other email.` in the second line, since it doesn't understand it needs to match stuff after a new line. I can add in `\\n` to my brackets so it knows to match beyond a new line:"
   ]
  },
  {
   "cell_type": "code",
   "execution_count": 3,
   "metadata": {
    "ExecuteTime": {
     "end_time": "2022-04-20T01:44:26.696096Z",
     "start_time": "2022-04-20T01:44:26.689686Z"
    }
   },
   "outputs": [
    {
     "data": {
      "text/plain": [
       "['You can reach me at ychen220@marshall.usc.edu.\\nIf you cannot find me there; you can try my other email.\\nYou can also call my assistant Todd.\\nMIKE',\n",
       " 'Nice.\\nMIKE',\n",
       " 'Okay, good bye.\\n']"
      ]
     },
     "execution_count": 3,
     "metadata": {},
     "output_type": "execute_result"
    }
   ],
   "source": [
    "re.findall(r'YUCHEN: ([\\w @;\\n\\.,]+)', dialogue)"
   ]
  },
  {
   "cell_type": "markdown",
   "metadata": {},
   "source": [
    "<div class=\"alert-warning\">\n",
    "Notice now that the problem is `MIKE`    </div>"
   ]
  },
  {
   "cell_type": "markdown",
   "metadata": {},
   "source": [
    "Notice now that the problem is `MIKE`, the next character speaking, gets dragged into the match, along with his dialogue. This is because the regex does not know that `Mike: Sounds good.` is another person speaking - it thinks it is still part of `YUCHEN`'s dialogue."
   ]
  },
  {
   "cell_type": "code",
   "execution_count": 4,
   "metadata": {
    "ExecuteTime": {
     "end_time": "2022-04-20T01:49:59.143998Z",
     "start_time": "2022-04-20T01:49:59.133383Z"
    }
   },
   "outputs": [
    {
     "data": {
      "text/plain": [
       "['You can reach me at ychen220@marshall.usc.edu.\\nIf you cannot find me there; you can try my other email.\\nYou can also call my assistant Todd.',\n",
       " 'Nice.']"
      ]
     },
     "execution_count": 4,
     "metadata": {},
     "output_type": "execute_result"
    }
   ],
   "source": [
    "re.findall(r'(?<=YUCHEN: )([\\w @;\\n\\.,]+)(?=\\nMIKE: )', dialogue)"
   ]
  },
  {
   "cell_type": "markdown",
   "metadata": {},
   "source": [
    "<div class=\"alert-success\">\n",
    "these are non-capture groups and use the lookbehind & lookahead to decide the boundary</div>"
   ]
  },
  {
   "cell_type": "markdown",
   "metadata": {},
   "source": [
    "<div class=\"alert-warning\">\n",
    "positive lookbehind & positive lookahead</div>"
   ]
  },
  {
   "cell_type": "markdown",
   "metadata": {},
   "source": [
    "The `(?<=YUCHEN: )` is called a **positive lookbehind**, and it states that whatever we match, it must begin with (but not include) `YUCHEN: `. The `(?=\\nMIKE: )` is a **positive lookahead**, and it states that whatever we match, it must end with `\\nMIKE: ` (a new line, then Mike beginning to speak)."
   ]
  },
  {
   "cell_type": "markdown",
   "metadata": {},
   "source": [
    "<div class=\"alert-success\">\n",
    "positive means there's a match. there're also negative ones that look for anything but the negative part: </div>"
   ]
  },
  {
   "cell_type": "markdown",
   "metadata": {},
   "source": [
    "> (?<!YUCHEN:) (?!\\nMIKE:)"
   ]
  },
  {
   "cell_type": "markdown",
   "metadata": {},
   "source": [
    "<div class=\"alert-warning\">\n",
    "This is looks great, but we are still missing the final line in the dialogue</div>"
   ]
  },
  {
   "cell_type": "markdown",
   "metadata": {},
   "source": [
    "This is looks great, but we are still missing the final line in the dialogue (`Okay, good bye.`). That currently no longer matches, since it does not have `\\nMIKE: ` at its end. We can add a conditional to our positive lookahead to account for the fact that it is the end of the text:`(?=\\nMIKE: |$)`- this states that we either need to have the end of the entire string, or we need to have `\\nMIKE: ` after our match:"
   ]
  },
  {
   "cell_type": "code",
   "execution_count": 5,
   "metadata": {
    "ExecuteTime": {
     "end_time": "2022-04-20T01:50:01.371990Z",
     "start_time": "2022-04-20T01:50:01.348484Z"
    }
   },
   "outputs": [
    {
     "data": {
      "text/plain": [
       "['You can reach me at ychen220@marshall.usc.edu.\\nIf you cannot find me there; you can try my other email.\\nYou can also call my assistant Todd.',\n",
       " 'Nice.',\n",
       " 'Okay, good bye.\\n']"
      ]
     },
     "execution_count": 5,
     "metadata": {},
     "output_type": "execute_result"
    }
   ],
   "source": [
    "re.findall(r'(?<=YUCHEN: )([\\w @;\\n\\.,]+)(?=\\nMIKE: |$)', dialogue)"
   ]
  },
  {
   "cell_type": "markdown",
   "metadata": {},
   "source": [
    "<div class=\"alert-success\">\n",
    "$ means end of the string while ^ means the start</div>"
   ]
  },
  {
   "cell_type": "code",
   "execution_count": 6,
   "metadata": {
    "ExecuteTime": {
     "end_time": "2022-04-20T01:52:12.110011Z",
     "start_time": "2022-04-20T01:52:12.087230Z"
    }
   },
   "outputs": [
    {
     "data": {
      "text/plain": [
       "['You can reach me at ychen220@marshall.usc.edu.\\nIf you cannot find me there; you can try my other email.\\nYou can also call my assistant Todd.\\nMIKE',\n",
       " 'Nice.\\nMIKE',\n",
       " 'Okay, good bye.\\n']"
      ]
     },
     "execution_count": 6,
     "metadata": {},
     "output_type": "execute_result"
    }
   ],
   "source": [
    "re.findall(r'(?<=YUCHEN: )([\\w @;\\n\\.,]+)', dialogue)"
   ]
  },
  {
   "cell_type": "code",
   "execution_count": 7,
   "metadata": {
    "ExecuteTime": {
     "end_time": "2022-04-20T01:58:19.913483Z",
     "start_time": "2022-04-20T01:58:19.888217Z"
    }
   },
   "outputs": [
    {
     "data": {
      "text/plain": [
       "['\\nYUCHEN',\n",
       " ' You can reach me at ychen220@marshall.usc.edu.\\nIf you cannot find me there; you can try my other email.\\nYou can also call my assistant Todd.\\nMIKE',\n",
       " ' Sounds good. Well then,\\nit',\n",
       " 's been a pleasure.\\nYUCHEN',\n",
       " ' Nice.\\nMIKE',\n",
       " ' Good talk.\\nJIMMY',\n",
       " ' Yeah, it',\n",
       " 's been a great experience all around.\\nYUCHEN',\n",
       " ' Okay, good bye.\\n']"
      ]
     },
     "execution_count": 7,
     "metadata": {},
     "output_type": "execute_result"
    }
   ],
   "source": [
    "re.findall(r'(?<!YUCHEN: )([\\w @;\\n\\.,]+)', dialogue)"
   ]
  },
  {
   "cell_type": "markdown",
   "metadata": {},
   "source": [
    "## Greedy versus Lazy Evaluation"
   ]
  },
  {
   "cell_type": "markdown",
   "metadata": {},
   "source": [
    "By default, regular expressions try to match as MUCH as possible- **this is called greedy evaluation**. Sometimes, we only want to match for as little as possible- this is called **lazy evaluation**. We can do this by putting a `?` after our quantifier (remember a quantifier is `+`,`*`, or `{3,5}` - anything that tells regex how many times to match something). For instance:"
   ]
  },
  {
   "cell_type": "code",
   "execution_count": 8,
   "metadata": {
    "ExecuteTime": {
     "end_time": "2022-04-20T01:59:42.619294Z",
     "start_time": "2022-04-20T01:59:42.598046Z"
    }
   },
   "outputs": [
    {
     "data": {
      "text/plain": [
       "(['Hell'], ['Hel'])"
      ]
     },
     "execution_count": 8,
     "metadata": {},
     "output_type": "execute_result"
    }
   ],
   "source": [
    "sentence = \"Hello\"\n",
    "import re\n",
    "\n",
    "a = re.findall(\"H.*l\", sentence) #matches Hell\n",
    "b = re.findall(\"H.*?l\", sentence) #matches Hel\n",
    "a, b"
   ]
  },
  {
   "cell_type": "markdown",
   "metadata": {},
   "source": [
    "<div class=\"alert-success\">\n",
    "<p><b> . </b> means any character, <b>*</b> means 0 or more character\n",
    "<p><i>a</i> is greedy while <i>b</i> is lazy</div>"
   ]
  },
  {
   "cell_type": "markdown",
   "metadata": {},
   "source": [
    "If we apply this lazy evaluation. to our original dialogue `(?<=YUCHEN: )([\\w @;\\n\\.,]+?)(?=\\nMIKE: |$)`, we notice that the last match no longer has the `\\n` attached to it. This is because it matches only the minimum text sufficient, and the `\\n` symbol is not necessary to complete the match:"
   ]
  },
  {
   "cell_type": "code",
   "execution_count": 9,
   "metadata": {
    "ExecuteTime": {
     "end_time": "2022-04-20T02:03:31.747312Z",
     "start_time": "2022-04-20T02:03:31.739413Z"
    }
   },
   "outputs": [
    {
     "data": {
      "text/plain": [
       "['You can reach me at ychen220@marshall.usc.edu.\\nIf you cannot find me there; you can try my other email.\\nYou can also call my assistant Todd.',\n",
       " 'Nice.',\n",
       " 'Okay, good bye.']"
      ]
     },
     "execution_count": 9,
     "metadata": {},
     "output_type": "execute_result"
    }
   ],
   "source": [
    "re.findall(r'(?<=YUCHEN: )([\\w @;\\n\\.,]+?)(?=\\nMIKE: |$)', dialogue) # notice the ? before the plus sign"
   ]
  },
  {
   "cell_type": "markdown",
   "metadata": {},
   "source": [
    "<div class=\"alert-success\">\n",
    "'cause of ?, the lazy eval mode, the new line symbol \"\\n\" is gone now</div>"
   ]
  },
  {
   "cell_type": "markdown",
   "metadata": {},
   "source": [
    "Another example: let's say we are trying to find all HTML tags in a particular website:"
   ]
  },
  {
   "cell_type": "code",
   "execution_count": 10,
   "metadata": {
    "ExecuteTime": {
     "end_time": "2022-04-20T02:03:32.166045Z",
     "start_time": "2022-04-20T02:03:32.159841Z"
    }
   },
   "outputs": [],
   "source": [
    "html = '''\n",
    "<HTML>\n",
    "        <HEAD>\n",
    "            <TITLE>Your Title Here</TITLE>\n",
    "        </HEAD>\n",
    "    <a href=\"http://somegreatsite.com\">Link Name</a>\n",
    "    <H1>This is a Header</H1>\n",
    "    <H2>This is a Medium Header</H2>\n",
    "<</HTML>\n",
    "'''"
   ]
  },
  {
   "cell_type": "code",
   "execution_count": 11,
   "metadata": {
    "ExecuteTime": {
     "end_time": "2022-04-20T02:03:34.829992Z",
     "start_time": "2022-04-20T02:03:34.815775Z"
    }
   },
   "outputs": [
    {
     "data": {
      "text/plain": [
       "['<HTML>',\n",
       " '<HEAD>',\n",
       " '<TITLE>Your Title Here</TITLE>',\n",
       " '</HEAD>',\n",
       " '<a href=\"http://somegreatsite.com\">Link Name</a>',\n",
       " '<H1>This is a Header</H1>',\n",
       " '<H2>This is a Medium Header</H2>',\n",
       " '<</HTML>']"
      ]
     },
     "execution_count": 11,
     "metadata": {},
     "output_type": "execute_result"
    }
   ],
   "source": [
    "import re\n",
    "\n",
    "re.findall(r'<.+>', html)"
   ]
  },
  {
   "cell_type": "markdown",
   "metadata": {},
   "source": [
    "This drags in everything between the tags themselves, including the text `Your Title Here` and `This is a Header`. We don't want that. This is because the regex `<.+>` is trying to match as much of the text as possible. However, using lazy quantifiers, we can get regex to match only the minimum necessary:"
   ]
  },
  {
   "cell_type": "code",
   "execution_count": 12,
   "metadata": {
    "ExecuteTime": {
     "end_time": "2022-04-20T02:04:09.730028Z",
     "start_time": "2022-04-20T02:04:09.718094Z"
    }
   },
   "outputs": [
    {
     "data": {
      "text/plain": [
       "['<HTML>',\n",
       " '<HEAD>',\n",
       " '<TITLE>',\n",
       " '</TITLE>',\n",
       " '</HEAD>',\n",
       " '<a href=\"http://somegreatsite.com\">',\n",
       " '</a>',\n",
       " '<H1>',\n",
       " '</H1>',\n",
       " '<H2>',\n",
       " '</H2>',\n",
       " '<</HTML>']"
      ]
     },
     "execution_count": 12,
     "metadata": {},
     "output_type": "execute_result"
    }
   ],
   "source": [
    "re.findall(r'<.+?>', html)"
   ]
  },
  {
   "cell_type": "markdown",
   "metadata": {},
   "source": [
    "<div class=\"alert-success\">\n",
    "w/ ?, as soon as it finds a match, i.e. >, it returns the result</div>"
   ]
  },
  {
   "cell_type": "code",
   "execution_count": 13,
   "metadata": {
    "ExecuteTime": {
     "end_time": "2022-04-20T02:11:20.553659Z",
     "start_time": "2022-04-20T02:11:20.536402Z"
    }
   },
   "outputs": [
    {
     "data": {
      "text/plain": [
       "['bad', 'baaad', 'bd']"
      ]
     },
     "execution_count": 13,
     "metadata": {},
     "output_type": "execute_result"
    }
   ],
   "source": [
    "tt = 'bad baaad bd'\n",
    "re.findall(r'ba*d', tt)"
   ]
  },
  {
   "cell_type": "code",
   "execution_count": 14,
   "metadata": {
    "ExecuteTime": {
     "end_time": "2022-04-20T02:11:26.754817Z",
     "start_time": "2022-04-20T02:11:26.741490Z"
    }
   },
   "outputs": [
    {
     "data": {
      "text/plain": [
       "['bad', 'baaad']"
      ]
     },
     "execution_count": 14,
     "metadata": {},
     "output_type": "execute_result"
    }
   ],
   "source": [
    "re.findall(r'ba+d', tt)"
   ]
  },
  {
   "cell_type": "code",
   "execution_count": null,
   "metadata": {},
   "outputs": [],
   "source": []
  },
  {
   "cell_type": "code",
   "execution_count": null,
   "metadata": {},
   "outputs": [],
   "source": []
  },
  {
   "cell_type": "markdown",
   "metadata": {},
   "source": [
    "## CW"
   ]
  },
  {
   "cell_type": "markdown",
   "metadata": {},
   "source": [
    "For T/F questions, explain with your own example.\n",
    "\n",
    "1. What is the difference between the regex patterns C.*l and C.*?l? Provide an example of how it is different.\n",
    "    - `C.*l` returns greedy results while `C.*?l` returns lazy results. For text example like `'Cooloolool'`, the former returns `'Cooloolool'` while the later returns `'Cool'`.\n",
    "\n",
    "\n",
    "2. What does this regex intended to do? (?<=YUCHEN: )([\\w @;\\n\\.,]+)(?=\\nMIKE: |$).\n",
    "    - It intends to return all the chat history that said by user `YUCHEN`.\n",
    "\n",
    "\n",
    "3. True or False. The longer the sequence of a document, the more difficult it is for an RNN to model.\n",
    "    - True. For an RNN model, the input has to be in a fixed length, as a result of which, longer sequence of a document would usually ends in loss of information. However, if the RNN hyperparameter is already set, then longer sequence of a document does not cause any additional parameters, since RNN generates same parameters w.r.t. all sequences, \n",
    "\n",
    "\n",
    "4. True or False. Word embeddings are always trained via word2vec skipgram architecture neural networks.\n",
    "    - False. There're multiple approaches for word embeddings, such as GLOVE."
   ]
  },
  {
   "cell_type": "code",
   "execution_count": 23,
   "metadata": {
    "ExecuteTime": {
     "end_time": "2022-04-20T04:31:44.916869Z",
     "start_time": "2022-04-20T04:31:44.909758Z"
    }
   },
   "outputs": [],
   "source": [
    "tt = 'Cool Col Coool'\n",
    "tt = 'Cooloolool'\n",
    "tt = 'College like'"
   ]
  },
  {
   "cell_type": "code",
   "execution_count": 24,
   "metadata": {
    "ExecuteTime": {
     "end_time": "2022-04-20T04:31:45.292281Z",
     "start_time": "2022-04-20T04:31:45.267363Z"
    }
   },
   "outputs": [
    {
     "data": {
      "text/plain": [
       "['College l']"
      ]
     },
     "execution_count": 24,
     "metadata": {},
     "output_type": "execute_result"
    }
   ],
   "source": [
    "re.findall(r'C.*l', tt)"
   ]
  },
  {
   "cell_type": "code",
   "execution_count": 25,
   "metadata": {
    "ExecuteTime": {
     "end_time": "2022-04-20T04:31:45.624137Z",
     "start_time": "2022-04-20T04:31:45.605553Z"
    }
   },
   "outputs": [
    {
     "data": {
      "text/plain": [
       "['Col']"
      ]
     },
     "execution_count": 25,
     "metadata": {},
     "output_type": "execute_result"
    }
   ],
   "source": [
    "re.findall(r'C.*?l', tt)"
   ]
  },
  {
   "cell_type": "code",
   "execution_count": null,
   "metadata": {},
   "outputs": [],
   "source": []
  }
 ],
 "metadata": {
  "kernelspec": {
   "display_name": "Python 3",
   "language": "python",
   "name": "python3"
  },
  "language_info": {
   "codemirror_mode": {
    "name": "ipython",
    "version": 3
   },
   "file_extension": ".py",
   "mimetype": "text/x-python",
   "name": "python",
   "nbconvert_exporter": "python",
   "pygments_lexer": "ipython3",
   "version": "3.7.11"
  },
  "toc": {
   "base_numbering": 1,
   "nav_menu": {},
   "number_sections": true,
   "sideBar": true,
   "skip_h1_title": false,
   "title_cell": "Table of Contents",
   "title_sidebar": "Contents",
   "toc_cell": false,
   "toc_position": {},
   "toc_section_display": true,
   "toc_window_display": true
  },
  "varInspector": {
   "cols": {
    "lenName": 16,
    "lenType": 16,
    "lenVar": 40
   },
   "kernels_config": {
    "python": {
     "delete_cmd_postfix": "",
     "delete_cmd_prefix": "del ",
     "library": "var_list.py",
     "varRefreshCmd": "print(var_dic_list())"
    },
    "r": {
     "delete_cmd_postfix": ") ",
     "delete_cmd_prefix": "rm(",
     "library": "var_list.r",
     "varRefreshCmd": "cat(var_dic_list()) "
    }
   },
   "types_to_exclude": [
    "module",
    "function",
    "builtin_function_or_method",
    "instance",
    "_Feature"
   ],
   "window_display": false
  }
 },
 "nbformat": 4,
 "nbformat_minor": 2
}
