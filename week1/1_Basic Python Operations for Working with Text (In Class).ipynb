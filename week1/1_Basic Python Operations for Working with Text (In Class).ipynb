{
 "cells": [
  {
   "cell_type": "markdown",
   "metadata": {
    "toc": true
   },
   "source": [
    "<h1>Table of Contents<span class=\"tocSkip\"></span></h1>\n",
    "<div class=\"toc\"><ul class=\"toc-item\"><li><ul class=\"toc-item\"><li><span><a href=\"#Installing-Required-Libraries\" data-toc-modified-id=\"Installing-Required-Libraries-0.1\"><span class=\"toc-item-num\">0.1&nbsp;&nbsp;</span>Installing Required Libraries</a></span><ul class=\"toc-item\"><li><ul class=\"toc-item\"><li><span><a href=\"#Getting-Familiar-With-Jupyter-Notebooks\" data-toc-modified-id=\"Getting-Familiar-With-Jupyter-Notebooks-0.1.0.1\"><span class=\"toc-item-num\">0.1.0.1&nbsp;&nbsp;</span>Getting Familiar With Jupyter Notebooks</a></span></li></ul></li></ul></li></ul></li><li><span><a href=\"#Week-1:-Basic-Python-Operations-for-Working-with-Text\" data-toc-modified-id=\"Week-1:-Basic-Python-Operations-for-Working-with-Text-1\"><span class=\"toc-item-num\">1&nbsp;&nbsp;</span>Week 1: Basic Python Operations for Working with Text</a></span></li><li><span><a href=\"#The-Scale-of-Data-in-the-21st-Century\" data-toc-modified-id=\"The-Scale-of-Data-in-the-21st-Century-2\"><span class=\"toc-item-num\">2&nbsp;&nbsp;</span>The Scale of Data in the 21st Century</a></span><ul class=\"toc-item\"><li><span><a href=\"#Overview\" data-toc-modified-id=\"Overview-2.1\"><span class=\"toc-item-num\">2.1&nbsp;&nbsp;</span>Overview</a></span><ul class=\"toc-item\"><li><ul class=\"toc-item\"><li><span><a href=\"#Text-Analytics\" data-toc-modified-id=\"Text-Analytics-2.1.0.1\"><span class=\"toc-item-num\">2.1.0.1&nbsp;&nbsp;</span>Text Analytics</a></span></li><li><span><a href=\"#Data-Engineering\" data-toc-modified-id=\"Data-Engineering-2.1.0.2\"><span class=\"toc-item-num\">2.1.0.2&nbsp;&nbsp;</span>Data Engineering</a></span></li><li><span><a href=\"#Statistics-/-Machine-Learning\" data-toc-modified-id=\"Statistics-/-Machine-Learning-2.1.0.3\"><span class=\"toc-item-num\">2.1.0.3&nbsp;&nbsp;</span>Statistics / Machine Learning</a></span></li></ul></li></ul></li><li><span><a href=\"#Loading-Text-into-Memory\" data-toc-modified-id=\"Loading-Text-into-Memory-2.2\"><span class=\"toc-item-num\">2.2&nbsp;&nbsp;</span>Loading Text into Memory</a></span><ul class=\"toc-item\"><li><ul class=\"toc-item\"><li><span><a href=\"#Opening-Files\" data-toc-modified-id=\"Opening-Files-2.2.0.1\"><span class=\"toc-item-num\">2.2.0.1&nbsp;&nbsp;</span>Opening Files</a></span></li></ul></li><li><span><a href=\"#An-Aside:-List-Comprehension\" data-toc-modified-id=\"An-Aside:-List-Comprehension-2.2.1\"><span class=\"toc-item-num\">2.2.1&nbsp;&nbsp;</span>An Aside: List Comprehension</a></span></li><li><span><a href=\"#Visualizing-Summary-Metrics-Using-Matplotlib\" data-toc-modified-id=\"Visualizing-Summary-Metrics-Using-Matplotlib-2.2.2\"><span class=\"toc-item-num\">2.2.2&nbsp;&nbsp;</span>Visualizing Summary Metrics Using Matplotlib</a></span></li><li><span><a href=\"#First-Method:-Create-a-Dictionary-to-Store-Word-Count\" data-toc-modified-id=\"First-Method:-Create-a-Dictionary-to-Store-Word-Count-2.2.3\"><span class=\"toc-item-num\">2.2.3&nbsp;&nbsp;</span>First Method: Create a Dictionary to Store Word Count</a></span></li><li><span><a href=\"#Using-Python's-Built-In-Counter\" data-toc-modified-id=\"Using-Python's-Built-In-Counter-2.2.4\"><span class=\"toc-item-num\">2.2.4&nbsp;&nbsp;</span>Using Python's Built-In Counter</a></span></li><li><span><a href=\"#In-Class-Question\" data-toc-modified-id=\"In-Class-Question-2.2.5\"><span class=\"toc-item-num\">2.2.5&nbsp;&nbsp;</span>In-Class Question</a></span></li></ul></li><li><span><a href=\"#Zipf's-Law\" data-toc-modified-id=\"Zipf's-Law-2.3\"><span class=\"toc-item-num\">2.3&nbsp;&nbsp;</span>Zipf's Law</a></span><ul class=\"toc-item\"><li><span><a href=\"#General-Definition\" data-toc-modified-id=\"General-Definition-2.3.1\"><span class=\"toc-item-num\">2.3.1&nbsp;&nbsp;</span>General Definition</a></span></li><li><span><a href=\"#Approximation-in-NLP\" data-toc-modified-id=\"Approximation-in-NLP-2.3.2\"><span class=\"toc-item-num\">2.3.2&nbsp;&nbsp;</span>Approximation in NLP</a></span></li><li><span><a href=\"#Zipf-Distributions\" data-toc-modified-id=\"Zipf-Distributions-2.3.3\"><span class=\"toc-item-num\">2.3.3&nbsp;&nbsp;</span>Zipf Distributions</a></span></li></ul></li></ul></li><li><span><a href=\"#Regular-Expressions\" data-toc-modified-id=\"Regular-Expressions-3\"><span class=\"toc-item-num\">3&nbsp;&nbsp;</span>Regular Expressions</a></span><ul class=\"toc-item\"><li><ul class=\"toc-item\"><li><span><a href=\"#Match-the-first-time-a-capital-letter-appears-in-the-tweet\" data-toc-modified-id=\"Match-the-first-time-a-capital-letter-appears-in-the-tweet-3.0.1\"><span class=\"toc-item-num\">3.0.1&nbsp;&nbsp;</span>Match the first time a capital letter appears in the tweet</a></span></li><li><span><a href=\"#Match-all-capital-letters-that-appears-in-the-tweet\" data-toc-modified-id=\"Match-all-capital-letters-that-appears-in-the-tweet-3.0.2\"><span class=\"toc-item-num\">3.0.2&nbsp;&nbsp;</span>Match all capital letters that appears in the tweet</a></span></li><li><span><a href=\"#Match-all-words-that-are-at-least-3-characters-long\" data-toc-modified-id=\"Match-all-words-that-are-at-least-3-characters-long-3.0.3\"><span class=\"toc-item-num\">3.0.3&nbsp;&nbsp;</span>Match all words that are at least 3 characters long</a></span></li><li><span><a href=\"#Word-Boundaries\" data-toc-modified-id=\"Word-Boundaries-3.0.4\"><span class=\"toc-item-num\">3.0.4&nbsp;&nbsp;</span>Word Boundaries</a></span></li><li><span><a href=\"#Removing-Stopwords-Using-Regex\" data-toc-modified-id=\"Removing-Stopwords-Using-Regex-3.0.5\"><span class=\"toc-item-num\">3.0.5&nbsp;&nbsp;</span>Removing Stopwords Using Regex</a></span></li><li><span><a href=\"#Regex-Exercises\" data-toc-modified-id=\"Regex-Exercises-3.0.6\"><span class=\"toc-item-num\">3.0.6&nbsp;&nbsp;</span>Regex Exercises</a></span></li></ul></li></ul></li><li><span><a href=\"#Encoding-Schemes\" data-toc-modified-id=\"Encoding-Schemes-4\"><span class=\"toc-item-num\">4&nbsp;&nbsp;</span>Encoding Schemes</a></span><ul class=\"toc-item\"><li><ul class=\"toc-item\"><li><span><a href=\"#Implications-for-Data-Science\" data-toc-modified-id=\"Implications-for-Data-Science-4.0.1\"><span class=\"toc-item-num\">4.0.1&nbsp;&nbsp;</span>Implications for Data Science</a></span></li></ul></li><li><span><a href=\"#World-Languages,-in-Context\" data-toc-modified-id=\"World-Languages,-in-Context-4.1\"><span class=\"toc-item-num\">4.1&nbsp;&nbsp;</span>World Languages, in Context</a></span></li><li><span><a href=\"#Bits-and-Bytes\" data-toc-modified-id=\"Bits-and-Bytes-4.2\"><span class=\"toc-item-num\">4.2&nbsp;&nbsp;</span>Bits and Bytes</a></span><ul class=\"toc-item\"><li><span><a href=\"#Exercises\" data-toc-modified-id=\"Exercises-4.2.1\"><span class=\"toc-item-num\">4.2.1&nbsp;&nbsp;</span>Exercises</a></span></li></ul></li><li><span><a href=\"#ASCII\" data-toc-modified-id=\"ASCII-4.3\"><span class=\"toc-item-num\">4.3&nbsp;&nbsp;</span>ASCII</a></span><ul class=\"toc-item\"><li><span><a href=\"#Encoding/Decoding-Words\" data-toc-modified-id=\"Encoding/Decoding-Words-4.3.1\"><span class=\"toc-item-num\">4.3.1&nbsp;&nbsp;</span>Encoding/Decoding Words</a></span><ul class=\"toc-item\"><li><span><a href=\"#Steps:\" data-toc-modified-id=\"Steps:-4.3.1.1\"><span class=\"toc-item-num\">4.3.1.1&nbsp;&nbsp;</span>Steps:</a></span></li><li><span><a href=\"#Exercises\" data-toc-modified-id=\"Exercises-4.3.1.2\"><span class=\"toc-item-num\">4.3.1.2&nbsp;&nbsp;</span>Exercises</a></span></li></ul></li><li><span><a href=\"#Python-Code\" data-toc-modified-id=\"Python-Code-4.3.2\"><span class=\"toc-item-num\">4.3.2&nbsp;&nbsp;</span>Python Code</a></span></li><li><span><a href=\"#Extended-ASCII\" data-toc-modified-id=\"Extended-ASCII-4.3.3\"><span class=\"toc-item-num\">4.3.3&nbsp;&nbsp;</span>Extended ASCII</a></span><ul class=\"toc-item\"><li><span><a href=\"#Latin-1\" data-toc-modified-id=\"Latin-1-4.3.3.1\"><span class=\"toc-item-num\">4.3.3.1&nbsp;&nbsp;</span>Latin-1</a></span></li><li><span><a href=\"#Excel-on-Macs\" data-toc-modified-id=\"Excel-on-Macs-4.3.3.2\"><span class=\"toc-item-num\">4.3.3.2&nbsp;&nbsp;</span>Excel on Macs</a></span></li></ul></li><li><span><a href=\"#Turning-Strings-into-Bytes\" data-toc-modified-id=\"Turning-Strings-into-Bytes-4.3.4\"><span class=\"toc-item-num\">4.3.4&nbsp;&nbsp;</span>Turning Strings into Bytes</a></span></li><li><span><a href=\"#Turning-Bytes-into-Strings\" data-toc-modified-id=\"Turning-Bytes-into-Strings-4.3.5\"><span class=\"toc-item-num\">4.3.5&nbsp;&nbsp;</span>Turning Bytes into Strings</a></span><ul class=\"toc-item\"><li><span><a href=\"#Exercises\" data-toc-modified-id=\"Exercises-4.3.5.1\"><span class=\"toc-item-num\">4.3.5.1&nbsp;&nbsp;</span>Exercises</a></span></li></ul></li></ul></li><li><span><a href=\"#Unicode\" data-toc-modified-id=\"Unicode-4.4\"><span class=\"toc-item-num\">4.4&nbsp;&nbsp;</span>Unicode</a></span><ul class=\"toc-item\"><li><span><a href=\"#UTF-8\" data-toc-modified-id=\"UTF-8-4.4.1\"><span class=\"toc-item-num\">4.4.1&nbsp;&nbsp;</span>UTF-8</a></span><ul class=\"toc-item\"><li><span><a href=\"#Getting-the-Codepoint-of-a-Character\" data-toc-modified-id=\"Getting-the-Codepoint-of-a-Character-4.4.1.1\"><span class=\"toc-item-num\">4.4.1.1&nbsp;&nbsp;</span>Getting the Codepoint of a Character</a></span></li><li><span><a href=\"#Getting-the-Character-from-a-Codepoint\" data-toc-modified-id=\"Getting-the-Character-from-a-Codepoint-4.4.1.2\"><span class=\"toc-item-num\">4.4.1.2&nbsp;&nbsp;</span>Getting the Character from a Codepoint</a></span></li></ul></li><li><span><a href=\"#Variable-Length-Encoding-/Digitalization-and-Internationalization\" data-toc-modified-id=\"Variable-Length-Encoding-/Digitalization-and-Internationalization-4.4.2\"><span class=\"toc-item-num\">4.4.2&nbsp;&nbsp;</span>Variable Length Encoding /Digitalization and Internationalization</a></span><ul class=\"toc-item\"><li><span><a href=\"#Data-Science-Implications\" data-toc-modified-id=\"Data-Science-Implications-4.4.2.1\"><span class=\"toc-item-num\">4.4.2.1&nbsp;&nbsp;</span>Data Science Implications</a></span></li></ul></li></ul></li><li><span><a href=\"#Next-Week\" data-toc-modified-id=\"Next-Week-4.5\"><span class=\"toc-item-num\">4.5&nbsp;&nbsp;</span>Next Week</a></span><ul class=\"toc-item\"><li><span><a href=\"#Check-for-Understanding\" data-toc-modified-id=\"Check-for-Understanding-4.5.1\"><span class=\"toc-item-num\">4.5.1&nbsp;&nbsp;</span>Check for Understanding</a></span></li></ul></li></ul></li></ul></div>"
   ]
  },
  {
   "cell_type": "markdown",
   "metadata": {},
   "source": [
    "## Installing Required Libraries"
   ]
  },
  {
   "cell_type": "raw",
   "metadata": {},
   "source": [
    "!pip3 install matplotlib\n",
    "!pip3 install pandas"
   ]
  },
  {
   "cell_type": "markdown",
   "metadata": {},
   "source": [
    "#### Getting Familiar With Jupyter Notebooks"
   ]
  },
  {
   "cell_type": "markdown",
   "metadata": {},
   "source": [
    "Jupyter keyboard shortcuts:\n",
    "- Press `Esc` to go into **Command Mode**. Your cell should turn from green highlights to blue highlights.\n",
    "- In **Command Mode**, press `M` to go into `Markdown` mode. This turns your cell into Markdown text so you can type text.\n",
    "- Press `Y` to go into `Code` mode. This then allows you to begin typing Python code.\n",
    "- Press `A` to insert a cell above your current cell.\n",
    "- Press `B` to insert a cell below your current cell.\n",
    "- Press `D` twice to delete your current cell.\n",
    "- Press `Shift` + `Enter` to save your cell."
   ]
  },
  {
   "cell_type": "markdown",
   "metadata": {},
   "source": [
    "# Week 1: Basic Python Operations for Working with Text"
   ]
  },
  {
   "cell_type": "markdown",
   "metadata": {},
   "source": [
    "# The Scale of Data in the 21st Century\n",
    "<figure>\n",
    "  <img src=\"https://raw.githubusercontent.com/ychennay/dso-560-nlp-text-analytics/main/images/scale.png\" alt=\"my alt text\"/>\n",
    "    <figcaption><i>ASCII table converting numbers to characters.<b>(Wikipedia)</b></i></figcaption>\n",
    "</figure>"
   ]
  },
  {
   "cell_type": "markdown",
   "metadata": {},
   "source": [
    "<div class=\"alert-success\">\n",
    "This is a green colored box\n",
    "</div>\n",
    "\n",
    "<div class=\"alert-danger\">\n",
    "This is a red colored box\n",
    "</div>\n",
    "\n",
    "<div class=\"alert-warning\">\n",
    "This is a yellow colored box\n",
    "</div>\n",
    "\n",
    "<div class=\"alert-info\">\n",
    "This is a blue colored box\n",
    "</div>"
   ]
  },
  {
   "cell_type": "markdown",
   "metadata": {},
   "source": [
    "## Overview\n",
    "\n",
    "By the end of this week, you should be able to perform the following operations:\n",
    "\n",
    "\n",
    "#### Text Analytics\n",
    "- **load a text file into memory** using Python's built-in streaming libraries\n",
    "- **visualize word count and line length distributions** as histograms using Matplotlib\n",
    "\n",
    "#### Data Engineering\n",
    "- **read strings from a text input/output stream** using `readline()` and `readlines()`\n",
    "- **use both native Python dictionaries and `collections.Counter` objects** to produce word counts for a text corpus\n",
    "- perform basic search/replace operations using **regular expressions**\n",
    "- encode/decode text from bytes to support internationalization and digital-native characters (such as **emojis**).\n",
    "\n",
    "#### Statistics / Machine Learning\n",
    "- **create a word transition matrix using Numpy arrays**, which can be used for probabilistic inference and text generation (we will cover Week 2)\n",
    "\n",
    "\n",
    "## Loading Text into Memory\n",
    "\n",
    "There are a variety of ways to hold data within memory. For text analytics and natural language processing purposes, we'll be most concerned with the following:\n",
    "\n",
    "- **list**\n",
    "- **set**\n",
    "- **dictionary**\n",
    "- **tuple**\n",
    "- **Numpy array**\n",
    "\n",
    "Imagine that we would like to find the most commonly used words in ***A Tale of Two Cities***, by the famed English novelist Charles Dickens, stored in a text file called **`tale-of-two-cities.txt`**, in the same directory as this Jupyter notebook. Later on, we'll use 3rd-party libraries to automate much of the processing, but for now, we'll explore Python's built-in functions for text processing.\n",
    "\n",
    "#### Opening Files"
   ]
  },
  {
   "cell_type": "markdown",
   "metadata": {},
   "source": [
    "<div class=\"alert-success\">\n",
    "treat data as streams, where there is a pointer\n",
    "</div>"
   ]
  },
  {
   "cell_type": "markdown",
   "metadata": {},
   "source": [
    "The **`open()`** function takes *two* parameters; **filename**, and **mode**. In our case, `mode` is set to `r` for **read**, since we plan to read the file's contents, as opposed to `w` (write), or `a` (append)."
   ]
  },
  {
   "cell_type": "markdown",
   "metadata": {},
   "source": [
    "<div class=\"alert-success\">\n",
    "wb: write back, slower operation\n",
    "    \n",
    "rb: ..\n",
    "</div>"
   ]
  },
  {
   "cell_type": "code",
   "execution_count": 1,
   "metadata": {
    "ExecuteTime": {
     "end_time": "2022-03-09T03:18:06.840772Z",
     "start_time": "2022-03-09T03:18:06.823369Z"
    }
   },
   "outputs": [
    {
     "name": "stdout",
     "output_type": "stream",
     "text": [
      "<_io.TextIOWrapper name='../datasets/tale-of-two-cities.txt' mode='r' encoding='UTF-8'>\n"
     ]
    }
   ],
   "source": [
    "# Open Tale of Two Cities\n",
    "text_file = open(\"../datasets/tale-of-two-cities.txt\", \"r\")\n",
    "print(text_file)"
   ]
  },
  {
   "cell_type": "markdown",
   "metadata": {
    "ExecuteTime": {
     "end_time": "2022-03-09T03:22:40.002647Z",
     "start_time": "2022-03-09T03:22:39.992799Z"
    }
   },
   "source": [
    "<div class=\"alert-success\">\n",
    "Above is the pointer created\n",
    "</div>"
   ]
  },
  {
   "cell_type": "markdown",
   "metadata": {},
   "source": [
    "Typically, a text character is **1 byte** in size. One byte is equal to **8 bits**. This means conceptually, the size of a string should be $N$ bytes, where $N$ is the number of characters. However, you'll see that in Python, the size of a string is larger:"
   ]
  },
  {
   "cell_type": "code",
   "execution_count": 2,
   "metadata": {
    "ExecuteTime": {
     "end_time": "2022-03-09T03:20:34.329860Z",
     "start_time": "2022-03-09T03:20:34.315438Z"
    }
   },
   "outputs": [
    {
     "name": "stdout",
     "output_type": "stream",
     "text": [
      "The size of EMPTY_STRING is 49 bytes.\n",
      "The size of ONE_CHAR_STRING is 50 bytes.\n",
      "The size of TWO_CHAR_STRING is 51 bytes.\n"
     ]
    }
   ],
   "source": [
    "import sys\n",
    "EMPTY_STRING = \"\"\n",
    "ONE_CHAR_STRING = \"a\"\n",
    "TWO_CHAR_STRING = \"ab\"\n",
    "print(f\"The size of EMPTY_STRING is {sys.getsizeof(EMPTY_STRING)} bytes.\")\n",
    "print(f\"The size of ONE_CHAR_STRING is {sys.getsizeof(ONE_CHAR_STRING)} bytes.\")\n",
    "print(f\"The size of TWO_CHAR_STRING is {sys.getsizeof(TWO_CHAR_STRING)} bytes.\")"
   ]
  },
  {
   "cell_type": "markdown",
   "metadata": {},
   "source": [
    "<div class=\"alert-success\">\n",
    "Typically, within Python, there're some space taken by the empty string, yet it varies with computers, systems...\n",
    "</div>"
   ]
  },
  {
   "cell_type": "markdown",
   "metadata": {},
   "source": [
    "The **`open()`** function returns a **`TextIOWrapper`** object from Python's `io` module, which handles common input/output streaming operations. \n",
    "\n",
    "A **stream** is a potentially infinite sequence of elements (in our case, characters) arriving over time. You'll use streams to model data that is **unbounded** (it's undetermined the volume, the length, and frequency of the data). A stream has a pointer to its current position within the sequence. \n",
    "\n",
    "This object has an extremely helpful **`readline()`** method that reads from a text file until encountering an **`EOF(end-of-file)`** marker or a new line symbol."
   ]
  },
  {
   "cell_type": "markdown",
   "metadata": {},
   "source": [
    "<div class=\"alert-warning\">\n",
    "A **stream** is a potentially infinite sequence of elements (in our case, characters) arriving over time. You'll use streams to model data that is **unbounded** (it's undetermined the volume, the length, and frequency of the data). A stream has a pointer to its current position within the sequence. \n",
    "</div>"
   ]
  },
  {
   "cell_type": "code",
   "execution_count": 4,
   "metadata": {
    "ExecuteTime": {
     "end_time": "2022-03-09T03:24:02.399143Z",
     "start_time": "2022-03-09T03:24:02.380784Z"
    }
   },
   "outputs": [
    {
     "data": {
      "text/plain": [
       "0"
      ]
     },
     "execution_count": 4,
     "metadata": {},
     "output_type": "execute_result"
    }
   ],
   "source": [
    "text_file.seek(0)"
   ]
  },
  {
   "cell_type": "markdown",
   "metadata": {
    "ExecuteTime": {
     "end_time": "2022-03-09T03:26:53.029083Z",
     "start_time": "2022-03-09T03:26:53.013498Z"
    }
   },
   "source": [
    "<div class=\"alert-success\">\n",
    "text_file is the pointer, and this code tells where to point at\n",
    "</div>"
   ]
  },
  {
   "cell_type": "code",
   "execution_count": 5,
   "metadata": {
    "ExecuteTime": {
     "end_time": "2022-03-09T03:24:03.002912Z",
     "start_time": "2022-03-09T03:24:02.990454Z"
    }
   },
   "outputs": [
    {
     "data": {
      "text/plain": [
       "'  IT WAS the best of times, it was the worst of times, it was the\\n'"
      ]
     },
     "execution_count": 5,
     "metadata": {},
     "output_type": "execute_result"
    }
   ],
   "source": [
    "text_file.readline()"
   ]
  },
  {
   "cell_type": "markdown",
   "metadata": {},
   "source": [
    "<div class=\"alert-success\">\n",
    "'\\n' is actually an character (which exists in old keyboards)\n",
    "</div>"
   ]
  },
  {
   "cell_type": "code",
   "execution_count": 7,
   "metadata": {
    "ExecuteTime": {
     "end_time": "2022-03-09T03:24:56.776073Z",
     "start_time": "2022-03-09T03:24:56.761261Z"
    }
   },
   "outputs": [
    {
     "data": {
      "text/plain": [
       "'he be'"
      ]
     },
     "execution_count": 7,
     "metadata": {},
     "output_type": "execute_result"
    }
   ],
   "source": [
    "text_file.readline(5)"
   ]
  },
  {
   "cell_type": "markdown",
   "metadata": {},
   "source": [
    "<div class=\"alert-success\">\n",
    "the number 5 referes to the number of characters\n",
    "</div>"
   ]
  },
  {
   "cell_type": "markdown",
   "metadata": {},
   "source": [
    "<div class=\"alert-success\">\n",
    "the end of the file would be \"\"\n",
    "</div>"
   ]
  },
  {
   "cell_type": "markdown",
   "metadata": {},
   "source": [
    "You can pass in a parameter to **`readline()`** to control how many bytes of input stream data you'll receive. For instance, **`readline(2)`** returns at most 2 bytes of text input data. You might use this, for instance, if your Python application is reading not from a flat text file, but from a socket, which supplies a continuous stream of data with fixed length (ie., the messages all have the same number of characters).\n",
    "\n",
    "**In-Class Question**: *Assume you just opened the text file with **`open()`**. What output is returned when **`text_file.readline(5)`** is called the **second** time?*\n",
    "- **A)** The entire first line of the novel\n",
    "- **B)** The first 5 characters of the second line\n",
    "- **C)** The entire second line of the novel\n",
    "- **D)** The first 5 characters of the first line\n",
    "- **E)** The 6th-10th characters of the first line"
   ]
  },
  {
   "cell_type": "code",
   "execution_count": 6,
   "metadata": {
    "ExecuteTime": {
     "end_time": "2022-03-09T03:24:04.402640Z",
     "start_time": "2022-03-09T03:24:04.388270Z"
    }
   },
   "outputs": [
    {
     "name": "stdout",
     "output_type": "stream",
     "text": [
      "Iteration 1:   IT \n",
      "Iteration 2: WAS t\n"
     ]
    }
   ],
   "source": [
    "text_file.seek(0) #reset the stream position to the start of the text file\n",
    "for i in range(2): # repeat the below line twice\n",
    "    print(f\"Iteration {i + 1}: {text_file.readline(5)}\")"
   ]
  },
  {
   "cell_type": "markdown",
   "metadata": {},
   "source": [
    "Each time that you call **`readline()`**, a position marker within **`TextIOWrapper`** is moved forward:\n",
    "<img src=\"https://raw.githubusercontent.com/ychennay/dso-560-nlp-text-analytics/main/images/readline.png\" width=\"500\" height=\"300\" align=\"center\"/>\n",
    "We typically will use **`readlines()`** instead to read text files line by line. This returns a Python **list**:"
   ]
  },
  {
   "cell_type": "code",
   "execution_count": 9,
   "metadata": {
    "ExecuteTime": {
     "end_time": "2022-03-09T03:34:51.054184Z",
     "start_time": "2022-03-09T03:34:51.041413Z"
    }
   },
   "outputs": [],
   "source": [
    "text_file.seek(0) # reset the stream position to the start of the file\n",
    "lines = text_file.readlines() # read all the lines and return a list of strings"
   ]
  },
  {
   "cell_type": "code",
   "execution_count": 10,
   "metadata": {
    "ExecuteTime": {
     "end_time": "2022-03-09T03:34:53.846141Z",
     "start_time": "2022-03-09T03:34:53.809897Z"
    }
   },
   "outputs": [
    {
     "data": {
      "text/plain": [
       "['  IT WAS the best of times, it was the worst of times, it was the\\n',\n",
       " 'age of wisdom, it was the age of foolishness, it was the epoch of\\n',\n",
       " 'belief, it was the epoch of incredulity, it was the season of Light,\\n',\n",
       " 'it was the season of Darkness, it was the spring of hope, it was the\\n',\n",
       " 'winter of despair, we had everything before us, we had nothing\\n',\n",
       " 'before us, we were all going direct to Heaven, we were all going\\n',\n",
       " 'direct the other way- in short, the period was so far like the present\\n',\n",
       " 'period, that some of its noisiest authorities insisted on its being\\n',\n",
       " 'received, for good or for evil, in the superlative degree of\\n',\n",
       " 'comparison only.\\n',\n",
       " '  There were a king with a large jaw and a queen with a plain face, on\\n',\n",
       " 'the throne of England; there were a king with a large jaw and a\\n',\n",
       " 'queen with a fair face, on the throne of France. In both countries\\n',\n",
       " 'it was clearer than crystal to the lords of the State preserves of\\n',\n",
       " 'loaves and fishes, that things in general were settled for ever.\\n',\n",
       " '  It was the year of Our Lord one thousand seven hundred and\\n',\n",
       " 'seventy-five. Spiritual revelations were conceded to England at that\\n',\n",
       " 'favoured period, as at this. Mrs. Southcott had recently attained\\n',\n",
       " 'her five-and-twentieth blessed birthday, of whom a prophetic private\\n',\n",
       " 'in the Life Guards had heralded the sublime appearance by announcing\\n',\n",
       " 'that arrangements were made for the swallowing up of London and\\n',\n",
       " 'Westminster. Even the Cock-lane ghost had been laid only a round dozen\\n',\n",
       " 'of years, after rapping out its messages, as the spirits of this\\n',\n",
       " 'very year last past (supernaturally deficient in originality) rapped\\n',\n",
       " 'out theirs. Mere messages in the earthly order of events had lately\\n',\n",
       " 'come to the English Crown and People, from a congress of British\\n',\n",
       " 'subjects in America: which, strange to relate, have proved more\\n',\n",
       " 'important to the human race than any communications yet received\\n',\n",
       " 'through any of the chickens of the Cock-lane brood.\\n',\n",
       " '  France, less favoured on the whole as to matters spiritual than\\n',\n",
       " 'her sister of the shield and trident, rolled with exceeding smoothness\\n',\n",
       " 'down hill, making paper money and spending it. Under the guidance of\\n',\n",
       " 'her Christian pastors, she entertained herself, besides, with such\\n',\n",
       " 'humane achievements as sentencing a youth to have his hands cut off,\\n',\n",
       " 'his tongue torn out with pincers, and his body burned alive, because\\n',\n",
       " 'he had not kneeled down in the rain to do honour to a dirty procession\\n',\n",
       " 'of monks which passed within his view, at a distance of some fifty\\n',\n",
       " 'or sixty yards. It is likely enough that, rooted in the woods of\\n',\n",
       " 'France and Norway, there were growing trees, when that sufferer was\\n',\n",
       " 'put to death, already marked by the Woodman, Fate, to come down and be\\n',\n",
       " 'sawn into boards, to make a certain movable framework with a sack\\n',\n",
       " 'and a knife in it, terrible in history. It is likely enough that in\\n',\n",
       " 'the rough outhouses of some tillers of the heavy lands adjacent to\\n',\n",
       " 'Paris, there were sheltered from the weather that very day, rude\\n',\n",
       " 'carts, bespattered with rustic mire, snuffed about by pigs, and\\n',\n",
       " 'roosted in by poultry, which the Farmer, Death, had already set\\n',\n",
       " 'apart to be his tumbrils of the Revolution. But that Woodman and\\n',\n",
       " 'that Farmer, though they work unceasingly, work silently and no one\\n',\n",
       " 'heard them as they went about with muffled tread: the rather,\\n',\n",
       " 'forasmuch as to entertain any suspicion that they were awake, was to\\n',\n",
       " 'be atheistical and traitorous.\\n',\n",
       " '  In England, there was scarcely an amount of order and protection\\n',\n",
       " 'to justify much national boasting. Daring burglaries by armed men, and\\n',\n",
       " 'highway robberies, took place in the capital itself every night;\\n',\n",
       " 'families were publicly cautioned not to go out of town without\\n',\n",
       " \"removing their furniture to upholsterers' warehouses for security; the\\n\",\n",
       " 'highwayman in the dark was a City tradesman in the light, and, being\\n',\n",
       " 'recognised and challenged by his fellow-tradesman whom he stopped in\\n',\n",
       " 'his character of \"the Captain,\" gallantly shot him through the head\\n',\n",
       " 'and rode away; the mail was waylaid by seven robbers, and the guard\\n',\n",
       " 'shot three dead, and then got shot dead himself by the other four, \"in\\n',\n",
       " 'consequence of the failure of his ammunition:\" after which the mail\\n',\n",
       " 'was robbed in peace; that magnificent potentate, the Lord Mayor of\\n',\n",
       " 'London, was made to stand and deliver on Turnham Green, by one\\n',\n",
       " 'highwayman, who despoiled the illustrious creature in sight of all his\\n',\n",
       " 'retinue; prisoners in London gaols fought battles with their\\n',\n",
       " 'turkeys, and the majesty of the law fired blunderbusses in among them,\\n',\n",
       " 'loaded with rounds of shot and ball; thieves snipped off diamond\\n',\n",
       " 'crosses from the necks of noble lords at Court drawing-rooms;\\n',\n",
       " \"musketeers went into St. Giles's, to search for contraband goods,\\n\",\n",
       " 'and the mob fired on the musketeers, and the musketeers fir on the\\n',\n",
       " 'mob, and nobody thought any of these occurrences much out of the\\n',\n",
       " 'common way. In the midst of them, the hangman, ever busy and ever\\n',\n",
       " 'worse than useless, was in constant requisition; now, stringing up\\n',\n",
       " 'long rows of miscellaneous criminals; now, hanging a housebreaker on\\n',\n",
       " 'Saturday who had been taken on Tuesday; now, burning people in the\\n',\n",
       " 'hand at Newgate by the dozen, and now burning pamphlets at the door of\\n',\n",
       " 'Westminster Hall; to-day, taking the life of an atrocious murderer,\\n',\n",
       " \"and to-morrow of a wretched pilferer who had robbed a farmer's boy\\n\",\n",
       " 'of sixpence.\\n',\n",
       " '  All these things, and a thousand like them, came to pass in and\\n',\n",
       " 'close upon the dear old year one thousand seven hundred and\\n',\n",
       " 'seventy-five. Environed by them, while the Woodman and the Farmer\\n',\n",
       " 'worked unheeded, those two of the large jaws, and those other two of\\n',\n",
       " 'the plain and the fair faces, trod with stir enough, and carried their\\n',\n",
       " 'divine rights with a high hand. Thus did the year one thousand seven\\n',\n",
       " 'hundred and seventy-five conduct their Greatnesses, and myriads of\\n',\n",
       " 'small creatures- the creatures of this chronicle among the rest- along\\n',\n",
       " 'the roads that lay before them.\\n',\n",
       " '  II\\n',\n",
       " '  THE MAIL\\n',\n",
       " '\\n',\n",
       " '  IT WAS the Dover road that lay, on a Friday night late in\\n',\n",
       " 'November, before the first of the persons with whom this history has\\n',\n",
       " 'business. The Dover road lay, as to him, beyond the Dover mail, as\\n',\n",
       " \"it lumbered up Shooter's Hill. He walked up hill in the mire by the\\n\",\n",
       " 'side of the mail, as the rest of the passengers did; not because\\n',\n",
       " 'they had the least relish for walking exercise, under the\\n',\n",
       " 'circumstances, but because the hill, and the harness, and the mud, and\\n',\n",
       " 'the mail, were all so heavy, that the horses had three times already\\n',\n",
       " 'come to a stop, besides once drawing the coach across the road, with\\n',\n",
       " 'the mutinous intent of taking it back to Blackheath. Reins and whip\\n',\n",
       " 'and coachman and guard, however, in combination, had read that article\\n',\n",
       " 'of war which forbade a purpose otherwise strongly in favour of the\\n',\n",
       " 'argument, that some brute animals are endued with Reason; and the team\\n',\n",
       " 'had capitulated and returned to their duty.\\n',\n",
       " '  With drooping heads and tremulous tails, they mashed their way\\n',\n",
       " 'through the thick mud, floundering and stumbling between whiles, as if\\n',\n",
       " 'they were falling to pieces at the larger joints. As often as the\\n',\n",
       " 'driver rested them and brought them to a stand, with a wary \"Wo-ho!\\n',\n",
       " 'so-ho-then!\" the near leader violently shook his head and everything\\n',\n",
       " 'upon it- like an unusually emphatic horse, denying that the coach\\n',\n",
       " 'could be got up the hill. Whenever the leader made this rattle, the\\n',\n",
       " 'passenger started, as a nervous passenger might, and was disturbed\\n',\n",
       " 'in mind.\\n',\n",
       " '  There was a steaming mist in all the hollows, and it had roamed in\\n',\n",
       " 'its forlornness up the hill, like an evil spirit, seeking rest and\\n',\n",
       " 'finding none. A clammy and intensely cold mist, it made its slow way\\n',\n",
       " 'through the air in ripples that visibly followed and overspread one\\n',\n",
       " 'another, as the waves of an unwholesome sea might do. It was dense\\n',\n",
       " 'enough to shut out everything from the light of the coach-lamps but\\n',\n",
       " 'these its own workings, and a few yards of road; and the reek of the\\n',\n",
       " 'labouring horses steamed into it, as if they had made it all.\\n',\n",
       " '  Two other passengers, besides the one, were plodding up the hill\\n',\n",
       " 'by the side of the mail. All three were wrapped to the cheekbones\\n',\n",
       " 'and over the cars, and wore jack-boots. Not one of the three could\\n',\n",
       " 'have said, from anything he saw, what either of the other two was\\n',\n",
       " 'like; and each was hidden under almost as many wrappers from the\\n',\n",
       " 'eyes of the mind, as from the eyes of the body, of his two companions.\\n',\n",
       " 'In those days, travellers were very shy of being confidential on a\\n',\n",
       " 'short notice, for anybody on the road might be a robber or in league\\n',\n",
       " 'with robbers. As to the latter, when every posting-house and ale-house\\n',\n",
       " 'could produce somebody in \"the Captain\\'s\" pay, ranging from the\\n',\n",
       " 'landlord to the lowest stable nondescript, it was the likeliest\\n',\n",
       " 'thing upon the cards. So the guard of the Dover mail thought to\\n',\n",
       " 'himself, that Friday night in November, one thousand seven hundred and\\n',\n",
       " \"seventy-five, lumbering up Shooter's Hill, as he stood on his own\\n\",\n",
       " 'particular perch behind the mail, beating his feet, and keeping an eye\\n',\n",
       " 'and a hand on the arm-chest before him, where a loaded blunderbuss lay\\n',\n",
       " 'at the top of six or eight loaded horse-pistols, deposited on a\\n',\n",
       " 'substratum of cutlass.\\n',\n",
       " '  The Dover mail was in its usual genial position that the guard\\n',\n",
       " 'suspected the passengers, the passengers suspected one another and the\\n',\n",
       " 'guard, they all suspected everybody else, and the coachman was sure of\\n',\n",
       " 'nothing but the horses; as to which cattle he could with a clear\\n',\n",
       " 'conscience have taken his oath on the two Testaments that they were\\n',\n",
       " 'not fit for the journey.\\n',\n",
       " '  \"Wo-ho!\" said the coachman. \"So, then! One more pull and you\\'re at\\n',\n",
       " 'the top and be damned to you, for I have had trouble enough to get you\\n',\n",
       " 'to it!- Joe!\"\\n',\n",
       " '  \"Halloa!\" the guard replied.\\n',\n",
       " '  \"What o\\'clock do you make it, Joe?\"\\n',\n",
       " '  \"Ten minutes, good, past eleven.\"\\n',\n",
       " '  \"My blood!\" ejaculated the vexed coachman, \"and not atop of\\n',\n",
       " 'Shooter\\'s yet! Tst! Yah! Get on with you!\"\\n',\n",
       " '  The emphatic horse, cut short by the whip in a most decided\\n',\n",
       " 'negative, made a decided scramble for it, and the three other horses\\n',\n",
       " 'followed suit. Once more, the Dover mail struggled on, with the\\n',\n",
       " 'jack-boots of its passengers squashing along by its side. They had\\n',\n",
       " 'stopped when the coach stopped, and they kept close company with it.\\n',\n",
       " 'If any one of the three had had the hardihood to propose to another to\\n',\n",
       " 'walk on a little ahead into the mist and darkness, he would have put\\n',\n",
       " 'himself in a fair way of getting shot instantly as a highwayman.\\n',\n",
       " '  The last burst carried the mail to the summit of the hill. The\\n',\n",
       " 'horses stopped to breathe again, and the guard got down to skid the\\n',\n",
       " 'wheel for the descent, and open the coach-door to let the passengers\\n',\n",
       " 'in.\\n',\n",
       " '  \"Tst! Joe!\" cried the coachman in a warning voice, looking down from\\n',\n",
       " 'his box.\\n',\n",
       " '  \"What do you say, Tom?\"\\n',\n",
       " '  They both listened.\\n',\n",
       " '  \"I say a horse at a canter coming up, Joe.\"\\n',\n",
       " '  \"I say a horse at a gallop, Tom,\" returned the guard, leaving his\\n',\n",
       " 'hold of the door, and mounting nimbly to his place. \"Gentlemen! In the\\n',\n",
       " 'king\\'s name, all of you!\"\\n',\n",
       " '  With this hurried adjuration, he cocked his blunderbuss, and stood\\n',\n",
       " 'on the offensive.\\n',\n",
       " '  The passenger booked by this history, was on the coach-step, getting\\n',\n",
       " 'in; the two other passengers were close behind him, and about to\\n',\n",
       " 'follow. He remained on the step, half in the coach and half out of;\\n',\n",
       " 'they remained in the road below him. They all looked from the coachman\\n',\n",
       " 'to the guard, and from the guard to the coachman, and listened. The\\n',\n",
       " 'coachman looked back and the guard looked back, and even the\\n',\n",
       " 'emphatic leader pricked up his ears and looked back, without\\n',\n",
       " 'contradicting.\\n',\n",
       " '  The stillness consequent on the cessation of the rumbling and\\n',\n",
       " 'labouring of the coach, added to the stillness of the night, made it\\n',\n",
       " 'very quiet indeed. The panting of the horses communicated a\\n',\n",
       " 'tremulous motion to the coach, as if it were in a state of\\n',\n",
       " 'agitation. The hearts of the passengers beat loud enough perhaps to be\\n',\n",
       " 'heard; but at any rate, the quiet pause was audibly expressive of\\n',\n",
       " 'people out of breath, and holding the breath, and having the pulses\\n',\n",
       " 'quickened by expectation.\\n',\n",
       " '  The sound of a horse at a gallop came fast and furiously up the\\n',\n",
       " 'hill.\\n',\n",
       " '  \"So-ho!\" the guard sang out, as loud as he could roar. \"Yo there!\\n',\n",
       " 'Stand! I shall fire!\"\\n',\n",
       " '  The pace was suddenly checked, and, with much splashing and\\n',\n",
       " 'floundering, a man\\'s voice called from the mist, \"Is that the Dover\\n',\n",
       " 'mail?\"\\n',\n",
       " '  \"Never you mind what it is!\" the guard retorted. \"What are you?\"\\n',\n",
       " '  \"Is that the Dover mail?\"\\n',\n",
       " '  \"Why do you want to know?\"\\n',\n",
       " '  \"I want a passenger, if it is.\"\\n',\n",
       " '  \"What passenger?\"\\n',\n",
       " '  \"Mr. Jarvis Lorry.\"\\n',\n",
       " '  Our booked passenger showed in a moment that it was his name. The\\n',\n",
       " 'guard, the coachman, and the two other passengers eyed him\\n',\n",
       " 'distrustfully.\\n',\n",
       " '  \"Keep where you are,\" the guard called to the voice in the mist,\\n',\n",
       " '\"because, if I should make a mistake, it could never be set right in\\n',\n",
       " 'your lifetime. Gentleman of the name of Lorry answer straight.\"\\n',\n",
       " '  \"What is the matter?\" asked the passenger, then, with mildly\\n',\n",
       " 'quavering speech. \"Who wants me? Is it Jerry?\"\\n',\n",
       " '  (\"I don\\'t like Jerry\\'s voice, if it is Jerry,\" growled the guard\\n',\n",
       " 'to himself. \"He\\'s hoarser than suits me, is Jerry.\")\\n',\n",
       " '  \"Yes, Mr. Lorry.\"\\n',\n",
       " '  \"What is the matter?\"\\n',\n",
       " '  \"A despatch sent after you from over yonder. T. and Co.\"\\n',\n",
       " '  \"I know this messenger, guard,\" said Mr. Lorry, getting down into\\n',\n",
       " 'the road- assisted from behind more swiftly than politely by the other\\n',\n",
       " 'two passengers, who immediately scrambled into the coach, shut the\\n',\n",
       " 'door, and pulled up the window. \"He may come close; there\\'s nothing\\n',\n",
       " 'wrong.\"\\n',\n",
       " '  \"I hope there ain\\'t, but I can\\'t make so \\'Nation sure of that,\" said\\n',\n",
       " 'the guard, in gruff soliloquy. \"Hallo you!\"\\n',\n",
       " '  \"Well! And hallo you!\" said Jerry, more hoarsely than before.\\n',\n",
       " '  \"Come on at a footpace! d\\'ye mind me? And if you\\'ve got holsters\\n',\n",
       " \"to that saddle o' yourn, don't let me see your hand go nigh 'em. For\\n\",\n",
       " \"I'm a devil at a quick mistake, and when I make one it takes the\\n\",\n",
       " 'form of Lead. So now let\\'s look at you.\"\\n',\n",
       " '  The figures of a horse and rider came slowly through the eddying\\n',\n",
       " 'mist, and came to the side of the mail, where the passenger stood. The\\n',\n",
       " 'rider stooped, and, casting up his eyes at the guard, handed the\\n',\n",
       " \"passenger a small folded paper. The rider's horse was blown, and\\n\",\n",
       " 'both horse and rider were covered with mud, from the hoofs of the\\n',\n",
       " 'horse to the hat of the man.\\n',\n",
       " '  \"Guard!\" said the passenger, in a tone of quiet business confidence.\\n',\n",
       " '  The watchful guard, with his right hand at the stock of his raised\\n',\n",
       " 'blunderbuss, his left at the barrel, and his eye on the horseman,\\n',\n",
       " 'answered curtly, \"Sir.\"\\n',\n",
       " '  \"There is nothing to apprehend. I belong to Tellson\\'s Bank. You must\\n',\n",
       " \"know Tellson's Bank in London. I am going to Paris on business. A\\n\",\n",
       " 'crown to drink. I may read this?\"\\n',\n",
       " '  \"If so be as you\\'re quick, sir.\"\\n',\n",
       " '  He opened it in the light of the coach-lamp on that side, and\\n',\n",
       " 'read- first to himself and then aloud: \"\\'Wait at Dover for Mam\\'selle.\\'\\n',\n",
       " \"It's not long, you see, guard. Jerry, say that my answer was, RECALLED\\n\",\n",
       " 'TO LIFE.\"\\n',\n",
       " '  Jerry started in his saddle. \"That\\'s a Blazing strange answer, too,\"\\n',\n",
       " 'said he, at his hoarsest.\\n',\n",
       " '  \"Take that message back, and they will know that I received this, as\\n',\n",
       " 'well as if I wrote. Make the best of your way. Good night.\"\\n',\n",
       " '  With those words the passenger opened the coach-door and got in; not\\n',\n",
       " 'at all assisted by his fellow-passengers, who had expeditiously\\n',\n",
       " 'secreted their watches and purses in their boots, and were now\\n',\n",
       " 'making a general pretence of being asleep. With no more definite\\n',\n",
       " 'purpose than to escape the hazard of originating any other kind of\\n',\n",
       " 'action.\\n',\n",
       " '  The coach lumbered on again, with heavier wreaths of mist closing\\n',\n",
       " 'round it as it began the descent. The guard soon replaced his\\n',\n",
       " 'blunderbuss in his arm-chest, and, having looked to the rest of its\\n',\n",
       " 'contents, and having looked to the supplementary pistols that he\\n',\n",
       " 'wore in his belt, looked to a smaller chest beneath his seat, in which\\n',\n",
       " \"there were a few smith's tools, a couple of torches, and a tinder-box.\\n\",\n",
       " 'For he was furnished with that completeness that if the coach-lamps\\n',\n",
       " 'had been blown and stormed out, which did occasionally happen, he\\n',\n",
       " 'had only to shut himself up inside, keep the flint and steel sparks\\n',\n",
       " 'well off the straw, and get a light with tolerable safety and ease (if\\n',\n",
       " 'he were lucky) in five minutes.\\n',\n",
       " '  \"Tom!\" softly over the coach roof.\\n',\n",
       " '  \"Hallo, Joe.\"\\n',\n",
       " '  \"Did you hear the message?\"\\n',\n",
       " '  \"I did, Joe.\"\\n',\n",
       " '  \"What did you make of it, Tom?\"\\n',\n",
       " '  \"Nothing at all, Joe.\"\\n',\n",
       " '  \"That\\'s a coincidence, too,\" the guard mused, \"for I made the same\\n',\n",
       " 'of it myself.\"\\n',\n",
       " '  Jerry, left alone in the mist and darkness, dismounted meanwhile,\\n',\n",
       " 'not only to ease his spent horse, but to wipe the mud from his face,\\n',\n",
       " 'and shake the wet out of his hat-brim, which might be capable of\\n',\n",
       " 'holding about half a gallon. After standing with the bridle over his\\n',\n",
       " 'heavily-splashed arm, until the wheels of the mail were no longer\\n',\n",
       " 'within hearing and the night was quite still again, he turned to\\n',\n",
       " 'walk down the hill.\\n',\n",
       " '  \"After that there gallop from Temple Bar, old lady, I won\\'t trust\\n',\n",
       " 'your fore-legs till I get you on the level,\" said this hoarse\\n',\n",
       " 'messenger, glancing at his mare. \"\\'Recalled to life.\\' That\\'s a Blazing\\n',\n",
       " \"strange message. Much of that wouldn't do for you, Jerry! I say,\\n\",\n",
       " \"Jerry! You'd be in a Blazing bad way, if recalling to life was to come\\n\",\n",
       " 'into fashion, Jerry!\"\\n',\n",
       " '  III\\n',\n",
       " '  THE NIGHT SHADOWS\\n',\n",
       " '\\n',\n",
       " '  A WONDERFUL FACT to reflect upon, that every human creature is\\n',\n",
       " 'constituted to be that profound secret and mystery to every other. A\\n',\n",
       " 'solemn consideration, when I enter a great city by night, that every\\n',\n",
       " 'one of those darkly clustered houses encloses its own secret; that\\n',\n",
       " 'every room in every one of them encloses its own secret; that every\\n',\n",
       " 'beating heart in the hundreds of thousands of breasts there, is, in\\n',\n",
       " 'some of its imaginings, a secret to the heart nearest it! Something of\\n',\n",
       " 'the awfulness, even of Death itself, is referable to this. No more can\\n',\n",
       " 'I turn the leaves of this dear book that I loved, and vainly hope in\\n',\n",
       " 'time to read it all. No more can I look into the depths of this\\n',\n",
       " 'unfathomable water, wherein, as momentary lights glanced into it, I\\n',\n",
       " 'have had glimpses of buried treasure and other things submerged. It\\n',\n",
       " 'was appointed that the book should shut with a spring, for ever and\\n',\n",
       " 'for ever, when I had read but a page. It was appointed that the\\n',\n",
       " 'water should be locked in an eternal frost, when the light was playing\\n',\n",
       " 'on its surface, and I stood in ignorance on the shore. My friend is\\n',\n",
       " 'dead, my neighbour is dead, my love, the darling of my soul, is\\n',\n",
       " 'dead; it is the inexorable consolidation and perpetuation of the\\n',\n",
       " 'secret that was always in that individuality, and which I shall\\n',\n",
       " \"carry in mine to my life's end. In any of the burial-places of this\\n\",\n",
       " 'city through which I pass, is there a sleeper more inscrutable than\\n',\n",
       " 'its busy inhabitants are, in their innermost personality, to me, or\\n',\n",
       " 'than I am to them?\\n',\n",
       " '  As to this, his natural and not to be alienated inheritance, the\\n',\n",
       " 'messenger on horseback had exactly the same possessions as the King,\\n',\n",
       " 'the first Minister of State, or the richest merchant in London. So\\n',\n",
       " 'with the three passengers shut up in the narrow compass of one\\n',\n",
       " 'lumbering old mail coach; they were mysteries to one another, as\\n',\n",
       " 'complete as if each had been in his own coach and six, or his own\\n',\n",
       " 'coach and sixty, with the breadth of a county between him and the\\n',\n",
       " 'next.\\n',\n",
       " '  The messenger rode back at an easy trot, stopping pretty often at\\n',\n",
       " 'alehouses by the way to drink, but evincing a tendency to keep his own\\n',\n",
       " 'counsel, and to keep his hat cocked over his eyes. He had eyes that\\n',\n",
       " 'assorted very well with that decoration, being of a surface black,\\n',\n",
       " 'with no depth in the colour or form, and much too near together- as if\\n',\n",
       " 'they were afraid of being found out in something, singly, if they kept\\n',\n",
       " 'too far apart. They had a sinister expression, under an old cocked-hat\\n',\n",
       " 'like a three-cornered spittoon, and over a great muffler for the\\n',\n",
       " \"chin and throat, which descended nearly to the wearer's knees. When he\\n\",\n",
       " 'stopped for drink, he moved this muffler with his left hand, only\\n',\n",
       " 'while he poured his liquor in with his right; as soon as that was\\n',\n",
       " 'done, he muffled again.\\n',\n",
       " '  \"No, Jerry, no!\" said the messenger, harping on one theme as he\\n',\n",
       " 'rode. \"It wouldn\\'t do for you, Jerry. Jerry, you honest tradesman,\\n',\n",
       " \"it wouldn't suit your line of business! Recalled-! Bust me if I\\n\",\n",
       " 'don\\'t think he\\'d been a drinking!\"\\n',\n",
       " '  His message perplexed his mind to that degree that he was fain,\\n',\n",
       " 'several times, to take off his hat to scratch his head. Except on\\n',\n",
       " 'the crown, which was raggedly bald, he had stiff, black hair, standing\\n',\n",
       " 'jaggedly all over it, and growing down hill almost to his broad, blunt\\n',\n",
       " \"nose. It was so like Smith's work, so much more like the top of a\\n\",\n",
       " 'strongly spiked wall than a head of hair, that the best of players\\n',\n",
       " 'at leap-frog might have declined him, as the most dangerous man in the\\n',\n",
       " 'world to go over.\\n',\n",
       " '  While he trotted back with the message he was to deliver to the\\n',\n",
       " \"night watchman in his box at the door of Tellson's Bank, by Temple\\n\",\n",
       " 'Bar, who was to deliver it to greater authorities within, the\\n',\n",
       " 'shadows of the night took such shapes to him as arose out of the\\n',\n",
       " 'message, and took such shapes to the mare as arose out of her\\n',\n",
       " 'private topics of uneasiness. They seemed to be numerous, for she\\n',\n",
       " 'shied at every shadow on the road.\\n',\n",
       " '  What time, the mail-coach lumbered, jolted, rattled, and bumped upon\\n',\n",
       " 'its tedious way, with its three fellow-inscrutables inside. To whom,\\n',\n",
       " 'likewise, the shadows of the night revealed themselves, in the forms\\n',\n",
       " 'their dozing eyes and wandering thoughts suggested.\\n',\n",
       " \"  Tellson's Bank had a run upon it in the mail. As the bank passenger-\\n\",\n",
       " 'with an arm drawn through the leathern strap, which did what lay in it\\n',\n",
       " 'to keep him from pounding against the next passenger, and driving\\n',\n",
       " 'him into his corner, whenever the coach got a special jolt- nodded in\\n',\n",
       " 'his place, with half-shut eyes, the little coach-windows, and the\\n',\n",
       " 'coach-lamp dimly gleaming through them, and the bulky bundle of\\n',\n",
       " 'opposite passenger, became the bank, and did a great stroke of\\n',\n",
       " 'business. The rattle of the harness was the chink of money, and more\\n',\n",
       " \"drafts were honoured in five minutes than even Tellson's with all\\n\",\n",
       " 'its foreign and home connection, ever paid in thrice the time. Then\\n',\n",
       " \"the strong-rooms underground, at Tellson's, with such of their\\n\",\n",
       " 'valuable stores and secrets as were known to the passenger (and it was\\n',\n",
       " 'not a little that he knew about them), opened before him, and he\\n',\n",
       " 'went in among them with the great keys and the feebly-burning\\n',\n",
       " 'candle, and found them safe, and strong, and sound, and still, just as\\n',\n",
       " 'he had last seen them.\\n',\n",
       " '  But, though the bank was almost always with him, and though the\\n',\n",
       " 'coach (in a confused way, like the presence of pain under an opiate)\\n',\n",
       " 'was always with him, there was another current of impression that\\n',\n",
       " 'never ceased to run, all through the night. He was on his way to dig\\n',\n",
       " 'some one out of a grave.\\n',\n",
       " '  Now, which of the multitude of faces that showed themselves before\\n',\n",
       " 'him was the true face of the buried person, the shadows of the night\\n',\n",
       " 'did not indicate; but they were all the faces of a man of\\n',\n",
       " 'five-and-forty by years, and they differed principally in the passions\\n',\n",
       " 'they expressed, and in the ghastliness of their worn and wasted state.\\n',\n",
       " 'Pride, contempt, defiance, stubbornness, submission, lamentation,\\n',\n",
       " 'succeeded one another; so did varieties of sunken cheek, cadaverous\\n',\n",
       " 'colour, emaciated hands and figures. But the face was in the main\\n',\n",
       " 'one face, and every head was prematurely white. A hundred times the\\n',\n",
       " 'dozing passenger inquired of this spectre:\\n',\n",
       " '  \"Buried how long?\"\\n',\n",
       " '  The answer was always the same: \"Almost eighteen years.\"\\n',\n",
       " '  \"You had abandoned all hope of being dug out?\"\\n',\n",
       " '  \"Long ago.\"\\n',\n",
       " '  \"You know that you are recalled to life?\"\\n',\n",
       " '  \"They tell me so.\"\\n',\n",
       " '  \"I hope you care to live?\"\\n',\n",
       " '  \"I can\\'t say.\"\\n',\n",
       " '  \"Shall I show her to you? Will you come and see her?\"\\n',\n",
       " '  The answers to this question were various and contradictory.\\n',\n",
       " 'Sometimes the broken reply was, \"Wait! It would kill me if I saw her\\n',\n",
       " 'too soon.\" Sometimes, it was given in a tender rain of tears, and then\\n',\n",
       " 'it was, \"Take me to her.\" Sometimes it was staring and bewildered, and\\n',\n",
       " 'then it was, \"I don\\'t know her. I don\\'t understand.\"\\n',\n",
       " '  After such imaginary discourse, the passenger in his fancy would\\n',\n",
       " 'dig, and dig, dig- now with a spade, now with a great key, now with\\n',\n",
       " 'his hands- to dig this wretched creature out. Got out at last, with\\n',\n",
       " 'earth hanging about his face and hair, he would suddenly fall away\\n',\n",
       " 'to dust. The passenger would then start to himself, and lower the\\n',\n",
       " 'window, to get the reality of mist and rain on his cheek.\\n',\n",
       " '  Yet even when his eyes were opened on the mist and rain, on the\\n',\n",
       " 'moving patch of light from the lamps, and the hedge at the roadside\\n',\n",
       " 'retreating by jerks, the night shadows outside the coach would fall\\n',\n",
       " 'into the train of the night shadows within. The real Banking-house\\n',\n",
       " 'by Temple Bar, the real business of the past day, the real strong\\n',\n",
       " 'rooms, the real express sent after him, and the real message returned,\\n',\n",
       " 'would all be there. Out of the midst of them, the ghostly face would\\n',\n",
       " 'rise, and he would accost it again.\\n',\n",
       " '  \"Buried how long?\"\\n',\n",
       " '  \"Almost eighteen years.\"\\n',\n",
       " '  \"I hope you care to live?\"\\n',\n",
       " '  \"I can\\'t say.\"\\n',\n",
       " '  Dig- dig- dig- until an impatient movement from one of the two\\n',\n",
       " 'passengers would admonish him to pull up the window, draw his arm\\n',\n",
       " 'securely through the leathern strap, and speculate upon the two\\n',\n",
       " 'slumbering forms, until his mind lost its hold of them, and they again\\n',\n",
       " 'slid away into the bank and the grave.\\n',\n",
       " '  \"Buried how long?\"\\n',\n",
       " '  \"Almost eighteen years.\"\\n',\n",
       " '  \"You had abandoned all hope of being dug out?\"\\n',\n",
       " '  \"Long ago.\"\\n',\n",
       " '  The words were still in his hearing as just spoken- distinctly in\\n',\n",
       " 'his hearing as ever spoken words had been in his life- when the\\n',\n",
       " 'weary passenger started to the consciousness of daylight, and found\\n',\n",
       " 'that the shadows of the night were gone.\\n',\n",
       " '  He lowered the window, and looked out at the rising sun. There was a\\n',\n",
       " 'ridge of ploughed land, with a plough upon it where it had been left\\n',\n",
       " 'last night when the horses were unyoked; beyond, a quiet coppice-wood,\\n',\n",
       " 'in which many leaves of burning red and golden yellow still remained\\n',\n",
       " 'upon the trees. Though the earth was cold and wet, the sky was\\n',\n",
       " 'clear, and the sun rose bright, placid, and beautiful.\\n',\n",
       " '  \"Eighteen years!\" said the passenger, looking at the sun.\\n',\n",
       " '\"Gracious Creator of day! To be buried alive for eighteen years!\"\\n',\n",
       " '  IV\\n',\n",
       " '  THE PREPARATION\\n',\n",
       " '\\n',\n",
       " '  WHEN THE MAIL got successfully to Dover, in the course of the\\n',\n",
       " 'forenoon, the head drawer at the Royal George Hotel opened the\\n',\n",
       " 'coach-door as his custom was. He did it with some flourish of\\n',\n",
       " 'ceremony, for a mail journey from London in winter was an\\n',\n",
       " 'achievement to congratulate an adventurous traveller upon.\\n',\n",
       " '  By that time, there was only one adventurous traveller left to be\\n',\n",
       " 'congratulated: for the two others had been set down at their\\n',\n",
       " 'respective roadside destinations. The mildewy inside of the coach,\\n',\n",
       " 'with its damp and dirty straw, its disagreeable smell, and its\\n',\n",
       " 'obscurity, was rather like a larger dog-kennel. Mr. Lorry, the\\n',\n",
       " 'passenger, shaking himself out of it in chains of straw, a tangle of\\n',\n",
       " 'shaggy wrapper, flapping hat, and muddy legs, was rather like a larger\\n',\n",
       " 'sort of dog.\\n',\n",
       " '  \"There will be a packet to Calais, to-morrow, drawer?\"\\n',\n",
       " '  \"Yes, sir, if the weather holds and the wind sets tolerable fair.\\n',\n",
       " 'The tide will serve pretty nicely at about two in the afternoon,\\n',\n",
       " 'sir. Bed, sir?\"\\n',\n",
       " '  \"I shall not go to bed till night; but I want a bedroom, and a\\n',\n",
       " 'barber.\"\\n',\n",
       " '  \"And then breakfast, sir? Yes, sir. That way, sir, if you please.\\n',\n",
       " \"Show Concord! Gentleman's valise and hot water to Concord. Pull off\\n\",\n",
       " \"gentleman's boots in Concord. (You will find a fine sea-coal fire,\\n\",\n",
       " 'sir.) Fetch barber to Concord. Stir about there, now, for Concord!\"\\n',\n",
       " '  The Concord bed-chamber being always assigned to a passenger by\\n',\n",
       " 'the mail, and passengers by the mail being always heavily wrapped up\\n',\n",
       " 'from head to foot, the room had the odd interest for the establishment\\n',\n",
       " 'of the Royal George, that although but one kind of man was seen to\\n',\n",
       " 'go into it, all kinds and varieties of men came out of it.\\n',\n",
       " 'Consequently, another drawer, and two porters, and several maids and\\n',\n",
       " 'the landlady, were an loitering by accident at various points of the\\n',\n",
       " 'road between the Concord and the coffee-room, when a gentleman of\\n',\n",
       " 'sixty, formally dressed in a brown suit of clothes, pretty well\\n',\n",
       " 'worn. but very well kept, with large square cuffs and large flaps to\\n',\n",
       " 'the pockets, passed along on his way to his breakfast.\\n',\n",
       " '  The coffee-room had no other occupant, that forenoon, than the\\n',\n",
       " 'gentleman in brown. His breakfast-table was drawn before the fire, and\\n',\n",
       " 'as he sat, with its light shining on him, waiting for the meal, he sat\\n',\n",
       " 'so still, that he might have been sitting for his portrait.\\n',\n",
       " '  Very orderly and methodical he looked, with a hand on each knee, and\\n',\n",
       " 'a loud watch ticking a sonorous sermon under his flapped waistcoat, as\\n',\n",
       " 'though it pitted its gravity and longevity against the levity and\\n',\n",
       " 'evanescence of the brisk fire. He had a good leg, and was a little\\n',\n",
       " 'vain of it, for his brown stockings fitted sleek and close, and were\\n',\n",
       " 'of a fine texture; his shoes and buckles, too, though plain, were\\n',\n",
       " 'trim. He wore an odd little sleek crisp flaxen wig, setting very close\\n',\n",
       " 'to his head: which wig, it is to be presumed, was made of hair, but\\n',\n",
       " 'which looked far more as though it were spun from filaments of silk or\\n',\n",
       " 'glass. His linen, though not of a fineness in accordance with his\\n',\n",
       " 'stockings, was as white as the tops of the waves that broke upon the\\n',\n",
       " 'neighbouring beach, or the specks of sail that glinted in the sunlight\\n',\n",
       " 'far at sea. A face habitually suppressed and quieted, was still\\n',\n",
       " 'lighted up under the quaint wig by a pair of moist bright eyes that it\\n',\n",
       " 'must have cost their owner, in years gone by, some pains to drill to\\n',\n",
       " \"the composed and reserved expression of Tellson's Bank. He had a\\n\",\n",
       " 'healthy colour in his cheeks, and his face, though lined, bore few\\n',\n",
       " 'traces of anxiety. But, perhaps the confidential bachelor clerks in\\n',\n",
       " \"Tellson's Bank were principally occupied with the cares of other\\n\",\n",
       " 'people; and perhaps second-hand cares, like second-hand clothes,\\n',\n",
       " 'come easily off and on.\\n',\n",
       " '  Completing his resemblance to a man who was sitting for his\\n',\n",
       " 'portrait, Mr. Lorry dropped off to sleep. The arrival of his breakfast\\n',\n",
       " 'roused him, and he said to the drawer, as he moved his chair to it:\\n',\n",
       " '  \"I wish accommodation prepared for a young lady who may come here at\\n',\n",
       " 'any time to-day. She may ask for Mr. Jarvis Lorry, or she may only ask\\n',\n",
       " 'for a gentleman from Tellson\\'s Bank. Please to let me know.\"\\n',\n",
       " '  \"Yes, sir. Tellson\\'s Bank in London, sir?\"\\n',\n",
       " '  \"Yes.\"\\n',\n",
       " '  \"Yes, sir. We have oftentimes the honour to entertain your gentlemen\\n',\n",
       " 'in their travelling backwards and forwards betwixt London and Paris,\\n',\n",
       " 'sir. A vast deal of travelling, sir, in Tellson and Company\\'s House.\"\\n',\n",
       " '  \"Yes. We are quite a French House, as well as an English one.\"\\n',\n",
       " '  \"Yes, sir. Not much in the habit of such travelling yourself, I\\n',\n",
       " 'think, sir?\"\\n',\n",
       " '  \"Not of late years. It is fifteen years since we-since I- came\\n',\n",
       " 'last from France.\"\\n',\n",
       " '  \"Indeed, sir? That was before my time here, sir. Before our people\\'s\\n',\n",
       " 'time here, sir. The George was in other hands at that time, sir.\"\\n',\n",
       " '  \"I believe so.\"\\n',\n",
       " '  \"But I would hold a pretty wager, sir, that a House like Tellson and\\n',\n",
       " 'Company was flourishing, a matter of fifty, not to speak of fifteen\\n',\n",
       " 'years ago?\"\\n',\n",
       " '  \"You might treble that, and say a hundred and fifty, yet not be\\n',\n",
       " 'far from the truth.\"\\n',\n",
       " '  \"Indeed, sir!\"\\n',\n",
       " '  Rounding his mouth and both his eyes, as he stepped backward from\\n',\n",
       " 'the table, the waiter shifted his napkin from his right arm to his\\n',\n",
       " 'left, dropped into a comfortable attitude, and stood surveying the\\n',\n",
       " 'guest while he ate and drank, as from an observatory or watchtower.\\n',\n",
       " 'According to the immemorial usage of waiters in all ages.\\n',\n",
       " '  When Mr. Lorry had finished his breakfast, he went out for a\\n',\n",
       " 'stroll on the beach. The little narrow, crooked town of Dover hid\\n',\n",
       " 'itself away from the beach, and ran its head into the chalk cliffs,\\n',\n",
       " 'like a marine ostrich. The beach was a desert of heaps of sea and\\n',\n",
       " 'stones tumbling wildly about, and the sea did what it liked, and\\n',\n",
       " 'what it liked was destruction. It thundered at the town, and thundered\\n',\n",
       " 'at the cliffs, and brought the coast down, madly. The air among the\\n',\n",
       " 'houses was of so strong a piscatory flavour that one might have\\n',\n",
       " 'supposed sick fish went up to be dipped in it, as sick people went\\n',\n",
       " 'down to be dipped in the sea. A little fishing was done in the port,\\n',\n",
       " 'and a quantity of strolling about by night, and looking seaward:\\n',\n",
       " 'particularly at those times when the tide made, and was near flood.\\n',\n",
       " 'Small tradesmen, who did no business whatever, sometimes unaccountably\\n',\n",
       " 'realised large fortunes, and it was remarkable that nobody in the\\n',\n",
       " 'neighbourhood could endure a lamplighter.\\n',\n",
       " '  As the day declined into the afternoon, and the air, which had\\n',\n",
       " 'been at intervals clear enough to allow the French coast to be seen,\\n',\n",
       " \"became again charged with mist and vapour, Mr. Lorry's thoughts seemed\\n\",\n",
       " 'to cloud too. When it was dark, and he sat before the coffee-room\\n',\n",
       " 'fire, awaiting his dinner as he had awaited his breakfast, his mind\\n',\n",
       " 'was busily digging, digging, digging, in the live red coals.\\n',\n",
       " '  A bottle of good claret after dinner does a digger in the red\\n',\n",
       " 'coals no harm, otherwise than as it has a tendency to throw him out of\\n',\n",
       " 'work. Mr. Lorry had been idle a long time, and had just poured out his\\n',\n",
       " 'last glassful of wine with as complete an appearance of satisfaction\\n',\n",
       " 'as is ever to be found in an elderly gentleman of a fresh complexion\\n',\n",
       " 'who has got to the end of a bottle, when a rattling of wheels came\\n',\n",
       " 'up the narrow street, and rumbled into the inn-yard.\\n',\n",
       " '  He set down his glass untouched. \"This is Mam\\'selle!\" said he.\\n',\n",
       " '  In a very few minutes the waiter came in to announce that Miss\\n',\n",
       " 'Manette had arrived from London, and would be happy to see the\\n',\n",
       " \"gentleman from Tellson's.\\n\",\n",
       " '  \"So soon?\"\\n',\n",
       " '  Miss Manette had taken some refreshment on the road, and required\\n',\n",
       " 'none then, and was extremely anxious to see the gentleman from\\n',\n",
       " \"Tellson's immediately, if it suited his pleasure and convenience.\\n\",\n",
       " \"  The gentleman from Tellson's had nothing left for it but to empty\\n\",\n",
       " 'his glass with an air of stolid desperation, settle his odd little\\n',\n",
       " \"flaxen wig at the ears, and follow the waiter to Miss Manette's\\n\",\n",
       " 'apartment. It was a large, dark room, furnished in a funereal manner\\n',\n",
       " 'with black horsehair, and loaded with heavy dark tables. These had\\n',\n",
       " 'been oiled and oiled, until the two tall candles on the table in the\\n',\n",
       " 'middle of the room were gloomily reflected on every leaf; as if they\\n',\n",
       " 'were buried, in deep graves of black mahogany, and no light to speak\\n',\n",
       " 'of could be expected from them until they were dug out.\\n',\n",
       " '  The obscurity was so difficult to penetrate that Mr. Lorry,\\n',\n",
       " 'picking his way over the well-worn Turkey carpet, supposed Miss\\n',\n",
       " 'Manette to be, for the moment, in some adjacent room, until, having\\n',\n",
       " 'got past the two tall candles, he saw standing to receive him by the\\n',\n",
       " 'table between them and the fire, a young lady of not more than\\n',\n",
       " 'seventeen in a riding-cloak, and still holding her straw\\n',\n",
       " 'travelling-hat by its ribbon in her band. As his eyes rested on a\\n',\n",
       " 'short, slight, pretty figure, a quantity of golden hair, a pair of\\n',\n",
       " 'blue eyes that met his own with an inquiring look, and a forehead with\\n',\n",
       " 'a singular capacity (remembering how young and smooth it was), of\\n',\n",
       " 'lifting and knitting itself into an expression that was not quite\\n',\n",
       " 'one of perplexity, or wonder, or alarm, or merely of a bright fixed\\n',\n",
       " 'attention, though it included all the four expressions- as his eyes\\n',\n",
       " 'rested on these things, a sudden vivid likeness passed before him,\\n',\n",
       " 'of a child whom he had held in his arms on the passage across that\\n',\n",
       " 'very Channel, one cold time, when the hail drifted heavily and the sea\\n',\n",
       " 'ran high. The likeness passed away, like a breath along the surface of\\n',\n",
       " 'the gaunt pier-glass behind her, on the frame of which, a hospital\\n',\n",
       " 'procession of negro cupids, several headless and all cripples, were\\n',\n",
       " 'offering black baskets of Dead Sea fruit to black divinities of the\\n',\n",
       " 'feminine gender- and he made his formal bow to Miss Manette.\\n',\n",
       " '  \"Pray take a seat, sir.\" In a very clear and pleasant young voice; a\\n',\n",
       " 'little foreign in its accent, but a very little indeed.\\n',\n",
       " '  \"I kiss your hand, miss,\" said Mr. Lorry, with the manners of an\\n',\n",
       " 'earlier date, as he made his formal bow again, and took his seat.\\n',\n",
       " '  \"I received a letter from the Bank, sir, yesterday, informing me\\n',\n",
       " 'that some intelligence- or discovery--\"\\n',\n",
       " '  \"The word is not material, miss; either word will do.\"\\n',\n",
       " '   \"-respecting the small property of my poor father, whom I never\\n',\n",
       " 'saw- so long dead-\"\\n',\n",
       " '  Mr. Lorry moved in his chair, and cast a troubled look towards the\\n',\n",
       " 'hospital procession of negro cupids. As if they had any help for\\n',\n",
       " 'anybody in their absurd baskets!\\n',\n",
       " '  \"-rendered it necessary that I should go to Paris, there to\\n',\n",
       " 'communicate with a gentleman of the Bank, so good as to be\\n',\n",
       " 'despatched to Paris for the purpose.\"\\n',\n",
       " '  \"Myself.\"\\n',\n",
       " '  \"As I was prepared to hear, sir.\"\\n',\n",
       " '  She curtseyed to him (young ladies made curtseys in those days),\\n',\n",
       " 'with a pretty desire to convey to him that she felt how much older and\\n',\n",
       " 'wiser he was than she. He made her another bow.\\n',\n",
       " '  \"I replied to the Bank, sir, that as it was considered necessary, by\\n',\n",
       " 'those who know, and who are so kind as to advise me, that I should\\n',\n",
       " 'go to France, and that as I am an orphan and have no friend who\\n',\n",
       " 'could go with me, I should esteem it highly if I might be permitted to\\n',\n",
       " \"place myself, during the journey, under that worthy gentleman's\\n\",\n",
       " 'protection. The gentleman had left London, but I think a messenger was\\n',\n",
       " 'sent after him to be, the favour of his waiting for me here.\"\\n',\n",
       " '  \"I was happy,\" said Mr. Lorry, \"to be entrusted with the charge. I\\n',\n",
       " 'shall be more happy to execute it.\"\\n',\n",
       " '  \"Sir, I thank you indeed. I thank you very gratefully. It was told\\n',\n",
       " 'me by the Bank that the gentleman would explain to me the details of\\n',\n",
       " 'the business, and that I must prepare myself to find them of a\\n',\n",
       " 'surprising nature. I have done my best to prepare myself, and I\\n',\n",
       " 'naturally have a strong and eager interest to know what they are.\"\\n',\n",
       " '  \"Naturally,\" said Mr. Lorry. \"Yes- I--\"\\n',\n",
       " '  After a pause, he added, again settling the crisp flaxen wig at\\n',\n",
       " 'the ears,\\n',\n",
       " '  \"It is very difficult to begin.\"\\n',\n",
       " '  He did not begin, but, in his indecision, met her glance. The\\n',\n",
       " 'young forehead lifted itself into that singular expression- but it was\\n',\n",
       " 'pretty and characteristic, besides being singular- and she raised\\n',\n",
       " 'her hand, as if with an involuntary action she caught at, or stayed\\n',\n",
       " 'some passing shadow.\\n',\n",
       " '  \"Are you quite a stranger to me, sir?\"\\n',\n",
       " '  \"Am I not?\" Mr. Lorry opened his hands, and extended them outwards\\n',\n",
       " 'with an argumentative smile.\\n',\n",
       " '  Between the eyebrows and just over the little feminine nose, the\\n',\n",
       " 'line of which was as delicate and fine as it was possible to be, the\\n',\n",
       " 'expression deepened itself as she took her seat thoughtfully in the\\n',\n",
       " 'chair by which she had hitherto remained standing. He watched her as\\n',\n",
       " 'she mused, and the moment she raised her eyes again, went on:\\n',\n",
       " '  \"In your adopted country, I presume, I cannot do better than address\\n',\n",
       " 'you as a young English lady, Miss Manette?\"\\n',\n",
       " '  \"If you please, sir.\"\\n',\n",
       " '  Miss Manette, I am a man of business. I have a business charge to\\n',\n",
       " \"acquit myself of. In your reception of it, don't heed me any more than\\n\",\n",
       " 'if I was a speaking machine- truly, I am not much else. I will, with\\n',\n",
       " 'your leave, relate to you, miss, the story of one of our customers.\"\\n',\n",
       " '  \"Story!\"\\n',\n",
       " '  He seemed wilfully to mistake the word she had repeated, when he\\n',\n",
       " 'added, in a hurry, \"Yes, customers; in the banking business we usually\\n',\n",
       " 'call our connection our customers. He was a French gentleman; a\\n',\n",
       " 'scientific gentleman; a man of great acquirements- a Doctor.\"\\n',\n",
       " '  \"Not of Beauvais?\"\\n',\n",
       " '  Why, yes, of Beauvais. Like Monsieur Manette, your father, the\\n',\n",
       " 'gentleman was of Beauvais. Like Monsieur Manette, your father, the\\n',\n",
       " 'gentleman was of repute in Paris. I had the honour of knowing him\\n',\n",
       " 'there. Our relations were business relations, but confidential. I\\n',\n",
       " 'was at that time in our French House, and had been- oh! twenty years.\"\\n',\n",
       " '  \"At that time- I may ask, at what time, sir?\"\\n',\n",
       " '  \"I speak, miss, of twenty years ago. He married- an English lady-\\n',\n",
       " 'and I was one of the trustees. His affairs, like the affairs of many\\n',\n",
       " \"other French gentlemen and French families, were entirely in Tellson's\\n\",\n",
       " 'hands. In a similar way I am, or I have been, trustee of one kind or\\n',\n",
       " 'other for scores of our customers. These are mere business\\n',\n",
       " 'relations, miss; there is no friendship in them, no particular\\n',\n",
       " 'interest, nothing like sentiment. I have passed from one to another,\\n',\n",
       " 'in the course of my business life, just as I pass from one of our\\n',\n",
       " 'customers to another in the course of my business day; in short, I\\n',\n",
       " 'have no feelings; I am a mere machine. To go on--\"\\n',\n",
       " '  \"But this is my father\\'s story, sir; and I begin to think\"- the\\n',\n",
       " 'curiously roughened forehead was very intent upon him- \"that when I\\n',\n",
       " \"was left an orphan through my mother's surviving my father only two\\n\",\n",
       " 'years, it was you who brought me to England. I am almost sure it was\\n',\n",
       " 'you.\"\\n',\n",
       " '  Mr. Lorry took the hesitating little hand that confidingly\\n',\n",
       " 'advanced to take his, and he put it with some ceremony to his lips. He\\n',\n",
       " 'then conducted the young lady straightway to her chair again, and,\\n',\n",
       " 'holding the chair-back with his left hand, and using his right by\\n',\n",
       " 'turns to rub his chin, pull his wig at the ears, or point what he\\n',\n",
       " 'said, stood looking down into her face while she sat looking up into\\n',\n",
       " 'his.\\n',\n",
       " '  \"Miss Manette, it was I. And you will see how truly I spoke of\\n',\n",
       " 'myself just now, in saying I had no feelings, and that all the\\n',\n",
       " 'relations I hold with my fellow-creatures are mere business relations,\\n',\n",
       " 'when you reflect that I have never seen you since. No; you have been\\n',\n",
       " \"the ward of Tellson's House since, and I have been busy with the other\\n\",\n",
       " \"business of Tellson's House since. Feelings! I have no time for\\n\",\n",
       " 'them, no chance of them. I pass my whole life, miss, in turning an\\n',\n",
       " 'immense pecuniary Mangle.\"\\n',\n",
       " '  After this odd description of his daily routine of employment, Mr.\\n',\n",
       " 'Lorry flattened his flaxen wig upon his head with both hands (which\\n',\n",
       " 'was most unnecessary, for nothing could be flatter than its shining\\n',\n",
       " 'surface was before), and resumed his former attitude.\\n',\n",
       " '  \"So far, miss (as you have remarked), this is the story of your\\n',\n",
       " 'regretted father. Now comes the difference. If your father had not\\n',\n",
       " 'died when he did-- Don\\'t be frightened! How you start!\"\\n',\n",
       " '  She did, indeed, start. And she caught his wrist with both her\\n',\n",
       " 'hands.\\n',\n",
       " '  \"Pray,\" said Mr. Lorry, in a soothing tone, bringing his left hand\\n',\n",
       " 'from the back of the chair to lay it on the supplicatory fingers\\n',\n",
       " 'that clasped him in so violent a tremble: \"pray control your\\n',\n",
       " 'agitation- a matter of business. As I was saying--\"\\n',\n",
       " '  Her look so discomposed him that he stopped, wandered, and began\\n',\n",
       " 'anew:\\n',\n",
       " '  \"As I was saying; if Monsieur Manette had not died; if he had\\n',\n",
       " 'suddenly and silently disappeared; if he had been spirited away; if it\\n',\n",
       " 'had not been difficult to guess to what dreadful place, though no\\n',\n",
       " 'art could trace him; if he had an enemy in some compatriot who could\\n',\n",
       " 'exercise a privilege that I in my own time have known the boldest\\n',\n",
       " 'people afraid to speak of in a whisper, across the water there; for\\n',\n",
       " 'instance, the privilege of filling up blank forms for the\\n',\n",
       " 'consignment of any one to the oblivion of a prison for any length of\\n',\n",
       " 'time; if his wife had implored the king, the queen, the queen, the\\n',\n",
       " 'court, the clergy, for any tidings of him, and all quite in vain;-\\n',\n",
       " 'then the history of your father would have been the history of this\\n',\n",
       " 'unfortunate gentleman, the Doctor of Beauvais.\"\\n',\n",
       " '  \"I entreat you to tell me more, sir.\"\\n',\n",
       " '  \"I will. I am going to. You can bear it?\"\\n',\n",
       " '  \"I can bear anything but the uncertainty you leave me in at this\\n',\n",
       " 'moment.\"\\n',\n",
       " '  \"You speak collectedly, and you- are collected. That\\'s good!\"\\n',\n",
       " '(Though his manner was less satisfied than his words.) \"A matter of\\n',\n",
       " 'business. Regard it as a matter of business- business that must be\\n',\n",
       " \"done. Now if this doctor's wife, though a lady of great courage and\\n\",\n",
       " 'spirit, had suffered so intensely from this cause before her little\\n',\n",
       " 'child was born--\"\\n',\n",
       " '  \"The little child was a daughter, sir.\"\\n',\n",
       " '  \"A daughter. A- a- matter of business- don\\'t be distressed. Miss, if\\n',\n",
       " 'the poor lady had suffered so intensely before her little child was\\n',\n",
       " 'born, that she came to the determination of sparing the poor child the\\n',\n",
       " 'inheritance of any part of the agony she had known the pains of, by\\n',\n",
       " \"rearing her in the belief that her father was dead-- No, don't\\n\",\n",
       " 'kneel! In Heaven\\'s name why should you kneel to me!\"\\n',\n",
       " '  \"For the truth. O dear, good, compassionate sir, for the truth!\"\\n',\n",
       " '  \"A- a matter of business. You confuse me, and how can I transact\\n',\n",
       " 'business if I am confused? Let us be clear-headed. If you could kindly\\n',\n",
       " 'mention now, for instance, what nine times ninepence are, or how\\n',\n",
       " 'many shillings in twenty guineas, it would be so encouraging. I should\\n',\n",
       " 'be so much more at my ease about your state of mind.\"\\n',\n",
       " '  Without directly answering to this appeal, she sat so still when\\n',\n",
       " 'he had very gently raised her, and the hands that had not ceased to\\n',\n",
       " 'clasp his wrists were so much more steady than they had been, that she\\n',\n",
       " 'communicated some reassurance to Mr. Jarvis Lorry.\\n',\n",
       " '  \"That\\'s right, that\\'s right. Courage! Business! You have business\\n',\n",
       " 'before you; useful business. Miss Manette, your mother took this\\n',\n",
       " 'course with you. And when she died- I believe broken-hearted- having\\n',\n",
       " 'never slackened her unavailing search for your father, she left you,\\n',\n",
       " 'at two years old, to grow to be blooming, beautiful, and happy,\\n',\n",
       " 'without the dark cloud upon you of living in uncertainty whether\\n',\n",
       " 'your father soon wore his heart out in prison, or wasted there through\\n',\n",
       " 'many lingering years.\"\\n',\n",
       " '  As he said the words he looked down, with an admiring pity, on the\\n',\n",
       " 'flowing golden hair; as if he pictured to himself that it might have\\n',\n",
       " 'been already tinged with grey.\\n',\n",
       " '  \"You know that your parents had no great possession, and that what\\n',\n",
       " 'they had was secured to your mother and to you. There has been no\\n',\n",
       " 'new discovery, of money, or of any other property; but--\"\\n',\n",
       " '  He felt his wrist held closer, and he stopped. The expression in the\\n',\n",
       " 'forehead, which had so particularly attracted his notice, and which\\n',\n",
       " 'was now immovable, had deepened into one of pain and horror.\\n',\n",
       " '  \"But he has been- been found. He is alive. Greatly changed, it is\\n',\n",
       " 'too probable; almost a wreck, it is possible; though we will hope\\n',\n",
       " 'the best. Still, alive. Your father has been taken to the house of\\n',\n",
       " 'an old servant in Paris, and we are going there: I, to identify him if\\n',\n",
       " 'I can: you, to restore him to life, love, duty, rest, comfort.\"\\n',\n",
       " '  A shiver ran through her frame, and from it through his. She said,\\n',\n",
       " 'in a low, distinct, awe-stricken voice, as if she were saying it in\\n',\n",
       " 'a dream,\\n',\n",
       " '  \"I am going to see his Ghost! It will be his Ghost- not him!\"\\n',\n",
       " '  Mr. Lorry quietly chafed the hands that held his arm. \"There, there,\\n',\n",
       " 'there! See now, see now! The best and the worst are known to you, now.\\n',\n",
       " 'You are well on your way to the poor wronged gentleman, and, with a\\n',\n",
       " 'fair sea voyage, and a fair land journey, you will be soon at his dear\\n',\n",
       " 'side.\"\\n',\n",
       " '  She repeated in the same tone, sunk to a whisper, \"I have been free,\\n',\n",
       " 'I have been happy, yet his Ghost has never haunted me!\"\\n',\n",
       " '  \"Only one thing more,\" said Mr. Lorry, laying stress upon it as a\\n',\n",
       " 'wholesome means of enforcing her attention: \"he has been found under\\n',\n",
       " 'another name; his own, long forgotten or long concealed. It would be\\n',\n",
       " 'worse than useless now to inquire which; worse than useless to seek to\\n',\n",
       " 'know whether he has been for years overlooked, or always designedly\\n',\n",
       " 'held prisoner. It would be worse than useless now to make any\\n',\n",
       " 'inquiries, because it would be dangerous. Better not to mention the\\n',\n",
       " 'subject, anywhere or in any way, and to remove him- for a while at all\\n',\n",
       " 'events- out of France. Even I, safe as an Englishman, and even\\n',\n",
       " \"Tellson's, important as they are to French credit, avoid all naming of\\n\",\n",
       " 'the matter. I carry about me, not a scrap of writing openly\\n',\n",
       " 'referring to it. This is a secret service altogether. My\\n',\n",
       " 'credentials, entries, and memoranda, are all comprehended in the one\\n',\n",
       " \"line, 'Recalled to Life;' which may mean anything. But what is the\\n\",\n",
       " 'matter! She doesn\\'t notice a word! Miss Manette!\"\\n',\n",
       " '  Perfectly still and silent, and not even fallen back in her chair,\\n',\n",
       " 'she sat under his hand, utterly insensible; with her eyes open and\\n',\n",
       " 'fixed upon him, and with that last expression looking as if it were\\n',\n",
       " 'carved or branded into her forehead. So close was her hold upon his\\n',\n",
       " 'arm, that he feared to detach himself lest he should hurt her;\\n',\n",
       " 'therefore he called out loudly for assistance without moving.\\n',\n",
       " '  A wild-looking woman, whom even in his agitation, Mr. Lorry observed\\n',\n",
       " 'to be all of a red colour, and to have red hair, and to be dressed\\n',\n",
       " 'in some extraordinary tight-fitting fashion, and to have on her head a\\n',\n",
       " 'most wonderful bonnet like a Grenadier wooden measure, and good\\n',\n",
       " 'measure too, or a great Stilton cheese, came running into the room\\n',\n",
       " 'in advance of the inn servants, and soon settled the question of his\\n',\n",
       " 'detachment from the poor young lady, by laying a brawny hand upon\\n',\n",
       " 'his chest, and sending him flying back against the nearest wall.\\n',\n",
       " '  (\"I really think this must be a man!\" was Mr. Lorry\\'s breathless\\n',\n",
       " 'reflection, simultaneously with his coming against the wall.)\\n',\n",
       " '  \"Why, look at you all!\" bawled this figure, addressing the inn\\n',\n",
       " 'servants. \"Why don\\'t you go and fetch things, instead of standing\\n',\n",
       " \"there staring at me? I am not so much to look at, am I? Why don't\\n\",\n",
       " \"you go and fetch things? I'll let you know, if you don't bring\\n\",\n",
       " 'smelling-salts, cold water, and quick, I will.\"\\n',\n",
       " '  There was an immediate dispersal for these restoratives, and she\\n',\n",
       " 'softly laid the patient on a sofa, and tended her with great skill and\\n',\n",
       " 'gentleness: calling her \"my precious!\" and \"my bird!\" and spreading\\n',\n",
       " 'her golden hair aside over her shoulders with great pride and care.\\n',\n",
       " '  \"And you in brown!\" she said, indignantly turning to Mr. Lorry;\\n',\n",
       " '\"couldn\\'t you tell her what you had to tell her, without frightening\\n',\n",
       " 'her to death? Look at her, with her pretty pale face and her cold\\n',\n",
       " 'hands. Do you call that being a Banker?\"\\n',\n",
       " '  Mr. Lorry was so exceedingly disconcerted by a question so hard to\\n',\n",
       " 'answer, that he could only look on, at a distance, with much feebler\\n',\n",
       " 'sympathy and humility, while the strong woman, having banished the inn\\n',\n",
       " 'servants under the mysterious penalty of \"letting them know\" something\\n',\n",
       " 'not mentioned if they stayed there, staring, recovered her charge by a\\n',\n",
       " 'regular series of gradations, and coaxed her to lay her drooping\\n',\n",
       " 'head upon her shoulder.\\n',\n",
       " '  \"I hope she will do well now,\" said Mr. Lorry.\\n',\n",
       " '  \"No thanks to you in brown, if she does. My darling pretty!\"\\n',\n",
       " '  \"I hope,\" said Mr. Lorry, after another pause of feeble sympathy and\\n',\n",
       " 'humility, \"that you accompany Miss Manette to France?\"\\n',\n",
       " '  \"A likely thing, too!\" replied the strong woman. \"If it was ever\\n',\n",
       " 'intended that I should go across salt water, do you suppose Providence\\n',\n",
       " 'would have cast my lot in an island?\"\\n',\n",
       " '  This being another question hard to answer, Mr. Jarvis Lorry\\n',\n",
       " 'withdrew to consider it.\\n',\n",
       " '  V\\n',\n",
       " '  THE WINE-SHOP\\n',\n",
       " '\\n',\n",
       " '  A LARGE CASK of wine had been dropped and broken, in the street. The\\n',\n",
       " 'accident had happened in getting it out of a cart; the cask had\\n',\n",
       " 'tumbled out with a run, the hoops had burst, and it lay on the\\n',\n",
       " 'stones just outside the door of the wine-shop, shattered like a\\n',\n",
       " 'walnut-shell.\\n',\n",
       " '  All the people within reach had suspended their business, or their\\n',\n",
       " 'idleness, to run to the spot and drink the wine. The rough,\\n',\n",
       " 'irregular stones of the street, pointing every way, and designed,\\n',\n",
       " 'one might have thought, expressly to lame all living creatures that\\n',\n",
       " 'approached them, had dammed it into little pools; these were\\n',\n",
       " 'surrounded, each by its own jostling group or crowd, according to\\n',\n",
       " 'its size. Some men kneeled down, made scoops of their two hands\\n',\n",
       " 'joined, and sipped, or tried to help women, who bent over their\\n',\n",
       " 'shoulders, to sip, before the wine had all run out between their\\n',\n",
       " 'fingers. Others, men and women, dipped in the puddles with little mugs\\n',\n",
       " \"of mutilated earthenware, or even with handkerchiefs from women's\\n\",\n",
       " \"heads, which were squeezed dry into infants' mouths; others made small\\n\",\n",
       " 'mud-embankments, to stern the wine as it ran; others, directed by\\n',\n",
       " 'lookers-on up at high windows, darted here and there, to cut off\\n',\n",
       " 'little streams of wine that started away in new directions; others\\n',\n",
       " 'devoted themselves to the sodden and lee-dyed pieces of the cask,\\n',\n",
       " 'licking, and even champing the moister wine-rotted fragments with\\n',\n",
       " 'eager relish. There was no drainage to carry off the wine, and not\\n',\n",
       " 'only did it all get taken up, but so much mud got taken up along\\n',\n",
       " 'with it, that there might have been a scavenger in the street, if\\n',\n",
       " 'anybody acquainted with it could have believed in such a miraculous\\n',\n",
       " 'presence.\\n',\n",
       " '  A shrill sound of laughter and of amused voices- voices of men,\\n',\n",
       " 'women, and children- resounded in the street while this wine game\\n',\n",
       " 'lasted. There was little roughness in the sport, and much playfulness.\\n',\n",
       " 'There was a special companionship in it, an observable inclination\\n',\n",
       " 'on the part of every one to join some other one, which led, especially\\n',\n",
       " 'among the luckier or lighter-hearted, to frolicsome embraces, drinking\\n',\n",
       " 'of healths, shaking of hands, and even joining of hands and dancing, a\\n',\n",
       " 'dozen together. When the wine was gone, and the places where it had\\n',\n",
       " 'been most abundant were raked into a gridiron-pattern by fingers,\\n',\n",
       " 'these demonstrations ceased, as suddenly as they had broken out. The\\n',\n",
       " 'man who had left his saw sticking in the firewood he was cutting,\\n',\n",
       " 'set it in motion again; the women who had left on a door-step the\\n',\n",
       " 'little pot of hot ashes, at which she had been trying to soften the\\n',\n",
       " 'pain in her own starved fingers and toes, or in those of her child,\\n',\n",
       " 'returned to it; men with bare arms, matted locks, and cadaverous\\n',\n",
       " 'faces, who had emerged into the winter light from cellars, moved away,\\n',\n",
       " 'to descend again; and a gloom gathered on the scene that appeared more\\n',\n",
       " 'natural to it than sunshine.\\n',\n",
       " '  The wine was red wine, and had stained the ground of the narrow\\n',\n",
       " 'street in the suburb of Saint Antoine, in Paris, where it was spilled.\\n',\n",
       " 'It had stained many hands, too, and many faces, and many naked feet,\\n',\n",
       " 'and many wooden shoes. The hands of the man who sawed the wood, left\\n',\n",
       " 'red marks on the billets; and the forehead of the woman who nursed her\\n',\n",
       " 'baby, was stained with the stain of the old rag she wound about her\\n',\n",
       " 'head again. Those who had been greedy with the staves of the cask, had\\n',\n",
       " 'acquired a tigerish smear about the mouth; and one tall joker so\\n',\n",
       " 'besmirched, his head more out of a long squalid bag of a nightcap than\\n',\n",
       " 'in it, scrawled upon a wall with his finger dipped in muddy wine-lees-\\n',\n",
       " 'BLOOD.\\n',\n",
       " '  The time was to come, when that wine too would be spilled on the\\n',\n",
       " 'street-stones, and when the stain of it would be red upon many there.\\n',\n",
       " '  And now that the cloud settled on Saint Antoine, which a momentary\\n',\n",
       " 'gleam had driven from his sacred countenance, the darkness of it was\\n',\n",
       " 'heavy- cold, dirt, sickness, ignorance, and want, were the lords in\\n',\n",
       " 'waiting on the saintly presence- nobles of great power all of them;\\n',\n",
       " 'but, most especially the last. Samples of a people that had\\n',\n",
       " 'undergone a terrible grinding and regrinding in the mill, and\\n',\n",
       " 'certainly not in the fabulous mill which ground old people young,\\n',\n",
       " 'shivered at every corner, passed in and out at every doorway, looked\\n',\n",
       " 'from every window, fluttered in every vestige of a garment that the\\n',\n",
       " 'wind shook. The mill which had worked them down, was the mill that\\n',\n",
       " 'grinds young people old; the children had ancient faces and grave\\n',\n",
       " 'voices; and upon them, and upon the grown faces, and ploughed into\\n',\n",
       " 'every furrow of age and coming up afresh, was the sigh, Hunger. It was\\n',\n",
       " 'prevalent everywhere. Hunger was pushed out of the tall houses, in the\\n',\n",
       " 'wretched clothing that hung upon poles and lines; Hunger was patched\\n',\n",
       " 'into them with straw and rag and wood and paper; Hunger was repeated\\n',\n",
       " 'in every fragment of the small modicum of firewood that the man\\n',\n",
       " 'sawed off; Hunger stared down from the smokeless chimneys, and started\\n',\n",
       " 'up from the filthy street that had no offal, among its refuse, of\\n',\n",
       " \"anything to eat. Hunger was the inscription on the baker's shelves,\\n\",\n",
       " 'written in every small loaf of his scanty stock of bad bread; at the\\n',\n",
       " 'sausage-shop, in every dead-dog preparation that was offered for sale.\\n',\n",
       " 'Hunger rattled its dry bones among the roasting chestnuts in the\\n',\n",
       " 'turned cylinder; Hunger was shred into atomies in every farthing\\n',\n",
       " 'porringer of husky chips of potato, fried with some reluctant drops of\\n',\n",
       " 'oil.\\n',\n",
       " '  Its abiding place was in all things fitted to it. A narrow winding\\n',\n",
       " 'street, full of offence and stench, with other narrow winding\\n',\n",
       " 'streets diverging, all peopled by rags and nightcaps, and all smelling\\n',\n",
       " 'of rags and nightcaps, and all visible things with a brooding look\\n',\n",
       " 'upon them that looked ill. In the hunted air of the people there was\\n',\n",
       " 'yet some wild-beast thought of the possibility of turning at bay.\\n',\n",
       " 'Depressed and slinking though they were, eyes of fire were not wanting\\n',\n",
       " 'among them; nor compressed lips, white with what they suppressed;\\n',\n",
       " 'nor foreheads knitted into the likeness of the gallows-rope they mused\\n',\n",
       " 'about enduring, or inflicting. The trade sips (and they were almost as\\n',\n",
       " 'many as the shops) were, all, grim illustrations of Want. The\\n',\n",
       " 'butcher and the porkman painted up, only the leanest scrags of meat;\\n',\n",
       " 'the baker, the coarsest of meagre loaves. The people rudely pictured\\n',\n",
       " 'as drinking in the wine-shops, croaked over their scanty measures of\\n',\n",
       " 'thin wine and beer, and were gloweringly confidential together.\\n',\n",
       " 'Nothing was represented in a flourishing condition, save tools and\\n',\n",
       " \"weapons; but, the cutler's knives and axes were sharp and bright,\\n\",\n",
       " \"the smith's hammers were heavy, and the gunmaker's stock was\\n\",\n",
       " 'murderous. The crippling stones of the pavement, with their many\\n',\n",
       " 'little reservoirs of mud and water, had no footways, but broke off\\n',\n",
       " 'abruptly at the doors. The kennel, to make amends, ran down the middle\\n',\n",
       " 'of the street- when it ran at all: which was only after heavy rains,\\n',\n",
       " 'and then it ran, by many eccentric fits, into the houses. Across the\\n',\n",
       " 'streets, at wide intervals, one clumsy lamp was slung by a rope and\\n',\n",
       " 'pulley; at night, when the lamplighter had let these down, and\\n',\n",
       " 'lighted, and hoisted them again, a feeble grove of dim wicks swung\\n',\n",
       " 'in a sickly manner overhead, as if they were at sea. Indeed they\\n',\n",
       " 'were at sea, and the ship and crew were in peril of tempest.\\n',\n",
       " '  For, the time was to come, when the gaunt scarecrows of that\\n',\n",
       " 'region should have watched the lamplighter, in their idleness and\\n',\n",
       " 'hunger, so long, as to conceive the idea of improving on his method,\\n',\n",
       " 'and hauling up men by those ropes and pulleys, to flare upon the\\n',\n",
       " 'darkness of their condition. But, the time was not come yet; and every\\n',\n",
       " 'wind that blew over France shook the rags of the scarecrows in vain,\\n',\n",
       " 'for the birds, fine of song and feather, took no warning.\\n',\n",
       " '  The wine-shop was a corner shop, better than most others in its\\n',\n",
       " 'appearance and degree, and the master of the wine-shop had stood\\n',\n",
       " 'outside it, in a yellow waistcoat and green breeches, looking on at\\n',\n",
       " 'the struggle for the lost wine. \"It\\'s not my affair,\" said he, with\\n',\n",
       " 'a final shrug of the shoulders. \"The people from the market did it.\\n',\n",
       " 'Let them bring another.\"\\n',\n",
       " '  There, his eyes happening to catch the tall joker writing up his\\n',\n",
       " 'joke, he called to him across the way:\\n',\n",
       " '  \"Say, then, my Gaspard, what do you do there?\"\\n',\n",
       " '  The fellow pointed to his joke with immense significance, as is\\n',\n",
       " 'often the way with his tribe. It missed its mark, and completely\\n',\n",
       " 'failed, as is often the way with his tribe too.\\n',\n",
       " '  \"What now? Are you a subject for the mad hospital?\" said the\\n',\n",
       " 'wineshop keeper, crossing the road, and obliterating the jest with a\\n',\n",
       " 'handful of mud, picked up for the purpose, and smeared over it. \"Why\\n',\n",
       " 'do you write in the public streets? Is there- tell me thou- is there\\n',\n",
       " 'no other place to write such words in?\"\\n',\n",
       " '  In his expostulation he dropped his cleaner hand (perhaps\\n',\n",
       " \"accidentally, perhaps not) upon the joker's heart. The joker rapped it\\n\",\n",
       " 'with his own, took a nimble spring upward, and came down in a\\n',\n",
       " 'fantastic dancing attitude, with one of his stained shoes jerked off\\n',\n",
       " 'his foot into his hand, and held out. A joker of an extremely, not\\n',\n",
       " 'to say wolfishly practical character, he looked, under those\\n',\n",
       " 'circumstances.\\n',\n",
       " '  \"Put it on, put it on,\" said the other. \"Call wine, wine; and finish\\n',\n",
       " 'there.\" With that advice, he wiped his soiled hand upon the joker\\'s\\n',\n",
       " 'dress, such as it was- quite deliberately, as having dirtied the\\n',\n",
       " 'hand on his account; and then recrossed the road and entered the\\n',\n",
       " 'wine-shop.\\n',\n",
       " ...]"
      ]
     },
     "execution_count": 10,
     "metadata": {},
     "output_type": "execute_result"
    }
   ],
   "source": [
    "lines"
   ]
  },
  {
   "cell_type": "markdown",
   "metadata": {},
   "source": [
    "We see that there are **12870** lines of text in the novel."
   ]
  },
  {
   "cell_type": "code",
   "execution_count": 11,
   "metadata": {
    "ExecuteTime": {
     "end_time": "2022-03-09T03:36:04.480493Z",
     "start_time": "2022-03-09T03:36:04.469140Z"
    }
   },
   "outputs": [
    {
     "name": "stdout",
     "output_type": "stream",
     "text": [
      "There are 12870 lines in the novel.\n"
     ]
    }
   ],
   "source": [
    "print(f\"There are {len(lines)} lines in the novel.\")"
   ]
  },
  {
   "cell_type": "code",
   "execution_count": 12,
   "metadata": {
    "ExecuteTime": {
     "end_time": "2022-03-09T03:36:05.294385Z",
     "start_time": "2022-03-09T03:36:05.276183Z"
    }
   },
   "outputs": [
    {
     "name": "stdout",
     "output_type": "stream",
     "text": [
      "On average, each line has 58.9 characters.\n"
     ]
    }
   ],
   "source": [
    "total_num_chars = 0\n",
    "for line in lines: # iterate through each line\n",
    "    total_num_chars += len(line) # add the number of characters in a line to the total count of characters\n",
    "\n",
    "avg_chars = round(total_num_chars / len(lines),1) # divide total character count by number of lines to get average\n",
    "print(f\"On average, each line has {avg_chars} characters.\")"
   ]
  },
  {
   "cell_type": "code",
   "execution_count": 13,
   "metadata": {
    "ExecuteTime": {
     "end_time": "2022-03-09T03:36:45.452849Z",
     "start_time": "2022-03-09T03:36:44.844306Z"
    }
   },
   "outputs": [],
   "source": [
    "import matplotlib.pyplot as plt # we are importing the pyplot module from matplotlib, and naming it as plt"
   ]
  },
  {
   "cell_type": "markdown",
   "metadata": {},
   "source": [
    "### An Aside: List Comprehension\n",
    "\n",
    "Sometimes, we need to iterate through a list and perform some sort of operation (sum all the elements, or remove a certain character). The traditional way to do this is using a for loop:\n",
    "\n",
    "```Python\n",
    "lengths = [] # declare an empty list\n",
    "for line in lines: # iterate through each line\n",
    "    lengths.append(len(line)) # add the length of each line to the list\n",
    "```\n",
    "\n",
    "A slightly less verbose way, called **list comprehension**, to write this is\n",
    "\n",
    "```Python\n",
    "lengths = [len(line) for line in lines]\n",
    "```\n",
    "\n",
    "List comprehension is **typically slightly faster**, since it avoids the additional `append()` call for each iteration of the for loop. See this example from StackOverflow:\n",
    "\n",
    "```Python\n",
    "def slower(): # using traditional iteration\n",
    "    result = []\n",
    "    for elem in some_iterable:\n",
    "        result.append(elem)\n",
    "    return result\n",
    "```\n",
    "\n",
    "```Python\n",
    "def faster(): # using list comprehension\n",
    "    return [elem for elem in some_iterable]\n",
    "```\n",
    "\n",
    "Within the Python REPL **(read-eval-print-loop)**:\n",
    "\n",
    "```Python\n",
    ">>> some_iterable = range(1000)\n",
    ">>> import timeit\n",
    ">>> timeit.timeit('f()', 'from __main__ import slower as f', number=10000)\n",
    "1.4456570148468018\n",
    ">>> timeit.timeit('f()', 'from __main__ import faster as f', number=10000)\n",
    "0.49323201179504395\n",
    "```"
   ]
  },
  {
   "cell_type": "markdown",
   "metadata": {},
   "source": [
    "### Visualizing Summary Metrics Using Matplotlib"
   ]
  },
  {
   "cell_type": "code",
   "execution_count": 14,
   "metadata": {
    "ExecuteTime": {
     "end_time": "2022-03-09T03:37:44.771945Z",
     "start_time": "2022-03-09T03:37:44.571762Z"
    }
   },
   "outputs": [
    {
     "data": {
      "image/png": "[encoded data removed]",
      "text/plain": [
       "<Figure size 1500x600 with 1 Axes>"
      ]
     },
     "metadata": {},
     "output_type": "display_data"
    }
   ],
   "source": [
    "NUM_BINS = 30 # increase this number to make the visualization more granular\n",
    "plt.rcParams[\"figure.figsize\"] = (15,6)\n",
    "plt.hist([len(line) for line in lines], bins=NUM_BINS)\n",
    "plt.title(\"Distribution of Line Lengths in Tale of Two Cities\") # give the plot a title\n",
    "plt.xlabel(\"Number of Characters in Line\") # label the X axis\n",
    "plt.ylabel(\"Count of Lines\") # label the Y axis\n",
    "plt.show()"
   ]
  },
  {
   "cell_type": "markdown",
   "metadata": {},
   "source": [
    "What if now we want to visualize how many times each word appears in the entire novel (for now, we won't worry about **stemming / lemmatization** and other preprocessing steps)?\n",
    "\n",
    "### First Method: Create a Dictionary to Store Word Count\n",
    "\n",
    "Dictionaries in Python have **keys** and **values**. The keys must be unique (no duplicate keys). They can be accessed via the **`keys()`** and **`values()`** methods of a dictionary object.\n"
   ]
  },
  {
   "cell_type": "code",
   "execution_count": 15,
   "metadata": {
    "ExecuteTime": {
     "end_time": "2022-03-09T03:40:45.824868Z",
     "start_time": "2022-03-09T03:40:45.813206Z"
    }
   },
   "outputs": [
    {
     "data": {
      "text/plain": [
       "['abc', 'def', 'ghi']"
      ]
     },
     "execution_count": 15,
     "metadata": {},
     "output_type": "execute_result"
    }
   ],
   "source": [
    "'abc,def,ghi'.split(',')"
   ]
  },
  {
   "cell_type": "code",
   "execution_count": 16,
   "metadata": {
    "ExecuteTime": {
     "end_time": "2022-03-09T03:42:17.719164Z",
     "start_time": "2022-03-09T03:42:17.643142Z"
    }
   },
   "outputs": [
    {
     "name": "stdout",
     "output_type": "stream",
     "text": [
      "There's an estimated 143345 words in the novel.\n",
      "There's 21683 unique words in the novel.\n"
     ]
    }
   ],
   "source": [
    "words = [] # create a list of all words\n",
    "word_count = {} # create a dictionary to store word counts\n",
    "\n",
    "for line in lines: # for each line in the novel\n",
    "    for word in line.split(\" \"): # for each word in the line\n",
    "        words.append(word) # add the word to the list of words\n",
    "        \n",
    "        if word not in word_count.keys(): # if the word has not been seen before, add it to the dictionary with initial count of 1\n",
    "            word_count[word] = 1\n",
    "        else:\n",
    "            word_count[word] += 1 # if the word has been seen before, increment its count by 1\n",
    "        \n",
    "print(f\"There's an estimated {len(words)} words in the novel.\")\n",
    "print(f\"There's {len(word_count.keys())} unique words in the novel.\")"
   ]
  },
  {
   "cell_type": "markdown",
   "metadata": {},
   "source": [
    "<div class=\"alert-success\">\n",
    "Problems:\n",
    "</div>\n",
    "\n",
    "<div class=\"alert-success\">\n",
    "    1) 'it.' differs from 'it'\n",
    "</div>\n",
    "\n",
    "<div class=\"alert-success\">\n",
    "    2) 'it\\n' differs from 'it'\n",
    "</div>\n",
    "    \n",
    "<div class=\"alert-success\">\n",
    "    3) 'it' differs from 'IT'\n",
    "</div>\n",
    "\n",
    "<div class=\"alert-success\">\n",
    "    4) 'New York’ should stay together\n",
    "</div>\n",
    "\n",
    "<div class=\"alert-success\">\n",
    "    5) ''.split(\" \") does not return empty list\n",
    "</div>\n",
    "\n",
    "<div class=\"alert-success\">\n",
    "    ...\n",
    "</div>\n",
    "\n",
    "<div class=\"alert-success\">\n",
    "    Thus, important to tokenize words\n",
    "</div>"
   ]
  },
  {
   "cell_type": "code",
   "execution_count": 22,
   "metadata": {
    "ExecuteTime": {
     "end_time": "2022-03-09T03:50:57.767558Z",
     "start_time": "2022-03-09T03:50:57.751150Z"
    }
   },
   "outputs": [
    {
     "data": {
      "text/plain": [
       "['']"
      ]
     },
     "execution_count": 22,
     "metadata": {},
     "output_type": "execute_result"
    }
   ],
   "source": [
    "''.split(\" \")"
   ]
  },
  {
   "cell_type": "code",
   "execution_count": 20,
   "metadata": {
    "ExecuteTime": {
     "end_time": "2022-03-09T03:42:35.699801Z",
     "start_time": "2022-03-09T03:42:35.651459Z"
    }
   },
   "outputs": [
    {
     "data": {
      "text/plain": [
       "{'': 7027,\n",
       " 'IT': 3,\n",
       " 'WAS': 4,\n",
       " 'the': 6634,\n",
       " 'best': 32,\n",
       " 'of': 3623,\n",
       " 'times,': 17,\n",
       " 'it': 1104,\n",
       " 'was': 1558,\n",
       " 'worst': 13,\n",
       " 'the\\n': 729,\n",
       " 'age': 5,\n",
       " 'wisdom,': 2,\n",
       " 'foolishness,': 1,\n",
       " 'epoch': 2,\n",
       " 'of\\n': 321,\n",
       " 'belief,': 2,\n",
       " 'incredulity,': 1,\n",
       " 'season': 5,\n",
       " 'Light,\\n': 1,\n",
       " 'Darkness,': 1,\n",
       " 'spring': 3,\n",
       " 'hope,': 5,\n",
       " 'winter': 8,\n",
       " 'despair,': 2,\n",
       " 'we': 102,\n",
       " 'had': 1177,\n",
       " 'everything': 16,\n",
       " 'before': 170,\n",
       " 'us,': 29,\n",
       " 'nothing\\n': 9,\n",
       " 'were': 577,\n",
       " 'all': 410,\n",
       " 'going': 71,\n",
       " 'direct': 5,\n",
       " 'to': 3145,\n",
       " 'Heaven,': 10,\n",
       " 'going\\n': 3,\n",
       " 'other': 128,\n",
       " 'way-': 8,\n",
       " 'in': 2212,\n",
       " 'short,': 15,\n",
       " 'period': 2,\n",
       " 'so': 374,\n",
       " 'far': 65,\n",
       " 'like': 175,\n",
       " 'present\\n': 7,\n",
       " 'period,': 2,\n",
       " 'that': 1568,\n",
       " 'some': 181,\n",
       " 'its': 197,\n",
       " 'noisiest': 1,\n",
       " 'authorities': 2,\n",
       " 'insisted': 2,\n",
       " 'on': 754,\n",
       " 'being\\n': 8,\n",
       " 'received,': 1,\n",
       " 'for': 811,\n",
       " 'good': 122,\n",
       " 'or': 324,\n",
       " 'evil,': 3,\n",
       " 'superlative': 1,\n",
       " 'degree': 8,\n",
       " 'comparison': 3,\n",
       " 'only.\\n': 1,\n",
       " 'There': 90,\n",
       " 'a': 2561,\n",
       " 'king': 4,\n",
       " 'with': 1163,\n",
       " 'large': 27,\n",
       " 'jaw': 2,\n",
       " 'and': 4318,\n",
       " 'queen': 2,\n",
       " 'plain': 12,\n",
       " 'face,': 42,\n",
       " 'on\\n': 57,\n",
       " 'throne': 3,\n",
       " 'England;': 2,\n",
       " 'there': 265,\n",
       " 'a\\n': 231,\n",
       " 'fair': 16,\n",
       " 'France.': 6,\n",
       " 'In': 88,\n",
       " 'both': 65,\n",
       " 'countries\\n': 2,\n",
       " 'clearer': 1,\n",
       " 'than': 193,\n",
       " 'crystal': 1,\n",
       " 'lords': 5,\n",
       " 'State': 5,\n",
       " 'preserves': 1,\n",
       " 'loaves': 1,\n",
       " 'fishes,': 1,\n",
       " 'things': 40,\n",
       " 'general': 23,\n",
       " 'settled': 5,\n",
       " 'ever.\\n': 5,\n",
       " 'It': 219,\n",
       " 'year': 18,\n",
       " 'Our': 7,\n",
       " 'Lord': 12,\n",
       " 'one': 311,\n",
       " 'thousand': 20,\n",
       " 'seven': 19,\n",
       " 'hundred': 33,\n",
       " 'and\\n': 409,\n",
       " 'seventy-five.': 2,\n",
       " 'Spiritual': 1,\n",
       " 'revelations': 1,\n",
       " 'conceded': 1,\n",
       " 'England': 9,\n",
       " 'at': 897,\n",
       " 'that\\n': 102,\n",
       " 'favoured': 5,\n",
       " 'as': 966,\n",
       " 'this.': 10,\n",
       " 'Mrs.': 17,\n",
       " 'Southcott': 1,\n",
       " 'recently': 2,\n",
       " 'attained\\n': 1,\n",
       " 'her': 747,\n",
       " 'five-and-twentieth': 1,\n",
       " 'blessed': 7,\n",
       " 'birthday,': 2,\n",
       " 'whom': 60,\n",
       " 'prophetic': 1,\n",
       " 'private\\n': 1,\n",
       " 'Life': 5,\n",
       " 'Guards': 3,\n",
       " 'heralded': 1,\n",
       " 'sublime': 2,\n",
       " 'appearance': 22,\n",
       " 'by': 490,\n",
       " 'announcing\\n': 1,\n",
       " 'arrangements': 6,\n",
       " 'made': 161,\n",
       " 'swallowing': 3,\n",
       " 'up': 230,\n",
       " 'London': 9,\n",
       " 'Westminster.': 1,\n",
       " 'Even': 12,\n",
       " 'Cock-lane': 2,\n",
       " 'ghost': 10,\n",
       " 'been': 380,\n",
       " 'laid': 51,\n",
       " 'only': 102,\n",
       " 'round': 51,\n",
       " 'dozen\\n': 2,\n",
       " 'years,': 16,\n",
       " 'after': 99,\n",
       " 'rapping': 1,\n",
       " 'out': 313,\n",
       " 'messages,': 1,\n",
       " 'spirits': 5,\n",
       " 'this\\n': 41,\n",
       " 'very': 194,\n",
       " 'last': 95,\n",
       " 'past': 15,\n",
       " '(supernaturally': 1,\n",
       " 'deficient': 1,\n",
       " 'originality)': 1,\n",
       " 'rapped\\n': 1,\n",
       " 'theirs.': 1,\n",
       " 'Mere': 1,\n",
       " 'messages': 2,\n",
       " 'earthly': 5,\n",
       " 'order': 15,\n",
       " 'events': 6,\n",
       " 'lately\\n': 1,\n",
       " 'come': 109,\n",
       " 'English': 27,\n",
       " 'Crown': 1,\n",
       " 'People,': 1,\n",
       " 'from': 452,\n",
       " 'congress': 1,\n",
       " 'British\\n': 2,\n",
       " 'subjects': 1,\n",
       " 'America:': 1,\n",
       " 'which,': 12,\n",
       " 'strange': 20,\n",
       " 'relate,': 1,\n",
       " 'have': 651,\n",
       " 'proved': 2,\n",
       " 'more\\n': 20,\n",
       " 'important': 4,\n",
       " 'human': 21,\n",
       " 'race': 5,\n",
       " 'any': 194,\n",
       " 'communications': 3,\n",
       " 'yet': 62,\n",
       " 'received\\n': 1,\n",
       " 'through': 139,\n",
       " 'chickens': 1,\n",
       " 'brood.\\n': 1,\n",
       " 'France,': 13,\n",
       " 'less': 29,\n",
       " 'whole': 32,\n",
       " 'matters': 3,\n",
       " 'spiritual': 1,\n",
       " 'than\\n': 21,\n",
       " 'sister': 10,\n",
       " 'shield': 1,\n",
       " 'trident,': 1,\n",
       " 'rolled': 11,\n",
       " 'exceeding': 1,\n",
       " 'smoothness\\n': 1,\n",
       " 'down': 158,\n",
       " 'hill,': 12,\n",
       " 'making': 30,\n",
       " 'paper': 26,\n",
       " 'money': 11,\n",
       " 'spending': 1,\n",
       " 'it.': 107,\n",
       " 'Under': 6,\n",
       " 'guidance': 3,\n",
       " 'Christian': 6,\n",
       " 'pastors,': 1,\n",
       " 'she': 304,\n",
       " 'entertained': 1,\n",
       " 'herself,': 10,\n",
       " 'besides,': 2,\n",
       " 'such\\n': 10,\n",
       " 'humane': 1,\n",
       " 'achievements': 1,\n",
       " 'sentencing': 1,\n",
       " 'youth': 5,\n",
       " 'his': 1754,\n",
       " 'hands': 71,\n",
       " 'cut': 9,\n",
       " 'off,\\n': 3,\n",
       " 'tongue': 3,\n",
       " 'torn': 6,\n",
       " 'pincers,': 1,\n",
       " 'body': 14,\n",
       " 'burned': 1,\n",
       " 'alive,': 4,\n",
       " 'because\\n': 6,\n",
       " 'he': 1285,\n",
       " 'not': 693,\n",
       " 'kneeled': 5,\n",
       " 'rain': 10,\n",
       " 'do': 196,\n",
       " 'honour': 21,\n",
       " 'dirty': 6,\n",
       " 'procession\\n': 1,\n",
       " 'monks': 1,\n",
       " 'which': 356,\n",
       " 'passed': 51,\n",
       " 'within': 48,\n",
       " 'view,': 4,\n",
       " 'distance': 8,\n",
       " 'fifty\\n': 2,\n",
       " 'sixty': 3,\n",
       " 'yards.': 1,\n",
       " 'is': 658,\n",
       " 'likely': 12,\n",
       " 'enough': 44,\n",
       " 'that,': 57,\n",
       " 'rooted': 2,\n",
       " 'woods': 1,\n",
       " 'France': 25,\n",
       " 'Norway,': 1,\n",
       " 'growing': 10,\n",
       " 'trees,': 4,\n",
       " 'when': 339,\n",
       " 'sufferer': 4,\n",
       " 'was\\n': 116,\n",
       " 'put': 100,\n",
       " 'death,': 8,\n",
       " 'already': 33,\n",
       " 'marked': 5,\n",
       " 'Woodman,': 1,\n",
       " 'Fate,': 1,\n",
       " 'be\\n': 66,\n",
       " 'sawn': 1,\n",
       " 'into': 290,\n",
       " 'boards,': 1,\n",
       " 'make': 67,\n",
       " 'certain': 26,\n",
       " 'movable': 1,\n",
       " 'framework': 1,\n",
       " 'sack\\n': 1,\n",
       " 'knife': 6,\n",
       " 'it,': 213,\n",
       " 'terrible': 12,\n",
       " 'history.': 1,\n",
       " 'in\\n': 186,\n",
       " 'rough': 11,\n",
       " 'outhouses': 1,\n",
       " 'tillers': 1,\n",
       " 'heavy': 30,\n",
       " 'lands': 1,\n",
       " 'adjacent': 4,\n",
       " 'to\\n': 253,\n",
       " 'Paris,': 20,\n",
       " 'sheltered': 1,\n",
       " 'weather': 3,\n",
       " 'day,': 60,\n",
       " 'rude\\n': 1,\n",
       " 'carts,': 3,\n",
       " 'bespattered': 1,\n",
       " 'rustic': 4,\n",
       " 'mire,': 1,\n",
       " 'snuffed': 1,\n",
       " 'about': 128,\n",
       " 'pigs,': 1,\n",
       " 'roosted': 1,\n",
       " 'poultry,': 1,\n",
       " 'Farmer,': 2,\n",
       " 'Death,': 4,\n",
       " 'set\\n': 4,\n",
       " 'apart': 8,\n",
       " 'be': 623,\n",
       " 'tumbrils': 9,\n",
       " 'Revolution.': 1,\n",
       " 'But': 63,\n",
       " 'Woodman': 2,\n",
       " 'though': 75,\n",
       " 'they': 412,\n",
       " 'work': 38,\n",
       " 'unceasingly,': 1,\n",
       " 'silently': 9,\n",
       " 'no': 380,\n",
       " 'one\\n': 21,\n",
       " 'heard': 47,\n",
       " 'them': 208,\n",
       " 'went': 93,\n",
       " 'muffled': 4,\n",
       " 'tread:': 1,\n",
       " 'rather,\\n': 1,\n",
       " 'forasmuch': 2,\n",
       " 'entertain': 2,\n",
       " 'suspicion': 9,\n",
       " 'awake,': 4,\n",
       " 'atheistical': 1,\n",
       " 'traitorous.\\n': 1,\n",
       " 'England,': 7,\n",
       " 'scarcely': 16,\n",
       " 'an': 301,\n",
       " 'amount': 1,\n",
       " 'protection\\n': 1,\n",
       " 'justify': 3,\n",
       " 'much': 135,\n",
       " 'national': 8,\n",
       " 'boasting.': 1,\n",
       " 'Daring': 1,\n",
       " 'burglaries': 1,\n",
       " 'armed': 7,\n",
       " 'men,': 18,\n",
       " 'highway': 3,\n",
       " 'robberies,': 1,\n",
       " 'took': 103,\n",
       " 'place': 61,\n",
       " 'capital': 2,\n",
       " 'itself': 29,\n",
       " 'every': 93,\n",
       " 'night;\\n': 1,\n",
       " 'families': 1,\n",
       " 'publicly': 2,\n",
       " 'cautioned': 1,\n",
       " 'go': 97,\n",
       " 'town': 8,\n",
       " 'without\\n': 11,\n",
       " 'removing': 2,\n",
       " 'their': 275,\n",
       " 'furniture': 1,\n",
       " \"upholsterers'\": 1,\n",
       " 'warehouses': 1,\n",
       " 'security;': 1,\n",
       " 'highwayman': 1,\n",
       " 'dark': 59,\n",
       " 'City': 3,\n",
       " 'tradesman': 3,\n",
       " 'light,': 12,\n",
       " 'and,': 51,\n",
       " 'recognised': 4,\n",
       " 'challenged': 1,\n",
       " 'fellow-tradesman': 1,\n",
       " 'stopped': 44,\n",
       " 'character': 10,\n",
       " '\"the': 12,\n",
       " 'Captain,\"': 1,\n",
       " 'gallantly': 1,\n",
       " 'shot': 9,\n",
       " 'him': 481,\n",
       " 'head\\n': 8,\n",
       " 'rode': 7,\n",
       " 'away;': 6,\n",
       " 'mail': 11,\n",
       " 'waylaid': 1,\n",
       " 'robbers,': 1,\n",
       " 'guard\\n': 3,\n",
       " 'three': 75,\n",
       " 'dead,': 11,\n",
       " 'then': 101,\n",
       " 'got': 73,\n",
       " 'dead': 23,\n",
       " 'himself': 143,\n",
       " 'four,': 3,\n",
       " '\"in\\n': 1,\n",
       " 'consequence': 2,\n",
       " 'failure': 2,\n",
       " 'ammunition:\"': 1,\n",
       " 'mail\\n': 1,\n",
       " 'robbed': 3,\n",
       " 'peace;': 1,\n",
       " 'magnificent': 1,\n",
       " 'potentate,': 1,\n",
       " 'Mayor': 1,\n",
       " 'London,': 11,\n",
       " 'stand': 14,\n",
       " 'deliver': 7,\n",
       " 'Turnham': 1,\n",
       " 'Green,': 1,\n",
       " 'highwayman,': 1,\n",
       " 'who': 312,\n",
       " 'despoiled': 1,\n",
       " 'illustrious': 2,\n",
       " 'creature': 17,\n",
       " 'sight': 23,\n",
       " 'his\\n': 164,\n",
       " 'retinue;': 1,\n",
       " 'prisoners': 12,\n",
       " 'gaols': 1,\n",
       " 'fought': 2,\n",
       " 'battles': 1,\n",
       " 'their\\n': 37,\n",
       " 'turkeys,': 1,\n",
       " 'majesty': 2,\n",
       " 'law': 10,\n",
       " 'fired': 5,\n",
       " 'blunderbusses': 1,\n",
       " 'among': 91,\n",
       " 'them,\\n': 4,\n",
       " 'loaded': 6,\n",
       " 'rounds': 2,\n",
       " 'ball;': 1,\n",
       " 'thieves': 1,\n",
       " 'snipped': 1,\n",
       " 'off': 55,\n",
       " 'diamond\\n': 1,\n",
       " 'crosses': 1,\n",
       " 'necks': 1,\n",
       " 'noble': 11,\n",
       " 'Court': 8,\n",
       " 'drawing-rooms;\\n': 1,\n",
       " 'musketeers': 2,\n",
       " 'St.': 7,\n",
       " \"Giles's,\": 1,\n",
       " 'search': 6,\n",
       " 'contraband': 2,\n",
       " 'goods,\\n': 1,\n",
       " 'mob': 1,\n",
       " 'musketeers,': 1,\n",
       " 'fir': 1,\n",
       " 'mob,': 3,\n",
       " 'nobody': 10,\n",
       " 'thought': 45,\n",
       " 'these': 134,\n",
       " 'occurrences': 1,\n",
       " 'common': 16,\n",
       " 'way.': 18,\n",
       " 'midst': 14,\n",
       " 'them,': 86,\n",
       " 'hangman,': 2,\n",
       " 'ever': 84,\n",
       " 'busy': 5,\n",
       " 'ever\\n': 5,\n",
       " 'worse': 9,\n",
       " 'useless,': 2,\n",
       " 'constant': 1,\n",
       " 'requisition;': 1,\n",
       " 'now,': 48,\n",
       " 'stringing': 1,\n",
       " 'up\\n': 13,\n",
       " 'long': 137,\n",
       " 'rows': 1,\n",
       " 'miscellaneous': 1,\n",
       " 'criminals;': 1,\n",
       " 'hanging': 11,\n",
       " 'housebreaker': 1,\n",
       " 'Saturday': 2,\n",
       " 'taken': 66,\n",
       " 'Tuesday;': 1,\n",
       " 'burning': 8,\n",
       " 'people': 88,\n",
       " 'hand': 124,\n",
       " 'Newgate': 2,\n",
       " 'dozen,': 1,\n",
       " 'now': 93,\n",
       " 'pamphlets': 1,\n",
       " 'door': 56,\n",
       " 'Westminster': 1,\n",
       " 'Hall;': 1,\n",
       " 'to-day,': 8,\n",
       " 'taking': 38,\n",
       " 'life': 62,\n",
       " 'atrocious': 1,\n",
       " 'murderer,\\n': 1,\n",
       " 'to-morrow': 8,\n",
       " 'wretched': 11,\n",
       " 'pilferer': 1,\n",
       " \"farmer's\": 2,\n",
       " 'boy\\n': 3,\n",
       " 'sixpence.\\n': 1,\n",
       " 'All': 32,\n",
       " 'things,': 14,\n",
       " 'came': 118,\n",
       " 'pass': 22,\n",
       " 'close': 40,\n",
       " 'upon': 259,\n",
       " 'dear': 77,\n",
       " 'old': 125,\n",
       " 'Environed': 1,\n",
       " 'while': 67,\n",
       " 'Farmer\\n': 1,\n",
       " 'worked': 16,\n",
       " 'unheeded,': 1,\n",
       " 'those': 94,\n",
       " 'two': 145,\n",
       " 'jaws,': 1,\n",
       " 'faces,': 11,\n",
       " 'trod': 5,\n",
       " 'stir': 4,\n",
       " 'enough,': 13,\n",
       " 'carried': 42,\n",
       " 'divine': 2,\n",
       " 'rights': 1,\n",
       " 'high': 33,\n",
       " 'hand.': 15,\n",
       " 'Thus': 9,\n",
       " 'did': 121,\n",
       " 'seven\\n': 2,\n",
       " 'seventy-five': 1,\n",
       " 'conduct': 3,\n",
       " 'Greatnesses,': 1,\n",
       " 'myriads': 1,\n",
       " 'small': 32,\n",
       " 'creatures-': 2,\n",
       " 'creatures': 4,\n",
       " 'this': 390,\n",
       " 'chronicle': 1,\n",
       " 'rest-': 1,\n",
       " 'along\\n': 3,\n",
       " 'roads': 23,\n",
       " 'lay': 58,\n",
       " 'them.\\n': 25,\n",
       " 'II\\n': 3,\n",
       " 'THE': 40,\n",
       " 'MAIL\\n': 1,\n",
       " '\\n': 58,\n",
       " 'Dover': 11,\n",
       " 'road': 19,\n",
       " 'lay,': 2,\n",
       " 'Friday': 4,\n",
       " 'night': 75,\n",
       " 'late': 15,\n",
       " 'November,': 2,\n",
       " 'first': 78,\n",
       " 'persons': 5,\n",
       " 'history': 7,\n",
       " 'has\\n': 13,\n",
       " 'business.': 14,\n",
       " 'The': 489,\n",
       " 'him,': 204,\n",
       " 'beyond': 23,\n",
       " 'mail,': 6,\n",
       " 'as\\n': 62,\n",
       " 'lumbered': 2,\n",
       " \"Shooter's\": 3,\n",
       " 'Hill.': 1,\n",
       " 'He': 350,\n",
       " 'walked': 40,\n",
       " 'hill': 10,\n",
       " 'mire': 1,\n",
       " 'side': 39,\n",
       " 'rest': 18,\n",
       " 'passengers': 12,\n",
       " 'did;': 1,\n",
       " 'least': 14,\n",
       " 'relish': 2,\n",
       " 'walking': 17,\n",
       " 'exercise,': 2,\n",
       " 'under': 122,\n",
       " 'circumstances,': 4,\n",
       " 'but': 367,\n",
       " 'because': 28,\n",
       " 'harness,': 1,\n",
       " 'mud,': 6,\n",
       " 'heavy,': 5,\n",
       " 'horses': 21,\n",
       " 'times': 25,\n",
       " 'already\\n': 4,\n",
       " 'stop,': 1,\n",
       " 'besides': 9,\n",
       " 'once': 52,\n",
       " 'drawing': 17,\n",
       " 'coach': 20,\n",
       " 'across': 32,\n",
       " 'road,': 11,\n",
       " 'with\\n': 82,\n",
       " 'mutinous': 1,\n",
       " 'intent': 14,\n",
       " 'back': 84,\n",
       " 'Blackheath.': 1,\n",
       " 'Reins': 1,\n",
       " 'whip\\n': 1,\n",
       " 'coachman': 4,\n",
       " 'guard,': 10,\n",
       " 'however,': 16,\n",
       " 'combination,': 1,\n",
       " 'read': 21,\n",
       " 'article\\n': 1,\n",
       " 'war': 1,\n",
       " 'forbade': 2,\n",
       " 'purpose': 6,\n",
       " 'otherwise': 12,\n",
       " 'strongly': 9,\n",
       " 'favour': 14,\n",
       " 'argument,': 1,\n",
       " 'brute': 2,\n",
       " 'animals': 1,\n",
       " 'are': 271,\n",
       " 'endued': 1,\n",
       " 'Reason;': 1,\n",
       " 'team\\n': 1,\n",
       " 'capitulated': 1,\n",
       " 'returned': 70,\n",
       " 'duty.\\n': 1,\n",
       " 'With': 33,\n",
       " 'drooping': 4,\n",
       " 'heads': 26,\n",
       " 'tremulous': 2,\n",
       " 'tails,': 1,\n",
       " 'mashed': 1,\n",
       " 'way\\n': 5,\n",
       " 'thick': 4,\n",
       " 'floundering': 1,\n",
       " 'stumbling': 1,\n",
       " 'between': 59,\n",
       " 'whiles,': 2,\n",
       " 'if\\n': 24,\n",
       " 'falling': 6,\n",
       " 'pieces': 9,\n",
       " 'larger': 3,\n",
       " 'joints.': 1,\n",
       " 'As': 94,\n",
       " 'often': 29,\n",
       " 'driver': 3,\n",
       " 'rested': 10,\n",
       " 'brought': 76,\n",
       " 'stand,': 2,\n",
       " 'wary': 2,\n",
       " '\"Wo-ho!\\n': 1,\n",
       " 'so-ho-then!\"': 1,\n",
       " 'near': 37,\n",
       " 'leader': 4,\n",
       " 'violently': 4,\n",
       " 'shook': 27,\n",
       " 'head': 110,\n",
       " 'everything\\n': 3,\n",
       " 'it-': 15,\n",
       " 'unusually': 2,\n",
       " 'emphatic': 4,\n",
       " 'horse,': 5,\n",
       " 'denying': 1,\n",
       " 'coach\\n': 3,\n",
       " 'could': 241,\n",
       " 'hill.': 4,\n",
       " 'Whenever': 1,\n",
       " 'rattle,': 2,\n",
       " 'passenger': 15,\n",
       " 'started,': 4,\n",
       " 'nervous': 2,\n",
       " 'might,': 6,\n",
       " 'disturbed\\n': 1,\n",
       " 'mind.\\n': 6,\n",
       " 'steaming': 1,\n",
       " 'mist': 12,\n",
       " 'hollows,': 1,\n",
       " 'roamed': 1,\n",
       " 'forlornness': 1,\n",
       " 'evil': 4,\n",
       " 'spirit,': 6,\n",
       " 'seeking': 3,\n",
       " 'finding': 3,\n",
       " 'none.': 8,\n",
       " 'A': 99,\n",
       " 'clammy': 1,\n",
       " 'intensely': 3,\n",
       " 'cold': 20,\n",
       " 'mist,': 3,\n",
       " 'slow': 7,\n",
       " 'air': 33,\n",
       " 'ripples': 1,\n",
       " 'visibly': 2,\n",
       " 'followed': 25,\n",
       " 'overspread': 1,\n",
       " 'another,': 16,\n",
       " 'waves': 4,\n",
       " 'unwholesome': 3,\n",
       " 'sea': 15,\n",
       " 'might': 125,\n",
       " 'do.': 5,\n",
       " 'dense\\n': 1,\n",
       " 'shut': 16,\n",
       " 'light': 64,\n",
       " 'coach-lamps': 1,\n",
       " 'but\\n': 22,\n",
       " 'own': 114,\n",
       " 'workings,': 1,\n",
       " 'few': 70,\n",
       " 'yards': 3,\n",
       " 'road;': 1,\n",
       " 'reek': 1,\n",
       " 'labouring': 2,\n",
       " 'steamed': 2,\n",
       " 'if': 307,\n",
       " 'all.\\n': 4,\n",
       " 'Two': 11,\n",
       " 'passengers,': 4,\n",
       " 'one,': 20,\n",
       " 'plodding': 2,\n",
       " 'hill\\n': 1,\n",
       " 'mail.': 2,\n",
       " 'wrapped': 6,\n",
       " 'cheekbones\\n': 1,\n",
       " 'over': 145,\n",
       " 'cars,': 1,\n",
       " 'wore': 18,\n",
       " 'jack-boots.': 1,\n",
       " 'Not': 26,\n",
       " 'could\\n': 19,\n",
       " 'said,': 57,\n",
       " 'anything': 41,\n",
       " 'saw,': 5,\n",
       " 'what': 219,\n",
       " 'either': 22,\n",
       " 'like;': 2,\n",
       " 'each': 23,\n",
       " 'hidden': 10,\n",
       " 'almost': 35,\n",
       " 'many': 114,\n",
       " 'wrappers': 1,\n",
       " 'eyes': 110,\n",
       " 'mind,': 30,\n",
       " 'body,': 4,\n",
       " 'companions.\\n': 2,\n",
       " 'days,': 14,\n",
       " 'travellers': 2,\n",
       " 'shy': 1,\n",
       " 'being': 122,\n",
       " 'confidential': 3,\n",
       " 'short': 20,\n",
       " 'notice,': 4,\n",
       " 'anybody': 7,\n",
       " 'robber': 1,\n",
       " 'league\\n': 1,\n",
       " 'robbers.': 1,\n",
       " 'latter,': 3,\n",
       " 'posting-house': 3,\n",
       " 'ale-house\\n': 1,\n",
       " 'produce': 4,\n",
       " 'somebody': 11,\n",
       " 'Captain\\'s\"': 1,\n",
       " 'pay,': 2,\n",
       " 'ranging': 1,\n",
       " 'landlord': 1,\n",
       " 'lowest': 3,\n",
       " 'stable': 2,\n",
       " 'nondescript,': 1,\n",
       " 'likeliest\\n': 1,\n",
       " 'thing': 30,\n",
       " 'cards.': 1,\n",
       " 'So': 27,\n",
       " 'guard': 18,\n",
       " 'himself,': 35,\n",
       " 'seventy-five,': 2,\n",
       " 'lumbering': 6,\n",
       " 'Hill,': 1,\n",
       " 'stood': 77,\n",
       " 'own\\n': 19,\n",
       " 'particular': 10,\n",
       " 'perch': 1,\n",
       " 'behind': 44,\n",
       " 'beating': 8,\n",
       " 'feet,': 9,\n",
       " 'keeping': 8,\n",
       " 'eye\\n': 7,\n",
       " 'arm-chest': 1,\n",
       " 'where': 123,\n",
       " 'blunderbuss': 2,\n",
       " 'lay\\n': 5,\n",
       " 'top': 14,\n",
       " 'six': 11,\n",
       " 'eight': 13,\n",
       " 'horse-pistols,': 1,\n",
       " 'deposited': 1,\n",
       " 'substratum': 1,\n",
       " 'cutlass.\\n': 1,\n",
       " 'usual': 38,\n",
       " 'genial': 1,\n",
       " 'position': 5,\n",
       " 'suspected': 7,\n",
       " 'another': 86,\n",
       " 'everybody': 8,\n",
       " 'else,': 4,\n",
       " 'sure': 25,\n",
       " 'nothing': 92,\n",
       " 'horses;': 2,\n",
       " 'cattle': 1,\n",
       " 'clear\\n': 2,\n",
       " 'conscience': 2,\n",
       " 'oath': 2,\n",
       " 'Testaments': 1,\n",
       " 'were\\n': 55,\n",
       " 'fit': 8,\n",
       " 'journey.\\n': 1,\n",
       " '\"Wo-ho!\"': 1,\n",
       " 'said': 557,\n",
       " 'coachman.': 1,\n",
       " '\"So,': 2,\n",
       " 'then!': 6,\n",
       " 'One': 25,\n",
       " 'more': 187,\n",
       " 'pull': 6,\n",
       " \"you're\": 7,\n",
       " 'at\\n': 66,\n",
       " 'damned': 1,\n",
       " 'you,': 121,\n",
       " 'I': 1374,\n",
       " 'trouble': 11,\n",
       " 'get': 52,\n",
       " 'you\\n': 46,\n",
       " 'it!-': 1,\n",
       " 'Joe!\"\\n': 1,\n",
       " '\"Halloa!\"': 2,\n",
       " 'replied.\\n': 1,\n",
       " '\"What': 65,\n",
       " \"o'clock\": 9,\n",
       " 'you': 812,\n",
       " 'Joe?\"\\n': 1,\n",
       " '\"Ten': 3,\n",
       " 'minutes,': 8,\n",
       " 'good,': 11,\n",
       " 'eleven.\"\\n': 1,\n",
       " '\"My': 37,\n",
       " 'blood!\"': 1,\n",
       " 'ejaculated': 1,\n",
       " 'vexed': 2,\n",
       " 'coachman,': 3,\n",
       " '\"and': 38,\n",
       " 'atop': 1,\n",
       " 'yet!': 1,\n",
       " 'Tst!': 4,\n",
       " 'Yah!': 2,\n",
       " 'Get': 3,\n",
       " 'you!\"\\n': 10,\n",
       " 'whip': 1,\n",
       " 'most': 58,\n",
       " 'decided\\n': 1,\n",
       " 'negative,': 1,\n",
       " 'decided': 4,\n",
       " 'scramble': 1,\n",
       " 'horses\\n': 2,\n",
       " 'suit.': 1,\n",
       " 'Once': 5,\n",
       " 'more,': 16,\n",
       " 'struggled': 5,\n",
       " 'on,': 37,\n",
       " 'jack-boots': 1,\n",
       " 'squashing': 1,\n",
       " 'along': 28,\n",
       " 'side.': 7,\n",
       " 'They': 87,\n",
       " 'had\\n': 92,\n",
       " 'stopped,': 6,\n",
       " 'kept': 34,\n",
       " 'company': 10,\n",
       " 'it.\\n': 39,\n",
       " 'If': 63,\n",
       " 'hardihood': 1,\n",
       " 'propose': 3,\n",
       " 'walk': 9,\n",
       " 'little': 226,\n",
       " 'ahead': 1,\n",
       " 'darkness,': 10,\n",
       " 'would': 307,\n",
       " 'put\\n': 7,\n",
       " 'way': 91,\n",
       " 'getting': 16,\n",
       " 'instantly': 3,\n",
       " 'highwayman.\\n': 1,\n",
       " 'burst': 7,\n",
       " 'summit': 3,\n",
       " 'The\\n': 41,\n",
       " 'breathe': 3,\n",
       " 'again,': 76,\n",
       " 'skid': 1,\n",
       " 'wheel': 1,\n",
       " 'descent,': 3,\n",
       " 'open': 31,\n",
       " 'coach-door': 3,\n",
       " 'let': 58,\n",
       " 'passengers\\n': 1,\n",
       " 'in.\\n': 7,\n",
       " '\"Tst!': 1,\n",
       " 'Joe!\"': 1,\n",
       " 'cried': 41,\n",
       " 'warning': 2,\n",
       " 'voice,': 32,\n",
       " 'looking': 105,\n",
       " 'from\\n': 39,\n",
       " 'box.\\n': 1,\n",
       " 'say,': 33,\n",
       " 'Tom?\"\\n': 2,\n",
       " 'listened.\\n': 1,\n",
       " '\"I': 399,\n",
       " 'say': 90,\n",
       " 'horse': 15,\n",
       " 'canter': 1,\n",
       " 'coming': 38,\n",
       " 'up,': 40,\n",
       " 'Joe.\"\\n': 4,\n",
       " 'gallop,': 2,\n",
       " 'Tom,\"': 1,\n",
       " 'leaving': 12,\n",
       " 'hold': 36,\n",
       " 'door,': 33,\n",
       " 'mounting': 1,\n",
       " 'nimbly': 2,\n",
       " 'place.': 9,\n",
       " '\"Gentlemen!': 1,\n",
       " \"king's\": 3,\n",
       " 'name,': 14,\n",
       " 'hurried': 15,\n",
       " 'adjuration,': 1,\n",
       " 'cocked': 2,\n",
       " 'blunderbuss,': 2,\n",
       " 'stood\\n': 5,\n",
       " 'offensive.\\n': 2,\n",
       " 'booked': 2,\n",
       " 'history,': 2,\n",
       " 'coach-step,': 1,\n",
       " 'getting\\n': 2,\n",
       " 'in;': 4,\n",
       " 'follow.': 3,\n",
       " 'remained': 19,\n",
       " 'step,': 5,\n",
       " 'half': 50,\n",
       " 'of;\\n': 1,\n",
       " 'below': 3,\n",
       " 'him.': 79,\n",
       " 'looked': 172,\n",
       " 'coachman\\n': 1,\n",
       " 'listened.': 1,\n",
       " 'back,': 28,\n",
       " 'even': 105,\n",
       " 'pricked': 2,\n",
       " 'ears': 8,\n",
       " 'contradicting.\\n': 1,\n",
       " 'stillness': 5,\n",
       " 'consequent': 2,\n",
       " 'cessation': 2,\n",
       " 'rumbling': 1,\n",
       " 'coach,': 11,\n",
       " 'added': 18,\n",
       " 'night,': 58,\n",
       " 'it\\n': 70,\n",
       " 'quiet': 24,\n",
       " 'indeed.': 3,\n",
       " 'panting': 1,\n",
       " 'communicated': 5,\n",
       " 'motion': 3,\n",
       " 'state': 34,\n",
       " 'agitation.': 2,\n",
       " 'hearts': 6,\n",
       " 'beat': 9,\n",
       " 'loud': 12,\n",
       " 'perhaps': 24,\n",
       " 'heard;': 1,\n",
       " 'rate,': 1,\n",
       " 'pause': 8,\n",
       " 'audibly': 1,\n",
       " 'expressive': 5,\n",
       " 'breath,': 7,\n",
       " 'holding': 9,\n",
       " 'having': 57,\n",
       " 'pulses\\n': 1,\n",
       " 'quickened': 2,\n",
       " 'expectation.\\n': 1,\n",
       " 'sound': 31,\n",
       " 'gallop': 3,\n",
       " 'fast': 16,\n",
       " 'furiously': 1,\n",
       " 'hill.\\n': 4,\n",
       " '\"So-ho!\"': 1,\n",
       " 'sang': 2,\n",
       " 'out,': 54,\n",
       " 'roar.': 2,\n",
       " ...}"
      ]
     },
     "execution_count": 20,
     "metadata": {},
     "output_type": "execute_result"
    }
   ],
   "source": [
    "word_count"
   ]
  },
  {
   "cell_type": "code",
   "execution_count": 26,
   "metadata": {
    "ExecuteTime": {
     "end_time": "2022-03-09T03:51:51.602196Z",
     "start_time": "2022-03-09T03:51:51.589458Z"
    }
   },
   "outputs": [
    {
     "data": {
      "text/plain": [
       "['I', '', 'love', 'you']"
      ]
     },
     "execution_count": 26,
     "metadata": {},
     "output_type": "execute_result"
    }
   ],
   "source": [
    "'I  love you'.split(\" \")"
   ]
  },
  {
   "cell_type": "markdown",
   "metadata": {
    "ExecuteTime": {
     "end_time": "2022-03-09T03:47:30.790172Z",
     "start_time": "2022-03-09T03:47:30.776160Z"
    }
   },
   "source": [
    "<div class=\"alert-success\">\n",
    "    '' is included, which implies mulitple space\n",
    "</div>"
   ]
  },
  {
   "cell_type": "markdown",
   "metadata": {},
   "source": [
    "Let's use Python **`sets`** to check that our dictionary's keys are unique. Remember that a set is a collection of **unique elements**, so calling **`set(words)`** will return only the unique words in our text file."
   ]
  },
  {
   "cell_type": "code",
   "execution_count": 25,
   "metadata": {
    "ExecuteTime": {
     "end_time": "2022-03-09T03:51:31.212837Z",
     "start_time": "2022-03-09T03:51:31.187245Z"
    }
   },
   "outputs": [],
   "source": [
    "assert len(word_count.keys()) == len(set(words)), \"This error message will be printed if the assertion to the left is not true.\""
   ]
  },
  {
   "cell_type": "markdown",
   "metadata": {},
   "source": [
    "### Using Python's Built-In Counter\n",
    "\n",
    "Since the task of building a count using a dictionary is a common operation, Python provides a built-in object called `Counter` that we can use:"
   ]
  },
  {
   "cell_type": "code",
   "execution_count": 27,
   "metadata": {
    "ExecuteTime": {
     "end_time": "2022-03-09T03:53:10.131877Z",
     "start_time": "2022-03-09T03:53:10.117223Z"
    }
   },
   "outputs": [],
   "source": [
    "from collections import Counter\n",
    "\n",
    "def count_words(lines, delimiter=\" \"):\n",
    "    \n",
    "    words = Counter() # instantiate a Counter object called words\n",
    "    for line in lines:\n",
    "        for word in line.split(delimiter):\n",
    "            words[word] += 1 # increment count for word\n",
    "    return words"
   ]
  },
  {
   "cell_type": "code",
   "execution_count": 28,
   "metadata": {
    "ExecuteTime": {
     "end_time": "2022-03-09T03:53:10.908647Z",
     "start_time": "2022-03-09T03:53:10.839721Z"
    }
   },
   "outputs": [],
   "source": [
    "counter = count_words(lines)"
   ]
  },
  {
   "cell_type": "code",
   "execution_count": 29,
   "metadata": {
    "ExecuteTime": {
     "end_time": "2022-03-09T03:53:11.239243Z",
     "start_time": "2022-03-09T03:53:11.222862Z"
    }
   },
   "outputs": [
    {
     "data": {
      "text/plain": [
       "[('', 7027), ('the', 6634), ('and', 4318), ('of', 3623), ('to', 3145)]"
      ]
     },
     "execution_count": 29,
     "metadata": {},
     "output_type": "execute_result"
    }
   ],
   "source": [
    "counter.most_common(5)"
   ]
  },
  {
   "cell_type": "markdown",
   "metadata": {},
   "source": [
    "<div class=\"alert-success\">\n",
    "lexicon vocabulary--\n",
    "</div>\n",
    "\n",
    "<div class=\"alert-success\">\n",
    "    corpus: all text at hand\n",
    "</div>\n",
    "\n",
    "<div class=\"alert-success\">\n",
    "    document: item that working on\n",
    "</div>\n",
    "\n",
    "<div class=\"alert-success\">\n",
    "    token: the most atomic unit of analysis\n",
    "</div>"
   ]
  },
  {
   "cell_type": "code",
   "execution_count": 30,
   "metadata": {
    "ExecuteTime": {
     "end_time": "2022-03-09T04:09:10.043676Z",
     "start_time": "2022-03-09T04:09:10.032006Z"
    }
   },
   "outputs": [],
   "source": [
    "counts1 = Counter(['I', 'ate', 'a', 'chip', 'chip', 'chip'])\n",
    "counts2 = Counter(['chip', 'nice'])"
   ]
  },
  {
   "cell_type": "code",
   "execution_count": 31,
   "metadata": {
    "ExecuteTime": {
     "end_time": "2022-03-09T04:09:16.288556Z",
     "start_time": "2022-03-09T04:09:16.275813Z"
    }
   },
   "outputs": [
    {
     "data": {
      "text/plain": [
       "Counter({'I': 1, 'ate': 1, 'a': 1, 'chip': 2})"
      ]
     },
     "execution_count": 31,
     "metadata": {},
     "output_type": "execute_result"
    }
   ],
   "source": [
    "counts1 - counts2"
   ]
  },
  {
   "cell_type": "code",
   "execution_count": 32,
   "metadata": {
    "ExecuteTime": {
     "end_time": "2022-03-09T04:09:27.835660Z",
     "start_time": "2022-03-09T04:09:27.823427Z"
    }
   },
   "outputs": [
    {
     "data": {
      "text/plain": [
       "Counter({'nice': 1})"
      ]
     },
     "execution_count": 32,
     "metadata": {},
     "output_type": "execute_result"
    }
   ],
   "source": [
    "counts2 - counts1"
   ]
  },
  {
   "cell_type": "markdown",
   "metadata": {
    "ExecuteTime": {
     "end_time": "2022-03-09T04:10:47.595164Z",
     "start_time": "2022-03-09T04:10:47.576783Z"
    }
   },
   "source": [
    "<div class=\"alert-success\">\n",
    "NO neg counts. Useful in comparing e.g. writing styles of different writers\n",
    "</div>"
   ]
  },
  {
   "cell_type": "markdown",
   "metadata": {},
   "source": [
    "A core principle of software engineering and programming is **DRY**: Don't Repeat Yourself. Since we are likely going to be making many histograms throughout this course, it's best that we create a reusable function."
   ]
  },
  {
   "cell_type": "code",
   "execution_count": 34,
   "metadata": {
    "ExecuteTime": {
     "end_time": "2022-03-09T04:11:00.110568Z",
     "start_time": "2022-03-09T04:11:00.099522Z"
    }
   },
   "outputs": [],
   "source": [
    "def make_histogram(values, title=None,xlabel=None,ylabel=None, bins=30, x_size=15, y_size=6):\n",
    "    plt.rcParams[\"figure.figsize\"] = (x_size,y_size)\n",
    "    plt.hist(values, bins=bins)\n",
    "    \n",
    "    if title:\n",
    "        plt.title(title) # give the plot a title\n",
    "        \n",
    "    if xlabel:\n",
    "        plt.xlabel(xlabel) # label the X axis\n",
    "        \n",
    "    if ylabel:\n",
    "        plt.ylabel(ylabel) # label the Y axis\n",
    "        \n",
    "    plt.show() "
   ]
  },
  {
   "cell_type": "code",
   "execution_count": 35,
   "metadata": {
    "ExecuteTime": {
     "end_time": "2022-03-09T04:11:01.025562Z",
     "start_time": "2022-03-09T04:11:00.836892Z"
    }
   },
   "outputs": [
    {
     "data": {
      "image/png": "[encoded data removed]",
      "text/plain": [
       "<Figure size 1500x600 with 1 Axes>"
      ]
     },
     "metadata": {},
     "output_type": "display_data"
    }
   ],
   "source": [
    "make_histogram(word_count.values(), \n",
    "               title=\"Distribution of Word Count\",\n",
    "               xlabel=\"Number of Times Word Appears\",\n",
    "               ylabel=\"Number of Unique Words\")"
   ]
  },
  {
   "cell_type": "markdown",
   "metadata": {},
   "source": [
    "<div class=\"alert-success\">\n",
    "Text distribution is always highly skewed.\n",
    "</div>"
   ]
  },
  {
   "cell_type": "markdown",
   "metadata": {},
   "source": [
    "### In-Class Question\n",
    "- Why does this distribution look the way it does? \n",
    "- What additional steps could be taken to make the results more meaningful?"
   ]
  },
  {
   "cell_type": "code",
   "execution_count": 36,
   "metadata": {
    "ExecuteTime": {
     "end_time": "2022-03-09T04:12:17.762081Z",
     "start_time": "2022-03-09T04:12:15.412820Z"
    }
   },
   "outputs": [],
   "source": [
    "import pandas as pd # output the results to a dataframe\n",
    "word_count_df = pd.DataFrame(columns=[\"word\", \"frequency\"]) # create a dataframe with two columns, word and frequency"
   ]
  },
  {
   "cell_type": "code",
   "execution_count": 37,
   "metadata": {
    "ExecuteTime": {
     "end_time": "2022-03-09T04:12:18.417978Z",
     "start_time": "2022-03-09T04:12:18.350781Z"
    }
   },
   "outputs": [],
   "source": [
    "word_count_df[\"word\"] = list(word_count.keys())\n",
    "word_count_df[\"frequency\"] = list(word_count.values())\n",
    "# word_count_df.to_csv(\"dickens_word_count.csv\") # saves to an outputs folder - if you don't have one, Python will throw an error"
   ]
  },
  {
   "cell_type": "code",
   "execution_count": 38,
   "metadata": {
    "ExecuteTime": {
     "end_time": "2022-03-09T04:12:43.545724Z",
     "start_time": "2022-03-09T04:12:43.513822Z"
    }
   },
   "outputs": [
    {
     "data": {
      "text/html": [
       "<div>\n",
       "<style scoped>\n",
       "    .dataframe tbody tr th:only-of-type {\n",
       "        vertical-align: middle;\n",
       "    }\n",
       "\n",
       "    .dataframe tbody tr th {\n",
       "        vertical-align: top;\n",
       "    }\n",
       "\n",
       "    .dataframe thead th {\n",
       "        text-align: right;\n",
       "    }\n",
       "</style>\n",
       "<table border=\"1\" class=\"dataframe\">\n",
       "  <thead>\n",
       "    <tr style=\"text-align: right;\">\n",
       "      <th></th>\n",
       "      <th>word</th>\n",
       "      <th>frequency</th>\n",
       "    </tr>\n",
       "  </thead>\n",
       "  <tbody>\n",
       "    <tr>\n",
       "      <th>0</th>\n",
       "      <td></td>\n",
       "      <td>7027</td>\n",
       "    </tr>\n",
       "    <tr>\n",
       "      <th>1</th>\n",
       "      <td>IT</td>\n",
       "      <td>3</td>\n",
       "    </tr>\n",
       "    <tr>\n",
       "      <th>2</th>\n",
       "      <td>WAS</td>\n",
       "      <td>4</td>\n",
       "    </tr>\n",
       "    <tr>\n",
       "      <th>3</th>\n",
       "      <td>the</td>\n",
       "      <td>6634</td>\n",
       "    </tr>\n",
       "    <tr>\n",
       "      <th>4</th>\n",
       "      <td>best</td>\n",
       "      <td>32</td>\n",
       "    </tr>\n",
       "    <tr>\n",
       "      <th>...</th>\n",
       "      <td>...</td>\n",
       "      <td>...</td>\n",
       "    </tr>\n",
       "    <tr>\n",
       "      <th>21678</th>\n",
       "      <td>disfigurement-</td>\n",
       "      <td>1</td>\n",
       "    </tr>\n",
       "    <tr>\n",
       "      <th>21679</th>\n",
       "      <td>done;\\n</td>\n",
       "      <td>1</td>\n",
       "    </tr>\n",
       "    <tr>\n",
       "      <th>21680</th>\n",
       "      <td>known.\"\\n</td>\n",
       "      <td>1</td>\n",
       "    </tr>\n",
       "    <tr>\n",
       "      <th>21681</th>\n",
       "      <td>-THE</td>\n",
       "      <td>1</td>\n",
       "    </tr>\n",
       "    <tr>\n",
       "      <th>21682</th>\n",
       "      <td>END-\\n</td>\n",
       "      <td>1</td>\n",
       "    </tr>\n",
       "  </tbody>\n",
       "</table>\n",
       "<p>21683 rows × 2 columns</p>\n",
       "</div>"
      ],
      "text/plain": [
       "                 word  frequency\n",
       "0                           7027\n",
       "1                  IT          3\n",
       "2                 WAS          4\n",
       "3                 the       6634\n",
       "4                best         32\n",
       "...               ...        ...\n",
       "21678  disfigurement-          1\n",
       "21679         done;\\n          1\n",
       "21680       known.\"\\n          1\n",
       "21681            -THE          1\n",
       "21682          END-\\n          1\n",
       "\n",
       "[21683 rows x 2 columns]"
      ]
     },
     "execution_count": 38,
     "metadata": {},
     "output_type": "execute_result"
    }
   ],
   "source": [
    "word_count_df"
   ]
  },
  {
   "cell_type": "markdown",
   "metadata": {},
   "source": [
    "## Zipf's Law\n",
    "\n",
    "### General Definition\n",
    "\n",
    "Zipf's Law states that for `N` words, the `k`th most frequent word will appear with a normalized frequency equal to\n",
    "\n",
    "<figure>\n",
    "  <img src=\"https://raw.githubusercontent.com/ychennay/dso-560-nlp-text-analytics/main/images/zipf.svg\" alt=\"my alt text\"/>\n",
    "</figure>\n",
    "\n",
    "The parameter $s$ is an exponent that defines the behavior of the distribution. Traditionally, in natural language, $s = 1$.\n",
    "\n",
    "<figure>\n",
    "  <img src=\"https://raw.githubusercontent.com/ychennay/dso-560-nlp-text-analytics/main/images/zip_languages.png\" alt=\"my alt text\"/>\n",
    "  <figcaption><i>Stefan Evert, http://zipfr.r-forge.r-project.org/materials/LREC2018/tutorial_lrec2018.handout.pdf</i></figcaption>\n",
    "</figure>\n",
    "\n",
    "\n",
    "### Approximation in NLP\n",
    "\n",
    "If $t_1$ is the most common word in a collection of text, and $t_2$ is the next most common word, then the frequency of the $i$th most common word is proportional to $\\frac{1}{i}$. The approximation we'll use specifically for natural languages is\n",
    "\n",
    "$$\n",
    "f(t_i) = \\frac{0.1}{i^\\alpha}\n",
    "$$\n",
    "\n",
    "$\\alpha = 1$.\n",
    "\n",
    "To represent the frequency of a word in a body of text.\n",
    "\n",
    "In human language, there are **a few high-frequency words and many low-frequency words**. What does this mean in terms of machine learning / data modelling?\n",
    "\n",
    "* In many cases, the high frequency words do not carry much value in terms of predictive power or signal. These are frequently **stopwords** that must be removed / otherwise feature-engineered."
   ]
  },
  {
   "cell_type": "markdown",
   "metadata": {
    "ExecuteTime": {
     "end_time": "2022-03-09T04:17:25.658590Z",
     "start_time": "2022-03-09T04:17:25.639517Z"
    }
   },
   "source": [
    "<div class=\"alert-warning\">\n",
    "In many cases, the high frequency words do not carry much value in terms of predictive power or signal. \n",
    "These are frequently **stopwords** that must be removed / otherwise feature-engineered.\n",
    "</div>"
   ]
  },
  {
   "cell_type": "markdown",
   "metadata": {},
   "source": [
    "### Zipf Distributions\n",
    "\n",
    "There is a distribution known as the **Zipf Distribution**, and it even has its own [implementation in Numpy](https://numpy.org/doc/stable/reference/random/generated/numpy.random.zipf.html). In this following example, we generate a random sample of 1000 numbers and plot them:"
   ]
  },
  {
   "cell_type": "code",
   "execution_count": 41,
   "metadata": {
    "ExecuteTime": {
     "end_time": "2022-03-09T04:20:16.524764Z",
     "start_time": "2022-03-09T04:20:16.296981Z"
    }
   },
   "outputs": [
    {
     "data": {
      "image/png": "[encoded data removed]",
      "text/plain": [
       "<Figure size 432x288 with 1 Axes>"
      ]
     },
     "metadata": {
      "needs_background": "light"
     },
     "output_type": "display_data"
    }
   ],
   "source": [
    "import numpy as np\n",
    "from matplotlib import pyplot as plt\n",
    "%matplotlib inline\n",
    "a = 2\n",
    "\n",
    "counts = np.random.zipf(a, 1000)\n",
    "count, bins, ignored = plt.hist(counts[counts<100], 100, density=True)"
   ]
  },
  {
   "cell_type": "markdown",
   "metadata": {},
   "source": [
    "# Regular Expressions"
   ]
  },
  {
   "cell_type": "markdown",
   "metadata": {},
   "source": [
    "<div class=\"alert-success\">\n",
    "https://regexr.com/\n",
    "</div>"
   ]
  },
  {
   "cell_type": "code",
   "execution_count": 42,
   "metadata": {
    "ExecuteTime": {
     "end_time": "2022-03-09T04:22:05.528922Z",
     "start_time": "2022-03-09T04:22:05.506096Z"
    }
   },
   "outputs": [
    {
     "data": {
      "text/html": [
       "<div>\n",
       "<style scoped>\n",
       "    .dataframe tbody tr th:only-of-type {\n",
       "        vertical-align: middle;\n",
       "    }\n",
       "\n",
       "    .dataframe tbody tr th {\n",
       "        vertical-align: top;\n",
       "    }\n",
       "\n",
       "    .dataframe thead th {\n",
       "        text-align: right;\n",
       "    }\n",
       "</style>\n",
       "<table border=\"1\" class=\"dataframe\">\n",
       "  <thead>\n",
       "    <tr style=\"text-align: right;\">\n",
       "      <th></th>\n",
       "      <th>word</th>\n",
       "      <th>frequency</th>\n",
       "    </tr>\n",
       "  </thead>\n",
       "  <tbody>\n",
       "    <tr>\n",
       "      <th>0</th>\n",
       "      <td></td>\n",
       "      <td>7027</td>\n",
       "    </tr>\n",
       "    <tr>\n",
       "      <th>3</th>\n",
       "      <td>the</td>\n",
       "      <td>6634</td>\n",
       "    </tr>\n",
       "    <tr>\n",
       "      <th>71</th>\n",
       "      <td>and</td>\n",
       "      <td>4318</td>\n",
       "    </tr>\n",
       "    <tr>\n",
       "      <th>5</th>\n",
       "      <td>of</td>\n",
       "      <td>3623</td>\n",
       "    </tr>\n",
       "    <tr>\n",
       "      <th>35</th>\n",
       "      <td>to</td>\n",
       "      <td>3145</td>\n",
       "    </tr>\n",
       "    <tr>\n",
       "      <th>66</th>\n",
       "      <td>a</td>\n",
       "      <td>2561</td>\n",
       "    </tr>\n",
       "    <tr>\n",
       "      <th>40</th>\n",
       "      <td>in</td>\n",
       "      <td>2212</td>\n",
       "    </tr>\n",
       "    <tr>\n",
       "      <th>226</th>\n",
       "      <td>his</td>\n",
       "      <td>1754</td>\n",
       "    </tr>\n",
       "    <tr>\n",
       "      <th>48</th>\n",
       "      <td>that</td>\n",
       "      <td>1568</td>\n",
       "    </tr>\n",
       "    <tr>\n",
       "      <th>8</th>\n",
       "      <td>was</td>\n",
       "      <td>1558</td>\n",
       "    </tr>\n",
       "  </tbody>\n",
       "</table>\n",
       "</div>"
      ],
      "text/plain": [
       "     word  frequency\n",
       "0               7027\n",
       "3     the       6634\n",
       "71    and       4318\n",
       "5      of       3623\n",
       "35     to       3145\n",
       "66      a       2561\n",
       "40     in       2212\n",
       "226   his       1754\n",
       "48   that       1568\n",
       "8     was       1558"
      ]
     },
     "execution_count": 42,
     "metadata": {},
     "output_type": "execute_result"
    }
   ],
   "source": [
    "# get the top stopwords\n",
    "word_count_df.sort_values(by=[\"frequency\"], ascending=False).head(10)"
   ]
  },
  {
   "cell_type": "code",
   "execution_count": 2,
   "metadata": {
    "ExecuteTime": {
     "end_time": "2022-03-13T04:21:47.100034Z",
     "start_time": "2022-03-13T04:21:46.440809Z"
    }
   },
   "outputs": [],
   "source": [
    "import re\n",
    "\n",
    "SAMPLE_TWEET = '''\n",
    "#wolfram Alpha SUCKS! Even for researchers the information provided is less than you can get from \n",
    "#google or #wikipedia, totally useless! Avoid Wolfram at all costs, #ScrewWolframProducts\"\n",
    "'''\n",
    "\n",
    "import pandas as pd\n",
    "# create a dataframe version of Dickens' novel\n",
    "dickens_text_df = pd.DataFrame( open(\"../datasets/tale-of-two-cities.txt\", \"r\"), columns=[\"line\"])\n",
    "dickens_text_df[\"line\"] = dickens_text_df[\"line\"].str.replace(\"\\n\", \"\")"
   ]
  },
  {
   "cell_type": "code",
   "execution_count": 3,
   "metadata": {
    "ExecuteTime": {
     "end_time": "2022-03-13T04:21:47.787183Z",
     "start_time": "2022-03-13T04:21:47.751504Z"
    }
   },
   "outputs": [
    {
     "data": {
      "text/html": [
       "<div>\n",
       "<style scoped>\n",
       "    .dataframe tbody tr th:only-of-type {\n",
       "        vertical-align: middle;\n",
       "    }\n",
       "\n",
       "    .dataframe tbody tr th {\n",
       "        vertical-align: top;\n",
       "    }\n",
       "\n",
       "    .dataframe thead th {\n",
       "        text-align: right;\n",
       "    }\n",
       "</style>\n",
       "<table border=\"1\" class=\"dataframe\">\n",
       "  <thead>\n",
       "    <tr style=\"text-align: right;\">\n",
       "      <th></th>\n",
       "      <th>line</th>\n",
       "    </tr>\n",
       "  </thead>\n",
       "  <tbody>\n",
       "    <tr>\n",
       "      <th>0</th>\n",
       "      <td>IT WAS the best of times, it was the worst o...</td>\n",
       "    </tr>\n",
       "    <tr>\n",
       "      <th>1</th>\n",
       "      <td>age of wisdom, it was the age of foolishness, ...</td>\n",
       "    </tr>\n",
       "    <tr>\n",
       "      <th>2</th>\n",
       "      <td>belief, it was the epoch of incredulity, it wa...</td>\n",
       "    </tr>\n",
       "    <tr>\n",
       "      <th>3</th>\n",
       "      <td>it was the season of Darkness, it was the spri...</td>\n",
       "    </tr>\n",
       "    <tr>\n",
       "      <th>4</th>\n",
       "      <td>winter of despair, we had everything before us...</td>\n",
       "    </tr>\n",
       "    <tr>\n",
       "      <th>...</th>\n",
       "      <td>...</td>\n",
       "    </tr>\n",
       "    <tr>\n",
       "      <th>12865</th>\n",
       "      <td>hear him tell the child my story, with a tende...</td>\n",
       "    </tr>\n",
       "    <tr>\n",
       "      <th>12866</th>\n",
       "      <td>\"It is a far, far better thing that I do, th...</td>\n",
       "    </tr>\n",
       "    <tr>\n",
       "      <th>12867</th>\n",
       "      <td>it is a far, far better rest that I go to than...</td>\n",
       "    </tr>\n",
       "    <tr>\n",
       "      <th>12868</th>\n",
       "      <td></td>\n",
       "    </tr>\n",
       "    <tr>\n",
       "      <th>12869</th>\n",
       "      <td>-THE END-</td>\n",
       "    </tr>\n",
       "  </tbody>\n",
       "</table>\n",
       "<p>12870 rows × 1 columns</p>\n",
       "</div>"
      ],
      "text/plain": [
       "                                                    line\n",
       "0        IT WAS the best of times, it was the worst o...\n",
       "1      age of wisdom, it was the age of foolishness, ...\n",
       "2      belief, it was the epoch of incredulity, it wa...\n",
       "3      it was the season of Darkness, it was the spri...\n",
       "4      winter of despair, we had everything before us...\n",
       "...                                                  ...\n",
       "12865  hear him tell the child my story, with a tende...\n",
       "12866    \"It is a far, far better thing that I do, th...\n",
       "12867  it is a far, far better rest that I go to than...\n",
       "12868                                                   \n",
       "12869                                          -THE END-\n",
       "\n",
       "[12870 rows x 1 columns]"
      ]
     },
     "execution_count": 3,
     "metadata": {},
     "output_type": "execute_result"
    }
   ],
   "source": [
    "dickens_text_df"
   ]
  },
  {
   "cell_type": "markdown",
   "metadata": {},
   "source": [
    "### Match the first time a capital letter appears in the tweet"
   ]
  },
  {
   "cell_type": "code",
   "execution_count": 45,
   "metadata": {
    "ExecuteTime": {
     "end_time": "2022-03-09T04:22:21.096582Z",
     "start_time": "2022-03-09T04:22:21.087982Z"
    }
   },
   "outputs": [
    {
     "data": {
      "text/plain": [
       "'\\n#wolfram Alpha SUCKS! Even for researchers the information provided is less than you can get from \\n#google or #wikipedia, totally useless! Avoid Wolfram at all costs, #ScrewWolframProducts\"\\n'"
      ]
     },
     "execution_count": 45,
     "metadata": {},
     "output_type": "execute_result"
    }
   ],
   "source": [
    "SAMPLE_TWEET"
   ]
  },
  {
   "cell_type": "code",
   "execution_count": 46,
   "metadata": {
    "ExecuteTime": {
     "end_time": "2022-03-09T04:22:51.187083Z",
     "start_time": "2022-03-09T04:22:51.169694Z"
    }
   },
   "outputs": [
    {
     "data": {
      "text/plain": [
       "True"
      ]
     },
     "execution_count": 46,
     "metadata": {},
     "output_type": "execute_result"
    }
   ],
   "source": [
    "\"wolf\" in SAMPLE_TWEET"
   ]
  },
  {
   "cell_type": "code",
   "execution_count": 47,
   "metadata": {
    "ExecuteTime": {
     "end_time": "2022-03-09T04:23:26.359573Z",
     "start_time": "2022-03-09T04:23:26.346293Z"
    }
   },
   "outputs": [
    {
     "data": {
      "text/plain": [
       "True"
      ]
     },
     "execution_count": 47,
     "metadata": {},
     "output_type": "execute_result"
    }
   ],
   "source": [
    "\"wolf\" in 'wolfenburger are cool'"
   ]
  },
  {
   "cell_type": "markdown",
   "metadata": {
    "ExecuteTime": {
     "end_time": "2022-03-09T04:23:46.431389Z",
     "start_time": "2022-03-09T04:23:46.423283Z"
    }
   },
   "source": [
    "<div class=\"alert-success\">\n",
    "This is a false positive\n",
    "</div>"
   ]
  },
  {
   "cell_type": "markdown",
   "metadata": {},
   "source": [
    "### Match all capital letters that appears in the tweet"
   ]
  },
  {
   "cell_type": "code",
   "execution_count": 89,
   "metadata": {},
   "outputs": [
    {
     "data": {
      "text/plain": [
       "['A', 'SUCKS', 'E', 'A', 'W', 'S', 'W', 'P']"
      ]
     },
     "execution_count": 89,
     "metadata": {},
     "output_type": "execute_result"
    }
   ],
   "source": [
    "# re\n",
    "re.findall(\"[A-Z]+\", SAMPLE_TWEET)"
   ]
  },
  {
   "cell_type": "markdown",
   "metadata": {},
   "source": [
    "<div class=\"alert-success\">\n",
    "    [] stands for range,\n",
    "    + stands for one or more\n",
    "</div>"
   ]
  },
  {
   "cell_type": "code",
   "execution_count": 49,
   "metadata": {
    "ExecuteTime": {
     "end_time": "2022-03-09T04:26:18.316299Z",
     "start_time": "2022-03-09T04:26:18.306977Z"
    }
   },
   "outputs": [
    {
     "data": {
      "text/plain": [
       "['A', 'S', 'U', 'C', 'K', 'S', 'E', 'A', 'W', 'S', 'W', 'P']"
      ]
     },
     "execution_count": 49,
     "metadata": {},
     "output_type": "execute_result"
    }
   ],
   "source": [
    "re.findall(\"[A-Z]\", SAMPLE_TWEET)"
   ]
  },
  {
   "cell_type": "markdown",
   "metadata": {},
   "source": [
    "<div class=\"alert-success\">\n",
    "    w/o +, it only looks for one character\n",
    "</div>"
   ]
  },
  {
   "cell_type": "code",
   "execution_count": 50,
   "metadata": {
    "ExecuteTime": {
     "end_time": "2022-03-09T04:27:48.787533Z",
     "start_time": "2022-03-09T04:27:48.768419Z"
    },
    "scrolled": true
   },
   "outputs": [
    {
     "data": {
      "text/plain": [
       "['wolfram',\n",
       " 'Alpha',\n",
       " 'SUCKS',\n",
       " 'Even',\n",
       " 'for',\n",
       " 'researchers',\n",
       " 'the',\n",
       " 'information',\n",
       " 'provided',\n",
       " 'is',\n",
       " 'less',\n",
       " 'than',\n",
       " 'you',\n",
       " 'can',\n",
       " 'get',\n",
       " 'from',\n",
       " 'google',\n",
       " 'or',\n",
       " 'wikipedia',\n",
       " 'totally',\n",
       " 'useless',\n",
       " 'Avoid',\n",
       " 'Wolfram',\n",
       " 'at',\n",
       " 'all',\n",
       " 'costs',\n",
       " 'ScrewWolframProducts']"
      ]
     },
     "execution_count": 50,
     "metadata": {},
     "output_type": "execute_result"
    }
   ],
   "source": [
    "re.findall(\"[a-zA-Z]+\", SAMPLE_TWEET)"
   ]
  },
  {
   "cell_type": "markdown",
   "metadata": {},
   "source": [
    "<div class=\"alert-success\">\n",
    "    it looks for words starting with both large & little characters\n",
    "</div>"
   ]
  },
  {
   "cell_type": "markdown",
   "metadata": {},
   "source": [
    "<div class=\"alert-success\">\n",
    "    it does not include any numbers\n",
    "</div>"
   ]
  },
  {
   "cell_type": "code",
   "execution_count": 52,
   "metadata": {
    "ExecuteTime": {
     "end_time": "2022-03-09T04:30:25.108629Z",
     "start_time": "2022-03-09T04:30:25.100298Z"
    }
   },
   "outputs": [
    {
     "data": {
      "text/plain": [
       "['wolfram',\n",
       " 'researcher',\n",
       " 'informatio',\n",
       " 'provided',\n",
       " 'wikipedia',\n",
       " 'totally',\n",
       " 'useless',\n",
       " 'Wolfram',\n",
       " 'ScrewWolfr',\n",
       " 'amProducts']"
      ]
     },
     "execution_count": 52,
     "metadata": {},
     "output_type": "execute_result"
    }
   ],
   "source": [
    "re.findall(\"[a-zA-Z]{7,10}\", SAMPLE_TWEET)"
   ]
  },
  {
   "cell_type": "markdown",
   "metadata": {},
   "source": [
    "<div class=\"alert-success\">\n",
    "    it looks for words starting with both large & little characters, yet only with [7, 10] length\n",
    "</div>"
   ]
  },
  {
   "cell_type": "code",
   "execution_count": 82,
   "metadata": {
    "ExecuteTime": {
     "end_time": "2022-03-11T10:33:09.431560Z",
     "start_time": "2022-03-11T10:33:09.412344Z"
    }
   },
   "outputs": [
    {
     "data": {
      "text/plain": [
       "['wolfram',\n",
       " 'researchers',\n",
       " 'information',\n",
       " 'provided',\n",
       " 'wikipedia',\n",
       " 'totally',\n",
       " 'useless',\n",
       " 'Wolfram',\n",
       " 'ScrewWolframProducts']"
      ]
     },
     "execution_count": 82,
     "metadata": {},
     "output_type": "execute_result"
    }
   ],
   "source": [
    "re.findall(\"[a-zA-Z]{7,}\", SAMPLE_TWEET)"
   ]
  },
  {
   "cell_type": "markdown",
   "metadata": {},
   "source": [
    "<div class=\"alert-success\">\n",
    "    looks for words with 7+ length\n",
    "</div>"
   ]
  },
  {
   "cell_type": "markdown",
   "metadata": {},
   "source": [
    "<div class=\"alert-success\">\n",
    "    pay attention to 'ScrewWolfr', 'amProducts' and 'ScrewWolframProducts'\n",
    "</div>"
   ]
  },
  {
   "cell_type": "code",
   "execution_count": 54,
   "metadata": {
    "ExecuteTime": {
     "end_time": "2022-03-09T04:40:01.874263Z",
     "start_time": "2022-03-09T04:40:01.863395Z"
    }
   },
   "outputs": [
    {
     "data": {
      "text/plain": [
       "['tell', 'meabou']"
      ]
     },
     "execution_count": 54,
     "metadata": {},
     "output_type": "execute_result"
    }
   ],
   "source": [
    "re.findall(\"[A-Za-z]{4,6}\", 'you tell meabout it')"
   ]
  },
  {
   "cell_type": "code",
   "execution_count": 79,
   "metadata": {
    "ExecuteTime": {
     "end_time": "2022-03-09T05:25:48.271599Z",
     "start_time": "2022-03-09T05:25:48.257970Z"
    }
   },
   "outputs": [
    {
     "data": {
      "text/plain": [
       "['tell', 'meabout']"
      ]
     },
     "execution_count": 79,
     "metadata": {},
     "output_type": "execute_result"
    }
   ],
   "source": [
    "re.findall(\"[A-Za-z]{4,7}\", 'you tell meabout it')"
   ]
  },
  {
   "cell_type": "code",
   "execution_count": null,
   "metadata": {},
   "outputs": [],
   "source": []
  },
  {
   "cell_type": "markdown",
   "metadata": {},
   "source": [
    "<div class=\"alert-success\">\n",
    "    Escaped characters\n",
    "</div>"
   ]
  },
  {
   "cell_type": "code",
   "execution_count": 84,
   "metadata": {
    "ExecuteTime": {
     "end_time": "2022-03-11T10:38:58.237123Z",
     "start_time": "2022-03-11T10:38:58.222018Z"
    }
   },
   "outputs": [
    {
     "data": {
      "text/plain": [
       "['ABC', 'DEF']"
      ]
     },
     "execution_count": 84,
     "metadata": {},
     "output_type": "execute_result"
    }
   ],
   "source": [
    "re.findall(r'[a-zA-Z]+', 'ABC-DEF')"
   ]
  },
  {
   "cell_type": "code",
   "execution_count": 88,
   "metadata": {
    "ExecuteTime": {
     "end_time": "2022-03-11T10:39:39.510171Z",
     "start_time": "2022-03-11T10:39:39.497363Z"
    }
   },
   "outputs": [
    {
     "data": {
      "text/plain": [
       "['ABC-DEF', 'abc', 'def', 'abc', 'def']"
      ]
     },
     "execution_count": 88,
     "metadata": {},
     "output_type": "execute_result"
    }
   ],
   "source": [
    "re.findall(r'[a-zA-Z\\-]+', 'ABC-DEF\\nabc def\\n abc|def')"
   ]
  },
  {
   "cell_type": "markdown",
   "metadata": {},
   "source": [
    "<div class=\"alert-success\">\n",
    "    \"\\-\" refers to - itself\n",
    "</div>"
   ]
  },
  {
   "cell_type": "code",
   "execution_count": 55,
   "metadata": {
    "ExecuteTime": {
     "end_time": "2022-03-09T04:43:45.738463Z",
     "start_time": "2022-03-09T04:43:45.725322Z"
    }
   },
   "outputs": [
    {
     "data": {
      "text/plain": [
       "['ABC', 'DEF']"
      ]
     },
     "execution_count": 55,
     "metadata": {},
     "output_type": "execute_result"
    }
   ],
   "source": [
    "re.findall('[A-Z]{2,}', 'ABC9DEF')"
   ]
  },
  {
   "cell_type": "code",
   "execution_count": 58,
   "metadata": {
    "ExecuteTime": {
     "end_time": "2022-03-09T04:44:48.790054Z",
     "start_time": "2022-03-09T04:44:48.773234Z"
    }
   },
   "outputs": [
    {
     "data": {
      "text/plain": [
       "['ABC9DEF']"
      ]
     },
     "execution_count": 58,
     "metadata": {},
     "output_type": "execute_result"
    }
   ],
   "source": [
    "re.findall('[A-Z0-9]{2,}', 'ABC9DEF')"
   ]
  },
  {
   "cell_type": "markdown",
   "metadata": {},
   "source": [
    "<div class=\"alert-success\">\n",
    "    the sequence between one [] does not matter\n",
    "</div>"
   ]
  },
  {
   "cell_type": "code",
   "execution_count": 113,
   "metadata": {
    "ExecuteTime": {
     "end_time": "2022-03-11T11:04:51.761836Z",
     "start_time": "2022-03-11T11:04:51.747102Z"
    }
   },
   "outputs": [
    {
     "data": {
      "text/plain": [
       "['ABC9DEF']"
      ]
     },
     "execution_count": 113,
     "metadata": {},
     "output_type": "execute_result"
    }
   ],
   "source": [
    "re.findall('[0-9A-Z]{2,}', 'ABC9DEF')"
   ]
  },
  {
   "cell_type": "markdown",
   "metadata": {
    "ExecuteTime": {
     "end_time": "2022-03-11T11:05:30.920812Z",
     "start_time": "2022-03-11T11:05:30.904481Z"
    }
   },
   "source": [
    "<div class=\"alert-success\">\n",
    "    if sequence matters, use multiple []\n",
    "</div>"
   ]
  },
  {
   "cell_type": "code",
   "execution_count": 115,
   "metadata": {
    "ExecuteTime": {
     "end_time": "2022-03-11T11:06:10.115011Z",
     "start_time": "2022-03-11T11:06:10.103036Z"
    }
   },
   "outputs": [
    {
     "data": {
      "text/plain": [
       "['Most', 'Except']"
      ]
     },
     "execution_count": 115,
     "metadata": {},
     "output_type": "execute_result"
    }
   ],
   "source": [
    "re.findall('[A-Z][a-z]+', 'Most of people are good. Except me.')"
   ]
  },
  {
   "cell_type": "code",
   "execution_count": null,
   "metadata": {},
   "outputs": [],
   "source": []
  },
  {
   "cell_type": "code",
   "execution_count": null,
   "metadata": {},
   "outputs": [],
   "source": []
  },
  {
   "cell_type": "markdown",
   "metadata": {},
   "source": [
    "<div class=\"alert-success\">\n",
    "    Match Groups, from [] to ()\n",
    "</div>"
   ]
  },
  {
   "cell_type": "code",
   "execution_count": 89,
   "metadata": {
    "ExecuteTime": {
     "end_time": "2022-03-11T10:44:17.045161Z",
     "start_time": "2022-03-11T10:44:17.035470Z"
    }
   },
   "outputs": [
    {
     "data": {
      "text/plain": [
       "[' 23']"
      ]
     },
     "execution_count": 89,
     "metadata": {},
     "output_type": "execute_result"
    }
   ],
   "source": [
    "re.findall('(ABC|DEF|23)', 'ABC8DEF is 23 years old.')"
   ]
  },
  {
   "cell_type": "code",
   "execution_count": 91,
   "metadata": {
    "ExecuteTime": {
     "end_time": "2022-03-11T10:44:31.156512Z",
     "start_time": "2022-03-11T10:44:31.147459Z"
    }
   },
   "outputs": [
    {
     "data": {
      "text/plain": [
       "['ABC', 'DEF', '23']"
      ]
     },
     "execution_count": 91,
     "metadata": {},
     "output_type": "execute_result"
    }
   ],
   "source": [
    "re.findall('(ABC|DEF|23)', 'ABC8DEF is 23 years old.')"
   ]
  },
  {
   "cell_type": "markdown",
   "metadata": {},
   "source": [
    "<div class=\"alert-success\">\n",
    "    groups can work with ranges\n",
    "</div>"
   ]
  },
  {
   "cell_type": "code",
   "execution_count": 93,
   "metadata": {
    "ExecuteTime": {
     "end_time": "2022-03-11T10:45:38.035011Z",
     "start_time": "2022-03-11T10:45:38.021019Z"
    }
   },
   "outputs": [
    {
     "data": {
      "text/plain": [
       "['is', '23', 'years', 'old']"
      ]
     },
     "execution_count": 93,
     "metadata": {},
     "output_type": "execute_result"
    }
   ],
   "source": [
    "re.findall('([a-z]{2,}|[A-D]{5,}|23)', 'ABC8DEF is 23 years old.')"
   ]
  },
  {
   "cell_type": "markdown",
   "metadata": {},
   "source": [
    "<div class=\"alert-success\">\n",
    "    ATT:\n",
    "</div>\n",
    "\n",
    "<div class=\"alert-success\">\n",
    "    right now put \"?:\" behind (\n",
    "</div>\n",
    "\n",
    "<div class=\"alert-success\">\n",
    "    which stands for non-capturing groups, different from cature ones(more powerful)\n",
    "</div>"
   ]
  },
  {
   "cell_type": "code",
   "execution_count": null,
   "metadata": {},
   "outputs": [],
   "source": []
  },
  {
   "cell_type": "code",
   "execution_count": 99,
   "metadata": {
    "ExecuteTime": {
     "end_time": "2022-03-11T10:52:58.404039Z",
     "start_time": "2022-03-11T10:52:58.392095Z"
    }
   },
   "outputs": [],
   "source": [
    "s = \"I had a small child who was a boy. My husband was happy. My aunt's wife was not. \\\n",
    "\\nMost husbands are not happy.\""
   ]
  },
  {
   "cell_type": "code",
   "execution_count": 100,
   "metadata": {
    "ExecuteTime": {
     "end_time": "2022-03-11T10:53:00.885284Z",
     "start_time": "2022-03-11T10:53:00.872487Z"
    }
   },
   "outputs": [
    {
     "data": {
      "text/plain": [
       "['boy', 'husband', 'husband']"
      ]
     },
     "execution_count": 100,
     "metadata": {},
     "output_type": "execute_result"
    }
   ],
   "source": [
    "re.findall('(boy|husband|husbands)', s)"
   ]
  },
  {
   "cell_type": "code",
   "execution_count": 101,
   "metadata": {
    "ExecuteTime": {
     "end_time": "2022-03-11T10:53:11.046119Z",
     "start_time": "2022-03-11T10:53:11.033091Z"
    }
   },
   "outputs": [
    {
     "data": {
      "text/plain": [
       "['boy', 'husband', 'husbands']"
      ]
     },
     "execution_count": 101,
     "metadata": {},
     "output_type": "execute_result"
    }
   ],
   "source": [
    "re.findall('(boy|husbands|husband)', s)"
   ]
  },
  {
   "cell_type": "markdown",
   "metadata": {},
   "source": [
    "<div class=\"alert-success\">\n",
    "    sequence does matter in groups\n",
    "</div>"
   ]
  },
  {
   "cell_type": "code",
   "execution_count": 103,
   "metadata": {
    "ExecuteTime": {
     "end_time": "2022-03-11T10:53:36.878380Z",
     "start_time": "2022-03-11T10:53:36.866726Z"
    }
   },
   "outputs": [
    {
     "data": {
      "text/plain": [
       "['husband', 'husbands']"
      ]
     },
     "execution_count": 103,
     "metadata": {},
     "output_type": "execute_result"
    }
   ],
   "source": [
    "re.findall('husbands?', s)"
   ]
  },
  {
   "cell_type": "markdown",
   "metadata": {},
   "source": [
    "<div class=\"alert-success\">\n",
    "    ? means it will match 1 or 0 of the preceding token, i.e. it can appear or not appear, same as below\n",
    "</div>"
   ]
  },
  {
   "cell_type": "code",
   "execution_count": 104,
   "metadata": {
    "ExecuteTime": {
     "end_time": "2022-03-11T10:55:31.156812Z",
     "start_time": "2022-03-11T10:55:31.143679Z"
    }
   },
   "outputs": [
    {
     "data": {
      "text/plain": [
       "['husband', 'husbands']"
      ]
     },
     "execution_count": 104,
     "metadata": {},
     "output_type": "execute_result"
    }
   ],
   "source": [
    "re.findall('husbands{0,1}', s)"
   ]
  },
  {
   "cell_type": "markdown",
   "metadata": {},
   "source": [
    "<div class=\"alert-success\">\n",
    "    for multiple characters, just put them within ()\n",
    "</div>"
   ]
  },
  {
   "cell_type": "code",
   "execution_count": 105,
   "metadata": {
    "ExecuteTime": {
     "end_time": "2022-03-11T10:57:18.271533Z",
     "start_time": "2022-03-11T10:57:18.249595Z"
    }
   },
   "outputs": [
    {
     "data": {
      "text/plain": [
       "['', '', 'os']"
      ]
     },
     "execution_count": 105,
     "metadata": {},
     "output_type": "execute_result"
    }
   ],
   "source": [
    "re.findall('husband(os)?', s+' husbandos')"
   ]
  },
  {
   "cell_type": "markdown",
   "metadata": {},
   "source": [
    "<div class=\"alert-success\">\n",
    "    ? means it will match 1 or 0 of the preceding **token**, anything within () is considered as a token\n",
    "</div>"
   ]
  },
  {
   "cell_type": "code",
   "execution_count": 111,
   "metadata": {
    "ExecuteTime": {
     "end_time": "2022-03-11T11:01:51.743454Z",
     "start_time": "2022-03-11T11:01:51.726996Z"
    }
   },
   "outputs": [
    {
     "data": {
      "text/plain": [
       "['', '', 'os', 'as']"
      ]
     },
     "execution_count": 111,
     "metadata": {},
     "output_type": "execute_result"
    }
   ],
   "source": [
    "re.findall(r'husband(os|as)?', s+'husbandos, husbandas')"
   ]
  },
  {
   "cell_type": "code",
   "execution_count": 132,
   "metadata": {
    "ExecuteTime": {
     "end_time": "2022-03-11T11:55:01.673481Z",
     "start_time": "2022-03-11T11:55:01.662927Z"
    }
   },
   "outputs": [
    {
     "data": {
      "text/plain": [
       "['husband', 'husband', 'husbandos', 'husbandas']"
      ]
     },
     "execution_count": 132,
     "metadata": {},
     "output_type": "execute_result"
    }
   ],
   "source": [
    "re.findall(r'husband(?:os|as)?', s+'husbandos, husbandas') # w/ ?:"
   ]
  },
  {
   "cell_type": "markdown",
   "metadata": {},
   "source": [
    "<div class=\"alert-success\">\n",
    "    in sklearn.feature_extraction.text.CountVectorizer¶, token_pattern='(?u)\\b\\w\\w+\\b',\n",
    "</div>\n",
    "\n",
    "<div class=\"alert-success\">\n",
    "    where \\w stands for all uppercase, all lowercase alphabetical characters and all numbers,\n",
    "</div>\n",
    "\n",
    "<div class=\"alert-success\">\n",
    "    i.e. \\w == [a-zA-Z0-9]\n",
    "</div>"
   ]
  },
  {
   "cell_type": "markdown",
   "metadata": {},
   "source": [
    "<div class=\"alert-success\">\n",
    "    \\w\\w+ means a character and one or more character following\n",
    "</div>"
   ]
  },
  {
   "cell_type": "code",
   "execution_count": null,
   "metadata": {},
   "outputs": [],
   "source": []
  },
  {
   "cell_type": "code",
   "execution_count": null,
   "metadata": {},
   "outputs": [],
   "source": []
  },
  {
   "cell_type": "code",
   "execution_count": null,
   "metadata": {},
   "outputs": [],
   "source": []
  },
  {
   "cell_type": "code",
   "execution_count": null,
   "metadata": {},
   "outputs": [],
   "source": []
  },
  {
   "cell_type": "code",
   "execution_count": null,
   "metadata": {},
   "outputs": [],
   "source": []
  },
  {
   "cell_type": "code",
   "execution_count": 90,
   "metadata": {
    "scrolled": true
   },
   "outputs": [
    {
     "data": {
      "text/plain": [
       "<re.Match object; span=(2, 3), match='w'>"
      ]
     },
     "execution_count": 90,
     "metadata": {},
     "output_type": "execute_result"
    }
   ],
   "source": [
    "re.search(r'[a-z]', SAMPLE_TWEET)"
   ]
  },
  {
   "cell_type": "code",
   "execution_count": null,
   "metadata": {},
   "outputs": [],
   "source": [
    "re.sub('')"
   ]
  },
  {
   "cell_type": "code",
   "execution_count": 102,
   "metadata": {},
   "outputs": [
    {
     "data": {
      "text/plain": [
       "(12870, 1)"
      ]
     },
     "execution_count": 102,
     "metadata": {},
     "output_type": "execute_result"
    }
   ],
   "source": [
    "dickens_text_df.shape"
   ]
  },
  {
   "cell_type": "code",
   "execution_count": 104,
   "metadata": {},
   "outputs": [
    {
     "data": {
      "text/html": [
       "<div>\n",
       "<style scoped>\n",
       "    .dataframe tbody tr th:only-of-type {\n",
       "        vertical-align: middle;\n",
       "    }\n",
       "\n",
       "    .dataframe tbody tr th {\n",
       "        vertical-align: top;\n",
       "    }\n",
       "\n",
       "    .dataframe thead th {\n",
       "        text-align: right;\n",
       "    }\n",
       "</style>\n",
       "<table border=\"1\" class=\"dataframe\">\n",
       "  <thead>\n",
       "    <tr style=\"text-align: right;\">\n",
       "      <th></th>\n",
       "      <th></th>\n",
       "      <th>0</th>\n",
       "    </tr>\n",
       "    <tr>\n",
       "      <th></th>\n",
       "      <th>match</th>\n",
       "      <th></th>\n",
       "    </tr>\n",
       "  </thead>\n",
       "  <tbody>\n",
       "    <tr>\n",
       "      <th>90</th>\n",
       "      <th>0</th>\n",
       "      <td>MAI</td>\n",
       "    </tr>\n",
       "    <tr>\n",
       "      <th>247</th>\n",
       "      <th>0</th>\n",
       "      <td>RECALLE</td>\n",
       "    </tr>\n",
       "    <tr>\n",
       "      <th>248</th>\n",
       "      <th>0</th>\n",
       "      <td>LIF</td>\n",
       "    </tr>\n",
       "    <tr>\n",
       "      <th rowspan=\"2\" valign=\"top\">292</th>\n",
       "      <th>0</th>\n",
       "      <td>NIGH</td>\n",
       "    </tr>\n",
       "    <tr>\n",
       "      <th>1</th>\n",
       "      <td>SHADOW</td>\n",
       "    </tr>\n",
       "    <tr>\n",
       "      <th>...</th>\n",
       "      <th>...</th>\n",
       "      <td>...</td>\n",
       "    </tr>\n",
       "    <tr>\n",
       "      <th rowspan=\"2\" valign=\"top\">12662</th>\n",
       "      <th>0</th>\n",
       "      <td>FOOTSTEP</td>\n",
       "    </tr>\n",
       "    <tr>\n",
       "      <th>1</th>\n",
       "      <td>EVE</td>\n",
       "    </tr>\n",
       "    <tr>\n",
       "      <th rowspan=\"3\" valign=\"top\">12664</th>\n",
       "      <th>0</th>\n",
       "      <td>ALON</td>\n",
       "    </tr>\n",
       "    <tr>\n",
       "      <th>1</th>\n",
       "      <td>PARI</td>\n",
       "    </tr>\n",
       "    <tr>\n",
       "      <th>2</th>\n",
       "      <td>STREET</td>\n",
       "    </tr>\n",
       "  </tbody>\n",
       "</table>\n",
       "<p>178 rows × 1 columns</p>\n",
       "</div>"
      ],
      "text/plain": [
       "                    0\n",
       "      match          \n",
       "90    0           MAI\n",
       "247   0       RECALLE\n",
       "248   0           LIF\n",
       "292   0          NIGH\n",
       "      1        SHADOW\n",
       "...               ...\n",
       "12662 0      FOOTSTEP\n",
       "      1           EVE\n",
       "12664 0          ALON\n",
       "      1          PARI\n",
       "      2        STREET\n",
       "\n",
       "[178 rows x 1 columns]"
      ]
     },
     "execution_count": 104,
     "metadata": {},
     "output_type": "execute_result"
    }
   ],
   "source": [
    "# pandas\n",
    "\n",
    "#match all words with a-z or A-Z with length 3+ and then ends with another \n",
    "# a-z character. But returns only the first part (the capture group) -\n",
    "# it will chop off the last character\n",
    "dickens_text_df[\"line\"].str.extractall(r'([A-Za-z]{3,})[A-Z]')"
   ]
  },
  {
   "cell_type": "markdown",
   "metadata": {},
   "source": [
    "### Match all words that are at least 3 characters long"
   ]
  },
  {
   "cell_type": "code",
   "execution_count": 107,
   "metadata": {},
   "outputs": [],
   "source": [
    "# re\n",
    "results = re.findall(\"[a-zA-Z]{3,}\", SAMPLE_TWEET)[:10] # show only the first 5"
   ]
  },
  {
   "cell_type": "code",
   "execution_count": 108,
   "metadata": {},
   "outputs": [
    {
     "data": {
      "text/plain": [
       "['wolfram',\n",
       " 'Alpha',\n",
       " 'SUCKS',\n",
       " 'Even',\n",
       " 'for',\n",
       " 'researchers',\n",
       " 'the',\n",
       " 'information',\n",
       " 'provided',\n",
       " 'less']"
      ]
     },
     "execution_count": 108,
     "metadata": {},
     "output_type": "execute_result"
    }
   ],
   "source": [
    "results"
   ]
  },
  {
   "cell_type": "code",
   "execution_count": 110,
   "metadata": {},
   "outputs": [
    {
     "data": {
      "text/plain": [
       "'wolfram Alpha SUCKS Even for researchers the information provided less'"
      ]
     },
     "execution_count": 110,
     "metadata": {},
     "output_type": "execute_result"
    }
   ],
   "source": [
    "\" \".join(results)"
   ]
  },
  {
   "cell_type": "code",
   "execution_count": null,
   "metadata": {},
   "outputs": [],
   "source": [
    "\" \".join(re.findall(\"[a-zA-Z]{3,}\", SAMPLE_TWEET))"
   ]
  },
  {
   "cell_type": "code",
   "execution_count": 113,
   "metadata": {},
   "outputs": [
    {
     "data": {
      "text/html": [
       "<div>\n",
       "<style scoped>\n",
       "    .dataframe tbody tr th:only-of-type {\n",
       "        vertical-align: middle;\n",
       "    }\n",
       "\n",
       "    .dataframe tbody tr th {\n",
       "        vertical-align: top;\n",
       "    }\n",
       "\n",
       "    .dataframe thead th {\n",
       "        text-align: right;\n",
       "    }\n",
       "</style>\n",
       "<table border=\"1\" class=\"dataframe\">\n",
       "  <thead>\n",
       "    <tr style=\"text-align: right;\">\n",
       "      <th></th>\n",
       "      <th>line</th>\n",
       "      <th>results</th>\n",
       "    </tr>\n",
       "  </thead>\n",
       "  <tbody>\n",
       "    <tr>\n",
       "      <th>0</th>\n",
       "      <td>IT WAS the best of times, it was the worst o...</td>\n",
       "      <td>WAS</td>\n",
       "    </tr>\n",
       "    <tr>\n",
       "      <th>1</th>\n",
       "      <td>age of wisdom, it was the age of foolishness, ...</td>\n",
       "      <td>age</td>\n",
       "    </tr>\n",
       "    <tr>\n",
       "      <th>2</th>\n",
       "      <td>belief, it was the epoch of incredulity, it wa...</td>\n",
       "      <td>belief</td>\n",
       "    </tr>\n",
       "    <tr>\n",
       "      <th>3</th>\n",
       "      <td>it was the season of Darkness, it was the spri...</td>\n",
       "      <td>was</td>\n",
       "    </tr>\n",
       "    <tr>\n",
       "      <th>4</th>\n",
       "      <td>winter of despair, we had everything before us...</td>\n",
       "      <td>winter</td>\n",
       "    </tr>\n",
       "    <tr>\n",
       "      <th>...</th>\n",
       "      <td>...</td>\n",
       "      <td>...</td>\n",
       "    </tr>\n",
       "    <tr>\n",
       "      <th>12865</th>\n",
       "      <td>hear him tell the child my story, with a tende...</td>\n",
       "      <td>hear</td>\n",
       "    </tr>\n",
       "    <tr>\n",
       "      <th>12866</th>\n",
       "      <td>\"It is a far, far better thing that I do, th...</td>\n",
       "      <td>far</td>\n",
       "    </tr>\n",
       "    <tr>\n",
       "      <th>12867</th>\n",
       "      <td>it is a far, far better rest that I go to than...</td>\n",
       "      <td>far</td>\n",
       "    </tr>\n",
       "    <tr>\n",
       "      <th>12868</th>\n",
       "      <td></td>\n",
       "      <td>NaN</td>\n",
       "    </tr>\n",
       "    <tr>\n",
       "      <th>12869</th>\n",
       "      <td>-THE END-</td>\n",
       "      <td>THE</td>\n",
       "    </tr>\n",
       "  </tbody>\n",
       "</table>\n",
       "<p>12870 rows × 2 columns</p>\n",
       "</div>"
      ],
      "text/plain": [
       "                                                    line results\n",
       "0        IT WAS the best of times, it was the worst o...     WAS\n",
       "1      age of wisdom, it was the age of foolishness, ...     age\n",
       "2      belief, it was the epoch of incredulity, it wa...  belief\n",
       "3      it was the season of Darkness, it was the spri...     was\n",
       "4      winter of despair, we had everything before us...  winter\n",
       "...                                                  ...     ...\n",
       "12865  hear him tell the child my story, with a tende...    hear\n",
       "12866    \"It is a far, far better thing that I do, th...     far\n",
       "12867  it is a far, far better rest that I go to than...     far\n",
       "12868                                                        NaN\n",
       "12869                                          -THE END-     THE\n",
       "\n",
       "[12870 rows x 2 columns]"
      ]
     },
     "execution_count": 113,
     "metadata": {},
     "output_type": "execute_result"
    }
   ],
   "source": [
    "# pandas\n",
    "dickens_text_df[\"results\"] = dickens_text_df[\"line\"].str.extract(r'([a-zA-Z]{3,})')\n",
    "dickens_text_df"
   ]
  },
  {
   "cell_type": "code",
   "execution_count": null,
   "metadata": {},
   "outputs": [],
   "source": [
    "dickens_text_df[\"results\"] = dickens_text_df[\"line\"].str.extract(r'([a-zA-Z]{3,})')\n",
    "dickens_text_df"
   ]
  },
  {
   "cell_type": "markdown",
   "metadata": {},
   "source": [
    "### Word Boundaries\n",
    "\n",
    "Consider the sentence:\n",
    "\n",
    "> *A thorough examination of the movie shows Thor was a thorn in the side of the villains, both then and now. thor.*\n",
    "\n",
    "What happens if you try to parse out all `Thor` references? What happens if you want to remove `A` or `a`, or `the` to clean up the text?"
   ]
  },
  {
   "cell_type": "code",
   "execution_count": 65,
   "metadata": {
    "ExecuteTime": {
     "end_time": "2022-03-09T04:55:01.082352Z",
     "start_time": "2022-03-09T04:55:01.075789Z"
    }
   },
   "outputs": [],
   "source": [
    "text = \"A thorough examination of the movie shows Thor was a thorn in the side of the villains, both then and now. thor.\""
   ]
  },
  {
   "cell_type": "code",
   "execution_count": 68,
   "metadata": {
    "ExecuteTime": {
     "end_time": "2022-03-09T04:55:36.727581Z",
     "start_time": "2022-03-09T04:55:36.711050Z"
    }
   },
   "outputs": [
    {
     "data": {
      "text/plain": [
       "['thor', 'Thor', 'thor', 'thor']"
      ]
     },
     "execution_count": 68,
     "metadata": {},
     "output_type": "execute_result"
    }
   ],
   "source": [
    "re.findall(r'[tT\\-]hor', text)"
   ]
  },
  {
   "cell_type": "markdown",
   "metadata": {},
   "source": [
    "<div class=\"alert-success\">\n",
    "returns thor in thorough, Thor, thorn, thor\n",
    "</div>"
   ]
  },
  {
   "cell_type": "markdown",
   "metadata": {},
   "source": [
    "<div class=\"alert-success\">\n",
    "thus, use \\b to specify boundaries\n",
    "</div>"
   ]
  },
  {
   "cell_type": "code",
   "execution_count": 66,
   "metadata": {
    "ExecuteTime": {
     "end_time": "2022-03-09T04:55:01.381439Z",
     "start_time": "2022-03-09T04:55:01.378270Z"
    }
   },
   "outputs": [
    {
     "data": {
      "text/plain": [
       "['Thor', 'thor']"
      ]
     },
     "execution_count": 66,
     "metadata": {},
     "output_type": "execute_result"
    }
   ],
   "source": [
    "re.findall(r'\\b[tT\\-]hor\\b', text)"
   ]
  },
  {
   "cell_type": "code",
   "execution_count": 119,
   "metadata": {
    "ExecuteTime": {
     "end_time": "2022-03-11T11:23:31.566412Z",
     "start_time": "2022-03-11T11:23:31.547521Z"
    }
   },
   "outputs": [
    {
     "data": {
      "text/plain": [
       "['Thor', 'thor', '-hor']"
      ]
     },
     "execution_count": 119,
     "metadata": {},
     "output_type": "execute_result"
    }
   ],
   "source": [
    "re.findall(r'\\b[tT\\-]hor\\b', text+' b-hor')"
   ]
  },
  {
   "cell_type": "markdown",
   "metadata": {},
   "source": [
    "<div class=\"alert-success\">\n",
    "try () instead of []\n",
    "</div>"
   ]
  },
  {
   "cell_type": "code",
   "execution_count": 67,
   "metadata": {
    "ExecuteTime": {
     "end_time": "2022-03-09T04:55:02.030948Z",
     "start_time": "2022-03-09T04:55:02.021545Z"
    }
   },
   "outputs": [
    {
     "data": {
      "text/plain": [
       "[]"
      ]
     },
     "execution_count": 67,
     "metadata": {},
     "output_type": "execute_result"
    }
   ],
   "source": [
    "re.findall(r'\\b(tT\\-)hor\\b', text)"
   ]
  },
  {
   "cell_type": "markdown",
   "metadata": {},
   "source": [
    "<div class=\"alert-success\">\n",
    "’cause no exact \"tT-hor\" exists\n",
    "</div>"
   ]
  },
  {
   "cell_type": "code",
   "execution_count": 118,
   "metadata": {
    "ExecuteTime": {
     "end_time": "2022-03-11T11:22:54.877474Z",
     "start_time": "2022-03-11T11:22:54.865578Z"
    }
   },
   "outputs": [
    {
     "data": {
      "text/plain": [
       "['tT-']"
      ]
     },
     "execution_count": 118,
     "metadata": {},
     "output_type": "execute_result"
    }
   ],
   "source": [
    "re.findall(r'\\b(tT\\-)hor\\b', text+' tT-hor')"
   ]
  },
  {
   "cell_type": "markdown",
   "metadata": {},
   "source": [
    "<div class=\"alert-success\">\n",
    "the difference between [] and () is that [] stands for range, which means any character within [] is considered at the same time,\n",
    "</div>\n",
    "\n",
    "<div class=\"alert-success\">\n",
    "while () means group, which means it regard characters within as a whole. If need to be separate, then | is needed\n",
    "</div>\n",
    "\n",
    "<div class=\"alert-success\">\n",
    "i.e. [xyz] == (x|y|z)\n",
    "</div>"
   ]
  },
  {
   "cell_type": "code",
   "execution_count": 121,
   "metadata": {
    "ExecuteTime": {
     "end_time": "2022-03-11T11:31:27.617844Z",
     "start_time": "2022-03-11T11:31:27.609442Z"
    }
   },
   "outputs": [
    {
     "data": {
      "text/plain": [
       "['t', 'T', 't', 't']"
      ]
     },
     "execution_count": 121,
     "metadata": {},
     "output_type": "execute_result"
    }
   ],
   "source": [
    "re.findall(r'(t|T)hor', text)"
   ]
  },
  {
   "cell_type": "code",
   "execution_count": 120,
   "metadata": {
    "ExecuteTime": {
     "end_time": "2022-03-11T11:31:19.581172Z",
     "start_time": "2022-03-11T11:31:19.572422Z"
    }
   },
   "outputs": [
    {
     "data": {
      "text/plain": [
       "['thor', 'Thor', 'thor', 'thor']"
      ]
     },
     "execution_count": 120,
     "metadata": {},
     "output_type": "execute_result"
    }
   ],
   "source": [
    "re.findall(r'(?:t|T)hor', text)"
   ]
  },
  {
   "cell_type": "markdown",
   "metadata": {},
   "source": [
    "<div class=\"alert-success\">\n",
    "    back to \"?:\"\n",
    "</div>\n",
    "\n",
    "<div class=\"alert-success\">\n",
    "    (abc) means caputure group, while (?:abc) means non-capturing group\n",
    "</div>\n",
    "\n",
    "<div class=\"alert-success\">\n",
    "    in this case, w/o \"?:\", it will only capture token within ()\n",
    "</div>\n",
    "\n",
    "<div class=\"alert-success\">\n",
    "    w/ \"?:\", it captures tokens both within () and beyond ()\n",
    "</div>"
   ]
  },
  {
   "cell_type": "markdown",
   "metadata": {},
   "source": [
    "<div class=\"alert-success\">\n",
    "    another example:\n",
    "</div>"
   ]
  },
  {
   "cell_type": "code",
   "execution_count": 129,
   "metadata": {
    "ExecuteTime": {
     "end_time": "2022-03-11T11:51:27.387075Z",
     "start_time": "2022-03-11T11:51:27.381489Z"
    }
   },
   "outputs": [],
   "source": [
    "s1 = 'I want a burger. I ate a hamburger and a love burgers.'"
   ]
  },
  {
   "cell_type": "code",
   "execution_count": 131,
   "metadata": {
    "ExecuteTime": {
     "end_time": "2022-03-11T11:51:44.375153Z",
     "start_time": "2022-03-11T11:51:44.362574Z"
    }
   },
   "outputs": [
    {
     "data": {
      "text/plain": [
       "['', 'ham', '']"
      ]
     },
     "execution_count": 131,
     "metadata": {},
     "output_type": "execute_result"
    }
   ],
   "source": [
    "re.findall(r'\\b(ham)?burgers?\\b', s1) # w/o ?:"
   ]
  },
  {
   "cell_type": "markdown",
   "metadata": {},
   "source": [
    "<div class=\"alert-success\">\n",
    "    len=3 'cause there are total 3 matches, yet only one truly has \"ham\" within it, thus two ''\n",
    "</div>"
   ]
  },
  {
   "cell_type": "code",
   "execution_count": 130,
   "metadata": {
    "ExecuteTime": {
     "end_time": "2022-03-11T11:51:27.704106Z",
     "start_time": "2022-03-11T11:51:27.700711Z"
    }
   },
   "outputs": [
    {
     "data": {
      "text/plain": [
       "['burger', 'hamburger', 'burgers']"
      ]
     },
     "execution_count": 130,
     "metadata": {},
     "output_type": "execute_result"
    }
   ],
   "source": [
    "re.findall(r'\\b(?:ham)?burgers?\\b', s1) # w/ ?:"
   ]
  },
  {
   "cell_type": "code",
   "execution_count": null,
   "metadata": {},
   "outputs": [],
   "source": []
  },
  {
   "cell_type": "code",
   "execution_count": null,
   "metadata": {},
   "outputs": [],
   "source": []
  },
  {
   "cell_type": "code",
   "execution_count": null,
   "metadata": {},
   "outputs": [],
   "source": []
  },
  {
   "cell_type": "code",
   "execution_count": 120,
   "metadata": {},
   "outputs": [],
   "source": [
    "sample_text = \"My son is a kid, I wish had had more sons.\""
   ]
  },
  {
   "cell_type": "code",
   "execution_count": 121,
   "metadata": {},
   "outputs": [
    {
     "data": {
      "text/plain": [
       "['son', 'kid', 'sons']"
      ]
     },
     "execution_count": 121,
     "metadata": {},
     "output_type": "execute_result"
    }
   ],
   "source": [
    "re.findall(r'(kid|sons|son|kids)', sample_text)"
   ]
  },
  {
   "cell_type": "code",
   "execution_count": null,
   "metadata": {},
   "outputs": [],
   "source": [
    "#34&Hello#34&"
   ]
  },
  {
   "cell_type": "code",
   "execution_count": 74,
   "metadata": {
    "ExecuteTime": {
     "end_time": "2022-03-09T05:05:43.411783Z",
     "start_time": "2022-03-09T05:05:43.397065Z"
    }
   },
   "outputs": [
    {
     "data": {
      "text/plain": [
       "['Thor', 'thor']"
      ]
     },
     "execution_count": 74,
     "metadata": {},
     "output_type": "execute_result"
    }
   ],
   "source": [
    "text = \"A thorough examination of the movie shows Thor was a thorn in the side of the villains, both then and now. thor.\"\n",
    "re.findall(r'\\b(thor|Thor)\\b', text) # notice the use of the r string prefix!"
   ]
  },
  {
   "cell_type": "code",
   "execution_count": null,
   "metadata": {},
   "outputs": [],
   "source": [
    "# pandas\n",
    "dickens_text_df[\"results\"] = dickens_text_df[\"line\"].str.findall(r'\\bthe\\b')\n",
    "dickens_text_df.head(5)"
   ]
  },
  {
   "cell_type": "markdown",
   "metadata": {},
   "source": [
    "### Removing Stopwords Using Regex"
   ]
  },
  {
   "cell_type": "code",
   "execution_count": 75,
   "metadata": {
    "ExecuteTime": {
     "end_time": "2022-03-09T05:05:47.219938Z",
     "start_time": "2022-03-09T05:05:47.204923Z"
    }
   },
   "outputs": [
    {
     "data": {
      "text/plain": [
       "'A thorough examination of  movie shows Thor was a thorn in  side of  villains, both n and now. thor.'"
      ]
     },
     "execution_count": 75,
     "metadata": {},
     "output_type": "execute_result"
    }
   ],
   "source": [
    "# re\n",
    "# text = re.sub('(the|The)', '', text, flags=re.IGNORECASE)\n",
    "re.sub('(?:the|The)', '', text, flags=re.IGNORECASE)"
   ]
  },
  {
   "cell_type": "markdown",
   "metadata": {},
   "source": [
    "<div class=\"alert-success\">\n",
    "it mistakely changes \"then\"\n",
    "</div>"
   ]
  },
  {
   "cell_type": "markdown",
   "metadata": {},
   "source": [
    "<div class=\"alert-success\">\n",
    "thus use \\b\n",
    "</div>"
   ]
  },
  {
   "cell_type": "markdown",
   "metadata": {},
   "source": [
    "<div class=\"alert-success\">\n",
    "flags=re.IGNORECASE is useful\n",
    "</div>"
   ]
  },
  {
   "cell_type": "code",
   "execution_count": 76,
   "metadata": {
    "ExecuteTime": {
     "end_time": "2022-03-09T05:05:48.376921Z",
     "start_time": "2022-03-09T05:05:48.361098Z"
    }
   },
   "outputs": [
    {
     "data": {
      "text/plain": [
       "'A thorough examination of the movie shows Thor was a thorn in the side of the villains, both then and now. thor.'"
      ]
     },
     "execution_count": 76,
     "metadata": {},
     "output_type": "execute_result"
    }
   ],
   "source": [
    "re.sub('\\b(?:the|The)\\b', '', text, flags=re.IGNORECASE)"
   ]
  },
  {
   "cell_type": "markdown",
   "metadata": {},
   "source": [
    "<div class=\"alert-danger\">\n",
    "not working!!!!\n",
    "</div>"
   ]
  },
  {
   "cell_type": "code",
   "execution_count": 77,
   "metadata": {
    "ExecuteTime": {
     "end_time": "2022-03-09T05:06:47.676092Z",
     "start_time": "2022-03-09T05:06:47.664796Z"
    }
   },
   "outputs": [
    {
     "data": {
      "text/plain": [
       "'A thorough examination of the movie shows Thor was a thorn in the side of the villains, both then and now. thor.'"
      ]
     },
     "execution_count": 77,
     "metadata": {},
     "output_type": "execute_result"
    }
   ],
   "source": [
    "re.sub('\\b(?:the|The)\\b', 'BOOHOO', text, flags=re.IGNORECASE)"
   ]
  },
  {
   "cell_type": "markdown",
   "metadata": {},
   "source": [
    "<div class=\"alert-success\">\n",
    "use re.sub to standardize words\n",
    "</div>"
   ]
  },
  {
   "cell_type": "code",
   "execution_count": 122,
   "metadata": {
    "ExecuteTime": {
     "end_time": "2022-03-11T11:39:06.182678Z",
     "start_time": "2022-03-11T11:39:06.173892Z"
    }
   },
   "outputs": [],
   "source": [
    "s1 = 'I want a burger. I ate a hamburger and a love burgers.'"
   ]
  },
  {
   "cell_type": "code",
   "execution_count": 126,
   "metadata": {
    "ExecuteTime": {
     "end_time": "2022-03-11T11:41:06.963555Z",
     "start_time": "2022-03-11T11:41:06.946318Z"
    }
   },
   "outputs": [
    {
     "data": {
      "text/plain": [
       "[]"
      ]
     },
     "execution_count": 126,
     "metadata": {},
     "output_type": "execute_result"
    }
   ],
   "source": [
    "re.findall('\\b(?:ham)?burgers?\\b', s1) # w/o r"
   ]
  },
  {
   "cell_type": "markdown",
   "metadata": {},
   "source": [
    "<div class=\"alert-success\">\n",
    "remember to put \"r\" before the pattern!!! Otherwise, it may be regarded as a specific pattern\n",
    "</div>"
   ]
  },
  {
   "cell_type": "code",
   "execution_count": 127,
   "metadata": {
    "ExecuteTime": {
     "end_time": "2022-03-11T11:41:14.525541Z",
     "start_time": "2022-03-11T11:41:14.509637Z"
    }
   },
   "outputs": [
    {
     "data": {
      "text/plain": [
       "['burger', 'hamburger', 'burgers']"
      ]
     },
     "execution_count": 127,
     "metadata": {},
     "output_type": "execute_result"
    }
   ],
   "source": [
    "re.findall(r'\\b(?:ham)?burgers?\\b', s1) # w/ r"
   ]
  },
  {
   "cell_type": "code",
   "execution_count": 128,
   "metadata": {
    "ExecuteTime": {
     "end_time": "2022-03-11T11:42:39.595532Z",
     "start_time": "2022-03-11T11:42:39.580130Z"
    }
   },
   "outputs": [
    {
     "data": {
      "text/plain": [
       "'I want a _BURGER_. I ate a _BURGER_ and a love _BURGER_.'"
      ]
     },
     "execution_count": 128,
     "metadata": {},
     "output_type": "execute_result"
    }
   ],
   "source": [
    "re.sub(r'\\b(?:ham)?burgers?\\b', '_BURGER_', s1)"
   ]
  },
  {
   "cell_type": "markdown",
   "metadata": {},
   "source": [
    "<div class=\"alert-success\">\n",
    "then, can do word count for BURGER\n",
    "</div>"
   ]
  },
  {
   "cell_type": "code",
   "execution_count": null,
   "metadata": {},
   "outputs": [],
   "source": []
  },
  {
   "cell_type": "code",
   "execution_count": null,
   "metadata": {},
   "outputs": [],
   "source": []
  },
  {
   "cell_type": "code",
   "execution_count": null,
   "metadata": {},
   "outputs": [],
   "source": [
    "# pandas\n",
    "\n",
    "dickens_text_df[\"results\"] = dickens_text_df[\"line\"].str.replace(r'\\bthe\\b', '', case=False)\n",
    "dickens_text_df.head()"
   ]
  },
  {
   "cell_type": "markdown",
   "metadata": {},
   "source": [
    "### Regex Exercises\n",
    "\n",
    "Write the Python code needed in order to answer each of the following questions.\n",
    "\n",
    "1. One of the main characters in **A Tale of Two Cities** is `Sydney Carton`. How many times is the word `Carton` used?\n",
    "2. How many times does the word `the` appear in the novel?\n",
    "3. How many words of 3 or more characters in length appear in all caps in the novel **A Tale of Two Cities**?\n",
    "4. How would you find replace the stopword `the` using regex from `Tale of Two Cities`\n",
    "5. What percentage of lines in Dickens' text contain adverbs? For now, you can classify an adverb as a word that ends in `ly`.\n",
    "6. One many times does Charles Dickens use the pattern `WORD, WORD, and WORD` in this novel (for example `red, bluff, and free`)?\n",
    "\n",
    "7. Open https://regexr.com/. Write a regular expression that parses the phone numbers from the following text:  \n",
    "> *My phone number is 860-941-5955. But you can also call me at my international number, +011-47-324-941-8292*\n",
    "\n",
    "8. Write a regular expression that parses out **all hashtags** used in a tweet:\n",
    "> *people saying #GoT is boring after watching 3 episodes lmao yall are so used to mediocrity and fast paced stories without any depth and complexity in it’s characters so y’all can’t appreciate it’s the #1 show in America, but GoT outsold for a reason #GameOfThrones #LevelUpSon*"
   ]
  },
  {
   "cell_type": "markdown",
   "metadata": {},
   "source": [
    "# Encoding Schemes\n",
    "\n",
    "This is not a computer science class, but in your practical work, you will frequently have to deal with text that is encoded in a variety of styles. Understanding the difference between them is key.\n",
    "\n",
    "### Implications for Data Science\n",
    "\n",
    "Reasons I've encountered in my own work with NLP why it is beneficial to understand text encoding schemes:\n",
    "* If you are not using the right encoding, you cannot perform adequate feature engineering\n",
    "* Some data-scientists have simply \"thrown away\" samples of tweets, social media comments that seem \"mal-formed\" but are actually simply just using a different encoding scheme\n",
    "\n",
    "\n",
    "## World Languages, in Context\n",
    "\n",
    "<figure>\n",
    "  <img src=\"https://raw.githubusercontent.com/ychennay/dso-560-nlp-text-analytics/main/images/most_popular_languages.png\" alt=\"my alt text\"/>\n",
    "</figure>\n",
    "\n",
    "## Bits and Bytes\n",
    "\n",
    "- Computers, at its lowest level, store everything in the form of bits (either a 0 or a 1). The amount of information that can be represented in a computer is determined by the number of bits.\n",
    "\n",
    "<figure>\n",
    "  <img src=\"https://raw.githubusercontent.com/ychennay/dso-560-nlp-text-analytics/main/images/hierarchy.png\" alt=\"my alt text\"/>\n",
    "</figure>"
   ]
  },
  {
   "cell_type": "markdown",
   "metadata": {},
   "source": [
    "<div class=\"alert-success\">\n",
    "    <p>tokens are usually words, inseparable. Yet not always, e.g. New York City is not three tokens\n",
    "    <p>strings are sequences of characters\n",
    "</div>"
   ]
  },
  {
   "cell_type": "markdown",
   "metadata": {},
   "source": [
    "For instance, a using only 4 bits, you can store **$2^4$ = 16** different values.\n",
    "<figure>\n",
    "  <img src=\"https://raw.githubusercontent.com/ychennay/dso-560-nlp-text-analytics/main/images/binary.png\" alt=\"my alt text\"/>\n",
    "    <figcaption><i>How <b>$101010$</b> is converted to decimal (human-readable numbers): each of the green numbers is summed up to equal 42.</i></figcaption>\n",
    "</figure>\n",
    "\n",
    "It is not physically efficient for a computer to try to read one bit at a time, so typically data is stored in **8-bit** groups called **bytes**.\n",
    "\n",
    "### Exercises\n",
    "\n",
    "1. How many bits (0s and 1s) does it take to represent **4 different characters**?\n",
    "2. How many bits (0s and 1s does it take to represent **128 different characters**?\n",
    "\n",
    "## ASCII\n",
    "\n",
    "The oldest, yet still relevant encoding style to be aware of is **ASCII**, where computers represent text (**every character on a keyboard**) initially as a number between 0 and 127 (question: how many bits does it take to do this?)\n",
    "\n",
    "<figure>\n",
    "  <img src=\"https://raw.githubusercontent.com/ychennay/dso-560-nlp-text-analytics/main/images/ascii.svg\" alt=\"my alt text\"/>\n",
    "    <figcaption><i>ASCII table converting numbers to characters.<b>(Wikipedia)</b></i></figcaption>\n",
    "</figure>\n",
    "\n",
    "*If the smallest amount of data a computer can realistically read in is a byte (**8-bits**), why is ASCII only **7-bits**?* The last bit was a **parity bit** is used for **error checking** - to ensure that the data wasn't corrected or unintentionally altered."
   ]
  },
  {
   "cell_type": "markdown",
   "metadata": {},
   "source": [
    "<div class='alert-success'>\n",
    "    computers read things in 8-bits, i.e. bytes\n",
    "    </div>"
   ]
  },
  {
   "cell_type": "markdown",
   "metadata": {},
   "source": [
    "### Encoding/Decoding Words\n",
    "\n",
    "How would you write the word `Data` using ASCII encoding?\n",
    "\n",
    "#### Steps:\n",
    "\n",
    "1. Look up the \"codepoint\" for the first character (`D`).\n",
    "\n",
    "When you look up the character map value for `D`, its corresponding codepoint is `68`. Note that this is a different codepoint than lowercase `d`.\n",
    "\n",
    "2. Write out that number in binary.\n",
    "\n",
    "<figure>\n",
    "  <img src=\"https://raw.githubusercontent.com/ychennay/dso-560-nlp-text-analytics/main/images/empty_binary_workbook.png\" alt=\"my alt text\"/>\n",
    "</figure>\n",
    "\n",
    "<figure>\n",
    "  <img src=\"https://raw.githubusercontent.com/ychennay/dso-560-nlp-text-analytics/main/images/full_binary_workbook.png\" alt=\"my alt text\"/>\n",
    "</figure>\n",
    "\n",
    "The ASCII binary encoding for `D` is `1000100`.\n",
    "\n",
    "3. Repeat for `a`, `t`, and `a`.\n",
    "\n",
    "Use [this website to check your answer](https://www.rapidtables.com/convert/number/ascii-to-binary.html)."
   ]
  },
  {
   "cell_type": "markdown",
   "metadata": {},
   "source": [
    "![alt text](EncodeDs.png \"Title\")"
   ]
  },
  {
   "cell_type": "markdown",
   "metadata": {},
   "source": [
    "<div class='alert-success'>\n",
    "    check whether the fixed number (e.g. 64,32) is less than or equal to the remaining (e.g. 68,4)\n",
    "    </div>"
   ]
  },
  {
   "cell_type": "code",
   "execution_count": null,
   "metadata": {},
   "outputs": [],
   "source": [
    "# to find out your computer's default encoding system\n",
    "sys.getdefaultencoding()"
   ]
  },
  {
   "cell_type": "markdown",
   "metadata": {},
   "source": [
    "#### Exercises\n",
    "1. Convert the word `cat` to binary ASCII encoding.\n",
    "2. What word is represented by the following binary encoding? `01100001 01110010 01110100`"
   ]
  },
  {
   "cell_type": "markdown",
   "metadata": {},
   "source": [
    "\n",
    "### Python Code\n",
    "\n",
    "Do not worry about understanding what is happening inside the `get_binary_for_char` and `get_binary` functions. Just know that they take in a string and produce the 0s and 1s that the string is encoded in:"
   ]
  },
  {
   "cell_type": "code",
   "execution_count": 1,
   "metadata": {
    "ExecuteTime": {
     "end_time": "2022-03-23T02:01:35.421296Z",
     "start_time": "2022-03-23T02:01:35.407360Z"
    }
   },
   "outputs": [],
   "source": [
    "import re\n",
    "from typing import List\n",
    "\n",
    "def get_binary_for_char(char: str, encoding=\"utf-8\") -> str:\n",
    "    \"\"\"\n",
    "    Encodes a character using the desired encoding into its corresponding hex, then converts the\n",
    "    hex code into binary, formatted with tab spaces between byte marks.\n",
    "    \"\"\"\n",
    "\n",
    "    hex_code = char.encode(encoding).hex()\n",
    "    code_point = hex(ord(char))[2:].upper()\n",
    "\n",
    "    binary: str = f\"{int(hex_code, 16):08b}\"\n",
    "\n",
    "    byte_list: List[str] = re.findall('[01]{8}', binary)\n",
    "    formatted_binary: str = \"\\t\".join(byte_list)  # for variable length encoding, tab space between byte marks.\n",
    "    print(f\"{char} (U+{code_point.zfill(4)}, hex:{hex_code}) - {encoding}: {formatted_binary}\")\n",
    "    return formatted_binary\n",
    "\n",
    "\n",
    "def get_binary(text: str, encoding=\"utf-8\"):\n",
    "    return \" \".join([get_binary_for_char(char, encoding) for char in text])"
   ]
  },
  {
   "cell_type": "code",
   "execution_count": 2,
   "metadata": {
    "ExecuteTime": {
     "end_time": "2022-03-23T02:02:44.785230Z",
     "start_time": "2022-03-23T02:02:44.757454Z"
    }
   },
   "outputs": [
    {
     "name": "stdout",
     "output_type": "stream",
     "text": [
      "D (U+0044, hex:44) - utf-8: 01000100\n",
      "a (U+0061, hex:61) - utf-8: 01100001\n",
      "t (U+0074, hex:74) - utf-8: 01110100\n",
      "a (U+0061, hex:61) - utf-8: 01100001\n"
     ]
    },
    {
     "data": {
      "text/plain": [
       "'01000100 01100001 01110100 01100001'"
      ]
     },
     "execution_count": 2,
     "metadata": {},
     "output_type": "execute_result"
    }
   ],
   "source": [
    "# ASCII encoding of \"Data\"\n",
    "\n",
    "get_binary(\"Data\")"
   ]
  },
  {
   "cell_type": "markdown",
   "metadata": {},
   "source": [
    "<div class='alert-success'>\n",
    "    however, ASCII only represents 127 characters\n",
    "    </div>"
   ]
  },
  {
   "cell_type": "markdown",
   "metadata": {},
   "source": [
    "### Extended ASCII\n",
    "\n",
    "The dominant language in earlier eras of computing was English. People began to realize that ASCII was relatively limited, and even other European languages could not be properly supported. At the same time, transmission technology evolved to a standard of reliability such that the parity bit used for checking for errors was no longer needed. \n",
    "\n",
    "As a result, people began using the last (eighth) bit to extend the number of characters represented by ASCII from 128 characters to 256 characters."
   ]
  },
  {
   "cell_type": "markdown",
   "metadata": {},
   "source": [
    "<div class='alert-success'>\n",
    "    among entended ASCII, there are many schemas, see below:\n",
    "    </div>"
   ]
  },
  {
   "cell_type": "markdown",
   "metadata": {},
   "source": [
    "#### Latin-1\n",
    "\n",
    "Character map [available here](https://www.htmlhelp.com/reference/charset/latin1.gif).\n",
    "\n",
    "Characters such as `Ç` (pronounced `ch` in Turkish, for instance), is represented by the number `199`. The Spanish word `año` (year) includes a character `ñ` that would be represented by the code point `241`.\n",
    "\n",
    "#### Excel on Macs\n",
    "\n",
    "Macs commonly use [Mac OS Roman encoding](https://en.wikipedia.org/wiki/Mac_OS_Roman). "
   ]
  },
  {
   "cell_type": "code",
   "execution_count": 3,
   "metadata": {
    "ExecuteTime": {
     "end_time": "2022-03-23T02:06:08.308139Z",
     "start_time": "2022-03-23T02:06:08.283990Z"
    }
   },
   "outputs": [
    {
     "name": "stdout",
     "output_type": "stream",
     "text": [
      "D (U+0044, hex:44) - latin1: 01000100\n",
      "a (U+0061, hex:61) - latin1: 01100001\n",
      "t (U+0074, hex:74) - latin1: 01110100\n",
      "a (U+0061, hex:61) - latin1: 01100001\n"
     ]
    },
    {
     "data": {
      "text/plain": [
       "'01000100 01100001 01110100 01100001'"
      ]
     },
     "execution_count": 3,
     "metadata": {},
     "output_type": "execute_result"
    }
   ],
   "source": [
    "# latin1 encoding of \"cat\"\n",
    "get_binary(\"Data\", encoding=\"latin1\")"
   ]
  },
  {
   "cell_type": "code",
   "execution_count": 4,
   "metadata": {
    "ExecuteTime": {
     "end_time": "2022-03-23T02:06:17.072737Z",
     "start_time": "2022-03-23T02:06:17.056861Z"
    }
   },
   "outputs": [
    {
     "name": "stdout",
     "output_type": "stream",
     "text": [
      "D (U+0044, hex:44) - ascii: 01000100\n",
      "a (U+0061, hex:61) - ascii: 01100001\n",
      "t (U+0074, hex:74) - ascii: 01110100\n",
      "a (U+0061, hex:61) - ascii: 01100001\n"
     ]
    },
    {
     "data": {
      "text/plain": [
       "'01000100 01100001 01110100 01100001'"
      ]
     },
     "execution_count": 4,
     "metadata": {},
     "output_type": "execute_result"
    }
   ],
   "source": [
    "# latin1 encoding of \"cat\"\n",
    "get_binary(\"Data\", encoding=\"ascii\")"
   ]
  },
  {
   "cell_type": "markdown",
   "metadata": {},
   "source": [
    "<div class='alert-success'>\n",
    "    <p>each schema is built based on each other, thus always has same part (first 128) for common characters\n",
    "    <p>however, for different operating systems, there do exist differences\n",
    "    </div>"
   ]
  },
  {
   "cell_type": "code",
   "execution_count": 6,
   "metadata": {
    "ExecuteTime": {
     "end_time": "2022-03-23T02:09:37.496546Z",
     "start_time": "2022-03-23T02:09:37.382039Z"
    }
   },
   "outputs": [
    {
     "ename": "UnicodeEncodeError",
     "evalue": "'ascii' codec can't encode character '\\U0001f60d' in position 0: ordinal not in range(128)",
     "output_type": "error",
     "traceback": [
      "\u001b[0;31m---------------------------------------------------------------------------\u001b[0m",
      "\u001b[0;31mUnicodeEncodeError\u001b[0m                        Traceback (most recent call last)",
      "\u001b[0;32m<ipython-input-6-6ffe710fc4d3>\u001b[0m in \u001b[0;36m<module>\u001b[0;34m\u001b[0m\n\u001b[1;32m      1\u001b[0m \u001b[0;31m# encoding Cuántas\u001b[0m\u001b[0;34m\u001b[0m\u001b[0;34m\u001b[0m\u001b[0;34m\u001b[0m\u001b[0m\n\u001b[1;32m      2\u001b[0m \u001b[0;34m\u001b[0m\u001b[0m\n\u001b[0;32m----> 3\u001b[0;31m \u001b[0mget_binary\u001b[0m\u001b[0;34m(\u001b[0m\u001b[0;34m\"😍\"\u001b[0m\u001b[0;34m,\u001b[0m \u001b[0mencoding\u001b[0m\u001b[0;34m=\u001b[0m\u001b[0;34m\"ascii\"\u001b[0m\u001b[0;34m)\u001b[0m\u001b[0;34m\u001b[0m\u001b[0;34m\u001b[0m\u001b[0m\n\u001b[0m",
      "\u001b[0;32m<ipython-input-1-fdcec7a9a852>\u001b[0m in \u001b[0;36mget_binary\u001b[0;34m(text, encoding)\u001b[0m\n\u001b[1;32m     20\u001b[0m \u001b[0;34m\u001b[0m\u001b[0m\n\u001b[1;32m     21\u001b[0m \u001b[0;32mdef\u001b[0m \u001b[0mget_binary\u001b[0m\u001b[0;34m(\u001b[0m\u001b[0mtext\u001b[0m\u001b[0;34m:\u001b[0m \u001b[0mstr\u001b[0m\u001b[0;34m,\u001b[0m \u001b[0mencoding\u001b[0m\u001b[0;34m=\u001b[0m\u001b[0;34m\"utf-8\"\u001b[0m\u001b[0;34m)\u001b[0m\u001b[0;34m:\u001b[0m\u001b[0;34m\u001b[0m\u001b[0;34m\u001b[0m\u001b[0m\n\u001b[0;32m---> 22\u001b[0;31m     \u001b[0;32mreturn\u001b[0m \u001b[0;34m\" \"\u001b[0m\u001b[0;34m.\u001b[0m\u001b[0mjoin\u001b[0m\u001b[0;34m(\u001b[0m\u001b[0;34m[\u001b[0m\u001b[0mget_binary_for_char\u001b[0m\u001b[0;34m(\u001b[0m\u001b[0mchar\u001b[0m\u001b[0;34m,\u001b[0m \u001b[0mencoding\u001b[0m\u001b[0;34m)\u001b[0m \u001b[0;32mfor\u001b[0m \u001b[0mchar\u001b[0m \u001b[0;32min\u001b[0m \u001b[0mtext\u001b[0m\u001b[0;34m]\u001b[0m\u001b[0;34m)\u001b[0m\u001b[0;34m\u001b[0m\u001b[0;34m\u001b[0m\u001b[0m\n\u001b[0m",
      "\u001b[0;32m<ipython-input-1-fdcec7a9a852>\u001b[0m in \u001b[0;36m<listcomp>\u001b[0;34m(.0)\u001b[0m\n\u001b[1;32m     20\u001b[0m \u001b[0;34m\u001b[0m\u001b[0m\n\u001b[1;32m     21\u001b[0m \u001b[0;32mdef\u001b[0m \u001b[0mget_binary\u001b[0m\u001b[0;34m(\u001b[0m\u001b[0mtext\u001b[0m\u001b[0;34m:\u001b[0m \u001b[0mstr\u001b[0m\u001b[0;34m,\u001b[0m \u001b[0mencoding\u001b[0m\u001b[0;34m=\u001b[0m\u001b[0;34m\"utf-8\"\u001b[0m\u001b[0;34m)\u001b[0m\u001b[0;34m:\u001b[0m\u001b[0;34m\u001b[0m\u001b[0;34m\u001b[0m\u001b[0m\n\u001b[0;32m---> 22\u001b[0;31m     \u001b[0;32mreturn\u001b[0m \u001b[0;34m\" \"\u001b[0m\u001b[0;34m.\u001b[0m\u001b[0mjoin\u001b[0m\u001b[0;34m(\u001b[0m\u001b[0;34m[\u001b[0m\u001b[0mget_binary_for_char\u001b[0m\u001b[0;34m(\u001b[0m\u001b[0mchar\u001b[0m\u001b[0;34m,\u001b[0m \u001b[0mencoding\u001b[0m\u001b[0;34m)\u001b[0m \u001b[0;32mfor\u001b[0m \u001b[0mchar\u001b[0m \u001b[0;32min\u001b[0m \u001b[0mtext\u001b[0m\u001b[0;34m]\u001b[0m\u001b[0;34m)\u001b[0m\u001b[0;34m\u001b[0m\u001b[0;34m\u001b[0m\u001b[0m\n\u001b[0m",
      "\u001b[0;32m<ipython-input-1-fdcec7a9a852>\u001b[0m in \u001b[0;36mget_binary_for_char\u001b[0;34m(char, encoding)\u001b[0m\n\u001b[1;32m      8\u001b[0m     \"\"\"\n\u001b[1;32m      9\u001b[0m \u001b[0;34m\u001b[0m\u001b[0m\n\u001b[0;32m---> 10\u001b[0;31m     \u001b[0mhex_code\u001b[0m \u001b[0;34m=\u001b[0m \u001b[0mchar\u001b[0m\u001b[0;34m.\u001b[0m\u001b[0mencode\u001b[0m\u001b[0;34m(\u001b[0m\u001b[0mencoding\u001b[0m\u001b[0;34m)\u001b[0m\u001b[0;34m.\u001b[0m\u001b[0mhex\u001b[0m\u001b[0;34m(\u001b[0m\u001b[0;34m)\u001b[0m\u001b[0;34m\u001b[0m\u001b[0;34m\u001b[0m\u001b[0m\n\u001b[0m\u001b[1;32m     11\u001b[0m     \u001b[0mcode_point\u001b[0m \u001b[0;34m=\u001b[0m \u001b[0mhex\u001b[0m\u001b[0;34m(\u001b[0m\u001b[0mord\u001b[0m\u001b[0;34m(\u001b[0m\u001b[0mchar\u001b[0m\u001b[0;34m)\u001b[0m\u001b[0;34m)\u001b[0m\u001b[0;34m[\u001b[0m\u001b[0;36m2\u001b[0m\u001b[0;34m:\u001b[0m\u001b[0;34m]\u001b[0m\u001b[0;34m.\u001b[0m\u001b[0mupper\u001b[0m\u001b[0;34m(\u001b[0m\u001b[0;34m)\u001b[0m\u001b[0;34m\u001b[0m\u001b[0;34m\u001b[0m\u001b[0m\n\u001b[1;32m     12\u001b[0m \u001b[0;34m\u001b[0m\u001b[0m\n",
      "\u001b[0;31mUnicodeEncodeError\u001b[0m: 'ascii' codec can't encode character '\\U0001f60d' in position 0: ordinal not in range(128)"
     ]
    }
   ],
   "source": [
    "# encoding Cuántas\n",
    "\n",
    "get_binary(\"😍\", encoding=\"ascii\")"
   ]
  },
  {
   "cell_type": "code",
   "execution_count": 7,
   "metadata": {
    "ExecuteTime": {
     "end_time": "2022-03-23T02:17:21.662989Z",
     "start_time": "2022-03-23T02:17:21.649464Z"
    }
   },
   "outputs": [
    {
     "data": {
      "text/plain": [
       "128525"
      ]
     },
     "execution_count": 7,
     "metadata": {},
     "output_type": "execute_result"
    }
   ],
   "source": [
    "ord(\"😍\")"
   ]
  },
  {
   "cell_type": "markdown",
   "metadata": {},
   "source": [
    "<div class='alert-success'>\n",
    "    <p>it tells the utf-8 codepoint\n",
    "    </div>"
   ]
  },
  {
   "cell_type": "code",
   "execution_count": 5,
   "metadata": {
    "ExecuteTime": {
     "end_time": "2022-03-23T02:08:20.438272Z",
     "start_time": "2022-03-23T02:08:20.428822Z"
    }
   },
   "outputs": [
    {
     "name": "stdout",
     "output_type": "stream",
     "text": [
      "😍 (U+1F60D, hex:f09f988d) - utf8: 11110000\t10011111\t10011000\t10001101\n"
     ]
    },
    {
     "data": {
      "text/plain": [
       "'11110000\\t10011111\\t10011000\\t10001101'"
      ]
     },
     "execution_count": 5,
     "metadata": {},
     "output_type": "execute_result"
    }
   ],
   "source": [
    "# encoding Cuántas\n",
    "\n",
    "get_binary(\"😍\", encoding=\"utf8\")"
   ]
  },
  {
   "cell_type": "markdown",
   "metadata": {},
   "source": [
    "<div class='alert-success'>\n",
    "    <p>ASCII can't represent emojis, which beyond 128 characters\n",
    "    <p>while utf8 can. every word has a codepoint, which is turned into 1/0s\n",
    "    <p>ref: https://unicode-table.com/en/search/?q=A\n",
    "    </div>"
   ]
  },
  {
   "cell_type": "markdown",
   "metadata": {},
   "source": [
    "In Python, to convert from bytes to strings, you use the `encode()` and `decode()` functions. \n",
    "\n",
    "### Turning Strings into Bytes"
   ]
  },
  {
   "cell_type": "code",
   "execution_count": 134,
   "metadata": {},
   "outputs": [
    {
     "name": "stdout",
     "output_type": "stream",
     "text": [
      "Using latin1 encoding: b'm\\xe1s'\n"
     ]
    },
    {
     "ename": "UnicodeEncodeError",
     "evalue": "'ascii' codec can't encode character '\\xe1' in position 1: ordinal not in range(128)",
     "output_type": "error",
     "traceback": [
      "\u001b[0;31m---------------------------------------------------------------------------\u001b[0m",
      "\u001b[0;31mUnicodeEncodeError\u001b[0m                        Traceback (most recent call last)",
      "\u001b[0;32m<ipython-input-134-f27879f083c0>\u001b[0m in \u001b[0;36m<module>\u001b[0;34m\u001b[0m\n\u001b[1;32m      1\u001b[0m \u001b[0;31m# Using Python's encode/decode:\u001b[0m\u001b[0;34m\u001b[0m\u001b[0;34m\u001b[0m\u001b[0;34m\u001b[0m\u001b[0m\n\u001b[1;32m      2\u001b[0m \u001b[0mprint\u001b[0m\u001b[0;34m(\u001b[0m\u001b[0;34m\"Using latin1 encoding:\"\u001b[0m\u001b[0;34m,\u001b[0m \u001b[0;34m\"más\"\u001b[0m\u001b[0;34m.\u001b[0m\u001b[0mencode\u001b[0m\u001b[0;34m(\u001b[0m\u001b[0mencoding\u001b[0m\u001b[0;34m=\u001b[0m\u001b[0;34m\"latin1\"\u001b[0m\u001b[0;34m)\u001b[0m\u001b[0;34m)\u001b[0m\u001b[0;34m\u001b[0m\u001b[0;34m\u001b[0m\u001b[0m\n\u001b[0;32m----> 3\u001b[0;31m \u001b[0mprint\u001b[0m\u001b[0;34m(\u001b[0m\u001b[0;34m\"Using ASCII encoding:\"\u001b[0m\u001b[0;34m,\u001b[0m \u001b[0;34m\"más\"\u001b[0m\u001b[0;34m.\u001b[0m\u001b[0mencode\u001b[0m\u001b[0;34m(\u001b[0m\u001b[0mencoding\u001b[0m\u001b[0;34m=\u001b[0m\u001b[0;34m\"ascii\"\u001b[0m\u001b[0;34m)\u001b[0m\u001b[0;34m)\u001b[0m\u001b[0;34m\u001b[0m\u001b[0;34m\u001b[0m\u001b[0m\n\u001b[0m",
      "\u001b[0;31mUnicodeEncodeError\u001b[0m: 'ascii' codec can't encode character '\\xe1' in position 1: ordinal not in range(128)"
     ]
    }
   ],
   "source": [
    "# Using Python's encode/decode:\n",
    "print(\"Using latin1 encoding:\", \"más\".encode(encoding=\"latin1\"))\n",
    "print(\"Using ASCII encoding:\", \"más\".encode(encoding=\"ascii\"))"
   ]
  },
  {
   "cell_type": "markdown",
   "metadata": {},
   "source": [
    "### Turning Bytes into Strings"
   ]
  },
  {
   "cell_type": "code",
   "execution_count": null,
   "metadata": {},
   "outputs": [],
   "source": [
    "file = open(\"test.txt\", mode=\"rb\")\n",
    "bytes_from_file = file.read()\n",
    "print(type(bytes_from_file))\n",
    "string_from_file = bytes_from_file.decode()\n",
    "print(type(string_from_file))"
   ]
  },
  {
   "cell_type": "markdown",
   "metadata": {},
   "source": [
    "#### Exercises\n",
    "\n",
    "1. Encode the word `más` in ASCII.\n",
    "2. Encode the word `más` in `latin1`.\n",
    "3. Decode the binary stream `01100011 01100001 01110100`. Assume that it is using `latin1` encoding."
   ]
  },
  {
   "cell_type": "markdown",
   "metadata": {},
   "source": [
    "## Unicode\n",
    "\n",
    "128 characters is not enough to represent the characters in other Languages, like **Greek, Turkish, Cyrillic**, etc., or newer social media phenomenons like **emojis**. Unicode stores text as either 8, 16, or 32 bits (1, 2, or 4 bytes). This means there's significantly more characters that can be encoded (approximately 1 billion characters).\n",
    "\n",
    "As a point of reference, there's a total of **50,000** characters in the Chinese language (but only around **15-20,000** that are used commonly).\n",
    "\n",
    "If you don't specify the right encoding to read in text, you'll end up with something like this:\n",
    "<figure>\n",
    "  <img src=\"https://raw.githubusercontent.com/ychennay/dso-560-nlp-text-analytics/main/images/mojibake.png\" alt=\"my alt text\"/>\n",
    "    <figcaption><i>Malformed characters because of incorrect encoding.<b>(Wikipedia)</b></i></figcaption>\n",
    "</figure>\n",
    "\n",
    "### UTF-8\n",
    "\n",
    "The default encoding scheme of the internet today is `UTF-8`.\n",
    "\n",
    "<figure>\n",
    "  <img src=\"https://raw.githubusercontent.com/ychennay/dso-560-nlp-text-analytics/main/images/encoding_shares.svg\" alt=\"my alt text\"/>\n",
    "    <figcaption><i>Share of web pages with different encodings.<b>(Wikipedia)</b></i></figcaption>\n",
    "</figure>\n",
    "\n",
    "There is another encoding schema very similar to `UTF-8` called `UTF-16`. You'll typically find it being used on Windows systems and within Java applications.\n"
   ]
  },
  {
   "cell_type": "markdown",
   "metadata": {},
   "source": [
    "<div class='alert-success'>\n",
    "    <p>UTF-8 can represent over 1 billion characters and is the most popular schema\n",
    "    <p>UTF-8 is not fixed in length, i.e. 1 or 2 bytes, it is rather adjustable in length\n",
    "    </div>"
   ]
  },
  {
   "cell_type": "markdown",
   "metadata": {},
   "source": [
    "#### Getting the Codepoint of a Character"
   ]
  },
  {
   "cell_type": "code",
   "execution_count": 7,
   "metadata": {},
   "outputs": [
    {
     "data": {
      "text/plain": [
       "128525"
      ]
     },
     "execution_count": 7,
     "metadata": {},
     "output_type": "execute_result"
    }
   ],
   "source": [
    "ord(\"😍\")"
   ]
  },
  {
   "cell_type": "markdown",
   "metadata": {},
   "source": [
    "#### Getting the Character from a Codepoint"
   ]
  },
  {
   "cell_type": "code",
   "execution_count": null,
   "metadata": {},
   "outputs": [],
   "source": [
    "chr(97) + chr(109)"
   ]
  },
  {
   "cell_type": "markdown",
   "metadata": {},
   "source": [
    "### Variable Length Encoding /Digitalization and Internationalization\n",
    "\n",
    "UTF-8 is the default encoding schema of the internet. Whenever you save files to disk, or read files in, your first choice should be to try using UTF-8. UTF-8 is an example of **variable-length encoding**. This means sometimes a character will take 8 bits to encode (represent), sometimes 16 bits, sometimes 24 bits, and sometimes 32 bits.\n",
    "\n",
    "UTF-8 uses **continuation bytes** for any character it needs to represent beyond 1 byte. These bytes always start with `10`.\n",
    "\n",
    "<figure>\n",
    "  <img src=\"https://raw.githubusercontent.com/ychennay/dso-560-nlp-text-analytics/main/images/continuation.png\" alt=\"my alt text\"/>\n",
    "    <figcaption><i>UTF-8 Continuation Bytes</i></figcaption>\n",
    "</figure>\n",
    "\n",
    "On the other hand, another encoding scheme is `UTF-32`- it always takes **32 bits**. "
   ]
  },
  {
   "cell_type": "markdown",
   "metadata": {},
   "source": [
    "<div class='alert-success'>\n",
    "    <p>this continuation pattern tells the computer it's a single 4-byte character, not 4 1-byte characters\n",
    "    <p>the true 110xxxxx would have to be represented in another way. As long as it's 110xxxxx, computers regard it as continuation bytes\n",
    "    </div>"
   ]
  },
  {
   "cell_type": "markdown",
   "metadata": {},
   "source": [
    "#### Data Science Implications\n",
    "UTF-8 should be your default encoding of choice when working with Big Data. Because the # of bits it takes to encode a character changes, it can be more \"storage-efficient\" on disk, and more \"memory-efficient\" when representing this text in memory. \n",
    "\n",
    "Many machine-learning algorithms (like **batch and mini-batch gradient descent**) will perform updates using batches of samples  (if not the entire dataaset). If you choose the wrong encoding, you will not be able to fit as many samples into your batch for training as you'd like - this means your model may require significantly more training time and perform worse."
   ]
  },
  {
   "cell_type": "code",
   "execution_count": 9,
   "metadata": {},
   "outputs": [
    {
     "name": "stdout",
     "output_type": "stream",
     "text": [
      "😍 (U+1F60D, hex:f09f988d) - utf8: 11110000\t10011111\t10011000\t10001101\n"
     ]
    },
    {
     "data": {
      "text/plain": [
       "'11110000\\t10011111\\t10011000\\t10001101'"
      ]
     },
     "execution_count": 9,
     "metadata": {},
     "output_type": "execute_result"
    }
   ],
   "source": [
    "get_binary(\"😍\", encoding=\"utf8\")"
   ]
  },
  {
   "cell_type": "code",
   "execution_count": 2,
   "metadata": {
    "scrolled": true
   },
   "outputs": [
    {
     "name": "stdout",
     "output_type": "stream",
     "text": [
      "I (U+0049, hex:49) - utf8: 01001001\n",
      "  (U+0020, hex:20) - utf8: 00100000\n",
      "😍 (U+1F60D, hex:f09f988d) - utf8: 11110000\t10011111\t10011000\t10001101\n",
      "  (U+0020, hex:20) - utf8: 00100000\n",
      "D (U+0044, hex:44) - utf8: 01000100\n",
      "S (U+0053, hex:53) - utf8: 01010011\n",
      "O (U+004F, hex:4f) - utf8: 01001111\n",
      "  (U+0020, hex:20) - utf8: 00100000\n",
      "5 (U+0035, hex:35) - utf8: 00110101\n",
      "9 (U+0039, hex:39) - utf8: 00111001\n",
      "9 (U+0039, hex:39) - utf8: 00111001\n"
     ]
    },
    {
     "data": {
      "text/plain": [
       "'01001001 00100000 11110000\\t10011111\\t10011000\\t10001101 00100000 01000100 01010011 01001111 00100000 00110101 00111001 00111001'"
      ]
     },
     "execution_count": 2,
     "metadata": {},
     "output_type": "execute_result"
    }
   ],
   "source": [
    "#get_binary(\"I 😍 DSO 599\", encoding=\"ascii\") # UnicodeEncodeError\n",
    "# get_binary(\"I 😍 DSO 599\", encoding=\"latin1\") # UnicodeEncodeError\n",
    "get_binary(\"I 😍 DSO 599\", encoding=\"utf8\")"
   ]
  },
  {
   "cell_type": "code",
   "execution_count": 8,
   "metadata": {},
   "outputs": [
    {
     "data": {
      "text/plain": [
       "128525"
      ]
     },
     "execution_count": 8,
     "metadata": {},
     "output_type": "execute_result"
    }
   ],
   "source": [
    "ord(\"😍\")"
   ]
  },
  {
   "cell_type": "code",
   "execution_count": 3,
   "metadata": {},
   "outputs": [
    {
     "name": "stdout",
     "output_type": "stream",
     "text": [
      "😍 (U+1F60D, hex:f09f988d) - utf8: 11110000\t10011111\t10011000\t10001101\n"
     ]
    },
    {
     "data": {
      "text/plain": [
       "'11110000\\t10011111\\t10011000\\t10001101'"
      ]
     },
     "execution_count": 3,
     "metadata": {},
     "output_type": "execute_result"
    }
   ],
   "source": []
  },
  {
   "cell_type": "markdown",
   "metadata": {},
   "source": [
    "## Next Week\n",
    "\n",
    "* `scikit-learn`, `nltk`, and `scipy` libraries for NLP (make sure to install each of these libraries\n",
    "* Bayes Rule, Naive Bayes, probability theory for text classification\n",
    "* Similiarity/distance measures\n",
    "* N-Grams\n",
    "* Tokenization, lemmatization, stemming\n",
    "* Basic word vectorization techniques: Count, TF-IDF, One-Hot encoding\n",
    "* Dimensionality Reduction"
   ]
  },
  {
   "cell_type": "markdown",
   "metadata": {},
   "source": [
    "### Check for Understanding\n",
    "\n",
    "1. Which of the encodings (ASCII, UTF-8, latin-1) will be able to encode this text: `사업`\n",
    "2. **True or False**: the word `dog` will have the same binary representation regardless of whether it is `ASCII`, `latin1`, or `utf8`. Explain - why.\n",
    "3. According to the Zipf Law approximation, approximately what frequency (express it has a percent) would the 3rd most popular word in a generic piece of text appear?\n",
    "4. **True or False**: what is considered a stopword changes depending on the business context and dataset you are working with. If true, provide an example. If false, explain why it is false.\n",
    "5. Explain to someone who does not understanding regular expressions what the following pattern is matching for: `b[a-z]+ly`."
   ]
  },
  {
   "cell_type": "code",
   "execution_count": null,
   "metadata": {},
   "outputs": [],
   "source": []
  },
  {
   "cell_type": "code",
   "execution_count": 81,
   "metadata": {
    "ExecuteTime": {
     "end_time": "2022-03-09T05:40:32.857622Z",
     "start_time": "2022-03-09T05:40:32.841696Z"
    }
   },
   "outputs": [
    {
     "data": {
      "text/plain": [
       "3.3333333333333335"
      ]
     },
     "execution_count": 81,
     "metadata": {},
     "output_type": "execute_result"
    }
   ],
   "source": [
    "0.1/3 *100"
   ]
  },
  {
   "cell_type": "markdown",
   "metadata": {},
   "source": [
    "***CW for week1:***\n",
    "\n",
    "3. 0.1/3 = 3.33%\n",
    "\n",
    "4. True. For example, in the context of grading, some \"A\"s would have the meaning of grades rather than a simple stopword, in which cases further process should be done. E.g. ”I got an A in the final.“\n",
    "\n",
    "5. `b[a-z]+ly` finds out all **parts** (not words) that start with `b`, end with `ly`, and have one or more little characters in between."
   ]
  },
  {
   "cell_type": "code",
   "execution_count": null,
   "metadata": {},
   "outputs": [],
   "source": []
  },
  {
   "cell_type": "code",
   "execution_count": null,
   "metadata": {},
   "outputs": [],
   "source": []
  }
 ],
 "metadata": {
  "kernelspec": {
   "display_name": "Python 3",
   "language": "python",
   "name": "python3"
  },
  "language_info": {
   "codemirror_mode": {
    "name": "ipython",
    "version": 3
   },
   "file_extension": ".py",
   "mimetype": "text/x-python",
   "name": "python",
   "nbconvert_exporter": "python",
   "pygments_lexer": "ipython3",
   "version": "3.7.11"
  },
  "toc": {
   "base_numbering": 1,
   "nav_menu": {},
   "number_sections": true,
   "sideBar": true,
   "skip_h1_title": false,
   "title_cell": "Table of Contents",
   "title_sidebar": "Contents",
   "toc_cell": true,
   "toc_position": {
    "height": "calc(100% - 180px)",
    "left": "10px",
    "top": "150px",
    "width": "271px"
   },
   "toc_section_display": true,
   "toc_window_display": true
  },
  "varInspector": {
   "cols": {
    "lenName": 16,
    "lenType": 16,
    "lenVar": 40
   },
   "kernels_config": {
    "python": {
     "delete_cmd_postfix": "",
     "delete_cmd_prefix": "del ",
     "library": "var_list.py",
     "varRefreshCmd": "print(var_dic_list())"
    },
    "r": {
     "delete_cmd_postfix": ") ",
     "delete_cmd_prefix": "rm(",
     "library": "var_list.r",
     "varRefreshCmd": "cat(var_dic_list()) "
    }
   },
   "types_to_exclude": [
    "module",
    "function",
    "builtin_function_or_method",
    "instance",
    "_Feature"
   ],
   "window_display": false
  }
 },
 "nbformat": 4,
 "nbformat_minor": 2
}
