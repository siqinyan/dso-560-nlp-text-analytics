{
 "cells": [
  {
   "cell_type": "markdown",
   "id": "sacred-fantasy",
   "metadata": {},
   "source": [
    "# Homework 1 (Due Tuesday, March 22, 2022 at 6:29pm PST)\n",
    "\n",
    "**Rubric**\n",
    "* Identified 4 major themes from the reviews (2pts)\n",
    "* Regex that groups / cleans the reviews is correctly implemented (4pts)\n",
    "* Word count is correctly implemented (2pts)\n",
    "* Analysis of recommendations and pitfalls/limitations are specific enough to be actionable (2pts)\n",
    "* \n",
    "\n",
    "Not actionable recommendation:\n",
    "* *The store managers should consider trying to improve the drive through experience to be more pleasant for customers*\n",
    "\n",
    "More actionable recommendation:\n",
    "* *Drive throughs are mentioned 23% of the time in reviews, and often focus on how slow the service is. We recommend adopting parallel drive through stations for Atlanta and Chicago*\n",
    "\n",
    "You are a business analyst working for McDonalds. First, read through the reviews in `mcdonalds-yelp-negative-reviews.csv` (found in `datasets` folder). \n",
    "\n",
    "1. Identify 4 recurring themes/topics that reviewers are unhappy with. For example, one theme is that users are consistently unhappy with the drive-through experience.\n",
    "\n",
    "2. Next, using regex, group together all occurrences of these phrases. For example, `drive-thru`, `drive through`, `drivethrough` can all be replaced as `_DRIVE_THROUGH_`.\n",
    "\n",
    "3. Perform a word count, both overall, and broken out by city.\n",
    "\n",
    "4. **Provide a few sentences with your findings and business recommendations.** Make any assumptions you'd like. I just want you to get into the habit of \"finishing\" your analysis: to avoid delivering technical numbers to a non-technical manager.\n",
    "\n",
    "Some considerations in your analysis:\n",
    "\n",
    "* Explain what some of **pitfalls/limitations** are of using only a word count analysis to make these inferences. What additional research/steps would you need to do to verify your conclusions?\n",
    "\n",
    "**Submit everything as a new notebook and Slack direct message (group message) to me (Yu Chen) and the TAs (Mengqi Tan and Siyuan Ni) the HW as an attachment.**\n",
    "\n",
    "**NOTE**: Name the notebook `lastname_firstname_HW1.ipynb`.\n",
    "\n",
    "Every day late is -10%."
   ]
  },
  {
   "cell_type": "code",
   "execution_count": 1,
   "id": "a282755e",
   "metadata": {
    "ExecuteTime": {
     "end_time": "2022-03-22T21:08:23.228297Z",
     "start_time": "2022-03-22T21:08:22.834371Z"
    }
   },
   "outputs": [],
   "source": [
    "import pandas as pd\n",
    "import re\n",
    "from collections import Counter"
   ]
  },
  {
   "cell_type": "code",
   "execution_count": 2,
   "id": "8f47ec79",
   "metadata": {
    "ExecuteTime": {
     "end_time": "2022-03-22T21:08:23.246496Z",
     "start_time": "2022-03-22T21:08:23.244284Z"
    }
   },
   "outputs": [
    {
     "name": "stdout",
     "output_type": "stream",
     "text": [
      "<_io.TextIOWrapper name='../datasets/mcdonalds-yelp-negative-reviews.csv' mode='r' encoding='UTF-8'>\n"
     ]
    }
   ],
   "source": [
    "text = open('../datasets/mcdonalds-yelp-negative-reviews.csv', 'r')\n",
    "print(text)"
   ]
  },
  {
   "cell_type": "code",
   "execution_count": 3,
   "id": "77e8bf6b",
   "metadata": {
    "ExecuteTime": {
     "end_time": "2022-03-22T21:08:23.268607Z",
     "start_time": "2022-03-22T21:08:23.261618Z"
    }
   },
   "outputs": [
    {
     "data": {
      "text/plain": [
       "'_unit_id,city,review\\n'"
      ]
     },
     "execution_count": 3,
     "metadata": {},
     "output_type": "execute_result"
    }
   ],
   "source": [
    "text.readline()"
   ]
  },
  {
   "cell_type": "code",
   "execution_count": 4,
   "id": "20869b78",
   "metadata": {
    "ExecuteTime": {
     "end_time": "2022-03-22T21:08:23.388411Z",
     "start_time": "2022-03-22T21:08:23.365702Z"
    }
   },
   "outputs": [
    {
     "data": {
      "text/html": [
       "<div>\n",
       "<style scoped>\n",
       "    .dataframe tbody tr th:only-of-type {\n",
       "        vertical-align: middle;\n",
       "    }\n",
       "\n",
       "    .dataframe tbody tr th {\n",
       "        vertical-align: top;\n",
       "    }\n",
       "\n",
       "    .dataframe thead th {\n",
       "        text-align: right;\n",
       "    }\n",
       "</style>\n",
       "<table border=\"1\" class=\"dataframe\">\n",
       "  <thead>\n",
       "    <tr style=\"text-align: right;\">\n",
       "      <th></th>\n",
       "      <th>_unit_id</th>\n",
       "      <th>city</th>\n",
       "      <th>review</th>\n",
       "    </tr>\n",
       "  </thead>\n",
       "  <tbody>\n",
       "    <tr>\n",
       "      <th>0</th>\n",
       "      <td>679455653</td>\n",
       "      <td>Atlanta</td>\n",
       "      <td>I'm not a huge mcds lover, but I've been to be...</td>\n",
       "    </tr>\n",
       "    <tr>\n",
       "      <th>1</th>\n",
       "      <td>679455654</td>\n",
       "      <td>Atlanta</td>\n",
       "      <td>Terrible customer service. I came in at 9:30pm...</td>\n",
       "    </tr>\n",
       "    <tr>\n",
       "      <th>2</th>\n",
       "      <td>679455655</td>\n",
       "      <td>Atlanta</td>\n",
       "      <td>First they \"lost\" my order, actually they gave...</td>\n",
       "    </tr>\n",
       "    <tr>\n",
       "      <th>3</th>\n",
       "      <td>679455656</td>\n",
       "      <td>Atlanta</td>\n",
       "      <td>I see I'm not the only one giving 1 star. Only...</td>\n",
       "    </tr>\n",
       "    <tr>\n",
       "      <th>4</th>\n",
       "      <td>679455657</td>\n",
       "      <td>Atlanta</td>\n",
       "      <td>Well, it's McDonald's, so you know what the fo...</td>\n",
       "    </tr>\n",
       "    <tr>\n",
       "      <th>...</th>\n",
       "      <td>...</td>\n",
       "      <td>...</td>\n",
       "      <td>...</td>\n",
       "    </tr>\n",
       "    <tr>\n",
       "      <th>1520</th>\n",
       "      <td>679500008</td>\n",
       "      <td>Portland</td>\n",
       "      <td>I enjoyed the part where I repeatedly asked if...</td>\n",
       "    </tr>\n",
       "    <tr>\n",
       "      <th>1521</th>\n",
       "      <td>679500224</td>\n",
       "      <td>Houston</td>\n",
       "      <td>Worst McDonalds I've been in in a long time! D...</td>\n",
       "    </tr>\n",
       "    <tr>\n",
       "      <th>1522</th>\n",
       "      <td>679500608</td>\n",
       "      <td>New York</td>\n",
       "      <td>When I am really craving for McDonald's, this ...</td>\n",
       "    </tr>\n",
       "    <tr>\n",
       "      <th>1523</th>\n",
       "      <td>679501257</td>\n",
       "      <td>Chicago</td>\n",
       "      <td>Two points right out of the gate: 1. Thuggery ...</td>\n",
       "    </tr>\n",
       "    <tr>\n",
       "      <th>1524</th>\n",
       "      <td>679501402</td>\n",
       "      <td>Los Angeles</td>\n",
       "      <td>I wanted to grab breakfast one morning before ...</td>\n",
       "    </tr>\n",
       "  </tbody>\n",
       "</table>\n",
       "<p>1525 rows × 3 columns</p>\n",
       "</div>"
      ],
      "text/plain": [
       "       _unit_id         city  \\\n",
       "0     679455653      Atlanta   \n",
       "1     679455654      Atlanta   \n",
       "2     679455655      Atlanta   \n",
       "3     679455656      Atlanta   \n",
       "4     679455657      Atlanta   \n",
       "...         ...          ...   \n",
       "1520  679500008     Portland   \n",
       "1521  679500224      Houston   \n",
       "1522  679500608     New York   \n",
       "1523  679501257      Chicago   \n",
       "1524  679501402  Los Angeles   \n",
       "\n",
       "                                                 review  \n",
       "0     I'm not a huge mcds lover, but I've been to be...  \n",
       "1     Terrible customer service. I came in at 9:30pm...  \n",
       "2     First they \"lost\" my order, actually they gave...  \n",
       "3     I see I'm not the only one giving 1 star. Only...  \n",
       "4     Well, it's McDonald's, so you know what the fo...  \n",
       "...                                                 ...  \n",
       "1520  I enjoyed the part where I repeatedly asked if...  \n",
       "1521  Worst McDonalds I've been in in a long time! D...  \n",
       "1522  When I am really craving for McDonald's, this ...  \n",
       "1523  Two points right out of the gate: 1. Thuggery ...  \n",
       "1524  I wanted to grab breakfast one morning before ...  \n",
       "\n",
       "[1525 rows x 3 columns]"
      ]
     },
     "execution_count": 4,
     "metadata": {},
     "output_type": "execute_result"
    }
   ],
   "source": [
    "# text_df = pd.read_csv('../datasets/mcdonalds-yelp-negative-reviews.csv', encoding_errors='ignore')\n",
    "text_df = pd.read_csv('../datasets/mcdonalds-yelp-negative-reviews.csv', encoding='latin1')\n",
    "text_df"
   ]
  },
  {
   "cell_type": "markdown",
   "id": "798ac80c",
   "metadata": {},
   "source": [
    "<div class='alert-danger'>\n",
    "    <p> Q:\n",
    "    <p> how to tell when <i>text</i> and when <i>text_df</i>?\n",
    "    <p> whether it's too much for memory?\n",
    "    </div>"
   ]
  },
  {
   "cell_type": "code",
   "execution_count": 5,
   "id": "20f1cd95",
   "metadata": {
    "ExecuteTime": {
     "end_time": "2022-03-22T21:08:24.090360Z",
     "start_time": "2022-03-22T21:08:24.068359Z"
    }
   },
   "outputs": [
    {
     "data": {
      "text/html": [
       "<div>\n",
       "<style scoped>\n",
       "    .dataframe tbody tr th:only-of-type {\n",
       "        vertical-align: middle;\n",
       "    }\n",
       "\n",
       "    .dataframe tbody tr th {\n",
       "        vertical-align: top;\n",
       "    }\n",
       "\n",
       "    .dataframe thead th {\n",
       "        text-align: right;\n",
       "    }\n",
       "</style>\n",
       "<table border=\"1\" class=\"dataframe\">\n",
       "  <thead>\n",
       "    <tr style=\"text-align: right;\">\n",
       "      <th></th>\n",
       "      <th>review</th>\n",
       "    </tr>\n",
       "    <tr>\n",
       "      <th>city</th>\n",
       "      <th></th>\n",
       "    </tr>\n",
       "  </thead>\n",
       "  <tbody>\n",
       "    <tr>\n",
       "      <th>Atlanta</th>\n",
       "      <td>130</td>\n",
       "    </tr>\n",
       "    <tr>\n",
       "      <th>Chicago</th>\n",
       "      <td>219</td>\n",
       "    </tr>\n",
       "    <tr>\n",
       "      <th>Cleveland</th>\n",
       "      <td>71</td>\n",
       "    </tr>\n",
       "    <tr>\n",
       "      <th>Dallas</th>\n",
       "      <td>75</td>\n",
       "    </tr>\n",
       "    <tr>\n",
       "      <th>Houston</th>\n",
       "      <td>105</td>\n",
       "    </tr>\n",
       "    <tr>\n",
       "      <th>Las Vegas</th>\n",
       "      <td>409</td>\n",
       "    </tr>\n",
       "    <tr>\n",
       "      <th>Los Angeles</th>\n",
       "      <td>167</td>\n",
       "    </tr>\n",
       "    <tr>\n",
       "      <th>New York</th>\n",
       "      <td>165</td>\n",
       "    </tr>\n",
       "    <tr>\n",
       "      <th>Portland</th>\n",
       "      <td>97</td>\n",
       "    </tr>\n",
       "  </tbody>\n",
       "</table>\n",
       "</div>"
      ],
      "text/plain": [
       "             review\n",
       "city               \n",
       "Atlanta         130\n",
       "Chicago         219\n",
       "Cleveland        71\n",
       "Dallas           75\n",
       "Houston         105\n",
       "Las Vegas       409\n",
       "Los Angeles     167\n",
       "New York        165\n",
       "Portland         97"
      ]
     },
     "execution_count": 5,
     "metadata": {},
     "output_type": "execute_result"
    }
   ],
   "source": [
    "text_df.groupby('city')[['review']].count()"
   ]
  },
  {
   "cell_type": "code",
   "execution_count": null,
   "id": "507651c4",
   "metadata": {},
   "outputs": [],
   "source": []
  },
  {
   "cell_type": "markdown",
   "id": "f8c64f04",
   "metadata": {},
   "source": [
    "## task1\n",
    "\n",
    "Identify 4 recurring themes/topics that reviewers are unhappy with."
   ]
  },
  {
   "cell_type": "code",
   "execution_count": 6,
   "id": "9afb5938",
   "metadata": {
    "ExecuteTime": {
     "end_time": "2022-03-22T21:08:24.806414Z",
     "start_time": "2022-03-22T21:08:24.781865Z"
    }
   },
   "outputs": [],
   "source": [
    "def count_words(doc):\n",
    "    counts = Counter()\n",
    "    for r in doc:\n",
    "        counts_tmp = Counter(re.findall(r'\\w\\w+', r, flags=re.IGNORECASE))\n",
    "        counts += counts_tmp\n",
    "    return counts"
   ]
  },
  {
   "cell_type": "code",
   "execution_count": 7,
   "id": "772202e3",
   "metadata": {
    "ExecuteTime": {
     "end_time": "2022-03-22T21:08:25.405267Z",
     "start_time": "2022-03-22T21:08:24.996211Z"
    }
   },
   "outputs": [],
   "source": [
    "count_rough = count_words(text_df['review'])\n",
    "# sorted(count_rough, key=lambda x: -count_rough[x])"
   ]
  },
  {
   "cell_type": "code",
   "execution_count": 8,
   "id": "4c13f2a6",
   "metadata": {
    "ExecuteTime": {
     "end_time": "2022-03-22T21:08:25.455104Z",
     "start_time": "2022-03-22T21:08:25.447591Z"
    },
    "scrolled": true
   },
   "outputs": [
    {
     "data": {
      "text/plain": [
       "[('the', 6237),\n",
       " ('and', 4137),\n",
       " ('to', 4030),\n",
       " ('of', 2005),\n",
       " ('is', 1918),\n",
       " ('was', 1793),\n",
       " ('in', 1788),\n",
       " ('it', 1756),\n",
       " ('for', 1651),\n",
       " ('this', 1427),\n",
       " ('my', 1421),\n",
       " ('that', 1327),\n",
       " ('you', 1252),\n",
       " ('they', 1232),\n",
       " ('at', 1019),\n",
       " ('have', 950),\n",
       " ('on', 908),\n",
       " ('not', 897),\n",
       " ('but', 858),\n",
       " ('me', 857),\n",
       " ('The', 845),\n",
       " ('order', 838),\n",
       " ('food', 832),\n",
       " ('McDonald', 822),\n",
       " ('with', 815),\n",
       " ('are', 707),\n",
       " ('one', 682),\n",
       " ('get', 665),\n",
       " ('there', 656),\n",
       " ('drive', 650),\n",
       " ('be', 648),\n",
       " ('so', 636),\n",
       " ('up', 586),\n",
       " ('here', 580),\n",
       " ('had', 566),\n",
       " ('just', 540),\n",
       " ('time', 525),\n",
       " ('or', 516),\n",
       " ('go', 511),\n",
       " ('out', 495),\n",
       " ('like', 483),\n",
       " ('service', 481),\n",
       " ('no', 468),\n",
       " ('as', 468),\n",
       " ('thru', 467),\n",
       " ('It', 464),\n",
       " ('place', 460),\n",
       " ('This', 455),\n",
       " ('when', 451),\n",
       " ('were', 445),\n",
       " ('McDonalds', 443),\n",
       " ('can', 423),\n",
       " ('your', 413),\n",
       " ('all', 405),\n",
       " ('only', 397),\n",
       " ('what', 396),\n",
       " ('if', 387),\n",
       " ('because', 382),\n",
       " ('location', 382),\n",
       " ('their', 373),\n",
       " ('we', 371),\n",
       " ('about', 366),\n",
       " ('been', 365),\n",
       " ('an', 361),\n",
       " ('from', 360),\n",
       " ('don', 345),\n",
       " ('They', 337),\n",
       " ('people', 337),\n",
       " ('ve', 325),\n",
       " ('back', 321),\n",
       " ('would', 321),\n",
       " ('do', 306),\n",
       " ('even', 297),\n",
       " ('fries', 295),\n",
       " ('through', 287),\n",
       " ('got', 285),\n",
       " ('always', 276),\n",
       " ('some', 269),\n",
       " ('by', 268),\n",
       " ('them', 268),\n",
       " ('minutes', 262),\n",
       " ('will', 258),\n",
       " ('coffee', 254),\n",
       " ('good', 254),\n",
       " ('she', 253),\n",
       " ('window', 252),\n",
       " ('ordered', 252),\n",
       " ('ever', 251),\n",
       " ('has', 249),\n",
       " ('very', 247),\n",
       " ('other', 242),\n",
       " ('right', 239),\n",
       " ('our', 236),\n",
       " ('than', 232),\n",
       " ('never', 231),\n",
       " ('who', 227),\n",
       " ('fast', 226),\n",
       " ('line', 226),\n",
       " ('more', 224),\n",
       " ('then', 220),\n",
       " ('really', 215),\n",
       " ('went', 214),\n",
       " ('after', 208),\n",
       " ('know', 205),\n",
       " ('times', 205),\n",
       " ('said', 200),\n",
       " ('her', 198),\n",
       " ('manager', 198),\n",
       " ('he', 198),\n",
       " ('which', 195),\n",
       " ('way', 192),\n",
       " ('staff', 191),\n",
       " ('work', 186),\n",
       " ('give', 185),\n",
       " ('around', 184),\n",
       " ('want', 182),\n",
       " ('before', 179),\n",
       " ('customer', 178),\n",
       " ('We', 175),\n",
       " ('wrong', 175),\n",
       " ('breakfast', 174),\n",
       " ('asked', 173),\n",
       " ('over', 173),\n",
       " ('two', 173),\n",
       " ('wait', 172),\n",
       " ('eat', 170),\n",
       " ('bad', 170),\n",
       " ('re', 170),\n",
       " ('inside', 169),\n",
       " ('off', 169),\n",
       " ('say', 166),\n",
       " ('any', 165),\n",
       " ('could', 163),\n",
       " ('down', 163),\n",
       " ('am', 161),\n",
       " ('didn', 160),\n",
       " ('going', 159),\n",
       " ('did', 158),\n",
       " ('So', 158),\n",
       " ('make', 158),\n",
       " ('come', 157),\n",
       " ('And', 156),\n",
       " ('too', 154),\n",
       " ('us', 154),\n",
       " ('how', 154),\n",
       " ('waiting', 153),\n",
       " ('something', 152),\n",
       " ('think', 149),\n",
       " ('There', 148),\n",
       " ('long', 148)]"
      ]
     },
     "execution_count": 8,
     "metadata": {},
     "output_type": "execute_result"
    }
   ],
   "source": [
    "count_rough.most_common(150)"
   ]
  },
  {
   "cell_type": "markdown",
   "id": "1f6f73cb",
   "metadata": {},
   "source": [
    "<div class=\"alert-info\">\n",
    "    Roughly speaking, there may be much complaint about <b>('food', 832), ('drive', 650), ('time', 525), ('service', 481), ('fries', 295), ('coffee', 254), ('breakfast', 174), ('wrong', 175), ('waiting', 153)</b> \n",
    "    </div>"
   ]
  },
  {
   "cell_type": "markdown",
   "id": "bed1bbda",
   "metadata": {},
   "source": [
    "<div class='alert-danger'>\n",
    "    <p> TO-DO:\n",
    "    <p> 1) how to tell <i>time</i> ~= <i>slow</i>? how to include <i>time</i> accurately in <i>slow</i> and exclude slow-irrelevant \"time\"s\n",
    "    <p> 2) how to aggregate same topic? (e.g. slow, time, long, xx minutes)\n",
    "    <p> 3) how to identify survivor bias? (e.g. people complaint fries more because they order fries more)\n",
    "    </div>"
   ]
  },
  {
   "cell_type": "markdown",
   "id": "f8811dab",
   "metadata": {},
   "source": [
    "<div class='alert-info'>\n",
    "    <p> After scanning the reviews manually, 4 themes are identified below:\n",
    "    <p> &emsp; - Drive Through\n",
    "    <p> &emsp; - Customer Service (speed & attitude & correctness)\n",
    "    <p> &emsp; - Food Quality (especially the fries, coffee and breakfast)\n",
    "    <p> &emsp; - Dining Environment (dirty & noisy)\n",
    "    </div>"
   ]
  },
  {
   "cell_type": "code",
   "execution_count": null,
   "id": "d103f6c9",
   "metadata": {},
   "outputs": [],
   "source": []
  },
  {
   "cell_type": "markdown",
   "id": "05aea5db",
   "metadata": {},
   "source": [
    "## task2\n",
    "\n",
    "Next, using regex, group together all occurrences of these phrases."
   ]
  },
  {
   "cell_type": "code",
   "execution_count": 9,
   "id": "15e3f989",
   "metadata": {
    "ExecuteTime": {
     "end_time": "2022-03-22T21:08:26.314019Z",
     "start_time": "2022-03-22T21:08:26.296622Z"
    }
   },
   "outputs": [],
   "source": [
    "def standardize_word(doc, word_orig, word_std):\n",
    "    for i in range(len(doc)):\n",
    "#         rev_txt = rev.split(',\"')[1] # it's for text not text_df\n",
    "        rev = doc.iloc[i, -1]\n",
    "        doc.iloc[i, -1] = re.sub(word_orig, word_std, rev, flags=re.IGNORECASE)"
   ]
  },
  {
   "cell_type": "code",
   "execution_count": 10,
   "id": "95eb079b",
   "metadata": {
    "ExecuteTime": {
     "end_time": "2022-03-22T21:08:26.550196Z",
     "start_time": "2022-03-22T21:08:26.527491Z"
    }
   },
   "outputs": [
    {
     "data": {
      "text/html": [
       "<div>\n",
       "<style scoped>\n",
       "    .dataframe tbody tr th:only-of-type {\n",
       "        vertical-align: middle;\n",
       "    }\n",
       "\n",
       "    .dataframe tbody tr th {\n",
       "        vertical-align: top;\n",
       "    }\n",
       "\n",
       "    .dataframe thead th {\n",
       "        text-align: right;\n",
       "    }\n",
       "</style>\n",
       "<table border=\"1\" class=\"dataframe\">\n",
       "  <thead>\n",
       "    <tr style=\"text-align: right;\">\n",
       "      <th></th>\n",
       "      <th>_unit_id</th>\n",
       "      <th>city</th>\n",
       "      <th>review</th>\n",
       "      <th>review_std</th>\n",
       "    </tr>\n",
       "  </thead>\n",
       "  <tbody>\n",
       "    <tr>\n",
       "      <th>0</th>\n",
       "      <td>679455653</td>\n",
       "      <td>Atlanta</td>\n",
       "      <td>I'm not a huge mcds lover, but I've been to be...</td>\n",
       "      <td>I'm not a huge mcds lover, but I've been to be...</td>\n",
       "    </tr>\n",
       "    <tr>\n",
       "      <th>1</th>\n",
       "      <td>679455654</td>\n",
       "      <td>Atlanta</td>\n",
       "      <td>Terrible customer service. I came in at 9:30pm...</td>\n",
       "      <td>Terrible customer service. I came in at 9:30pm...</td>\n",
       "    </tr>\n",
       "    <tr>\n",
       "      <th>2</th>\n",
       "      <td>679455655</td>\n",
       "      <td>Atlanta</td>\n",
       "      <td>First they \"lost\" my order, actually they gave...</td>\n",
       "      <td>First they \"lost\" my order, actually they gave...</td>\n",
       "    </tr>\n",
       "    <tr>\n",
       "      <th>3</th>\n",
       "      <td>679455656</td>\n",
       "      <td>Atlanta</td>\n",
       "      <td>I see I'm not the only one giving 1 star. Only...</td>\n",
       "      <td>I see I'm not the only one giving 1 star. Only...</td>\n",
       "    </tr>\n",
       "    <tr>\n",
       "      <th>4</th>\n",
       "      <td>679455657</td>\n",
       "      <td>Atlanta</td>\n",
       "      <td>Well, it's McDonald's, so you know what the fo...</td>\n",
       "      <td>Well, it's McDonald's, so you know what the fo...</td>\n",
       "    </tr>\n",
       "    <tr>\n",
       "      <th>...</th>\n",
       "      <td>...</td>\n",
       "      <td>...</td>\n",
       "      <td>...</td>\n",
       "      <td>...</td>\n",
       "    </tr>\n",
       "    <tr>\n",
       "      <th>1520</th>\n",
       "      <td>679500008</td>\n",
       "      <td>Portland</td>\n",
       "      <td>I enjoyed the part where I repeatedly asked if...</td>\n",
       "      <td>I enjoyed the part where I repeatedly asked if...</td>\n",
       "    </tr>\n",
       "    <tr>\n",
       "      <th>1521</th>\n",
       "      <td>679500224</td>\n",
       "      <td>Houston</td>\n",
       "      <td>Worst McDonalds I've been in in a long time! D...</td>\n",
       "      <td>Worst McDonalds I've been in in a long time! D...</td>\n",
       "    </tr>\n",
       "    <tr>\n",
       "      <th>1522</th>\n",
       "      <td>679500608</td>\n",
       "      <td>New York</td>\n",
       "      <td>When I am really craving for McDonald's, this ...</td>\n",
       "      <td>When I am really craving for McDonald's, this ...</td>\n",
       "    </tr>\n",
       "    <tr>\n",
       "      <th>1523</th>\n",
       "      <td>679501257</td>\n",
       "      <td>Chicago</td>\n",
       "      <td>Two points right out of the gate: 1. Thuggery ...</td>\n",
       "      <td>Two points right out of the gate: 1. Thuggery ...</td>\n",
       "    </tr>\n",
       "    <tr>\n",
       "      <th>1524</th>\n",
       "      <td>679501402</td>\n",
       "      <td>Los Angeles</td>\n",
       "      <td>I wanted to grab breakfast one morning before ...</td>\n",
       "      <td>I wanted to grab breakfast one morning before ...</td>\n",
       "    </tr>\n",
       "  </tbody>\n",
       "</table>\n",
       "<p>1525 rows × 4 columns</p>\n",
       "</div>"
      ],
      "text/plain": [
       "       _unit_id         city  \\\n",
       "0     679455653      Atlanta   \n",
       "1     679455654      Atlanta   \n",
       "2     679455655      Atlanta   \n",
       "3     679455656      Atlanta   \n",
       "4     679455657      Atlanta   \n",
       "...         ...          ...   \n",
       "1520  679500008     Portland   \n",
       "1521  679500224      Houston   \n",
       "1522  679500608     New York   \n",
       "1523  679501257      Chicago   \n",
       "1524  679501402  Los Angeles   \n",
       "\n",
       "                                                 review  \\\n",
       "0     I'm not a huge mcds lover, but I've been to be...   \n",
       "1     Terrible customer service. I came in at 9:30pm...   \n",
       "2     First they \"lost\" my order, actually they gave...   \n",
       "3     I see I'm not the only one giving 1 star. Only...   \n",
       "4     Well, it's McDonald's, so you know what the fo...   \n",
       "...                                                 ...   \n",
       "1520  I enjoyed the part where I repeatedly asked if...   \n",
       "1521  Worst McDonalds I've been in in a long time! D...   \n",
       "1522  When I am really craving for McDonald's, this ...   \n",
       "1523  Two points right out of the gate: 1. Thuggery ...   \n",
       "1524  I wanted to grab breakfast one morning before ...   \n",
       "\n",
       "                                             review_std  \n",
       "0     I'm not a huge mcds lover, but I've been to be...  \n",
       "1     Terrible customer service. I came in at 9:30pm...  \n",
       "2     First they \"lost\" my order, actually they gave...  \n",
       "3     I see I'm not the only one giving 1 star. Only...  \n",
       "4     Well, it's McDonald's, so you know what the fo...  \n",
       "...                                                 ...  \n",
       "1520  I enjoyed the part where I repeatedly asked if...  \n",
       "1521  Worst McDonalds I've been in in a long time! D...  \n",
       "1522  When I am really craving for McDonald's, this ...  \n",
       "1523  Two points right out of the gate: 1. Thuggery ...  \n",
       "1524  I wanted to grab breakfast one morning before ...  \n",
       "\n",
       "[1525 rows x 4 columns]"
      ]
     },
     "execution_count": 10,
     "metadata": {},
     "output_type": "execute_result"
    }
   ],
   "source": [
    "text_df['review_std'] = text_df['review']\n",
    "text_df"
   ]
  },
  {
   "cell_type": "markdown",
   "id": "522e97d0",
   "metadata": {},
   "source": [
    "### Drive Through"
   ]
  },
  {
   "cell_type": "markdown",
   "id": "9bb47d2b",
   "metadata": {},
   "source": [
    "<div class='alert-info'>\n",
    "    drive-thru, drive through, drivethrough --> <b><i>_DRIVE_THROUGH_.\n",
    "    </div>"
   ]
  },
  {
   "cell_type": "code",
   "execution_count": 11,
   "id": "9388e321",
   "metadata": {
    "ExecuteTime": {
     "end_time": "2022-03-22T21:08:27.344199Z",
     "start_time": "2022-03-22T21:08:27.134638Z"
    }
   },
   "outputs": [],
   "source": [
    "word_orig, word_std = r'(drive-thru|drivethrough|drive through)', '_DRIVE_THROUGH_'\n",
    "standardize_word(text_df, word_orig, word_std)"
   ]
  },
  {
   "cell_type": "code",
   "execution_count": 12,
   "id": "cf06a506",
   "metadata": {
    "ExecuteTime": {
     "end_time": "2022-03-22T21:08:27.392732Z",
     "start_time": "2022-03-22T21:08:27.385928Z"
    }
   },
   "outputs": [
    {
     "data": {
      "text/html": [
       "<div>\n",
       "<style scoped>\n",
       "    .dataframe tbody tr th:only-of-type {\n",
       "        vertical-align: middle;\n",
       "    }\n",
       "\n",
       "    .dataframe tbody tr th {\n",
       "        vertical-align: top;\n",
       "    }\n",
       "\n",
       "    .dataframe thead th {\n",
       "        text-align: right;\n",
       "    }\n",
       "</style>\n",
       "<table border=\"1\" class=\"dataframe\">\n",
       "  <thead>\n",
       "    <tr style=\"text-align: right;\">\n",
       "      <th></th>\n",
       "      <th>_unit_id</th>\n",
       "      <th>city</th>\n",
       "      <th>review</th>\n",
       "      <th>review_std</th>\n",
       "    </tr>\n",
       "  </thead>\n",
       "  <tbody>\n",
       "    <tr>\n",
       "      <th>0</th>\n",
       "      <td>679455653</td>\n",
       "      <td>Atlanta</td>\n",
       "      <td>I'm not a huge mcds lover, but I've been to be...</td>\n",
       "      <td>I'm not a huge mcds lover, but I've been to be...</td>\n",
       "    </tr>\n",
       "    <tr>\n",
       "      <th>1</th>\n",
       "      <td>679455654</td>\n",
       "      <td>Atlanta</td>\n",
       "      <td>Terrible customer service. I came in at 9:30pm...</td>\n",
       "      <td>Terrible customer service. I came in at 9:30pm...</td>\n",
       "    </tr>\n",
       "    <tr>\n",
       "      <th>2</th>\n",
       "      <td>679455655</td>\n",
       "      <td>Atlanta</td>\n",
       "      <td>First they \"lost\" my order, actually they gave...</td>\n",
       "      <td>First they \"lost\" my order, actually they gave...</td>\n",
       "    </tr>\n",
       "    <tr>\n",
       "      <th>3</th>\n",
       "      <td>679455656</td>\n",
       "      <td>Atlanta</td>\n",
       "      <td>I see I'm not the only one giving 1 star. Only...</td>\n",
       "      <td>I see I'm not the only one giving 1 star. Only...</td>\n",
       "    </tr>\n",
       "    <tr>\n",
       "      <th>4</th>\n",
       "      <td>679455657</td>\n",
       "      <td>Atlanta</td>\n",
       "      <td>Well, it's McDonald's, so you know what the fo...</td>\n",
       "      <td>Well, it's McDonald's, so you know what the fo...</td>\n",
       "    </tr>\n",
       "    <tr>\n",
       "      <th>...</th>\n",
       "      <td>...</td>\n",
       "      <td>...</td>\n",
       "      <td>...</td>\n",
       "      <td>...</td>\n",
       "    </tr>\n",
       "    <tr>\n",
       "      <th>1520</th>\n",
       "      <td>679500008</td>\n",
       "      <td>Portland</td>\n",
       "      <td>I enjoyed the part where I repeatedly asked if...</td>\n",
       "      <td>I enjoyed the part where I repeatedly asked if...</td>\n",
       "    </tr>\n",
       "    <tr>\n",
       "      <th>1521</th>\n",
       "      <td>679500224</td>\n",
       "      <td>Houston</td>\n",
       "      <td>Worst McDonalds I've been in in a long time! D...</td>\n",
       "      <td>Worst McDonalds I've been in in a long time! D...</td>\n",
       "    </tr>\n",
       "    <tr>\n",
       "      <th>1522</th>\n",
       "      <td>679500608</td>\n",
       "      <td>New York</td>\n",
       "      <td>When I am really craving for McDonald's, this ...</td>\n",
       "      <td>When I am really craving for McDonald's, this ...</td>\n",
       "    </tr>\n",
       "    <tr>\n",
       "      <th>1523</th>\n",
       "      <td>679501257</td>\n",
       "      <td>Chicago</td>\n",
       "      <td>Two points right out of the gate: 1. Thuggery ...</td>\n",
       "      <td>Two points right out of the gate: 1. Thuggery ...</td>\n",
       "    </tr>\n",
       "    <tr>\n",
       "      <th>1524</th>\n",
       "      <td>679501402</td>\n",
       "      <td>Los Angeles</td>\n",
       "      <td>I wanted to grab breakfast one morning before ...</td>\n",
       "      <td>I wanted to grab breakfast one morning before ...</td>\n",
       "    </tr>\n",
       "  </tbody>\n",
       "</table>\n",
       "<p>1525 rows × 4 columns</p>\n",
       "</div>"
      ],
      "text/plain": [
       "       _unit_id         city  \\\n",
       "0     679455653      Atlanta   \n",
       "1     679455654      Atlanta   \n",
       "2     679455655      Atlanta   \n",
       "3     679455656      Atlanta   \n",
       "4     679455657      Atlanta   \n",
       "...         ...          ...   \n",
       "1520  679500008     Portland   \n",
       "1521  679500224      Houston   \n",
       "1522  679500608     New York   \n",
       "1523  679501257      Chicago   \n",
       "1524  679501402  Los Angeles   \n",
       "\n",
       "                                                 review  \\\n",
       "0     I'm not a huge mcds lover, but I've been to be...   \n",
       "1     Terrible customer service. I came in at 9:30pm...   \n",
       "2     First they \"lost\" my order, actually they gave...   \n",
       "3     I see I'm not the only one giving 1 star. Only...   \n",
       "4     Well, it's McDonald's, so you know what the fo...   \n",
       "...                                                 ...   \n",
       "1520  I enjoyed the part where I repeatedly asked if...   \n",
       "1521  Worst McDonalds I've been in in a long time! D...   \n",
       "1522  When I am really craving for McDonald's, this ...   \n",
       "1523  Two points right out of the gate: 1. Thuggery ...   \n",
       "1524  I wanted to grab breakfast one morning before ...   \n",
       "\n",
       "                                             review_std  \n",
       "0     I'm not a huge mcds lover, but I've been to be...  \n",
       "1     Terrible customer service. I came in at 9:30pm...  \n",
       "2     First they \"lost\" my order, actually they gave...  \n",
       "3     I see I'm not the only one giving 1 star. Only...  \n",
       "4     Well, it's McDonald's, so you know what the fo...  \n",
       "...                                                 ...  \n",
       "1520  I enjoyed the part where I repeatedly asked if...  \n",
       "1521  Worst McDonalds I've been in in a long time! D...  \n",
       "1522  When I am really craving for McDonald's, this ...  \n",
       "1523  Two points right out of the gate: 1. Thuggery ...  \n",
       "1524  I wanted to grab breakfast one morning before ...  \n",
       "\n",
       "[1525 rows x 4 columns]"
      ]
     },
     "execution_count": 12,
     "metadata": {},
     "output_type": "execute_result"
    }
   ],
   "source": [
    "text_df"
   ]
  },
  {
   "cell_type": "code",
   "execution_count": null,
   "id": "b5906139",
   "metadata": {},
   "outputs": [],
   "source": []
  },
  {
   "cell_type": "markdown",
   "id": "d0b027f2",
   "metadata": {},
   "source": [
    "### Customer Service\n",
    "speed & attitude & correctness"
   ]
  },
  {
   "cell_type": "markdown",
   "id": "a6ba14b4",
   "metadata": {},
   "source": [
    "#### speed"
   ]
  },
  {
   "cell_type": "markdown",
   "id": "ad45d60a",
   "metadata": {},
   "source": [
    "<div class='alert-info'>\n",
    "    slow, slowly, sl-ow, SLOW, longer, ... --> <b><i>_CUSTOMER_SERVICE_SPEED_\n",
    "    </div>"
   ]
  },
  {
   "cell_type": "code",
   "execution_count": 13,
   "id": "4a2f60bf",
   "metadata": {
    "ExecuteTime": {
     "end_time": "2022-03-22T21:08:28.507799Z",
     "start_time": "2022-03-22T21:08:28.241706Z"
    }
   },
   "outputs": [],
   "source": [
    "word_orig, word_std = r'(\\bs(?:\\-)?l(?:\\-)?o(?:\\-)?w(?:\\-)?(?:ly)?\\b|longer)', '_CUSTOMER_SERVICE_SPEED_'\n",
    "standardize_word(text_df, word_orig, word_std)"
   ]
  },
  {
   "cell_type": "markdown",
   "id": "ea94e1f9",
   "metadata": {},
   "source": [
    "<div class='alert-danger'>\n",
    "    Q: any simplification?\n",
    "    </div>"
   ]
  },
  {
   "cell_type": "markdown",
   "id": "5fbde865",
   "metadata": {},
   "source": [
    "#### attitude"
   ]
  },
  {
   "cell_type": "markdown",
   "id": "65667095",
   "metadata": {},
   "source": [
    "<div class='alert-info'>\n",
    "    rude, unfriendly, unhappy, ... --> <b><i>_CUSTOMER_SERVICE_ATTITUDE_\n",
    "    </div>"
   ]
  },
  {
   "cell_type": "code",
   "execution_count": 14,
   "id": "fc3f7cfb",
   "metadata": {
    "ExecuteTime": {
     "end_time": "2022-03-22T21:08:29.252294Z",
     "start_time": "2022-03-22T21:08:29.003812Z"
    }
   },
   "outputs": [],
   "source": [
    "word_orig, word_std = r'(rude|unfriendly|unhappy)', '_CUSTOMER_SERVICE_ATTITUDE_'\n",
    "standardize_word(text_df, word_orig, word_std)"
   ]
  },
  {
   "cell_type": "code",
   "execution_count": null,
   "id": "73e906e9",
   "metadata": {},
   "outputs": [],
   "source": []
  },
  {
   "cell_type": "markdown",
   "id": "a109381a",
   "metadata": {},
   "source": [
    "#### correctness"
   ]
  },
  {
   "cell_type": "markdown",
   "id": "f7cf4f5c",
   "metadata": {
    "ExecuteTime": {
     "end_time": "2022-03-22T20:48:51.250999Z",
     "start_time": "2022-03-22T20:48:51.231871Z"
    }
   },
   "source": [
    "<div class='alert-info'>\n",
    "    wrong, wrongly ... --> <b><i>_CUSTOMER_SERVICE_CORRECTNESS_\n",
    "    </div>"
   ]
  },
  {
   "cell_type": "code",
   "execution_count": 15,
   "id": "dd16db10",
   "metadata": {
    "ExecuteTime": {
     "end_time": "2022-03-22T21:08:30.257559Z",
     "start_time": "2022-03-22T21:08:30.043029Z"
    }
   },
   "outputs": [],
   "source": [
    "word_orig, word_std = r'(wrong(ly)?)', '_CUSTOMER_SERVICE_CORRECTNESS_'\n",
    "standardize_word(text_df, word_orig, word_std)"
   ]
  },
  {
   "cell_type": "code",
   "execution_count": null,
   "id": "540ff124",
   "metadata": {},
   "outputs": [],
   "source": []
  },
  {
   "cell_type": "markdown",
   "id": "c638ab45",
   "metadata": {},
   "source": [
    "### Food Quality \n",
    "especially the fries, coffee and breakfast"
   ]
  },
  {
   "cell_type": "markdown",
   "id": "81ebe461",
   "metadata": {},
   "source": [
    "<div class='alert-info'>\n",
    "    fries, coffee, breakfast, ... --> <b><i>_FOOD_QUALITY_\n",
    "    </div>"
   ]
  },
  {
   "cell_type": "code",
   "execution_count": 16,
   "id": "a9dd8c84",
   "metadata": {
    "ExecuteTime": {
     "end_time": "2022-03-22T21:08:31.154485Z",
     "start_time": "2022-03-22T21:08:30.926985Z"
    }
   },
   "outputs": [],
   "source": [
    "word_orig, word_std = r'(fries|coffee|breakfast)', '_FOOD_QUALITY_'\n",
    "standardize_word(text_df, word_orig, word_std)"
   ]
  },
  {
   "cell_type": "code",
   "execution_count": null,
   "id": "d0f9700c",
   "metadata": {},
   "outputs": [],
   "source": []
  },
  {
   "cell_type": "markdown",
   "id": "9f430e99",
   "metadata": {},
   "source": [
    "### Dining Environment \n",
    "dirty & noisy"
   ]
  },
  {
   "cell_type": "markdown",
   "id": "f81f8af7",
   "metadata": {
    "ExecuteTime": {
     "end_time": "2022-03-13T05:02:19.216868Z",
     "start_time": "2022-03-13T05:02:19.207836Z"
    }
   },
   "source": [
    "<div class='alert-info'>\n",
    "    dirty, noisy, ... --> <b><i>_DINING_ENVIRONMENT_\n",
    "    </div>"
   ]
  },
  {
   "cell_type": "code",
   "execution_count": 17,
   "id": "507a6660",
   "metadata": {
    "ExecuteTime": {
     "end_time": "2022-03-22T21:08:32.057689Z",
     "start_time": "2022-03-22T21:08:31.832368Z"
    }
   },
   "outputs": [],
   "source": [
    "word_orig, word_std = r'(dirty|noisy)', '_DINING_ENVIRONMENT_'\n",
    "standardize_word(text_df, word_orig, word_std)"
   ]
  },
  {
   "cell_type": "code",
   "execution_count": null,
   "id": "c1ecfc19",
   "metadata": {},
   "outputs": [],
   "source": []
  },
  {
   "cell_type": "markdown",
   "id": "2854fe5a",
   "metadata": {},
   "source": [
    "## task3\n",
    "\n",
    "Perform a word count, both overall, and broken out by city."
   ]
  },
  {
   "cell_type": "markdown",
   "id": "20f5fd56",
   "metadata": {},
   "source": [
    "<div class='alert-info'>\n",
    "    below func does absolute word count,\n",
    "    </div>"
   ]
  },
  {
   "cell_type": "code",
   "execution_count": 18,
   "id": "7b848c9b",
   "metadata": {
    "ExecuteTime": {
     "end_time": "2022-03-22T21:08:32.710542Z",
     "start_time": "2022-03-22T21:08:32.703854Z"
    }
   },
   "outputs": [],
   "source": [
    "# def count_certain_word_overall(doc, word):\n",
    "#     counts = Counter()\n",
    "#     for r in doc:\n",
    "#         counts_tmp = Counter(re.findall(word, r))\n",
    "#         counts += counts_tmp\n",
    "#     return counts"
   ]
  },
  {
   "cell_type": "markdown",
   "id": "6be36d65",
   "metadata": {},
   "source": [
    "<div class='alert-info'>\n",
    "    word count on review level is preferred\n",
    "    </div>"
   ]
  },
  {
   "cell_type": "code",
   "execution_count": 19,
   "id": "9c2d541c",
   "metadata": {
    "ExecuteTime": {
     "end_time": "2022-03-22T21:08:33.287963Z",
     "start_time": "2022-03-22T21:08:33.279633Z"
    }
   },
   "outputs": [
    {
     "data": {
      "text/plain": [
       "Counter({'burger': 3})"
      ]
     },
     "execution_count": 19,
     "metadata": {},
     "output_type": "execute_result"
    }
   ],
   "source": [
    "Counter(['burger', 'burger', 'burger'])"
   ]
  },
  {
   "cell_type": "code",
   "execution_count": 20,
   "id": "8c9f5559",
   "metadata": {
    "ExecuteTime": {
     "end_time": "2022-03-22T21:08:33.474288Z",
     "start_time": "2022-03-22T21:08:33.471223Z"
    }
   },
   "outputs": [
    {
     "data": {
      "text/plain": [
       "Counter({'burger': 1})"
      ]
     },
     "execution_count": 20,
     "metadata": {},
     "output_type": "execute_result"
    }
   ],
   "source": [
    "Counter(set(['burger', 'burger', 'burger']))"
   ]
  },
  {
   "cell_type": "code",
   "execution_count": 21,
   "id": "09521e6b",
   "metadata": {
    "ExecuteTime": {
     "end_time": "2022-03-22T21:08:33.730108Z",
     "start_time": "2022-03-22T21:08:33.723608Z"
    }
   },
   "outputs": [],
   "source": [
    "def count_certain_word_overall(doc, word):\n",
    "    counts = Counter()\n",
    "    for r in doc:\n",
    "        counts_tmp = Counter(set(re.findall(word, r)))\n",
    "        counts += counts_tmp\n",
    "    return counts"
   ]
  },
  {
   "cell_type": "code",
   "execution_count": 82,
   "id": "7807a088",
   "metadata": {
    "ExecuteTime": {
     "end_time": "2022-03-22T21:30:33.607298Z",
     "start_time": "2022-03-22T21:30:33.594246Z"
    }
   },
   "outputs": [],
   "source": [
    "def count_certain_word_bycity(df, word):\n",
    "    result = pd.DataFrame(columns=['city', 'count'])\n",
    "    for c in df['city'].unique():\n",
    "        df_tmp = df.loc[df['city']==c]\n",
    "        if df_tmp.empty: continue\n",
    "#         counts = Counter()\n",
    "#         for r in df_tmp['review_std']:\n",
    "#             counts_tmp = Counter(re.findall(word, r))\n",
    "#             counts += counts_tmp\n",
    "        counts = count_certain_word_overall(df_tmp['review_std'], word)\n",
    "        result = result.append({'city': c, 'count': list(counts.values())[0]}, ignore_index=True)\n",
    "#         result = result.append({'city': c, 'count': counts.values()}, ignore_index=True)\n",
    "    return result"
   ]
  },
  {
   "cell_type": "markdown",
   "id": "229dc187",
   "metadata": {},
   "source": [
    "### _DRIVE_THROUGH_"
   ]
  },
  {
   "cell_type": "markdown",
   "id": "5c88daa0",
   "metadata": {},
   "source": [
    "#### overall"
   ]
  },
  {
   "cell_type": "code",
   "execution_count": 84,
   "id": "60d8d848",
   "metadata": {
    "ExecuteTime": {
     "end_time": "2022-03-22T21:30:41.650941Z",
     "start_time": "2022-03-22T21:30:41.642973Z"
    }
   },
   "outputs": [],
   "source": [
    "w_std = '_DRIVE_THROUGH_'"
   ]
  },
  {
   "cell_type": "code",
   "execution_count": 85,
   "id": "a6b8c5b6",
   "metadata": {
    "ExecuteTime": {
     "end_time": "2022-03-22T21:30:41.863156Z",
     "start_time": "2022-03-22T21:30:41.855285Z"
    }
   },
   "outputs": [
    {
     "data": {
      "text/plain": [
       "Counter({'_DRIVE_THROUGH_': 222})"
      ]
     },
     "execution_count": 85,
     "metadata": {},
     "output_type": "execute_result"
    }
   ],
   "source": [
    "count_drive = count_certain_word_overall(text_df['review_std'], w_std)\n",
    "count_drive"
   ]
  },
  {
   "cell_type": "markdown",
   "id": "c177c368",
   "metadata": {},
   "source": [
    "#### by city"
   ]
  },
  {
   "cell_type": "code",
   "execution_count": 86,
   "id": "00cff48b",
   "metadata": {
    "ExecuteTime": {
     "end_time": "2022-03-22T21:30:42.214704Z",
     "start_time": "2022-03-22T21:30:42.179933Z"
    }
   },
   "outputs": [
    {
     "data": {
      "text/html": [
       "<div>\n",
       "<style scoped>\n",
       "    .dataframe tbody tr th:only-of-type {\n",
       "        vertical-align: middle;\n",
       "    }\n",
       "\n",
       "    .dataframe tbody tr th {\n",
       "        vertical-align: top;\n",
       "    }\n",
       "\n",
       "    .dataframe thead th {\n",
       "        text-align: right;\n",
       "    }\n",
       "</style>\n",
       "<table border=\"1\" class=\"dataframe\">\n",
       "  <thead>\n",
       "    <tr style=\"text-align: right;\">\n",
       "      <th></th>\n",
       "      <th>city</th>\n",
       "      <th>count</th>\n",
       "    </tr>\n",
       "  </thead>\n",
       "  <tbody>\n",
       "    <tr>\n",
       "      <th>0</th>\n",
       "      <td>Atlanta</td>\n",
       "      <td>23</td>\n",
       "    </tr>\n",
       "    <tr>\n",
       "      <th>1</th>\n",
       "      <td>Las Vegas</td>\n",
       "      <td>65</td>\n",
       "    </tr>\n",
       "    <tr>\n",
       "      <th>2</th>\n",
       "      <td>Dallas</td>\n",
       "      <td>13</td>\n",
       "    </tr>\n",
       "    <tr>\n",
       "      <th>3</th>\n",
       "      <td>Portland</td>\n",
       "      <td>15</td>\n",
       "    </tr>\n",
       "    <tr>\n",
       "      <th>4</th>\n",
       "      <td>Chicago</td>\n",
       "      <td>22</td>\n",
       "    </tr>\n",
       "    <tr>\n",
       "      <th>5</th>\n",
       "      <td>Cleveland</td>\n",
       "      <td>12</td>\n",
       "    </tr>\n",
       "    <tr>\n",
       "      <th>6</th>\n",
       "      <td>Houston</td>\n",
       "      <td>15</td>\n",
       "    </tr>\n",
       "    <tr>\n",
       "      <th>7</th>\n",
       "      <td>Los Angeles</td>\n",
       "      <td>37</td>\n",
       "    </tr>\n",
       "    <tr>\n",
       "      <th>8</th>\n",
       "      <td>New York</td>\n",
       "      <td>1</td>\n",
       "    </tr>\n",
       "  </tbody>\n",
       "</table>\n",
       "</div>"
      ],
      "text/plain": [
       "          city count\n",
       "0      Atlanta    23\n",
       "1    Las Vegas    65\n",
       "2       Dallas    13\n",
       "3     Portland    15\n",
       "4      Chicago    22\n",
       "5    Cleveland    12\n",
       "6      Houston    15\n",
       "7  Los Angeles    37\n",
       "8     New York     1"
      ]
     },
     "execution_count": 86,
     "metadata": {},
     "output_type": "execute_result"
    }
   ],
   "source": [
    "count_drive_city = count_certain_word_bycity(text_df, w_std)\n",
    "count_drive_city"
   ]
  },
  {
   "cell_type": "code",
   "execution_count": null,
   "id": "cf64aca5",
   "metadata": {},
   "outputs": [],
   "source": []
  },
  {
   "cell_type": "markdown",
   "id": "0cc51b61",
   "metadata": {},
   "source": [
    "### _CUSTOMER_SERVICE_"
   ]
  },
  {
   "cell_type": "markdown",
   "id": "c2899826",
   "metadata": {},
   "source": [
    "#### CUSTOMER_SERVICE"
   ]
  },
  {
   "cell_type": "markdown",
   "id": "4f2eb33f",
   "metadata": {},
   "source": [
    "##### overall"
   ]
  },
  {
   "cell_type": "code",
   "execution_count": 87,
   "id": "8e29a2fa",
   "metadata": {
    "ExecuteTime": {
     "end_time": "2022-03-22T21:30:43.306206Z",
     "start_time": "2022-03-22T21:30:43.299740Z"
    }
   },
   "outputs": [],
   "source": [
    "w_std = '_CUSTOMER_SERVICE_'"
   ]
  },
  {
   "cell_type": "code",
   "execution_count": 88,
   "id": "8bbd7b45",
   "metadata": {
    "ExecuteTime": {
     "end_time": "2022-03-22T21:30:43.512038Z",
     "start_time": "2022-03-22T21:30:43.504006Z"
    }
   },
   "outputs": [
    {
     "data": {
      "text/plain": [
       "Counter({'_CUSTOMER_SERVICE_': 387})"
      ]
     },
     "execution_count": 88,
     "metadata": {},
     "output_type": "execute_result"
    }
   ],
   "source": [
    "count_serv = count_certain_word_overall(text_df['review_std'], w_std)\n",
    "count_serv"
   ]
  },
  {
   "cell_type": "markdown",
   "id": "4a23b180",
   "metadata": {},
   "source": [
    "##### by city"
   ]
  },
  {
   "cell_type": "code",
   "execution_count": 89,
   "id": "a7e654a8",
   "metadata": {
    "ExecuteTime": {
     "end_time": "2022-03-22T21:30:43.827658Z",
     "start_time": "2022-03-22T21:30:43.795721Z"
    }
   },
   "outputs": [
    {
     "data": {
      "text/html": [
       "<div>\n",
       "<style scoped>\n",
       "    .dataframe tbody tr th:only-of-type {\n",
       "        vertical-align: middle;\n",
       "    }\n",
       "\n",
       "    .dataframe tbody tr th {\n",
       "        vertical-align: top;\n",
       "    }\n",
       "\n",
       "    .dataframe thead th {\n",
       "        text-align: right;\n",
       "    }\n",
       "</style>\n",
       "<table border=\"1\" class=\"dataframe\">\n",
       "  <thead>\n",
       "    <tr style=\"text-align: right;\">\n",
       "      <th></th>\n",
       "      <th>city</th>\n",
       "      <th>count</th>\n",
       "    </tr>\n",
       "  </thead>\n",
       "  <tbody>\n",
       "    <tr>\n",
       "      <th>0</th>\n",
       "      <td>Atlanta</td>\n",
       "      <td>45</td>\n",
       "    </tr>\n",
       "    <tr>\n",
       "      <th>1</th>\n",
       "      <td>Las Vegas</td>\n",
       "      <td>109</td>\n",
       "    </tr>\n",
       "    <tr>\n",
       "      <th>2</th>\n",
       "      <td>Dallas</td>\n",
       "      <td>18</td>\n",
       "    </tr>\n",
       "    <tr>\n",
       "      <th>3</th>\n",
       "      <td>Portland</td>\n",
       "      <td>20</td>\n",
       "    </tr>\n",
       "    <tr>\n",
       "      <th>4</th>\n",
       "      <td>Chicago</td>\n",
       "      <td>55</td>\n",
       "    </tr>\n",
       "    <tr>\n",
       "      <th>5</th>\n",
       "      <td>Cleveland</td>\n",
       "      <td>27</td>\n",
       "    </tr>\n",
       "    <tr>\n",
       "      <th>6</th>\n",
       "      <td>Houston</td>\n",
       "      <td>25</td>\n",
       "    </tr>\n",
       "    <tr>\n",
       "      <th>7</th>\n",
       "      <td>Los Angeles</td>\n",
       "      <td>39</td>\n",
       "    </tr>\n",
       "    <tr>\n",
       "      <th>8</th>\n",
       "      <td>New York</td>\n",
       "      <td>29</td>\n",
       "    </tr>\n",
       "  </tbody>\n",
       "</table>\n",
       "</div>"
      ],
      "text/plain": [
       "          city count\n",
       "0      Atlanta    45\n",
       "1    Las Vegas   109\n",
       "2       Dallas    18\n",
       "3     Portland    20\n",
       "4      Chicago    55\n",
       "5    Cleveland    27\n",
       "6      Houston    25\n",
       "7  Los Angeles    39\n",
       "8     New York    29"
      ]
     },
     "execution_count": 89,
     "metadata": {},
     "output_type": "execute_result"
    }
   ],
   "source": [
    "count_serv_city = count_certain_word_bycity(text_df, w_std)\n",
    "count_serv_city"
   ]
  },
  {
   "cell_type": "markdown",
   "id": "519a3442",
   "metadata": {},
   "source": [
    "#### '__SPEED_'"
   ]
  },
  {
   "cell_type": "code",
   "execution_count": 90,
   "id": "06f18959",
   "metadata": {
    "ExecuteTime": {
     "end_time": "2022-03-22T21:30:44.137298Z",
     "start_time": "2022-03-22T21:30:44.135300Z"
    }
   },
   "outputs": [],
   "source": [
    "w_std = '_CUSTOMER_SERVICE_SPEED_'"
   ]
  },
  {
   "cell_type": "code",
   "execution_count": 91,
   "id": "e17a49b5",
   "metadata": {
    "ExecuteTime": {
     "end_time": "2022-03-22T21:30:44.344065Z",
     "start_time": "2022-03-22T21:30:44.335955Z"
    }
   },
   "outputs": [
    {
     "data": {
      "text/plain": [
       "Counter({'_CUSTOMER_SERVICE_SPEED_': 155})"
      ]
     },
     "execution_count": 91,
     "metadata": {},
     "output_type": "execute_result"
    }
   ],
   "source": [
    "count_serv_spd = count_certain_word_overall(text_df['review_std'], w_std)\n",
    "count_serv_spd"
   ]
  },
  {
   "cell_type": "code",
   "execution_count": 92,
   "id": "b14b0dcb",
   "metadata": {
    "ExecuteTime": {
     "end_time": "2022-03-22T21:30:44.523227Z",
     "start_time": "2022-03-22T21:30:44.502207Z"
    }
   },
   "outputs": [
    {
     "data": {
      "text/html": [
       "<div>\n",
       "<style scoped>\n",
       "    .dataframe tbody tr th:only-of-type {\n",
       "        vertical-align: middle;\n",
       "    }\n",
       "\n",
       "    .dataframe tbody tr th {\n",
       "        vertical-align: top;\n",
       "    }\n",
       "\n",
       "    .dataframe thead th {\n",
       "        text-align: right;\n",
       "    }\n",
       "</style>\n",
       "<table border=\"1\" class=\"dataframe\">\n",
       "  <thead>\n",
       "    <tr style=\"text-align: right;\">\n",
       "      <th></th>\n",
       "      <th>city</th>\n",
       "      <th>count</th>\n",
       "    </tr>\n",
       "  </thead>\n",
       "  <tbody>\n",
       "    <tr>\n",
       "      <th>0</th>\n",
       "      <td>Atlanta</td>\n",
       "      <td>24</td>\n",
       "    </tr>\n",
       "    <tr>\n",
       "      <th>1</th>\n",
       "      <td>Las Vegas</td>\n",
       "      <td>42</td>\n",
       "    </tr>\n",
       "    <tr>\n",
       "      <th>2</th>\n",
       "      <td>Dallas</td>\n",
       "      <td>5</td>\n",
       "    </tr>\n",
       "    <tr>\n",
       "      <th>3</th>\n",
       "      <td>Portland</td>\n",
       "      <td>3</td>\n",
       "    </tr>\n",
       "    <tr>\n",
       "      <th>4</th>\n",
       "      <td>Chicago</td>\n",
       "      <td>24</td>\n",
       "    </tr>\n",
       "    <tr>\n",
       "      <th>5</th>\n",
       "      <td>Cleveland</td>\n",
       "      <td>10</td>\n",
       "    </tr>\n",
       "    <tr>\n",
       "      <th>6</th>\n",
       "      <td>Houston</td>\n",
       "      <td>14</td>\n",
       "    </tr>\n",
       "    <tr>\n",
       "      <th>7</th>\n",
       "      <td>Los Angeles</td>\n",
       "      <td>13</td>\n",
       "    </tr>\n",
       "    <tr>\n",
       "      <th>8</th>\n",
       "      <td>New York</td>\n",
       "      <td>13</td>\n",
       "    </tr>\n",
       "  </tbody>\n",
       "</table>\n",
       "</div>"
      ],
      "text/plain": [
       "          city count\n",
       "0      Atlanta    24\n",
       "1    Las Vegas    42\n",
       "2       Dallas     5\n",
       "3     Portland     3\n",
       "4      Chicago    24\n",
       "5    Cleveland    10\n",
       "6      Houston    14\n",
       "7  Los Angeles    13\n",
       "8     New York    13"
      ]
     },
     "execution_count": 92,
     "metadata": {},
     "output_type": "execute_result"
    }
   ],
   "source": [
    "count_serv_spd_city = count_certain_word_bycity(text_df, w_std)\n",
    "count_serv_spd_city"
   ]
  },
  {
   "cell_type": "markdown",
   "id": "5844d94d",
   "metadata": {},
   "source": [
    "#### '__ATTITUDE_'"
   ]
  },
  {
   "cell_type": "code",
   "execution_count": 93,
   "id": "bb0b86be",
   "metadata": {
    "ExecuteTime": {
     "end_time": "2022-03-22T21:30:44.794989Z",
     "start_time": "2022-03-22T21:30:44.793029Z"
    }
   },
   "outputs": [],
   "source": [
    "w_std = '_CUSTOMER_SERVICE_ATTITUDE_'"
   ]
  },
  {
   "cell_type": "code",
   "execution_count": 94,
   "id": "5941ad02",
   "metadata": {
    "ExecuteTime": {
     "end_time": "2022-03-22T21:30:44.968501Z",
     "start_time": "2022-03-22T21:30:44.961182Z"
    }
   },
   "outputs": [
    {
     "data": {
      "text/plain": [
       "Counter({'_CUSTOMER_SERVICE_ATTITUDE_': 128})"
      ]
     },
     "execution_count": 94,
     "metadata": {},
     "output_type": "execute_result"
    }
   ],
   "source": [
    "count_serv_att = count_certain_word_overall(text_df['review_std'], w_std)\n",
    "count_serv_att"
   ]
  },
  {
   "cell_type": "code",
   "execution_count": 95,
   "id": "4dda86b5",
   "metadata": {
    "ExecuteTime": {
     "end_time": "2022-03-22T21:30:45.133497Z",
     "start_time": "2022-03-22T21:30:45.112391Z"
    }
   },
   "outputs": [
    {
     "data": {
      "text/html": [
       "<div>\n",
       "<style scoped>\n",
       "    .dataframe tbody tr th:only-of-type {\n",
       "        vertical-align: middle;\n",
       "    }\n",
       "\n",
       "    .dataframe tbody tr th {\n",
       "        vertical-align: top;\n",
       "    }\n",
       "\n",
       "    .dataframe thead th {\n",
       "        text-align: right;\n",
       "    }\n",
       "</style>\n",
       "<table border=\"1\" class=\"dataframe\">\n",
       "  <thead>\n",
       "    <tr style=\"text-align: right;\">\n",
       "      <th></th>\n",
       "      <th>city</th>\n",
       "      <th>count</th>\n",
       "    </tr>\n",
       "  </thead>\n",
       "  <tbody>\n",
       "    <tr>\n",
       "      <th>0</th>\n",
       "      <td>Atlanta</td>\n",
       "      <td>15</td>\n",
       "    </tr>\n",
       "    <tr>\n",
       "      <th>1</th>\n",
       "      <td>Las Vegas</td>\n",
       "      <td>32</td>\n",
       "    </tr>\n",
       "    <tr>\n",
       "      <th>2</th>\n",
       "      <td>Dallas</td>\n",
       "      <td>6</td>\n",
       "    </tr>\n",
       "    <tr>\n",
       "      <th>3</th>\n",
       "      <td>Portland</td>\n",
       "      <td>11</td>\n",
       "    </tr>\n",
       "    <tr>\n",
       "      <th>4</th>\n",
       "      <td>Chicago</td>\n",
       "      <td>15</td>\n",
       "    </tr>\n",
       "    <tr>\n",
       "      <th>5</th>\n",
       "      <td>Cleveland</td>\n",
       "      <td>11</td>\n",
       "    </tr>\n",
       "    <tr>\n",
       "      <th>6</th>\n",
       "      <td>Houston</td>\n",
       "      <td>8</td>\n",
       "    </tr>\n",
       "    <tr>\n",
       "      <th>7</th>\n",
       "      <td>Los Angeles</td>\n",
       "      <td>9</td>\n",
       "    </tr>\n",
       "    <tr>\n",
       "      <th>8</th>\n",
       "      <td>New York</td>\n",
       "      <td>13</td>\n",
       "    </tr>\n",
       "  </tbody>\n",
       "</table>\n",
       "</div>"
      ],
      "text/plain": [
       "          city count\n",
       "0      Atlanta    15\n",
       "1    Las Vegas    32\n",
       "2       Dallas     6\n",
       "3     Portland    11\n",
       "4      Chicago    15\n",
       "5    Cleveland    11\n",
       "6      Houston     8\n",
       "7  Los Angeles     9\n",
       "8     New York    13"
      ]
     },
     "execution_count": 95,
     "metadata": {},
     "output_type": "execute_result"
    }
   ],
   "source": [
    "count_serv_att_city = count_certain_word_bycity(text_df, w_std)\n",
    "count_serv_att_city"
   ]
  },
  {
   "cell_type": "markdown",
   "id": "e4373f0b",
   "metadata": {},
   "source": [
    "#### '__CORRECTNESS_'"
   ]
  },
  {
   "cell_type": "code",
   "execution_count": 96,
   "id": "b5f9b0e4",
   "metadata": {
    "ExecuteTime": {
     "end_time": "2022-03-22T21:30:45.432432Z",
     "start_time": "2022-03-22T21:30:45.430401Z"
    }
   },
   "outputs": [],
   "source": [
    "w_std = '_CUSTOMER_SERVICE_CORRECTNESS_'"
   ]
  },
  {
   "cell_type": "code",
   "execution_count": 97,
   "id": "3ce0d9fc",
   "metadata": {
    "ExecuteTime": {
     "end_time": "2022-03-22T21:30:45.654743Z",
     "start_time": "2022-03-22T21:30:45.646063Z"
    }
   },
   "outputs": [
    {
     "data": {
      "text/plain": [
       "Counter({'_CUSTOMER_SERVICE_CORRECTNESS_': 155})"
      ]
     },
     "execution_count": 97,
     "metadata": {},
     "output_type": "execute_result"
    }
   ],
   "source": [
    "count_serv_cor = count_certain_word_overall(text_df['review_std'], w_std)\n",
    "count_serv_cor"
   ]
  },
  {
   "cell_type": "code",
   "execution_count": 98,
   "id": "988bb07c",
   "metadata": {
    "ExecuteTime": {
     "end_time": "2022-03-22T21:30:45.834843Z",
     "start_time": "2022-03-22T21:30:45.812170Z"
    }
   },
   "outputs": [
    {
     "data": {
      "text/html": [
       "<div>\n",
       "<style scoped>\n",
       "    .dataframe tbody tr th:only-of-type {\n",
       "        vertical-align: middle;\n",
       "    }\n",
       "\n",
       "    .dataframe tbody tr th {\n",
       "        vertical-align: top;\n",
       "    }\n",
       "\n",
       "    .dataframe thead th {\n",
       "        text-align: right;\n",
       "    }\n",
       "</style>\n",
       "<table border=\"1\" class=\"dataframe\">\n",
       "  <thead>\n",
       "    <tr style=\"text-align: right;\">\n",
       "      <th></th>\n",
       "      <th>city</th>\n",
       "      <th>count</th>\n",
       "    </tr>\n",
       "  </thead>\n",
       "  <tbody>\n",
       "    <tr>\n",
       "      <th>0</th>\n",
       "      <td>Atlanta</td>\n",
       "      <td>14</td>\n",
       "    </tr>\n",
       "    <tr>\n",
       "      <th>1</th>\n",
       "      <td>Las Vegas</td>\n",
       "      <td>48</td>\n",
       "    </tr>\n",
       "    <tr>\n",
       "      <th>2</th>\n",
       "      <td>Dallas</td>\n",
       "      <td>9</td>\n",
       "    </tr>\n",
       "    <tr>\n",
       "      <th>3</th>\n",
       "      <td>Portland</td>\n",
       "      <td>8</td>\n",
       "    </tr>\n",
       "    <tr>\n",
       "      <th>4</th>\n",
       "      <td>Chicago</td>\n",
       "      <td>22</td>\n",
       "    </tr>\n",
       "    <tr>\n",
       "      <th>5</th>\n",
       "      <td>Cleveland</td>\n",
       "      <td>9</td>\n",
       "    </tr>\n",
       "    <tr>\n",
       "      <th>6</th>\n",
       "      <td>Houston</td>\n",
       "      <td>10</td>\n",
       "    </tr>\n",
       "    <tr>\n",
       "      <th>7</th>\n",
       "      <td>Los Angeles</td>\n",
       "      <td>22</td>\n",
       "    </tr>\n",
       "    <tr>\n",
       "      <th>8</th>\n",
       "      <td>New York</td>\n",
       "      <td>4</td>\n",
       "    </tr>\n",
       "  </tbody>\n",
       "</table>\n",
       "</div>"
      ],
      "text/plain": [
       "          city count\n",
       "0      Atlanta    14\n",
       "1    Las Vegas    48\n",
       "2       Dallas     9\n",
       "3     Portland     8\n",
       "4      Chicago    22\n",
       "5    Cleveland     9\n",
       "6      Houston    10\n",
       "7  Los Angeles    22\n",
       "8     New York     4"
      ]
     },
     "execution_count": 98,
     "metadata": {},
     "output_type": "execute_result"
    }
   ],
   "source": [
    "count_serv_cor_city = count_certain_word_bycity(text_df, w_std)\n",
    "count_serv_cor_city"
   ]
  },
  {
   "cell_type": "code",
   "execution_count": null,
   "id": "77ce9fbe",
   "metadata": {},
   "outputs": [],
   "source": []
  },
  {
   "cell_type": "markdown",
   "id": "f627ba2a",
   "metadata": {},
   "source": [
    "### _FOOD_QUALITY_"
   ]
  },
  {
   "cell_type": "markdown",
   "id": "1aab149f",
   "metadata": {},
   "source": [
    "#### overall"
   ]
  },
  {
   "cell_type": "code",
   "execution_count": 99,
   "id": "4b0404b4",
   "metadata": {
    "ExecuteTime": {
     "end_time": "2022-03-22T21:30:46.793298Z",
     "start_time": "2022-03-22T21:30:46.785686Z"
    }
   },
   "outputs": [],
   "source": [
    "w_std = '_FOOD_QUALITY_'"
   ]
  },
  {
   "cell_type": "code",
   "execution_count": 100,
   "id": "c4924683",
   "metadata": {
    "ExecuteTime": {
     "end_time": "2022-03-22T21:30:46.992798Z",
     "start_time": "2022-03-22T21:30:46.984987Z"
    }
   },
   "outputs": [
    {
     "data": {
      "text/plain": [
       "Counter({'_FOOD_QUALITY_': 455})"
      ]
     },
     "execution_count": 100,
     "metadata": {},
     "output_type": "execute_result"
    }
   ],
   "source": [
    "count_food = count_certain_word_overall(text_df['review_std'], w_std)\n",
    "count_food"
   ]
  },
  {
   "cell_type": "markdown",
   "id": "c28c70e8",
   "metadata": {},
   "source": [
    "#### by city"
   ]
  },
  {
   "cell_type": "code",
   "execution_count": 101,
   "id": "75026468",
   "metadata": {
    "ExecuteTime": {
     "end_time": "2022-03-22T21:30:47.561295Z",
     "start_time": "2022-03-22T21:30:47.513725Z"
    }
   },
   "outputs": [
    {
     "data": {
      "text/html": [
       "<div>\n",
       "<style scoped>\n",
       "    .dataframe tbody tr th:only-of-type {\n",
       "        vertical-align: middle;\n",
       "    }\n",
       "\n",
       "    .dataframe tbody tr th {\n",
       "        vertical-align: top;\n",
       "    }\n",
       "\n",
       "    .dataframe thead th {\n",
       "        text-align: right;\n",
       "    }\n",
       "</style>\n",
       "<table border=\"1\" class=\"dataframe\">\n",
       "  <thead>\n",
       "    <tr style=\"text-align: right;\">\n",
       "      <th></th>\n",
       "      <th>city</th>\n",
       "      <th>count</th>\n",
       "    </tr>\n",
       "  </thead>\n",
       "  <tbody>\n",
       "    <tr>\n",
       "      <th>0</th>\n",
       "      <td>Atlanta</td>\n",
       "      <td>41</td>\n",
       "    </tr>\n",
       "    <tr>\n",
       "      <th>1</th>\n",
       "      <td>Las Vegas</td>\n",
       "      <td>133</td>\n",
       "    </tr>\n",
       "    <tr>\n",
       "      <th>2</th>\n",
       "      <td>Dallas</td>\n",
       "      <td>15</td>\n",
       "    </tr>\n",
       "    <tr>\n",
       "      <th>3</th>\n",
       "      <td>Portland</td>\n",
       "      <td>27</td>\n",
       "    </tr>\n",
       "    <tr>\n",
       "      <th>4</th>\n",
       "      <td>Chicago</td>\n",
       "      <td>64</td>\n",
       "    </tr>\n",
       "    <tr>\n",
       "      <th>5</th>\n",
       "      <td>Cleveland</td>\n",
       "      <td>13</td>\n",
       "    </tr>\n",
       "    <tr>\n",
       "      <th>6</th>\n",
       "      <td>Houston</td>\n",
       "      <td>33</td>\n",
       "    </tr>\n",
       "    <tr>\n",
       "      <th>7</th>\n",
       "      <td>Los Angeles</td>\n",
       "      <td>52</td>\n",
       "    </tr>\n",
       "    <tr>\n",
       "      <th>8</th>\n",
       "      <td>New York</td>\n",
       "      <td>52</td>\n",
       "    </tr>\n",
       "  </tbody>\n",
       "</table>\n",
       "</div>"
      ],
      "text/plain": [
       "          city count\n",
       "0      Atlanta    41\n",
       "1    Las Vegas   133\n",
       "2       Dallas    15\n",
       "3     Portland    27\n",
       "4      Chicago    64\n",
       "5    Cleveland    13\n",
       "6      Houston    33\n",
       "7  Los Angeles    52\n",
       "8     New York    52"
      ]
     },
     "execution_count": 101,
     "metadata": {},
     "output_type": "execute_result"
    }
   ],
   "source": [
    "count_food_city = count_certain_word_bycity(text_df, w_std)\n",
    "count_food_city"
   ]
  },
  {
   "cell_type": "code",
   "execution_count": null,
   "id": "7ce291a2",
   "metadata": {},
   "outputs": [],
   "source": []
  },
  {
   "cell_type": "markdown",
   "id": "dbca1cb8",
   "metadata": {},
   "source": [
    "### _DINING_ENVIRONMENT_"
   ]
  },
  {
   "cell_type": "markdown",
   "id": "afe29118",
   "metadata": {},
   "source": [
    "#### overall"
   ]
  },
  {
   "cell_type": "code",
   "execution_count": 102,
   "id": "5f55f2cd",
   "metadata": {
    "ExecuteTime": {
     "end_time": "2022-03-22T21:30:48.479677Z",
     "start_time": "2022-03-22T21:30:48.466024Z"
    }
   },
   "outputs": [],
   "source": [
    "w_std = '_DINING_ENVIRONMENT_'"
   ]
  },
  {
   "cell_type": "code",
   "execution_count": 103,
   "id": "ec4d6c21",
   "metadata": {
    "ExecuteTime": {
     "end_time": "2022-03-22T21:30:48.650553Z",
     "start_time": "2022-03-22T21:30:48.642451Z"
    }
   },
   "outputs": [
    {
     "data": {
      "text/plain": [
       "Counter({'_DINING_ENVIRONMENT_': 64})"
      ]
     },
     "execution_count": 103,
     "metadata": {},
     "output_type": "execute_result"
    }
   ],
   "source": [
    "count_env = count_certain_word_overall(text_df['review_std'], w_std)\n",
    "count_env"
   ]
  },
  {
   "cell_type": "markdown",
   "id": "e8daf28e",
   "metadata": {},
   "source": [
    "#### by city"
   ]
  },
  {
   "cell_type": "code",
   "execution_count": 104,
   "id": "569f9cf5",
   "metadata": {
    "ExecuteTime": {
     "end_time": "2022-03-22T21:30:49.657902Z",
     "start_time": "2022-03-22T21:30:49.604634Z"
    }
   },
   "outputs": [
    {
     "data": {
      "text/html": [
       "<div>\n",
       "<style scoped>\n",
       "    .dataframe tbody tr th:only-of-type {\n",
       "        vertical-align: middle;\n",
       "    }\n",
       "\n",
       "    .dataframe tbody tr th {\n",
       "        vertical-align: top;\n",
       "    }\n",
       "\n",
       "    .dataframe thead th {\n",
       "        text-align: right;\n",
       "    }\n",
       "</style>\n",
       "<table border=\"1\" class=\"dataframe\">\n",
       "  <thead>\n",
       "    <tr style=\"text-align: right;\">\n",
       "      <th></th>\n",
       "      <th>city</th>\n",
       "      <th>count</th>\n",
       "    </tr>\n",
       "  </thead>\n",
       "  <tbody>\n",
       "    <tr>\n",
       "      <th>0</th>\n",
       "      <td>Atlanta</td>\n",
       "      <td>8</td>\n",
       "    </tr>\n",
       "    <tr>\n",
       "      <th>1</th>\n",
       "      <td>Las Vegas</td>\n",
       "      <td>17</td>\n",
       "    </tr>\n",
       "    <tr>\n",
       "      <th>2</th>\n",
       "      <td>Dallas</td>\n",
       "      <td>2</td>\n",
       "    </tr>\n",
       "    <tr>\n",
       "      <th>3</th>\n",
       "      <td>Portland</td>\n",
       "      <td>3</td>\n",
       "    </tr>\n",
       "    <tr>\n",
       "      <th>4</th>\n",
       "      <td>Chicago</td>\n",
       "      <td>5</td>\n",
       "    </tr>\n",
       "    <tr>\n",
       "      <th>5</th>\n",
       "      <td>Cleveland</td>\n",
       "      <td>6</td>\n",
       "    </tr>\n",
       "    <tr>\n",
       "      <th>6</th>\n",
       "      <td>Houston</td>\n",
       "      <td>5</td>\n",
       "    </tr>\n",
       "    <tr>\n",
       "      <th>7</th>\n",
       "      <td>Los Angeles</td>\n",
       "      <td>7</td>\n",
       "    </tr>\n",
       "    <tr>\n",
       "      <th>8</th>\n",
       "      <td>New York</td>\n",
       "      <td>6</td>\n",
       "    </tr>\n",
       "  </tbody>\n",
       "</table>\n",
       "</div>"
      ],
      "text/plain": [
       "          city count\n",
       "0      Atlanta     8\n",
       "1    Las Vegas    17\n",
       "2       Dallas     2\n",
       "3     Portland     3\n",
       "4      Chicago     5\n",
       "5    Cleveland     6\n",
       "6      Houston     5\n",
       "7  Los Angeles     7\n",
       "8     New York     6"
      ]
     },
     "execution_count": 104,
     "metadata": {},
     "output_type": "execute_result"
    }
   ],
   "source": [
    "count_env_city = count_certain_word_bycity(text_df, w_std)\n",
    "count_env_city"
   ]
  },
  {
   "cell_type": "markdown",
   "id": "a0ceea57",
   "metadata": {},
   "source": [
    "### AGGREGATION"
   ]
  },
  {
   "cell_type": "code",
   "execution_count": 105,
   "id": "94c85c56",
   "metadata": {
    "ExecuteTime": {
     "end_time": "2022-03-22T21:30:50.548767Z",
     "start_time": "2022-03-22T21:30:50.531481Z"
    }
   },
   "outputs": [],
   "source": [
    "count_drive_city.set_index('city', inplace=True)\n",
    "count_drive_city.columns = ['drive']\n",
    "count_env_city.set_index('city', inplace=True)\n",
    "count_env_city.columns = ['env']\n",
    "count_food_city.set_index('city', inplace=True)\n",
    "count_food_city.columns = ['food']\n",
    "count_serv_city.set_index('city', inplace=True)\n",
    "count_serv_city.columns = ['serve']\n",
    "count_serv_att_city.set_index('city', inplace=True)\n",
    "count_serv_att_city.columns = ['attitude']\n",
    "count_serv_spd_city.set_index('city', inplace=True)\n",
    "count_serv_spd_city.columns = ['speed']\n",
    "count_serv_cor_city.set_index('city', inplace=True)\n",
    "count_serv_cor_city.columns = ['correctness']"
   ]
  },
  {
   "cell_type": "code",
   "execution_count": 126,
   "id": "5442f5e8",
   "metadata": {
    "ExecuteTime": {
     "end_time": "2022-03-22T21:48:56.104794Z",
     "start_time": "2022-03-22T21:48:56.083701Z"
    }
   },
   "outputs": [
    {
     "data": {
      "text/html": [
       "<div>\n",
       "<style scoped>\n",
       "    .dataframe tbody tr th:only-of-type {\n",
       "        vertical-align: middle;\n",
       "    }\n",
       "\n",
       "    .dataframe tbody tr th {\n",
       "        vertical-align: top;\n",
       "    }\n",
       "\n",
       "    .dataframe thead th {\n",
       "        text-align: right;\n",
       "    }\n",
       "</style>\n",
       "<table border=\"1\" class=\"dataframe\">\n",
       "  <thead>\n",
       "    <tr style=\"text-align: right;\">\n",
       "      <th></th>\n",
       "      <th>drive</th>\n",
       "      <th>serve</th>\n",
       "      <th>attitude</th>\n",
       "      <th>speed</th>\n",
       "      <th>correctness</th>\n",
       "      <th>food</th>\n",
       "      <th>env</th>\n",
       "    </tr>\n",
       "    <tr>\n",
       "      <th>city</th>\n",
       "      <th></th>\n",
       "      <th></th>\n",
       "      <th></th>\n",
       "      <th></th>\n",
       "      <th></th>\n",
       "      <th></th>\n",
       "      <th></th>\n",
       "    </tr>\n",
       "  </thead>\n",
       "  <tbody>\n",
       "    <tr>\n",
       "      <th>Atlanta</th>\n",
       "      <td>23</td>\n",
       "      <td>45</td>\n",
       "      <td>15</td>\n",
       "      <td>24</td>\n",
       "      <td>14</td>\n",
       "      <td>41</td>\n",
       "      <td>8</td>\n",
       "    </tr>\n",
       "    <tr>\n",
       "      <th>Las Vegas</th>\n",
       "      <td>65</td>\n",
       "      <td>109</td>\n",
       "      <td>32</td>\n",
       "      <td>42</td>\n",
       "      <td>48</td>\n",
       "      <td>133</td>\n",
       "      <td>17</td>\n",
       "    </tr>\n",
       "    <tr>\n",
       "      <th>Dallas</th>\n",
       "      <td>13</td>\n",
       "      <td>18</td>\n",
       "      <td>6</td>\n",
       "      <td>5</td>\n",
       "      <td>9</td>\n",
       "      <td>15</td>\n",
       "      <td>2</td>\n",
       "    </tr>\n",
       "    <tr>\n",
       "      <th>Portland</th>\n",
       "      <td>15</td>\n",
       "      <td>20</td>\n",
       "      <td>11</td>\n",
       "      <td>3</td>\n",
       "      <td>8</td>\n",
       "      <td>27</td>\n",
       "      <td>3</td>\n",
       "    </tr>\n",
       "    <tr>\n",
       "      <th>Chicago</th>\n",
       "      <td>22</td>\n",
       "      <td>55</td>\n",
       "      <td>15</td>\n",
       "      <td>24</td>\n",
       "      <td>22</td>\n",
       "      <td>64</td>\n",
       "      <td>5</td>\n",
       "    </tr>\n",
       "    <tr>\n",
       "      <th>Cleveland</th>\n",
       "      <td>12</td>\n",
       "      <td>27</td>\n",
       "      <td>11</td>\n",
       "      <td>10</td>\n",
       "      <td>9</td>\n",
       "      <td>13</td>\n",
       "      <td>6</td>\n",
       "    </tr>\n",
       "    <tr>\n",
       "      <th>Houston</th>\n",
       "      <td>15</td>\n",
       "      <td>25</td>\n",
       "      <td>8</td>\n",
       "      <td>14</td>\n",
       "      <td>10</td>\n",
       "      <td>33</td>\n",
       "      <td>5</td>\n",
       "    </tr>\n",
       "    <tr>\n",
       "      <th>Los Angeles</th>\n",
       "      <td>37</td>\n",
       "      <td>39</td>\n",
       "      <td>9</td>\n",
       "      <td>13</td>\n",
       "      <td>22</td>\n",
       "      <td>52</td>\n",
       "      <td>7</td>\n",
       "    </tr>\n",
       "    <tr>\n",
       "      <th>New York</th>\n",
       "      <td>1</td>\n",
       "      <td>29</td>\n",
       "      <td>13</td>\n",
       "      <td>13</td>\n",
       "      <td>4</td>\n",
       "      <td>52</td>\n",
       "      <td>6</td>\n",
       "    </tr>\n",
       "  </tbody>\n",
       "</table>\n",
       "</div>"
      ],
      "text/plain": [
       "            drive serve attitude speed correctness food env\n",
       "city                                                       \n",
       "Atlanta        23    45       15    24          14   41   8\n",
       "Las Vegas      65   109       32    42          48  133  17\n",
       "Dallas         13    18        6     5           9   15   2\n",
       "Portland       15    20       11     3           8   27   3\n",
       "Chicago        22    55       15    24          22   64   5\n",
       "Cleveland      12    27       11    10           9   13   6\n",
       "Houston        15    25        8    14          10   33   5\n",
       "Los Angeles    37    39        9    13          22   52   7\n",
       "New York        1    29       13    13           4   52   6"
      ]
     },
     "execution_count": 126,
     "metadata": {},
     "output_type": "execute_result"
    }
   ],
   "source": [
    "result = pd.concat([count_drive_city, count_serv_city, count_serv_att_city, count_serv_spd_city,\n",
    "                    count_serv_cor_city, count_food_city, count_env_city], axis=1)\n",
    "result"
   ]
  },
  {
   "cell_type": "code",
   "execution_count": 127,
   "id": "072804e5",
   "metadata": {
    "ExecuteTime": {
     "end_time": "2022-03-22T21:48:56.305721Z",
     "start_time": "2022-03-22T21:48:56.297005Z"
    }
   },
   "outputs": [
    {
     "data": {
      "text/html": [
       "<div>\n",
       "<style scoped>\n",
       "    .dataframe tbody tr th:only-of-type {\n",
       "        vertical-align: middle;\n",
       "    }\n",
       "\n",
       "    .dataframe tbody tr th {\n",
       "        vertical-align: top;\n",
       "    }\n",
       "\n",
       "    .dataframe thead th {\n",
       "        text-align: right;\n",
       "    }\n",
       "</style>\n",
       "<table border=\"1\" class=\"dataframe\">\n",
       "  <thead>\n",
       "    <tr style=\"text-align: right;\">\n",
       "      <th></th>\n",
       "      <th>drive</th>\n",
       "      <th>serve</th>\n",
       "      <th>attitude</th>\n",
       "      <th>speed</th>\n",
       "      <th>correctness</th>\n",
       "      <th>food</th>\n",
       "      <th>env</th>\n",
       "      <th>sum_city</th>\n",
       "    </tr>\n",
       "    <tr>\n",
       "      <th>city</th>\n",
       "      <th></th>\n",
       "      <th></th>\n",
       "      <th></th>\n",
       "      <th></th>\n",
       "      <th></th>\n",
       "      <th></th>\n",
       "      <th></th>\n",
       "      <th></th>\n",
       "    </tr>\n",
       "  </thead>\n",
       "  <tbody>\n",
       "    <tr>\n",
       "      <th>Las Vegas</th>\n",
       "      <td>65</td>\n",
       "      <td>109</td>\n",
       "      <td>32</td>\n",
       "      <td>42</td>\n",
       "      <td>48</td>\n",
       "      <td>133</td>\n",
       "      <td>17</td>\n",
       "      <td>446.0</td>\n",
       "    </tr>\n",
       "    <tr>\n",
       "      <th>Chicago</th>\n",
       "      <td>22</td>\n",
       "      <td>55</td>\n",
       "      <td>15</td>\n",
       "      <td>24</td>\n",
       "      <td>22</td>\n",
       "      <td>64</td>\n",
       "      <td>5</td>\n",
       "      <td>207.0</td>\n",
       "    </tr>\n",
       "    <tr>\n",
       "      <th>Los Angeles</th>\n",
       "      <td>37</td>\n",
       "      <td>39</td>\n",
       "      <td>9</td>\n",
       "      <td>13</td>\n",
       "      <td>22</td>\n",
       "      <td>52</td>\n",
       "      <td>7</td>\n",
       "      <td>179.0</td>\n",
       "    </tr>\n",
       "    <tr>\n",
       "      <th>Atlanta</th>\n",
       "      <td>23</td>\n",
       "      <td>45</td>\n",
       "      <td>15</td>\n",
       "      <td>24</td>\n",
       "      <td>14</td>\n",
       "      <td>41</td>\n",
       "      <td>8</td>\n",
       "      <td>170.0</td>\n",
       "    </tr>\n",
       "    <tr>\n",
       "      <th>New York</th>\n",
       "      <td>1</td>\n",
       "      <td>29</td>\n",
       "      <td>13</td>\n",
       "      <td>13</td>\n",
       "      <td>4</td>\n",
       "      <td>52</td>\n",
       "      <td>6</td>\n",
       "      <td>118.0</td>\n",
       "    </tr>\n",
       "    <tr>\n",
       "      <th>Houston</th>\n",
       "      <td>15</td>\n",
       "      <td>25</td>\n",
       "      <td>8</td>\n",
       "      <td>14</td>\n",
       "      <td>10</td>\n",
       "      <td>33</td>\n",
       "      <td>5</td>\n",
       "      <td>110.0</td>\n",
       "    </tr>\n",
       "    <tr>\n",
       "      <th>Cleveland</th>\n",
       "      <td>12</td>\n",
       "      <td>27</td>\n",
       "      <td>11</td>\n",
       "      <td>10</td>\n",
       "      <td>9</td>\n",
       "      <td>13</td>\n",
       "      <td>6</td>\n",
       "      <td>88.0</td>\n",
       "    </tr>\n",
       "    <tr>\n",
       "      <th>Portland</th>\n",
       "      <td>15</td>\n",
       "      <td>20</td>\n",
       "      <td>11</td>\n",
       "      <td>3</td>\n",
       "      <td>8</td>\n",
       "      <td>27</td>\n",
       "      <td>3</td>\n",
       "      <td>87.0</td>\n",
       "    </tr>\n",
       "    <tr>\n",
       "      <th>Dallas</th>\n",
       "      <td>13</td>\n",
       "      <td>18</td>\n",
       "      <td>6</td>\n",
       "      <td>5</td>\n",
       "      <td>9</td>\n",
       "      <td>15</td>\n",
       "      <td>2</td>\n",
       "      <td>68.0</td>\n",
       "    </tr>\n",
       "  </tbody>\n",
       "</table>\n",
       "</div>"
      ],
      "text/plain": [
       "            drive serve attitude speed correctness food env  sum_city\n",
       "city                                                                 \n",
       "Las Vegas      65   109       32    42          48  133  17     446.0\n",
       "Chicago        22    55       15    24          22   64   5     207.0\n",
       "Los Angeles    37    39        9    13          22   52   7     179.0\n",
       "Atlanta        23    45       15    24          14   41   8     170.0\n",
       "New York        1    29       13    13           4   52   6     118.0\n",
       "Houston        15    25        8    14          10   33   5     110.0\n",
       "Cleveland      12    27       11    10           9   13   6      88.0\n",
       "Portland       15    20       11     3           8   27   3      87.0\n",
       "Dallas         13    18        6     5           9   15   2      68.0"
      ]
     },
     "execution_count": 127,
     "metadata": {},
     "output_type": "execute_result"
    }
   ],
   "source": [
    "result['sum_city'] = result.sum(axis=1)\n",
    "result.sort_values('sum_city', ascending=False)"
   ]
  },
  {
   "cell_type": "code",
   "execution_count": 132,
   "id": "ea5854c4",
   "metadata": {
    "ExecuteTime": {
     "end_time": "2022-03-22T22:07:04.996184Z",
     "start_time": "2022-03-22T22:07:04.976787Z"
    }
   },
   "outputs": [
    {
     "data": {
      "text/plain": [
       "sum_city       1473.0\n",
       "food              430\n",
       "serve             367\n",
       "drive             203\n",
       "speed             148\n",
       "correctness       146\n",
       "attitude          120\n",
       "env                59\n",
       "dtype: object"
      ]
     },
     "execution_count": 132,
     "metadata": {},
     "output_type": "execute_result"
    }
   ],
   "source": [
    "sum_comp = result.sum(axis=0)\n",
    "sum_comp.sort_values(ascending=False)"
   ]
  },
  {
   "cell_type": "markdown",
   "id": "b486b678",
   "metadata": {},
   "source": [
    "## task4\n",
    "\n",
    "business recommendations & pitfalls/limitations"
   ]
  },
  {
   "cell_type": "markdown",
   "id": "79cc0171",
   "metadata": {},
   "source": [
    "### business recommendations\n",
    "Provide a few sentences with your findings and business recommendations."
   ]
  },
  {
   "cell_type": "code",
   "execution_count": 120,
   "id": "087ff550",
   "metadata": {
    "ExecuteTime": {
     "end_time": "2022-03-22T21:41:54.799076Z",
     "start_time": "2022-03-22T21:41:54.788597Z"
    }
   },
   "outputs": [
    {
     "data": {
      "text/plain": [
       "0.3027834351663272"
      ]
     },
     "execution_count": 120,
     "metadata": {},
     "output_type": "execute_result"
    }
   ],
   "source": [
    "result.loc['Las Vegas', 'sum_city'] / sum(result['sum_city'])"
   ]
  },
  {
   "cell_type": "code",
   "execution_count": 122,
   "id": "87dd92ba",
   "metadata": {
    "ExecuteTime": {
     "end_time": "2022-03-22T21:42:50.423011Z",
     "start_time": "2022-03-22T21:42:50.407022Z"
    }
   },
   "outputs": [
    {
     "data": {
      "text/plain": [
       "0.2982062780269058"
      ]
     },
     "execution_count": 122,
     "metadata": {},
     "output_type": "execute_result"
    }
   ],
   "source": [
    "result.loc['Las Vegas', 'food'] / result.loc['Las Vegas', 'sum_city']"
   ]
  },
  {
   "cell_type": "code",
   "execution_count": 121,
   "id": "27fb5edf",
   "metadata": {
    "ExecuteTime": {
     "end_time": "2022-03-22T21:42:43.143909Z",
     "start_time": "2022-03-22T21:42:43.120025Z"
    }
   },
   "outputs": [
    {
     "data": {
      "text/plain": [
       "0.24439461883408073"
      ]
     },
     "execution_count": 121,
     "metadata": {},
     "output_type": "execute_result"
    }
   ],
   "source": [
    "result.loc['Las Vegas', 'serve'] / result.loc['Las Vegas', 'sum_city']"
   ]
  },
  {
   "cell_type": "markdown",
   "id": "27b02aeb",
   "metadata": {},
   "source": [
    "<div class='alert-info'>\n",
    "    <b>Recommendation #1:</b>\n",
    "Overall, Las Vegas has most complaints, accounting for 30% of the total. Among the complaints, 30% are about the food quality and 24% are about customer service, both of which are employee-related. Therefore, McDonalds should provide extra training for employees in Las Vegas.\n",
    "</div>"
   ]
  },
  {
   "cell_type": "code",
   "execution_count": 133,
   "id": "e41015c3",
   "metadata": {
    "ExecuteTime": {
     "end_time": "2022-03-22T22:07:42.184985Z",
     "start_time": "2022-03-22T22:07:42.172723Z"
    }
   },
   "outputs": [
    {
     "data": {
      "text/plain": [
       "0.2919212491513917"
      ]
     },
     "execution_count": 133,
     "metadata": {},
     "output_type": "execute_result"
    }
   ],
   "source": [
    "sum_comp['food'] / sum_comp['sum_city']"
   ]
  },
  {
   "cell_type": "markdown",
   "id": "0c03ba1a",
   "metadata": {},
   "source": [
    "<div class='alert-info'>\n",
    "    <b>Recommendation #2:</b>\n",
    "Among the four topics, food quality complaints rank the 1st and account for 30% of the total. In this analysis, we only detect complaints about fries, coffee and breakfast, yet there're considerable complaints already. McDonalds should increase their standard for the food quality and require an extra examination before handing over the food.\n",
    "</div>"
   ]
  },
  {
   "cell_type": "code",
   "execution_count": 135,
   "id": "37562729",
   "metadata": {
    "ExecuteTime": {
     "end_time": "2022-03-22T22:08:44.349200Z",
     "start_time": "2022-03-22T22:08:44.340868Z"
    }
   },
   "outputs": [
    {
     "data": {
      "text/plain": [
       "(0.4032697547683924, 0.3978201634877384, 0.32697547683923706)"
      ]
     },
     "execution_count": 135,
     "metadata": {},
     "output_type": "execute_result"
    }
   ],
   "source": [
    "sum_comp['speed'] /sum_comp['serve'], \\\n",
    "sum_comp['correctness'] /sum_comp['serve'], \\\n",
    "sum_comp['attitude'] /sum_comp['serve'] "
   ]
  },
  {
   "cell_type": "markdown",
   "id": "893984ee",
   "metadata": {},
   "source": [
    "<div class='alert-info'>\n",
    "    <b>Recommendation #3:</b>\n",
    "Customer service is an important element of McDonalds' value chain. In this analysis, 40% complaints are about service speed, 40% are about service correctness and 33% are about service attitude. McDonalds should consider a more strict employee training program and/or increase the number of employees per location, especially for busy cities like Las Vegas, Chicago and Atlanta.\n",
    "</div>"
   ]
  },
  {
   "cell_type": "code",
   "execution_count": null,
   "id": "d2548fef",
   "metadata": {},
   "outputs": [],
   "source": []
  },
  {
   "cell_type": "markdown",
   "id": "83a034dc",
   "metadata": {},
   "source": [
    "### pitfalls/limitations\n",
    "Explain what some of pitfalls/limitations are of using only a word count analysis to make these inferences. What additional research/steps would you need to do to verify your conclusions?"
   ]
  },
  {
   "cell_type": "markdown",
   "id": "d71a431d",
   "metadata": {},
   "source": [
    "<div class='alert-info'>\n",
    "    <p><b>Pitfalls/Limitations:</b>\n",
    "In this case, word count analysis are not confirmable since we ignore the context of the words. For example, count of <i>slow</i> may take <i>not slow</i> into account and thus lead to false positives. Also, it is hard to consider all synonyms of certain topic given the variety of expressions, which would lead to false negatives.\n",
    "    <p><b>Additional research/steps:</b>\n",
    "Analysis that take context into consideration would be necessary for this NLP case. My analysis here only offers rough conclusions and without advanced NLP techniques, manual analysis is inevitable.\n",
    "</div>"
   ]
  },
  {
   "cell_type": "code",
   "execution_count": null,
   "id": "b07e232b",
   "metadata": {},
   "outputs": [],
   "source": []
  }
 ],
 "metadata": {
  "kernelspec": {
   "display_name": "Python 3",
   "language": "python",
   "name": "python3"
  },
  "language_info": {
   "codemirror_mode": {
    "name": "ipython",
    "version": 3
   },
   "file_extension": ".py",
   "mimetype": "text/x-python",
   "name": "python",
   "nbconvert_exporter": "python",
   "pygments_lexer": "ipython3",
   "version": "3.7.11"
  },
  "toc": {
   "base_numbering": 1,
   "nav_menu": {},
   "number_sections": true,
   "sideBar": true,
   "skip_h1_title": false,
   "title_cell": "Table of Contents",
   "title_sidebar": "Contents",
   "toc_cell": false,
   "toc_position": {
    "height": "calc(100% - 180px)",
    "left": "10px",
    "top": "150px",
    "width": "273.796875px"
   },
   "toc_section_display": true,
   "toc_window_display": true
  },
  "varInspector": {
   "cols": {
    "lenName": 16,
    "lenType": 16,
    "lenVar": 40
   },
   "kernels_config": {
    "python": {
     "delete_cmd_postfix": "",
     "delete_cmd_prefix": "del ",
     "library": "var_list.py",
     "varRefreshCmd": "print(var_dic_list())"
    },
    "r": {
     "delete_cmd_postfix": ") ",
     "delete_cmd_prefix": "rm(",
     "library": "var_list.r",
     "varRefreshCmd": "cat(var_dic_list()) "
    }
   },
   "types_to_exclude": [
    "module",
    "function",
    "builtin_function_or_method",
    "instance",
    "_Feature"
   ],
   "window_display": false
  }
 },
 "nbformat": 4,
 "nbformat_minor": 5
}
