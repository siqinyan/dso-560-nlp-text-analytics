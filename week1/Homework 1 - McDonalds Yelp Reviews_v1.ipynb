{
 "cells": [
  {
   "cell_type": "markdown",
   "id": "sacred-fantasy",
   "metadata": {},
   "source": [
    "# Homework 1 (Due Tuesday, March 22, 2022 at 6:29pm PST)\n",
    "\n",
    "**Rubric**\n",
    "* Identified 4 major themes from the reviews (2pts)\n",
    "* Regex that groups / cleans the reviews is correctly implemented (4pts)\n",
    "* Word count is correctly implemented (2pts)\n",
    "* Analysis of recommendations and pitfalls/limitations are specific enough to be actionable (2pts)\n",
    "* \n",
    "\n",
    "Not actionable recommendation:\n",
    "* *The store managers should consider trying to improve the drive through experience to be more pleasant for customers*\n",
    "\n",
    "More actionable recommendation:\n",
    "* *Drive throughs are mentioned 23% of the time in reviews, and often focus on how slow the service is. We recommend adopting parallel drive through stations for Atlanta and Chicago*\n",
    "\n",
    "You are a business analyst working for McDonalds. First, read through the reviews in `mcdonalds-yelp-negative-reviews.csv` (found in `datasets` folder). \n",
    "\n",
    "1. Identify 4 recurring themes/topics that reviewers are unhappy with. For example, one theme is that users are consistently unhappy with the drive-through experience.\n",
    "\n",
    "2. Next, using regex, group together all occurrences of these phrases. For example, `drive-thru`, `drive through`, `drivethrough` can all be replaced as `_DRIVE_THROUGH_`.\n",
    "\n",
    "3. Perform a word count, both overall, and broken out by city.\n",
    "\n",
    "4. **Provide a few sentences with your findings and business recommendations.** Make any assumptions you'd like. I just want you to get into the habit of \"finishing\" your analysis: to avoid delivering technical numbers to a non-technical manager.\n",
    "\n",
    "Some considerations in your analysis:\n",
    "\n",
    "* Explain what some of **pitfalls/limitations** are of using only a word count analysis to make these inferences. What additional research/steps would you need to do to verify your conclusions?\n",
    "\n",
    "**Submit everything as a new notebook and Slack direct message (group message) to me (Yu Chen) and the TAs (Mengqi Tan and Siyuan Ni) the HW as an attachment.**\n",
    "\n",
    "**NOTE**: Name the notebook `lastname_firstname_HW1.ipynb`.\n",
    "\n",
    "Every day late is -10%."
   ]
  },
  {
   "cell_type": "code",
   "execution_count": 1,
   "id": "a282755e",
   "metadata": {
    "ExecuteTime": {
     "end_time": "2022-03-13T04:23:01.729784Z",
     "start_time": "2022-03-13T04:23:01.408448Z"
    }
   },
   "outputs": [],
   "source": [
    "import pandas as pd\n",
    "import re\n",
    "from collections import Counter"
   ]
  },
  {
   "cell_type": "code",
   "execution_count": 2,
   "id": "8f47ec79",
   "metadata": {
    "ExecuteTime": {
     "end_time": "2022-03-13T04:23:01.740912Z",
     "start_time": "2022-03-13T04:23:01.738602Z"
    }
   },
   "outputs": [
    {
     "name": "stdout",
     "output_type": "stream",
     "text": [
      "<_io.TextIOWrapper name='../datasets/mcdonalds-yelp-negative-reviews.csv' mode='r' encoding='UTF-8'>\n"
     ]
    }
   ],
   "source": [
    "text = open('../datasets/mcdonalds-yelp-negative-reviews.csv', 'r')\n",
    "print(text)"
   ]
  },
  {
   "cell_type": "code",
   "execution_count": 3,
   "id": "77e8bf6b",
   "metadata": {
    "ExecuteTime": {
     "end_time": "2022-03-13T04:23:02.621322Z",
     "start_time": "2022-03-13T04:23:02.599059Z"
    }
   },
   "outputs": [
    {
     "data": {
      "text/plain": [
       "'_unit_id,city,review\\n'"
      ]
     },
     "execution_count": 3,
     "metadata": {},
     "output_type": "execute_result"
    }
   ],
   "source": [
    "text.readline()"
   ]
  },
  {
   "cell_type": "code",
   "execution_count": 4,
   "id": "20869b78",
   "metadata": {
    "ExecuteTime": {
     "end_time": "2022-03-13T04:23:03.162262Z",
     "start_time": "2022-03-13T04:23:03.120765Z"
    }
   },
   "outputs": [
    {
     "data": {
      "text/html": [
       "<div>\n",
       "<style scoped>\n",
       "    .dataframe tbody tr th:only-of-type {\n",
       "        vertical-align: middle;\n",
       "    }\n",
       "\n",
       "    .dataframe tbody tr th {\n",
       "        vertical-align: top;\n",
       "    }\n",
       "\n",
       "    .dataframe thead th {\n",
       "        text-align: right;\n",
       "    }\n",
       "</style>\n",
       "<table border=\"1\" class=\"dataframe\">\n",
       "  <thead>\n",
       "    <tr style=\"text-align: right;\">\n",
       "      <th></th>\n",
       "      <th>_unit_id</th>\n",
       "      <th>city</th>\n",
       "      <th>review</th>\n",
       "    </tr>\n",
       "  </thead>\n",
       "  <tbody>\n",
       "    <tr>\n",
       "      <th>0</th>\n",
       "      <td>679455653</td>\n",
       "      <td>Atlanta</td>\n",
       "      <td>I'm not a huge mcds lover, but I've been to be...</td>\n",
       "    </tr>\n",
       "    <tr>\n",
       "      <th>1</th>\n",
       "      <td>679455654</td>\n",
       "      <td>Atlanta</td>\n",
       "      <td>Terrible customer service. I came in at 9:30pm...</td>\n",
       "    </tr>\n",
       "    <tr>\n",
       "      <th>2</th>\n",
       "      <td>679455655</td>\n",
       "      <td>Atlanta</td>\n",
       "      <td>First they \"lost\" my order, actually they gave...</td>\n",
       "    </tr>\n",
       "    <tr>\n",
       "      <th>3</th>\n",
       "      <td>679455656</td>\n",
       "      <td>Atlanta</td>\n",
       "      <td>I see I'm not the only one giving 1 star. Only...</td>\n",
       "    </tr>\n",
       "    <tr>\n",
       "      <th>4</th>\n",
       "      <td>679455657</td>\n",
       "      <td>Atlanta</td>\n",
       "      <td>Well, it's McDonald's, so you know what the fo...</td>\n",
       "    </tr>\n",
       "    <tr>\n",
       "      <th>...</th>\n",
       "      <td>...</td>\n",
       "      <td>...</td>\n",
       "      <td>...</td>\n",
       "    </tr>\n",
       "    <tr>\n",
       "      <th>1520</th>\n",
       "      <td>679500008</td>\n",
       "      <td>Portland</td>\n",
       "      <td>I enjoyed the part where I repeatedly asked if...</td>\n",
       "    </tr>\n",
       "    <tr>\n",
       "      <th>1521</th>\n",
       "      <td>679500224</td>\n",
       "      <td>Houston</td>\n",
       "      <td>Worst McDonalds I've been in in a long time! D...</td>\n",
       "    </tr>\n",
       "    <tr>\n",
       "      <th>1522</th>\n",
       "      <td>679500608</td>\n",
       "      <td>New York</td>\n",
       "      <td>When I am really craving for McDonald's, this ...</td>\n",
       "    </tr>\n",
       "    <tr>\n",
       "      <th>1523</th>\n",
       "      <td>679501257</td>\n",
       "      <td>Chicago</td>\n",
       "      <td>Two points right out of the gate: 1. Thuggery ...</td>\n",
       "    </tr>\n",
       "    <tr>\n",
       "      <th>1524</th>\n",
       "      <td>679501402</td>\n",
       "      <td>Los Angeles</td>\n",
       "      <td>I wanted to grab breakfast one morning before ...</td>\n",
       "    </tr>\n",
       "  </tbody>\n",
       "</table>\n",
       "<p>1525 rows × 3 columns</p>\n",
       "</div>"
      ],
      "text/plain": [
       "       _unit_id         city  \\\n",
       "0     679455653      Atlanta   \n",
       "1     679455654      Atlanta   \n",
       "2     679455655      Atlanta   \n",
       "3     679455656      Atlanta   \n",
       "4     679455657      Atlanta   \n",
       "...         ...          ...   \n",
       "1520  679500008     Portland   \n",
       "1521  679500224      Houston   \n",
       "1522  679500608     New York   \n",
       "1523  679501257      Chicago   \n",
       "1524  679501402  Los Angeles   \n",
       "\n",
       "                                                 review  \n",
       "0     I'm not a huge mcds lover, but I've been to be...  \n",
       "1     Terrible customer service. I came in at 9:30pm...  \n",
       "2     First they \"lost\" my order, actually they gave...  \n",
       "3     I see I'm not the only one giving 1 star. Only...  \n",
       "4     Well, it's McDonald's, so you know what the fo...  \n",
       "...                                                 ...  \n",
       "1520  I enjoyed the part where I repeatedly asked if...  \n",
       "1521  Worst McDonalds I've been in in a long time! D...  \n",
       "1522  When I am really craving for McDonald's, this ...  \n",
       "1523  Two points right out of the gate: 1. Thuggery ...  \n",
       "1524  I wanted to grab breakfast one morning before ...  \n",
       "\n",
       "[1525 rows x 3 columns]"
      ]
     },
     "execution_count": 4,
     "metadata": {},
     "output_type": "execute_result"
    }
   ],
   "source": [
    "text_df = pd.read_csv('../datasets/mcdonalds-yelp-negative-reviews.csv', encoding_errors='ignore')\n",
    "text_df"
   ]
  },
  {
   "cell_type": "markdown",
   "id": "798ac80c",
   "metadata": {},
   "source": [
    "<div class='alert-danger'>\n",
    "    <p> Q:\n",
    "    <p> how to tell when <i>text</i> and when <i>text_df</i>?\n",
    "    <p> whether it's too much for memory?\n",
    "    </div>"
   ]
  },
  {
   "cell_type": "code",
   "execution_count": 178,
   "id": "20f1cd95",
   "metadata": {
    "ExecuteTime": {
     "end_time": "2022-03-13T05:52:29.272141Z",
     "start_time": "2022-03-13T05:52:29.245679Z"
    }
   },
   "outputs": [
    {
     "data": {
      "text/html": [
       "<div>\n",
       "<style scoped>\n",
       "    .dataframe tbody tr th:only-of-type {\n",
       "        vertical-align: middle;\n",
       "    }\n",
       "\n",
       "    .dataframe tbody tr th {\n",
       "        vertical-align: top;\n",
       "    }\n",
       "\n",
       "    .dataframe thead th {\n",
       "        text-align: right;\n",
       "    }\n",
       "</style>\n",
       "<table border=\"1\" class=\"dataframe\">\n",
       "  <thead>\n",
       "    <tr style=\"text-align: right;\">\n",
       "      <th></th>\n",
       "      <th>review</th>\n",
       "    </tr>\n",
       "    <tr>\n",
       "      <th>city</th>\n",
       "      <th></th>\n",
       "    </tr>\n",
       "  </thead>\n",
       "  <tbody>\n",
       "    <tr>\n",
       "      <th>Atlanta</th>\n",
       "      <td>130</td>\n",
       "    </tr>\n",
       "    <tr>\n",
       "      <th>Chicago</th>\n",
       "      <td>219</td>\n",
       "    </tr>\n",
       "    <tr>\n",
       "      <th>Cleveland</th>\n",
       "      <td>71</td>\n",
       "    </tr>\n",
       "    <tr>\n",
       "      <th>Dallas</th>\n",
       "      <td>75</td>\n",
       "    </tr>\n",
       "    <tr>\n",
       "      <th>Houston</th>\n",
       "      <td>105</td>\n",
       "    </tr>\n",
       "    <tr>\n",
       "      <th>Las Vegas</th>\n",
       "      <td>409</td>\n",
       "    </tr>\n",
       "    <tr>\n",
       "      <th>Los Angeles</th>\n",
       "      <td>167</td>\n",
       "    </tr>\n",
       "    <tr>\n",
       "      <th>New York</th>\n",
       "      <td>165</td>\n",
       "    </tr>\n",
       "    <tr>\n",
       "      <th>Portland</th>\n",
       "      <td>97</td>\n",
       "    </tr>\n",
       "  </tbody>\n",
       "</table>\n",
       "</div>"
      ],
      "text/plain": [
       "             review\n",
       "city               \n",
       "Atlanta         130\n",
       "Chicago         219\n",
       "Cleveland        71\n",
       "Dallas           75\n",
       "Houston         105\n",
       "Las Vegas       409\n",
       "Los Angeles     167\n",
       "New York        165\n",
       "Portland         97"
      ]
     },
     "execution_count": 178,
     "metadata": {},
     "output_type": "execute_result"
    }
   ],
   "source": [
    "text_df.groupby('city')[['review']].count()"
   ]
  },
  {
   "cell_type": "code",
   "execution_count": null,
   "id": "507651c4",
   "metadata": {},
   "outputs": [],
   "source": []
  },
  {
   "cell_type": "markdown",
   "id": "f8c64f04",
   "metadata": {},
   "source": [
    "## task1\n",
    "\n",
    "Identify 4 recurring themes/topics that reviewers are unhappy with."
   ]
  },
  {
   "cell_type": "code",
   "execution_count": 32,
   "id": "ecdc40ce",
   "metadata": {
    "ExecuteTime": {
     "end_time": "2022-03-13T03:16:58.243363Z",
     "start_time": "2022-03-13T03:16:58.232700Z"
    }
   },
   "outputs": [],
   "source": [
    "# review_com = ''\n",
    "# for r in data['review']:\n",
    "#     review_com += '\\n\\n'+r\n",
    "# review_com"
   ]
  },
  {
   "cell_type": "code",
   "execution_count": null,
   "id": "474d9e61",
   "metadata": {},
   "outputs": [],
   "source": [
    "# def count_words(lines, delimiter=\" \"):\n",
    "#     words = Counter() # instantiate a Counter object called words\n",
    "#     for line in lines:\n",
    "#         for word in line.split(delimiter):\n",
    "#             words[word] += 1 # increment count for word\n",
    "#     return words"
   ]
  },
  {
   "cell_type": "code",
   "execution_count": 7,
   "id": "9afb5938",
   "metadata": {
    "ExecuteTime": {
     "end_time": "2022-03-13T04:23:39.527045Z",
     "start_time": "2022-03-13T04:23:39.519545Z"
    }
   },
   "outputs": [],
   "source": [
    "def count_words(doc):\n",
    "    counts = Counter()\n",
    "    for r in doc:\n",
    "        counts_tmp = Counter(re.findall(r'\\w\\w+', r, flags=re.IGNORECASE))\n",
    "        counts += counts_tmp\n",
    "    return counts"
   ]
  },
  {
   "cell_type": "code",
   "execution_count": 9,
   "id": "772202e3",
   "metadata": {
    "ExecuteTime": {
     "end_time": "2022-03-13T04:23:46.255497Z",
     "start_time": "2022-03-13T04:23:45.752336Z"
    }
   },
   "outputs": [],
   "source": [
    "count_rough = count_words(text_df['review'])\n",
    "# sorted(count_rough, key=lambda x: -count_rough[x])"
   ]
  },
  {
   "cell_type": "code",
   "execution_count": 10,
   "id": "4c13f2a6",
   "metadata": {
    "ExecuteTime": {
     "end_time": "2022-03-13T04:23:47.387826Z",
     "start_time": "2022-03-13T04:23:47.354030Z"
    },
    "scrolled": true
   },
   "outputs": [
    {
     "data": {
      "text/plain": [
       "[('the', 6237),\n",
       " ('and', 4137),\n",
       " ('to', 4030),\n",
       " ('of', 2005),\n",
       " ('is', 1918),\n",
       " ('was', 1793),\n",
       " ('in', 1788),\n",
       " ('it', 1756),\n",
       " ('for', 1651),\n",
       " ('this', 1427),\n",
       " ('my', 1421),\n",
       " ('that', 1327),\n",
       " ('you', 1252),\n",
       " ('they', 1232),\n",
       " ('at', 1019),\n",
       " ('have', 950),\n",
       " ('on', 908),\n",
       " ('not', 897),\n",
       " ('but', 858),\n",
       " ('me', 857),\n",
       " ('The', 845),\n",
       " ('order', 838),\n",
       " ('food', 832),\n",
       " ('McDonald', 822),\n",
       " ('with', 815),\n",
       " ('are', 707),\n",
       " ('one', 682),\n",
       " ('get', 665),\n",
       " ('there', 656),\n",
       " ('drive', 650),\n",
       " ('be', 648),\n",
       " ('so', 636),\n",
       " ('up', 586),\n",
       " ('here', 580),\n",
       " ('had', 566),\n",
       " ('just', 540),\n",
       " ('time', 525),\n",
       " ('or', 516),\n",
       " ('go', 511),\n",
       " ('out', 495),\n",
       " ('like', 483),\n",
       " ('service', 481),\n",
       " ('no', 468),\n",
       " ('as', 468),\n",
       " ('thru', 467),\n",
       " ('It', 464),\n",
       " ('place', 460),\n",
       " ('This', 455),\n",
       " ('when', 451),\n",
       " ('were', 445),\n",
       " ('McDonalds', 443),\n",
       " ('can', 423),\n",
       " ('your', 413),\n",
       " ('all', 405),\n",
       " ('only', 397),\n",
       " ('what', 396),\n",
       " ('if', 387),\n",
       " ('because', 382),\n",
       " ('location', 382),\n",
       " ('their', 373),\n",
       " ('we', 371),\n",
       " ('about', 366),\n",
       " ('been', 365),\n",
       " ('an', 361),\n",
       " ('from', 360),\n",
       " ('don', 345),\n",
       " ('They', 337),\n",
       " ('people', 337),\n",
       " ('ve', 325),\n",
       " ('back', 321),\n",
       " ('would', 321),\n",
       " ('do', 306),\n",
       " ('even', 297),\n",
       " ('fries', 295),\n",
       " ('through', 287),\n",
       " ('got', 285),\n",
       " ('always', 276),\n",
       " ('some', 269),\n",
       " ('by', 268),\n",
       " ('them', 268),\n",
       " ('minutes', 262),\n",
       " ('will', 258),\n",
       " ('coffee', 254),\n",
       " ('good', 254),\n",
       " ('she', 253),\n",
       " ('window', 252),\n",
       " ('ordered', 252),\n",
       " ('ever', 251),\n",
       " ('has', 249),\n",
       " ('very', 247),\n",
       " ('other', 242),\n",
       " ('right', 239),\n",
       " ('our', 236),\n",
       " ('than', 232),\n",
       " ('never', 231),\n",
       " ('who', 227),\n",
       " ('fast', 226),\n",
       " ('line', 226),\n",
       " ('more', 224),\n",
       " ('then', 220),\n",
       " ('really', 215),\n",
       " ('went', 214),\n",
       " ('after', 208),\n",
       " ('know', 205),\n",
       " ('times', 205),\n",
       " ('said', 200),\n",
       " ('her', 198),\n",
       " ('manager', 198),\n",
       " ('he', 198),\n",
       " ('which', 195),\n",
       " ('way', 192),\n",
       " ('staff', 191),\n",
       " ('work', 186),\n",
       " ('give', 185),\n",
       " ('around', 184),\n",
       " ('want', 182),\n",
       " ('before', 179),\n",
       " ('customer', 178),\n",
       " ('We', 175),\n",
       " ('wrong', 175),\n",
       " ('breakfast', 174),\n",
       " ('asked', 173),\n",
       " ('over', 173),\n",
       " ('two', 173),\n",
       " ('wait', 172),\n",
       " ('eat', 170),\n",
       " ('bad', 170),\n",
       " ('re', 170),\n",
       " ('inside', 169),\n",
       " ('off', 169),\n",
       " ('say', 166),\n",
       " ('any', 165),\n",
       " ('could', 163),\n",
       " ('down', 163),\n",
       " ('am', 161),\n",
       " ('didn', 160),\n",
       " ('going', 159),\n",
       " ('did', 158),\n",
       " ('So', 158),\n",
       " ('make', 158),\n",
       " ('come', 157),\n",
       " ('And', 156),\n",
       " ('too', 154),\n",
       " ('us', 154),\n",
       " ('how', 154),\n",
       " ('waiting', 153),\n",
       " ('something', 152),\n",
       " ('think', 149),\n",
       " ('There', 148),\n",
       " ('long', 148)]"
      ]
     },
     "execution_count": 10,
     "metadata": {},
     "output_type": "execute_result"
    }
   ],
   "source": [
    "count_rough.most_common(150)"
   ]
  },
  {
   "cell_type": "markdown",
   "id": "1f6f73cb",
   "metadata": {},
   "source": [
    "<div class=\"alert-info\">\n",
    "    Roughly speaking, there may be much complaint about <b>('drive', 650), ('time', 525), ('location', 382), ('fries', 295), ('coffee', 254), ('breakfast', 174)</b> \n",
    "    </div>"
   ]
  },
  {
   "cell_type": "markdown",
   "id": "bed1bbda",
   "metadata": {},
   "source": [
    "<div class='alert-danger'>\n",
    "    <p> TO-DO:\n",
    "    <p> 1) how to tell <i>time</i> ~= <i>slow</i>? how to include <i>time</i> accurately in <i>slow</i> and exclude slow-irrelevant \"time\"s\n",
    "    <p> 2) how to aggregate same topic? (e.g. slow, time, long, xx minutes)\n",
    "    <p> 3) how to identify survivor bias? (e.g. people complaint fries more because they order fries more)\n",
    "    </div>"
   ]
  },
  {
   "cell_type": "markdown",
   "id": "f8811dab",
   "metadata": {},
   "source": [
    "<div class='alert-info'>\n",
    "    <p> After scanning the reviews manually, 4 themes are identified below:\n",
    "    <p> &emsp; - Terrible Drive Through\n",
    "    <p> &emsp; - Slow Service\n",
    "    <p> &emsp; - Terrible Food (especially the fries and coffee)\n",
    "    <p> &emsp; - Terrible Breakfast\n",
    "    </div>"
   ]
  },
  {
   "cell_type": "code",
   "execution_count": null,
   "id": "d103f6c9",
   "metadata": {},
   "outputs": [],
   "source": []
  },
  {
   "cell_type": "markdown",
   "id": "05aea5db",
   "metadata": {},
   "source": [
    "## task2\n",
    "\n",
    "Next, using regex, group together all occurrences of these phrases."
   ]
  },
  {
   "cell_type": "code",
   "execution_count": 64,
   "id": "15e3f989",
   "metadata": {
    "ExecuteTime": {
     "end_time": "2022-03-13T05:23:52.240860Z",
     "start_time": "2022-03-13T05:23:52.229196Z"
    }
   },
   "outputs": [],
   "source": [
    "def standardize_word(doc, word_orig, word_std):\n",
    "    for i in range(len(doc)):\n",
    "#         rev_txt = rev.split(',\"')[1] # it's for text not text_df\n",
    "        rev = doc.iloc[i, -1]\n",
    "        doc.iloc[i, -1] = re.sub(word_orig, word_std, rev, flags=re.IGNORECASE)"
   ]
  },
  {
   "cell_type": "code",
   "execution_count": 66,
   "id": "95eb079b",
   "metadata": {
    "ExecuteTime": {
     "end_time": "2022-03-13T05:24:02.457631Z",
     "start_time": "2022-03-13T05:24:02.429868Z"
    }
   },
   "outputs": [
    {
     "data": {
      "text/html": [
       "<div>\n",
       "<style scoped>\n",
       "    .dataframe tbody tr th:only-of-type {\n",
       "        vertical-align: middle;\n",
       "    }\n",
       "\n",
       "    .dataframe tbody tr th {\n",
       "        vertical-align: top;\n",
       "    }\n",
       "\n",
       "    .dataframe thead th {\n",
       "        text-align: right;\n",
       "    }\n",
       "</style>\n",
       "<table border=\"1\" class=\"dataframe\">\n",
       "  <thead>\n",
       "    <tr style=\"text-align: right;\">\n",
       "      <th></th>\n",
       "      <th>_unit_id</th>\n",
       "      <th>city</th>\n",
       "      <th>review</th>\n",
       "      <th>review_std</th>\n",
       "    </tr>\n",
       "  </thead>\n",
       "  <tbody>\n",
       "    <tr>\n",
       "      <th>0</th>\n",
       "      <td>679455653</td>\n",
       "      <td>Atlanta</td>\n",
       "      <td>I'm not a huge mcds lover, but I've been to be...</td>\n",
       "      <td>I'm not a huge mcds lover, but I've been to be...</td>\n",
       "    </tr>\n",
       "    <tr>\n",
       "      <th>1</th>\n",
       "      <td>679455654</td>\n",
       "      <td>Atlanta</td>\n",
       "      <td>Terrible customer service. I came in at 9:30pm...</td>\n",
       "      <td>Terrible customer service. I came in at 9:30pm...</td>\n",
       "    </tr>\n",
       "    <tr>\n",
       "      <th>2</th>\n",
       "      <td>679455655</td>\n",
       "      <td>Atlanta</td>\n",
       "      <td>First they \"lost\" my order, actually they gave...</td>\n",
       "      <td>First they \"lost\" my order, actually they gave...</td>\n",
       "    </tr>\n",
       "    <tr>\n",
       "      <th>3</th>\n",
       "      <td>679455656</td>\n",
       "      <td>Atlanta</td>\n",
       "      <td>I see I'm not the only one giving 1 star. Only...</td>\n",
       "      <td>I see I'm not the only one giving 1 star. Only...</td>\n",
       "    </tr>\n",
       "    <tr>\n",
       "      <th>4</th>\n",
       "      <td>679455657</td>\n",
       "      <td>Atlanta</td>\n",
       "      <td>Well, it's McDonald's, so you know what the fo...</td>\n",
       "      <td>Well, it's McDonald's, so you know what the fo...</td>\n",
       "    </tr>\n",
       "    <tr>\n",
       "      <th>...</th>\n",
       "      <td>...</td>\n",
       "      <td>...</td>\n",
       "      <td>...</td>\n",
       "      <td>...</td>\n",
       "    </tr>\n",
       "    <tr>\n",
       "      <th>1520</th>\n",
       "      <td>679500008</td>\n",
       "      <td>Portland</td>\n",
       "      <td>I enjoyed the part where I repeatedly asked if...</td>\n",
       "      <td>I enjoyed the part where I repeatedly asked if...</td>\n",
       "    </tr>\n",
       "    <tr>\n",
       "      <th>1521</th>\n",
       "      <td>679500224</td>\n",
       "      <td>Houston</td>\n",
       "      <td>Worst McDonalds I've been in in a long time! D...</td>\n",
       "      <td>Worst McDonalds I've been in in a long time! D...</td>\n",
       "    </tr>\n",
       "    <tr>\n",
       "      <th>1522</th>\n",
       "      <td>679500608</td>\n",
       "      <td>New York</td>\n",
       "      <td>When I am really craving for McDonald's, this ...</td>\n",
       "      <td>When I am really craving for McDonald's, this ...</td>\n",
       "    </tr>\n",
       "    <tr>\n",
       "      <th>1523</th>\n",
       "      <td>679501257</td>\n",
       "      <td>Chicago</td>\n",
       "      <td>Two points right out of the gate: 1. Thuggery ...</td>\n",
       "      <td>Two points right out of the gate: 1. Thuggery ...</td>\n",
       "    </tr>\n",
       "    <tr>\n",
       "      <th>1524</th>\n",
       "      <td>679501402</td>\n",
       "      <td>Los Angeles</td>\n",
       "      <td>I wanted to grab breakfast one morning before ...</td>\n",
       "      <td>I wanted to grab breakfast one morning before ...</td>\n",
       "    </tr>\n",
       "  </tbody>\n",
       "</table>\n",
       "<p>1525 rows × 4 columns</p>\n",
       "</div>"
      ],
      "text/plain": [
       "       _unit_id         city  \\\n",
       "0     679455653      Atlanta   \n",
       "1     679455654      Atlanta   \n",
       "2     679455655      Atlanta   \n",
       "3     679455656      Atlanta   \n",
       "4     679455657      Atlanta   \n",
       "...         ...          ...   \n",
       "1520  679500008     Portland   \n",
       "1521  679500224      Houston   \n",
       "1522  679500608     New York   \n",
       "1523  679501257      Chicago   \n",
       "1524  679501402  Los Angeles   \n",
       "\n",
       "                                                 review  \\\n",
       "0     I'm not a huge mcds lover, but I've been to be...   \n",
       "1     Terrible customer service. I came in at 9:30pm...   \n",
       "2     First they \"lost\" my order, actually they gave...   \n",
       "3     I see I'm not the only one giving 1 star. Only...   \n",
       "4     Well, it's McDonald's, so you know what the fo...   \n",
       "...                                                 ...   \n",
       "1520  I enjoyed the part where I repeatedly asked if...   \n",
       "1521  Worst McDonalds I've been in in a long time! D...   \n",
       "1522  When I am really craving for McDonald's, this ...   \n",
       "1523  Two points right out of the gate: 1. Thuggery ...   \n",
       "1524  I wanted to grab breakfast one morning before ...   \n",
       "\n",
       "                                             review_std  \n",
       "0     I'm not a huge mcds lover, but I've been to be...  \n",
       "1     Terrible customer service. I came in at 9:30pm...  \n",
       "2     First they \"lost\" my order, actually they gave...  \n",
       "3     I see I'm not the only one giving 1 star. Only...  \n",
       "4     Well, it's McDonald's, so you know what the fo...  \n",
       "...                                                 ...  \n",
       "1520  I enjoyed the part where I repeatedly asked if...  \n",
       "1521  Worst McDonalds I've been in in a long time! D...  \n",
       "1522  When I am really craving for McDonald's, this ...  \n",
       "1523  Two points right out of the gate: 1. Thuggery ...  \n",
       "1524  I wanted to grab breakfast one morning before ...  \n",
       "\n",
       "[1525 rows x 4 columns]"
      ]
     },
     "execution_count": 66,
     "metadata": {},
     "output_type": "execute_result"
    }
   ],
   "source": [
    "text_df['review_std'] = text_df['review']\n",
    "text_df"
   ]
  },
  {
   "cell_type": "markdown",
   "id": "522e97d0",
   "metadata": {},
   "source": [
    "### Terrible Drive Through"
   ]
  },
  {
   "cell_type": "markdown",
   "id": "9bb47d2b",
   "metadata": {},
   "source": [
    "<div class='alert-info'>\n",
    "    drive-thru, drive through, drivethrough --> <b><i>_DRIVE_THROUGH_.\n",
    "    </div>"
   ]
  },
  {
   "cell_type": "code",
   "execution_count": 67,
   "id": "9388e321",
   "metadata": {
    "ExecuteTime": {
     "end_time": "2022-03-13T05:24:06.451847Z",
     "start_time": "2022-03-13T05:24:06.238588Z"
    }
   },
   "outputs": [],
   "source": [
    "word_orig, word_std = r'(drive-thru|drivethrough|drive through)', '_DRIVE_THROUGH_'\n",
    "standardize_word(text_df, word_orig, word_std)"
   ]
  },
  {
   "cell_type": "code",
   "execution_count": 68,
   "id": "cf06a506",
   "metadata": {
    "ExecuteTime": {
     "end_time": "2022-03-13T05:24:06.813591Z",
     "start_time": "2022-03-13T05:24:06.791209Z"
    }
   },
   "outputs": [
    {
     "data": {
      "text/html": [
       "<div>\n",
       "<style scoped>\n",
       "    .dataframe tbody tr th:only-of-type {\n",
       "        vertical-align: middle;\n",
       "    }\n",
       "\n",
       "    .dataframe tbody tr th {\n",
       "        vertical-align: top;\n",
       "    }\n",
       "\n",
       "    .dataframe thead th {\n",
       "        text-align: right;\n",
       "    }\n",
       "</style>\n",
       "<table border=\"1\" class=\"dataframe\">\n",
       "  <thead>\n",
       "    <tr style=\"text-align: right;\">\n",
       "      <th></th>\n",
       "      <th>_unit_id</th>\n",
       "      <th>city</th>\n",
       "      <th>review</th>\n",
       "      <th>review_std</th>\n",
       "    </tr>\n",
       "  </thead>\n",
       "  <tbody>\n",
       "    <tr>\n",
       "      <th>0</th>\n",
       "      <td>679455653</td>\n",
       "      <td>Atlanta</td>\n",
       "      <td>I'm not a huge mcds lover, but I've been to be...</td>\n",
       "      <td>I'm not a huge mcds lover, but I've been to be...</td>\n",
       "    </tr>\n",
       "    <tr>\n",
       "      <th>1</th>\n",
       "      <td>679455654</td>\n",
       "      <td>Atlanta</td>\n",
       "      <td>Terrible customer service. I came in at 9:30pm...</td>\n",
       "      <td>Terrible customer service. I came in at 9:30pm...</td>\n",
       "    </tr>\n",
       "    <tr>\n",
       "      <th>2</th>\n",
       "      <td>679455655</td>\n",
       "      <td>Atlanta</td>\n",
       "      <td>First they \"lost\" my order, actually they gave...</td>\n",
       "      <td>First they \"lost\" my order, actually they gave...</td>\n",
       "    </tr>\n",
       "    <tr>\n",
       "      <th>3</th>\n",
       "      <td>679455656</td>\n",
       "      <td>Atlanta</td>\n",
       "      <td>I see I'm not the only one giving 1 star. Only...</td>\n",
       "      <td>I see I'm not the only one giving 1 star. Only...</td>\n",
       "    </tr>\n",
       "    <tr>\n",
       "      <th>4</th>\n",
       "      <td>679455657</td>\n",
       "      <td>Atlanta</td>\n",
       "      <td>Well, it's McDonald's, so you know what the fo...</td>\n",
       "      <td>Well, it's McDonald's, so you know what the fo...</td>\n",
       "    </tr>\n",
       "    <tr>\n",
       "      <th>...</th>\n",
       "      <td>...</td>\n",
       "      <td>...</td>\n",
       "      <td>...</td>\n",
       "      <td>...</td>\n",
       "    </tr>\n",
       "    <tr>\n",
       "      <th>1520</th>\n",
       "      <td>679500008</td>\n",
       "      <td>Portland</td>\n",
       "      <td>I enjoyed the part where I repeatedly asked if...</td>\n",
       "      <td>I enjoyed the part where I repeatedly asked if...</td>\n",
       "    </tr>\n",
       "    <tr>\n",
       "      <th>1521</th>\n",
       "      <td>679500224</td>\n",
       "      <td>Houston</td>\n",
       "      <td>Worst McDonalds I've been in in a long time! D...</td>\n",
       "      <td>Worst McDonalds I've been in in a long time! D...</td>\n",
       "    </tr>\n",
       "    <tr>\n",
       "      <th>1522</th>\n",
       "      <td>679500608</td>\n",
       "      <td>New York</td>\n",
       "      <td>When I am really craving for McDonald's, this ...</td>\n",
       "      <td>When I am really craving for McDonald's, this ...</td>\n",
       "    </tr>\n",
       "    <tr>\n",
       "      <th>1523</th>\n",
       "      <td>679501257</td>\n",
       "      <td>Chicago</td>\n",
       "      <td>Two points right out of the gate: 1. Thuggery ...</td>\n",
       "      <td>Two points right out of the gate: 1. Thuggery ...</td>\n",
       "    </tr>\n",
       "    <tr>\n",
       "      <th>1524</th>\n",
       "      <td>679501402</td>\n",
       "      <td>Los Angeles</td>\n",
       "      <td>I wanted to grab breakfast one morning before ...</td>\n",
       "      <td>I wanted to grab breakfast one morning before ...</td>\n",
       "    </tr>\n",
       "  </tbody>\n",
       "</table>\n",
       "<p>1525 rows × 4 columns</p>\n",
       "</div>"
      ],
      "text/plain": [
       "       _unit_id         city  \\\n",
       "0     679455653      Atlanta   \n",
       "1     679455654      Atlanta   \n",
       "2     679455655      Atlanta   \n",
       "3     679455656      Atlanta   \n",
       "4     679455657      Atlanta   \n",
       "...         ...          ...   \n",
       "1520  679500008     Portland   \n",
       "1521  679500224      Houston   \n",
       "1522  679500608     New York   \n",
       "1523  679501257      Chicago   \n",
       "1524  679501402  Los Angeles   \n",
       "\n",
       "                                                 review  \\\n",
       "0     I'm not a huge mcds lover, but I've been to be...   \n",
       "1     Terrible customer service. I came in at 9:30pm...   \n",
       "2     First they \"lost\" my order, actually they gave...   \n",
       "3     I see I'm not the only one giving 1 star. Only...   \n",
       "4     Well, it's McDonald's, so you know what the fo...   \n",
       "...                                                 ...   \n",
       "1520  I enjoyed the part where I repeatedly asked if...   \n",
       "1521  Worst McDonalds I've been in in a long time! D...   \n",
       "1522  When I am really craving for McDonald's, this ...   \n",
       "1523  Two points right out of the gate: 1. Thuggery ...   \n",
       "1524  I wanted to grab breakfast one morning before ...   \n",
       "\n",
       "                                             review_std  \n",
       "0     I'm not a huge mcds lover, but I've been to be...  \n",
       "1     Terrible customer service. I came in at 9:30pm...  \n",
       "2     First they \"lost\" my order, actually they gave...  \n",
       "3     I see I'm not the only one giving 1 star. Only...  \n",
       "4     Well, it's McDonald's, so you know what the fo...  \n",
       "...                                                 ...  \n",
       "1520  I enjoyed the part where I repeatedly asked if...  \n",
       "1521  Worst McDonalds I've been in in a long time! D...  \n",
       "1522  When I am really craving for McDonald's, this ...  \n",
       "1523  Two points right out of the gate: 1. Thuggery ...  \n",
       "1524  I wanted to grab breakfast one morning before ...  \n",
       "\n",
       "[1525 rows x 4 columns]"
      ]
     },
     "execution_count": 68,
     "metadata": {},
     "output_type": "execute_result"
    }
   ],
   "source": [
    "text_df"
   ]
  },
  {
   "cell_type": "code",
   "execution_count": null,
   "id": "b5906139",
   "metadata": {},
   "outputs": [],
   "source": []
  },
  {
   "cell_type": "markdown",
   "id": "d0b027f2",
   "metadata": {},
   "source": [
    "### Slow Service"
   ]
  },
  {
   "cell_type": "markdown",
   "id": "ad45d60a",
   "metadata": {},
   "source": [
    "<div class='alert-info'>\n",
    "    slow, slowly, sl-ow, SLOW, ... --> <b><i>_SLOW_\n",
    "    </div>"
   ]
  },
  {
   "cell_type": "code",
   "execution_count": 69,
   "id": "4a2f60bf",
   "metadata": {
    "ExecuteTime": {
     "end_time": "2022-03-13T05:24:09.908921Z",
     "start_time": "2022-03-13T05:24:09.678882Z"
    }
   },
   "outputs": [],
   "source": [
    "word_orig, word_std = r'(\\bs(?:\\-)?l(?:\\-)?o(?:\\-)?w(?:\\-)?(?:ly)?\\b)', '_SLOW_'\n",
    "standardize_word(text_df, word_orig, word_std)"
   ]
  },
  {
   "cell_type": "markdown",
   "id": "ea94e1f9",
   "metadata": {},
   "source": [
    "<div class='alert-danger'>\n",
    "    Q: any simplification?\n",
    "    </div>"
   ]
  },
  {
   "cell_type": "code",
   "execution_count": null,
   "id": "dd16db10",
   "metadata": {},
   "outputs": [],
   "source": []
  },
  {
   "cell_type": "markdown",
   "id": "c638ab45",
   "metadata": {},
   "source": [
    "### Terrible food (especially the fries and coffee)"
   ]
  },
  {
   "cell_type": "markdown",
   "id": "a2db3747",
   "metadata": {},
   "source": [
    "#### fries"
   ]
  },
  {
   "cell_type": "markdown",
   "id": "81ebe461",
   "metadata": {},
   "source": [
    "<div class='alert-info'>\n",
    "    fries --> <b><i>_FRIES_\n",
    "    </div>"
   ]
  },
  {
   "cell_type": "code",
   "execution_count": 70,
   "id": "a9dd8c84",
   "metadata": {
    "ExecuteTime": {
     "end_time": "2022-03-13T05:24:10.783377Z",
     "start_time": "2022-03-13T05:24:10.571678Z"
    }
   },
   "outputs": [],
   "source": [
    "word_orig, word_std = r'(fries)', '_FRIES_'\n",
    "standardize_word(text_df, word_orig, word_std)"
   ]
  },
  {
   "cell_type": "code",
   "execution_count": null,
   "id": "d0f9700c",
   "metadata": {},
   "outputs": [],
   "source": []
  },
  {
   "cell_type": "markdown",
   "id": "8bc80040",
   "metadata": {},
   "source": [
    "#### coffee"
   ]
  },
  {
   "cell_type": "markdown",
   "id": "745be35f",
   "metadata": {},
   "source": [
    "<div class='alert-info'>\n",
    "    coffee --> <b><i>_COFFEE_\n",
    "    </div>"
   ]
  },
  {
   "cell_type": "code",
   "execution_count": 71,
   "id": "c034c884",
   "metadata": {
    "ExecuteTime": {
     "end_time": "2022-03-13T05:24:11.439307Z",
     "start_time": "2022-03-13T05:24:11.213460Z"
    }
   },
   "outputs": [],
   "source": [
    "word_orig, word_std = r'(coffee)', '_COFFEE_'\n",
    "standardize_word(text_df, word_orig, word_std)"
   ]
  },
  {
   "cell_type": "code",
   "execution_count": null,
   "id": "66529cb5",
   "metadata": {},
   "outputs": [],
   "source": []
  },
  {
   "cell_type": "markdown",
   "id": "9f430e99",
   "metadata": {},
   "source": [
    "### Terrible Breakfast"
   ]
  },
  {
   "cell_type": "markdown",
   "id": "f81f8af7",
   "metadata": {
    "ExecuteTime": {
     "end_time": "2022-03-13T05:02:19.216868Z",
     "start_time": "2022-03-13T05:02:19.207836Z"
    }
   },
   "source": [
    "<div class='alert-info'>\n",
    "    breakfast, Breakfast, ... --> <b><i>_BREAKFAST_\n",
    "    </div>"
   ]
  },
  {
   "cell_type": "code",
   "execution_count": 72,
   "id": "507a6660",
   "metadata": {
    "ExecuteTime": {
     "end_time": "2022-03-13T05:24:12.105827Z",
     "start_time": "2022-03-13T05:24:11.896026Z"
    }
   },
   "outputs": [],
   "source": [
    "word_orig, word_std = r'(breakfast)', '_BREAKFAST_'\n",
    "standardize_word(text_df, word_orig, word_std)"
   ]
  },
  {
   "cell_type": "code",
   "execution_count": null,
   "id": "c1ecfc19",
   "metadata": {},
   "outputs": [],
   "source": []
  },
  {
   "cell_type": "markdown",
   "id": "2854fe5a",
   "metadata": {},
   "source": [
    "## task3\n",
    "\n",
    "Perform a word count, both overall, and broken out by city."
   ]
  },
  {
   "cell_type": "code",
   "execution_count": 80,
   "id": "7b848c9b",
   "metadata": {
    "ExecuteTime": {
     "end_time": "2022-03-13T05:26:49.136318Z",
     "start_time": "2022-03-13T05:26:49.125105Z"
    }
   },
   "outputs": [],
   "source": [
    "def count_certain_word_overall(doc, word):\n",
    "    counts = Counter()\n",
    "    for r in doc:\n",
    "        counts_tmp = Counter(re.findall(word, r))\n",
    "        counts += counts_tmp\n",
    "    return counts"
   ]
  },
  {
   "cell_type": "code",
   "execution_count": 167,
   "id": "7807a088",
   "metadata": {
    "ExecuteTime": {
     "end_time": "2022-03-13T05:43:49.862191Z",
     "start_time": "2022-03-13T05:43:49.844484Z"
    }
   },
   "outputs": [],
   "source": [
    "def count_certain_word_bycity(df, word):\n",
    "    result = pd.DataFrame(columns=['city', 'count'])\n",
    "    for c in df['city'].unique():\n",
    "        df_tmp = df.loc[df['city']==c]\n",
    "        counts = Counter()\n",
    "        for r in df_tmp['review_std']:\n",
    "            counts_tmp = Counter(re.findall(word, r))\n",
    "            counts += counts_tmp\n",
    "#         result.append({'city': c, 'count': list(counts.values())[0]}, ignore_index=True)\n",
    "        result = result.append({'city': c, 'count': counts.values()}, ignore_index=True)\n",
    "    return result"
   ]
  },
  {
   "cell_type": "markdown",
   "id": "229dc187",
   "metadata": {},
   "source": [
    "### _DRIVE_THROUGH_"
   ]
  },
  {
   "cell_type": "markdown",
   "id": "5c88daa0",
   "metadata": {},
   "source": [
    "#### overall"
   ]
  },
  {
   "cell_type": "code",
   "execution_count": 111,
   "id": "a6b8c5b6",
   "metadata": {
    "ExecuteTime": {
     "end_time": "2022-03-13T05:32:29.305772Z",
     "start_time": "2022-03-13T05:32:29.282381Z"
    }
   },
   "outputs": [
    {
     "data": {
      "text/plain": [
       "Counter({'_DRIVE_THROUGH_': 290})"
      ]
     },
     "execution_count": 111,
     "metadata": {},
     "output_type": "execute_result"
    }
   ],
   "source": [
    "count_drive = count_certain_word_overall(text_df['review_std'], '_DRIVE_THROUGH_')\n",
    "count_drive"
   ]
  },
  {
   "cell_type": "markdown",
   "id": "c177c368",
   "metadata": {},
   "source": [
    "#### by city"
   ]
  },
  {
   "cell_type": "code",
   "execution_count": 168,
   "id": "00cff48b",
   "metadata": {
    "ExecuteTime": {
     "end_time": "2022-03-13T05:43:51.708887Z",
     "start_time": "2022-03-13T05:43:51.666961Z"
    }
   },
   "outputs": [
    {
     "data": {
      "text/html": [
       "<div>\n",
       "<style scoped>\n",
       "    .dataframe tbody tr th:only-of-type {\n",
       "        vertical-align: middle;\n",
       "    }\n",
       "\n",
       "    .dataframe tbody tr th {\n",
       "        vertical-align: top;\n",
       "    }\n",
       "\n",
       "    .dataframe thead th {\n",
       "        text-align: right;\n",
       "    }\n",
       "</style>\n",
       "<table border=\"1\" class=\"dataframe\">\n",
       "  <thead>\n",
       "    <tr style=\"text-align: right;\">\n",
       "      <th></th>\n",
       "      <th>city</th>\n",
       "      <th>count</th>\n",
       "    </tr>\n",
       "  </thead>\n",
       "  <tbody>\n",
       "    <tr>\n",
       "      <th>0</th>\n",
       "      <td>Atlanta</td>\n",
       "      <td>(30)</td>\n",
       "    </tr>\n",
       "    <tr>\n",
       "      <th>1</th>\n",
       "      <td>Las Vegas</td>\n",
       "      <td>(83)</td>\n",
       "    </tr>\n",
       "    <tr>\n",
       "      <th>2</th>\n",
       "      <td>Dallas</td>\n",
       "      <td>(15)</td>\n",
       "    </tr>\n",
       "    <tr>\n",
       "      <th>3</th>\n",
       "      <td>Portland</td>\n",
       "      <td>(20)</td>\n",
       "    </tr>\n",
       "    <tr>\n",
       "      <th>4</th>\n",
       "      <td>Chicago</td>\n",
       "      <td>(24)</td>\n",
       "    </tr>\n",
       "    <tr>\n",
       "      <th>5</th>\n",
       "      <td>Cleveland</td>\n",
       "      <td>(16)</td>\n",
       "    </tr>\n",
       "    <tr>\n",
       "      <th>6</th>\n",
       "      <td>Houston</td>\n",
       "      <td>(22)</td>\n",
       "    </tr>\n",
       "    <tr>\n",
       "      <th>7</th>\n",
       "      <td>Los Angeles</td>\n",
       "      <td>(52)</td>\n",
       "    </tr>\n",
       "    <tr>\n",
       "      <th>8</th>\n",
       "      <td>New York</td>\n",
       "      <td>(1)</td>\n",
       "    </tr>\n",
       "    <tr>\n",
       "      <th>9</th>\n",
       "      <td>NaN</td>\n",
       "      <td>()</td>\n",
       "    </tr>\n",
       "  </tbody>\n",
       "</table>\n",
       "</div>"
      ],
      "text/plain": [
       "          city count\n",
       "0      Atlanta  (30)\n",
       "1    Las Vegas  (83)\n",
       "2       Dallas  (15)\n",
       "3     Portland  (20)\n",
       "4      Chicago  (24)\n",
       "5    Cleveland  (16)\n",
       "6      Houston  (22)\n",
       "7  Los Angeles  (52)\n",
       "8     New York   (1)\n",
       "9          NaN    ()"
      ]
     },
     "execution_count": 168,
     "metadata": {},
     "output_type": "execute_result"
    }
   ],
   "source": [
    "count_drive_city = count_certain_word_bycity(text_df, '_DRIVE_THROUGH_')\n",
    "count_drive_city"
   ]
  },
  {
   "cell_type": "code",
   "execution_count": null,
   "id": "cf64aca5",
   "metadata": {},
   "outputs": [],
   "source": []
  },
  {
   "cell_type": "markdown",
   "id": "0cc51b61",
   "metadata": {},
   "source": [
    "### _SLOW_"
   ]
  },
  {
   "cell_type": "markdown",
   "id": "4f2eb33f",
   "metadata": {},
   "source": [
    "#### overall"
   ]
  },
  {
   "cell_type": "code",
   "execution_count": 82,
   "id": "8bbd7b45",
   "metadata": {
    "ExecuteTime": {
     "end_time": "2022-03-13T05:26:49.547019Z",
     "start_time": "2022-03-13T05:26:49.523651Z"
    }
   },
   "outputs": [
    {
     "data": {
      "text/plain": [
       "Counter({'_SLOW_': 147})"
      ]
     },
     "execution_count": 82,
     "metadata": {},
     "output_type": "execute_result"
    }
   ],
   "source": [
    "count_slow = count_certain_word_overall(text_df['review_std'], '_SLOW_')\n",
    "count_slow"
   ]
  },
  {
   "cell_type": "markdown",
   "id": "4a23b180",
   "metadata": {},
   "source": [
    "#### by city"
   ]
  },
  {
   "cell_type": "code",
   "execution_count": 169,
   "id": "a7e654a8",
   "metadata": {
    "ExecuteTime": {
     "end_time": "2022-03-13T05:44:29.042673Z",
     "start_time": "2022-03-13T05:44:28.995031Z"
    }
   },
   "outputs": [
    {
     "data": {
      "text/html": [
       "<div>\n",
       "<style scoped>\n",
       "    .dataframe tbody tr th:only-of-type {\n",
       "        vertical-align: middle;\n",
       "    }\n",
       "\n",
       "    .dataframe tbody tr th {\n",
       "        vertical-align: top;\n",
       "    }\n",
       "\n",
       "    .dataframe thead th {\n",
       "        text-align: right;\n",
       "    }\n",
       "</style>\n",
       "<table border=\"1\" class=\"dataframe\">\n",
       "  <thead>\n",
       "    <tr style=\"text-align: right;\">\n",
       "      <th></th>\n",
       "      <th>city</th>\n",
       "      <th>count</th>\n",
       "    </tr>\n",
       "  </thead>\n",
       "  <tbody>\n",
       "    <tr>\n",
       "      <th>0</th>\n",
       "      <td>Atlanta</td>\n",
       "      <td>(28)</td>\n",
       "    </tr>\n",
       "    <tr>\n",
       "      <th>1</th>\n",
       "      <td>Las Vegas</td>\n",
       "      <td>(39)</td>\n",
       "    </tr>\n",
       "    <tr>\n",
       "      <th>2</th>\n",
       "      <td>Dallas</td>\n",
       "      <td>(5)</td>\n",
       "    </tr>\n",
       "    <tr>\n",
       "      <th>3</th>\n",
       "      <td>Portland</td>\n",
       "      <td>(3)</td>\n",
       "    </tr>\n",
       "    <tr>\n",
       "      <th>4</th>\n",
       "      <td>Chicago</td>\n",
       "      <td>(17)</td>\n",
       "    </tr>\n",
       "    <tr>\n",
       "      <th>5</th>\n",
       "      <td>Cleveland</td>\n",
       "      <td>(10)</td>\n",
       "    </tr>\n",
       "    <tr>\n",
       "      <th>6</th>\n",
       "      <td>Houston</td>\n",
       "      <td>(14)</td>\n",
       "    </tr>\n",
       "    <tr>\n",
       "      <th>7</th>\n",
       "      <td>Los Angeles</td>\n",
       "      <td>(13)</td>\n",
       "    </tr>\n",
       "    <tr>\n",
       "      <th>8</th>\n",
       "      <td>New York</td>\n",
       "      <td>(11)</td>\n",
       "    </tr>\n",
       "    <tr>\n",
       "      <th>9</th>\n",
       "      <td>NaN</td>\n",
       "      <td>()</td>\n",
       "    </tr>\n",
       "  </tbody>\n",
       "</table>\n",
       "</div>"
      ],
      "text/plain": [
       "          city count\n",
       "0      Atlanta  (28)\n",
       "1    Las Vegas  (39)\n",
       "2       Dallas   (5)\n",
       "3     Portland   (3)\n",
       "4      Chicago  (17)\n",
       "5    Cleveland  (10)\n",
       "6      Houston  (14)\n",
       "7  Los Angeles  (13)\n",
       "8     New York  (11)\n",
       "9          NaN    ()"
      ]
     },
     "execution_count": 169,
     "metadata": {},
     "output_type": "execute_result"
    }
   ],
   "source": [
    "count_slow_city = count_certain_word_bycity(text_df, '_SLOW_')\n",
    "count_slow_city"
   ]
  },
  {
   "cell_type": "code",
   "execution_count": null,
   "id": "988bb07c",
   "metadata": {},
   "outputs": [],
   "source": []
  },
  {
   "cell_type": "markdown",
   "id": "6be5759e",
   "metadata": {},
   "source": [
    "### _FRIES_"
   ]
  },
  {
   "cell_type": "markdown",
   "id": "bab97219",
   "metadata": {},
   "source": [
    "#### overall"
   ]
  },
  {
   "cell_type": "code",
   "execution_count": 170,
   "id": "30b32c18",
   "metadata": {
    "ExecuteTime": {
     "end_time": "2022-03-13T05:45:56.229931Z",
     "start_time": "2022-03-13T05:45:56.208072Z"
    }
   },
   "outputs": [
    {
     "data": {
      "text/plain": [
       "Counter({'_FRIES_': 314})"
      ]
     },
     "execution_count": 170,
     "metadata": {},
     "output_type": "execute_result"
    }
   ],
   "source": [
    "count_fries = count_certain_word_overall(text_df['review_std'], '_FRIES_')\n",
    "count_fries"
   ]
  },
  {
   "cell_type": "markdown",
   "id": "22cc8150",
   "metadata": {},
   "source": [
    "#### by city"
   ]
  },
  {
   "cell_type": "code",
   "execution_count": 171,
   "id": "1cf1e55b",
   "metadata": {
    "ExecuteTime": {
     "end_time": "2022-03-13T05:45:57.177574Z",
     "start_time": "2022-03-13T05:45:57.119863Z"
    }
   },
   "outputs": [
    {
     "data": {
      "text/html": [
       "<div>\n",
       "<style scoped>\n",
       "    .dataframe tbody tr th:only-of-type {\n",
       "        vertical-align: middle;\n",
       "    }\n",
       "\n",
       "    .dataframe tbody tr th {\n",
       "        vertical-align: top;\n",
       "    }\n",
       "\n",
       "    .dataframe thead th {\n",
       "        text-align: right;\n",
       "    }\n",
       "</style>\n",
       "<table border=\"1\" class=\"dataframe\">\n",
       "  <thead>\n",
       "    <tr style=\"text-align: right;\">\n",
       "      <th></th>\n",
       "      <th>city</th>\n",
       "      <th>count</th>\n",
       "    </tr>\n",
       "  </thead>\n",
       "  <tbody>\n",
       "    <tr>\n",
       "      <th>0</th>\n",
       "      <td>Atlanta</td>\n",
       "      <td>(32)</td>\n",
       "    </tr>\n",
       "    <tr>\n",
       "      <th>1</th>\n",
       "      <td>Las Vegas</td>\n",
       "      <td>(89)</td>\n",
       "    </tr>\n",
       "    <tr>\n",
       "      <th>2</th>\n",
       "      <td>Dallas</td>\n",
       "      <td>(6)</td>\n",
       "    </tr>\n",
       "    <tr>\n",
       "      <th>3</th>\n",
       "      <td>Portland</td>\n",
       "      <td>(27)</td>\n",
       "    </tr>\n",
       "    <tr>\n",
       "      <th>4</th>\n",
       "      <td>Chicago</td>\n",
       "      <td>(49)</td>\n",
       "    </tr>\n",
       "    <tr>\n",
       "      <th>5</th>\n",
       "      <td>Cleveland</td>\n",
       "      <td>(5)</td>\n",
       "    </tr>\n",
       "    <tr>\n",
       "      <th>6</th>\n",
       "      <td>Houston</td>\n",
       "      <td>(23)</td>\n",
       "    </tr>\n",
       "    <tr>\n",
       "      <th>7</th>\n",
       "      <td>Los Angeles</td>\n",
       "      <td>(28)</td>\n",
       "    </tr>\n",
       "    <tr>\n",
       "      <th>8</th>\n",
       "      <td>New York</td>\n",
       "      <td>(40)</td>\n",
       "    </tr>\n",
       "    <tr>\n",
       "      <th>9</th>\n",
       "      <td>NaN</td>\n",
       "      <td>()</td>\n",
       "    </tr>\n",
       "  </tbody>\n",
       "</table>\n",
       "</div>"
      ],
      "text/plain": [
       "          city count\n",
       "0      Atlanta  (32)\n",
       "1    Las Vegas  (89)\n",
       "2       Dallas   (6)\n",
       "3     Portland  (27)\n",
       "4      Chicago  (49)\n",
       "5    Cleveland   (5)\n",
       "6      Houston  (23)\n",
       "7  Los Angeles  (28)\n",
       "8     New York  (40)\n",
       "9          NaN    ()"
      ]
     },
     "execution_count": 171,
     "metadata": {},
     "output_type": "execute_result"
    }
   ],
   "source": [
    "count_fries_city = count_certain_word_bycity(text_df, '_FRIES_')\n",
    "count_fries_city"
   ]
  },
  {
   "cell_type": "code",
   "execution_count": null,
   "id": "3608c297",
   "metadata": {},
   "outputs": [],
   "source": []
  },
  {
   "cell_type": "markdown",
   "id": "f627ba2a",
   "metadata": {},
   "source": [
    "### _COFFEE_"
   ]
  },
  {
   "cell_type": "markdown",
   "id": "1aab149f",
   "metadata": {},
   "source": [
    "#### overall"
   ]
  },
  {
   "cell_type": "code",
   "execution_count": 172,
   "id": "c4924683",
   "metadata": {
    "ExecuteTime": {
     "end_time": "2022-03-13T05:46:11.026541Z",
     "start_time": "2022-03-13T05:46:11.000958Z"
    }
   },
   "outputs": [
    {
     "data": {
      "text/plain": [
       "Counter({'_COFFEE_': 284})"
      ]
     },
     "execution_count": 172,
     "metadata": {},
     "output_type": "execute_result"
    }
   ],
   "source": [
    "count_coffee = count_certain_word_overall(text_df['review_std'], '_COFFEE_')\n",
    "count_coffee"
   ]
  },
  {
   "cell_type": "markdown",
   "id": "c28c70e8",
   "metadata": {},
   "source": [
    "#### by city"
   ]
  },
  {
   "cell_type": "code",
   "execution_count": 173,
   "id": "75026468",
   "metadata": {
    "ExecuteTime": {
     "end_time": "2022-03-13T05:46:11.644112Z",
     "start_time": "2022-03-13T05:46:11.595436Z"
    }
   },
   "outputs": [
    {
     "data": {
      "text/html": [
       "<div>\n",
       "<style scoped>\n",
       "    .dataframe tbody tr th:only-of-type {\n",
       "        vertical-align: middle;\n",
       "    }\n",
       "\n",
       "    .dataframe tbody tr th {\n",
       "        vertical-align: top;\n",
       "    }\n",
       "\n",
       "    .dataframe thead th {\n",
       "        text-align: right;\n",
       "    }\n",
       "</style>\n",
       "<table border=\"1\" class=\"dataframe\">\n",
       "  <thead>\n",
       "    <tr style=\"text-align: right;\">\n",
       "      <th></th>\n",
       "      <th>city</th>\n",
       "      <th>count</th>\n",
       "    </tr>\n",
       "  </thead>\n",
       "  <tbody>\n",
       "    <tr>\n",
       "      <th>0</th>\n",
       "      <td>Atlanta</td>\n",
       "      <td>(17)</td>\n",
       "    </tr>\n",
       "    <tr>\n",
       "      <th>1</th>\n",
       "      <td>Las Vegas</td>\n",
       "      <td>(74)</td>\n",
       "    </tr>\n",
       "    <tr>\n",
       "      <th>2</th>\n",
       "      <td>Dallas</td>\n",
       "      <td>(12)</td>\n",
       "    </tr>\n",
       "    <tr>\n",
       "      <th>3</th>\n",
       "      <td>Portland</td>\n",
       "      <td>(11)</td>\n",
       "    </tr>\n",
       "    <tr>\n",
       "      <th>4</th>\n",
       "      <td>Chicago</td>\n",
       "      <td>(53)</td>\n",
       "    </tr>\n",
       "    <tr>\n",
       "      <th>5</th>\n",
       "      <td>Cleveland</td>\n",
       "      <td>(6)</td>\n",
       "    </tr>\n",
       "    <tr>\n",
       "      <th>6</th>\n",
       "      <td>Houston</td>\n",
       "      <td>(17)</td>\n",
       "    </tr>\n",
       "    <tr>\n",
       "      <th>7</th>\n",
       "      <td>Los Angeles</td>\n",
       "      <td>(36)</td>\n",
       "    </tr>\n",
       "    <tr>\n",
       "      <th>8</th>\n",
       "      <td>New York</td>\n",
       "      <td>(36)</td>\n",
       "    </tr>\n",
       "    <tr>\n",
       "      <th>9</th>\n",
       "      <td>NaN</td>\n",
       "      <td>()</td>\n",
       "    </tr>\n",
       "  </tbody>\n",
       "</table>\n",
       "</div>"
      ],
      "text/plain": [
       "          city count\n",
       "0      Atlanta  (17)\n",
       "1    Las Vegas  (74)\n",
       "2       Dallas  (12)\n",
       "3     Portland  (11)\n",
       "4      Chicago  (53)\n",
       "5    Cleveland   (6)\n",
       "6      Houston  (17)\n",
       "7  Los Angeles  (36)\n",
       "8     New York  (36)\n",
       "9          NaN    ()"
      ]
     },
     "execution_count": 173,
     "metadata": {},
     "output_type": "execute_result"
    }
   ],
   "source": [
    "count_coffee_city = count_certain_word_bycity(text_df, '_COFFEE_')\n",
    "count_coffee_city"
   ]
  },
  {
   "cell_type": "code",
   "execution_count": null,
   "id": "7ce291a2",
   "metadata": {},
   "outputs": [],
   "source": []
  },
  {
   "cell_type": "markdown",
   "id": "dbca1cb8",
   "metadata": {},
   "source": [
    "### _BREAKFAST_"
   ]
  },
  {
   "cell_type": "markdown",
   "id": "afe29118",
   "metadata": {},
   "source": [
    "#### overall"
   ]
  },
  {
   "cell_type": "code",
   "execution_count": 174,
   "id": "ec4d6c21",
   "metadata": {
    "ExecuteTime": {
     "end_time": "2022-03-13T05:46:21.071520Z",
     "start_time": "2022-03-13T05:46:21.043221Z"
    }
   },
   "outputs": [
    {
     "data": {
      "text/plain": [
       "Counter({'_BREAKFAST_': 190})"
      ]
     },
     "execution_count": 174,
     "metadata": {},
     "output_type": "execute_result"
    }
   ],
   "source": [
    "count_breakfast = count_certain_word_overall(text_df['review_std'], '_BREAKFAST_')\n",
    "count_breakfast"
   ]
  },
  {
   "cell_type": "markdown",
   "id": "e8daf28e",
   "metadata": {},
   "source": [
    "#### by city"
   ]
  },
  {
   "cell_type": "code",
   "execution_count": 175,
   "id": "569f9cf5",
   "metadata": {
    "ExecuteTime": {
     "end_time": "2022-03-13T05:46:21.289088Z",
     "start_time": "2022-03-13T05:46:21.261440Z"
    }
   },
   "outputs": [
    {
     "data": {
      "text/html": [
       "<div>\n",
       "<style scoped>\n",
       "    .dataframe tbody tr th:only-of-type {\n",
       "        vertical-align: middle;\n",
       "    }\n",
       "\n",
       "    .dataframe tbody tr th {\n",
       "        vertical-align: top;\n",
       "    }\n",
       "\n",
       "    .dataframe thead th {\n",
       "        text-align: right;\n",
       "    }\n",
       "</style>\n",
       "<table border=\"1\" class=\"dataframe\">\n",
       "  <thead>\n",
       "    <tr style=\"text-align: right;\">\n",
       "      <th></th>\n",
       "      <th>city</th>\n",
       "      <th>count</th>\n",
       "    </tr>\n",
       "  </thead>\n",
       "  <tbody>\n",
       "    <tr>\n",
       "      <th>0</th>\n",
       "      <td>Atlanta</td>\n",
       "      <td>(17)</td>\n",
       "    </tr>\n",
       "    <tr>\n",
       "      <th>1</th>\n",
       "      <td>Las Vegas</td>\n",
       "      <td>(77)</td>\n",
       "    </tr>\n",
       "    <tr>\n",
       "      <th>2</th>\n",
       "      <td>Dallas</td>\n",
       "      <td>(5)</td>\n",
       "    </tr>\n",
       "    <tr>\n",
       "      <th>3</th>\n",
       "      <td>Portland</td>\n",
       "      <td>(4)</td>\n",
       "    </tr>\n",
       "    <tr>\n",
       "      <th>4</th>\n",
       "      <td>Chicago</td>\n",
       "      <td>(29)</td>\n",
       "    </tr>\n",
       "    <tr>\n",
       "      <th>5</th>\n",
       "      <td>Cleveland</td>\n",
       "      <td>(6)</td>\n",
       "    </tr>\n",
       "    <tr>\n",
       "      <th>6</th>\n",
       "      <td>Houston</td>\n",
       "      <td>(16)</td>\n",
       "    </tr>\n",
       "    <tr>\n",
       "      <th>7</th>\n",
       "      <td>Los Angeles</td>\n",
       "      <td>(17)</td>\n",
       "    </tr>\n",
       "    <tr>\n",
       "      <th>8</th>\n",
       "      <td>New York</td>\n",
       "      <td>(9)</td>\n",
       "    </tr>\n",
       "    <tr>\n",
       "      <th>9</th>\n",
       "      <td>NaN</td>\n",
       "      <td>()</td>\n",
       "    </tr>\n",
       "  </tbody>\n",
       "</table>\n",
       "</div>"
      ],
      "text/plain": [
       "          city count\n",
       "0      Atlanta  (17)\n",
       "1    Las Vegas  (77)\n",
       "2       Dallas   (5)\n",
       "3     Portland   (4)\n",
       "4      Chicago  (29)\n",
       "5    Cleveland   (6)\n",
       "6      Houston  (16)\n",
       "7  Los Angeles  (17)\n",
       "8     New York   (9)\n",
       "9          NaN    ()"
      ]
     },
     "execution_count": 175,
     "metadata": {},
     "output_type": "execute_result"
    }
   ],
   "source": [
    "count_breakfast_city = count_certain_word_bycity(text_df, '_BREAKFAST_')\n",
    "count_breakfast_city"
   ]
  },
  {
   "cell_type": "markdown",
   "id": "b6cfb0a2",
   "metadata": {},
   "source": [
    "### AGGREGATION"
   ]
  },
  {
   "cell_type": "code",
   "execution_count": null,
   "id": "d8442c20",
   "metadata": {},
   "outputs": [],
   "source": []
  },
  {
   "cell_type": "code",
   "execution_count": null,
   "id": "c7365230",
   "metadata": {},
   "outputs": [],
   "source": []
  },
  {
   "cell_type": "markdown",
   "id": "c97ca98c",
   "metadata": {},
   "source": [
    "## task4\n",
    "\n",
    "Provide a few sentences with your findings and business recommendations."
   ]
  },
  {
   "cell_type": "markdown",
   "id": "42268cdb",
   "metadata": {},
   "source": [
    "Not actionable recommendation:\n",
    "* *The store managers should consider trying to improve the drive through experience to be more pleasant for customers*\n",
    "\n",
    "More actionable recommendation:\n",
    "* *Drive throughs are mentioned 23% of the time in reviews, and often focus on how slow the service is. We recommend adopting parallel drive through stations for Atlanta and Chicago*"
   ]
  },
  {
   "cell_type": "markdown",
   "id": "27b02aeb",
   "metadata": {},
   "source": []
  },
  {
   "cell_type": "code",
   "execution_count": null,
   "id": "9d980964",
   "metadata": {},
   "outputs": [],
   "source": []
  },
  {
   "cell_type": "code",
   "execution_count": null,
   "id": "damaged-printer",
   "metadata": {},
   "outputs": [],
   "source": []
  }
 ],
 "metadata": {
  "kernelspec": {
   "display_name": "Python 3",
   "language": "python",
   "name": "python3"
  },
  "language_info": {
   "codemirror_mode": {
    "name": "ipython",
    "version": 3
   },
   "file_extension": ".py",
   "mimetype": "text/x-python",
   "name": "python",
   "nbconvert_exporter": "python",
   "pygments_lexer": "ipython3",
   "version": "3.7.11"
  },
  "toc": {
   "base_numbering": 1,
   "nav_menu": {},
   "number_sections": true,
   "sideBar": true,
   "skip_h1_title": false,
   "title_cell": "Table of Contents",
   "title_sidebar": "Contents",
   "toc_cell": false,
   "toc_position": {},
   "toc_section_display": true,
   "toc_window_display": true
  },
  "varInspector": {
   "cols": {
    "lenName": 16,
    "lenType": 16,
    "lenVar": 40
   },
   "kernels_config": {
    "python": {
     "delete_cmd_postfix": "",
     "delete_cmd_prefix": "del ",
     "library": "var_list.py",
     "varRefreshCmd": "print(var_dic_list())"
    },
    "r": {
     "delete_cmd_postfix": ") ",
     "delete_cmd_prefix": "rm(",
     "library": "var_list.r",
     "varRefreshCmd": "cat(var_dic_list()) "
    }
   },
   "types_to_exclude": [
    "module",
    "function",
    "builtin_function_or_method",
    "instance",
    "_Feature"
   ],
   "window_display": false
  }
 },
 "nbformat": 4,
 "nbformat_minor": 5
}
