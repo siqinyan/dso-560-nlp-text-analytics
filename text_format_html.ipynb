{
 "cells": [
  {
   "cell_type": "markdown",
   "id": "9499be2f",
   "metadata": {},
   "source": [
    "**div**\n",
    "\n",
    "The div (division) element is a generic block-level element, most often used to divide page content into blocks. \n",
    "\n",
    "A block element is a page element that starts a new line and has a width equal to the entire page or the parent container."
   ]
  },
  {
   "cell_type": "markdown",
   "id": "27ed9af2",
   "metadata": {},
   "source": [
    "**span**\n",
    "\n",
    "The span element is a generic inline element, typically used to apply styling to a portion of inline content. \n",
    "\n",
    "An inline element does not start a new line and only takes up as much space on the page as its content. "
   ]
  },
  {
   "cell_type": "markdown",
   "id": "02d783a1",
   "metadata": {},
   "source": [
    "<div class=\"alert-success\">\n",
    "This is a green colored box\n",
    "</div>\n",
    "\n",
    "<div class=\"alert-danger\">\n",
    "This is a red colored box\n",
    "</div>\n",
    "\n",
    "<div class=\"alert-warning\">\n",
    "This is a yellow colored box\n",
    "</div>\n",
    "\n",
    "<div class=\"alert-info\">\n",
    "This is a blue colored box\n",
    "</div>"
   ]
  },
  {
   "cell_type": "markdown",
   "id": "3bda24b3",
   "metadata": {},
   "source": [
    "<div class=\"alert-success\">\n",
    "    <p> This is what i want to know:</p>\n",
    "    <p> &ensp; idea 1 </p>\n",
    "    <p> &emsp; idea 2 </p>\n",
    "    <p> <b> - Bold text </b> </p>\n",
    "    <p> <strong> - Important text </p> \n",
    "    <p> <i> - Italic text </p>\n",
    "    <p> <em> - Emphasized text </p>\n",
    "    <p> <mark> - Marked text </p>\n",
    "    <p> <small> - Smaller text </p>\n",
    "    <p> <del> - Deleted text </p>\n",
    "    <p> <ins> - Inserted text </p>\n",
    "    <p> <sub> - Subscript text </p>\n",
    "    <p> <sup> - Superscript text </p>\n",
    "</div>"
   ]
  },
  {
   "cell_type": "markdown",
   "id": "d09ef298",
   "metadata": {},
   "source": [
    "**b**, *b*"
   ]
  },
  {
   "cell_type": "markdown",
   "id": "63fee649",
   "metadata": {},
   "source": []
  }
 ],
 "metadata": {
  "interpreter": {
   "hash": "57689f487b0959c830c474c40486d6e57b3d02fe9800867fad4d74deb5e2fafc"
  },
  "kernelspec": {
   "display_name": "Python 3.7.11 ('base')",
   "language": "python",
   "name": "python3"
  },
  "language_info": {
   "codemirror_mode": {
    "name": "ipython",
    "version": 3
   },
   "file_extension": ".py",
   "mimetype": "text/x-python",
   "name": "python",
   "nbconvert_exporter": "python",
   "pygments_lexer": "ipython3",
   "version": "3.7.11"
  },
  "toc": {
   "base_numbering": 1,
   "nav_menu": {},
   "number_sections": true,
   "sideBar": true,
   "skip_h1_title": false,
   "title_cell": "Table of Contents",
   "title_sidebar": "Contents",
   "toc_cell": false,
   "toc_position": {},
   "toc_section_display": true,
   "toc_window_display": false
  },
  "varInspector": {
   "cols": {
    "lenName": 16,
    "lenType": 16,
    "lenVar": 40
   },
   "kernels_config": {
    "python": {
     "delete_cmd_postfix": "",
     "delete_cmd_prefix": "del ",
     "library": "var_list.py",
     "varRefreshCmd": "print(var_dic_list())"
    },
    "r": {
     "delete_cmd_postfix": ") ",
     "delete_cmd_prefix": "rm(",
     "library": "var_list.r",
     "varRefreshCmd": "cat(var_dic_list()) "
    }
   },
   "types_to_exclude": [
    "module",
    "function",
    "builtin_function_or_method",
    "instance",
    "_Feature"
   ],
   "window_display": false
  }
 },
 "nbformat": 4,
 "nbformat_minor": 5
}
