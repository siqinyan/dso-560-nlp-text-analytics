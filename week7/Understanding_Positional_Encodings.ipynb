{
  "nbformat": 4,
  "nbformat_minor": 0,
  "metadata": {
    "colab": {
      "name": "Understanding Positional Encodings.ipynb",
      "provenance": [],
      "collapsed_sections": []
    },
    "kernelspec": {
      "name": "python3",
      "display_name": "Python 3"
    },
    "language_info": {
      "name": "python"
    }
  },
  "cells": [
    {
      "cell_type": "markdown",
      "metadata": {
        "id": "2cfsEKpQeAzP"
      },
      "source": [
        "## Motivation: Where Do Sequential Models Fall Short?\n",
        "\n",
        "### Disadvantages of Sequential Models\n",
        "\n",
        "- As the sequence length of documents increases, memory and computational power become bottlenecks, since we are unable to parallelize the computation across each sequence step. \n",
        "- Usually, the information carried over from earlier tokens (positional indices further away) is greatly diminished, even with the adaptations made with LSTMs.\n",
        "\n",
        "## Overview of Transformer Architecture\n",
        "\n",
        "The original *Attention Is All You Need* paper is [available here](https://arxiv.org/pdf/1706.03762.pdf).\n",
        "\n",
        "The overall architecture of the **Transformer** model is defined here from the paper:\n",
        "![transformers](https://raw.githubusercontent.com/ychennay/dso-560-nlp-text-analytics/main/images/transformers.png)\n",
        "\n",
        "## Interpreting Attention\n",
        "\n",
        "When our model assigns a higher attention score to a specific token of a document (ie., to specific index positions of the sequence), then the calculation for the decoder’s output will more strongly weighted by the input embeddings' contributions of this specific token."
      ]
    },
    {
      "cell_type": "markdown",
      "metadata": {
        "id": "UghNsUR8AwMP"
      },
      "source": [
        "## Understanding Positional Encodings\n",
        "\n",
        "### How Position Is Encoded In Sequential Models\n",
        "\n",
        "In RNNs and other sequential models, we are essentially constructing a neural network with as many layers as sequence steps. For instance, when an RNN processes a sequence of 4 documents, it is essentially computing the output of a\n",
        "4-layer hidden neural network. This is why we call RNNs \"unrolled\" feed-forward\n",
        "neural networks.\n",
        "\n",
        "There is no explicit encoding for position in an RNN (ie., there is nothing that we directly pass into model itself as input that represents the \"position\"\n",
        "of the token.\n",
        "\n",
        "### How Position Is Encoded In Attention-Based Models\n",
        "\n",
        "Since we are computing all sequence steps at the same time in an attention-based\n",
        "model, we do not pass inputs into the model sequentially. **All time steps are\n",
        "processed at the same time.**"
      ]
    },
    {
      "cell_type": "code",
      "metadata": {
        "id": "GRRn3Qxe-L6-"
      },
      "source": [
        "import math\n",
        "import numpy as np\n",
        "\n",
        "def positional_encoding(position: int, num_dimensions: int) -> np.array:\n",
        "    \"\"\"\n",
        "    Computes the positional encoding vector (of size num_dimensions) given\n",
        "    a certain position index, using the definition from Vaswani et al. 2017\n",
        "    (https://arxiv.org/abs/1706.03762).\n",
        "\n",
        "    :param position: The index position to generate the encoding for.\n",
        "    :param num_dimensions: The number of dimensions to generate the encoding for.\n",
        "    :return: A numpy array with an embedded representation of a token's specific position.\n",
        "    \"\"\"\n",
        "    encoding = np.zeros((1, num_dimensions))  # a 1 x D dimensional array\n",
        "    for idx in range(0, num_dimensions, 2):\n",
        "        value = position / 10_000 ** ((2 * idx) / num_dimensions)\n",
        "        encoding[0][idx], encoding[0][idx + 1] = math.sin(value), math.cos(value)\n",
        "    return encoding"
      ],
      "execution_count": null,
      "outputs": []
    },
    {
      "cell_type": "code",
      "metadata": {
        "id": "GY2UvI6agxMr"
      },
      "source": [
        "from sklearn.metrics.pairwise import cosine_similarity"
      ],
      "execution_count": null,
      "outputs": []
    },
    {
      "cell_type": "code",
      "metadata": {
        "colab": {
          "base_uri": "https://localhost:8080/"
        },
        "id": "3oYNJtj2DlEr",
        "outputId": "32601105-cf89-4408-a5b4-cc7826f6ddab"
      },
      "source": [
        "print(f\"Position 1: {positional_encoding(1, 10)}\")\n",
        "print(f\"Position 2: {positional_encoding(2, 10)}\")"
      ],
      "execution_count": null,
      "outputs": [
        {
          "output_type": "stream",
          "name": "stdout",
          "text": [
            "Position 1: [[8.41470985e-01 5.40302306e-01 2.51162229e-02 9.99684538e-01\n",
            "  6.30957303e-04 9.99999801e-01 1.58489319e-05 1.00000000e+00\n",
            "  3.98107171e-07 1.00000000e+00]]\n",
            "Position 2: [[ 9.09297427e-01 -4.16146837e-01  5.02165994e-02  9.98738351e-01\n",
            "   1.26191435e-03  9.99999204e-01  3.16978638e-05  9.99999999e-01\n",
            "   7.96214341e-07  1.00000000e+00]]\n"
          ]
        }
      ]
    },
    {
      "cell_type": "markdown",
      "metadata": {
        "id": "w7vRJj-zDlmZ"
      },
      "source": [
        "#### Visualize the Cosine Similarity of Positional Encodings\n",
        "We'll generate positional encodings of dimension size 300 and then calculate their similarity. Notice that positions closer to each other have higher similarities than positions that are further away. \n",
        "\n",
        "In this way, we've created encodings that represent the relative distance a token is from another token - **without having to rely upon explicitly modelling sequence**."
      ]
    },
    {
      "cell_type": "code",
      "metadata": {
        "colab": {
          "base_uri": "https://localhost:8080/",
          "height": 289
        },
        "id": "Ieja6udu-raL",
        "outputId": "e6203294-cfc8-4dd9-ba60-1db6c188ca2a"
      },
      "source": [
        "from sklearn.metrics.pairwise import cosine_similarity\n",
        "import seaborn as sns\n",
        "\n",
        "NUM_DIMENSIONS = 300\n",
        "MAX_NUMBER_OF_POSITIONS = 100\n",
        "\n",
        "sns.heatmap(cosine_similarity(np.array([positional_encoding(idx, NUM_DIMENSIONS) \n",
        "    for idx in range(MAX_NUMBER_OF_POSITIONS)]).reshape(MAX_NUMBER_OF_POSITIONS, NUM_DIMENSIONS)))"
      ],
      "execution_count": null,
      "outputs": [
        {
          "output_type": "execute_result",
          "data": {
            "text/plain": [
              "<matplotlib.axes._subplots.AxesSubplot at 0x7f272eef33d0>"
            ]
          },
          "metadata": {},
          "execution_count": 39
        },
        {
          "output_type": "display_data",
          "data": {
            "image/png": "[encoded data removed]",
            "text/plain": [
              "<Figure size 432x288 with 2 Axes>"
            ]
          },
          "metadata": {
            "needs_background": "light"
          }
        }
      ]
    },
    {
      "cell_type": "markdown",
      "metadata": {
        "id": "QcoTRFmyYH0G"
      },
      "source": [
        "### Understanding Attention\n",
        "\n",
        "Imagine that one of your tasks is to build a model that translates from English to Spanish, or vice versa. \n",
        "\n",
        "What would be the problem if you simply feed in the sentence \"Are you still at home?\" ([Tensorflow.org Neural Machine Translation with Attention](https://www.tensorflow.org/text/tutorials/nmt_with_attention))\n",
        "\n",
        "The Spanish translation is \"¿Todavía estan en la casa?\"\n",
        "\n",
        "Notice however, that the word \"still\" maps to \"todavía\". However, \"still\" is the 3rd word of the English sequence, but the first word of the Spanish sequence.\n",
        "\n",
        "If you use an feed-forward RNN, then you'll never be able to go back to make a prediction for the first element by the time that you've reached the 3rd element in the English sequence:\n",
        "![](https://upload.wikimedia.org/wikipedia/commons/thumb/b/b5/Recurrent_neural_network_unfold.svg/800px-Recurrent_neural_network_unfold.svg.png)\n",
        "\n",
        "In addition, remember that a key drawback of RNNs is that most of the information propagated forward is from the local sequence history - it's not great at carrying forward long-range dependencies.\n",
        "\n",
        "Ideally, what we want is to give the model an idea of where in the sequence it should focus on to make a prediction for a particular sequence step:\n",
        "\n",
        "![https://tensorflow.org/images/spanish-english.png](https://tensorflow.org/images/spanish-english.png)\n",
        "\n",
        "As you can see, the shape of this attention matrix is $S \\times S$, where $S$ is the sequence length. The value in the $i$th row and the $j$th column of this matrix represents how much the transformer should weight the input from the $j$th input sequence step when attempting to make a prediction for the $i$th output step."
      ]
    }
  ]
}