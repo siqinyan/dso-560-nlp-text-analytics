{
 "cells": [
  {
   "cell_type": "markdown",
   "metadata": {
    "toc": true
   },
   "source": [
    "<h1>Table of Contents<span class=\"tocSkip\"></span></h1>\n",
    "<div class=\"toc\"><ul class=\"toc-item\"><li><span><a href=\"#Using-RNNs-and-LSTMs-in-Keras-for-NLP-Classification-Tasks\" data-toc-modified-id=\"Using-RNNs-and-LSTMs-in-Keras-for-NLP-Classification-Tasks-1\"><span class=\"toc-item-num\">1&nbsp;&nbsp;</span>Using RNNs and LSTMs in Keras for NLP Classification Tasks</a></span><ul class=\"toc-item\"><li><span><a href=\"#Problem-Statement:-Predict-Sentiment-of-Amazon-Reviews\" data-toc-modified-id=\"Problem-Statement:-Predict-Sentiment-of-Amazon-Reviews-1.1\"><span class=\"toc-item-num\">1.1&nbsp;&nbsp;</span>Problem Statement: Predict Sentiment of Amazon Reviews</a></span><ul class=\"toc-item\"><li><span><a href=\"#Load-in-Spacy-English-Medium-Language-Model\" data-toc-modified-id=\"Load-in-Spacy-English-Medium-Language-Model-1.1.1\"><span class=\"toc-item-num\">1.1.1&nbsp;&nbsp;</span>Load in Spacy English Medium Language Model</a></span></li><li><span><a href=\"#Use-Spacy-Pipeline-to-Tokenize-and-Remove-Stopwords\" data-toc-modified-id=\"Use-Spacy-Pipeline-to-Tokenize-and-Remove-Stopwords-1.1.2\"><span class=\"toc-item-num\">1.1.2&nbsp;&nbsp;</span>Use Spacy Pipeline to Tokenize and Remove Stopwords</a></span></li></ul></li><li><span><a href=\"#Tokenize-Text\" data-toc-modified-id=\"Tokenize-Text-1.2\"><span class=\"toc-item-num\">1.2&nbsp;&nbsp;</span>Tokenize Text</a></span><ul class=\"toc-item\"><li><ul class=\"toc-item\"><li><span><a href=\"#Set-a-Maximum-Sequence-Length\" data-toc-modified-id=\"Set-a-Maximum-Sequence-Length-1.2.0.1\"><span class=\"toc-item-num\">1.2.0.1&nbsp;&nbsp;</span>Set a Maximum Sequence Length</a></span></li></ul></li><li><span><a href=\"#Encode-Labels\" data-toc-modified-id=\"Encode-Labels-1.2.1\"><span class=\"toc-item-num\">1.2.1&nbsp;&nbsp;</span>Encode Labels</a></span></li><li><span><a href=\"#Perform-Train/Test-Split\" data-toc-modified-id=\"Perform-Train/Test-Split-1.2.2\"><span class=\"toc-item-num\">1.2.2&nbsp;&nbsp;</span>Perform Train/Test Split</a></span></li></ul></li><li><span><a href=\"#Import-Keras-Toolkit\" data-toc-modified-id=\"Import-Keras-Toolkit-1.3\"><span class=\"toc-item-num\">1.3&nbsp;&nbsp;</span>Import Keras Toolkit</a></span></li><li><span><a href=\"#Load-in-GloVe-Vectors\" data-toc-modified-id=\"Load-in-GloVe-Vectors-1.4\"><span class=\"toc-item-num\">1.4&nbsp;&nbsp;</span>Load in GloVe Vectors</a></span></li><li><span><a href=\"#Load-in-Embeddings\" data-toc-modified-id=\"Load-in-Embeddings-1.5\"><span class=\"toc-item-num\">1.5&nbsp;&nbsp;</span>Load in Embeddings</a></span></li><li><span><a href=\"#Define-in-Model\" data-toc-modified-id=\"Define-in-Model-1.6\"><span class=\"toc-item-num\">1.6&nbsp;&nbsp;</span>Define in Model</a></span></li><li><span><a href=\"#Compile-Model\" data-toc-modified-id=\"Compile-Model-1.7\"><span class=\"toc-item-num\">1.7&nbsp;&nbsp;</span>Compile Model</a></span><ul class=\"toc-item\"><li><ul class=\"toc-item\"><li><span><a href=\"#Helpful-Rule-of-Thumb-for-Defining-#-of-Parameters-in-LSTM:\" data-toc-modified-id=\"Helpful-Rule-of-Thumb-for-Defining-#-of-Parameters-in-LSTM:-1.7.0.1\"><span class=\"toc-item-num\">1.7.0.1&nbsp;&nbsp;</span>Helpful Rule of Thumb for Defining # of Parameters in LSTM:</a></span></li></ul></li></ul></li><li><span><a href=\"#Fit-the-Model\" data-toc-modified-id=\"Fit-the-Model-1.8\"><span class=\"toc-item-num\">1.8&nbsp;&nbsp;</span>Fit the Model</a></span></li><li><span><a href=\"#Evaluate-the-Model\" data-toc-modified-id=\"Evaluate-the-Model-1.9\"><span class=\"toc-item-num\">1.9&nbsp;&nbsp;</span>Evaluate the Model</a></span></li><li><span><a href=\"#Try-Some-Random-Reviews\" data-toc-modified-id=\"Try-Some-Random-Reviews-1.10\"><span class=\"toc-item-num\">1.10&nbsp;&nbsp;</span>Try Some Random Reviews</a></span></li></ul></li><li><span><a href=\"#Word-of-Caution---the-Dangers-of-Overfitting\" data-toc-modified-id=\"Word-of-Caution---the-Dangers-of-Overfitting-2\"><span class=\"toc-item-num\">2&nbsp;&nbsp;</span>Word of Caution - the Dangers of Overfitting</a></span><ul class=\"toc-item\"><li><span><a href=\"#Problem-Statement:-Predict-City-of-McDonalds-Review\" data-toc-modified-id=\"Problem-Statement:-Predict-City-of-McDonalds-Review-2.1\"><span class=\"toc-item-num\">2.1&nbsp;&nbsp;</span>Problem Statement: Predict City of McDonalds Review</a></span><ul class=\"toc-item\"><li><span><a href=\"#Load-in-McDonalds-Yelp-Reviews\" data-toc-modified-id=\"Load-in-McDonalds-Yelp-Reviews-2.1.1\"><span class=\"toc-item-num\">2.1.1&nbsp;&nbsp;</span>Load in McDonalds Yelp Reviews</a></span></li></ul></li><li><span><a href=\"#Get-Your-Feature-Space-and-Target-Labels\" data-toc-modified-id=\"Get-Your-Feature-Space-and-Target-Labels-2.2\"><span class=\"toc-item-num\">2.2&nbsp;&nbsp;</span>Get Your Feature Space and Target Labels</a></span></li><li><span><a href=\"#Perform-Label-Categorical-Encoding-of-Cities\" data-toc-modified-id=\"Perform-Label-Categorical-Encoding-of-Cities-2.3\"><span class=\"toc-item-num\">2.3&nbsp;&nbsp;</span>Perform Label Categorical Encoding of Cities</a></span></li><li><span><a href=\"#Remove-Stopwords-Using-SpaCy\" data-toc-modified-id=\"Remove-Stopwords-Using-SpaCy-2.4\"><span class=\"toc-item-num\">2.4&nbsp;&nbsp;</span>Remove Stopwords Using SpaCy</a></span></li><li><span><a href=\"#Tokenize-the-Text\" data-toc-modified-id=\"Tokenize-the-Text-2.5\"><span class=\"toc-item-num\">2.5&nbsp;&nbsp;</span>Tokenize the Text</a></span></li><li><span><a href=\"#Integer-Encode-Tokens\" data-toc-modified-id=\"Integer-Encode-Tokens-2.6\"><span class=\"toc-item-num\">2.6&nbsp;&nbsp;</span>Integer Encode Tokens</a></span></li><li><span><a href=\"#Get-Max-Length-Per-Token\" data-toc-modified-id=\"Get-Max-Length-Per-Token-2.7\"><span class=\"toc-item-num\">2.7&nbsp;&nbsp;</span>Get Max Length Per Token</a></span></li><li><span><a href=\"#Split-into-Train/Test-Split\" data-toc-modified-id=\"Split-into-Train/Test-Split-2.8\"><span class=\"toc-item-num\">2.8&nbsp;&nbsp;</span>Split into Train/Test Split</a></span></li><li><span><a href=\"#Keras-RNN-Architecture\" data-toc-modified-id=\"Keras-RNN-Architecture-2.9\"><span class=\"toc-item-num\">2.9&nbsp;&nbsp;</span>Keras RNN Architecture</a></span></li><li><span><a href=\"#Load-in-Glove-Vectors\" data-toc-modified-id=\"Load-in-Glove-Vectors-2.10\"><span class=\"toc-item-num\">2.10&nbsp;&nbsp;</span>Load in Glove Vectors</a></span></li><li><span><a href=\"#Load-in-the-Embeddings\" data-toc-modified-id=\"Load-in-the-Embeddings-2.11\"><span class=\"toc-item-num\">2.11&nbsp;&nbsp;</span>Load in the Embeddings</a></span></li><li><span><a href=\"#Define-Model\" data-toc-modified-id=\"Define-Model-2.12\"><span class=\"toc-item-num\">2.12&nbsp;&nbsp;</span>Define Model</a></span></li><li><span><a href=\"#Compile-the-Model\" data-toc-modified-id=\"Compile-the-Model-2.13\"><span class=\"toc-item-num\">2.13&nbsp;&nbsp;</span>Compile the Model</a></span></li><li><span><a href=\"#Fit-the-Model\" data-toc-modified-id=\"Fit-the-Model-2.14\"><span class=\"toc-item-num\">2.14&nbsp;&nbsp;</span>Fit the Model</a></span></li><li><span><a href=\"#Evaluate-the-Model\" data-toc-modified-id=\"Evaluate-the-Model-2.15\"><span class=\"toc-item-num\">2.15&nbsp;&nbsp;</span>Evaluate the Model</a></span></li></ul></li></ul></div>"
   ]
  },
  {
   "cell_type": "code",
   "execution_count": null,
   "metadata": {
    "colab": {
     "base_uri": "https://localhost:8080/"
    },
    "id": "AEuaLHzAcQLi",
    "outputId": "1a595278-f64d-4838-b902-f5f2e680b2a7"
   },
   "outputs": [
    {
     "name": "stdout",
     "output_type": "stream",
     "text": [
      "Cloning into 'dso-560-nlp-text-analytics'...\n",
      "remote: Enumerating objects: 3177, done.\u001b[K\n",
      "remote: Total 3177 (delta 0), reused 0 (delta 0), pack-reused 3177\u001b[K\n",
      "Receiving objects: 100% (3177/3177), 94.48 MiB | 13.44 MiB/s, done.\n",
      "Resolving deltas: 100% (394/394), done.\n",
      "Checking out files: 100% (3185/3185), done.\n"
     ]
    }
   ],
   "source": [
    "# !rm -rf dso-560-nlp-text-analytics && git clone https://github.com/ychennay/dso-560-nlp-text-analytics"
   ]
  },
  {
   "cell_type": "code",
   "execution_count": null,
   "metadata": {
    "colab": {
     "base_uri": "https://localhost:8080/"
    },
    "id": "-S1VpG4ycXsN",
    "outputId": "8d18a39a-bfb0-46a0-b0a0-84993e03a69a"
   },
   "outputs": [
    {
     "name": "stdout",
     "output_type": "stream",
     "text": [
      "/content/dso-560-nlp-text-analytics/week5\n"
     ]
    }
   ],
   "source": [
    "# %cd dso-560-nlp-text-analytics/week5"
   ]
  },
  {
   "cell_type": "markdown",
   "metadata": {
    "id": "JHpWJb9ecMQD"
   },
   "source": [
    "# Using RNNs and LSTMs in Keras for NLP Classification Tasks"
   ]
  },
  {
   "cell_type": "markdown",
   "metadata": {
    "id": "fBwnMn_VcMQD"
   },
   "source": [
    "## Problem Statement: Predict Sentiment of Amazon Reviews"
   ]
  },
  {
   "cell_type": "code",
   "execution_count": 1,
   "metadata": {
    "ExecuteTime": {
     "end_time": "2022-05-11T07:14:44.205549Z",
     "start_time": "2022-05-11T07:14:44.096374Z"
    },
    "id": "FDgf3FM0cMQD"
   },
   "outputs": [],
   "source": [
    "import numpy as np\n",
    "NUM_SAMPLES = 8000\n",
    "\n",
    "good_reviews = open(\"../datasets/good_amazon_toy_reviews.txt\").readlines()\n",
    "bad_reviews = open(\"../datasets/poor_amazon_toy_reviews.txt\").readlines()\n",
    "\n",
    "sampled_good_reviews = good_reviews[:NUM_SAMPLES]\n",
    "sampled_bad_reviews = bad_reviews[:NUM_SAMPLES]\n",
    "\n",
    "docs = sampled_good_reviews + sampled_bad_reviews\n",
    "labels = np.concatenate([np.ones(NUM_SAMPLES), np.zeros(NUM_SAMPLES)])"
   ]
  },
  {
   "cell_type": "code",
   "execution_count": 2,
   "metadata": {
    "ExecuteTime": {
     "end_time": "2022-05-11T07:14:53.871602Z",
     "start_time": "2022-05-11T07:14:45.655311Z"
    },
    "colab": {
     "base_uri": "https://localhost:8080/"
    },
    "id": "PF8FVk-9ehpS",
    "outputId": "d91db348-b701-446c-b7aa-edfa9a969332",
    "scrolled": true
   },
   "outputs": [
    {
     "name": "stdout",
     "output_type": "stream",
     "text": [
      "/Users/antheayang/opt/anaconda3/lib/python3.7/site-packages/tensorflow/python/framework/dtypes.py:526: FutureWarning: Passing (type, 1) or '1type' as a synonym of type is deprecated; in a future version of numpy, it will be understood as (type, (1,)) / '(1,)type'.\n",
      "  _np_qint8 = np.dtype([(\"qint8\", np.int8, 1)])\n",
      "/Users/antheayang/opt/anaconda3/lib/python3.7/site-packages/tensorflow/python/framework/dtypes.py:527: FutureWarning: Passing (type, 1) or '1type' as a synonym of type is deprecated; in a future version of numpy, it will be understood as (type, (1,)) / '(1,)type'.\n",
      "  _np_quint8 = np.dtype([(\"quint8\", np.uint8, 1)])\n",
      "/Users/antheayang/opt/anaconda3/lib/python3.7/site-packages/tensorflow/python/framework/dtypes.py:528: FutureWarning: Passing (type, 1) or '1type' as a synonym of type is deprecated; in a future version of numpy, it will be understood as (type, (1,)) / '(1,)type'.\n",
      "  _np_qint16 = np.dtype([(\"qint16\", np.int16, 1)])\n",
      "/Users/antheayang/opt/anaconda3/lib/python3.7/site-packages/tensorflow/python/framework/dtypes.py:529: FutureWarning: Passing (type, 1) or '1type' as a synonym of type is deprecated; in a future version of numpy, it will be understood as (type, (1,)) / '(1,)type'.\n",
      "  _np_quint16 = np.dtype([(\"quint16\", np.uint16, 1)])\n",
      "/Users/antheayang/opt/anaconda3/lib/python3.7/site-packages/tensorflow/python/framework/dtypes.py:530: FutureWarning: Passing (type, 1) or '1type' as a synonym of type is deprecated; in a future version of numpy, it will be understood as (type, (1,)) / '(1,)type'.\n",
      "  _np_qint32 = np.dtype([(\"qint32\", np.int32, 1)])\n",
      "/Users/antheayang/opt/anaconda3/lib/python3.7/site-packages/tensorflow/python/framework/dtypes.py:535: FutureWarning: Passing (type, 1) or '1type' as a synonym of type is deprecated; in a future version of numpy, it will be understood as (type, (1,)) / '(1,)type'.\n",
      "  np_resource = np.dtype([(\"resource\", np.ubyte, 1)])\n",
      "Collecting en-core-web-md==3.2.0\n",
      "  Downloading https://github.com/explosion/spacy-models/releases/download/en_core_web_md-3.2.0/en_core_web_md-3.2.0-py3-none-any.whl (45.7 MB)\n",
      "\u001b[K     |████████████████████████████████| 45.7 MB 3.5 MB/s eta 0:00:01\n",
      "\u001b[?25hRequirement already satisfied: spacy<3.3.0,>=3.2.0 in /Users/antheayang/opt/anaconda3/lib/python3.7/site-packages (from en-core-web-md==3.2.0) (3.2.1)\n",
      "Requirement already satisfied: cymem<2.1.0,>=2.0.2 in /Users/antheayang/opt/anaconda3/lib/python3.7/site-packages (from spacy<3.3.0,>=3.2.0->en-core-web-md==3.2.0) (2.0.5)\n",
      "Requirement already satisfied: tqdm<5.0.0,>=4.38.0 in /Users/antheayang/opt/anaconda3/lib/python3.7/site-packages (from spacy<3.3.0,>=3.2.0->en-core-web-md==3.2.0) (4.63.0)\n",
      "Requirement already satisfied: typer<0.5.0,>=0.3.0 in /Users/antheayang/opt/anaconda3/lib/python3.7/site-packages (from spacy<3.3.0,>=3.2.0->en-core-web-md==3.2.0) (0.4.0)\n",
      "Requirement already satisfied: wasabi<1.1.0,>=0.8.1 in /Users/antheayang/opt/anaconda3/lib/python3.7/site-packages (from spacy<3.3.0,>=3.2.0->en-core-web-md==3.2.0) (0.8.2)\n",
      "Requirement already satisfied: spacy-legacy<3.1.0,>=3.0.8 in /Users/antheayang/opt/anaconda3/lib/python3.7/site-packages (from spacy<3.3.0,>=3.2.0->en-core-web-md==3.2.0) (3.0.8)\n",
      "Requirement already satisfied: typing-extensions<4.0.0.0,>=3.7.4 in /Users/antheayang/opt/anaconda3/lib/python3.7/site-packages (from spacy<3.3.0,>=3.2.0->en-core-web-md==3.2.0) (3.10.0.2)\n",
      "Requirement already satisfied: numpy>=1.15.0 in /Users/antheayang/opt/anaconda3/lib/python3.7/site-packages (from spacy<3.3.0,>=3.2.0->en-core-web-md==3.2.0) (1.21.5)\n",
      "Requirement already satisfied: blis<0.8.0,>=0.4.0 in /Users/antheayang/opt/anaconda3/lib/python3.7/site-packages (from spacy<3.3.0,>=3.2.0->en-core-web-md==3.2.0) (0.7.4)\n",
      "Requirement already satisfied: spacy-loggers<2.0.0,>=1.0.0 in /Users/antheayang/opt/anaconda3/lib/python3.7/site-packages (from spacy<3.3.0,>=3.2.0->en-core-web-md==3.2.0) (1.0.1)\n",
      "Requirement already satisfied: jinja2 in /Users/antheayang/opt/anaconda3/lib/python3.7/site-packages (from spacy<3.3.0,>=3.2.0->en-core-web-md==3.2.0) (2.11.3)\n",
      "Requirement already satisfied: preshed<3.1.0,>=3.0.2 in /Users/antheayang/opt/anaconda3/lib/python3.7/site-packages (from spacy<3.3.0,>=3.2.0->en-core-web-md==3.2.0) (3.0.5)\n",
      "Requirement already satisfied: thinc<8.1.0,>=8.0.12 in /Users/antheayang/opt/anaconda3/lib/python3.7/site-packages (from spacy<3.3.0,>=3.2.0->en-core-web-md==3.2.0) (8.0.13)\n",
      "Requirement already satisfied: pathy>=0.3.5 in /Users/antheayang/opt/anaconda3/lib/python3.7/site-packages (from spacy<3.3.0,>=3.2.0->en-core-web-md==3.2.0) (0.6.0)\n",
      "Requirement already satisfied: setuptools in /Users/antheayang/opt/anaconda3/lib/python3.7/site-packages (from spacy<3.3.0,>=3.2.0->en-core-web-md==3.2.0) (61.2.0)\n",
      "Requirement already satisfied: murmurhash<1.1.0,>=0.28.0 in /Users/antheayang/opt/anaconda3/lib/python3.7/site-packages (from spacy<3.3.0,>=3.2.0->en-core-web-md==3.2.0) (1.0.5)\n",
      "Requirement already satisfied: packaging>=20.0 in /Users/antheayang/opt/anaconda3/lib/python3.7/site-packages (from spacy<3.3.0,>=3.2.0->en-core-web-md==3.2.0) (21.3)\n",
      "Requirement already satisfied: requests<3.0.0,>=2.13.0 in /Users/antheayang/opt/anaconda3/lib/python3.7/site-packages (from spacy<3.3.0,>=3.2.0->en-core-web-md==3.2.0) (2.27.1)\n",
      "Requirement already satisfied: srsly<3.0.0,>=2.4.1 in /Users/antheayang/opt/anaconda3/lib/python3.7/site-packages (from spacy<3.3.0,>=3.2.0->en-core-web-md==3.2.0) (2.4.1)\n",
      "Requirement already satisfied: langcodes<4.0.0,>=3.2.0 in /Users/antheayang/opt/anaconda3/lib/python3.7/site-packages (from spacy<3.3.0,>=3.2.0->en-core-web-md==3.2.0) (3.3.0)\n",
      "Requirement already satisfied: catalogue<2.1.0,>=2.0.6 in /Users/antheayang/opt/anaconda3/lib/python3.7/site-packages (from spacy<3.3.0,>=3.2.0->en-core-web-md==3.2.0) (2.0.6)\n",
      "Requirement already satisfied: pydantic!=1.8,!=1.8.1,<1.9.0,>=1.7.4 in /Users/antheayang/opt/anaconda3/lib/python3.7/site-packages (from spacy<3.3.0,>=3.2.0->en-core-web-md==3.2.0) (1.8.2)\n",
      "Requirement already satisfied: zipp>=0.5 in /Users/antheayang/opt/anaconda3/lib/python3.7/site-packages (from catalogue<2.1.0,>=2.0.6->spacy<3.3.0,>=3.2.0->en-core-web-md==3.2.0) (3.7.0)\n",
      "Requirement already satisfied: pyparsing!=3.0.5,>=2.0.2 in /Users/antheayang/opt/anaconda3/lib/python3.7/site-packages (from packaging>=20.0->spacy<3.3.0,>=3.2.0->en-core-web-md==3.2.0) (3.0.4)\n",
      "Requirement already satisfied: smart-open<6.0.0,>=5.0.0 in /Users/antheayang/opt/anaconda3/lib/python3.7/site-packages (from pathy>=0.3.5->spacy<3.3.0,>=3.2.0->en-core-web-md==3.2.0) (5.1.0)\n",
      "Requirement already satisfied: idna<4,>=2.5 in /Users/antheayang/opt/anaconda3/lib/python3.7/site-packages (from requests<3.0.0,>=2.13.0->spacy<3.3.0,>=3.2.0->en-core-web-md==3.2.0) (3.3)\n",
      "Requirement already satisfied: certifi>=2017.4.17 in /Users/antheayang/opt/anaconda3/lib/python3.7/site-packages (from requests<3.0.0,>=2.13.0->spacy<3.3.0,>=3.2.0->en-core-web-md==3.2.0) (2021.10.8)\n",
      "Requirement already satisfied: charset-normalizer~=2.0.0 in /Users/antheayang/opt/anaconda3/lib/python3.7/site-packages (from requests<3.0.0,>=2.13.0->spacy<3.3.0,>=3.2.0->en-core-web-md==3.2.0) (2.0.4)\n",
      "Requirement already satisfied: urllib3<1.27,>=1.21.1 in /Users/antheayang/opt/anaconda3/lib/python3.7/site-packages (from requests<3.0.0,>=2.13.0->spacy<3.3.0,>=3.2.0->en-core-web-md==3.2.0) (1.26.8)\n",
      "Requirement already satisfied: click<9.0.0,>=7.1.1 in /Users/antheayang/opt/anaconda3/lib/python3.7/site-packages (from typer<0.5.0,>=0.3.0->spacy<3.3.0,>=3.2.0->en-core-web-md==3.2.0) (7.1.2)\n",
      "Requirement already satisfied: MarkupSafe>=0.23 in /Users/antheayang/opt/anaconda3/lib/python3.7/site-packages (from jinja2->spacy<3.3.0,>=3.2.0->en-core-web-md==3.2.0) (2.0.1)\n",
      "\u001b[38;5;2m✔ Download and installation successful\u001b[0m\n",
      "You can now load the package via spacy.load('en_core_web_md')\n"
     ]
    }
   ],
   "source": [
    "!python -m spacy download en_core_web_md"
   ]
  },
  {
   "cell_type": "markdown",
   "metadata": {
    "id": "iJrtgV9vB5eE"
   },
   "source": [
    "### Load in Spacy English Medium Language Model"
   ]
  },
  {
   "cell_type": "code",
   "execution_count": 3,
   "metadata": {
    "ExecuteTime": {
     "end_time": "2022-05-11T07:14:56.416027Z",
     "start_time": "2022-05-11T07:14:54.198725Z"
    },
    "id": "GgbhRJlieKL-"
   },
   "outputs": [
    {
     "name": "stderr",
     "output_type": "stream",
     "text": [
      "/Users/antheayang/opt/anaconda3/lib/python3.7/site-packages/tensorflow/python/framework/dtypes.py:526: FutureWarning: Passing (type, 1) or '1type' as a synonym of type is deprecated; in a future version of numpy, it will be understood as (type, (1,)) / '(1,)type'.\n",
      "  _np_qint8 = np.dtype([(\"qint8\", np.int8, 1)])\n",
      "/Users/antheayang/opt/anaconda3/lib/python3.7/site-packages/tensorflow/python/framework/dtypes.py:527: FutureWarning: Passing (type, 1) or '1type' as a synonym of type is deprecated; in a future version of numpy, it will be understood as (type, (1,)) / '(1,)type'.\n",
      "  _np_quint8 = np.dtype([(\"quint8\", np.uint8, 1)])\n",
      "/Users/antheayang/opt/anaconda3/lib/python3.7/site-packages/tensorflow/python/framework/dtypes.py:528: FutureWarning: Passing (type, 1) or '1type' as a synonym of type is deprecated; in a future version of numpy, it will be understood as (type, (1,)) / '(1,)type'.\n",
      "  _np_qint16 = np.dtype([(\"qint16\", np.int16, 1)])\n",
      "/Users/antheayang/opt/anaconda3/lib/python3.7/site-packages/tensorflow/python/framework/dtypes.py:529: FutureWarning: Passing (type, 1) or '1type' as a synonym of type is deprecated; in a future version of numpy, it will be understood as (type, (1,)) / '(1,)type'.\n",
      "  _np_quint16 = np.dtype([(\"quint16\", np.uint16, 1)])\n",
      "/Users/antheayang/opt/anaconda3/lib/python3.7/site-packages/tensorflow/python/framework/dtypes.py:530: FutureWarning: Passing (type, 1) or '1type' as a synonym of type is deprecated; in a future version of numpy, it will be understood as (type, (1,)) / '(1,)type'.\n",
      "  _np_qint32 = np.dtype([(\"qint32\", np.int32, 1)])\n",
      "/Users/antheayang/opt/anaconda3/lib/python3.7/site-packages/tensorflow/python/framework/dtypes.py:535: FutureWarning: Passing (type, 1) or '1type' as a synonym of type is deprecated; in a future version of numpy, it will be understood as (type, (1,)) / '(1,)type'.\n",
      "  np_resource = np.dtype([(\"resource\", np.ubyte, 1)])\n"
     ]
    }
   ],
   "source": [
    "import spacy\n",
    "nlp = spacy.load(\"en_core_web_sm\", disable = ['ner', 'tagger', 'parser'])\n",
    "from scipy.spatial.distance import cosine"
   ]
  },
  {
   "cell_type": "markdown",
   "metadata": {
    "id": "AxDPuOboBMil"
   },
   "source": [
    "### Use Spacy Pipeline to Tokenize and Remove Stopwords"
   ]
  },
  {
   "cell_type": "code",
   "execution_count": 4,
   "metadata": {
    "ExecuteTime": {
     "end_time": "2022-05-11T07:15:45.431714Z",
     "start_time": "2022-05-11T07:14:59.116514Z"
    },
    "id": "9qZDwyGOcMQE"
   },
   "outputs": [
    {
     "name": "stderr",
     "output_type": "stream",
     "text": [
      "/Users/antheayang/opt/anaconda3/lib/python3.7/site-packages/spacy/pipeline/lemmatizer.py:211: UserWarning: [W108] The rule-based lemmatizer did not find POS annotation for one or more tokens. Check that your pipeline includes components that assign token.pos, typically 'tagger'+'attribute_ruler' or 'morphologizer'.\n",
      "  warnings.warn(Warnings.W108)\n"
     ]
    }
   ],
   "source": [
    "stopwords_removed_docs = list(\n",
    "    map(lambda doc: \" \".join([token.text for token in nlp(doc) if not token.is_stop]), docs))"
   ]
  },
  {
   "cell_type": "markdown",
   "metadata": {
    "id": "Nokae0DlcMQF"
   },
   "source": [
    "## Tokenize Text"
   ]
  },
  {
   "cell_type": "code",
   "execution_count": 5,
   "metadata": {
    "ExecuteTime": {
     "end_time": "2022-05-11T07:15:46.064856Z",
     "start_time": "2022-05-11T07:15:45.805474Z"
    },
    "id": "BJcCn1u0cMQF"
   },
   "outputs": [
    {
     "name": "stderr",
     "output_type": "stream",
     "text": [
      "Using TensorFlow backend.\n"
     ]
    }
   ],
   "source": [
    "from keras.preprocessing.text import Tokenizer\n",
    "tokenizer = Tokenizer(num_words=5000, oov_token=\"UNKNOWN_TOKEN\")\n",
    "tokenizer.fit_on_texts(stopwords_removed_docs)"
   ]
  },
  {
   "cell_type": "markdown",
   "metadata": {
    "id": "Y0EjWxBWCPzQ"
   },
   "source": [
    "#### Set a Maximum Sequence Length"
   ]
  },
  {
   "cell_type": "code",
   "execution_count": 7,
   "metadata": {
    "ExecuteTime": {
     "end_time": "2022-05-11T07:16:05.770721Z",
     "start_time": "2022-05-11T07:16:05.510626Z"
    }
   },
   "outputs": [
    {
     "data": {
      "text/plain": [
       "<AxesSubplot:>"
      ]
     },
     "execution_count": 7,
     "metadata": {},
     "output_type": "execute_result"
    },
    {
     "data": {
      "image/png": "[encoded data removed]",
      "text/plain": [
       "<Figure size 432x288 with 1 Axes>"
      ]
     },
     "metadata": {
      "needs_background": "light"
     },
     "output_type": "display_data"
    }
   ],
   "source": [
    "%matplotlib inline\n",
    "import pandas as pd\n",
    "pd.Series(stopwords_removed_docs).str.len().hist()"
   ]
  },
  {
   "cell_type": "code",
   "execution_count": 8,
   "metadata": {
    "ExecuteTime": {
     "end_time": "2022-05-11T07:16:07.794540Z",
     "start_time": "2022-05-11T07:16:07.781730Z"
    }
   },
   "outputs": [
    {
     "data": {
      "text/plain": [
       "count    16000.000000\n",
       "mean       100.726875\n",
       "std        173.043582\n",
       "min          1.000000\n",
       "25%         25.000000\n",
       "50%         54.000000\n",
       "75%        115.000000\n",
       "max       5994.000000\n",
       "dtype: float64"
      ]
     },
     "execution_count": 8,
     "metadata": {},
     "output_type": "execute_result"
    }
   ],
   "source": [
    "pd.Series(stopwords_removed_docs).str.len().describe()"
   ]
  },
  {
   "cell_type": "code",
   "execution_count": 9,
   "metadata": {
    "ExecuteTime": {
     "end_time": "2022-05-11T07:17:29.700590Z",
     "start_time": "2022-05-11T07:17:29.698175Z"
    },
    "id": "Q08TLlkUgbba"
   },
   "outputs": [],
   "source": [
    "MAX_SEQUENCE_LENGTH = 150"
   ]
  },
  {
   "cell_type": "code",
   "execution_count": 10,
   "metadata": {
    "ExecuteTime": {
     "end_time": "2022-05-11T07:17:30.400377Z",
     "start_time": "2022-05-11T07:17:30.195451Z"
    },
    "colab": {
     "base_uri": "https://localhost:8080/"
    },
    "id": "rUHY0LI-cMQG",
    "outputId": "dcf35ea6-f217-43dd-8ede-019b6b2d8eab",
    "scrolled": true
   },
   "outputs": [
    {
     "name": "stdout",
     "output_type": "stream",
     "text": [
      "Encoded docs: [[134], [3, 11, 877, 481, 67, 115, 36, 512, 1, 2364, 481, 481, 18, 1041, 1, 982, 48, 481, 1, 3693, 2116], [30, 31, 451, 34, 38, 1394, 1159, 199, 99, 113, 46, 1066], [3, 37, 316, 382, 308, 424, 4, 663, 4, 316, 827, 1], [339, 6]]\n",
      "Padded docs: [[ 134    0    0    0    0    0    0    0    0    0    0    0    0    0\n",
      "     0    0    0    0    0    0    0    0    0    0    0    0    0    0\n",
      "     0    0    0    0    0    0    0    0    0    0    0    0    0    0\n",
      "     0    0    0    0    0    0    0    0    0    0    0    0    0    0\n",
      "     0    0    0    0    0    0    0    0    0    0    0    0    0    0\n",
      "     0    0    0    0    0    0    0    0    0    0    0    0    0    0\n",
      "     0    0    0    0    0    0    0    0    0    0    0    0    0    0\n",
      "     0    0    0    0    0    0    0    0    0    0    0    0    0    0\n",
      "     0    0    0    0    0    0    0    0    0    0    0    0    0    0\n",
      "     0    0    0    0    0    0    0    0    0    0    0    0    0    0\n",
      "     0    0    0    0    0    0    0    0    0    0]\n",
      " [   3   11  877  481   67  115   36  512    1 2364  481  481   18 1041\n",
      "     1  982   48  481    1 3693 2116    0    0    0    0    0    0    0\n",
      "     0    0    0    0    0    0    0    0    0    0    0    0    0    0\n",
      "     0    0    0    0    0    0    0    0    0    0    0    0    0    0\n",
      "     0    0    0    0    0    0    0    0    0    0    0    0    0    0\n",
      "     0    0    0    0    0    0    0    0    0    0    0    0    0    0\n",
      "     0    0    0    0    0    0    0    0    0    0    0    0    0    0\n",
      "     0    0    0    0    0    0    0    0    0    0    0    0    0    0\n",
      "     0    0    0    0    0    0    0    0    0    0    0    0    0    0\n",
      "     0    0    0    0    0    0    0    0    0    0    0    0    0    0\n",
      "     0    0    0    0    0    0    0    0    0    0]\n",
      " [  30   31  451   34   38 1394 1159  199   99  113   46 1066    0    0\n",
      "     0    0    0    0    0    0    0    0    0    0    0    0    0    0\n",
      "     0    0    0    0    0    0    0    0    0    0    0    0    0    0\n",
      "     0    0    0    0    0    0    0    0    0    0    0    0    0    0\n",
      "     0    0    0    0    0    0    0    0    0    0    0    0    0    0\n",
      "     0    0    0    0    0    0    0    0    0    0    0    0    0    0\n",
      "     0    0    0    0    0    0    0    0    0    0    0    0    0    0\n",
      "     0    0    0    0    0    0    0    0    0    0    0    0    0    0\n",
      "     0    0    0    0    0    0    0    0    0    0    0    0    0    0\n",
      "     0    0    0    0    0    0    0    0    0    0    0    0    0    0\n",
      "     0    0    0    0    0    0    0    0    0    0]\n",
      " [   3   37  316  382  308  424    4  663    4  316  827    1    0    0\n",
      "     0    0    0    0    0    0    0    0    0    0    0    0    0    0\n",
      "     0    0    0    0    0    0    0    0    0    0    0    0    0    0\n",
      "     0    0    0    0    0    0    0    0    0    0    0    0    0    0\n",
      "     0    0    0    0    0    0    0    0    0    0    0    0    0    0\n",
      "     0    0    0    0    0    0    0    0    0    0    0    0    0    0\n",
      "     0    0    0    0    0    0    0    0    0    0    0    0    0    0\n",
      "     0    0    0    0    0    0    0    0    0    0    0    0    0    0\n",
      "     0    0    0    0    0    0    0    0    0    0    0    0    0    0\n",
      "     0    0    0    0    0    0    0    0    0    0    0    0    0    0\n",
      "     0    0    0    0    0    0    0    0    0    0]\n",
      " [ 339    6    0    0    0    0    0    0    0    0    0    0    0    0\n",
      "     0    0    0    0    0    0    0    0    0    0    0    0    0    0\n",
      "     0    0    0    0    0    0    0    0    0    0    0    0    0    0\n",
      "     0    0    0    0    0    0    0    0    0    0    0    0    0    0\n",
      "     0    0    0    0    0    0    0    0    0    0    0    0    0    0\n",
      "     0    0    0    0    0    0    0    0    0    0    0    0    0    0\n",
      "     0    0    0    0    0    0    0    0    0    0    0    0    0    0\n",
      "     0    0    0    0    0    0    0    0    0    0    0    0    0    0\n",
      "     0    0    0    0    0    0    0    0    0    0    0    0    0    0\n",
      "     0    0    0    0    0    0    0    0    0    0    0    0    0    0\n",
      "     0    0    0    0    0    0    0    0    0    0]]\n"
     ]
    }
   ],
   "source": [
    "def integer_encode_documents(docs, tokenizer):\n",
    "    return tokenizer.texts_to_sequences(docs)\n",
    "\n",
    "from tensorflow.keras.preprocessing.sequence import pad_sequences\n",
    "\n",
    "# integer encode the documents\n",
    "encoded_docs = integer_encode_documents(stopwords_removed_docs, tokenizer)\n",
    "print(f\"Encoded docs: {encoded_docs[:5]}\")\n",
    "padded_docs = pad_sequences(encoded_docs, maxlen=MAX_SEQUENCE_LENGTH, padding='post')\n",
    "print(f\"Padded docs: {padded_docs[:5]}\")"
   ]
  },
  {
   "cell_type": "markdown",
   "metadata": {
    "id": "aqotv_-RCpv1"
   },
   "source": [
    "### Encode Labels\n",
    "Convert positive/negative labels to their own columns."
   ]
  },
  {
   "cell_type": "code",
   "execution_count": 11,
   "metadata": {
    "ExecuteTime": {
     "end_time": "2022-05-11T07:19:00.815502Z",
     "start_time": "2022-05-11T07:19:00.432572Z"
    },
    "id": "nmPTx7bacMQG"
   },
   "outputs": [],
   "source": [
    "from tensorflow.keras.utils import to_categorical\n",
    "from sklearn.preprocessing import LabelEncoder\n",
    "encoder = LabelEncoder()\n",
    "labels = to_categorical(encoder.fit_transform(labels))"
   ]
  },
  {
   "cell_type": "code",
   "execution_count": 12,
   "metadata": {
    "ExecuteTime": {
     "end_time": "2022-05-11T07:19:01.429606Z",
     "start_time": "2022-05-11T07:19:01.426166Z"
    },
    "colab": {
     "base_uri": "https://localhost:8080/"
    },
    "id": "VJ3kPF_zWmZw",
    "outputId": "f0b18682-8589-462b-e904-5f38ab691dd7"
   },
   "outputs": [
    {
     "data": {
      "text/plain": [
       "array([[0., 1.],\n",
       "       [0., 1.],\n",
       "       [0., 1.],\n",
       "       ...,\n",
       "       [1., 0.],\n",
       "       [1., 0.],\n",
       "       [1., 0.]], dtype=float32)"
      ]
     },
     "execution_count": 12,
     "metadata": {},
     "output_type": "execute_result"
    }
   ],
   "source": [
    "labels"
   ]
  },
  {
   "cell_type": "markdown",
   "metadata": {
    "id": "TF9U-aR8CkEH"
   },
   "source": [
    "### Perform Train/Test Split"
   ]
  },
  {
   "cell_type": "code",
   "execution_count": 13,
   "metadata": {
    "ExecuteTime": {
     "end_time": "2022-05-11T07:19:11.168290Z",
     "start_time": "2022-05-11T07:19:11.111168Z"
    },
    "id": "sMvXw1m-cMQH"
   },
   "outputs": [],
   "source": [
    "from sklearn.model_selection import train_test_split\n",
    "X_train, X_test, y_train, y_test = train_test_split(padded_docs, labels, test_size=0.2)"
   ]
  },
  {
   "cell_type": "markdown",
   "metadata": {
    "id": "4z-_jE4TcMQH"
   },
   "source": [
    "## Import Keras Toolkit"
   ]
  },
  {
   "cell_type": "code",
   "execution_count": 14,
   "metadata": {
    "ExecuteTime": {
     "end_time": "2022-05-11T07:19:31.793030Z",
     "start_time": "2022-05-11T07:19:31.790725Z"
    },
    "id": "zJhPI3j9cMQH"
   },
   "outputs": [],
   "source": [
    "from random import randint\n",
    "from numpy import array, argmax, asarray, zeros\n",
    "from keras.models import Sequential\n",
    "from keras.layers import Dense\n",
    "from keras.layers import Embedding"
   ]
  },
  {
   "cell_type": "code",
   "execution_count": 15,
   "metadata": {
    "ExecuteTime": {
     "end_time": "2022-05-11T07:19:32.404762Z",
     "start_time": "2022-05-11T07:19:32.402801Z"
    },
    "id": "5d7U7P3UcMQH"
   },
   "outputs": [],
   "source": [
    "VOCAB_SIZE = int(len(tokenizer.word_index) * 1.1)"
   ]
  },
  {
   "cell_type": "code",
   "execution_count": 16,
   "metadata": {
    "ExecuteTime": {
     "end_time": "2022-05-11T07:19:35.713483Z",
     "start_time": "2022-05-11T07:19:35.710984Z"
    }
   },
   "outputs": [
    {
     "data": {
      "text/plain": [
       "17525"
      ]
     },
     "execution_count": 16,
     "metadata": {},
     "output_type": "execute_result"
    }
   ],
   "source": [
    "VOCAB_SIZE"
   ]
  },
  {
   "cell_type": "markdown",
   "metadata": {
    "id": "WCx-zqkgcMQH"
   },
   "source": [
    "## Load in GloVe Vectors"
   ]
  },
  {
   "cell_type": "markdown",
   "metadata": {
    "id": "YZuqf2-alhIr"
   },
   "source": [
    "Download the actual Glove vectors from S3 and unzip them."
   ]
  },
  {
   "cell_type": "code",
   "execution_count": null,
   "metadata": {
    "colab": {
     "base_uri": "https://localhost:8080/"
    },
    "id": "Ne2BDRUxgrJK",
    "outputId": "4863c4fe-c390-4015-caee-86cabf9cfeb4"
   },
   "outputs": [
    {
     "name": "stdout",
     "output_type": "stream",
     "text": [
      "--2022-04-27 00:39:13--  https://dso-560-nlp-text-analytics.s3.amazonaws.com/glove6b100dtxt.zip\n",
      "Resolving dso-560-nlp-text-analytics.s3.amazonaws.com (dso-560-nlp-text-analytics.s3.amazonaws.com)... 52.216.168.203\n",
      "Connecting to dso-560-nlp-text-analytics.s3.amazonaws.com (dso-560-nlp-text-analytics.s3.amazonaws.com)|52.216.168.203|:443... connected.\n",
      "HTTP request sent, awaiting response... 200 OK\n",
      "Length: 137847651 (131M) [application/zip]\n",
      "Saving to: ‘glove6b100dtxt.zip’\n",
      "\n",
      "glove6b100dtxt.zip  100%[===================>] 131.46M  48.8MB/s    in 2.7s    \n",
      "\n",
      "2022-04-27 00:39:16 (48.8 MB/s) - ‘glove6b100dtxt.zip’ saved [137847651/137847651]\n",
      "\n",
      "Archive:  glove6b100dtxt.zip\n",
      "  inflating: glove.6B.100d.txt       \n"
     ]
    }
   ],
   "source": [
    "!wget https://dso-560-nlp-text-analytics.s3.amazonaws.com/glove6b100dtxt.zip\n",
    "!unzip glove6b100dtxt.zip "
   ]
  },
  {
   "cell_type": "code",
   "execution_count": null,
   "metadata": {
    "colab": {
     "base_uri": "https://localhost:8080/"
    },
    "id": "TauXOddqcMQH",
    "outputId": "bec6ee9b-b023-42aa-8d37-500e87927d6f"
   },
   "outputs": [
    {
     "name": "stdout",
     "output_type": "stream",
     "text": [
      "Loaded 400000 word vectors.\n"
     ]
    }
   ],
   "source": [
    "from typing import Dict\n",
    "def load_glove_vectors()-> Dict:\n",
    "    embeddings_index = {}\n",
    "    with open('glove.6B.100d.txt') as f:\n",
    "        for line in f:\n",
    "            values = line.split()\n",
    "            word = values[0]\n",
    "            coefs = asarray(values[1:], dtype='float32')\n",
    "            embeddings_index[word] = coefs\n",
    "    print('Loaded %s word vectors.' % len(embeddings_index))\n",
    "    return embeddings_index\n",
    "\n",
    "\n",
    "embeddings_index = load_glove_vectors()"
   ]
  },
  {
   "cell_type": "markdown",
   "metadata": {
    "id": "_tdMt_q5cMQI"
   },
   "source": [
    "## Load in Embeddings"
   ]
  },
  {
   "cell_type": "code",
   "execution_count": null,
   "metadata": {
    "id": "T3QJDCmOcMQI"
   },
   "outputs": [],
   "source": [
    "# create a weight matrix for words in training docs\n",
    "embedding_matrix = zeros((VOCAB_SIZE, 100))\n",
    "for word, i in tokenizer.word_index.items():\n",
    "    embedding_vector = embeddings_index.get(word)\n",
    "    if embedding_vector is not None: # check that it is an actual word that we have embeddings for\n",
    "        embedding_matrix[i] = embedding_vector"
   ]
  },
  {
   "cell_type": "markdown",
   "metadata": {
    "id": "4F72cMk_cMQI"
   },
   "source": [
    "## Define in Model"
   ]
  },
  {
   "cell_type": "markdown",
   "metadata": {},
   "source": [
    "<div class=\"alert-success\">\n",
    "essential part:</div>"
   ]
  },
  {
   "cell_type": "code",
   "execution_count": null,
   "metadata": {
    "id": "L8Ah1GHfcMQI"
   },
   "outputs": [],
   "source": [
    "from keras.layers.recurrent import SimpleRNN, LSTM\n",
    "from keras.layers import Flatten, Masking\n",
    "# define model\n",
    "def make_binary_classification_rnn_model(plot=False):\n",
    "    model = Sequential()\n",
    "    model.add(Embedding(VOCAB_SIZE, 100, weights=[embedding_matrix], input_length=MAX_SEQUENCE_LENGTH, trainable=False))\n",
    "    model.add(Masking(mask_value=0.0)) # masking layer, masks any words that don't have an embedding as 0s.\n",
    "    model.add(SimpleRNN(units=64, input_shape=(1, MAX_SEQUENCE_LENGTH)))\n",
    "    model.add(Dense(16))\n",
    "    model.add(Dense(2, activation='softmax'))\n",
    "    \n",
    "    # Compile the model\n",
    "    model.compile(\n",
    "    optimizer='adam', loss='categorical_crossentropy', metrics=['accuracy'])\n",
    "    # summarize the model\n",
    "    model.summary()\n",
    "    \n",
    "    if plot:\n",
    "        plot_model(model, to_file='model.png', show_shapes=True)\n",
    "    return model\n",
    "\n",
    "def make_lstm_classification_model(plot=False):\n",
    "    model = Sequential()\n",
    "    model.add(Embedding(VOCAB_SIZE, 100, weights=[embedding_matrix], input_length=MAX_SEQUENCE_LENGTH, trainable=False))\n",
    "    model.add(Masking(mask_value=0.0)) # masking layer, masks any words that don't have an embedding as 0s.\n",
    "    model.add(LSTM(units=32, input_shape=(1, MAX_SEQUENCE_LENGTH)))\n",
    "    model.add(Dense(16))\n",
    "    model.add(Dense(2, activation='softmax'))\n",
    "    \n",
    "    # Compile the model\n",
    "    model.compile(\n",
    "    optimizer='adam', loss='categorical_crossentropy', metrics=['accuracy'])\n",
    "    # summarize the model\n",
    "    model.summary()\n",
    "    \n",
    "    if plot:\n",
    "        plot_model(model, to_file='model.png', show_shapes=True)\n",
    "    return model"
   ]
  },
  {
   "cell_type": "markdown",
   "metadata": {
    "id": "4xFgVjF7cMQI"
   },
   "source": [
    "## Compile Model"
   ]
  },
  {
   "cell_type": "markdown",
   "metadata": {
    "id": "eGv61TvLcMQI"
   },
   "source": [
    "#### Helpful Rule of Thumb for Defining # of Parameters in LSTM:\n",
    "\n",
    "$$\n",
    "W = 4d×(n+d)\n",
    "$$\n",
    "Where $d$ is the number of memory cells, and $N$ is the number of dimensions for a data point."
   ]
  },
  {
   "cell_type": "code",
   "execution_count": null,
   "metadata": {
    "colab": {
     "base_uri": "https://localhost:8080/"
    },
    "id": "gCsqbvjjcMQI",
    "outputId": "f7565852-7bbf-48a9-de8a-e604b384affb"
   },
   "outputs": [
    {
     "name": "stdout",
     "output_type": "stream",
     "text": [
      "Model: \"sequential\"\n",
      "_________________________________________________________________\n",
      " Layer (type)                Output Shape              Param #   \n",
      "=================================================================\n",
      " embedding (Embedding)       (None, 150, 100)          1752500   \n",
      "                                                                 \n",
      " masking (Masking)           (None, 150, 100)          0         \n",
      "                                                                 \n",
      " lstm (LSTM)                 (None, 32)                17024     \n",
      "                                                                 \n",
      " dense (Dense)               (None, 16)                528       \n",
      "                                                                 \n",
      " dense_1 (Dense)             (None, 2)                 34        \n",
      "                                                                 \n",
      "=================================================================\n",
      "Total params: 1,770,086\n",
      "Trainable params: 17,586\n",
      "Non-trainable params: 1,752,500\n",
      "_________________________________________________________________\n",
      "Model: \"sequential_1\"\n",
      "_________________________________________________________________\n",
      " Layer (type)                Output Shape              Param #   \n",
      "=================================================================\n",
      " embedding_1 (Embedding)     (None, 150, 100)          1752500   \n",
      "                                                                 \n",
      " masking_1 (Masking)         (None, 150, 100)          0         \n",
      "                                                                 \n",
      " simple_rnn (SimpleRNN)      (None, 64)                10560     \n",
      "                                                                 \n",
      " dense_2 (Dense)             (None, 16)                1040      \n",
      "                                                                 \n",
      " dense_3 (Dense)             (None, 2)                 34        \n",
      "                                                                 \n",
      "=================================================================\n",
      "Total params: 1,764,134\n",
      "Trainable params: 11,634\n",
      "Non-trainable params: 1,752,500\n",
      "_________________________________________________________________\n",
      "<keras.engine.sequential.Sequential object at 0x7ff608b52e10>\n",
      "<keras.engine.sequential.Sequential object at 0x7ff60cc66990>\n"
     ]
    }
   ],
   "source": [
    "model = make_lstm_classification_model()\n",
    "model_rnn = make_binary_classification_rnn_model()\n",
    "print(model)\n",
    "print(model_rnn)"
   ]
  },
  {
   "cell_type": "markdown",
   "metadata": {
    "id": "dcZ9WD06cMQJ"
   },
   "source": [
    "## Fit the Model"
   ]
  },
  {
   "cell_type": "code",
   "execution_count": null,
   "metadata": {
    "colab": {
     "base_uri": "https://localhost:8080/"
    },
    "id": "4UkFtdsLcMQJ",
    "outputId": "dbc1d047-97c4-4c35-a223-3c92bd00da1b"
   },
   "outputs": [
    {
     "name": "stdout",
     "output_type": "stream",
     "text": [
      "Epoch 1/3\n",
      "360/360 [==============================] - 40s 105ms/step - loss: 0.3605 - accuracy: 0.8487 - val_loss: 0.2636 - val_accuracy: 0.9016\n",
      "Epoch 2/3\n",
      "360/360 [==============================] - 38s 107ms/step - loss: 0.2546 - accuracy: 0.8960 - val_loss: 0.2368 - val_accuracy: 0.9062\n",
      "Epoch 3/3\n",
      "360/360 [==============================] - 37s 104ms/step - loss: 0.2208 - accuracy: 0.9102 - val_loss: 0.2246 - val_accuracy: 0.9086\n"
     ]
    }
   ],
   "source": [
    "# fit the model\n",
    "history = model.fit(X_train, y_train,validation_split = 0.1, epochs=3, verbose=1)"
   ]
  },
  {
   "cell_type": "code",
   "execution_count": null,
   "metadata": {
    "colab": {
     "base_uri": "https://localhost:8080/",
     "height": 295
    },
    "id": "XCZFvd_HcMQJ",
    "outputId": "dc91a31f-cc29-4453-cea5-0e19c4d2fa7d"
   },
   "outputs": [
    {
     "data": {
      "image/png": "[encoded data removed]",
      "text/plain": [
       "<Figure size 432x288 with 1 Axes>"
      ]
     },
     "metadata": {
      "needs_background": "light"
     },
     "output_type": "display_data"
    }
   ],
   "source": [
    "import keras\n",
    "from matplotlib import pyplot as plt\n",
    "\n",
    "def plot_fit_history(history):\n",
    "    plt.plot(history.history['accuracy'])\n",
    "    plt.plot(history.history['val_accuracy'])\n",
    "    plt.title('model accuracy')\n",
    "    plt.ylabel('accuracy')\n",
    "    plt.xlabel('epoch')\n",
    "    plt.legend(['train', 'val'], loc='upper left')\n",
    "    plt.show()\n",
    "plot_fit_history(history)"
   ]
  },
  {
   "cell_type": "markdown",
   "metadata": {
    "id": "n0oO0os7cMQJ"
   },
   "source": [
    "## Evaluate the Model"
   ]
  },
  {
   "cell_type": "code",
   "execution_count": null,
   "metadata": {
    "colab": {
     "base_uri": "https://localhost:8080/"
    },
    "id": "BbtM_h_lmLZK",
    "outputId": "25c8df49-82d3-4748-a1e7-f9f171b760fb"
   },
   "outputs": [
    {
     "data": {
      "text/plain": [
       "0.5"
      ]
     },
     "execution_count": 22,
     "metadata": {},
     "output_type": "execute_result"
    }
   ],
   "source": [
    "# baseline accuracy\n",
    "y_test.mean()"
   ]
  },
  {
   "cell_type": "code",
   "execution_count": null,
   "metadata": {
    "colab": {
     "base_uri": "https://localhost:8080/"
    },
    "id": "fwGVJ0ImcMQJ",
    "outputId": "492a1863-149d-4e23-ab56-47b1f3a76b30"
   },
   "outputs": [
    {
     "name": "stdout",
     "output_type": "stream",
     "text": [
      "100/100 [==============================] - 3s 28ms/step - loss: 0.2281 - accuracy: 0.9031\n",
      "Accuracy: 90.312499\n"
     ]
    }
   ],
   "source": [
    "# evaluate the model\n",
    "loss, accuracy = model.evaluate(X_test, y_test, verbose=1)\n",
    "print('Accuracy: %f' % (accuracy*100))"
   ]
  },
  {
   "cell_type": "markdown",
   "metadata": {
    "id": "t0u17FA_cMQJ"
   },
   "source": [
    "## Try Some Random Reviews"
   ]
  },
  {
   "cell_type": "code",
   "execution_count": null,
   "metadata": {
    "colab": {
     "base_uri": "https://localhost:8080/"
    },
    "id": "G5kr_76icMQJ",
    "outputId": "7ff4e51a-d1d1-4cba-a0cb-4d427ff89be0"
   },
   "outputs": [
    {
     "data": {
      "text/plain": [
       "array([1., 0., 1.])"
      ]
     },
     "execution_count": 24,
     "metadata": {},
     "output_type": "execute_result"
    }
   ],
   "source": [
    "test_docs = [\n",
    "    \"Amazing, my son loved it as soon as he opened it.\",\n",
    "    \"Piece of crap junk broke as soon as it was opened.\",\n",
    "    \"Solid toy, it was easy to set up and still works even years later\"\n",
    "]\n",
    "\n",
    "test_docs = list(\n",
    "    map(lambda doc: \" \".join([token.text for token in nlp(doc) if not token.is_stop]), test_docs))\n",
    "\n",
    "encoded_test_sample = integer_encode_documents(test_docs, tokenizer)\n",
    "\n",
    "padded_test_docs = pad_sequences(encoded_test_sample, maxlen=MAX_SEQUENCE_LENGTH, padding='post')\n",
    "\n",
    "prediction = np.argmax(model.predict(padded_test_docs), axis=1)\n",
    "encoder.inverse_transform(prediction)"
   ]
  },
  {
   "cell_type": "markdown",
   "metadata": {
    "id": "vgnhxXcocMQJ"
   },
   "source": [
    "# Word of Caution - the Dangers of Overfitting\n",
    "##  Problem Statement: Predict City of McDonalds Review"
   ]
  },
  {
   "cell_type": "markdown",
   "metadata": {
    "id": "nzMSNsRCcMQJ"
   },
   "source": [
    "We want to try predict the city that a review corresponds to. For example, given that a McDonalds Yelp review:\n",
    "```\n",
    "\"First they \"\"lost\"\" my order, actually they gave it to someone one else than took 20 minutes to figure out why I was still waiting for my order.They after I was asked what I needed I replied, \"\"my order\"\".They asked for my ticket and the asst mgr looked at the ticket then incompletely filled it.I had to ask her to check to see if she filled it correctly.She acted as if she couldn't be bothered with that so I asked her again.She begrudgingly checked to she did in fact miss something on the ticket.So after 22 minutes I finally had my breakfast biscuit platter.As I left an woman approached and identified herself as the manager, she was dressed as if she had just awoken in an old t-shirt and sweat pants.She said she had heard what happened and said she'd take care of it.Well why didn't she intervene when she saw I was growing annoyed with the incompetence?\"\n",
    "```\n",
    "\n",
    "We want to be able to correctly predict that is is from `Atlanta`."
   ]
  },
  {
   "cell_type": "markdown",
   "metadata": {
    "id": "bGWcAyJNcMQJ"
   },
   "source": [
    "### Load in McDonalds Yelp Reviews"
   ]
  },
  {
   "cell_type": "code",
   "execution_count": null,
   "metadata": {
    "id": "TzsKpZShcMQJ"
   },
   "outputs": [],
   "source": [
    "import pandas as pd"
   ]
  },
  {
   "cell_type": "code",
   "execution_count": null,
   "metadata": {
    "id": "4mBDrxW3cMQJ"
   },
   "outputs": [],
   "source": [
    "reviews_df: pd.DataFrame = pd.read_csv(\n",
    "    \"../datasets/mcdonalds-yelp-negative-reviews.csv\", encoding=\"latin1\")\n",
    "reviews_df = reviews_df[~reviews_df[\"city\"].isnull()] # filter out null cities\n",
    "\n",
    "reviews_df.sample(len (reviews_df)).head() # shuffle the rows"
   ]
  },
  {
   "cell_type": "markdown",
   "metadata": {
    "id": "cyOJqPltcMQJ"
   },
   "source": [
    "## Get Your Feature Space and Target Labels"
   ]
  },
  {
   "cell_type": "code",
   "execution_count": null,
   "metadata": {
    "id": "MzuYfh0ucMQJ"
   },
   "outputs": [],
   "source": [
    "labels = reviews_df[\"city\"]\n",
    "docs = reviews_df[\"review\"]"
   ]
  },
  {
   "cell_type": "markdown",
   "metadata": {
    "id": "gcT_Y54IcMQK"
   },
   "source": [
    "## Perform Label Categorical Encoding of Cities"
   ]
  },
  {
   "cell_type": "code",
   "execution_count": null,
   "metadata": {
    "id": "bylXD_z2cMQK"
   },
   "outputs": [],
   "source": [
    "from tensorflow.keras.utils import to_categorical\n",
    "from sklearn.preprocessing import LabelEncoder\n",
    "encoder = LabelEncoder()\n",
    "labels = to_categorical(encoder.fit_transform(labels))"
   ]
  },
  {
   "cell_type": "markdown",
   "metadata": {
    "id": "N1dbgGILcMQK"
   },
   "source": [
    "## Remove Stopwords Using SpaCy"
   ]
  },
  {
   "cell_type": "code",
   "execution_count": null,
   "metadata": {
    "id": "iAEvjHFZcMQK"
   },
   "outputs": [],
   "source": [
    "import spacy\n",
    "stopwords_removed_docs = list(\n",
    "    map(lambda doc: \" \".join([token.text for token in nlp(doc) if not token.is_stop]), docs))"
   ]
  },
  {
   "cell_type": "markdown",
   "metadata": {
    "id": "_GtlE-7hcMQK"
   },
   "source": [
    "## Tokenize the Text"
   ]
  },
  {
   "cell_type": "code",
   "execution_count": null,
   "metadata": {
    "id": "NnboXySccMQK"
   },
   "outputs": [],
   "source": [
    "from keras.preprocessing.text import Tokenizer\n",
    "tokenizer = Tokenizer(num_words=10000, oov_token=\"UNKNOWN_TOKEN\")\n",
    "tokenizer.fit_on_texts(stopwords_removed_docs)"
   ]
  },
  {
   "cell_type": "markdown",
   "metadata": {
    "id": "Y3k8JyKpcMQK"
   },
   "source": [
    "## Integer Encode Tokens"
   ]
  },
  {
   "cell_type": "code",
   "execution_count": null,
   "metadata": {
    "id": "yeYFa1-ScMQK"
   },
   "outputs": [],
   "source": [
    "def integer_encode_documents(docs, tokenizer):\n",
    "    return tokenizer.texts_to_sequences(docs)"
   ]
  },
  {
   "cell_type": "markdown",
   "metadata": {
    "id": "V8FPotxScMQK"
   },
   "source": [
    "## Get Max Length Per Token"
   ]
  },
  {
   "cell_type": "code",
   "execution_count": null,
   "metadata": {
    "id": "-Di4Iyu2cMQK"
   },
   "outputs": [],
   "source": [
    "from typing import List\n",
    "def get_max_token_length_per_doc(docs: List[List[str]])-> int:\n",
    "    return max(list(map(lambda x: len(x.split()), docs)))\n",
    "\n",
    "# get the max length in terms of token length\n",
    "max_length = get_max_token_length_per_doc(docs)"
   ]
  },
  {
   "cell_type": "code",
   "execution_count": null,
   "metadata": {
    "id": "5LTlFmrgcMQK"
   },
   "outputs": [],
   "source": [
    "from keras.preprocessing.sequence import pad_sequences\n",
    "MAX_SEQUENCE_LENGTH = 300\n",
    "# integer encode the documents\n",
    "encoded_docs = integer_encode_documents(stopwords_removed_docs, tokenizer)\n",
    "# this is a list of lists, the numbers represent the index position of that word.\n",
    "# for instance, 33 means the 33rd word in the vocabulary\n",
    "padded_docs = pad_sequences(encoded_docs, maxlen=MAX_SEQUENCE_LENGTH, padding='post')"
   ]
  },
  {
   "cell_type": "code",
   "execution_count": null,
   "metadata": {
    "colab": {
     "base_uri": "https://localhost:8080/"
    },
    "id": "FH4eyU-xcMQK",
    "outputId": "1a5e549a-3112-4203-c3e5-a950de23d734",
    "scrolled": true
   },
   "outputs": [
    {
     "data": {
      "text/plain": [
       "(1438, 300)"
      ]
     },
     "execution_count": 59,
     "metadata": {},
     "output_type": "execute_result"
    }
   ],
   "source": [
    "padded_docs.shape"
   ]
  },
  {
   "cell_type": "markdown",
   "metadata": {
    "id": "NCfKb626cMQK"
   },
   "source": [
    "## Split into Train/Test Split"
   ]
  },
  {
   "cell_type": "code",
   "execution_count": null,
   "metadata": {
    "id": "eKXiC6cbcMQK"
   },
   "outputs": [],
   "source": [
    "from sklearn.model_selection import train_test_split\n",
    "X_train, X_test, y_train, y_test = train_test_split(padded_docs, labels, test_size=0.1)"
   ]
  },
  {
   "cell_type": "markdown",
   "metadata": {
    "id": "6R1ZIyBhcMQK"
   },
   "source": [
    "## Keras RNN Architecture"
   ]
  },
  {
   "cell_type": "code",
   "execution_count": null,
   "metadata": {
    "id": "3rMklGW-cMQL"
   },
   "outputs": [],
   "source": [
    "VOCAB_SIZE = int(len(tokenizer.word_index) * 1.1)"
   ]
  },
  {
   "cell_type": "markdown",
   "metadata": {
    "id": "g10BycKmcMQL"
   },
   "source": [
    "## Load in Glove Vectors"
   ]
  },
  {
   "cell_type": "code",
   "execution_count": null,
   "metadata": {
    "colab": {
     "base_uri": "https://localhost:8080/"
    },
    "id": "gYFccv46cMQL",
    "outputId": "c078deb0-8a57-4485-9f58-487c85bf66f6"
   },
   "outputs": [
    {
     "name": "stdout",
     "output_type": "stream",
     "text": [
      "Loaded 400000 word vectors.\n"
     ]
    }
   ],
   "source": [
    "def load_glove_vectors():\n",
    "    embeddings_index = {}\n",
    "    with open('glove.6B.100d.txt') as f:\n",
    "        for line in f:\n",
    "            values = line.split()\n",
    "            word = values[0]\n",
    "            coefs = asarray(values[1:], dtype='float32')\n",
    "            embeddings_index[word] = coefs\n",
    "    print('Loaded %s word vectors.' % len(embeddings_index))\n",
    "    return embeddings_index\n",
    "\n",
    "\n",
    "embeddings_index = load_glove_vectors()"
   ]
  },
  {
   "cell_type": "markdown",
   "metadata": {
    "id": "0cteeDy6cMQL"
   },
   "source": [
    "## Load in the Embeddings"
   ]
  },
  {
   "cell_type": "code",
   "execution_count": null,
   "metadata": {
    "id": "RzLlDY4AcMQL"
   },
   "outputs": [],
   "source": [
    "# create a weight matrix for words in training docs\n",
    "embedding_matrix = zeros((VOCAB_SIZE, 100))\n",
    "for word, i in tokenizer.word_index.items():\n",
    "    embedding_vector = embeddings_index.get(word)\n",
    "    if embedding_vector is not None: # check that it is an actual word that we have embeddings for\n",
    "        embedding_matrix[i] = embedding_vector"
   ]
  },
  {
   "cell_type": "markdown",
   "metadata": {
    "id": "vitRF05bcMQL"
   },
   "source": [
    "## Define Model"
   ]
  },
  {
   "cell_type": "code",
   "execution_count": null,
   "metadata": {
    "id": "BJ0FwD1YcMQL"
   },
   "outputs": [],
   "source": [
    "from keras.layers.recurrent import SimpleRNN\n",
    "from keras.layers import Flatten, Masking\n",
    "# define model\n",
    "model = Sequential()\n",
    "model.add(Embedding(VOCAB_SIZE, 100, weights=[embedding_matrix], input_length=MAX_SEQUENCE_LENGTH, trainable=False))\n",
    "model.add(Masking(mask_value=0.0)) # masking layer, masks any words that don't have an embedding as 0s.\n",
    "model.add(SimpleRNN(units=64, input_shape=(1, MAX_SEQUENCE_LENGTH)))\n",
    "model.add(Dense(32))\n",
    "model.add(Dense(9, activation='softmax'))"
   ]
  },
  {
   "cell_type": "markdown",
   "metadata": {
    "id": "f0F0AMd-cMQL"
   },
   "source": [
    "## Compile the Model"
   ]
  },
  {
   "cell_type": "code",
   "execution_count": null,
   "metadata": {
    "colab": {
     "base_uri": "https://localhost:8080/",
     "height": 984
    },
    "id": "OIJR99sWcMQL",
    "outputId": "ef1b0b1b-af64-4c4a-8aef-c4f4f3f74a9d"
   },
   "outputs": [
    {
     "name": "stdout",
     "output_type": "stream",
     "text": [
      "Model: \"sequential_2\"\n",
      "_________________________________________________________________\n",
      " Layer (type)                Output Shape              Param #   \n",
      "=================================================================\n",
      " embedding_2 (Embedding)     (None, 300, 100)          878700    \n",
      "                                                                 \n",
      " masking_2 (Masking)         (None, 300, 100)          0         \n",
      "                                                                 \n",
      " simple_rnn (SimpleRNN)      (None, 64)                10560     \n",
      "                                                                 \n",
      " dense_4 (Dense)             (None, 32)                2080      \n",
      "                                                                 \n",
      " dense_5 (Dense)             (None, 9)                 297       \n",
      "                                                                 \n",
      "=================================================================\n",
      "Total params: 891,637\n",
      "Trainable params: 12,937\n",
      "Non-trainable params: 878,700\n",
      "_________________________________________________________________\n",
      "None\n"
     ]
    },
    {
     "data": {
      "image/png": "[encoded data removed]",
      "text/plain": [
       "<IPython.core.display.Image object>"
      ]
     },
     "execution_count": 65,
     "metadata": {},
     "output_type": "execute_result"
    }
   ],
   "source": [
    "from keras.utils.vis_utils import plot_model\n",
    "\n",
    "# Compile the model\n",
    "model.compile(\n",
    "    optimizer='adam', loss='categorical_crossentropy', metrics=['accuracy'])\n",
    "# summarize the model\n",
    "print(model.summary())\n",
    "plot_model(model, to_file='model.png', show_shapes=True)"
   ]
  },
  {
   "cell_type": "markdown",
   "metadata": {
    "id": "mIbZZOdGcMQL"
   },
   "source": [
    "## Fit the Model"
   ]
  },
  {
   "cell_type": "markdown",
   "metadata": {
    "id": "1vPfKSGRcMQL"
   },
   "source": [
    "Before we start training, let's take a look at the relative distribution of counts for cities. Baseline performance accuracy for this model should be the largest value **~28.4%**. You can get this accuracy by predicting the model."
   ]
  },
  {
   "cell_type": "code",
   "execution_count": null,
   "metadata": {
    "colab": {
     "base_uri": "https://localhost:8080/"
    },
    "id": "RXdDlNyTcMQL",
    "outputId": "11d91bba-b1ac-4e08-db8e-bae2407002c7"
   },
   "outputs": [
    {
     "data": {
      "text/plain": [
       "Las Vegas      0.284423\n",
       "Chicago        0.152295\n",
       "Los Angeles    0.116134\n",
       "New York       0.114743\n",
       "Atlanta        0.090403\n",
       "Houston        0.073018\n",
       "Portland       0.067455\n",
       "Dallas         0.052156\n",
       "Cleveland      0.049374\n",
       "Name: city, dtype: float64"
      ]
     },
     "execution_count": 66,
     "metadata": {},
     "output_type": "execute_result"
    }
   ],
   "source": [
    "reviews_df[\"city\"].value_counts(normalize=True)"
   ]
  },
  {
   "cell_type": "code",
   "execution_count": null,
   "metadata": {
    "colab": {
     "base_uri": "https://localhost:8080/"
    },
    "id": "eBbk8EAAcMQL",
    "outputId": "6f4af386-3c3c-4ac4-9157-365d8d605148"
   },
   "outputs": [
    {
     "name": "stdout",
     "output_type": "stream",
     "text": [
      "Epoch 1/20\n",
      "41/41 [==============================] - 6s 121ms/step - loss: 2.2642 - accuracy: 0.1963\n",
      "Epoch 2/20\n",
      "41/41 [==============================] - 5s 121ms/step - loss: 2.0109 - accuracy: 0.2674\n",
      "Epoch 3/20\n",
      "41/41 [==============================] - 5s 122ms/step - loss: 1.9195 - accuracy: 0.2875\n",
      "Epoch 4/20\n",
      "41/41 [==============================] - 5s 120ms/step - loss: 1.8452 - accuracy: 0.3246\n",
      "Epoch 5/20\n",
      "41/41 [==============================] - 5s 122ms/step - loss: 1.7659 - accuracy: 0.3539\n",
      "Epoch 6/20\n",
      "41/41 [==============================] - 5s 119ms/step - loss: 1.6831 - accuracy: 0.3903\n",
      "Epoch 7/20\n",
      "41/41 [==============================] - 5s 119ms/step - loss: 1.5951 - accuracy: 0.4359\n",
      "Epoch 8/20\n",
      "41/41 [==============================] - 5s 120ms/step - loss: 1.4863 - accuracy: 0.4900\n",
      "Epoch 9/20\n",
      "41/41 [==============================] - 5s 120ms/step - loss: 1.3876 - accuracy: 0.5232\n",
      "Epoch 10/20\n",
      "41/41 [==============================] - 5s 125ms/step - loss: 1.2700 - accuracy: 0.5680\n",
      "Epoch 11/20\n",
      "41/41 [==============================] - 5s 118ms/step - loss: 1.1481 - accuracy: 0.6244\n",
      "Epoch 12/20\n",
      "41/41 [==============================] - 5s 120ms/step - loss: 1.0204 - accuracy: 0.6723\n",
      "Epoch 13/20\n",
      "41/41 [==============================] - 5s 123ms/step - loss: 0.8870 - accuracy: 0.7403\n",
      "Epoch 14/20\n",
      "41/41 [==============================] - 5s 120ms/step - loss: 0.7543 - accuracy: 0.7913\n",
      "Epoch 15/20\n",
      "41/41 [==============================] - 5s 120ms/step - loss: 0.6382 - accuracy: 0.8207\n",
      "Epoch 16/20\n",
      "41/41 [==============================] - 5s 117ms/step - loss: 0.5191 - accuracy: 0.8717\n",
      "Epoch 17/20\n",
      "41/41 [==============================] - 5s 121ms/step - loss: 0.4189 - accuracy: 0.9150\n",
      "Epoch 18/20\n",
      "41/41 [==============================] - 5s 118ms/step - loss: 0.3310 - accuracy: 0.9513\n",
      "Epoch 19/20\n",
      "41/41 [==============================] - 5s 119ms/step - loss: 0.2536 - accuracy: 0.9730\n",
      "Epoch 20/20\n",
      "41/41 [==============================] - 5s 119ms/step - loss: 0.1951 - accuracy: 0.9853\n"
     ]
    },
    {
     "data": {
      "text/plain": [
       "<keras.callbacks.History at 0x7fa4fa0c9b90>"
      ]
     },
     "execution_count": 67,
     "metadata": {},
     "output_type": "execute_result"
    }
   ],
   "source": [
    "# fit the model\n",
    "model.fit(X_train, y_train, epochs=20, verbose=1)"
   ]
  },
  {
   "cell_type": "markdown",
   "metadata": {
    "id": "Eqk-skp8cMQL"
   },
   "source": [
    "## Evaluate the Model"
   ]
  },
  {
   "cell_type": "code",
   "execution_count": null,
   "metadata": {
    "colab": {
     "base_uri": "https://localhost:8080/"
    },
    "id": "GitolETccMQL",
    "outputId": "5375e98f-b634-47ed-cd35-6d206598ae8e"
   },
   "outputs": [
    {
     "name": "stdout",
     "output_type": "stream",
     "text": [
      "5/5 [==============================] - 0s 32ms/step - loss: 4.7639 - accuracy: 0.1319\n",
      "Accuracy: 13.194445\n"
     ]
    }
   ],
   "source": [
    "# evaluate the model\n",
    "loss, accuracy = model.evaluate(X_test, y_test, verbose=1)\n",
    "print('Accuracy: %f' % (accuracy*100))"
   ]
  },
  {
   "cell_type": "code",
   "execution_count": null,
   "metadata": {
    "id": "jorvLTvqcMQL"
   },
   "outputs": [],
   "source": [
    "test_docs = [\n",
    "    \"Employees look like they hate their job. Milkshake was like drinking milk. Food was cold and not warm at all\",\n",
    "    \"This Mcdonalds is not only in the business of making crappy food and providing even crappier service watch out for the racket they have in the parking lot . If your not careful reading the sign at the the front of the entrance it is going to cost you $195.00 in parking fees. went in to to ask the management they just blew me off. lucky they are in vegas where they dont count on repeat businesssss.\",\n",
    "    \"There are better stores without fruit flies in Griffin, GA.\",\n",
    "    \"Slowest drive-thru ever. Better option is to go to the location on arlington\"\n",
    "]\n",
    "\n",
    "test_docs = list(\n",
    "    map(lambda doc: \" \".join([token.text for token in nlp(doc) if not token.is_stop]), test_docs))\n",
    "\n",
    "encoded_test_sample = integer_encode_documents(test_docs, tokenizer)\n",
    "\n",
    "padded_test_docs = pad_sequences(encoded_test_sample, maxlen=MAX_SEQUENCE_LENGTH, padding='post')"
   ]
  },
  {
   "cell_type": "code",
   "execution_count": null,
   "metadata": {
    "colab": {
     "base_uri": "https://localhost:8080/"
    },
    "id": "So9sqQVmcMQL",
    "outputId": "c7eda6ff-4db1-4da0-fe14-eb3fa84b66f4"
   },
   "outputs": [
    {
     "data": {
      "text/plain": [
       "array([[2.2703067e-03, 6.7082205e-04, 5.7068778e-06, 1.3445101e-04,\n",
       "        4.3773153e-07, 9.9048471e-01, 5.7965880e-03, 4.0304578e-05,\n",
       "        5.9674139e-04],\n",
       "       [3.9989792e-04, 1.4180283e-02, 1.4121363e-02, 3.0596988e-05,\n",
       "        5.1769121e-03, 9.6216440e-01, 3.7607586e-03, 1.6101944e-04,\n",
       "        4.8359138e-06],\n",
       "       [2.1825222e-02, 6.1422950e-05, 5.4818485e-04, 6.0914591e-04,\n",
       "        9.7483712e-01, 4.6072113e-05, 6.1851701e-05, 2.0083145e-03,\n",
       "        2.6191969e-06],\n",
       "       [5.9635572e-02, 6.3446816e-03, 1.8499807e-02, 2.0615656e-03,\n",
       "        3.3403793e-04, 3.4780976e-01, 2.5621849e-01, 3.0769116e-01,\n",
       "        1.4049200e-03]], dtype=float32)"
      ]
     },
     "execution_count": 72,
     "metadata": {},
     "output_type": "execute_result"
    }
   ],
   "source": [
    "model.predict(padded_test_docs)"
   ]
  },
  {
   "cell_type": "code",
   "execution_count": null,
   "metadata": {
    "colab": {
     "base_uri": "https://localhost:8080/"
    },
    "id": "aPzE9TbPcMQL",
    "outputId": "82bad053-4df7-4d24-a473-8aa2a681db7c"
   },
   "outputs": [
    {
     "data": {
      "text/plain": [
       "array(['Las Vegas', 'Las Vegas', 'Houston', 'Las Vegas'], dtype=object)"
      ]
     },
     "execution_count": 74,
     "metadata": {},
     "output_type": "execute_result"
    }
   ],
   "source": [
    "prediction = np.argmax(model.predict(padded_test_docs), axis=1)\n",
    "encoder.inverse_transform(prediction)"
   ]
  },
  {
   "cell_type": "code",
   "execution_count": null,
   "metadata": {
    "id": "1X4JnW5enpb8"
   },
   "outputs": [],
   "source": []
  }
 ],
 "metadata": {
  "colab": {
   "collapsed_sections": [],
   "name": "Using RNNs and LSTMs.ipynb",
   "provenance": [],
   "toc_visible": true
  },
  "kernelspec": {
   "display_name": "Python 3",
   "language": "python",
   "name": "python3"
  },
  "language_info": {
   "codemirror_mode": {
    "name": "ipython",
    "version": 3
   },
   "file_extension": ".py",
   "mimetype": "text/x-python",
   "name": "python",
   "nbconvert_exporter": "python",
   "pygments_lexer": "ipython3",
   "version": "3.7.11"
  },
  "toc": {
   "base_numbering": 1,
   "nav_menu": {},
   "number_sections": true,
   "sideBar": true,
   "skip_h1_title": false,
   "title_cell": "Table of Contents",
   "title_sidebar": "Contents",
   "toc_cell": true,
   "toc_position": {
    "height": "calc(100% - 180px)",
    "left": "10px",
    "top": "150px",
    "width": "329px"
   },
   "toc_section_display": true,
   "toc_window_display": true
  },
  "varInspector": {
   "cols": {
    "lenName": 16,
    "lenType": 16,
    "lenVar": 40
   },
   "kernels_config": {
    "python": {
     "delete_cmd_postfix": "",
     "delete_cmd_prefix": "del ",
     "library": "var_list.py",
     "varRefreshCmd": "print(var_dic_list())"
    },
    "r": {
     "delete_cmd_postfix": ") ",
     "delete_cmd_prefix": "rm(",
     "library": "var_list.r",
     "varRefreshCmd": "cat(var_dic_list()) "
    }
   },
   "types_to_exclude": [
    "module",
    "function",
    "builtin_function_or_method",
    "instance",
    "_Feature"
   ],
   "window_display": false
  }
 },
 "nbformat": 4,
 "nbformat_minor": 1
}
