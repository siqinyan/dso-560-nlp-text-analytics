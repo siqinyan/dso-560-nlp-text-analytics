{
  "nbformat": 4,
  "nbformat_minor": 5,
  "metadata": {
    "kernelspec": {
      "display_name": "Python 3",
      "language": "python",
      "name": "python3"
    },
    "language_info": {
      "codemirror_mode": {
        "name": "ipython",
        "version": 3
      },
      "file_extension": ".py",
      "mimetype": "text/x-python",
      "name": "python",
      "nbconvert_exporter": "python",
      "pygments_lexer": "ipython3",
      "version": "3.8.5"
    },
    "toc": {
      "base_numbering": 1,
      "nav_menu": {},
      "number_sections": true,
      "sideBar": true,
      "skip_h1_title": false,
      "title_cell": "Table of Contents",
      "title_sidebar": "Contents",
      "toc_cell": false,
      "toc_position": {},
      "toc_section_display": true,
      "toc_window_display": false
    },
    "colab": {
      "name": "Toy RNN Torch Example.ipynb",
      "provenance": [],
      "collapsed_sections": []
    }
  },
  "cells": [
    {
      "cell_type": "markdown",
      "metadata": {
        "id": "exempt-flashing"
      },
      "source": [
        "## Using Torch TextRNN to Make Inference On Next Word in Document\n",
        "\n",
        "The below code sample is taken and adapted from [Tae Hwan Jung's code repository](https://github.com/graykode/nlp-tutorial/blob/master/3-1.TextRNN/TextRNN.py). This RNN sequential model is trained to predict the last token of each document."
      ],
      "id": "exempt-flashing"
    },
    {
      "cell_type": "markdown",
      "metadata": {
        "id": "convertible-mustang"
      },
      "source": [
        "#### Function to Make Batches of Data"
      ],
      "id": "convertible-mustang"
    },
    {
      "cell_type": "code",
      "metadata": {
        "id": "defensive-archive"
      },
      "source": [
        "from typing import List, Dict\n",
        "\n",
        "def make_batch(sentences: List[str], word_dict: Dict):\n",
        "    input_batch = []\n",
        "    target_batch = []\n",
        "\n",
        "    for sen in sentences:\n",
        "        word = sen.split()  # space tokenizer\n",
        "        input_text = [word_dict[n] for n in word[:-1]]  # create (1~n-1) as input\n",
        "        target = word_dict[word[-1]]  # create (n) as target, We usually call this 'casual language model'\n",
        "        input_batch.append(np.eye(n_class)[input_text])\n",
        "        target_batch.append(target)\n",
        "\n",
        "    return input_batch, target_batch"
      ],
      "id": "defensive-archive",
      "execution_count": null,
      "outputs": []
    },
    {
      "cell_type": "code",
      "metadata": {
        "id": "appreciated-vehicle"
      },
      "source": [
        "# %%\n",
        "# code by Tae Hwan Jung @graykode\n",
        "import numpy as np\n",
        "import torch\n",
        "import torch.nn as nn\n",
        "import torch.optim as optim\n",
        "\n",
        "\n",
        "class TextRNN(nn.Module):\n",
        "    def __init__(self):\n",
        "        super(TextRNN, self).__init__()\n",
        "        \"\"\"\n",
        "        By default, the non-linear function used is tanh.\n",
        "        \"\"\"\n",
        "        self.rnn = nn.RNN(input_size=n_class, hidden_size=n_hidden)\n",
        "        self.W = nn.Linear(n_hidden, n_class, bias=False)\n",
        "        self.b = nn.Parameter(torch.ones([n_class]))\n",
        "\n",
        "    def forward(self, hidden, X):\n",
        "        \"\"\"\n",
        "        This is the forward propagation step of the neural network.\n",
        "        \"\"\"\n",
        "        X = X.transpose(0, 1) # X : [n_step, batch_size, n_class]\n",
        "        outputs, hidden = self.rnn(X, hidden)\n",
        "        # outputs : [n_step, batch_size, num_directions(=1) * n_hidden]\n",
        "        # hidden : [num_layers(=1) * num_directions(=1), batch_size, n_hidden]\n",
        "        outputs = outputs[-1] # [batch_size, num_directions(=1) * n_hidden]\n",
        "        model = self.W(outputs) + self.b # model : [batch_size, n_class]\n",
        "        return model"
      ],
      "id": "appreciated-vehicle",
      "execution_count": null,
      "outputs": []
    },
    {
      "cell_type": "markdown",
      "metadata": {
        "id": "executed-nightmare"
      },
      "source": [
        "### Define Model Hyper Parameters"
      ],
      "id": "executed-nightmare"
    },
    {
      "cell_type": "code",
      "metadata": {
        "id": "dirty-initial"
      },
      "source": [
        "n_step = 2 # number of cells(= number of Step)\n",
        "n_hidden = 5 # number of hidden units in one cell\n",
        "n_epochs = 5000 # number of epochs to train for"
      ],
      "id": "dirty-initial",
      "execution_count": null,
      "outputs": []
    },
    {
      "cell_type": "markdown",
      "metadata": {
        "id": "manual-monitoring"
      },
      "source": [
        "### Create Some Synthetic Data"
      ],
      "id": "manual-monitoring"
    },
    {
      "cell_type": "code",
      "metadata": {
        "id": "blind-stomach"
      },
      "source": [
        "sentences = [\"i like dog\", \n",
        "             \"i love coffee\", \n",
        "             \"i hate milk\",\n",
        "            \"i love cat\",\n",
        "            \"i love dog\",\n",
        "            \"i love summer\"]"
      ],
      "id": "blind-stomach",
      "execution_count": null,
      "outputs": []
    },
    {
      "cell_type": "markdown",
      "metadata": {
        "id": "collaborative-smoke"
      },
      "source": [
        "### Text Preprocessing and Feature Engineering\n",
        "\n",
        "Here, we'll use `word_dict` to keep a mapping from the word to its index position in our vocabulary."
      ],
      "id": "collaborative-smoke"
    },
    {
      "cell_type": "code",
      "metadata": {
        "id": "residential-accordance"
      },
      "source": [
        "word_list = \" \".join(sentences).split()\n",
        "word_list = list(set(word_list))\n",
        "word_dict = {w: i for i, w in enumerate(word_list)}\n",
        "number_dict = {i: w for i, w in enumerate(word_list)}\n",
        "n_class = len(word_dict) #9\n",
        "batch_size = len(sentences) #6"
      ],
      "id": "residential-accordance",
      "execution_count": null,
      "outputs": []
    },
    {
      "cell_type": "markdown",
      "metadata": {
        "id": "consolidated-french"
      },
      "source": [
        "### Declare Torch RNN Model\n",
        "\n",
        "We will use cross entropy loss to optimize our model and update weights."
      ],
      "id": "consolidated-french"
    },
    {
      "cell_type": "code",
      "metadata": {
        "id": "light-andorra"
      },
      "source": [
        "model = TextRNN()\n",
        "\n",
        "criterion = nn.CrossEntropyLoss()\n",
        "optimizer = optim.Adam(model.parameters(), lr=0.001)\n",
        "\n",
        "input_batch, target_batch = make_batch(sentences, word_dict)\n",
        "input_batch = torch.FloatTensor(input_batch)\n",
        "target_batch = torch.LongTensor(target_batch)"
      ],
      "id": "light-andorra",
      "execution_count": null,
      "outputs": []
    },
    {
      "cell_type": "markdown",
      "metadata": {
        "id": "headed-automation"
      },
      "source": [
        "### Perform Training"
      ],
      "id": "headed-automation"
    },
    {
      "cell_type": "code",
      "metadata": {
        "id": "fifty-stamp",
        "outputId": "897b4b11-1f76-4560-da90-b681a3a54fa8"
      },
      "source": [
        "# Training\n",
        "for epoch in range(n_epochs):\n",
        "    optimizer.zero_grad()\n",
        "\n",
        "    # hidden : [num_layers * num_directions, batch, hidden_size]\n",
        "    hidden = torch.zeros(1, batch_size, n_hidden)\n",
        "    # input_batch : [batch_size, n_step, n_class]\n",
        "    output = model(hidden, input_batch)\n",
        "\n",
        "    # output : [batch_size, n_class], target_batch : [batch_size] (LongTensor, not one-hot)\n",
        "    loss = criterion(output, target_batch)\n",
        "    if (epoch + 1) % 1000 == 0:\n",
        "        print('Epoch:', '%04d' % (epoch + 1), 'cost =', '{:.6f}'.format(loss))\n",
        "\n",
        "    loss.backward()\n",
        "    optimizer.step()"
      ],
      "id": "fifty-stamp",
      "execution_count": null,
      "outputs": [
        {
          "name": "stdout",
          "output_type": "stream",
          "text": [
            "Epoch: 1000 cost = 1.080427\n",
            "Epoch: 2000 cost = 0.947754\n",
            "Epoch: 3000 cost = 0.932738\n",
            "Epoch: 4000 cost = 0.928236\n",
            "Epoch: 5000 cost = 0.926339\n"
          ]
        }
      ]
    },
    {
      "cell_type": "markdown",
      "metadata": {
        "id": "assigned-cache"
      },
      "source": [
        "### Make Inferences"
      ],
      "id": "assigned-cache"
    },
    {
      "cell_type": "code",
      "metadata": {
        "id": "public-congo",
        "outputId": "a3114e87-8c0e-4b25-dd33-9e83f1db84af"
      },
      "source": [
        "inputs = [sen.split()[:2] for sen in sentences]\n",
        "inputs"
      ],
      "id": "public-congo",
      "execution_count": null,
      "outputs": [
        {
          "data": {
            "text/plain": [
              "[['i', 'like'],\n",
              " ['i', 'love'],\n",
              " ['i', 'hate'],\n",
              " ['i', 'love'],\n",
              " ['i', 'love'],\n",
              " ['i', 'love']]"
            ]
          },
          "execution_count": 52,
          "metadata": {},
          "output_type": "execute_result"
        }
      ]
    },
    {
      "cell_type": "code",
      "metadata": {
        "id": "dietary-mileage",
        "outputId": "549af9db-dac4-4f91-ffc0-c621562a830c"
      },
      "source": [
        "# Predict\n",
        "hidden = torch.zeros(1, batch_size, n_hidden)\n",
        "predict = model(hidden, input_batch).data.max(1, keepdim=True)[1]\n",
        "for sentence, predicted_index in zip(sentences,predict.squeeze()):\n",
        "    input_text = sentence.split()[:2]\n",
        "    predicted_next_token = number_dict[predicted_index.item()]\n",
        "    print(f\"{input_text} -> {predicted_next_token}\")"
      ],
      "id": "dietary-mileage",
      "execution_count": null,
      "outputs": [
        {
          "name": "stdout",
          "output_type": "stream",
          "text": [
            "['i', 'like'] -> dog\n",
            "['i', 'love'] -> dog\n",
            "['i', 'hate'] -> milk\n",
            "['i', 'love'] -> dog\n",
            "['i', 'love'] -> dog\n",
            "['i', 'love'] -> dog\n"
          ]
        }
      ]
    },
    {
      "cell_type": "markdown",
      "metadata": {
        "id": "found-recovery"
      },
      "source": [
        "The `predict` object here is a tensor of the index positions for the predicted next token. We can use the `number_dict` to look up what the original token was:"
      ],
      "id": "found-recovery"
    },
    {
      "cell_type": "code",
      "metadata": {
        "id": "illegal-lunch",
        "outputId": "62d6009d-ad2c-4075-a925-6c2b509c94c7"
      },
      "source": [
        "predict"
      ],
      "id": "illegal-lunch",
      "execution_count": null,
      "outputs": [
        {
          "data": {
            "text/plain": [
              "tensor([[2],\n",
              "        [2],\n",
              "        [8],\n",
              "        [2],\n",
              "        [2],\n",
              "        [2]])"
            ]
          },
          "execution_count": 54,
          "metadata": {},
          "output_type": "execute_result"
        }
      ]
    },
    {
      "cell_type": "code",
      "metadata": {
        "id": "geographic-thread",
        "outputId": "eee613c0-8153-40d6-d547-9686afbf9644"
      },
      "source": [
        "number_dict"
      ],
      "id": "geographic-thread",
      "execution_count": null,
      "outputs": [
        {
          "data": {
            "text/plain": [
              "{0: 'coffee',\n",
              " 1: 'cat',\n",
              " 2: 'dog',\n",
              " 3: 'summer',\n",
              " 4: 'love',\n",
              " 5: 'like',\n",
              " 6: 'hate',\n",
              " 7: 'i',\n",
              " 8: 'milk'}"
            ]
          },
          "execution_count": 55,
          "metadata": {},
          "output_type": "execute_result"
        }
      ]
    },
    {
      "cell_type": "markdown",
      "metadata": {
        "id": "nervous-sister"
      },
      "source": [
        "### Inspecting the Model's Weight Shape"
      ],
      "id": "nervous-sister"
    },
    {
      "cell_type": "code",
      "metadata": {
        "id": "dutch-detail",
        "outputId": "14447a49-c19b-43fa-b4ab-7ad6de242240"
      },
      "source": [
        "print(model)"
      ],
      "id": "dutch-detail",
      "execution_count": null,
      "outputs": [
        {
          "name": "stdout",
          "output_type": "stream",
          "text": [
            "TextRNN(\n",
            "  (rnn): RNN(9, 5)\n",
            "  (W): Linear(in_features=5, out_features=9, bias=False)\n",
            ")\n"
          ]
        }
      ]
    }
  ]
}