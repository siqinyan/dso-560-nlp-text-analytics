{
  "cells": [
    {
      "cell_type": "code",
      "execution_count": null,
      "metadata": {
        "colab": {
          "base_uri": "https://localhost:8080/"
        },
        "id": "gyO8h7loyUfr",
        "outputId": "71700b12-79b4-4f73-e66b-675d1e4d557e"
      },
      "outputs": [
        {
          "output_type": "stream",
          "name": "stdout",
          "text": [
            "Cloning into 'dso-560-nlp-text-analytics'...\n",
            "remote: Enumerating objects: 3177, done.\u001b[K\n",
            "remote: Total 3177 (delta 0), reused 0 (delta 0), pack-reused 3177\u001b[K\n",
            "Receiving objects: 100% (3177/3177), 94.48 MiB | 18.46 MiB/s, done.\n",
            "Resolving deltas: 100% (394/394), done.\n",
            "Checking out files: 100% (3185/3185), done.\n"
          ]
        }
      ],
      "source": [
        "!rm -rf dso-560-nlp-text-analytics && git clone https://github.com/ychennay/dso-560-nlp-text-analytics"
      ]
    },
    {
      "cell_type": "code",
      "execution_count": null,
      "metadata": {
        "colab": {
          "base_uri": "https://localhost:8080/"
        },
        "id": "A4G2F7OhyWLO",
        "outputId": "100e6624-f300-42d4-f740-a25d049d4066"
      },
      "outputs": [
        {
          "output_type": "stream",
          "name": "stdout",
          "text": [
            "/content/dso-560-nlp-text-analytics\n"
          ]
        }
      ],
      "source": [
        "%cd dso-560-nlp-text-analytics"
      ]
    },
    {
      "cell_type": "markdown",
      "metadata": {
        "id": "9e_ZBMG2x3Jh"
      },
      "source": [
        "# Attention and Transformers\n",
        "\n",
        "The original *Attention Is All You Need* paper is [available here](https://arxiv.org/pdf/1706.03762.pdf).\n",
        "\n",
        "The overall architecture of the **Transformer** model is defined here from the paper:\n",
        "![transformers](https://github.com/ychennay/dso-560-nlp-text-analytics/blob/main/images/transformers.png?raw=1)"
      ]
    },
    {
      "cell_type": "markdown",
      "metadata": {
        "id": "faWggRwOx3Jj"
      },
      "source": [
        "## Define Configurations"
      ]
    },
    {
      "cell_type": "code",
      "execution_count": null,
      "metadata": {
        "id": "2udDJPDCx3Jk"
      },
      "outputs": [],
      "source": [
        "VOCAB_SIZE = 20000"
      ]
    },
    {
      "cell_type": "code",
      "execution_count": null,
      "metadata": {
        "id": "Qj31r5sCx3Jk"
      },
      "outputs": [],
      "source": [
        "from keras.layers import Input, Dense, LSTM, Flatten, concatenate, Activation, RepeatVector, Permute\n",
        "from keras.models import Model\n",
        "from keras.preprocessing.sequence import pad_sequences\n",
        "from tensorflow.keras.optimizers import Adam\n",
        "from random import randint\n",
        "from numpy import array, argmax, asarray, zeros\n",
        "from keras.models import Sequential\n",
        "from keras.layers import Dense\n",
        "from keras.layers import Embedding\n",
        "import numpy as np \n",
        "import spacy\n",
        "nlp = spacy.load('en_core_web_sm', disable=[\"pos\", \"ner\", \"tagger\"])"
      ]
    },
    {
      "cell_type": "markdown",
      "metadata": {
        "id": "2bstXqPxx3Jl"
      },
      "source": [
        "## Load in Amazon Reviews Dataset"
      ]
    },
    {
      "cell_type": "code",
      "execution_count": null,
      "metadata": {
        "id": "DepsWseLx3Jl"
      },
      "outputs": [],
      "source": [
        "import numpy as np\n",
        "NUM_SAMPLES = 2000\n",
        "\n",
        "good_reviews = open(\"datasets/good_amazon_toy_reviews.txt\").readlines()\n",
        "bad_reviews = open(\"datasets/poor_amazon_toy_reviews.txt\").readlines()\n",
        "\n",
        "sampled_good_reviews = good_reviews[:NUM_SAMPLES]\n",
        "sampled_bad_reviews = bad_reviews[:NUM_SAMPLES]\n",
        "\n",
        "docs = sampled_good_reviews + sampled_bad_reviews\n",
        "labels = np.concatenate([np.ones(NUM_SAMPLES), np.zeros(NUM_SAMPLES)])"
      ]
    },
    {
      "cell_type": "markdown",
      "metadata": {
        "id": "yjhjLvJwx3Jm"
      },
      "source": [
        "## Remove Stopwords"
      ]
    },
    {
      "cell_type": "code",
      "execution_count": null,
      "metadata": {
        "id": "yJyU3bQLx3Jm"
      },
      "outputs": [],
      "source": [
        "stopwords_removed_docs = list(\n",
        "    map(lambda doc: \" \".join([token.text for token in nlp(doc) if not token.is_stop]), docs))"
      ]
    },
    {
      "cell_type": "markdown",
      "metadata": {
        "id": "qi0vZNeyx3Jn"
      },
      "source": [
        "## Tokenize Text"
      ]
    },
    {
      "cell_type": "code",
      "execution_count": null,
      "metadata": {
        "id": "63ce6E3sx3Jn"
      },
      "outputs": [],
      "source": [
        "from keras.preprocessing.text import Tokenizer\n",
        "tokenizer = Tokenizer(num_words=10_000, oov_token=\"UNKNOWN_TOKEN\")\n",
        "tokenizer.fit_on_texts(stopwords_removed_docs)"
      ]
    },
    {
      "cell_type": "markdown",
      "metadata": {
        "id": "A3bWcZ-Tx3Jn"
      },
      "source": [
        "## Integer Encode Documents"
      ]
    },
    {
      "cell_type": "code",
      "execution_count": null,
      "metadata": {
        "colab": {
          "base_uri": "https://localhost:8080/"
        },
        "id": "r31RJmcnx3Jo",
        "outputId": "f675c8c2-e11b-48fa-b877-56299d0d229a"
      },
      "outputs": [
        {
          "output_type": "stream",
          "name": "stdout",
          "text": [
            "Max length of sequences is 817\n"
          ]
        }
      ],
      "source": [
        "from typing import List\n",
        "def get_max_token_length_per_doc(docs: List[List[str]])-> int:\n",
        "    return max(list(map(lambda x: len(x.split()), docs)))\n",
        "\n",
        "# get the max length in terms of token length\n",
        "max_length = get_max_token_length_per_doc(docs)\n",
        "print(f\"Max length of sequences is {max_length}\")\n",
        "\n",
        "def integer_encode_documents(docs, tokenizer):\n",
        "    return tokenizer.texts_to_sequences(docs)\n",
        "\n",
        "from keras.preprocessing.sequence import pad_sequences\n",
        "MAX_SEQUENCE_LENGTH = 100\n",
        "# integer encode the documents\n",
        "encoded_docs = integer_encode_documents(stopwords_removed_docs, tokenizer)\n",
        "# this is a list of lists, the numbers represent the index position of that word.\n",
        "# for instance, 33 means the 33rd word in the vocabulary\n",
        "padded_docs = pad_sequences(encoded_docs, maxlen=MAX_SEQUENCE_LENGTH, padding='post')"
      ]
    },
    {
      "cell_type": "markdown",
      "metadata": {
        "id": "ZxjBHlgex3Jo"
      },
      "source": [
        "## Load in GloVe Vectors\n",
        "Download the actual Glove vectors from S3 and unzip them."
      ]
    },
    {
      "cell_type": "code",
      "execution_count": null,
      "metadata": {
        "colab": {
          "base_uri": "https://localhost:8080/"
        },
        "id": "-irankP002no",
        "outputId": "4db2ee0a-6062-4ea9-8bc5-84e84b301bcd"
      },
      "outputs": [
        {
          "output_type": "stream",
          "name": "stdout",
          "text": [
            "--2022-04-27 00:44:53--  https://dso-560-nlp-text-analytics.s3.amazonaws.com/glove6b100dtxt.zip\n",
            "Resolving dso-560-nlp-text-analytics.s3.amazonaws.com (dso-560-nlp-text-analytics.s3.amazonaws.com)... 54.231.113.251\n",
            "Connecting to dso-560-nlp-text-analytics.s3.amazonaws.com (dso-560-nlp-text-analytics.s3.amazonaws.com)|54.231.113.251|:443... connected.\n",
            "HTTP request sent, awaiting response... 200 OK\n",
            "Length: 137847651 (131M) [application/zip]\n",
            "Saving to: ‘glove6b100dtxt.zip’\n",
            "\n",
            "glove6b100dtxt.zip  100%[===================>] 131.46M  33.7MB/s    in 4.5s    \n",
            "\n",
            "2022-04-27 00:44:58 (29.5 MB/s) - ‘glove6b100dtxt.zip’ saved [137847651/137847651]\n",
            "\n",
            "Archive:  glove6b100dtxt.zip\n",
            "  inflating: glove.6B.100d.txt       \n"
          ]
        }
      ],
      "source": [
        "!wget https://dso-560-nlp-text-analytics.s3.amazonaws.com/glove6b100dtxt.zip\n",
        "!unzip glove6b100dtxt.zip "
      ]
    },
    {
      "cell_type": "code",
      "execution_count": null,
      "metadata": {
        "colab": {
          "base_uri": "https://localhost:8080/"
        },
        "id": "dehu7nVDx3Jo",
        "outputId": "e34423fa-2fb5-4d57-e03f-3b4e080a8e83"
      },
      "outputs": [
        {
          "output_type": "stream",
          "name": "stdout",
          "text": [
            "Loaded 400000 word vectors.\n"
          ]
        }
      ],
      "source": [
        "import numpy as np\n",
        "def load_glove_vectors():\n",
        "    embeddings_index = {}\n",
        "    with open('glove.6B.100d.txt') as f:\n",
        "        for line in f:\n",
        "            values = line.split()\n",
        "            word = values[0]\n",
        "            coefs = np.asarray(values[1:], dtype='float32')\n",
        "            embeddings_index[word] = coefs\n",
        "    print('Loaded %s word vectors.' % len(embeddings_index))\n",
        "    return embeddings_index\n",
        "\n",
        "\n",
        "embeddings_index = load_glove_vectors()"
      ]
    },
    {
      "cell_type": "markdown",
      "metadata": {
        "id": "r4rgGSm7x3Jp"
      },
      "source": [
        "## Load in Embeddings Matrix"
      ]
    },
    {
      "cell_type": "code",
      "execution_count": null,
      "metadata": {
        "id": "X_Cig_7fx3Jp"
      },
      "outputs": [],
      "source": [
        "# create a weight matrix for words in training docs\n",
        "VOCAB_SIZE = 20_000\n",
        "embedding_matrix = np.zeros((VOCAB_SIZE, 100))\n",
        "for word, i in tokenizer.word_index.items():\n",
        "    embedding_vector = embeddings_index.get(word)\n",
        "    if embedding_vector is not None: # check that it is an actual word that we have embeddings for\n",
        "        embedding_matrix[i] = embedding_vector"
      ]
    },
    {
      "cell_type": "markdown",
      "metadata": {
        "id": "XWW0c0fJx3Jp"
      },
      "source": [
        "## Define an LSTM Model"
      ]
    },
    {
      "cell_type": "code",
      "execution_count": null,
      "metadata": {
        "id": "jqbw-eyVx3Jp"
      },
      "outputs": [],
      "source": [
        "from keras.layers.recurrent import SimpleRNN, LSTM\n",
        "from keras.layers import Flatten, Masking\n",
        "from keras.layers import Embedding\n",
        "import keras\n",
        "def make_lstm_classification_model(plot=False, sequence_length = 100, vocab_size = 20000):\n",
        "    model = keras.models.Sequential()\n",
        "    model.add(Embedding(vocab_size, 100, weights=[embedding_matrix], input_length=sequence_length, trainable=False))\n",
        "    model.add(Masking(mask_value=0.0)) # masking layer, masks any words that don't have an embedding as 0s.\n",
        "    model.add(LSTM(units=64, input_shape=(1, sequence_length)))\n",
        "    model.add(Dense(16))\n",
        "    model.add(Dense(1, activation='sigmoid'))\n",
        "    \n",
        "    # Compile the model\n",
        "    model.compile(\n",
        "    optimizer='adam', loss='binary_crossentropy', metrics=['accuracy'])\n",
        "    # summarize the model\n",
        "    model.summary()\n",
        "    \n",
        "    if plot:\n",
        "        plot_model(model, to_file='model.png', show_shapes=True)\n",
        "    return model"
      ]
    },
    {
      "cell_type": "markdown",
      "metadata": {
        "id": "HDuCukKxx3Jq"
      },
      "source": [
        "## Inside One LSTM Cell\n",
        "![LSTM](https://github.com/ychennay/dso-560-nlp-text-analytics/blob/main/images/lstm_architecture.jpg?raw=1)"
      ]
    },
    {
      "cell_type": "code",
      "execution_count": null,
      "metadata": {
        "colab": {
          "base_uri": "https://localhost:8080/"
        },
        "id": "gYP2QwWBx3Jq",
        "outputId": "f178346b-a340-4ccc-9221-32fe67601ab8"
      },
      "outputs": [
        {
          "output_type": "stream",
          "name": "stdout",
          "text": [
            "Model: \"sequential\"\n",
            "_________________________________________________________________\n",
            " Layer (type)                Output Shape              Param #   \n",
            "=================================================================\n",
            " embedding (Embedding)       (None, 100, 100)          2000000   \n",
            "                                                                 \n",
            " masking (Masking)           (None, 100, 100)          0         \n",
            "                                                                 \n",
            " lstm (LSTM)                 (None, 64)                42240     \n",
            "                                                                 \n",
            " dense (Dense)               (None, 16)                1040      \n",
            "                                                                 \n",
            " dense_1 (Dense)             (None, 1)                 17        \n",
            "                                                                 \n",
            "=================================================================\n",
            "Total params: 2,043,297\n",
            "Trainable params: 43,297\n",
            "Non-trainable params: 2,000,000\n",
            "_________________________________________________________________\n"
          ]
        }
      ],
      "source": [
        "lstm_model = make_lstm_classification_model()"
      ]
    },
    {
      "cell_type": "markdown",
      "metadata": {
        "id": "_jPabseIx3Jq"
      },
      "source": [
        "## Split Into Train/Test"
      ]
    },
    {
      "cell_type": "code",
      "execution_count": null,
      "metadata": {
        "id": "UiydCHB5x3Jq"
      },
      "outputs": [],
      "source": [
        "from sklearn.model_selection import train_test_split\n",
        "X_train, X_test, y_train, y_test = train_test_split(padded_docs, labels, test_size=0.2)"
      ]
    },
    {
      "cell_type": "markdown",
      "metadata": {
        "id": "--RAzQBM2UzZ"
      },
      "source": [
        "#### Train LSTM Model"
      ]
    },
    {
      "cell_type": "code",
      "execution_count": null,
      "metadata": {
        "colab": {
          "base_uri": "https://localhost:8080/"
        },
        "id": "vL8uWHVsx3Jq",
        "outputId": "4ed5ac1b-f3c1-470d-ec42-77575ebb7eb3"
      },
      "outputs": [
        {
          "output_type": "stream",
          "name": "stdout",
          "text": [
            "Epoch 1/3\n",
            "113/113 [==============================] - 59s 459ms/step - loss: 0.4192 - accuracy: 0.8183 - val_loss: 0.3170 - val_accuracy: 0.8975\n",
            "Epoch 2/3\n",
            "113/113 [==============================] - 49s 438ms/step - loss: 0.2905 - accuracy: 0.8836 - val_loss: 0.3597 - val_accuracy: 0.8700\n",
            "Epoch 3/3\n",
            " 44/113 [==========>...................] - ETA: 29s - loss: 0.2562 - accuracy: 0.8949"
          ]
        }
      ],
      "source": [
        "# fit the model\n",
        "history = lstm_model.fit(padded_docs, labels, validation_split = 0.1, epochs=3, verbose=1)"
      ]
    },
    {
      "cell_type": "code",
      "execution_count": null,
      "metadata": {
        "id": "0lPqA0UPx3Jq"
      },
      "outputs": [],
      "source": [
        "import matplotlib.pyplot as plt # From https://keras.io/visualization/\n",
        "\n",
        "\n",
        "def plot_performance(history):\n",
        "    # Plot training & validation accuracy values\n",
        "    plt.plot(history.history['accuracy'])\n",
        "    plt.plot(history.history['val_accuracy'])\n",
        "    plt.title('Model accuracy')\n",
        "    plt.ylabel('Accuracy')\n",
        "    plt.xlabel('Epoch')\n",
        "    plt.legend(['Train', 'Test'], loc='upper left')\n",
        "    plt.show()\n",
        "\n",
        "plot_performance(history)"
      ]
    },
    {
      "cell_type": "markdown",
      "metadata": {
        "id": "ij6xhycwx3Jq"
      },
      "source": [
        "# Ways to Improve Performance"
      ]
    },
    {
      "cell_type": "markdown",
      "metadata": {
        "id": "izv5rpBvx3Jq"
      },
      "source": [
        "* **feature engineer** the text by grouping collocated tokens, removing stopwords, etc.\n",
        "\n",
        "* **use K-Folds cross-validation** to \"use\" more of the dataset in the training/validation/testing process.\n",
        "\n",
        "* **train your own custom domain-specific embeddings** (instead of using generic pre-trained ones)\n",
        "\n",
        "* **tune hyperparameters** - neural network architecture, activation functions, etc. \n",
        "\n",
        "* **enrich the data** using augmented datasets as features"
      ]
    },
    {
      "cell_type": "markdown",
      "metadata": {
        "id": "hdgrwORCx3Jq"
      },
      "source": [
        "## Self Attention Model\n",
        "\n",
        "Let's define a function to generate our self attention model. We'll install another library that augments Keras and creates self attention layers for us to use called `keras_self_attention` ([Github](https://pypi.org/project/keras-self-attention/))."
      ]
    },
    {
      "cell_type": "code",
      "execution_count": null,
      "metadata": {
        "colab": {
          "base_uri": "https://localhost:8080/"
        },
        "id": "oVpr-4jKz7b9",
        "outputId": "9ecc1705-707e-4d9a-f100-f3d6e67298d6"
      },
      "outputs": [
        {
          "output_type": "stream",
          "name": "stdout",
          "text": [
            "Collecting keras_self_attention\n",
            "  Downloading keras-self-attention-0.51.0.tar.gz (11 kB)\n",
            "Requirement already satisfied: numpy in /usr/local/lib/python3.7/dist-packages (from keras_self_attention) (1.21.6)\n",
            "Building wheels for collected packages: keras-self-attention\n",
            "  Building wheel for keras-self-attention (setup.py) ... \u001b[?25l\u001b[?25hdone\n",
            "  Created wheel for keras-self-attention: filename=keras_self_attention-0.51.0-py3-none-any.whl size=18912 sha256=537140e782bc0f82ee0640d37b4bf6f91465b3769ae05e712c3449cae8015320\n",
            "  Stored in directory: /root/.cache/pip/wheels/95/b1/a8/5ee00cc137940b2f6fa198212e8f45d813d0e0d9c3a04035a3\n",
            "Successfully built keras-self-attention\n",
            "Installing collected packages: keras-self-attention\n",
            "Successfully installed keras-self-attention-0.51.0\n"
          ]
        }
      ],
      "source": [
        "!pip install keras_self_attention"
      ]
    },
    {
      "cell_type": "code",
      "execution_count": null,
      "metadata": {
        "id": "pu7CCjbdx3Jq"
      },
      "outputs": [],
      "source": [
        "from keras_self_attention import SeqSelfAttention\n",
        "def make_self_attention_model(vocab_size=20_000, sequence_length = 100):\n",
        "    model = keras.models.Sequential()\n",
        "    model.add(Embedding(vocab_size, 100, weights=[embedding_matrix], input_length=sequence_length, trainable=False))\n",
        "    model.add(keras.layers.Bidirectional(keras.layers.LSTM(units=300,\n",
        "                                                           return_sequences=True)))\n",
        "    model.add(SeqSelfAttention(attention_activation='sigmoid'))\n",
        "    model.add(keras.layers.Dense(units=1))\n",
        "    model.compile(\n",
        "        optimizer='adam',\n",
        "        loss='binary_crossentropy',\n",
        "        metrics=['accuracy'],\n",
        "    )\n",
        "    model.summary()\n",
        "    return model"
      ]
    },
    {
      "cell_type": "markdown",
      "metadata": {
        "id": "-8mVdHLpx3Jq"
      },
      "source": [
        "### Notes:\n",
        "\n",
        "Each LSTM has a hidden state and memory. You can ask `keras` to return the vectors that represent these sequences by using:\n",
        "\n",
        "#### Difference Between `return_sequences` and `return_states`\n",
        "\n",
        "```python\n",
        "LSTM(HIDDEN_STATE_DIMENSIONS, return_sequences=True)\n",
        "```\n",
        "\n",
        "If you had a `SEQUENCE_LENGTH` of **20**, and a `HIDDEN_STATE_DIMENSIONS` of **64**, then you'll produce a matrix of shape `64 x 20` as your `return_sequence`.\n",
        "\n",
        "On the other hand, `return_states` will return both the memory cells (`c`) as well as the hidden state `h`:\n",
        "\n",
        "```\n",
        "lstm, state_h, state_c = LSTM(..., return_state=True)\n",
        "```\n",
        "\n",
        "Here, `lstm` will be your LSTM model, `state_h` is your hidden state, and `state_c` is your cell memory state. \n",
        "\n",
        "Example from [Keras Returning Hidden State in RNNs](http://digital-thinking.de/keras-returning-hidden-state-in-rnns/):\n",
        "```\n",
        "inputs1 = Input(shape=(5, 1))\n",
        "lstm1, state_h, state_c = LSTM(1, return_state=True, return_sequences=True)(inputs1)\n",
        "model = Model(inputs=inputs1, outputs=[lstm1, state_h, state_c])\n",
        "data = array([0.1, 0.2, 0.3, 0.4, 0.5]).reshape((1,5,1))\n",
        "print(model.predict(data))\n",
        "```\n",
        "The output of this is\n",
        "```\n",
        "[array([[[0.00734747],\n",
        "        [0.02000349],\n",
        "        [0.03651035],\n",
        "        [0.05576567],\n",
        "        [0.07689518]]], dtype=float32), array([[0.07689518]], dtype=float32), array([[0.15496857]], dtype=float32)]\n",
        "```"
      ]
    },
    {
      "cell_type": "markdown",
      "metadata": {
        "id": "qJvRF_gkx3Jr"
      },
      "source": [
        "## Model High-Level Architecture\n",
        "![architecture](https://github.com/ychennay/dso-560-nlp-text-analytics/blob/main/images/lstm_arch.png?raw=1)"
      ]
    },
    {
      "cell_type": "code",
      "execution_count": null,
      "metadata": {
        "id": "HynIzPQHx3Jr",
        "outputId": "855db4b6-9274-4e73-da83-3df3b42104e1",
        "scrolled": true,
        "colab": {
          "base_uri": "https://localhost:8080/"
        }
      },
      "outputs": [
        {
          "output_type": "stream",
          "name": "stdout",
          "text": [
            "Model: \"sequential_11\"\n",
            "_________________________________________________________________\n",
            " Layer (type)                Output Shape              Param #   \n",
            "=================================================================\n",
            " embedding_6 (Embedding)     (None, 100, 100)          2000000   \n",
            "                                                                 \n",
            " bidirectional_5 (Bidirectio  (None, 100, 600)         962400    \n",
            " nal)                                                            \n",
            "                                                                 \n",
            " seq_self_attention_5 (SeqSe  (None, 100, 600)         38465     \n",
            " lfAttention)                                                    \n",
            "                                                                 \n",
            " dense_7 (Dense)             (None, 100, 1)            601       \n",
            "                                                                 \n",
            "=================================================================\n",
            "Total params: 3,001,466\n",
            "Trainable params: 1,001,466\n",
            "Non-trainable params: 2,000,000\n",
            "_________________________________________________________________\n"
          ]
        }
      ],
      "source": [
        "attention_model = make_self_attention_model()"
      ]
    },
    {
      "cell_type": "code",
      "execution_count": null,
      "metadata": {
        "id": "kRAxv6Fbx3Jr",
        "outputId": "d0de4085-5f05-4c75-9142-9b86350375db",
        "colab": {
          "base_uri": "https://localhost:8080/"
        }
      },
      "outputs": [
        {
          "output_type": "stream",
          "name": "stdout",
          "text": [
            "Epoch 1/5\n",
            "113/113 [==============================] - 8s 40ms/step - loss: 1.0213 - accuracy: 0.4962 - val_loss: 0.6415 - val_accuracy: 0.8314\n",
            "Epoch 2/5\n",
            "113/113 [==============================] - 2s 21ms/step - loss: 0.7009 - accuracy: 0.5129 - val_loss: 0.6851 - val_accuracy: 0.5744\n",
            "Epoch 3/5\n",
            "113/113 [==============================] - 2s 21ms/step - loss: 0.6921 - accuracy: 0.5311 - val_loss: 0.8791 - val_accuracy: 0.0000e+00\n",
            "Epoch 4/5\n",
            "113/113 [==============================] - 2s 21ms/step - loss: 0.6914 - accuracy: 0.5365 - val_loss: 0.8941 - val_accuracy: 0.0000e+00\n",
            "Epoch 5/5\n",
            "113/113 [==============================] - 2s 21ms/step - loss: 0.6917 - accuracy: 0.5406 - val_loss: 0.8507 - val_accuracy: 0.0000e+00\n"
          ]
        }
      ],
      "source": [
        "attention_history = attention_model.fit(padded_docs, labels,validation_split = 0.1, epochs=5, verbose=1)"
      ]
    },
    {
      "cell_type": "code",
      "execution_count": null,
      "metadata": {
        "id": "xmd-XvNMx3Jr",
        "outputId": "ebefc089-ad70-4ba5-a75d-6212006caa2c"
      },
      "outputs": [
        {
          "data": {
            "image/png": "[encoded data removed]",
            "text/plain": [
              "<Figure size 432x288 with 1 Axes>"
            ]
          },
          "metadata": {},
          "output_type": "display_data"
        }
      ],
      "source": [
        "plot_performance(attention_history)"
      ]
    },
    {
      "cell_type": "code",
      "execution_count": null,
      "metadata": {
        "id": "zYqHy6Ofx3Jr",
        "outputId": "14fd34d5-bf3d-44aa-dc0d-8d74904c4589",
        "colab": {
          "base_uri": "https://localhost:8080/"
        }
      },
      "outputs": [
        {
          "output_type": "stream",
          "name": "stdout",
          "text": [
            "The sequence length is 100.\n",
            "The input is of shape (3200, 100).\n",
            "The vocabulary size is 20000.\n",
            "The word embedding dimensions size is 100.\n",
            "The hidden state dimension size is 100.\n",
            "(20000, 100)\n",
            "(100, 1200)\n",
            "(300, 1200)\n",
            "(1200,)\n",
            "(100, 1200)\n",
            "(300, 1200)\n",
            "(1200,)\n",
            "(600, 32)\n",
            "(600, 32)\n",
            "(32,)\n",
            "(32, 1)\n",
            "(1,)\n",
            "(600, 1)\n",
            "(1,)\n"
          ]
        }
      ],
      "source": [
        "weights = attention_model.get_weights()\n",
        "print(f\"The sequence length is {MAX_SEQUENCE_LENGTH}.\")\n",
        "print(f\"The input is of shape {X_train.shape}.\")\n",
        "print(f\"The vocabulary size is {VOCAB_SIZE}.\")\n",
        "print(f\"The word embedding dimensions size is 100.\")\n",
        "print(f\"The hidden state dimension size is {MAX_SEQUENCE_LENGTH}.\")\n",
        "\n",
        "weight_purposes = [\"word_embeddings\", \n",
        "                   \"data_gate_weights\", \n",
        "                   \"hidden_state_gate_weights\",\n",
        "                   \"attention \"]\n",
        "\n",
        "for weights in attention_model.get_weights():\n",
        "    print(np.array(weights).shape)"
      ]
    },
    {
      "cell_type": "markdown",
      "metadata": {
        "id": "lKIvTIrqx3Jr"
      },
      "source": [
        "# BERT (Bi-Directional Encoder Representations of Transformers)"
      ]
    },
    {
      "cell_type": "markdown",
      "metadata": {
        "id": "Fi-EkT3kx3Jr"
      },
      "source": [
        "## High Level Architecture"
      ]
    },
    {
      "cell_type": "markdown",
      "metadata": {
        "id": "Qw0xjEcCx3Jr"
      },
      "source": [
        "![bert](https://github.com/ychennay/dso-560-nlp-text-analytics/blob/main/images/bert_architecture.png?raw=1)"
      ]
    },
    {
      "cell_type": "markdown",
      "metadata": {
        "id": "XfhtvVlPx3Jr"
      },
      "source": [
        "![comparison](https://github.com/ychennay/dso-560-nlp-text-analytics/blob/main/images/bert.webp?raw=1)"
      ]
    }
  ],
  "metadata": {
    "accelerator": "GPU",
    "colab": {
      "collapsed_sections": [],
      "name": "LSTMs and Self-Attention for NLP.ipynb",
      "provenance": []
    },
    "kernelspec": {
      "display_name": "Python 3",
      "language": "python",
      "name": "python3"
    },
    "language_info": {
      "codemirror_mode": {
        "name": "ipython",
        "version": 3
      },
      "file_extension": ".py",
      "mimetype": "text/x-python",
      "name": "python",
      "nbconvert_exporter": "python",
      "pygments_lexer": "ipython3",
      "version": "3.8.5"
    },
    "toc": {
      "base_numbering": 1,
      "nav_menu": {},
      "number_sections": true,
      "sideBar": true,
      "skip_h1_title": false,
      "title_cell": "Table of Contents",
      "title_sidebar": "Contents",
      "toc_cell": false,
      "toc_position": {},
      "toc_section_display": true,
      "toc_window_display": false
    }
  },
  "nbformat": 4,
  "nbformat_minor": 0
}