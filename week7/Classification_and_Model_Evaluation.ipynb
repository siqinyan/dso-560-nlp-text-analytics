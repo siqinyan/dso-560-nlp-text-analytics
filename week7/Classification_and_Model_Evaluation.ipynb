{
  "nbformat": 4,
  "nbformat_minor": 0,
  "metadata": {
    "kernelspec": {
      "display_name": "Python 3",
      "language": "python",
      "name": "python3"
    },
    "language_info": {
      "codemirror_mode": {
        "name": "ipython",
        "version": 3
      },
      "file_extension": ".py",
      "mimetype": "text/x-python",
      "name": "python",
      "nbconvert_exporter": "python",
      "pygments_lexer": "ipython3",
      "version": "3.8.5"
    },
    "toc": {
      "base_numbering": 1,
      "nav_menu": {},
      "number_sections": true,
      "sideBar": true,
      "skip_h1_title": false,
      "title_cell": "Table of Contents",
      "title_sidebar": "Contents",
      "toc_cell": false,
      "toc_position": {},
      "toc_section_display": true,
      "toc_window_display": false
    },
    "colab": {
      "name": "Classification and Model Evaluation.ipynb",
      "provenance": [],
      "collapsed_sections": []
    }
  },
  "cells": [
    {
      "cell_type": "code",
      "metadata": {
        "id": "hOMVknM8oVr9",
        "colab": {
          "base_uri": "https://localhost:8080/"
        },
        "outputId": "3eb87711-28e8-414e-9fbb-d5607d7ccbec"
      },
      "source": [
        "!rm -rf dso-560-nlp-text-analytics && git clone https://github.com/ychennay/dso-560-nlp-text-analytics"
      ],
      "execution_count": null,
      "outputs": [
        {
          "output_type": "stream",
          "name": "stdout",
          "text": [
            "Cloning into 'dso-560-nlp-text-analytics'...\n",
            "remote: Enumerating objects: 3106, done.\u001b[K\n",
            "remote: Counting objects: 100% (296/296), done.\u001b[K\n",
            "remote: Compressing objects: 100% (169/169), done.\u001b[K\n",
            "remote: Total 3106 (delta 211), reused 170 (delta 127), pack-reused 2810\u001b[K\n",
            "Receiving objects: 100% (3106/3106), 92.07 MiB | 16.86 MiB/s, done.\n",
            "Resolving deltas: 100% (377/377), done.\n",
            "Checking out files: 100% (3178/3178), done.\n"
          ]
        }
      ]
    },
    {
      "cell_type": "code",
      "metadata": {
        "id": "iMy3OtXtoZM5",
        "colab": {
          "base_uri": "https://localhost:8080/"
        },
        "outputId": "12f18478-f226-4e0f-b12d-643c07bfa358"
      },
      "source": [
        "%cd dso-560-nlp-text-analytics"
      ],
      "execution_count": null,
      "outputs": [
        {
          "output_type": "stream",
          "name": "stdout",
          "text": [
            "/content/dso-560-nlp-text-analytics\n"
          ]
        }
      ]
    },
    {
      "cell_type": "markdown",
      "metadata": {
        "id": "zsv0wNe0oS-r"
      },
      "source": [
        "# Logistic Regression"
      ]
    },
    {
      "cell_type": "markdown",
      "metadata": {
        "id": "wf8n3Yf_oS-u"
      },
      "source": [
        "## Why Not Just Use A Linear Regression?\n",
        "\n",
        "### Assumptions for Linear Models:\n",
        "- Gaussian distribution of residuals (errors)\n",
        "- Y (target variable) is continuous on the prediction interval\n",
        "![alt text](https://raw.githubusercontent.com/ychennay/dso-560-nlp-text-analytics/main/images/binary.png \"Logo Title Text 1\")"
      ]
    },
    {
      "cell_type": "markdown",
      "metadata": {
        "id": "-xF1QjwxoS-u"
      },
      "source": [
        "## Intro to Algorithmic Marketing (Katsov)\n",
        "### Finding A Decision Boundary\n",
        "![alt text](https://raw.githubusercontent.com/ychennay/dso-560-nlp-text-analytics/main/images/lr1.png \"Logo Title Text 1\")"
      ]
    },
    {
      "cell_type": "markdown",
      "metadata": {
        "id": "z43hoNrPoS-u"
      },
      "source": [
        "### Log of Equal Odds \n",
        "![alt text](https://raw.githubusercontent.com/ychennay/dso-560-nlp-text-analytics/main/images/lr2.png \"Logo Title Text 1\")"
      ]
    },
    {
      "cell_type": "markdown",
      "metadata": {
        "id": "XQQKxWXXoS-v"
      },
      "source": [
        "### Logit Link Function\n",
        "![alt text](https://raw.githubusercontent.com/ychennay/dso-560-nlp-text-analytics/main/images/lr3.png \"Logo Title Text 1\")"
      ]
    },
    {
      "cell_type": "markdown",
      "metadata": {
        "id": "LjerO4cQoS-v"
      },
      "source": [
        "### Solving for Each Class (Binary Target)\n",
        "![alt text](https://raw.githubusercontent.com/ychennay/dso-560-nlp-text-analytics/main/images/lr4.png \"Logo Title Text 1\")"
      ]
    },
    {
      "cell_type": "markdown",
      "metadata": {
        "id": "OvGuKUOSoS-v"
      },
      "source": [
        "### Log Likelihood\n",
        "![alt text](https://raw.githubusercontent.com/ychennay/dso-560-nlp-text-analytics/main/images/lr5.png \"Logo Title Text 1\")"
      ]
    },
    {
      "cell_type": "code",
      "metadata": {
        "id": "R9sDfbWdoS-w"
      },
      "source": [
        "import numpy as np\n",
        "def sigmoid(z):\n",
        "    return 1 / (1 + np.exp(-z))"
      ],
      "execution_count": null,
      "outputs": []
    },
    {
      "cell_type": "code",
      "metadata": {
        "id": "EyIIfZDqoS-x",
        "outputId": "5eab74d1-d5dc-4b6f-f9cc-c9a4dc2cb091",
        "colab": {
          "base_uri": "https://localhost:8080/",
          "height": 206
        }
      },
      "source": [
        "import pandas as pd\n",
        "poor = open(\"datasets/poor_amazon_toy_reviews.txt\").readlines()\n",
        "good = open(\"datasets/good_amazon_toy_reviews.txt\").readlines()\n",
        "\n",
        "good_reviews = list(map(lambda review: (review, 1), good))\n",
        "poor_reviews = list(map(lambda review: (review, 0), poor))\n",
        "\n",
        "all_reviews = good_reviews + poor_reviews\n",
        "all_reviews_df = pd.DataFrame(all_reviews, columns=[\"review\", \"positive\"])\n",
        "all_reviews_df.head()"
      ],
      "execution_count": null,
      "outputs": [
        {
          "output_type": "execute_result",
          "data": {
            "text/plain": [
              "                                              review  positive\n",
              "0                                     Excellent!!!\\n         1\n",
              "1  \"Great quality wooden track (better than some ...         1\n",
              "2  my daughter loved it and i liked the price and...         1\n",
              "3  Great item. Pictures pop thru and add detail a...         1\n",
              "4                  I was pleased with the product.\\n         1"
            ],
            "text/html": [
              "\n",
              "  <div id=\"df-a3c7e361-235b-4985-95b1-86a0cf09ba02\">\n",
              "    <div class=\"colab-df-container\">\n",
              "      <div>\n",
              "<style scoped>\n",
              "    .dataframe tbody tr th:only-of-type {\n",
              "        vertical-align: middle;\n",
              "    }\n",
              "\n",
              "    .dataframe tbody tr th {\n",
              "        vertical-align: top;\n",
              "    }\n",
              "\n",
              "    .dataframe thead th {\n",
              "        text-align: right;\n",
              "    }\n",
              "</style>\n",
              "<table border=\"1\" class=\"dataframe\">\n",
              "  <thead>\n",
              "    <tr style=\"text-align: right;\">\n",
              "      <th></th>\n",
              "      <th>review</th>\n",
              "      <th>positive</th>\n",
              "    </tr>\n",
              "  </thead>\n",
              "  <tbody>\n",
              "    <tr>\n",
              "      <th>0</th>\n",
              "      <td>Excellent!!!\\n</td>\n",
              "      <td>1</td>\n",
              "    </tr>\n",
              "    <tr>\n",
              "      <th>1</th>\n",
              "      <td>\"Great quality wooden track (better than some ...</td>\n",
              "      <td>1</td>\n",
              "    </tr>\n",
              "    <tr>\n",
              "      <th>2</th>\n",
              "      <td>my daughter loved it and i liked the price and...</td>\n",
              "      <td>1</td>\n",
              "    </tr>\n",
              "    <tr>\n",
              "      <th>3</th>\n",
              "      <td>Great item. Pictures pop thru and add detail a...</td>\n",
              "      <td>1</td>\n",
              "    </tr>\n",
              "    <tr>\n",
              "      <th>4</th>\n",
              "      <td>I was pleased with the product.\\n</td>\n",
              "      <td>1</td>\n",
              "    </tr>\n",
              "  </tbody>\n",
              "</table>\n",
              "</div>\n",
              "      <button class=\"colab-df-convert\" onclick=\"convertToInteractive('df-a3c7e361-235b-4985-95b1-86a0cf09ba02')\"\n",
              "              title=\"Convert this dataframe to an interactive table.\"\n",
              "              style=\"display:none;\">\n",
              "        \n",
              "  <svg xmlns=\"http://www.w3.org/2000/svg\" height=\"24px\"viewBox=\"0 0 24 24\"\n",
              "       width=\"24px\">\n",
              "    <path d=\"M0 0h24v24H0V0z\" fill=\"none\"/>\n",
              "    <path d=\"M18.56 5.44l.94 2.06.94-2.06 2.06-.94-2.06-.94-.94-2.06-.94 2.06-2.06.94zm-11 1L8.5 8.5l.94-2.06 2.06-.94-2.06-.94L8.5 2.5l-.94 2.06-2.06.94zm10 10l.94 2.06.94-2.06 2.06-.94-2.06-.94-.94-2.06-.94 2.06-2.06.94z\"/><path d=\"M17.41 7.96l-1.37-1.37c-.4-.4-.92-.59-1.43-.59-.52 0-1.04.2-1.43.59L10.3 9.45l-7.72 7.72c-.78.78-.78 2.05 0 2.83L4 21.41c.39.39.9.59 1.41.59.51 0 1.02-.2 1.41-.59l7.78-7.78 2.81-2.81c.8-.78.8-2.07 0-2.86zM5.41 20L4 18.59l7.72-7.72 1.47 1.35L5.41 20z\"/>\n",
              "  </svg>\n",
              "      </button>\n",
              "      \n",
              "  <style>\n",
              "    .colab-df-container {\n",
              "      display:flex;\n",
              "      flex-wrap:wrap;\n",
              "      gap: 12px;\n",
              "    }\n",
              "\n",
              "    .colab-df-convert {\n",
              "      background-color: #E8F0FE;\n",
              "      border: none;\n",
              "      border-radius: 50%;\n",
              "      cursor: pointer;\n",
              "      display: none;\n",
              "      fill: #1967D2;\n",
              "      height: 32px;\n",
              "      padding: 0 0 0 0;\n",
              "      width: 32px;\n",
              "    }\n",
              "\n",
              "    .colab-df-convert:hover {\n",
              "      background-color: #E2EBFA;\n",
              "      box-shadow: 0px 1px 2px rgba(60, 64, 67, 0.3), 0px 1px 3px 1px rgba(60, 64, 67, 0.15);\n",
              "      fill: #174EA6;\n",
              "    }\n",
              "\n",
              "    [theme=dark] .colab-df-convert {\n",
              "      background-color: #3B4455;\n",
              "      fill: #D2E3FC;\n",
              "    }\n",
              "\n",
              "    [theme=dark] .colab-df-convert:hover {\n",
              "      background-color: #434B5C;\n",
              "      box-shadow: 0px 1px 3px 1px rgba(0, 0, 0, 0.15);\n",
              "      filter: drop-shadow(0px 1px 2px rgba(0, 0, 0, 0.3));\n",
              "      fill: #FFFFFF;\n",
              "    }\n",
              "  </style>\n",
              "\n",
              "      <script>\n",
              "        const buttonEl =\n",
              "          document.querySelector('#df-a3c7e361-235b-4985-95b1-86a0cf09ba02 button.colab-df-convert');\n",
              "        buttonEl.style.display =\n",
              "          google.colab.kernel.accessAllowed ? 'block' : 'none';\n",
              "\n",
              "        async function convertToInteractive(key) {\n",
              "          const element = document.querySelector('#df-a3c7e361-235b-4985-95b1-86a0cf09ba02');\n",
              "          const dataTable =\n",
              "            await google.colab.kernel.invokeFunction('convertToInteractive',\n",
              "                                                     [key], {});\n",
              "          if (!dataTable) return;\n",
              "\n",
              "          const docLinkHtml = 'Like what you see? Visit the ' +\n",
              "            '<a target=\"_blank\" href=https://colab.research.google.com/notebooks/data_table.ipynb>data table notebook</a>'\n",
              "            + ' to learn more about interactive tables.';\n",
              "          element.innerHTML = '';\n",
              "          dataTable['output_type'] = 'display_data';\n",
              "          await google.colab.output.renderOutput(dataTable, element);\n",
              "          const docLink = document.createElement('div');\n",
              "          docLink.innerHTML = docLinkHtml;\n",
              "          element.appendChild(docLink);\n",
              "        }\n",
              "      </script>\n",
              "    </div>\n",
              "  </div>\n",
              "  "
            ]
          },
          "metadata": {},
          "execution_count": 5
        }
      ]
    },
    {
      "cell_type": "code",
      "metadata": {
        "id": "ndes2VeCoS-y"
      },
      "source": [
        "from sklearn.feature_extraction.text import CountVectorizer\n",
        "vectorizer = CountVectorizer(ngram_range=(1, 1), \n",
        "                             stop_words=\"english\", \n",
        "                             max_features=1000,token_pattern='(?u)\\\\b[a-zA-Z][a-zA-Z]+\\\\b')"
      ],
      "execution_count": null,
      "outputs": []
    },
    {
      "cell_type": "code",
      "metadata": {
        "id": "3oCYo6X-oS-y",
        "outputId": "426f1487-5b04-4534-aaf5-23aa7cf793f8",
        "colab": {
          "base_uri": "https://localhost:8080/"
        }
      },
      "source": [
        "X = vectorizer.fit_transform(all_reviews_df[\"review\"])\n",
        "y = all_reviews_df[\"positive\"].values\n",
        "X"
      ],
      "execution_count": null,
      "outputs": [
        {
          "output_type": "execute_result",
          "data": {
            "text/plain": [
              "<114917x1000 sparse matrix of type '<class 'numpy.int64'>'\n",
              "\twith 926619 stored elements in Compressed Sparse Row format>"
            ]
          },
          "metadata": {},
          "execution_count": 7
        }
      ]
    },
    {
      "cell_type": "code",
      "metadata": {
        "id": "RC4N_NeqoS-y",
        "outputId": "05ab5bf0-f042-4a07-82b8-70ab017be507",
        "colab": {
          "base_uri": "https://localhost:8080/"
        }
      },
      "source": [
        "from sklearn.linear_model import LogisticRegression\n",
        "\n",
        "lr = LogisticRegression()\n",
        "lr.fit(X, y)"
      ],
      "execution_count": null,
      "outputs": [
        {
          "output_type": "stream",
          "name": "stderr",
          "text": [
            "/usr/local/lib/python3.7/dist-packages/sklearn/linear_model/_logistic.py:818: ConvergenceWarning: lbfgs failed to converge (status=1):\n",
            "STOP: TOTAL NO. of ITERATIONS REACHED LIMIT.\n",
            "\n",
            "Increase the number of iterations (max_iter) or scale the data as shown in:\n",
            "    https://scikit-learn.org/stable/modules/preprocessing.html\n",
            "Please also refer to the documentation for alternative solver options:\n",
            "    https://scikit-learn.org/stable/modules/linear_model.html#logistic-regression\n",
            "  extra_warning_msg=_LOGISTIC_SOLVER_CONVERGENCE_MSG,\n"
          ]
        },
        {
          "output_type": "execute_result",
          "data": {
            "text/plain": [
              "LogisticRegression()"
            ]
          },
          "metadata": {},
          "execution_count": 8
        }
      ]
    },
    {
      "cell_type": "code",
      "metadata": {
        "id": "_jWrqhttoS-y",
        "outputId": "3187101d-0d8c-42ff-fba2-972b005639df",
        "colab": {
          "base_uri": "https://localhost:8080/"
        }
      },
      "source": [
        "y_pred = lr.predict(X)\n",
        "\n",
        "# calculate accuracy\n",
        "np.mean(y_pred == y)\n",
        "\n",
        "from sklearn.metrics import confusion_matrix\n",
        "\n",
        "confusion_matrix(y, y_pred)"
      ],
      "execution_count": null,
      "outputs": [
        {
          "output_type": "execute_result",
          "data": {
            "text/plain": [
              "array([[  9087,   3613],\n",
              "       [  1049, 101168]])"
            ]
          },
          "metadata": {},
          "execution_count": 9
        }
      ]
    },
    {
      "cell_type": "markdown",
      "metadata": {
        "id": "W6aCSAq-oS-z"
      },
      "source": [
        "## AUROC (Area Under the Receiver Operator Curve)"
      ]
    },
    {
      "cell_type": "code",
      "metadata": {
        "id": "GCSl-eD-oS-z",
        "outputId": "d32507b9-d053-493c-968f-1d5d11e0cc06",
        "colab": {
          "base_uri": "https://localhost:8080/"
        }
      },
      "source": [
        "from sklearn.metrics import roc_auc_score\n",
        "roc_auc_score(y, y_pred)"
      ],
      "execution_count": null,
      "outputs": [
        {
          "output_type": "execute_result",
          "data": {
            "text/plain": [
              "0.8526246651114863"
            ]
          },
          "metadata": {},
          "execution_count": 10
        }
      ]
    },
    {
      "cell_type": "code",
      "metadata": {
        "id": "isXTrwl8oS-z",
        "colab": {
          "base_uri": "https://localhost:8080/"
        },
        "outputId": "5574c1a0-cdd1-4b3f-a60b-bfe996b4a782"
      },
      "source": [
        "data = pd.DataFrame(X.toarray(), columns=vectorizer.get_feature_names())\n",
        "data[\"TARGET\"] = y"
      ],
      "execution_count": null,
      "outputs": [
        {
          "output_type": "stream",
          "name": "stderr",
          "text": [
            "/usr/local/lib/python3.7/dist-packages/sklearn/utils/deprecation.py:87: FutureWarning: Function get_feature_names is deprecated; get_feature_names is deprecated in 1.0 and will be removed in 1.2. Please use get_feature_names_out instead.\n",
            "  warnings.warn(msg, category=FutureWarning)\n"
          ]
        }
      ]
    },
    {
      "cell_type": "code",
      "metadata": {
        "id": "W2bqIBSFoS-0"
      },
      "source": [
        "from sklearn.model_selection import train_test_split\n",
        "\n",
        "train_df, test_df = train_test_split(data)\n",
        "X_train = train_df.loc[:, ~train_df.columns.isin(['TARGET'])]\n",
        "X_test = test_df.loc[:, ~test_df.columns.isin(['TARGET'])]\n",
        "\n",
        "\n",
        "y_train = train_df[\"TARGET\"]\n",
        "y_test = test_df[\"TARGET\"]"
      ],
      "execution_count": null,
      "outputs": []
    },
    {
      "cell_type": "code",
      "metadata": {
        "id": "iriTXHmFoS-0",
        "outputId": "93422ce1-dae1-4d50-b093-b3f70131835c",
        "colab": {
          "base_uri": "https://localhost:8080/"
        }
      },
      "source": [
        "print(X_train.shape)\n",
        "print(y_train.shape)\n",
        "print(X_test.shape)\n",
        "print(y_test.shape)"
      ],
      "execution_count": null,
      "outputs": [
        {
          "output_type": "stream",
          "name": "stdout",
          "text": [
            "(86187, 1000)\n",
            "(86187,)\n",
            "(28730, 1000)\n",
            "(28730,)\n"
          ]
        }
      ]
    },
    {
      "cell_type": "code",
      "metadata": {
        "id": "-ZmFjY8toS-0",
        "outputId": "b8bfdb69-85c0-47b7-b2ea-a026895929de",
        "colab": {
          "base_uri": "https://localhost:8080/"
        }
      },
      "source": [
        "lr.fit(X_train, y_train)"
      ],
      "execution_count": null,
      "outputs": [
        {
          "output_type": "stream",
          "name": "stderr",
          "text": [
            "/usr/local/lib/python3.7/dist-packages/sklearn/linear_model/_logistic.py:818: ConvergenceWarning: lbfgs failed to converge (status=1):\n",
            "STOP: TOTAL NO. of ITERATIONS REACHED LIMIT.\n",
            "\n",
            "Increase the number of iterations (max_iter) or scale the data as shown in:\n",
            "    https://scikit-learn.org/stable/modules/preprocessing.html\n",
            "Please also refer to the documentation for alternative solver options:\n",
            "    https://scikit-learn.org/stable/modules/linear_model.html#logistic-regression\n",
            "  extra_warning_msg=_LOGISTIC_SOLVER_CONVERGENCE_MSG,\n"
          ]
        },
        {
          "output_type": "execute_result",
          "data": {
            "text/plain": [
              "LogisticRegression()"
            ]
          },
          "metadata": {},
          "execution_count": 14
        }
      ]
    },
    {
      "cell_type": "code",
      "metadata": {
        "id": "zKmK2NtzoS-0",
        "outputId": "6068d632-f350-4176-fbaf-a036a9a30759"
      },
      "source": [
        "y_pred = lr.predict(X_test)\n",
        "\n",
        "np.mean(y_pred == y_test)"
      ],
      "execution_count": null,
      "outputs": [
        {
          "data": {
            "text/plain": [
              "0.9578837452140619"
            ]
          },
          "execution_count": 149,
          "metadata": {},
          "output_type": "execute_result"
        }
      ]
    },
    {
      "cell_type": "markdown",
      "metadata": {
        "id": "9ukEj9UhoS-0"
      },
      "source": [
        "## Cross Validation"
      ]
    },
    {
      "cell_type": "code",
      "metadata": {
        "id": "N19AAi95oS-0"
      },
      "source": [
        "from sklearn.model_selection import cross_validate\n",
        "X = data.loc[:, ~data.columns.isin(['TARGET'])]\n",
        "cv_results = cross_validate(lr, X, y, cv=10,return_train_score=False)"
      ],
      "execution_count": null,
      "outputs": []
    },
    {
      "cell_type": "code",
      "metadata": {
        "id": "RqicGOoAoS-0",
        "outputId": "f99c6cd6-b51e-401e-db86-0940978f5183"
      },
      "source": [
        "cv_results['test_score']"
      ],
      "execution_count": null,
      "outputs": [
        {
          "data": {
            "text/plain": [
              "array([0.9550992 , 0.95475113, 0.95744866, 0.95544727, 0.95475113,\n",
              "       0.95857988, 0.95466411, 0.95570446, 0.95709686, 0.95561744])"
            ]
          },
          "execution_count": 154,
          "metadata": {},
          "output_type": "execute_result"
        }
      ]
    }
  ]
}