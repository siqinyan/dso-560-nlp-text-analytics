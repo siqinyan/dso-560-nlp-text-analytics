{
 "cells": [
  {
   "cell_type": "markdown",
   "metadata": {},
   "source": [
    "# Dimensionality Reduction\n",
    "\n",
    "## The Problem\n",
    "\n",
    "There is an interesting tradeoff between model performance and a feature's dimensionality ([Link](http://www.visiondummy.com/2014/04/curse-dimensionality-affect-classification/)):\n",
    "![http://www.visiondummy.com/2014/04/curse-dimensionality-affect-classification/](https://raw.githubusercontent.com/ychennay/dso-560-nlp-text-analytics/main/images/dimensionality_vs_performance.png)\n",
    "\n",
    ">*If the amount of available training data is fixed, then overfitting occurs if we keep adding dimensions. On the other hand, if we keep adding dimensions, the amount of **training data needs to grow exponentially fast to maintain the same coverage** and to avoid overfitting* ([Computer Vision for Dummies](http://www.visiondummy.com/2014/04/curse-dimensionality-affect-classification/))."
   ]
  },
  {
   "cell_type": "markdown",
   "metadata": {},
   "source": [
    "<div class=\"alert-success\">\n",
    "<p>vanilla word vectorization (i.e. stemming stopwords ...) leads to large # of dimensions\n",
    "<p>curse of dimensionality: (1) compute resourse & speed requirements (latency) (2) overfitting</div>"
   ]
  },
  {
   "cell_type": "markdown",
   "metadata": {},
   "source": [
    "![http://www.visiondummy.com/2014/04/curse-dimensionality-affect-classification/](https://raw.githubusercontent.com/ychennay/dso-560-nlp-text-analytics/main/images/curseofdimensionality.png)"
   ]
  },
  {
   "cell_type": "markdown",
   "metadata": {},
   "source": [
    "<div class=\"alert-success\">\n",
    "if you have many dimensions, you will need many data\n",
    "</div>"
   ]
  },
  {
   "cell_type": "markdown",
   "metadata": {},
   "source": [
    "### Multi-Collinearity\n",
    "\n",
    "In many cases, there is a high degree of correlation between many of the features in a dataset. For instance, suppose that you use `TfIdfVectorizer(ngrams=(3,3))`. This means to tokenize the text into tri-grams. Then, you'll have extremely high correlation between tokens such as `bought this for`, `this for my`, `for my husband`. "
   ]
  },
  {
   "cell_type": "markdown",
   "metadata": {
    "ExecuteTime": {
     "end_time": "2022-04-13T01:43:47.420041Z",
     "start_time": "2022-04-13T01:43:47.413890Z"
    }
   },
   "source": [
    "<div class=\"alert-success\">\n",
    "only selecting the top `n` features would not reduce multi-colinearity while dimensionality reduction can do so    </div>"
   ]
  },
  {
   "cell_type": "markdown",
   "metadata": {},
   "source": [
    "## Sparsity\n",
    "\n",
    "- High dimensionality increases the sparsity of your features (**what NLP techniques have we used that illustrate this point?**)\n",
    "- The density of the training samples decreases when dimensionality increases:\n",
    "- Distance measures (Euclidean, for instance) start losing their effectiveness, because there isn't much difference between the max and min distances in higher dimensions.\n",
    "- Many models that rely upon assumptions of Gaussian distributions (like OLS linear regression), Gaussian mixture models, Gaussian processes, etc. become less and less effective since their distributions become flatter and \"fatter tailed\".\n",
    "![http://www.visiondummy.com/2014/04/curse-dimensionality-affect-classification/](../images/distance-asymptote.png)\n",
    "\n",
    "What is the amount of data needed to maintain **20% coverage** of the feature space? For 1 dimension, it is **20% of the entire population's dataset**. For a dimensionality of $D$:\n",
    "\n",
    "$$\n",
    "X^{D} = .20\n",
    "$$\n",
    "$$\n",
    "(X^{D})^{\\frac{1}{D}} = .20^{\\frac{1}{D}}\n",
    "$$\n",
    "$$\n",
    "X = \\sqrt[D]{.20}\n",
    "$$\n",
    "You can approximate this as \n",
    "```python\n",
    "def coverage_requirement(requirement, D):\n",
    "    return requirement ** (1 / D)\n",
    "\n",
    "x = []\n",
    "y = []\n",
    "for d in range(1,20):\n",
    "    y.append(coverage_requirement(0.10, d))\n",
    "    x.append(d)\n",
    "    \n",
    "import matplotlib.pyplot as plt\n",
    "\n",
    "plt.plot(x,y)\n",
    "plt.xlabel(\"Number of Dimensions\")\n",
    "plt.ylabel(\"Appromximate % of Population Dataset\")\n",
    "plt.title(\"% of Dataset Needed to Maintain 10% Coverage of Feature Space\")\n",
    "plt.show()\n",
    "```\n",
    "<img src=\"https://raw.githubusercontent.com/ychennay/dso-560-nlp-text-analytics/main/images/coverage-needed.png\" width=\"500\">"
   ]
  },
  {
   "cell_type": "code",
   "execution_count": 3,
   "metadata": {
    "ExecuteTime": {
     "end_time": "2022-04-13T01:44:31.169435Z",
     "start_time": "2022-04-13T01:44:30.761486Z"
    }
   },
   "outputs": [
    {
     "data": {
      "text/html": [
       "<div>\n",
       "<style scoped>\n",
       "    .dataframe tbody tr th:only-of-type {\n",
       "        vertical-align: middle;\n",
       "    }\n",
       "\n",
       "    .dataframe tbody tr th {\n",
       "        vertical-align: top;\n",
       "    }\n",
       "\n",
       "    .dataframe thead th {\n",
       "        text-align: right;\n",
       "    }\n",
       "</style>\n",
       "<table border=\"1\" class=\"dataframe\">\n",
       "  <thead>\n",
       "    <tr style=\"text-align: right;\">\n",
       "      <th></th>\n",
       "      <th>across the street</th>\n",
       "      <th>and it was</th>\n",
       "      <th>and the food</th>\n",
       "      <th>at the drive</th>\n",
       "      <th>at the window</th>\n",
       "      <th>at this location</th>\n",
       "      <th>back to the</th>\n",
       "      <th>because of the</th>\n",
       "      <th>been to this</th>\n",
       "      <th>behind the counter</th>\n",
       "      <th>...</th>\n",
       "      <th>to this mcdonalds</th>\n",
       "      <th>up my order</th>\n",
       "      <th>up to the</th>\n",
       "      <th>ve been to</th>\n",
       "      <th>ve ever been</th>\n",
       "      <th>vegas this is</th>\n",
       "      <th>went through the</th>\n",
       "      <th>went to the</th>\n",
       "      <th>you have to</th>\n",
       "      <th>you want to</th>\n",
       "    </tr>\n",
       "  </thead>\n",
       "  <tbody>\n",
       "    <tr>\n",
       "      <th>0</th>\n",
       "      <td>0</td>\n",
       "      <td>0</td>\n",
       "      <td>0</td>\n",
       "      <td>0</td>\n",
       "      <td>0</td>\n",
       "      <td>0</td>\n",
       "      <td>0</td>\n",
       "      <td>0</td>\n",
       "      <td>0</td>\n",
       "      <td>0</td>\n",
       "      <td>...</td>\n",
       "      <td>0</td>\n",
       "      <td>0</td>\n",
       "      <td>0</td>\n",
       "      <td>0</td>\n",
       "      <td>0</td>\n",
       "      <td>0</td>\n",
       "      <td>0</td>\n",
       "      <td>0</td>\n",
       "      <td>0</td>\n",
       "      <td>0</td>\n",
       "    </tr>\n",
       "    <tr>\n",
       "      <th>1</th>\n",
       "      <td>0</td>\n",
       "      <td>0</td>\n",
       "      <td>0</td>\n",
       "      <td>0</td>\n",
       "      <td>0</td>\n",
       "      <td>0</td>\n",
       "      <td>0</td>\n",
       "      <td>0</td>\n",
       "      <td>0</td>\n",
       "      <td>0</td>\n",
       "      <td>...</td>\n",
       "      <td>0</td>\n",
       "      <td>0</td>\n",
       "      <td>0</td>\n",
       "      <td>1</td>\n",
       "      <td>1</td>\n",
       "      <td>0</td>\n",
       "      <td>0</td>\n",
       "      <td>0</td>\n",
       "      <td>0</td>\n",
       "      <td>0</td>\n",
       "    </tr>\n",
       "    <tr>\n",
       "      <th>2</th>\n",
       "      <td>0</td>\n",
       "      <td>0</td>\n",
       "      <td>0</td>\n",
       "      <td>0</td>\n",
       "      <td>1</td>\n",
       "      <td>0</td>\n",
       "      <td>0</td>\n",
       "      <td>0</td>\n",
       "      <td>0</td>\n",
       "      <td>0</td>\n",
       "      <td>...</td>\n",
       "      <td>0</td>\n",
       "      <td>0</td>\n",
       "      <td>0</td>\n",
       "      <td>0</td>\n",
       "      <td>0</td>\n",
       "      <td>0</td>\n",
       "      <td>0</td>\n",
       "      <td>0</td>\n",
       "      <td>0</td>\n",
       "      <td>0</td>\n",
       "    </tr>\n",
       "    <tr>\n",
       "      <th>3</th>\n",
       "      <td>0</td>\n",
       "      <td>0</td>\n",
       "      <td>0</td>\n",
       "      <td>0</td>\n",
       "      <td>0</td>\n",
       "      <td>0</td>\n",
       "      <td>0</td>\n",
       "      <td>0</td>\n",
       "      <td>0</td>\n",
       "      <td>0</td>\n",
       "      <td>...</td>\n",
       "      <td>0</td>\n",
       "      <td>0</td>\n",
       "      <td>0</td>\n",
       "      <td>0</td>\n",
       "      <td>0</td>\n",
       "      <td>0</td>\n",
       "      <td>0</td>\n",
       "      <td>0</td>\n",
       "      <td>0</td>\n",
       "      <td>0</td>\n",
       "    </tr>\n",
       "    <tr>\n",
       "      <th>4</th>\n",
       "      <td>0</td>\n",
       "      <td>0</td>\n",
       "      <td>0</td>\n",
       "      <td>0</td>\n",
       "      <td>0</td>\n",
       "      <td>0</td>\n",
       "      <td>0</td>\n",
       "      <td>0</td>\n",
       "      <td>0</td>\n",
       "      <td>0</td>\n",
       "      <td>...</td>\n",
       "      <td>0</td>\n",
       "      <td>0</td>\n",
       "      <td>0</td>\n",
       "      <td>0</td>\n",
       "      <td>0</td>\n",
       "      <td>0</td>\n",
       "      <td>0</td>\n",
       "      <td>0</td>\n",
       "      <td>0</td>\n",
       "      <td>0</td>\n",
       "    </tr>\n",
       "    <tr>\n",
       "      <th>...</th>\n",
       "      <td>...</td>\n",
       "      <td>...</td>\n",
       "      <td>...</td>\n",
       "      <td>...</td>\n",
       "      <td>...</td>\n",
       "      <td>...</td>\n",
       "      <td>...</td>\n",
       "      <td>...</td>\n",
       "      <td>...</td>\n",
       "      <td>...</td>\n",
       "      <td>...</td>\n",
       "      <td>...</td>\n",
       "      <td>...</td>\n",
       "      <td>...</td>\n",
       "      <td>...</td>\n",
       "      <td>...</td>\n",
       "      <td>...</td>\n",
       "      <td>...</td>\n",
       "      <td>...</td>\n",
       "      <td>...</td>\n",
       "      <td>...</td>\n",
       "    </tr>\n",
       "    <tr>\n",
       "      <th>1521</th>\n",
       "      <td>0</td>\n",
       "      <td>0</td>\n",
       "      <td>0</td>\n",
       "      <td>0</td>\n",
       "      <td>0</td>\n",
       "      <td>0</td>\n",
       "      <td>0</td>\n",
       "      <td>0</td>\n",
       "      <td>0</td>\n",
       "      <td>0</td>\n",
       "      <td>...</td>\n",
       "      <td>0</td>\n",
       "      <td>0</td>\n",
       "      <td>0</td>\n",
       "      <td>0</td>\n",
       "      <td>0</td>\n",
       "      <td>0</td>\n",
       "      <td>0</td>\n",
       "      <td>0</td>\n",
       "      <td>0</td>\n",
       "      <td>0</td>\n",
       "    </tr>\n",
       "    <tr>\n",
       "      <th>1522</th>\n",
       "      <td>0</td>\n",
       "      <td>0</td>\n",
       "      <td>0</td>\n",
       "      <td>0</td>\n",
       "      <td>0</td>\n",
       "      <td>0</td>\n",
       "      <td>0</td>\n",
       "      <td>0</td>\n",
       "      <td>0</td>\n",
       "      <td>0</td>\n",
       "      <td>...</td>\n",
       "      <td>0</td>\n",
       "      <td>0</td>\n",
       "      <td>0</td>\n",
       "      <td>0</td>\n",
       "      <td>0</td>\n",
       "      <td>0</td>\n",
       "      <td>0</td>\n",
       "      <td>0</td>\n",
       "      <td>0</td>\n",
       "      <td>0</td>\n",
       "    </tr>\n",
       "    <tr>\n",
       "      <th>1523</th>\n",
       "      <td>0</td>\n",
       "      <td>0</td>\n",
       "      <td>0</td>\n",
       "      <td>0</td>\n",
       "      <td>0</td>\n",
       "      <td>0</td>\n",
       "      <td>0</td>\n",
       "      <td>0</td>\n",
       "      <td>0</td>\n",
       "      <td>0</td>\n",
       "      <td>...</td>\n",
       "      <td>0</td>\n",
       "      <td>0</td>\n",
       "      <td>0</td>\n",
       "      <td>0</td>\n",
       "      <td>0</td>\n",
       "      <td>0</td>\n",
       "      <td>0</td>\n",
       "      <td>0</td>\n",
       "      <td>0</td>\n",
       "      <td>0</td>\n",
       "    </tr>\n",
       "    <tr>\n",
       "      <th>1524</th>\n",
       "      <td>0</td>\n",
       "      <td>0</td>\n",
       "      <td>0</td>\n",
       "      <td>0</td>\n",
       "      <td>0</td>\n",
       "      <td>0</td>\n",
       "      <td>0</td>\n",
       "      <td>0</td>\n",
       "      <td>0</td>\n",
       "      <td>0</td>\n",
       "      <td>...</td>\n",
       "      <td>0</td>\n",
       "      <td>0</td>\n",
       "      <td>0</td>\n",
       "      <td>0</td>\n",
       "      <td>0</td>\n",
       "      <td>0</td>\n",
       "      <td>0</td>\n",
       "      <td>0</td>\n",
       "      <td>0</td>\n",
       "      <td>0</td>\n",
       "    </tr>\n",
       "    <tr>\n",
       "      <th>1525</th>\n",
       "      <td>1</td>\n",
       "      <td>0</td>\n",
       "      <td>0</td>\n",
       "      <td>0</td>\n",
       "      <td>0</td>\n",
       "      <td>0</td>\n",
       "      <td>0</td>\n",
       "      <td>0</td>\n",
       "      <td>0</td>\n",
       "      <td>0</td>\n",
       "      <td>...</td>\n",
       "      <td>0</td>\n",
       "      <td>0</td>\n",
       "      <td>0</td>\n",
       "      <td>0</td>\n",
       "      <td>0</td>\n",
       "      <td>0</td>\n",
       "      <td>0</td>\n",
       "      <td>0</td>\n",
       "      <td>0</td>\n",
       "      <td>0</td>\n",
       "    </tr>\n",
       "  </tbody>\n",
       "</table>\n",
       "<p>1526 rows × 101 columns</p>\n",
       "</div>"
      ],
      "text/plain": [
       "      across the street  and it was  and the food  at the drive  \\\n",
       "0                     0           0             0             0   \n",
       "1                     0           0             0             0   \n",
       "2                     0           0             0             0   \n",
       "3                     0           0             0             0   \n",
       "4                     0           0             0             0   \n",
       "...                 ...         ...           ...           ...   \n",
       "1521                  0           0             0             0   \n",
       "1522                  0           0             0             0   \n",
       "1523                  0           0             0             0   \n",
       "1524                  0           0             0             0   \n",
       "1525                  1           0             0             0   \n",
       "\n",
       "      at the window  at this location  back to the  because of the  \\\n",
       "0                 0                 0            0               0   \n",
       "1                 0                 0            0               0   \n",
       "2                 1                 0            0               0   \n",
       "3                 0                 0            0               0   \n",
       "4                 0                 0            0               0   \n",
       "...             ...               ...          ...             ...   \n",
       "1521              0                 0            0               0   \n",
       "1522              0                 0            0               0   \n",
       "1523              0                 0            0               0   \n",
       "1524              0                 0            0               0   \n",
       "1525              0                 0            0               0   \n",
       "\n",
       "      been to this  behind the counter  ...  to this mcdonalds  up my order  \\\n",
       "0                0                   0  ...                  0            0   \n",
       "1                0                   0  ...                  0            0   \n",
       "2                0                   0  ...                  0            0   \n",
       "3                0                   0  ...                  0            0   \n",
       "4                0                   0  ...                  0            0   \n",
       "...            ...                 ...  ...                ...          ...   \n",
       "1521             0                   0  ...                  0            0   \n",
       "1522             0                   0  ...                  0            0   \n",
       "1523             0                   0  ...                  0            0   \n",
       "1524             0                   0  ...                  0            0   \n",
       "1525             0                   0  ...                  0            0   \n",
       "\n",
       "      up to the  ve been to  ve ever been  vegas this is  went through the  \\\n",
       "0             0           0             0              0                 0   \n",
       "1             0           1             1              0                 0   \n",
       "2             0           0             0              0                 0   \n",
       "3             0           0             0              0                 0   \n",
       "4             0           0             0              0                 0   \n",
       "...         ...         ...           ...            ...               ...   \n",
       "1521          0           0             0              0                 0   \n",
       "1522          0           0             0              0                 0   \n",
       "1523          0           0             0              0                 0   \n",
       "1524          0           0             0              0                 0   \n",
       "1525          0           0             0              0                 0   \n",
       "\n",
       "      went to the  you have to  you want to  \n",
       "0               0            0            0  \n",
       "1               0            0            0  \n",
       "2               0            0            0  \n",
       "3               0            0            0  \n",
       "4               0            0            0  \n",
       "...           ...          ...          ...  \n",
       "1521            0            0            0  \n",
       "1522            0            0            0  \n",
       "1523            0            0            0  \n",
       "1524            0            0            0  \n",
       "1525            0            0            0  \n",
       "\n",
       "[1526 rows x 101 columns]"
      ]
     },
     "execution_count": 3,
     "metadata": {},
     "output_type": "execute_result"
    }
   ],
   "source": [
    "import pandas as pd\n",
    "from sklearn.feature_extraction.text import CountVectorizer\n",
    "#reviews = pd.read_csv(\"mcdonalds-yelp-negative-reviews.csv\", encoding='latin-1')\n",
    "reviews = open(\"../datasets/mcdonalds-yelp-negative-reviews.csv\", encoding='latin-1')\n",
    "\n",
    "#text = reviews[\"review\"].values\n",
    "text = reviews.readlines()\n",
    "\n",
    "\n",
    "vectorizer = CountVectorizer(ngram_range=(3,3), min_df=0.01, max_df=0.75, max_features=200)\n",
    "# tokenize and build vocab\n",
    "vectorizer.fit(text)\n",
    "vector = vectorizer.transform(text)\n",
    "features = vector.toarray()\n",
    "features_df = pd.DataFrame(features, columns=vectorizer.get_feature_names_out())\n",
    "features_df"
   ]
  },
  {
   "cell_type": "code",
   "execution_count": 4,
   "metadata": {
    "ExecuteTime": {
     "end_time": "2022-04-13T01:45:48.802604Z",
     "start_time": "2022-04-13T01:45:48.747633Z"
    }
   },
   "outputs": [
    {
     "data": {
      "text/html": [
       "<div>\n",
       "<style scoped>\n",
       "    .dataframe tbody tr th:only-of-type {\n",
       "        vertical-align: middle;\n",
       "    }\n",
       "\n",
       "    .dataframe tbody tr th {\n",
       "        vertical-align: top;\n",
       "    }\n",
       "\n",
       "    .dataframe thead th {\n",
       "        text-align: right;\n",
       "    }\n",
       "</style>\n",
       "<table border=\"1\" class=\"dataframe\">\n",
       "  <thead>\n",
       "    <tr style=\"text-align: right;\">\n",
       "      <th></th>\n",
       "      <th>Tri-Gram 1</th>\n",
       "      <th>Tri-Gram 2</th>\n",
       "      <th>Correlation</th>\n",
       "    </tr>\n",
       "  </thead>\n",
       "  <tbody>\n",
       "    <tr>\n",
       "      <th>1848</th>\n",
       "      <td>front of me</td>\n",
       "      <td>in front of</td>\n",
       "      <td>0.782169</td>\n",
       "    </tr>\n",
       "    <tr>\n",
       "      <th>3048</th>\n",
       "      <td>in front of</td>\n",
       "      <td>front of me</td>\n",
       "      <td>0.782169</td>\n",
       "    </tr>\n",
       "    <tr>\n",
       "      <th>8581</th>\n",
       "      <td>through the drive</td>\n",
       "      <td>went through the</td>\n",
       "      <td>0.761323</td>\n",
       "    </tr>\n",
       "    <tr>\n",
       "      <th>9881</th>\n",
       "      <td>went through the</td>\n",
       "      <td>through the drive</td>\n",
       "      <td>0.761323</td>\n",
       "    </tr>\n",
       "    <tr>\n",
       "      <th>4798</th>\n",
       "      <td>my way to</td>\n",
       "      <td>on my way</td>\n",
       "      <td>0.740935</td>\n",
       "    </tr>\n",
       "  </tbody>\n",
       "</table>\n",
       "</div>"
      ],
      "text/plain": [
       "             Tri-Gram 1         Tri-Gram 2  Correlation\n",
       "1848        front of me        in front of     0.782169\n",
       "3048        in front of        front of me     0.782169\n",
       "8581  through the drive   went through the     0.761323\n",
       "9881   went through the  through the drive     0.761323\n",
       "4798          my way to          on my way     0.740935"
      ]
     },
     "execution_count": 4,
     "metadata": {},
     "output_type": "execute_result"
    }
   ],
   "source": [
    "correlations = features_df.corr()\n",
    "correlations_stacked = correlations.stack().reset_index()\n",
    "#set column names\n",
    "correlations_stacked.columns = ['Tri-Gram 1','Tri-Gram 2','Correlation']\n",
    "correlations_stacked = correlations_stacked[correlations_stacked[\"Correlation\"] < 1]\n",
    "correlations_stacked = correlations_stacked.sort_values(by=['Correlation'], ascending=False)\n",
    "correlations_stacked.head()"
   ]
  },
  {
   "cell_type": "code",
   "execution_count": null,
   "metadata": {},
   "outputs": [],
   "source": [
    "# !pip install seaborn"
   ]
  },
  {
   "cell_type": "code",
   "execution_count": 6,
   "metadata": {
    "ExecuteTime": {
     "end_time": "2022-04-13T01:47:11.834913Z",
     "start_time": "2022-04-13T01:47:10.806003Z"
    }
   },
   "outputs": [
    {
     "data": {
      "text/plain": [
       "<AxesSubplot:>"
      ]
     },
     "execution_count": 6,
     "metadata": {},
     "output_type": "execute_result"
    },
    {
     "data": {
      "image/png": "[encoded data removed]",
      "text/plain": [
       "<Figure size 1080x1080 with 2 Axes>"
      ]
     },
     "metadata": {
      "needs_background": "light"
     },
     "output_type": "display_data"
    }
   ],
   "source": [
    "%matplotlib inline\n",
    "import seaborn as sns\n",
    "import matplotlib.pyplot as plt\n",
    "plt.rcParams[\"figure.figsize\"] = (15,15)\n",
    "sns.heatmap(correlations)"
   ]
  },
  {
   "cell_type": "markdown",
   "metadata": {},
   "source": [
    "# Principle Component Analysis\n",
    "\n",
    "If you have an original matrix $Z$, you can decompose this matrix into two smaller matrices $X$ and $Q$. \n",
    "\n",
    "## Important Points:\n",
    "\n",
    "- Multiplying a vector by a matrix typically changes the direction of the vector. For instance:\n",
    "<figure>\n",
    "  <img src=\"https://raw.githubusercontent.com/ychennay/dso-560-nlp-text-analytics/main/images/multvector.png\" alt=\"my alt text\"/>\n",
    "    <figcaption><a href=\"https://lazyprogrammer.me/tutorial-principal-components-analysis-pca\">Lazy Programmer- \n",
    "        Tutorial to PCA</a></figcaption>\n",
    "</figure>"
   ]
  },
  {
   "cell_type": "markdown",
   "metadata": {},
   "source": [
    "<div class=\"alert-success\">\n",
    "convert $X$ into $\\lambda$ and $v$\n",
    "</div>"
   ]
  },
  {
   "cell_type": "markdown",
   "metadata": {},
   "source": [
    "However, there are eigenvalues λ and eigenvectors $v$ such that\n",
    "\n",
    "$$\n",
    "\\sum{X}v = \\lambda v\n",
    "$$\n",
    "\n",
    "Multiplying the eigenvectors $v$ with the eigenvalue $\\lambda$ does not change the direction of the eigenvector.\n",
    "\n",
    "Multiplying the eigenvector $v$ by the covariance matrix $\\sum{X}$ also does not change the direction of the eigenvector.\n",
    "\n",
    "If our data $X$ is of shape $N \\times D$, it turns out that we have $D$ eigenvalues and $D$ eigenvectors. This means we can arrange the eigenvalues $\\lambda$ in decreasing order so that\n",
    "\n",
    "$$\n",
    "\\lambda_3 > \\lambda_2 > \\lambda_5\n",
    "$$\n",
    "\n",
    "In this case, $\\lambda_3$ is the largest eigenvalue, followed by $\\lambda_2$, and then $\\lambda_5$. Then, we can arrange \n",
    "\n",
    "We can also rearrange the eigenvectors the same: $v_3$ will be the first column, $v_2$ will be the second column, and $v_5$ will be the third column.\n",
    "\n",
    "We'll end up with two matrices $V$ and $\\Lambda$:\n",
    "<figure>\n",
    "  <img src=\"https://raw.githubusercontent.com/ychennay/dso-560-nlp-text-analytics/main/images/pca1.png\" alt=\"my alt text\"/>\n",
    "    <figcaption><a href=\"https://lazyprogrammer.me/tutorial-principal-components-analysis-pca\">Lazy Programmer- \n",
    "        Tutorial to PCA</a></figcaption>\n",
    "</figure>"
   ]
  },
  {
   "cell_type": "code",
   "execution_count": 7,
   "metadata": {
    "ExecuteTime": {
     "end_time": "2022-04-13T01:55:40.726478Z",
     "start_time": "2022-04-13T01:55:40.708389Z"
    }
   },
   "outputs": [
    {
     "data": {
      "text/plain": [
       "(1526, 101)"
      ]
     },
     "execution_count": 7,
     "metadata": {},
     "output_type": "execute_result"
    }
   ],
   "source": [
    "# what is the shape of our features?\n",
    "features.shape"
   ]
  },
  {
   "cell_type": "code",
   "execution_count": 8,
   "metadata": {
    "ExecuteTime": {
     "end_time": "2022-04-13T01:55:46.195840Z",
     "start_time": "2022-04-13T01:55:45.944781Z"
    }
   },
   "outputs": [
    {
     "data": {
      "text/plain": [
       "array([[-0.22699843, -0.08990934, -0.0118884 , -0.10431155],\n",
       "       [-0.19585292, -0.07043219, -0.07382814,  0.17451204],\n",
       "       [-0.14766937,  0.73485456, -0.38673391, -0.20686658],\n",
       "       ...,\n",
       "       [-0.20875421, -0.00465901, -0.08701675, -0.11252726],\n",
       "       [-0.19224759, -0.0394181 ,  0.07677258,  0.02024213],\n",
       "       [-0.2264154 , -0.09140419, -0.02434323, -0.06394757]])"
      ]
     },
     "execution_count": 8,
     "metadata": {},
     "output_type": "execute_result"
    }
   ],
   "source": [
    "from sklearn.decomposition import PCA\n",
    "\n",
    "pca = PCA(n_components=4)\n",
    "\n",
    "Z = pca.fit_transform(features)\n",
    "\n",
    "# what is the shape of Z?\n",
    "Z"
   ]
  },
  {
   "cell_type": "code",
   "execution_count": 9,
   "metadata": {
    "ExecuteTime": {
     "end_time": "2022-04-13T01:58:06.259093Z",
     "start_time": "2022-04-13T01:58:05.993435Z"
    }
   },
   "outputs": [
    {
     "data": {
      "text/plain": [
       "<AxesSubplot:>"
      ]
     },
     "execution_count": 9,
     "metadata": {},
     "output_type": "execute_result"
    },
    {
     "data": {
      "image/png": "[encoded data removed]",
      "text/plain": [
       "<Figure size 360x360 with 2 Axes>"
      ]
     },
     "metadata": {
      "needs_background": "light"
     },
     "output_type": "display_data"
    }
   ],
   "source": [
    "# what will happen if we take the correlation matrix and covariance matrix of our new reduced features?\n",
    "import seaborn as sns\n",
    "import numpy as np\n",
    "import matplotlib.pyplot as plt\n",
    "covariances = pd.DataFrame(np.cov(Z.transpose()))\n",
    "plt.rcParams[\"figure.figsize\"] = (5,5)\n",
    "sns.heatmap(covariances)"
   ]
  },
  {
   "cell_type": "markdown",
   "metadata": {
    "ExecuteTime": {
     "end_time": "2022-04-13T01:59:02.684804Z",
     "start_time": "2022-04-13T01:59:02.675645Z"
    }
   },
   "source": [
    "<div class=\"alert-success\">\n",
    "feature colinearity is reduced</div>"
   ]
  },
  {
   "cell_type": "code",
   "execution_count": 11,
   "metadata": {
    "ExecuteTime": {
     "end_time": "2022-04-13T02:00:02.793903Z",
     "start_time": "2022-04-13T02:00:02.776979Z"
    }
   },
   "outputs": [
    {
     "data": {
      "text/plain": [
       "array([[0, 0, 0, ..., 0, 0, 0],\n",
       "       [0, 0, 0, ..., 0, 0, 0],\n",
       "       [0, 0, 0, ..., 0, 0, 0],\n",
       "       ...,\n",
       "       [0, 0, 0, ..., 0, 0, 0],\n",
       "       [0, 0, 0, ..., 0, 0, 0],\n",
       "       [1, 0, 0, ..., 0, 0, 0]])"
      ]
     },
     "execution_count": 11,
     "metadata": {},
     "output_type": "execute_result"
    }
   ],
   "source": [
    "features"
   ]
  },
  {
   "cell_type": "code",
   "execution_count": 12,
   "metadata": {
    "ExecuteTime": {
     "end_time": "2022-04-13T02:00:03.642337Z",
     "start_time": "2022-04-13T02:00:03.598640Z"
    }
   },
   "outputs": [
    {
     "data": {
      "text/plain": [
       "array([[-0.22699846, -0.08998155],\n",
       "       [-0.19585313, -0.07005047],\n",
       "       [-0.14766951,  0.7347342 ],\n",
       "       ...,\n",
       "       [-0.20875379, -0.00444642],\n",
       "       [-0.19224795, -0.03882678],\n",
       "       [-0.22641544, -0.09143615]])"
      ]
     },
     "execution_count": 12,
     "metadata": {},
     "output_type": "execute_result"
    }
   ],
   "source": [
    "pca = PCA(n_components=2)\n",
    "Z_two_dimensions = pca.fit_transform(features)\n",
    "Z_two_dimensions"
   ]
  },
  {
   "cell_type": "code",
   "execution_count": 13,
   "metadata": {
    "ExecuteTime": {
     "end_time": "2022-04-13T02:00:08.661269Z",
     "start_time": "2022-04-13T02:00:08.565747Z"
    }
   },
   "outputs": [
    {
     "data": {
      "image/png": "[encoded data removed]",
      "text/plain": [
       "<Figure size 360x360 with 1 Axes>"
      ]
     },
     "metadata": {
      "needs_background": "light"
     },
     "output_type": "display_data"
    }
   ],
   "source": [
    "import matplotlib.pyplot as plt\n",
    "\n",
    "plt.scatter(Z_two_dimensions[:,0], Z_two_dimensions[:, 1])\n",
    "reduced_features_df = pd.DataFrame(Z_two_dimensions, columns=[\"x1\", \"x2\"])\n",
    "reduced_features_df[\"text\"] = text"
   ]
  },
  {
   "cell_type": "markdown",
   "metadata": {},
   "source": [
    "<div class=\"alert-success\">\n",
    "<p><b>findings:</b>\n",
    "    <p>(1) many clumpings\n",
    "    <p>(2) a wider variation in y axis (variations are good)\n",
    "</div>"
   ]
  },
  {
   "cell_type": "code",
   "execution_count": null,
   "metadata": {},
   "outputs": [],
   "source": [
    "reduced_features_df.to_csv(\"reduced_features.csv\")"
   ]
  },
  {
   "cell_type": "markdown",
   "metadata": {},
   "source": [
    "# Singular Value Decomposition\n",
    "\n",
    "Given an input matrix $A$, we want to try to represent it instead as three smaller matrices $U$, $\\sum$, and $V$. Instead of **$n$ original terms**, we want to represent each document as **$r$ concepts** (other referred to as **latent dimensions**, or **latent factors**)- from [Mining of Massive Datasets - Dimensionality Reduction: Singular Value Decomposition](https://www.youtube.com/watch?v=P5mlg91as1c):\n",
    "<figure>\n",
    "  <img src=\"https://raw.githubusercontent.com/ychennay/dso-560-nlp-text-analytics/main/images/svd.png\" alt=\"my alt text\"/>\n",
    "    <figcaption><i>\n",
    "        <a href=\"https://www.youtube.com/watch?v=P5mlg91as1c\">Mining of Massive Datasets - Dimensionality Reduction: Singular Value Decomposition</a> by Leskovec, Rajaraman, and Ullman (Stanford University)</i></figcaption>\n",
    "</figure>"
   ]
  },
  {
   "cell_type": "markdown",
   "metadata": {},
   "source": [
    "<div class=\"alert-success\">\n",
    "$U$: doc matrix, $\\sum$: strength matrix (diagnoal), and $V$: term/topic matrix\n",
    "</div>"
   ]
  },
  {
   "cell_type": "markdown",
   "metadata": {},
   "source": [
    "Here, **$A$ is your matrix of word vectors** - you could use any of the word vectorization techniques we have learned so far, include one-hot encoding, word count, TF-IDF.\n",
    "\n",
    "- $\\sum$ will be a **diagonal matrix** with values that are positive and sorted in decreasing order. Its value indicate the **variance (information encoded on that new dimension)**- therefore, the higher the value, the stronger that dimension is in capturing data from A, the original features. For our purposes, we can think of the rank of this $\\sum$ matrix as the number of desired dimensions. Instance, if we want to reduce $A$ from shape $1020 x 300$ to $1020 x 10$, we will want to reduce the rank of $\\sum$ from 300 to 10.\n",
    "\n",
    "- $U^T U = I$ and $V^T V = I$"
   ]
  },
  {
   "cell_type": "markdown",
   "metadata": {},
   "source": [
    "## Measuring the Quality of the Reconstruction\n",
    "\n",
    "A popular metric used for measuring the quality of the reconstruction is the [Frobenius Norm](https://en.wikipedia.org/wiki/Matrix_norm#Frobenius_norm). When you explain your methodology for reducing dimensions, usually managers / stakeholders will want to some way to compare multiple dimensionality techniques' ability to quantify its ability to retain information but trim dimensions:\n",
    "\n",
    "$$\n",
    "\\begin{equation}\n",
    "||A_{old}-A_{new}||_{F} = \\sqrt{\\sum_{ij}{(A^{old}_{ij}- A^{new}_{ij}}})^2\n",
    "\\end{equation}\n",
    "$$\n",
    "\n",
    "## Heuristic Step for How Many Dimensions to Keep\n",
    "\n",
    "1. Sum the $\\sum$ matrix's diagonal values: \n",
    "$$\n",
    "\\begin{equation}\n",
    "\\sum_{i}^{m}\\sigma_{i}\n",
    "\\end{equation}\n",
    "$$\n",
    "\n",
    "2. Define your threshold of \"information\" (variance) $\\alpha$ to keep: usually 80% to 90%. \n",
    "\n",
    "3. Define your cutoff point $C$: $$\n",
    "\\begin{equation}\n",
    "C = \\sum_{i}^{m}\\sigma_{i} \\alpha\n",
    "\\end{equation}\n",
    "$$\n",
    "\n",
    "4. Beginning with your largest singular value, sum your singular values $\\sigma_{i}$ until it is greater than C. Retain only those dimensions."
   ]
  },
  {
   "cell_type": "code",
   "execution_count": 14,
   "metadata": {
    "ExecuteTime": {
     "end_time": "2022-04-13T02:10:34.579458Z",
     "start_time": "2022-04-13T02:10:34.463611Z"
    }
   },
   "outputs": [
    {
     "data": {
      "image/png": "[encoded data removed]",
      "text/plain": [
       "<Figure size 360x360 with 1 Axes>"
      ]
     },
     "metadata": {
      "needs_background": "light"
     },
     "output_type": "display_data"
    }
   ],
   "source": [
    "import numpy as np\n",
    "import matplotlib.pyplot as plt\n",
    "from scipy.linalg import svd\n",
    "x = np.linspace(1,20, 20) # create the first dimension\n",
    "x = np.concatenate((x,x))\n",
    "y = x + np.random.normal(0,1, 40) # create the second dimension\n",
    "z = x + np.random.normal(0,2, 40) # create the third dimension\n",
    "a = x + np.random.normal(0,4, 40) # create the fourth dimension\n",
    "plt.scatter(x,y) # plot just the first two dimensions\n",
    "plt.show()"
   ]
  },
  {
   "cell_type": "code",
   "execution_count": 15,
   "metadata": {
    "ExecuteTime": {
     "end_time": "2022-04-13T02:10:34.748803Z",
     "start_time": "2022-04-13T02:10:34.742961Z"
    }
   },
   "outputs": [
    {
     "data": {
      "text/plain": [
       "array([[ 1.        , -0.5642078 ,  3.71490593, -0.26175664],\n",
       "       [ 2.        ,  2.62765971,  2.74702512,  3.56999581],\n",
       "       [ 3.        ,  3.53426403,  4.41149006,  4.67869901],\n",
       "       [ 4.        ,  5.39609013,  3.15120826,  3.419867  ],\n",
       "       [ 5.        ,  4.07920275,  6.13482776,  6.13327827],\n",
       "       [ 6.        ,  5.04805456,  3.76772937,  6.22652915],\n",
       "       [ 7.        ,  6.99601144,  6.11645536,  1.29027047],\n",
       "       [ 8.        ,  9.15432418,  8.36597575, -1.54013093],\n",
       "       [ 9.        , 10.85570634, 10.83793024,  8.29805019],\n",
       "       [10.        , 10.9721362 , 10.21977903,  9.23609942],\n",
       "       [11.        , 10.97983823, 10.36831241, 16.29335359],\n",
       "       [12.        , 11.49606331, 12.64341572, 11.34057683],\n",
       "       [13.        , 12.29815845, 12.21864507,  5.48522848],\n",
       "       [14.        , 15.97004844, 14.54961962, 19.2733457 ],\n",
       "       [15.        , 14.35955865, 17.34165813, 12.85990499],\n",
       "       [16.        , 15.05631789, 11.52486393,  7.90726559],\n",
       "       [17.        , 17.20565985, 16.48240955, 20.81997422],\n",
       "       [18.        , 19.23994343, 16.52330135, 18.08874494],\n",
       "       [19.        , 18.06458116, 16.68673773, 10.90452646],\n",
       "       [20.        , 20.8195947 , 22.34697149, 14.19440484],\n",
       "       [ 1.        , -0.81528693,  0.70232862,  1.15561232],\n",
       "       [ 2.        ,  2.08491265,  4.84150537,  5.06464777],\n",
       "       [ 3.        ,  2.24865242,  2.62093905,  8.62549875],\n",
       "       [ 4.        ,  3.60487327,  4.55050557, -2.91834235],\n",
       "       [ 5.        ,  4.86706154,  5.83199543,  8.96952794],\n",
       "       [ 6.        ,  5.15365244,  5.89799297,  6.64129492],\n",
       "       [ 7.        ,  8.47081167,  5.9616984 ,  8.26262479],\n",
       "       [ 8.        , 10.39538122,  6.54419468,  5.89779657],\n",
       "       [ 9.        ,  8.76549317, 11.64349752, -1.15462337],\n",
       "       [10.        , 10.62466218,  7.54705408,  3.30319874],\n",
       "       [11.        , 10.78644253, 13.36922154,  8.56607622],\n",
       "       [12.        , 12.26264621, 14.36635364,  6.15011666],\n",
       "       [13.        , 14.08981932, 11.13438381, 11.944347  ],\n",
       "       [14.        , 14.66438852, 13.48662784, 17.7369781 ],\n",
       "       [15.        , 15.11055588, 14.38942211, 16.77421622],\n",
       "       [16.        , 16.14586507, 17.17472726, 15.1252762 ],\n",
       "       [17.        , 17.02825203, 16.53628555, 16.59524369],\n",
       "       [18.        , 19.61397469, 21.10526794, 14.03962384],\n",
       "       [19.        , 18.50079857, 21.68025705, 23.71984667],\n",
       "       [20.        , 20.67947396, 17.9235994 , 22.52647751]])"
      ]
     },
     "execution_count": 15,
     "metadata": {},
     "output_type": "execute_result"
    }
   ],
   "source": [
    "A = np.stack([x,y,z,a]).T\n",
    "A"
   ]
  },
  {
   "cell_type": "code",
   "execution_count": 16,
   "metadata": {
    "ExecuteTime": {
     "end_time": "2022-04-13T02:10:35.510936Z",
     "start_time": "2022-04-13T02:10:35.475551Z"
    }
   },
   "outputs": [
    {
     "name": "stdout",
     "output_type": "stream",
     "text": [
      "s is [149.54315026  23.94965811   9.51377133   4.06864858] ((4,))\n",
      "\n",
      "U is [[-0.01325381 -0.06117706 -0.30875814 ... -0.21721491 -0.29603261\n",
      "  -0.17241183]\n",
      " [-0.03636142  0.04780702 -0.03578506 ... -0.22589383  0.01363527\n",
      "  -0.17021175]\n",
      " [-0.05200722  0.04742362 -0.09772155 ... -0.23050266 -0.17646295\n",
      "   0.25064772]\n",
      " ...\n",
      " [-0.24431123 -0.14827537 -0.17163684 ...  0.8446137  -0.06272685\n",
      "  -0.00752467]\n",
      " [-0.27612483  0.20235834 -0.28337721 ... -0.03760674  0.83542812\n",
      "  -0.03335516]\n",
      " [-0.27048984  0.17197135  0.18680014 ... -0.00593298 -0.08295039\n",
      "   0.83994772]] ((40, 40))\n",
      "\n",
      "V is [[-5.04154563e-01 -5.16633086e-01 -5.09298043e-01 -4.68544486e-01]\n",
      " [-2.56081029e-01 -2.53241005e-01 -3.01731235e-01  8.82751246e-01]\n",
      " [ 3.08555654e-01  5.16920863e-01 -7.97728358e-01 -3.48668495e-02]\n",
      " [-7.64881750e-01  6.33839151e-01  1.14905321e-01 -7.78382129e-04]] ((4, 4))\n"
     ]
    }
   ],
   "source": [
    "D = 1\n",
    "U, s, V = svd(A)\n",
    "print(f\"s is {s} ({s.shape})\\n\")\n",
    "print(f\"U is {U} ({U.shape})\\n\")\n",
    "print(f\"V is {V} ({V.shape})\")"
   ]
  },
  {
   "cell_type": "code",
   "execution_count": 17,
   "metadata": {
    "ExecuteTime": {
     "end_time": "2022-04-13T02:10:37.047552Z",
     "start_time": "2022-04-13T02:10:37.014875Z"
    }
   },
   "outputs": [
    {
     "data": {
      "text/plain": [
       "array([[ -1.98201584,   0.        ,   0.        ,   0.        ],\n",
       "       [ -5.43760143,   0.        ,   0.        ,   0.        ],\n",
       "       [ -7.7773233 ,   0.        ,   0.        ,   0.        ],\n",
       "       [ -8.01168097,   0.        ,   0.        ,   0.        ],\n",
       "       [-10.6263934 ,   0.        ,   0.        ,   0.        ],\n",
       "       [-10.46922247,   0.        ,   0.        ,   0.        ],\n",
       "       [-10.86310078,   0.        ,   0.        ,   0.        ],\n",
       "       [-12.30181847,   0.        ,   0.        ,   0.        ],\n",
       "       [-19.55355045,   0.        ,   0.        ,   0.        ],\n",
       "       [-20.24255112,   0.        ,   0.        ,   0.        ],\n",
       "       [-24.13297009,   0.        ,   0.        ,   0.        ],\n",
       "       [-23.74193304,   0.        ,   0.        ,   0.        ],\n",
       "       [-21.70065044,   0.        ,   0.        ,   0.        ],\n",
       "       [-31.74933193,   0.        ,   0.        ,   0.        ],\n",
       "       [-29.83845165,   0.        ,   0.        ,   0.        ],\n",
       "       [-25.41956131,   0.        ,   0.        ,   0.        ],\n",
       "       [-35.60918374,   0.        ,   0.        ,   0.        ],\n",
       "       [-35.90544021,   0.        ,   0.        ,   0.        ],\n",
       "       [-32.51947561,   0.        ,   0.        ,   0.        ],\n",
       "       [-38.87116167,   0.        ,   0.        ,   0.        ],\n",
       "       [ -0.98210074,   0.        ,   0.        ,   0.        ],\n",
       "       [ -6.92422598,   0.        ,   0.        ,   0.        ],\n",
       "       [ -8.05046094,   0.        ,   0.        ,   0.        ],\n",
       "       [ -4.82920542,   0.        ,   0.        ,   0.        ],\n",
       "       [-12.20810455,   0.        ,   0.        ,   0.        ],\n",
       "       [-11.80305313,   0.        ,   0.        ,   0.        ],\n",
       "       [-14.81307212,   0.        ,   0.        ,   0.        ],\n",
       "       [-15.50015999,   0.        ,   0.        ,   0.        ],\n",
       "       [-14.45495294,   0.        ,   0.        ,   0.        ],\n",
       "       [-15.92199306,   0.        ,   0.        ,   0.        ],\n",
       "       [-21.94083942,   0.        ,   0.        ,   0.        ],\n",
       "       [-22.58350254,   0.        ,   0.        ,   0.        ],\n",
       "       [-25.10045395,   0.        ,   0.        ,   0.        ],\n",
       "       [-29.81354862,   0.        ,   0.        ,   0.        ],\n",
       "       [-30.55690258,   0.        ,   0.        ,   0.        ],\n",
       "       [-32.24188084,   0.        ,   0.        ,   0.        ],\n",
       "       [-33.56549375,   0.        ,   0.        ,   0.        ],\n",
       "       [-36.53507038,   0.        ,   0.        ,   0.        ],\n",
       "       [-41.29257719,   0.        ,   0.        ,   0.        ],\n",
       "       [-40.44990261,   0.        ,   0.        ,   0.        ]])"
      ]
     },
     "execution_count": 17,
     "metadata": {},
     "output_type": "execute_result"
    }
   ],
   "source": [
    "s[D:] = 0\n",
    "S = np.zeros((A.shape[0], A.shape[1]))\n",
    "S[:A.shape[1], :A.shape[1]] = np.diag(s)\n",
    "A_reconstructed = U.dot(S.dot(V))\n",
    "np.sum((A_reconstructed - A) ** 2) ** (1/2) # Frobenius norm\n",
    "# reconstruct matrix\n",
    "U.dot(S)"
   ]
  },
  {
   "cell_type": "markdown",
   "metadata": {},
   "source": [
    "## Toy Example of SVD"
   ]
  },
  {
   "cell_type": "code",
   "execution_count": 18,
   "metadata": {
    "ExecuteTime": {
     "end_time": "2022-04-13T02:13:05.812502Z",
     "start_time": "2022-04-13T02:13:05.796838Z"
    }
   },
   "outputs": [
    {
     "name": "stdout",
     "output_type": "stream",
     "text": [
      "B:\n",
      " [[1 2]\n",
      " [3 4]\n",
      " [5 6]]\n"
     ]
    },
    {
     "data": {
      "text/plain": [
       "array([[9.52551809, 0.        ],\n",
       "       [0.        , 0.51430058],\n",
       "       [0.        , 0.        ]])"
      ]
     },
     "execution_count": 18,
     "metadata": {},
     "output_type": "execute_result"
    }
   ],
   "source": [
    "# define a matrix\n",
    "B = np.array([[1, 2], [3, 4], [5, 6]])\n",
    "print(\"B:\\n\", B)\n",
    "# Singular-value decomposition\n",
    "U, s, VT = svd(B)\n",
    "# create m x n Sigma matrix\n",
    "Sigma = np.zeros((B.shape[0],B.shape[1]))\n",
    "# populate Sigma with n x n diagonal matrix\n",
    "Sigma[:B.shape[1], :B.shape[1]] = np.diag(s)\n",
    "Sigma"
   ]
  },
  {
   "cell_type": "markdown",
   "metadata": {},
   "source": [
    "## Scikit Learn Example"
   ]
  },
  {
   "cell_type": "code",
   "execution_count": 19,
   "metadata": {
    "ExecuteTime": {
     "end_time": "2022-04-13T02:13:12.846804Z",
     "start_time": "2022-04-13T02:13:12.783799Z"
    }
   },
   "outputs": [
    {
     "data": {
      "text/plain": [
       "array([[ 0.        ,  0.        ,  0.        ,  0.        ,  0.        ],\n",
       "       [ 0.07792393,  0.12742924,  0.03175391,  0.27558989,  0.03146879],\n",
       "       [ 0.16065734,  0.73486171,  0.45968483, -0.28753403, -0.05665784],\n",
       "       ...,\n",
       "       [ 0.0413111 ,  0.10320619,  0.07699191,  0.01299525, -0.03551128],\n",
       "       [ 0.09679377,  0.18362019, -0.11844087,  0.2104232 , -0.11608958],\n",
       "       [ 0.02225144,  0.04069484,  0.00414506,  0.07054115, -0.00611502]])"
      ]
     },
     "execution_count": 19,
     "metadata": {},
     "output_type": "execute_result"
    }
   ],
   "source": [
    "from sklearn.decomposition import TruncatedSVD\n",
    "\n",
    "svd = TruncatedSVD(n_components=5)\n",
    "reduced_svd_features = svd.fit_transform(features)\n",
    "reduced_svd_features"
   ]
  },
  {
   "cell_type": "code",
   "execution_count": 20,
   "metadata": {
    "ExecuteTime": {
     "end_time": "2022-04-13T02:13:15.599919Z",
     "start_time": "2022-04-13T02:13:15.589571Z"
    }
   },
   "outputs": [
    {
     "data": {
      "text/plain": [
       "array([22.85188153, 12.60750076, 11.23869693, 10.78667046,  9.8252213 ])"
      ]
     },
     "execution_count": 20,
     "metadata": {},
     "output_type": "execute_result"
    }
   ],
   "source": [
    "svd.singular_values_"
   ]
  },
  {
   "cell_type": "code",
   "execution_count": null,
   "metadata": {},
   "outputs": [],
   "source": []
  },
  {
   "cell_type": "code",
   "execution_count": 21,
   "metadata": {
    "ExecuteTime": {
     "end_time": "2022-04-13T02:13:15.941554Z",
     "start_time": "2022-04-13T02:13:15.933352Z"
    }
   },
   "outputs": [
    {
     "data": {
      "text/plain": [
       "0.589010728283084"
      ]
     },
     "execution_count": 21,
     "metadata": {},
     "output_type": "execute_result"
    }
   ],
   "source": [
    "svd.explained_variance_.sum()"
   ]
  },
  {
   "cell_type": "code",
   "execution_count": null,
   "metadata": {},
   "outputs": [],
   "source": []
  },
  {
   "cell_type": "code",
   "execution_count": null,
   "metadata": {},
   "outputs": [],
   "source": []
  }
 ],
 "metadata": {
  "kernelspec": {
   "display_name": "Python 3",
   "language": "python",
   "name": "python3"
  },
  "language_info": {
   "codemirror_mode": {
    "name": "ipython",
    "version": 3
   },
   "file_extension": ".py",
   "mimetype": "text/x-python",
   "name": "python",
   "nbconvert_exporter": "python",
   "pygments_lexer": "ipython3",
   "version": "3.7.11"
  },
  "toc": {
   "base_numbering": 1,
   "nav_menu": {},
   "number_sections": true,
   "sideBar": true,
   "skip_h1_title": false,
   "title_cell": "Table of Contents",
   "title_sidebar": "Contents",
   "toc_cell": false,
   "toc_position": {},
   "toc_section_display": true,
   "toc_window_display": true
  },
  "varInspector": {
   "cols": {
    "lenName": 16,
    "lenType": 16,
    "lenVar": 40
   },
   "kernels_config": {
    "python": {
     "delete_cmd_postfix": "",
     "delete_cmd_prefix": "del ",
     "library": "var_list.py",
     "varRefreshCmd": "print(var_dic_list())"
    },
    "r": {
     "delete_cmd_postfix": ") ",
     "delete_cmd_prefix": "rm(",
     "library": "var_list.r",
     "varRefreshCmd": "cat(var_dic_list()) "
    }
   },
   "types_to_exclude": [
    "module",
    "function",
    "builtin_function_or_method",
    "instance",
    "_Feature"
   ],
   "window_display": false
  }
 },
 "nbformat": 4,
 "nbformat_minor": 2
}
