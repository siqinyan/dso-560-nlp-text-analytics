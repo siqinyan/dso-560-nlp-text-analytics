{
 "cells": [
  {
   "cell_type": "markdown",
   "metadata": {},
   "source": [
    "# Homework 4 (Due Tuesday, April 19th at 6:29pm PST)"
   ]
  },
  {
   "cell_type": "markdown",
   "metadata": {},
   "source": [
    "## Build A Classification Model w/ Amazon (7pts)\n",
    "\n",
    "Build a classification model using the **Amazon toy reviews dataset** that is able to predict on a hold-out set the sentiment of the reviews with at minimum 91% accuracy (do not round). \n",
    "\n",
    "You may incorporate as many samples as you wish (out of the original ~120,000) data points. However, **the class balance in your training and test set must be 50/50**.\n",
    "\n",
    "You will likely need to include some preprocessing techniques that we have learned about so far in this course.\n",
    "\n",
    "If you are unable to achieve 90% accuracy, then please show in this notebook at least **3 different models** that you have tried (ie. RNN using `word2vec`, `GloVe`, logistic regression, etc.)\n",
    "\n",
    "**Make sure to cite your sources if you use other people's code or ideas.**"
   ]
  },
  {
   "cell_type": "markdown",
   "metadata": {},
   "source": [
    "## Perform Topic Modelling (3 pts)\n",
    "\n",
    "Perform topic modelling on the `news_categories.csv` dataset. This dataset is from [News Category Dataset, Akash Gupta](https://www.kaggle.com/datasets/akash14/news-category-dataset). You may use the link to find what each `SECTION` integer maps to in terms of a human-readable category."
   ]
  },
  {
   "cell_type": "markdown",
   "metadata": {},
   "source": [
    "### Random Seeds"
   ]
  },
  {
   "cell_type": "markdown",
   "metadata": {},
   "source": [
    "Make sure to set the random seeds in your notebook so I can run your results and get the same exact output:\n",
    "\n",
    "```python\n",
    "from numpy.random import seed\n",
    "seed(42)\n",
    "\n",
    "from tensorflow import set_random_seed\n",
    "set_random_seed(32)\n",
    "```"
   ]
  }
 ],
 "metadata": {
  "kernelspec": {
   "display_name": "Python 3",
   "language": "python",
   "name": "python3"
  },
  "language_info": {
   "codemirror_mode": {
    "name": "ipython",
    "version": 3
   },
   "file_extension": ".py",
   "mimetype": "text/x-python",
   "name": "python",
   "nbconvert_exporter": "python",
   "pygments_lexer": "ipython3",
   "version": "3.7.11"
  },
  "toc": {
   "base_numbering": 1,
   "nav_menu": {},
   "number_sections": true,
   "sideBar": true,
   "skip_h1_title": false,
   "title_cell": "Table of Contents",
   "title_sidebar": "Contents",
   "toc_cell": false,
   "toc_position": {},
   "toc_section_display": true,
   "toc_window_display": false
  },
  "varInspector": {
   "cols": {
    "lenName": 16,
    "lenType": 16,
    "lenVar": 40
   },
   "kernels_config": {
    "python": {
     "delete_cmd_postfix": "",
     "delete_cmd_prefix": "del ",
     "library": "var_list.py",
     "varRefreshCmd": "print(var_dic_list())"
    },
    "r": {
     "delete_cmd_postfix": ") ",
     "delete_cmd_prefix": "rm(",
     "library": "var_list.r",
     "varRefreshCmd": "cat(var_dic_list()) "
    }
   },
   "types_to_exclude": [
    "module",
    "function",
    "builtin_function_or_method",
    "instance",
    "_Feature"
   ],
   "window_display": false
  }
 },
 "nbformat": 4,
 "nbformat_minor": 4
}
