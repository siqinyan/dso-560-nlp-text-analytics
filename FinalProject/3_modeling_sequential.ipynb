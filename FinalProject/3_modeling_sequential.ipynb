{
 "cells": [
  {
   "cell_type": "markdown",
   "id": "d83e4ab0",
   "metadata": {
    "ExecuteTime": {
     "end_time": "2022-05-12T19:23:22.352257Z",
     "start_time": "2022-05-12T19:23:22.255833Z"
    }
   },
   "source": [
    "**Reference**: \n",
    "\n",
    "`Using_RNNs_and_LSTMs` \n",
    "    https://colab.research.google.com/drive/1G6bxy1OlHPeVo6zAs8TxvN5du9PHhZQf?usp=sharing\n",
    "        \n",
    "`Deep_Learning_with_Word_Embeddings`\n",
    "    https://colab.research.google.com/drive/1CtQr7n6zp_mDJYpXNRSc3Fqg1JGqN194?usp=sharing"
   ]
  },
  {
   "cell_type": "code",
   "execution_count": 1,
   "id": "8902b959",
   "metadata": {
    "ExecuteTime": {
     "end_time": "2022-05-13T03:30:21.860533Z",
     "start_time": "2022-05-13T03:30:21.835773Z"
    }
   },
   "outputs": [],
   "source": [
    "import warnings\n",
    "warnings.filterwarnings(\"ignore\", category=FutureWarning)\n",
    "# warnings.filterwarnings(\"ignore\", category=VisibleDeprecationWarning)"
   ]
  },
  {
   "cell_type": "code",
   "execution_count": 2,
   "id": "8947a9d6",
   "metadata": {
    "ExecuteTime": {
     "end_time": "2022-05-13T03:30:26.129655Z",
     "start_time": "2022-05-13T03:30:23.329185Z"
    }
   },
   "outputs": [
    {
     "name": "stderr",
     "output_type": "stream",
     "text": [
      "Using TensorFlow backend.\n"
     ]
    }
   ],
   "source": [
    "%matplotlib inline\n",
    "import re\n",
    "import numpy as np\n",
    "import pandas as pd\n",
    "from typing import Dict\n",
    "from matplotlib import pyplot as plt\n",
    "\n",
    "import spacy\n",
    "from textacy.preprocessing.replace import urls, hashtags, numbers, emails, emojis, currency_symbols\n",
    "from textacy.preprocessing.remove import punctuation\n",
    "from keras.preprocessing.text import Tokenizer\n",
    "from keras.preprocessing.sequence import pad_sequences\n",
    "\n",
    "from sklearn.model_selection import train_test_split\n",
    "from sklearn.linear_model import LogisticRegression\n",
    "from keras.models import Sequential\n",
    "from keras.layers import Dense, Flatten, Embedding, Masking\n",
    "from keras import optimizers\n",
    "from keras.callbacks import EarlyStopping\n",
    "from keras.layers.recurrent import SimpleRNN, LSTM\n",
    "\n",
    "from clr import LRFinder, OneCycleLR"
   ]
  },
  {
   "cell_type": "code",
   "execution_count": 3,
   "id": "d718bcae",
   "metadata": {
    "ExecuteTime": {
     "end_time": "2022-05-13T03:30:26.782205Z",
     "start_time": "2022-05-13T03:30:26.622492Z"
    },
    "scrolled": true
   },
   "outputs": [],
   "source": [
    "data = pd.read_csv('./Data/steam_cleaned_v2.csv', index_col=0, na_filter=False)\n",
    "data['label'] = pd.to_numeric(data['label'])\n",
    "docs_cleaned = data['review'].tolist()\n",
    "labels = data['label']"
   ]
  },
  {
   "cell_type": "code",
   "execution_count": 4,
   "id": "49be8e83",
   "metadata": {
    "ExecuteTime": {
     "end_time": "2022-05-13T03:30:27.317914Z",
     "start_time": "2022-05-13T03:30:27.298919Z"
    }
   },
   "outputs": [
    {
     "data": {
      "text/html": [
       "<div>\n",
       "<style scoped>\n",
       "    .dataframe tbody tr th:only-of-type {\n",
       "        vertical-align: middle;\n",
       "    }\n",
       "\n",
       "    .dataframe tbody tr th {\n",
       "        vertical-align: top;\n",
       "    }\n",
       "\n",
       "    .dataframe thead th {\n",
       "        text-align: right;\n",
       "    }\n",
       "</style>\n",
       "<table border=\"1\" class=\"dataframe\">\n",
       "  <thead>\n",
       "    <tr style=\"text-align: right;\">\n",
       "      <th></th>\n",
       "      <th>review</th>\n",
       "      <th>label</th>\n",
       "    </tr>\n",
       "  </thead>\n",
       "  <tbody>\n",
       "    <tr>\n",
       "      <th>0</th>\n",
       "      <td>Great Game terrible Hopefully fix instead tryi...</td>\n",
       "      <td>0</td>\n",
       "    </tr>\n",
       "    <tr>\n",
       "      <th>1</th>\n",
       "      <td>Huh actually don t like ve ed game Edmund ve f...</td>\n",
       "      <td>0</td>\n",
       "    </tr>\n",
       "    <tr>\n",
       "      <th>2</th>\n",
       "      <td>trashy talking le</td>\n",
       "      <td>0</td>\n",
       "    </tr>\n",
       "    <tr>\n",
       "      <th>3</th>\n",
       "      <td>Lag shit</td>\n",
       "      <td>0</td>\n",
       "    </tr>\n",
       "    <tr>\n",
       "      <th>4</th>\n",
       "      <td>policies</td>\n",
       "      <td>0</td>\n",
       "    </tr>\n",
       "    <tr>\n",
       "      <th>...</th>\n",
       "      <td>...</td>\n",
       "      <td>...</td>\n",
       "    </tr>\n",
       "    <tr>\n",
       "      <th>64244</th>\n",
       "      <td>good game like</td>\n",
       "      <td>1</td>\n",
       "    </tr>\n",
       "    <tr>\n",
       "      <th>64245</th>\n",
       "      <td>runs super streamlined</td>\n",
       "      <td>1</td>\n",
       "    </tr>\n",
       "    <tr>\n",
       "      <th>64246</th>\n",
       "      <td>like game iot gun b</td>\n",
       "      <td>1</td>\n",
       "    </tr>\n",
       "    <tr>\n",
       "      <th>64247</th>\n",
       "      <td>Bought 3rd time PC normal legendary edition pi...</td>\n",
       "      <td>1</td>\n",
       "    </tr>\n",
       "    <tr>\n",
       "      <th>64248</th>\n",
       "      <td>damn good game super</td>\n",
       "      <td>1</td>\n",
       "    </tr>\n",
       "  </tbody>\n",
       "</table>\n",
       "<p>64249 rows × 2 columns</p>\n",
       "</div>"
      ],
      "text/plain": [
       "                                                  review  label\n",
       "0      Great Game terrible Hopefully fix instead tryi...      0\n",
       "1      Huh actually don t like ve ed game Edmund ve f...      0\n",
       "2                                      trashy talking le      0\n",
       "3                                               Lag shit      0\n",
       "4                                               policies      0\n",
       "...                                                  ...    ...\n",
       "64244                                     good game like      1\n",
       "64245                             runs super streamlined      1\n",
       "64246                                like game iot gun b      1\n",
       "64247  Bought 3rd time PC normal legendary edition pi...      1\n",
       "64248                               damn good game super      1\n",
       "\n",
       "[64249 rows x 2 columns]"
      ]
     },
     "execution_count": 4,
     "metadata": {},
     "output_type": "execute_result"
    }
   ],
   "source": [
    "data"
   ]
  },
  {
   "cell_type": "markdown",
   "id": "ee405ead",
   "metadata": {},
   "source": [
    "# data tokenization"
   ]
  },
  {
   "cell_type": "code",
   "execution_count": 5,
   "id": "bff381e9",
   "metadata": {
    "ExecuteTime": {
     "end_time": "2022-05-13T03:30:37.792831Z",
     "start_time": "2022-05-13T03:30:37.549993Z"
    }
   },
   "outputs": [
    {
     "data": {
      "text/plain": [
       "<AxesSubplot:>"
      ]
     },
     "execution_count": 5,
     "metadata": {},
     "output_type": "execute_result"
    },
    {
     "data": {
      "image/png": "[encoded data removed]",
      "text/plain": [
       "<Figure size 432x288 with 1 Axes>"
      ]
     },
     "metadata": {
      "needs_background": "light"
     },
     "output_type": "display_data"
    }
   ],
   "source": [
    "pd.Series(docs_cleaned).str.len().hist()"
   ]
  },
  {
   "cell_type": "code",
   "execution_count": 6,
   "id": "c4c4ad44",
   "metadata": {
    "ExecuteTime": {
     "end_time": "2022-05-13T03:30:38.047588Z",
     "start_time": "2022-05-13T03:30:38.018087Z"
    }
   },
   "outputs": [
    {
     "data": {
      "text/plain": [
       "count    64249.000000\n",
       "mean       155.854146\n",
       "std        321.142423\n",
       "min          0.000000\n",
       "25%         17.000000\n",
       "50%         51.000000\n",
       "75%        153.000000\n",
       "max       4544.000000\n",
       "dtype: float64"
      ]
     },
     "execution_count": 6,
     "metadata": {},
     "output_type": "execute_result"
    }
   ],
   "source": [
    "pd.Series(docs_cleaned).str.len().describe()"
   ]
  },
  {
   "cell_type": "markdown",
   "id": "ab44aa88",
   "metadata": {},
   "source": [
    " > since 75% of the reviews are less than 153 words, set `MAX_SEQUENCE_LENGTH` to 150"
   ]
  },
  {
   "cell_type": "code",
   "execution_count": 7,
   "id": "8482d2ee",
   "metadata": {
    "ExecuteTime": {
     "end_time": "2022-05-13T03:30:39.474886Z",
     "start_time": "2022-05-13T03:30:39.466793Z"
    }
   },
   "outputs": [],
   "source": [
    "MAX_SEQUENCE_LENGTH = 150"
   ]
  },
  {
   "cell_type": "code",
   "execution_count": 8,
   "id": "382fa149",
   "metadata": {
    "ExecuteTime": {
     "end_time": "2022-05-13T03:30:42.901770Z",
     "start_time": "2022-05-13T03:30:41.824763Z"
    }
   },
   "outputs": [],
   "source": [
    "tokenizer = Tokenizer(num_words=5000, oov_token=\"UNKNOWN_TOKEN\")\n",
    "tokenizer.fit_on_texts(docs_cleaned)"
   ]
  },
  {
   "cell_type": "code",
   "execution_count": 9,
   "id": "85743369",
   "metadata": {
    "ExecuteTime": {
     "end_time": "2022-05-13T03:30:43.884020Z",
     "start_time": "2022-05-13T03:30:43.872278Z"
    }
   },
   "outputs": [],
   "source": [
    "def integer_encode_documents(docs, tokenizer):\n",
    "    return tokenizer.texts_to_sequences(docs)"
   ]
  },
  {
   "cell_type": "code",
   "execution_count": 10,
   "id": "2d3d4f13",
   "metadata": {
    "ExecuteTime": {
     "end_time": "2022-05-13T03:30:45.134173Z",
     "start_time": "2022-05-13T03:30:44.348019Z"
    }
   },
   "outputs": [],
   "source": [
    "# integer encode the documents\n",
    "docs_encoded = integer_encode_documents(docs_cleaned, tokenizer)"
   ]
  },
  {
   "cell_type": "code",
   "execution_count": 11,
   "id": "70f37dca",
   "metadata": {
    "ExecuteTime": {
     "end_time": "2022-05-13T03:30:45.975043Z",
     "start_time": "2022-05-13T03:30:45.956730Z"
    }
   },
   "outputs": [
    {
     "name": "stderr",
     "output_type": "stream",
     "text": [
      "/Users/antheayang/opt/anaconda3/lib/python3.7/site-packages/ipykernel_launcher.py:1: VisibleDeprecationWarning: Creating an ndarray from ragged nested sequences (which is a list-or-tuple of lists-or-tuples-or ndarrays with different lengths or shapes) is deprecated. If you meant to do this, you must specify 'dtype=object' when creating the ndarray.\n",
      "  \"\"\"Entry point for launching an IPython kernel.\n"
     ]
    },
    {
     "data": {
      "text/plain": [
       "(64249,)"
      ]
     },
     "execution_count": 11,
     "metadata": {},
     "output_type": "execute_result"
    }
   ],
   "source": [
    "np.array(docs_encoded).shape"
   ]
  },
  {
   "cell_type": "code",
   "execution_count": 12,
   "id": "8c7a3924",
   "metadata": {
    "ExecuteTime": {
     "end_time": "2022-05-13T03:30:46.967680Z",
     "start_time": "2022-05-13T03:30:46.793041Z"
    }
   },
   "outputs": [
    {
     "data": {
      "text/plain": [
       "array([[  12,    2,  167, ...,    0,    0,    0],\n",
       "       [3647,   54,   11, ...,    0,    0,    0],\n",
       "       [   1,  700, 3881, ...,    0,    0,    0],\n",
       "       ...,\n",
       "       [   5,    2,    1, ...,    0,    0,    0],\n",
       "       [ 108, 1350,    9, ...,    0,    0,    0],\n",
       "       [ 438,    7,    2, ...,    0,    0,    0]], dtype=int32)"
      ]
     },
     "execution_count": 12,
     "metadata": {},
     "output_type": "execute_result"
    }
   ],
   "source": [
    "docs_padded = pad_sequences(docs_encoded, maxlen=MAX_SEQUENCE_LENGTH, padding='post')\n",
    "docs_padded"
   ]
  },
  {
   "cell_type": "code",
   "execution_count": 13,
   "id": "61452ef7",
   "metadata": {
    "ExecuteTime": {
     "end_time": "2022-05-13T03:30:47.941106Z",
     "start_time": "2022-05-13T03:30:47.935433Z"
    }
   },
   "outputs": [
    {
     "data": {
      "text/plain": [
       "(64249, 150)"
      ]
     },
     "execution_count": 13,
     "metadata": {},
     "output_type": "execute_result"
    }
   ],
   "source": [
    "docs_padded.shape"
   ]
  },
  {
   "cell_type": "code",
   "execution_count": 14,
   "id": "d5a227c2",
   "metadata": {
    "ExecuteTime": {
     "end_time": "2022-05-13T03:30:49.102589Z",
     "start_time": "2022-05-13T03:30:49.093730Z"
    }
   },
   "outputs": [
    {
     "name": "stdout",
     "output_type": "stream",
     "text": [
      "Vocab size is 27757 unique tokens.\n"
     ]
    }
   ],
   "source": [
    "vocab_size = int(len(tokenizer.word_index) * 1.3)\n",
    "print(f\"Vocab size is {vocab_size} unique tokens.\")"
   ]
  },
  {
   "cell_type": "code",
   "execution_count": 15,
   "id": "3ce40ecc",
   "metadata": {
    "ExecuteTime": {
     "end_time": "2022-05-13T03:30:50.038348Z",
     "start_time": "2022-05-13T03:30:50.022014Z"
    }
   },
   "outputs": [
    {
     "data": {
      "text/html": [
       "<div>\n",
       "<style scoped>\n",
       "    .dataframe tbody tr th:only-of-type {\n",
       "        vertical-align: middle;\n",
       "    }\n",
       "\n",
       "    .dataframe tbody tr th {\n",
       "        vertical-align: top;\n",
       "    }\n",
       "\n",
       "    .dataframe thead th {\n",
       "        text-align: right;\n",
       "    }\n",
       "</style>\n",
       "<table border=\"1\" class=\"dataframe\">\n",
       "  <thead>\n",
       "    <tr style=\"text-align: right;\">\n",
       "      <th></th>\n",
       "      <th>0</th>\n",
       "      <th>1</th>\n",
       "      <th>2</th>\n",
       "      <th>3</th>\n",
       "      <th>4</th>\n",
       "      <th>5</th>\n",
       "      <th>6</th>\n",
       "      <th>7</th>\n",
       "      <th>8</th>\n",
       "      <th>9</th>\n",
       "      <th>...</th>\n",
       "      <th>140</th>\n",
       "      <th>141</th>\n",
       "      <th>142</th>\n",
       "      <th>143</th>\n",
       "      <th>144</th>\n",
       "      <th>145</th>\n",
       "      <th>146</th>\n",
       "      <th>147</th>\n",
       "      <th>148</th>\n",
       "      <th>149</th>\n",
       "    </tr>\n",
       "  </thead>\n",
       "  <tbody>\n",
       "    <tr>\n",
       "      <th>0</th>\n",
       "      <td>12</td>\n",
       "      <td>2</td>\n",
       "      <td>167</td>\n",
       "      <td>942</td>\n",
       "      <td>72</td>\n",
       "      <td>117</td>\n",
       "      <td>104</td>\n",
       "      <td>540</td>\n",
       "      <td>699</td>\n",
       "      <td>0</td>\n",
       "      <td>...</td>\n",
       "      <td>0</td>\n",
       "      <td>0</td>\n",
       "      <td>0</td>\n",
       "      <td>0</td>\n",
       "      <td>0</td>\n",
       "      <td>0</td>\n",
       "      <td>0</td>\n",
       "      <td>0</td>\n",
       "      <td>0</td>\n",
       "      <td>0</td>\n",
       "    </tr>\n",
       "    <tr>\n",
       "      <th>1</th>\n",
       "      <td>3647</td>\n",
       "      <td>54</td>\n",
       "      <td>11</td>\n",
       "      <td>4</td>\n",
       "      <td>5</td>\n",
       "      <td>16</td>\n",
       "      <td>3284</td>\n",
       "      <td>2</td>\n",
       "      <td>1</td>\n",
       "      <td>16</td>\n",
       "      <td>...</td>\n",
       "      <td>0</td>\n",
       "      <td>0</td>\n",
       "      <td>0</td>\n",
       "      <td>0</td>\n",
       "      <td>0</td>\n",
       "      <td>0</td>\n",
       "      <td>0</td>\n",
       "      <td>0</td>\n",
       "      <td>0</td>\n",
       "      <td>0</td>\n",
       "    </tr>\n",
       "    <tr>\n",
       "      <th>2</th>\n",
       "      <td>1</td>\n",
       "      <td>700</td>\n",
       "      <td>3881</td>\n",
       "      <td>0</td>\n",
       "      <td>0</td>\n",
       "      <td>0</td>\n",
       "      <td>0</td>\n",
       "      <td>0</td>\n",
       "      <td>0</td>\n",
       "      <td>0</td>\n",
       "      <td>...</td>\n",
       "      <td>0</td>\n",
       "      <td>0</td>\n",
       "      <td>0</td>\n",
       "      <td>0</td>\n",
       "      <td>0</td>\n",
       "      <td>0</td>\n",
       "      <td>0</td>\n",
       "      <td>0</td>\n",
       "      <td>0</td>\n",
       "      <td>0</td>\n",
       "    </tr>\n",
       "    <tr>\n",
       "      <th>3</th>\n",
       "      <td>308</td>\n",
       "      <td>69</td>\n",
       "      <td>0</td>\n",
       "      <td>0</td>\n",
       "      <td>0</td>\n",
       "      <td>0</td>\n",
       "      <td>0</td>\n",
       "      <td>0</td>\n",
       "      <td>0</td>\n",
       "      <td>0</td>\n",
       "      <td>...</td>\n",
       "      <td>0</td>\n",
       "      <td>0</td>\n",
       "      <td>0</td>\n",
       "      <td>0</td>\n",
       "      <td>0</td>\n",
       "      <td>0</td>\n",
       "      <td>0</td>\n",
       "      <td>0</td>\n",
       "      <td>0</td>\n",
       "      <td>0</td>\n",
       "    </tr>\n",
       "    <tr>\n",
       "      <th>4</th>\n",
       "      <td>3593</td>\n",
       "      <td>0</td>\n",
       "      <td>0</td>\n",
       "      <td>0</td>\n",
       "      <td>0</td>\n",
       "      <td>0</td>\n",
       "      <td>0</td>\n",
       "      <td>0</td>\n",
       "      <td>0</td>\n",
       "      <td>0</td>\n",
       "      <td>...</td>\n",
       "      <td>0</td>\n",
       "      <td>0</td>\n",
       "      <td>0</td>\n",
       "      <td>0</td>\n",
       "      <td>0</td>\n",
       "      <td>0</td>\n",
       "      <td>0</td>\n",
       "      <td>0</td>\n",
       "      <td>0</td>\n",
       "      <td>0</td>\n",
       "    </tr>\n",
       "    <tr>\n",
       "      <th>...</th>\n",
       "      <td>...</td>\n",
       "      <td>...</td>\n",
       "      <td>...</td>\n",
       "      <td>...</td>\n",
       "      <td>...</td>\n",
       "      <td>...</td>\n",
       "      <td>...</td>\n",
       "      <td>...</td>\n",
       "      <td>...</td>\n",
       "      <td>...</td>\n",
       "      <td>...</td>\n",
       "      <td>...</td>\n",
       "      <td>...</td>\n",
       "      <td>...</td>\n",
       "      <td>...</td>\n",
       "      <td>...</td>\n",
       "      <td>...</td>\n",
       "      <td>...</td>\n",
       "      <td>...</td>\n",
       "      <td>...</td>\n",
       "      <td>...</td>\n",
       "    </tr>\n",
       "    <tr>\n",
       "      <th>64244</th>\n",
       "      <td>7</td>\n",
       "      <td>2</td>\n",
       "      <td>5</td>\n",
       "      <td>0</td>\n",
       "      <td>0</td>\n",
       "      <td>0</td>\n",
       "      <td>0</td>\n",
       "      <td>0</td>\n",
       "      <td>0</td>\n",
       "      <td>0</td>\n",
       "      <td>...</td>\n",
       "      <td>0</td>\n",
       "      <td>0</td>\n",
       "      <td>0</td>\n",
       "      <td>0</td>\n",
       "      <td>0</td>\n",
       "      <td>0</td>\n",
       "      <td>0</td>\n",
       "      <td>0</td>\n",
       "      <td>0</td>\n",
       "      <td>0</td>\n",
       "    </tr>\n",
       "    <tr>\n",
       "      <th>64245</th>\n",
       "      <td>298</td>\n",
       "      <td>217</td>\n",
       "      <td>4294</td>\n",
       "      <td>0</td>\n",
       "      <td>0</td>\n",
       "      <td>0</td>\n",
       "      <td>0</td>\n",
       "      <td>0</td>\n",
       "      <td>0</td>\n",
       "      <td>0</td>\n",
       "      <td>...</td>\n",
       "      <td>0</td>\n",
       "      <td>0</td>\n",
       "      <td>0</td>\n",
       "      <td>0</td>\n",
       "      <td>0</td>\n",
       "      <td>0</td>\n",
       "      <td>0</td>\n",
       "      <td>0</td>\n",
       "      <td>0</td>\n",
       "      <td>0</td>\n",
       "    </tr>\n",
       "    <tr>\n",
       "      <th>64246</th>\n",
       "      <td>5</td>\n",
       "      <td>2</td>\n",
       "      <td>1</td>\n",
       "      <td>394</td>\n",
       "      <td>82</td>\n",
       "      <td>0</td>\n",
       "      <td>0</td>\n",
       "      <td>0</td>\n",
       "      <td>0</td>\n",
       "      <td>0</td>\n",
       "      <td>...</td>\n",
       "      <td>0</td>\n",
       "      <td>0</td>\n",
       "      <td>0</td>\n",
       "      <td>0</td>\n",
       "      <td>0</td>\n",
       "      <td>0</td>\n",
       "      <td>0</td>\n",
       "      <td>0</td>\n",
       "      <td>0</td>\n",
       "      <td>0</td>\n",
       "    </tr>\n",
       "    <tr>\n",
       "      <th>64247</th>\n",
       "      <td>108</td>\n",
       "      <td>1350</td>\n",
       "      <td>9</td>\n",
       "      <td>85</td>\n",
       "      <td>555</td>\n",
       "      <td>1875</td>\n",
       "      <td>534</td>\n",
       "      <td>1</td>\n",
       "      <td>2466</td>\n",
       "      <td>170</td>\n",
       "      <td>...</td>\n",
       "      <td>0</td>\n",
       "      <td>0</td>\n",
       "      <td>0</td>\n",
       "      <td>0</td>\n",
       "      <td>0</td>\n",
       "      <td>0</td>\n",
       "      <td>0</td>\n",
       "      <td>0</td>\n",
       "      <td>0</td>\n",
       "      <td>0</td>\n",
       "    </tr>\n",
       "    <tr>\n",
       "      <th>64248</th>\n",
       "      <td>438</td>\n",
       "      <td>7</td>\n",
       "      <td>2</td>\n",
       "      <td>217</td>\n",
       "      <td>0</td>\n",
       "      <td>0</td>\n",
       "      <td>0</td>\n",
       "      <td>0</td>\n",
       "      <td>0</td>\n",
       "      <td>0</td>\n",
       "      <td>...</td>\n",
       "      <td>0</td>\n",
       "      <td>0</td>\n",
       "      <td>0</td>\n",
       "      <td>0</td>\n",
       "      <td>0</td>\n",
       "      <td>0</td>\n",
       "      <td>0</td>\n",
       "      <td>0</td>\n",
       "      <td>0</td>\n",
       "      <td>0</td>\n",
       "    </tr>\n",
       "  </tbody>\n",
       "</table>\n",
       "<p>64249 rows × 150 columns</p>\n",
       "</div>"
      ],
      "text/plain": [
       "        0     1     2    3    4     5     6    7     8    9    ...  140  141  \\\n",
       "0        12     2   167  942   72   117   104  540   699    0  ...    0    0   \n",
       "1      3647    54    11    4    5    16  3284    2     1   16  ...    0    0   \n",
       "2         1   700  3881    0    0     0     0    0     0    0  ...    0    0   \n",
       "3       308    69     0    0    0     0     0    0     0    0  ...    0    0   \n",
       "4      3593     0     0    0    0     0     0    0     0    0  ...    0    0   \n",
       "...     ...   ...   ...  ...  ...   ...   ...  ...   ...  ...  ...  ...  ...   \n",
       "64244     7     2     5    0    0     0     0    0     0    0  ...    0    0   \n",
       "64245   298   217  4294    0    0     0     0    0     0    0  ...    0    0   \n",
       "64246     5     2     1  394   82     0     0    0     0    0  ...    0    0   \n",
       "64247   108  1350     9   85  555  1875   534    1  2466  170  ...    0    0   \n",
       "64248   438     7     2  217    0     0     0    0     0    0  ...    0    0   \n",
       "\n",
       "       142  143  144  145  146  147  148  149  \n",
       "0        0    0    0    0    0    0    0    0  \n",
       "1        0    0    0    0    0    0    0    0  \n",
       "2        0    0    0    0    0    0    0    0  \n",
       "3        0    0    0    0    0    0    0    0  \n",
       "4        0    0    0    0    0    0    0    0  \n",
       "...    ...  ...  ...  ...  ...  ...  ...  ...  \n",
       "64244    0    0    0    0    0    0    0    0  \n",
       "64245    0    0    0    0    0    0    0    0  \n",
       "64246    0    0    0    0    0    0    0    0  \n",
       "64247    0    0    0    0    0    0    0    0  \n",
       "64248    0    0    0    0    0    0    0    0  \n",
       "\n",
       "[64249 rows x 150 columns]"
      ]
     },
     "execution_count": 15,
     "metadata": {},
     "output_type": "execute_result"
    }
   ],
   "source": [
    "data_docs_padded = pd.DataFrame(docs_padded)\n",
    "data_docs_padded"
   ]
  },
  {
   "cell_type": "code",
   "execution_count": 16,
   "id": "6aaf863c",
   "metadata": {
    "ExecuteTime": {
     "end_time": "2022-05-13T03:30:50.933343Z",
     "start_time": "2022-05-13T03:30:50.887223Z"
    }
   },
   "outputs": [],
   "source": [
    "data_docs_padded = pd.concat([data_docs_padded.reset_index(drop=True),\n",
    "                              data.reset_index(drop=True)], axis=1, ignore_index=True)"
   ]
  },
  {
   "cell_type": "code",
   "execution_count": 17,
   "id": "778fa89f",
   "metadata": {
    "ExecuteTime": {
     "end_time": "2022-05-13T03:30:51.814667Z",
     "start_time": "2022-05-13T03:30:51.794214Z"
    }
   },
   "outputs": [
    {
     "data": {
      "text/html": [
       "<div>\n",
       "<style scoped>\n",
       "    .dataframe tbody tr th:only-of-type {\n",
       "        vertical-align: middle;\n",
       "    }\n",
       "\n",
       "    .dataframe tbody tr th {\n",
       "        vertical-align: top;\n",
       "    }\n",
       "\n",
       "    .dataframe thead th {\n",
       "        text-align: right;\n",
       "    }\n",
       "</style>\n",
       "<table border=\"1\" class=\"dataframe\">\n",
       "  <thead>\n",
       "    <tr style=\"text-align: right;\">\n",
       "      <th></th>\n",
       "      <th>0</th>\n",
       "      <th>1</th>\n",
       "      <th>2</th>\n",
       "      <th>3</th>\n",
       "      <th>4</th>\n",
       "      <th>5</th>\n",
       "      <th>6</th>\n",
       "      <th>7</th>\n",
       "      <th>8</th>\n",
       "      <th>9</th>\n",
       "      <th>...</th>\n",
       "      <th>142</th>\n",
       "      <th>143</th>\n",
       "      <th>144</th>\n",
       "      <th>145</th>\n",
       "      <th>146</th>\n",
       "      <th>147</th>\n",
       "      <th>148</th>\n",
       "      <th>149</th>\n",
       "      <th>150</th>\n",
       "      <th>151</th>\n",
       "    </tr>\n",
       "  </thead>\n",
       "  <tbody>\n",
       "    <tr>\n",
       "      <th>0</th>\n",
       "      <td>12</td>\n",
       "      <td>2</td>\n",
       "      <td>167</td>\n",
       "      <td>942</td>\n",
       "      <td>72</td>\n",
       "      <td>117</td>\n",
       "      <td>104</td>\n",
       "      <td>540</td>\n",
       "      <td>699</td>\n",
       "      <td>0</td>\n",
       "      <td>...</td>\n",
       "      <td>0</td>\n",
       "      <td>0</td>\n",
       "      <td>0</td>\n",
       "      <td>0</td>\n",
       "      <td>0</td>\n",
       "      <td>0</td>\n",
       "      <td>0</td>\n",
       "      <td>0</td>\n",
       "      <td>Great Game terrible Hopefully fix instead tryi...</td>\n",
       "      <td>0</td>\n",
       "    </tr>\n",
       "    <tr>\n",
       "      <th>1</th>\n",
       "      <td>3647</td>\n",
       "      <td>54</td>\n",
       "      <td>11</td>\n",
       "      <td>4</td>\n",
       "      <td>5</td>\n",
       "      <td>16</td>\n",
       "      <td>3284</td>\n",
       "      <td>2</td>\n",
       "      <td>1</td>\n",
       "      <td>16</td>\n",
       "      <td>...</td>\n",
       "      <td>0</td>\n",
       "      <td>0</td>\n",
       "      <td>0</td>\n",
       "      <td>0</td>\n",
       "      <td>0</td>\n",
       "      <td>0</td>\n",
       "      <td>0</td>\n",
       "      <td>0</td>\n",
       "      <td>Huh actually don t like ve ed game Edmund ve f...</td>\n",
       "      <td>0</td>\n",
       "    </tr>\n",
       "    <tr>\n",
       "      <th>2</th>\n",
       "      <td>1</td>\n",
       "      <td>700</td>\n",
       "      <td>3881</td>\n",
       "      <td>0</td>\n",
       "      <td>0</td>\n",
       "      <td>0</td>\n",
       "      <td>0</td>\n",
       "      <td>0</td>\n",
       "      <td>0</td>\n",
       "      <td>0</td>\n",
       "      <td>...</td>\n",
       "      <td>0</td>\n",
       "      <td>0</td>\n",
       "      <td>0</td>\n",
       "      <td>0</td>\n",
       "      <td>0</td>\n",
       "      <td>0</td>\n",
       "      <td>0</td>\n",
       "      <td>0</td>\n",
       "      <td>trashy talking le</td>\n",
       "      <td>0</td>\n",
       "    </tr>\n",
       "    <tr>\n",
       "      <th>3</th>\n",
       "      <td>308</td>\n",
       "      <td>69</td>\n",
       "      <td>0</td>\n",
       "      <td>0</td>\n",
       "      <td>0</td>\n",
       "      <td>0</td>\n",
       "      <td>0</td>\n",
       "      <td>0</td>\n",
       "      <td>0</td>\n",
       "      <td>0</td>\n",
       "      <td>...</td>\n",
       "      <td>0</td>\n",
       "      <td>0</td>\n",
       "      <td>0</td>\n",
       "      <td>0</td>\n",
       "      <td>0</td>\n",
       "      <td>0</td>\n",
       "      <td>0</td>\n",
       "      <td>0</td>\n",
       "      <td>Lag shit</td>\n",
       "      <td>0</td>\n",
       "    </tr>\n",
       "    <tr>\n",
       "      <th>4</th>\n",
       "      <td>3593</td>\n",
       "      <td>0</td>\n",
       "      <td>0</td>\n",
       "      <td>0</td>\n",
       "      <td>0</td>\n",
       "      <td>0</td>\n",
       "      <td>0</td>\n",
       "      <td>0</td>\n",
       "      <td>0</td>\n",
       "      <td>0</td>\n",
       "      <td>...</td>\n",
       "      <td>0</td>\n",
       "      <td>0</td>\n",
       "      <td>0</td>\n",
       "      <td>0</td>\n",
       "      <td>0</td>\n",
       "      <td>0</td>\n",
       "      <td>0</td>\n",
       "      <td>0</td>\n",
       "      <td>policies</td>\n",
       "      <td>0</td>\n",
       "    </tr>\n",
       "    <tr>\n",
       "      <th>...</th>\n",
       "      <td>...</td>\n",
       "      <td>...</td>\n",
       "      <td>...</td>\n",
       "      <td>...</td>\n",
       "      <td>...</td>\n",
       "      <td>...</td>\n",
       "      <td>...</td>\n",
       "      <td>...</td>\n",
       "      <td>...</td>\n",
       "      <td>...</td>\n",
       "      <td>...</td>\n",
       "      <td>...</td>\n",
       "      <td>...</td>\n",
       "      <td>...</td>\n",
       "      <td>...</td>\n",
       "      <td>...</td>\n",
       "      <td>...</td>\n",
       "      <td>...</td>\n",
       "      <td>...</td>\n",
       "      <td>...</td>\n",
       "      <td>...</td>\n",
       "    </tr>\n",
       "    <tr>\n",
       "      <th>64244</th>\n",
       "      <td>7</td>\n",
       "      <td>2</td>\n",
       "      <td>5</td>\n",
       "      <td>0</td>\n",
       "      <td>0</td>\n",
       "      <td>0</td>\n",
       "      <td>0</td>\n",
       "      <td>0</td>\n",
       "      <td>0</td>\n",
       "      <td>0</td>\n",
       "      <td>...</td>\n",
       "      <td>0</td>\n",
       "      <td>0</td>\n",
       "      <td>0</td>\n",
       "      <td>0</td>\n",
       "      <td>0</td>\n",
       "      <td>0</td>\n",
       "      <td>0</td>\n",
       "      <td>0</td>\n",
       "      <td>good game like</td>\n",
       "      <td>1</td>\n",
       "    </tr>\n",
       "    <tr>\n",
       "      <th>64245</th>\n",
       "      <td>298</td>\n",
       "      <td>217</td>\n",
       "      <td>4294</td>\n",
       "      <td>0</td>\n",
       "      <td>0</td>\n",
       "      <td>0</td>\n",
       "      <td>0</td>\n",
       "      <td>0</td>\n",
       "      <td>0</td>\n",
       "      <td>0</td>\n",
       "      <td>...</td>\n",
       "      <td>0</td>\n",
       "      <td>0</td>\n",
       "      <td>0</td>\n",
       "      <td>0</td>\n",
       "      <td>0</td>\n",
       "      <td>0</td>\n",
       "      <td>0</td>\n",
       "      <td>0</td>\n",
       "      <td>runs super streamlined</td>\n",
       "      <td>1</td>\n",
       "    </tr>\n",
       "    <tr>\n",
       "      <th>64246</th>\n",
       "      <td>5</td>\n",
       "      <td>2</td>\n",
       "      <td>1</td>\n",
       "      <td>394</td>\n",
       "      <td>82</td>\n",
       "      <td>0</td>\n",
       "      <td>0</td>\n",
       "      <td>0</td>\n",
       "      <td>0</td>\n",
       "      <td>0</td>\n",
       "      <td>...</td>\n",
       "      <td>0</td>\n",
       "      <td>0</td>\n",
       "      <td>0</td>\n",
       "      <td>0</td>\n",
       "      <td>0</td>\n",
       "      <td>0</td>\n",
       "      <td>0</td>\n",
       "      <td>0</td>\n",
       "      <td>like game iot gun b</td>\n",
       "      <td>1</td>\n",
       "    </tr>\n",
       "    <tr>\n",
       "      <th>64247</th>\n",
       "      <td>108</td>\n",
       "      <td>1350</td>\n",
       "      <td>9</td>\n",
       "      <td>85</td>\n",
       "      <td>555</td>\n",
       "      <td>1875</td>\n",
       "      <td>534</td>\n",
       "      <td>1</td>\n",
       "      <td>2466</td>\n",
       "      <td>170</td>\n",
       "      <td>...</td>\n",
       "      <td>0</td>\n",
       "      <td>0</td>\n",
       "      <td>0</td>\n",
       "      <td>0</td>\n",
       "      <td>0</td>\n",
       "      <td>0</td>\n",
       "      <td>0</td>\n",
       "      <td>0</td>\n",
       "      <td>Bought 3rd time PC normal legendary edition pi...</td>\n",
       "      <td>1</td>\n",
       "    </tr>\n",
       "    <tr>\n",
       "      <th>64248</th>\n",
       "      <td>438</td>\n",
       "      <td>7</td>\n",
       "      <td>2</td>\n",
       "      <td>217</td>\n",
       "      <td>0</td>\n",
       "      <td>0</td>\n",
       "      <td>0</td>\n",
       "      <td>0</td>\n",
       "      <td>0</td>\n",
       "      <td>0</td>\n",
       "      <td>...</td>\n",
       "      <td>0</td>\n",
       "      <td>0</td>\n",
       "      <td>0</td>\n",
       "      <td>0</td>\n",
       "      <td>0</td>\n",
       "      <td>0</td>\n",
       "      <td>0</td>\n",
       "      <td>0</td>\n",
       "      <td>damn good game super</td>\n",
       "      <td>1</td>\n",
       "    </tr>\n",
       "  </tbody>\n",
       "</table>\n",
       "<p>64249 rows × 152 columns</p>\n",
       "</div>"
      ],
      "text/plain": [
       "        0     1     2    3    4     5     6    7     8    9    ...  142  143  \\\n",
       "0        12     2   167  942   72   117   104  540   699    0  ...    0    0   \n",
       "1      3647    54    11    4    5    16  3284    2     1   16  ...    0    0   \n",
       "2         1   700  3881    0    0     0     0    0     0    0  ...    0    0   \n",
       "3       308    69     0    0    0     0     0    0     0    0  ...    0    0   \n",
       "4      3593     0     0    0    0     0     0    0     0    0  ...    0    0   \n",
       "...     ...   ...   ...  ...  ...   ...   ...  ...   ...  ...  ...  ...  ...   \n",
       "64244     7     2     5    0    0     0     0    0     0    0  ...    0    0   \n",
       "64245   298   217  4294    0    0     0     0    0     0    0  ...    0    0   \n",
       "64246     5     2     1  394   82     0     0    0     0    0  ...    0    0   \n",
       "64247   108  1350     9   85  555  1875   534    1  2466  170  ...    0    0   \n",
       "64248   438     7     2  217    0     0     0    0     0    0  ...    0    0   \n",
       "\n",
       "       144  145  146  147  148  149  \\\n",
       "0        0    0    0    0    0    0   \n",
       "1        0    0    0    0    0    0   \n",
       "2        0    0    0    0    0    0   \n",
       "3        0    0    0    0    0    0   \n",
       "4        0    0    0    0    0    0   \n",
       "...    ...  ...  ...  ...  ...  ...   \n",
       "64244    0    0    0    0    0    0   \n",
       "64245    0    0    0    0    0    0   \n",
       "64246    0    0    0    0    0    0   \n",
       "64247    0    0    0    0    0    0   \n",
       "64248    0    0    0    0    0    0   \n",
       "\n",
       "                                                     150  151  \n",
       "0      Great Game terrible Hopefully fix instead tryi...    0  \n",
       "1      Huh actually don t like ve ed game Edmund ve f...    0  \n",
       "2                                      trashy talking le    0  \n",
       "3                                               Lag shit    0  \n",
       "4                                               policies    0  \n",
       "...                                                  ...  ...  \n",
       "64244                                     good game like    1  \n",
       "64245                             runs super streamlined    1  \n",
       "64246                                like game iot gun b    1  \n",
       "64247  Bought 3rd time PC normal legendary edition pi...    1  \n",
       "64248                               damn good game super    1  \n",
       "\n",
       "[64249 rows x 152 columns]"
      ]
     },
     "execution_count": 17,
     "metadata": {},
     "output_type": "execute_result"
    }
   ],
   "source": [
    "data_docs_padded"
   ]
  },
  {
   "cell_type": "code",
   "execution_count": 18,
   "id": "4ebc3cf8",
   "metadata": {
    "ExecuteTime": {
     "end_time": "2022-05-13T03:30:52.670963Z",
     "start_time": "2022-05-13T03:30:52.665435Z"
    }
   },
   "outputs": [
    {
     "data": {
      "text/plain": [
       "Index([149, 'text', 'label'], dtype='object')"
      ]
     },
     "execution_count": 18,
     "metadata": {},
     "output_type": "execute_result"
    }
   ],
   "source": [
    "mp = {data_docs_padded.columns[-1]: 'label',\n",
    "     data_docs_padded.columns[-2]: 'text'}\n",
    "data_docs_padded.rename(columns=mp, errors=\"raise\", inplace=True)\n",
    "data_docs_padded.columns[-3:]"
   ]
  },
  {
   "cell_type": "code",
   "execution_count": 19,
   "id": "c3ef1bd6",
   "metadata": {
    "ExecuteTime": {
     "end_time": "2022-05-13T03:30:53.523370Z",
     "start_time": "2022-05-13T03:30:53.521553Z"
    }
   },
   "outputs": [],
   "source": [
    "# data_docs_padded.to_csv('./Data/steam_docs_padded.csv')"
   ]
  },
  {
   "cell_type": "code",
   "execution_count": 20,
   "id": "a049822e",
   "metadata": {
    "ExecuteTime": {
     "end_time": "2022-05-13T03:30:54.394980Z",
     "start_time": "2022-05-13T03:30:54.367857Z"
    }
   },
   "outputs": [
    {
     "data": {
      "text/plain": [
       "((51399, 150), (12850, 150))"
      ]
     },
     "execution_count": 20,
     "metadata": {},
     "output_type": "execute_result"
    }
   ],
   "source": [
    "X_train, X_test, y_train, y_test = train_test_split(docs_padded, labels, \n",
    "                                                    test_size=0.2, random_state=41)\n",
    "X_train.shape, X_test.shape"
   ]
  },
  {
   "cell_type": "markdown",
   "id": "4642187a",
   "metadata": {},
   "source": [
    "# model"
   ]
  },
  {
   "cell_type": "code",
   "execution_count": 61,
   "id": "cd36ca88",
   "metadata": {
    "ExecuteTime": {
     "end_time": "2022-05-11T18:25:02.119549Z",
     "start_time": "2022-05-11T18:25:02.104594Z"
    }
   },
   "outputs": [],
   "source": [
    "def plot_fit_history(log):\n",
    "    plt.plot(log.history['acc'])\n",
    "    plt.plot(log.history['val_acc'])\n",
    "    plt.title('model accuracy')\n",
    "    plt.ylabel('accuracy')\n",
    "    plt.xlabel('epoch')\n",
    "    plt.legend(['train', 'val'], loc='upper left')\n",
    "    plt.show()"
   ]
  },
  {
   "cell_type": "markdown",
   "id": "2c664491",
   "metadata": {},
   "source": [
    "## RNN"
   ]
  },
  {
   "cell_type": "markdown",
   "id": "87fcf509",
   "metadata": {},
   "source": [
    "### pretrained embedding"
   ]
  },
  {
   "cell_type": "code",
   "execution_count": 70,
   "id": "2c80b17f",
   "metadata": {
    "ExecuteTime": {
     "end_time": "2022-05-11T18:26:03.960395Z",
     "start_time": "2022-05-11T18:25:57.554324Z"
    }
   },
   "outputs": [
    {
     "name": "stdout",
     "output_type": "stream",
     "text": [
      "Loaded 400000 word vectors.\n"
     ]
    }
   ],
   "source": [
    "def load_glove_vectors() -> Dict:\n",
    "    embeddings_index = {}\n",
    "    with open('../datasets/glove.6B.100d.txt') as f:\n",
    "        for line in f:\n",
    "            values = line.split()\n",
    "            word = values[0]\n",
    "            coefs = np.asarray(values[1:], dtype='float32')\n",
    "            embeddings_index[word] = coefs\n",
    "    print('Loaded %s word vectors.' % len(embeddings_index))\n",
    "    return embeddings_index\n",
    "\n",
    "embeddings_index = load_glove_vectors()"
   ]
  },
  {
   "cell_type": "code",
   "execution_count": 71,
   "id": "a51b30d4",
   "metadata": {
    "ExecuteTime": {
     "end_time": "2022-05-11T18:27:03.641370Z",
     "start_time": "2022-05-11T18:27:03.629076Z"
    }
   },
   "outputs": [
    {
     "data": {
      "text/plain": [
       "27766"
      ]
     },
     "execution_count": 71,
     "metadata": {},
     "output_type": "execute_result"
    }
   ],
   "source": [
    "vocab_size"
   ]
  },
  {
   "cell_type": "code",
   "execution_count": 72,
   "id": "4f001e28",
   "metadata": {
    "ExecuteTime": {
     "end_time": "2022-05-11T18:27:07.414149Z",
     "start_time": "2022-05-11T18:27:07.363638Z"
    }
   },
   "outputs": [],
   "source": [
    "# create a weight matrix for words in training docs\n",
    "embedding_matrix = np.zeros((vocab_size, 100))\n",
    "for word, i in tokenizer.word_index.items():\n",
    "    embedding_vector = embeddings_index.get(word)\n",
    "    if embedding_vector is not None: # check that it is an actual word that we have embeddings for\n",
    "        embedding_matrix[i] = embedding_vector"
   ]
  },
  {
   "cell_type": "code",
   "execution_count": 73,
   "id": "6416a70a",
   "metadata": {
    "ExecuteTime": {
     "end_time": "2022-05-11T18:27:10.836146Z",
     "start_time": "2022-05-11T18:27:10.821486Z"
    }
   },
   "outputs": [],
   "source": [
    "# define model\n",
    "def make_binary_classification_rnn_model(plot=False):\n",
    "    model = Sequential()\n",
    "    model.add(Embedding(vocab_size, 100, \n",
    "                        weights=[embedding_matrix], \n",
    "                        input_length=MAX_SEQUENCE_LENGTH, \n",
    "                        trainable=False))\n",
    "    model.add(Masking(mask_value=0.0)) # masking layer, masks any words that don't have an embedding as 0s.\n",
    "    model.add(SimpleRNN(units=64, input_shape=(1, MAX_SEQUENCE_LENGTH)))\n",
    "    model.add(Dense(16))\n",
    "    model.add(Dense(1, activation='sigmoid'))\n",
    "    \n",
    "    # Compile the model\n",
    "    model.compile(\n",
    "            optimizer='adam', loss='binary_crossentropy', metrics=['acc'])\n",
    "    # summarize the model\n",
    "    model.summary()\n",
    "    \n",
    "    if plot:\n",
    "        plot_model(model, to_file='model.png', show_shapes=True)\n",
    "    return model"
   ]
  },
  {
   "cell_type": "code",
   "execution_count": 74,
   "id": "f0973c9d",
   "metadata": {
    "ExecuteTime": {
     "end_time": "2022-05-11T18:27:19.422892Z",
     "start_time": "2022-05-11T18:27:18.986528Z"
    }
   },
   "outputs": [
    {
     "name": "stdout",
     "output_type": "stream",
     "text": [
      "Model: \"sequential_4\"\n",
      "_________________________________________________________________\n",
      "Layer (type)                 Output Shape              Param #   \n",
      "=================================================================\n",
      "embedding_4 (Embedding)      (None, 150, 100)          2776600   \n",
      "_________________________________________________________________\n",
      "masking_1 (Masking)          (None, 150, 100)          0         \n",
      "_________________________________________________________________\n",
      "simple_rnn_1 (SimpleRNN)     (None, 64)                10560     \n",
      "_________________________________________________________________\n",
      "dense_7 (Dense)              (None, 16)                1040      \n",
      "_________________________________________________________________\n",
      "dense_8 (Dense)              (None, 1)                 17        \n",
      "=================================================================\n",
      "Total params: 2,788,217\n",
      "Trainable params: 11,617\n",
      "Non-trainable params: 2,776,600\n",
      "_________________________________________________________________\n"
     ]
    },
    {
     "data": {
      "text/plain": [
       "<keras.engine.sequential.Sequential at 0x7fca17261f10>"
      ]
     },
     "execution_count": 74,
     "metadata": {},
     "output_type": "execute_result"
    }
   ],
   "source": [
    "model_rnn = make_binary_classification_rnn_model()\n",
    "model_rnn"
   ]
  },
  {
   "cell_type": "markdown",
   "id": "0a3354fe",
   "metadata": {},
   "source": [
    "### training"
   ]
  },
  {
   "cell_type": "code",
   "execution_count": 75,
   "id": "b31f81a3",
   "metadata": {
    "ExecuteTime": {
     "end_time": "2022-05-11T18:51:09.058697Z",
     "start_time": "2022-05-11T18:27:24.305079Z"
    },
    "scrolled": false
   },
   "outputs": [
    {
     "name": "stdout",
     "output_type": "stream",
     "text": [
      "Train on 46259 samples, validate on 5140 samples\n",
      "Epoch 1/50\n",
      "46259/46259 [==============================] - 162s 3ms/step - loss: 0.5251 - acc: 0.7413 - val_loss: 0.5015 - val_acc: 0.7533\n",
      "Epoch 2/50\n",
      "46259/46259 [==============================] - 161s 3ms/step - loss: 0.5110 - acc: 0.7528 - val_loss: 0.5073 - val_acc: 0.7553\n",
      "Epoch 3/50\n",
      "46259/46259 [==============================] - 157s 3ms/step - loss: 0.5101 - acc: 0.7561 - val_loss: 0.5054 - val_acc: 0.7541\n",
      "Epoch 4/50\n",
      "46259/46259 [==============================] - 158s 3ms/step - loss: 0.4901 - acc: 0.7639 - val_loss: 0.4995 - val_acc: 0.7588\n",
      "Epoch 5/50\n",
      "46259/46259 [==============================] - 157s 3ms/step - loss: 0.4714 - acc: 0.7757 - val_loss: 0.4783 - val_acc: 0.7673\n",
      "Epoch 6/50\n",
      "46259/46259 [==============================] - 157s 3ms/step - loss: 0.4750 - acc: 0.7780 - val_loss: 0.4866 - val_acc: 0.7603\n",
      "Epoch 7/50\n",
      "46259/46259 [==============================] - 157s 3ms/step - loss: 0.4703 - acc: 0.7762 - val_loss: 0.4841 - val_acc: 0.7613\n",
      "Epoch 8/50\n",
      "46259/46259 [==============================] - 158s 3ms/step - loss: 0.4975 - acc: 0.7542 - val_loss: 0.5048 - val_acc: 0.7479\n",
      "Epoch 9/50\n",
      "46259/46259 [==============================] - 157s 3ms/step - loss: 0.4642 - acc: 0.7787 - val_loss: 0.4797 - val_acc: 0.7737\n",
      "Epoch 00009: early stopping\n"
     ]
    }
   ],
   "source": [
    "# fit the model\n",
    "es = EarlyStopping(monitor='val_loss', mode='min', patience=4, verbose=1)\n",
    "log_rnn = model_rnn.fit(X_train, y_train, batch_size=BATCH_SIZE, \n",
    "                        validation_split=0.1, epochs=50, verbose=1, callbacks=[es])"
   ]
  },
  {
   "cell_type": "code",
   "execution_count": 76,
   "id": "b547ce1f",
   "metadata": {
    "ExecuteTime": {
     "end_time": "2022-05-11T18:52:49.289888Z",
     "start_time": "2022-05-11T18:51:18.055753Z"
    }
   },
   "outputs": [
    {
     "name": "stdout",
     "output_type": "stream",
     "text": [
      "51399/51399 [==============================] - 91s 2ms/step\n",
      "TRAIN Accuracy: 79.260296\n"
     ]
    }
   ],
   "source": [
    "# evaluate the model\n",
    "loss_tr, acc_tr = model_rnn.evaluate(X_train, y_train, verbose=1)\n",
    "print('TRAIN Accuracy: %f' % (acc_tr*100))"
   ]
  },
  {
   "cell_type": "code",
   "execution_count": 77,
   "id": "1f41851e",
   "metadata": {
    "ExecuteTime": {
     "end_time": "2022-05-11T18:52:56.921284Z",
     "start_time": "2022-05-11T18:52:56.805778Z"
    }
   },
   "outputs": [
    {
     "data": {
      "image/png": "[encoded data removed]",
      "text/plain": [
       "<Figure size 432x288 with 1 Axes>"
      ]
     },
     "metadata": {
      "needs_background": "light"
     },
     "output_type": "display_data"
    }
   ],
   "source": [
    "plot_fit_history(log_rnn)"
   ]
  },
  {
   "cell_type": "code",
   "execution_count": null,
   "id": "3cd4800b",
   "metadata": {},
   "outputs": [],
   "source": []
  },
  {
   "cell_type": "markdown",
   "id": "b8ffd846",
   "metadata": {},
   "source": [
    "### testing"
   ]
  },
  {
   "cell_type": "code",
   "execution_count": 78,
   "id": "7a618ccb",
   "metadata": {
    "ExecuteTime": {
     "end_time": "2022-05-11T18:53:33.011450Z",
     "start_time": "2022-05-11T18:53:10.196606Z"
    }
   },
   "outputs": [
    {
     "name": "stdout",
     "output_type": "stream",
     "text": [
      "12850/12850 [==============================] - 23s 2ms/step\n",
      "Accuracy: 77.719843\n"
     ]
    }
   ],
   "source": [
    "loss_tt, acc_tt = model_rnn.evaluate(X_test, y_test, verbose=1)\n",
    "print('Accuracy: %f' % (acc_tt*100))"
   ]
  },
  {
   "cell_type": "code",
   "execution_count": null,
   "id": "08c1b8cd",
   "metadata": {},
   "outputs": [],
   "source": []
  },
  {
   "cell_type": "markdown",
   "id": "9885e903",
   "metadata": {},
   "source": [
    "### model result"
   ]
  },
  {
   "cell_type": "code",
   "execution_count": 81,
   "id": "cae7fbfb",
   "metadata": {
    "ExecuteTime": {
     "end_time": "2022-05-11T18:57:34.257378Z",
     "start_time": "2022-05-11T18:55:43.787570Z"
    }
   },
   "outputs": [],
   "source": [
    "pred_rnn = model_rnn.predict(docs_padded)"
   ]
  },
  {
   "cell_type": "code",
   "execution_count": 82,
   "id": "e924bdbf",
   "metadata": {
    "ExecuteTime": {
     "end_time": "2022-05-11T18:57:54.666666Z",
     "start_time": "2022-05-11T18:57:54.662092Z"
    }
   },
   "outputs": [
    {
     "data": {
      "text/plain": [
       "array([0.31658024, 0.15784225, 0.6243247 , ..., 0.76593053, 0.5849264 ,\n",
       "       0.93743324], dtype=float32)"
      ]
     },
     "execution_count": 82,
     "metadata": {},
     "output_type": "execute_result"
    }
   ],
   "source": [
    "pred_rnn = pred_rnn.flatten()\n",
    "pred_rnn"
   ]
  },
  {
   "cell_type": "code",
   "execution_count": 83,
   "id": "6bf6ae13",
   "metadata": {
    "ExecuteTime": {
     "end_time": "2022-05-11T18:57:58.616066Z",
     "start_time": "2022-05-11T18:57:58.605119Z"
    }
   },
   "outputs": [],
   "source": [
    "threshold = .5\n",
    "data_docs_padded['pred_rnn'] = np.where(pred_rnn>=threshold, 1, 0)"
   ]
  },
  {
   "cell_type": "code",
   "execution_count": 84,
   "id": "c08f5c13",
   "metadata": {
    "ExecuteTime": {
     "end_time": "2022-05-11T18:58:02.983411Z",
     "start_time": "2022-05-11T18:58:02.961223Z"
    }
   },
   "outputs": [
    {
     "data": {
      "text/plain": [
       "0.7895220159068623"
      ]
     },
     "execution_count": 84,
     "metadata": {},
     "output_type": "execute_result"
    }
   ],
   "source": [
    "sum(data_docs_padded['pred_rnn']==data_docs_padded['label']) / len(data_docs_padded)"
   ]
  },
  {
   "cell_type": "code",
   "execution_count": null,
   "id": "bfe84ea3",
   "metadata": {},
   "outputs": [],
   "source": []
  },
  {
   "cell_type": "markdown",
   "id": "c695ba71",
   "metadata": {},
   "source": [
    "## LSTM"
   ]
  },
  {
   "cell_type": "code",
   "execution_count": 85,
   "id": "697cbed5",
   "metadata": {
    "ExecuteTime": {
     "end_time": "2022-05-11T18:58:07.560317Z",
     "start_time": "2022-05-11T18:58:07.542616Z"
    }
   },
   "outputs": [],
   "source": [
    "def make_lstm_classification_model(plot=False):\n",
    "    model = Sequential()\n",
    "    model.add(Embedding(vocab_size, 100, \n",
    "                        weights=[embedding_matrix], \n",
    "                        input_length=MAX_SEQUENCE_LENGTH, \n",
    "                        trainable=False))\n",
    "    model.add(Masking(mask_value=0.0)) # masking layer, masks any words that don't have an embedding as 0s.\n",
    "    model.add(LSTM(units=32, input_shape=(1, MAX_SEQUENCE_LENGTH)))\n",
    "    model.add(Dense(16))\n",
    "    model.add(Dense(1, activation='sigmoid'))\n",
    "    \n",
    "    # Compile the model\n",
    "    model.compile(\n",
    "            optimizer='adam', loss='binary_crossentropy', metrics=['acc'])\n",
    "    # summarize the model\n",
    "    model.summary()\n",
    "    \n",
    "    if plot:\n",
    "        plot_model(model, to_file='model.png', show_shapes=True)\n",
    "    return model"
   ]
  },
  {
   "cell_type": "code",
   "execution_count": 86,
   "id": "f09285e9",
   "metadata": {
    "ExecuteTime": {
     "end_time": "2022-05-11T18:58:11.800155Z",
     "start_time": "2022-05-11T18:58:11.288662Z"
    }
   },
   "outputs": [
    {
     "name": "stdout",
     "output_type": "stream",
     "text": [
      "Model: \"sequential_5\"\n",
      "_________________________________________________________________\n",
      "Layer (type)                 Output Shape              Param #   \n",
      "=================================================================\n",
      "embedding_5 (Embedding)      (None, 150, 100)          2776600   \n",
      "_________________________________________________________________\n",
      "masking_2 (Masking)          (None, 150, 100)          0         \n",
      "_________________________________________________________________\n",
      "lstm_1 (LSTM)                (None, 32)                17024     \n",
      "_________________________________________________________________\n",
      "dense_9 (Dense)              (None, 16)                528       \n",
      "_________________________________________________________________\n",
      "dense_10 (Dense)             (None, 1)                 17        \n",
      "=================================================================\n",
      "Total params: 2,794,169\n",
      "Trainable params: 17,569\n",
      "Non-trainable params: 2,776,600\n",
      "_________________________________________________________________\n"
     ]
    },
    {
     "data": {
      "text/plain": [
       "<keras.engine.sequential.Sequential at 0x7fc9f12cd950>"
      ]
     },
     "execution_count": 86,
     "metadata": {},
     "output_type": "execute_result"
    }
   ],
   "source": [
    "model_lstm = make_lstm_classification_model()\n",
    "model_lstm"
   ]
  },
  {
   "cell_type": "markdown",
   "id": "00ce5781",
   "metadata": {},
   "source": [
    "### training"
   ]
  },
  {
   "cell_type": "code",
   "execution_count": 87,
   "id": "0d97f46a",
   "metadata": {
    "ExecuteTime": {
     "end_time": "2022-05-11T19:41:54.144603Z",
     "start_time": "2022-05-11T18:58:19.138541Z"
    },
    "scrolled": true
   },
   "outputs": [
    {
     "name": "stdout",
     "output_type": "stream",
     "text": [
      "Train on 46259 samples, validate on 5140 samples\n",
      "Epoch 1/50\n",
      "46259/46259 [==============================] - 219s 5ms/step - loss: 0.4863 - acc: 0.7633 - val_loss: 0.4892 - val_acc: 0.7549\n",
      "Epoch 2/50\n",
      "46259/46259 [==============================] - 217s 5ms/step - loss: 0.4314 - acc: 0.7957 - val_loss: 0.4584 - val_acc: 0.7774\n",
      "Epoch 3/50\n",
      "46259/46259 [==============================] - 217s 5ms/step - loss: 0.4092 - acc: 0.8094 - val_loss: 0.4251 - val_acc: 0.7951\n",
      "Epoch 4/50\n",
      "46259/46259 [==============================] - 218s 5ms/step - loss: 0.3934 - acc: 0.8178 - val_loss: 0.4240 - val_acc: 0.7979\n",
      "Epoch 5/50\n",
      "46259/46259 [==============================] - 217s 5ms/step - loss: 0.3803 - acc: 0.8243 - val_loss: 0.4151 - val_acc: 0.8072\n",
      "Epoch 6/50\n",
      "46259/46259 [==============================] - 218s 5ms/step - loss: 0.3691 - acc: 0.8324 - val_loss: 0.4116 - val_acc: 0.8084\n",
      "Epoch 7/50\n",
      "46259/46259 [==============================] - 218s 5ms/step - loss: 0.3593 - acc: 0.8363 - val_loss: 0.4095 - val_acc: 0.8111\n",
      "Epoch 8/50\n",
      "46259/46259 [==============================] - 218s 5ms/step - loss: 0.3498 - acc: 0.8409 - val_loss: 0.4073 - val_acc: 0.8156\n",
      "Epoch 9/50\n",
      "46259/46259 [==============================] - 218s 5ms/step - loss: 0.3405 - acc: 0.8466 - val_loss: 0.4094 - val_acc: 0.8144\n",
      "Epoch 10/50\n",
      "46259/46259 [==============================] - 217s 5ms/step - loss: 0.3329 - acc: 0.8488 - val_loss: 0.4250 - val_acc: 0.8146\n",
      "Epoch 11/50\n",
      "46259/46259 [==============================] - 217s 5ms/step - loss: 0.3255 - acc: 0.8543 - val_loss: 0.4212 - val_acc: 0.8125\n",
      "Epoch 12/50\n",
      "46259/46259 [==============================] - 219s 5ms/step - loss: 0.3181 - acc: 0.8564 - val_loss: 0.4235 - val_acc: 0.8150\n",
      "Epoch 00012: early stopping\n"
     ]
    }
   ],
   "source": [
    "# fit the model\n",
    "es = EarlyStopping(monitor='val_loss', mode='min', patience=4, verbose=1)\n",
    "log_lstm = model_lstm.fit(X_train, y_train, batch_size=BATCH_SIZE, \n",
    "                        validation_split=0.1, epochs=50, verbose=1, callbacks=[es])"
   ]
  },
  {
   "cell_type": "code",
   "execution_count": 88,
   "id": "ae86bcd3",
   "metadata": {
    "ExecuteTime": {
     "end_time": "2022-05-11T20:00:26.478289Z",
     "start_time": "2022-05-11T19:58:19.339301Z"
    }
   },
   "outputs": [
    {
     "name": "stdout",
     "output_type": "stream",
     "text": [
      "51399/51399 [==============================] - 127s 2ms/step\n",
      "TRAIN Accuracy: 86.314911\n"
     ]
    }
   ],
   "source": [
    "# evaluate the model\n",
    "loss_tr, acc_tr = model_lstm.evaluate(X_train, y_train, verbose=1)\n",
    "print('TRAIN Accuracy: %f' % (acc_tr*100))"
   ]
  },
  {
   "cell_type": "code",
   "execution_count": 89,
   "id": "79b1e2c9",
   "metadata": {
    "ExecuteTime": {
     "end_time": "2022-05-11T20:00:50.588572Z",
     "start_time": "2022-05-11T20:00:50.489839Z"
    }
   },
   "outputs": [
    {
     "data": {
      "image/png": "[encoded data removed]",
      "text/plain": [
       "<Figure size 432x288 with 1 Axes>"
      ]
     },
     "metadata": {
      "needs_background": "light"
     },
     "output_type": "display_data"
    }
   ],
   "source": [
    "plot_fit_history(log_lstm)"
   ]
  },
  {
   "cell_type": "code",
   "execution_count": null,
   "id": "429b9031",
   "metadata": {},
   "outputs": [],
   "source": []
  },
  {
   "cell_type": "code",
   "execution_count": null,
   "id": "56564e6a",
   "metadata": {},
   "outputs": [],
   "source": []
  },
  {
   "cell_type": "markdown",
   "id": "d058fc2c",
   "metadata": {},
   "source": [
    "### testing"
   ]
  },
  {
   "cell_type": "code",
   "execution_count": 90,
   "id": "cb6f480c",
   "metadata": {
    "ExecuteTime": {
     "end_time": "2022-05-11T20:01:32.299469Z",
     "start_time": "2022-05-11T20:00:59.950774Z"
    }
   },
   "outputs": [
    {
     "name": "stdout",
     "output_type": "stream",
     "text": [
      "12850/12850 [==============================] - 32s 3ms/step\n",
      "Accuracy: 81.447470\n"
     ]
    }
   ],
   "source": [
    "loss_tt, acc_tt = model_lstm.evaluate(X_test, y_test, verbose=1)\n",
    "print('Accuracy: %f' % (acc_tt*100))"
   ]
  },
  {
   "cell_type": "code",
   "execution_count": null,
   "id": "1b7eb868",
   "metadata": {},
   "outputs": [],
   "source": []
  },
  {
   "cell_type": "markdown",
   "id": "dbf7ed2d",
   "metadata": {},
   "source": [
    "### model_result"
   ]
  },
  {
   "cell_type": "code",
   "execution_count": 91,
   "id": "53ac2ac8",
   "metadata": {
    "ExecuteTime": {
     "end_time": "2022-05-11T20:05:21.163624Z",
     "start_time": "2022-05-11T20:02:48.656568Z"
    }
   },
   "outputs": [
    {
     "data": {
      "text/plain": [
       "array([0.0122683 , 0.20635751, 0.09764171, ..., 0.8674997 , 0.82471275,\n",
       "       0.9808508 ], dtype=float32)"
      ]
     },
     "execution_count": 91,
     "metadata": {},
     "output_type": "execute_result"
    }
   ],
   "source": [
    "pred_lstm = model_lstm.predict(docs_padded)\n",
    "pred_lstm = pred_lstm.flatten()\n",
    "pred_lstm"
   ]
  },
  {
   "cell_type": "code",
   "execution_count": 92,
   "id": "cb0a3b34",
   "metadata": {
    "ExecuteTime": {
     "end_time": "2022-05-11T20:05:28.491667Z",
     "start_time": "2022-05-11T20:05:28.483448Z"
    }
   },
   "outputs": [],
   "source": [
    "threshold = .5\n",
    "data_docs_padded['pred_lstm'] = np.where(pred_lstm>=threshold, 1, 0)"
   ]
  },
  {
   "cell_type": "code",
   "execution_count": 93,
   "id": "be7c7479",
   "metadata": {
    "ExecuteTime": {
     "end_time": "2022-05-11T20:05:43.844661Z",
     "start_time": "2022-05-11T20:05:43.824488Z"
    }
   },
   "outputs": [
    {
     "data": {
      "text/plain": [
       "0.8534140609192361"
      ]
     },
     "execution_count": 93,
     "metadata": {},
     "output_type": "execute_result"
    }
   ],
   "source": [
    "sum(data_docs_padded['pred_lstm']==data_docs_padded['label']) / len(data_docs_padded)"
   ]
  },
  {
   "cell_type": "code",
   "execution_count": null,
   "id": "31c81e66",
   "metadata": {},
   "outputs": [],
   "source": []
  },
  {
   "cell_type": "markdown",
   "id": "b7ca9503",
   "metadata": {},
   "source": [
    "# results"
   ]
  },
  {
   "cell_type": "code",
   "execution_count": 94,
   "id": "a84a588c",
   "metadata": {
    "ExecuteTime": {
     "end_time": "2022-05-11T20:05:49.229344Z",
     "start_time": "2022-05-11T20:05:49.189245Z"
    }
   },
   "outputs": [
    {
     "data": {
      "text/html": [
       "<div>\n",
       "<style scoped>\n",
       "    .dataframe tbody tr th:only-of-type {\n",
       "        vertical-align: middle;\n",
       "    }\n",
       "\n",
       "    .dataframe tbody tr th {\n",
       "        vertical-align: top;\n",
       "    }\n",
       "\n",
       "    .dataframe thead th {\n",
       "        text-align: right;\n",
       "    }\n",
       "</style>\n",
       "<table border=\"1\" class=\"dataframe\">\n",
       "  <thead>\n",
       "    <tr style=\"text-align: right;\">\n",
       "      <th></th>\n",
       "      <th>0</th>\n",
       "      <th>1</th>\n",
       "      <th>2</th>\n",
       "      <th>3</th>\n",
       "      <th>4</th>\n",
       "      <th>5</th>\n",
       "      <th>6</th>\n",
       "      <th>7</th>\n",
       "      <th>8</th>\n",
       "      <th>9</th>\n",
       "      <th>...</th>\n",
       "      <th>145</th>\n",
       "      <th>146</th>\n",
       "      <th>147</th>\n",
       "      <th>148</th>\n",
       "      <th>149</th>\n",
       "      <th>text</th>\n",
       "      <th>label</th>\n",
       "      <th>pred_mlp</th>\n",
       "      <th>pred_rnn</th>\n",
       "      <th>pred_lstm</th>\n",
       "    </tr>\n",
       "  </thead>\n",
       "  <tbody>\n",
       "    <tr>\n",
       "      <th>0</th>\n",
       "      <td>12</td>\n",
       "      <td>2</td>\n",
       "      <td>167</td>\n",
       "      <td>941</td>\n",
       "      <td>72</td>\n",
       "      <td>117</td>\n",
       "      <td>104</td>\n",
       "      <td>540</td>\n",
       "      <td>700</td>\n",
       "      <td>0</td>\n",
       "      <td>...</td>\n",
       "      <td>0</td>\n",
       "      <td>0</td>\n",
       "      <td>0</td>\n",
       "      <td>0</td>\n",
       "      <td>0</td>\n",
       "      <td>Great Game terrible optimisation Hopefully the...</td>\n",
       "      <td>0.0</td>\n",
       "      <td>0</td>\n",
       "      <td>0</td>\n",
       "      <td>0</td>\n",
       "    </tr>\n",
       "    <tr>\n",
       "      <th>1</th>\n",
       "      <td>3651</td>\n",
       "      <td>54</td>\n",
       "      <td>11</td>\n",
       "      <td>4</td>\n",
       "      <td>5</td>\n",
       "      <td>16</td>\n",
       "      <td>3285</td>\n",
       "      <td>2</td>\n",
       "      <td>1</td>\n",
       "      <td>16</td>\n",
       "      <td>...</td>\n",
       "      <td>0</td>\n",
       "      <td>0</td>\n",
       "      <td>0</td>\n",
       "      <td>0</td>\n",
       "      <td>0</td>\n",
       "      <td>Huh I actually don t like it I ve NUMBER  ed e...</td>\n",
       "      <td>0.0</td>\n",
       "      <td>0</td>\n",
       "      <td>0</td>\n",
       "      <td>0</td>\n",
       "    </tr>\n",
       "    <tr>\n",
       "      <th>2</th>\n",
       "      <td>1</td>\n",
       "      <td>701</td>\n",
       "      <td>3829</td>\n",
       "      <td>0</td>\n",
       "      <td>0</td>\n",
       "      <td>0</td>\n",
       "      <td>0</td>\n",
       "      <td>0</td>\n",
       "      <td>0</td>\n",
       "      <td>0</td>\n",
       "      <td>...</td>\n",
       "      <td>0</td>\n",
       "      <td>0</td>\n",
       "      <td>0</td>\n",
       "      <td>0</td>\n",
       "      <td>0</td>\n",
       "      <td>very trashy talking about the tsev skyrim le</td>\n",
       "      <td>0.0</td>\n",
       "      <td>0</td>\n",
       "      <td>1</td>\n",
       "      <td>0</td>\n",
       "    </tr>\n",
       "    <tr>\n",
       "      <th>3</th>\n",
       "      <td>308</td>\n",
       "      <td>69</td>\n",
       "      <td>0</td>\n",
       "      <td>0</td>\n",
       "      <td>0</td>\n",
       "      <td>0</td>\n",
       "      <td>0</td>\n",
       "      <td>0</td>\n",
       "      <td>0</td>\n",
       "      <td>0</td>\n",
       "      <td>...</td>\n",
       "      <td>0</td>\n",
       "      <td>0</td>\n",
       "      <td>0</td>\n",
       "      <td>0</td>\n",
       "      <td>0</td>\n",
       "      <td>Lag as shit</td>\n",
       "      <td>0.0</td>\n",
       "      <td>0</td>\n",
       "      <td>0</td>\n",
       "      <td>0</td>\n",
       "    </tr>\n",
       "    <tr>\n",
       "      <th>4</th>\n",
       "      <td>3598</td>\n",
       "      <td>0</td>\n",
       "      <td>0</td>\n",
       "      <td>0</td>\n",
       "      <td>0</td>\n",
       "      <td>0</td>\n",
       "      <td>0</td>\n",
       "      <td>0</td>\n",
       "      <td>0</td>\n",
       "      <td>0</td>\n",
       "      <td>...</td>\n",
       "      <td>0</td>\n",
       "      <td>0</td>\n",
       "      <td>0</td>\n",
       "      <td>0</td>\n",
       "      <td>0</td>\n",
       "      <td>Precarious policies</td>\n",
       "      <td>0.0</td>\n",
       "      <td>0</td>\n",
       "      <td>0</td>\n",
       "      <td>0</td>\n",
       "    </tr>\n",
       "    <tr>\n",
       "      <th>...</th>\n",
       "      <td>...</td>\n",
       "      <td>...</td>\n",
       "      <td>...</td>\n",
       "      <td>...</td>\n",
       "      <td>...</td>\n",
       "      <td>...</td>\n",
       "      <td>...</td>\n",
       "      <td>...</td>\n",
       "      <td>...</td>\n",
       "      <td>...</td>\n",
       "      <td>...</td>\n",
       "      <td>...</td>\n",
       "      <td>...</td>\n",
       "      <td>...</td>\n",
       "      <td>...</td>\n",
       "      <td>...</td>\n",
       "      <td>...</td>\n",
       "      <td>...</td>\n",
       "      <td>...</td>\n",
       "      <td>...</td>\n",
       "      <td>...</td>\n",
       "    </tr>\n",
       "    <tr>\n",
       "      <th>64244</th>\n",
       "      <td>7</td>\n",
       "      <td>2</td>\n",
       "      <td>5</td>\n",
       "      <td>0</td>\n",
       "      <td>0</td>\n",
       "      <td>0</td>\n",
       "      <td>0</td>\n",
       "      <td>0</td>\n",
       "      <td>0</td>\n",
       "      <td>0</td>\n",
       "      <td>...</td>\n",
       "      <td>0</td>\n",
       "      <td>0</td>\n",
       "      <td>0</td>\n",
       "      <td>0</td>\n",
       "      <td>0</td>\n",
       "      <td>good game i like it</td>\n",
       "      <td>1.0</td>\n",
       "      <td>1</td>\n",
       "      <td>1</td>\n",
       "      <td>1</td>\n",
       "    </tr>\n",
       "    <tr>\n",
       "      <th>64245</th>\n",
       "      <td>298</td>\n",
       "      <td>217</td>\n",
       "      <td>4297</td>\n",
       "      <td>0</td>\n",
       "      <td>0</td>\n",
       "      <td>0</td>\n",
       "      <td>0</td>\n",
       "      <td>0</td>\n",
       "      <td>0</td>\n",
       "      <td>0</td>\n",
       "      <td>...</td>\n",
       "      <td>0</td>\n",
       "      <td>0</td>\n",
       "      <td>0</td>\n",
       "      <td>0</td>\n",
       "      <td>0</td>\n",
       "      <td>It just runs really well and is super streamli...</td>\n",
       "      <td>1.0</td>\n",
       "      <td>1</td>\n",
       "      <td>1</td>\n",
       "      <td>1</td>\n",
       "    </tr>\n",
       "    <tr>\n",
       "      <th>64246</th>\n",
       "      <td>5</td>\n",
       "      <td>2</td>\n",
       "      <td>1</td>\n",
       "      <td>393</td>\n",
       "      <td>82</td>\n",
       "      <td>0</td>\n",
       "      <td>0</td>\n",
       "      <td>0</td>\n",
       "      <td>0</td>\n",
       "      <td>0</td>\n",
       "      <td>...</td>\n",
       "      <td>0</td>\n",
       "      <td>0</td>\n",
       "      <td>0</td>\n",
       "      <td>0</td>\n",
       "      <td>0</td>\n",
       "      <td>I like tthis game iot have gun and it have a b</td>\n",
       "      <td>1.0</td>\n",
       "      <td>1</td>\n",
       "      <td>1</td>\n",
       "      <td>1</td>\n",
       "    </tr>\n",
       "    <tr>\n",
       "      <th>64247</th>\n",
       "      <td>108</td>\n",
       "      <td>1353</td>\n",
       "      <td>9</td>\n",
       "      <td>86</td>\n",
       "      <td>555</td>\n",
       "      <td>1879</td>\n",
       "      <td>537</td>\n",
       "      <td>1</td>\n",
       "      <td>2468</td>\n",
       "      <td>171</td>\n",
       "      <td>...</td>\n",
       "      <td>0</td>\n",
       "      <td>0</td>\n",
       "      <td>0</td>\n",
       "      <td>0</td>\n",
       "      <td>0</td>\n",
       "      <td>Bought it again for the 3rd time on PC had nor...</td>\n",
       "      <td>1.0</td>\n",
       "      <td>1</td>\n",
       "      <td>1</td>\n",
       "      <td>1</td>\n",
       "    </tr>\n",
       "    <tr>\n",
       "      <th>64248</th>\n",
       "      <td>440</td>\n",
       "      <td>7</td>\n",
       "      <td>2</td>\n",
       "      <td>217</td>\n",
       "      <td>0</td>\n",
       "      <td>0</td>\n",
       "      <td>0</td>\n",
       "      <td>0</td>\n",
       "      <td>0</td>\n",
       "      <td>0</td>\n",
       "      <td>...</td>\n",
       "      <td>0</td>\n",
       "      <td>0</td>\n",
       "      <td>0</td>\n",
       "      <td>0</td>\n",
       "      <td>0</td>\n",
       "      <td>damn good game and super addicting</td>\n",
       "      <td>1.0</td>\n",
       "      <td>1</td>\n",
       "      <td>1</td>\n",
       "      <td>1</td>\n",
       "    </tr>\n",
       "  </tbody>\n",
       "</table>\n",
       "<p>64249 rows × 155 columns</p>\n",
       "</div>"
      ],
      "text/plain": [
       "          0     1     2    3    4     5     6    7     8    9  ...  145  146  \\\n",
       "0        12     2   167  941   72   117   104  540   700    0  ...    0    0   \n",
       "1      3651    54    11    4    5    16  3285    2     1   16  ...    0    0   \n",
       "2         1   701  3829    0    0     0     0    0     0    0  ...    0    0   \n",
       "3       308    69     0    0    0     0     0    0     0    0  ...    0    0   \n",
       "4      3598     0     0    0    0     0     0    0     0    0  ...    0    0   \n",
       "...     ...   ...   ...  ...  ...   ...   ...  ...   ...  ...  ...  ...  ...   \n",
       "64244     7     2     5    0    0     0     0    0     0    0  ...    0    0   \n",
       "64245   298   217  4297    0    0     0     0    0     0    0  ...    0    0   \n",
       "64246     5     2     1  393   82     0     0    0     0    0  ...    0    0   \n",
       "64247   108  1353     9   86  555  1879   537    1  2468  171  ...    0    0   \n",
       "64248   440     7     2  217    0     0     0    0     0    0  ...    0    0   \n",
       "\n",
       "       147  148  149                                               text  \\\n",
       "0        0    0    0  Great Game terrible optimisation Hopefully the...   \n",
       "1        0    0    0  Huh I actually don t like it I ve NUMBER  ed e...   \n",
       "2        0    0    0       very trashy talking about the tsev skyrim le   \n",
       "3        0    0    0                                        Lag as shit   \n",
       "4        0    0    0                               Precarious policies    \n",
       "...    ...  ...  ...                                                ...   \n",
       "64244    0    0    0                                good game i like it   \n",
       "64245    0    0    0  It just runs really well and is super streamli...   \n",
       "64246    0    0    0     I like tthis game iot have gun and it have a b   \n",
       "64247    0    0    0  Bought it again for the 3rd time on PC had nor...   \n",
       "64248    0    0    0                 damn good game and super addicting   \n",
       "\n",
       "       label  pred_mlp  pred_rnn  pred_lstm  \n",
       "0        0.0         0         0          0  \n",
       "1        0.0         0         0          0  \n",
       "2        0.0         0         1          0  \n",
       "3        0.0         0         0          0  \n",
       "4        0.0         0         0          0  \n",
       "...      ...       ...       ...        ...  \n",
       "64244    1.0         1         1          1  \n",
       "64245    1.0         1         1          1  \n",
       "64246    1.0         1         1          1  \n",
       "64247    1.0         1         1          1  \n",
       "64248    1.0         1         1          1  \n",
       "\n",
       "[64249 rows x 155 columns]"
      ]
     },
     "execution_count": 94,
     "metadata": {},
     "output_type": "execute_result"
    }
   ],
   "source": [
    "data_docs_padded"
   ]
  },
  {
   "cell_type": "code",
   "execution_count": 95,
   "id": "d802a689",
   "metadata": {
    "ExecuteTime": {
     "end_time": "2022-05-11T20:06:09.257756Z",
     "start_time": "2022-05-11T20:06:07.435971Z"
    }
   },
   "outputs": [],
   "source": [
    "data_docs_padded.to_csv('./Data/model_preds.csv')"
   ]
  },
  {
   "cell_type": "code",
   "execution_count": null,
   "id": "e3aab860",
   "metadata": {},
   "outputs": [],
   "source": []
  },
  {
   "cell_type": "code",
   "execution_count": null,
   "id": "e7bac218",
   "metadata": {},
   "outputs": [],
   "source": []
  }
 ],
 "metadata": {
  "kernelspec": {
   "display_name": "Python 3 (ipykernel)",
   "language": "python",
   "name": "python3"
  },
  "language_info": {
   "codemirror_mode": {
    "name": "ipython",
    "version": 3
   },
   "file_extension": ".py",
   "mimetype": "text/x-python",
   "name": "python",
   "nbconvert_exporter": "python",
   "pygments_lexer": "ipython3",
   "version": "3.7.11"
  },
  "toc": {
   "base_numbering": 1,
   "nav_menu": {},
   "number_sections": true,
   "sideBar": true,
   "skip_h1_title": false,
   "title_cell": "Table of Contents",
   "title_sidebar": "Contents",
   "toc_cell": false,
   "toc_position": {
    "height": "calc(100% - 180px)",
    "left": "10px",
    "top": "150px",
    "width": "273.796875px"
   },
   "toc_section_display": true,
   "toc_window_display": true
  },
  "varInspector": {
   "cols": {
    "lenName": 16,
    "lenType": 16,
    "lenVar": 40
   },
   "kernels_config": {
    "python": {
     "delete_cmd_postfix": "",
     "delete_cmd_prefix": "del ",
     "library": "var_list.py",
     "varRefreshCmd": "print(var_dic_list())"
    },
    "r": {
     "delete_cmd_postfix": ") ",
     "delete_cmd_prefix": "rm(",
     "library": "var_list.r",
     "varRefreshCmd": "cat(var_dic_list()) "
    }
   },
   "types_to_exclude": [
    "module",
    "function",
    "builtin_function_or_method",
    "instance",
    "_Feature"
   ],
   "window_display": false
  }
 },
 "nbformat": 4,
 "nbformat_minor": 5
}
